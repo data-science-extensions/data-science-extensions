{
 "cells": [
  {
   "cell_type": "markdown",
   "id": "8ffda7b2",
   "metadata": {},
   "source": [
    "# Data Querying for Data Scientists\n",
    "\n",
    "### A Comprehensive Guide of using Pandas, SQL, PySpark, and Polars for Data Manipulation Techniques, with Practical Examples and Visualisations"
   ]
  },
  {
   "cell_type": "markdown",
   "id": "6ebfef57",
   "metadata": {},
   "source": [
    "## Introduction\n",
    "\n",
    "Working as a Data Scientist or Data Engineer often involves querying data from various sources. There are many tools and libraries available to perform these tasks, each with its own strengths and weaknesses. Also, there are many different ways to achieve similar results, depending on the tool or library used. It's important to be familiar with these different methods to choose the best one for your specific use case.\n",
    "\n",
    "This article provides a comprehensive guide on how to query data using different tools and libraries, including Pandas, SQL, PySpark, and Polars. Each section will cover the setup, data creation, and various querying techniques such as filtering, grouping, joining, window functions, ranking, and sorting. The output will be identical across all tools, but the transformations will be implemented using the specific syntax and features of each library. Therefore allowing you to compare the different approaches and understand the nuances of each method."
   ]
  },
  {
   "cell_type": "markdown",
   "id": "9b753026",
   "metadata": {},
   "source": [
    "## Overview of the Different Libraries\n",
    "\n",
    "Before we dive into the querying techniques, let's take a moment to understand the different libraries and tools we will be using in this article. Each library has its own strengths and weaknesses, and understanding these can help you choose the right tool for your specific use case.\n",
    "\n",
    "Throughout this article, you can easily switch between the different libraries by selecting the appropriate tab. Each section will provide the same functionality, but implemented using the specific syntax and features of each library.\n",
    "\n",
    "### Pandas\n",
    "\n",
    "[Pandas] is a powerful data manipulation library in Python that provides data structures and functions for working with structured data. It is widely used for data analysis and manipulation tasks.\n",
    "\n",
    "Historically, Pandas was one of the first libraries to provide a DataFrame structure, which is similar to a table in a relational database. It allows for easy data manipulation, filtering, grouping, and aggregation. Pandas is built on top of [NumPy][numpy] and provides a high-level interface for working with data. It is particularly well-suited for small to medium-sized datasets and is often used in Data Science and Machine Learning workflows.\n",
    "\n",
    "Pandas provides a rich set of functionalities for data manipulation, including filtering, grouping, joining, and window functions. It also integrates well with other libraries such as Matplotlib and Seaborn for data visualization, making it a popular choice among data scientists and analysts.\n",
    "\n",
    "While Pandas is both powerful and popular, it is important to note that it operates **in-memory**, which means that it may not be suitable for very large datasets that do not fit into memory. In such cases, other libraries like PySpark or Polars may be more appropriate.\n",
    "\n",
    "### SQL\n",
    "\n",
    "[SQL][sql-wiki] (Structured Query Language) is a standard language for managing and manipulating relational databases. It is widely used for querying and modifying data in databases. SQL is a declarative language, meaning that you specify what you want to retrieve or manipulate without detailing how to do it. This makes SQL queries concise and expressive. SQL is particularly well-suited for working with large datasets and complex queries. It provides powerful features for filtering, grouping, joining, and aggregating data. SQL is the backbone of many database systems.\n",
    "\n",
    "SQL is actually a language (like Python is a language), not a library (like Pandas is a library), and it is used to interact with relational databases. The core of the SQL language is actually an [ISO standard][sql-iso], which means that the basic syntax and functionality are consistent across different database systems. However, each database system may have its own extensions or variations of SQL, which can lead to differences in syntax and features. Each database system can be considered as variations (or dialects) of SQL, with their own specific features and optimizations and syntax ehnancements.\n",
    "\n",
    "Some of the more popular SQL dialects include:\n",
    "\n",
    "<div class=\"mdx-three-columns\" markdown>\n",
    "\n",
    "- [SQLite]\n",
    "- [PostgreSQL]\n",
    "- [MySQL]\n",
    "- [Spark SQL][spark-sql]\n",
    "- [SQL Server (t-SQL)][t-sql]\n",
    "- [Oracle SQL (pl-SQL)][pl-sql]\n",
    "\n",
    "</div>\n",
    "\n",
    "### PySpark\n",
    "\n",
    "[PySpark] is the Python API for Apache Spark, a distributed computing framework that allows for large-scale data processing. PySpark provides a high-level interface for working with Spark, making it easier to write distributed data processing applications in Python. It is particularly well-suited for big data processing and analytics.\n",
    "\n",
    "PySpark provides a DataFrame API similar to Pandas, but it is designed to work with large datasets that do not fit into memory. It allows for distributed data processing across a cluster of machines, making it suitable for big data applications. PySpark supports various data sources, including [HDFS], [S3], [ADLS], and [JDBC], and provides powerful features for filtering, grouping, joining, and aggregating data.\n",
    "\n",
    "While PySpark is a powerful tool for big data processing, it can be more complex to set up and use compared to Pandas. It requires a Spark cluster and may have a steeper learning curve for those unfamiliar with distributed computing concepts. However, it is an excellent choice for processing large datasets and performing complex data transformations.\n",
    "\n",
    "### Polars\n",
    "\n",
    "[Polars] is a fast DataFrame library for Python that is designed for high-performance data manipulation. It is built on top of Rust and provides a DataFrame API similar to Pandas, but with a focus on performance and memory efficiency. Polars is particularly well-suited for large datasets and complex queries.\n",
    "\n",
    "Polars supports lazy evaluation, which allows for optimizations in query execution. Polars also provides powerful features for filtering, grouping, joining, and aggregating data, making it a great choice for data analysis tasks.\n",
    "\n",
    "While Polars is a relatively new library compared to Pandas, it has gained popularity for its performance and ease of use. It is designed to be a drop-in replacement for Pandas, allowing users to leverage its performance benefits without significant changes to their existing code. It is particularly useful for data scientists and analysts who need to work with large datasets and require fast data manipulation capabilities. The setup is simple and straightforward, similar to Pandas, and less complex than PySpark. It is a great choice for data analysis tasks that require high performance and memory efficiency."
   ]
  },
  {
   "cell_type": "markdown",
   "id": "a0081199",
   "metadata": {},
   "source": [
    "## Setup\n",
    "\n",
    "Before we start querying data, we need to set up our environment. This includes importing the necessary libraries, creating sample data, and defining constants that will be used throughout the article. The following sections will guide you through this setup process. The code for this article is also available on GitHub: [querying-data](...) {==**UPDATE URL**==}.\n",
    "\n",
    "### Pandas"
   ]
  },
  {
   "cell_type": "code",
   "execution_count": null,
   "id": "c81e5d97",
   "metadata": {
    "incorrectly_encoded_metadata": "{.pandas linenums=\"1\" title=\"Setup\"}"
   },
   "outputs": [],
   "source": [
    "# StdLib Imports\n",
    "from typing import Any\n",
    "\n",
    "# Third Party Imports\n",
    "import numpy as np\n",
    "import pandas as pd\n",
    "from plotly import express as px, graph_objects as go, io as pio\n",
    "\n",
    "\n",
    "# Set seed for reproducibility\n",
    "np.random.seed(42)\n",
    "\n",
    "# Determine the number of records to generate\n",
    "n_records = 100\n",
    "\n",
    "# Set default Plotly template\n",
    "pio.templates.default = \"simple_white+gridon\""
   ]
  },
  {
   "cell_type": "markdown",
   "id": "d71b186b",
   "metadata": {},
   "source": [
    "### SQL"
   ]
  },
  {
   "cell_type": "code",
   "execution_count": null,
   "id": "3943848f",
   "metadata": {
    "incorrectly_encoded_metadata": "{.sql linenums=\"1\" title=\"Setup\"}"
   },
   "outputs": [],
   "source": [
    "# StdLib Imports\n",
    "import sqlite3\n",
    "from typing import Any\n",
    "\n",
    "# Third Party Imports\n",
    "import numpy as np\n",
    "import pandas as pd\n",
    "from plotly import express as px, graph_objects as go, io as pio\n",
    "\n",
    "\n",
    "# Set default Plotly template\n",
    "pio.templates.default = \"simple_white+gridon\""
   ]
  },
  {
   "cell_type": "markdown",
   "id": "90d6ba34",
   "metadata": {},
   "source": [
    "### PySpark"
   ]
  },
  {
   "cell_type": "code",
   "execution_count": null,
   "id": "f11338f2",
   "metadata": {
    "incorrectly_encoded_metadata": "{.pyspark linenums=\"1\" title=\"Setup\"}"
   },
   "outputs": [],
   "source": [
    "# StdLib Imports\n",
    "from typing import Any\n",
    "\n",
    "# Third Party Imports\n",
    "import numpy as np\n",
    "from plotly import express as px, graph_objects as go, io as pio\n",
    "from pyspark.sql import (\n",
    "    DataFrame as psDataFrame,\n",
    "    SparkSession,\n",
    "    Window,\n",
    "    functions as F,\n",
    "    types as T,\n",
    ")\n",
    "\n",
    "\n",
    "# Set seed for reproducibility\n",
    "np.random.seed(42)\n",
    "\n",
    "# Determine the number of records to generate\n",
    "n_records = 100\n",
    "\n",
    "# Set default Plotly template\n",
    "pio.templates.default = \"simple_white+gridon\""
   ]
  },
  {
   "cell_type": "markdown",
   "id": "6b156143",
   "metadata": {},
   "source": [
    "### Polars"
   ]
  },
  {
   "cell_type": "code",
   "execution_count": null,
   "id": "ecc59ee2",
   "metadata": {
    "incorrectly_encoded_metadata": "{.polars linenums=\"1\" title=\"Setup\"}"
   },
   "outputs": [],
   "source": [
    "# StdLib Imports\n",
    "from typing import Any\n",
    "\n",
    "# Third Party Imports\n",
    "import numpy as np\n",
    "import polars as pl\n",
    "from plotly import express as px, graph_objects as go, io as pio\n",
    "\n",
    "\n",
    "# Set seed for reproducibility\n",
    "np.random.seed(42)\n",
    "\n",
    "# Determine the number of records to generate\n",
    "n_records = 100\n",
    "\n",
    "# Set default Plotly template\n",
    "pio.templates.default = \"simple_white+gridon\""
   ]
  },
  {
   "cell_type": "markdown",
   "id": "11f1a72a",
   "metadata": {},
   "source": [
    "Once the setup is complete, we can proceed to create our sample data. This data will be used for querying and will be consistent across all libraries. All tables will be created from scratch with randomly generated data to simulate a real-world scenario. This is to ensure that the examples are self-contained and can be run without any external dependencies, and also there is no issues about data privacy or security.\n",
    "\n",
    "For the below data creation steps, we will be defining the tables using Python dictionaries. Each dictionary will represent a table, with keys as column names and values as lists of data. We will then convert these dictionaries into DataFrames or equivalent structures in each library.\n",
    "\n",
    "First, we will create a sales fact table. This table will contain information about sales transactions, including the date, customer ID, product ID, category, sales amount, and quantity sold."
   ]
  },
  {
   "cell_type": "code",
   "execution_count": null,
   "id": "a50b2c0c",
   "metadata": {
    "incorrectly_encoded_metadata": "{.python linenums=\"1\" title=\"Create Sales Fact Data\"}"
   },
   "outputs": [],
   "source": [
    "sales_data: dict[str, Any] = {\n",
    "    \"date\": pd.date_range(start=\"2023-01-01\", periods=n_records, freq=\"D\"),\n",
    "    \"customer_id\": np.random.randint(1, 100, n_records),\n",
    "    \"product_id\": np.random.randint(1, 50, n_records),\n",
    "    \"category\": np.random.choice([\"Electronics\", \"Clothing\", \"Food\", \"Books\", \"Home\"], n_records),\n",
    "    \"sales_amount\": np.random.uniform(10, 1000, n_records).round(2),\n",
    "    \"quantity\": np.random.randint(1, 10, n_records),\n",
    "}"
   ]
  },
  {
   "cell_type": "markdown",
   "id": "44e9b385",
   "metadata": {},
   "source": [
    "Next, we will create a product dimension table. This table will contain information about products, including the product ID, name, price, category, and supplier ID."
   ]
  },
  {
   "cell_type": "code",
   "execution_count": null,
   "id": "922d480a",
   "metadata": {
    "incorrectly_encoded_metadata": "{.python linenums=\"1\" title=\"Create Product Dimension Data\"}"
   },
   "outputs": [],
   "source": [
    "# Create product dimension table\n",
    "product_data: dict[str, Any] = {\n",
    "    \"product_id\": np.arange(1, 51),\n",
    "    \"product_name\": [f\"Product {i}\" for i in range(1, 51)],\n",
    "    \"price\": np.random.uniform(10, 500, 50).round(2),\n",
    "    \"category\": np.random.choice([\"Electronics\", \"Clothing\", \"Food\", \"Books\", \"Home\"], 50),\n",
    "    \"supplier_id\": np.random.randint(1, 10, 50),\n",
    "}"
   ]
  },
  {
   "cell_type": "markdown",
   "id": "d2160464",
   "metadata": {},
   "source": [
    "Finally, we will create a customer dimension table. This table will contain information about customers, including the customer ID, name, city, state, and segment."
   ]
  },
  {
   "cell_type": "code",
   "execution_count": null,
   "id": "22d3f7a5",
   "metadata": {
    "incorrectly_encoded_metadata": "{.python linenums=\"1\" title=\"Create Customer Dimension Data\"}"
   },
   "outputs": [],
   "source": [
    "# Create customer dimension table\n",
    "customer_data: dict[str, Any] = {\n",
    "    \"customer_id\": np.arange(1, 101),\n",
    "    \"customer_name\": [f\"Customer {i}\" for i in range(1, 101)],\n",
    "    \"city\": np.random.choice([\"New York\", \"Los Angeles\", \"Chicago\", \"Houston\", \"Phoenix\"], 100),\n",
    "    \"state\": np.random.choice([\"NY\", \"CA\", \"IL\", \"TX\", \"AZ\"], 100),\n",
    "    \"segment\": np.random.choice([\"Consumer\", \"Corporate\", \"Home Office\"], 100),\n",
    "}"
   ]
  },
  {
   "cell_type": "markdown",
   "id": "ca874a3b",
   "metadata": {},
   "source": [
    "Now that we have our sample data created, we can proceed to the querying section. Each of the following sections will demonstrate how to perform similar operations using the different libraries and methods, allowing you to compare and contrast their capabilities."
   ]
  },
  {
   "cell_type": "markdown",
   "id": "fe8fa228",
   "metadata": {},
   "source": [
    "## Create the DataFrames\n",
    "\n",
    "### Pandas\n",
    "\n",
    "To create the dataframes in Pandas, we will use the data we generated earlier. We will parse the dictionaries into Pandas DataFrames, which will allow us to perform various data manipulation tasks."
   ]
  },
  {
   "cell_type": "code",
   "execution_count": null,
   "id": "3bfde47c",
   "metadata": {
    "incorrectly_encoded_metadata": "{.pandas linenums=\"1\" title=\"Create DataFrames\"}"
   },
   "outputs": [],
   "source": [
    "df_sales_pd: pd.DataFrame = pd.DataFrame(sales_data)\n",
    "df_product_pd: pd.DataFrame = pd.DataFrame(product_data)\n",
    "df_customer_pd: pd.DataFrame = pd.DataFrame(customer_data)"
   ]
  },
  {
   "cell_type": "markdown",
   "id": "c0ed6d04",
   "metadata": {},
   "source": [
    "Once the data is created, we can check that it has been loaded correctly by displaying the first few rows of each DataFrame. To do this, we will use the [`.head()`][pandas-head] method to display the first 5 rows of each DataFrame, and then parse to the [`print()`][python-print] function to display the DataFrame in a readable format."
   ]
  },
  {
   "cell_type": "code",
   "execution_count": null,
   "id": "115f3c1a",
   "metadata": {
    "incorrectly_encoded_metadata": "{.pandas linenums=\"1\" title=\"Check Sales DataFrame\"}"
   },
   "outputs": [
    {
     "name": "stdout",
     "output_type": "stream",
     "text": [
      "Sales DataFrame: 100\n",
      "        date  customer_id  product_id     category  sales_amount  quantity\n",
      "0 2023-01-01           52          45         Food        490.76         7\n",
      "1 2023-01-02           93          41  Electronics        453.94         5\n",
      "2 2023-01-03           15          29         Home        994.51         5\n",
      "3 2023-01-04           72          15  Electronics        184.17         7\n",
      "4 2023-01-05           61          45         Food         27.89         9\n",
      "|    | date                |   customer_id |   product_id | category    |   sales_amount |   quantity |\n",
      "|---:|:--------------------|--------------:|-------------:|:------------|---------------:|-----------:|\n",
      "|  0 | 2023-01-01 00:00:00 |            52 |           45 | Food        |         490.76 |          7 |\n",
      "|  1 | 2023-01-02 00:00:00 |            93 |           41 | Electronics |         453.94 |          5 |\n",
      "|  2 | 2023-01-03 00:00:00 |            15 |           29 | Home        |         994.51 |          5 |\n",
      "|  3 | 2023-01-04 00:00:00 |            72 |           15 | Electronics |         184.17 |          7 |\n",
      "|  4 | 2023-01-05 00:00:00 |            61 |           45 | Food        |          27.89 |          9 |\n"
     ]
    }
   ],
   "source": [
    "print(f\"Sales DataFrame: {len(df_sales_pd)}\")\n",
    "print(df_sales_pd.head(5))\n",
    "print(df_sales_pd.head(5).to_markdown())"
   ]
  },
  {
   "cell_type": "markdown",
   "id": "fab5ad21",
   "metadata": {},
   "source": [
    "<div class=\"result\" markdown>\n",
    "\n",
    "```txt\n",
    "Sales DataFrame: 100\n",
    "```\n",
    "\n",
    "```txt\n",
    "        date  customer_id  product_id     category  sales_amount  quantity\n",
    "0 2023-01-01           52          45         Food        490.76         7\n",
    "1 2023-01-02           93          41  Electronics        453.94         5\n",
    "2 2023-01-03           15          29         Home        994.51         5\n",
    "3 2023-01-04           72          15  Electronics        184.17         7\n",
    "4 2023-01-05           61          45         Food         27.89         9\n",
    "```\n",
    "\n",
    "|      | date                | customer_id | product_id | category    | sales_amount | quantity |\n",
    "| ---: | :------------------ | ----------: | ---------: | :---------- | -----------: | -------: |\n",
    "|    0 | 2023-01-01 00:00:00 |          52 |         45 | Food        |       490.76 |        7 |\n",
    "|    1 | 2023-01-02 00:00:00 |          93 |         41 | Electronics |       453.94 |        5 |\n",
    "|    2 | 2023-01-03 00:00:00 |          15 |         29 | Home        |       994.51 |        5 |\n",
    "|    3 | 2023-01-04 00:00:00 |          72 |         15 | Electronics |       184.17 |        7 |\n",
    "|    4 | 2023-01-05 00:00:00 |          61 |         45 | Food        |        27.89 |        9 |\n",
    "\n",
    "</div>"
   ]
  },
  {
   "cell_type": "code",
   "execution_count": null,
   "id": "5fcbe7c6",
   "metadata": {
    "incorrectly_encoded_metadata": "{.pandas linenums=\"1\" title=\"Check Product DataFrame\"}"
   },
   "outputs": [
    {
     "name": "stdout",
     "output_type": "stream",
     "text": [
      "Product DataFrame: 50\n",
      "   product_id product_name   price  category  supplier_id\n",
      "0           1    Product 1  257.57      Food            8\n",
      "1           2    Product 2  414.96  Clothing            5\n",
      "2           3    Product 3  166.82  Clothing            8\n",
      "3           4    Product 4  448.81      Food            4\n",
      "4           5    Product 5  200.71      Food            8\n",
      "|    |   product_id | product_name   |   price | category   |   supplier_id |\n",
      "|---:|-------------:|:---------------|--------:|:-----------|--------------:|\n",
      "|  0 |            1 | Product 1      |  257.57 | Food       |             8 |\n",
      "|  1 |            2 | Product 2      |  414.96 | Clothing   |             5 |\n",
      "|  2 |            3 | Product 3      |  166.82 | Clothing   |             8 |\n",
      "|  3 |            4 | Product 4      |  448.81 | Food       |             4 |\n",
      "|  4 |            5 | Product 5      |  200.71 | Food       |             8 |\n"
     ]
    }
   ],
   "source": [
    "print(f\"Product DataFrame: {len(df_product_pd)}\")\n",
    "print(df_product_pd.head(5))\n",
    "print(df_product_pd.head(5).to_markdown())"
   ]
  },
  {
   "cell_type": "markdown",
   "id": "ca92d474",
   "metadata": {},
   "source": [
    "<div class=\"result\" markdown>\n",
    "\n",
    "```txt\n",
    "Product DataFrame: 50\n",
    "```\n",
    "\n",
    "```txt\n",
    "   product_id product_name   price  category  supplier_id\n",
    "0           1    Product 1  257.57      Food            8\n",
    "1           2    Product 2  414.96  Clothing            5\n",
    "2           3    Product 3  166.82  Clothing            8\n",
    "3           4    Product 4  448.81      Food            4\n",
    "4           5    Product 5  200.71      Food            8\n",
    "```\n",
    "\n",
    "|      | product_id | product_name |  price | category | supplier_id |\n",
    "| ---: | ---------: | :----------- | -----: | :------- | ----------: |\n",
    "|    0 |          1 | Product 1    | 257.57 | Food     |           8 |\n",
    "|    1 |          2 | Product 2    | 414.96 | Clothing |           5 |\n",
    "|    2 |          3 | Product 3    | 166.82 | Clothing |           8 |\n",
    "|    3 |          4 | Product 4    | 448.81 | Food     |           4 |\n",
    "|    4 |          5 | Product 5    | 200.71 | Food     |           8 |\n",
    "\n",
    "</div>"
   ]
  },
  {
   "cell_type": "code",
   "execution_count": null,
   "id": "13a25ed5",
   "metadata": {
    "incorrectly_encoded_metadata": "{.pandas linenums=\"1\" title=\"Check Customer DataFrame\"}"
   },
   "outputs": [
    {
     "name": "stdout",
     "output_type": "stream",
     "text": [
      "Customer DataFrame: 100\n",
      "   customer_id customer_name         city state      segment\n",
      "0            1    Customer 1      Phoenix    NY    Corporate\n",
      "1            2    Customer 2      Phoenix    CA  Home Office\n",
      "2            3    Customer 3      Phoenix    NY  Home Office\n",
      "3            4    Customer 4  Los Angeles    NY     Consumer\n",
      "4            5    Customer 5  Los Angeles    IL  Home Office\n",
      "|    |   customer_id | customer_name   | city        | state   | segment     |\n",
      "|---:|--------------:|:----------------|:------------|:--------|:------------|\n",
      "|  0 |             1 | Customer 1      | Phoenix     | NY      | Corporate   |\n",
      "|  1 |             2 | Customer 2      | Phoenix     | CA      | Home Office |\n",
      "|  2 |             3 | Customer 3      | Phoenix     | NY      | Home Office |\n",
      "|  3 |             4 | Customer 4      | Los Angeles | NY      | Consumer    |\n",
      "|  4 |             5 | Customer 5      | Los Angeles | IL      | Home Office |\n"
     ]
    }
   ],
   "source": [
    "print(f\"Customer DataFrame: {len(df_customer_pd)}\")\n",
    "print(df_customer_pd.head(5))\n",
    "print(df_customer_pd.head(5).to_markdown())"
   ]
  },
  {
   "cell_type": "markdown",
   "id": "3d728034",
   "metadata": {},
   "source": [
    "<div class=\"result\" markdown>\n",
    "\n",
    "```txt\n",
    "Customer DataFrame: 100\n",
    "```\n",
    "\n",
    "```txt\n",
    "   customer_id customer_name         city state      segment\n",
    "0            1    Customer 1      Phoenix    NY    Corporate\n",
    "1            2    Customer 2      Phoenix    CA  Home Office\n",
    "2            3    Customer 3      Phoenix    NY  Home Office\n",
    "3            4    Customer 4  Los Angeles    NY     Consumer\n",
    "4            5    Customer 5  Los Angeles    IL  Home Office\n",
    "```\n",
    "\n",
    "|      | customer_id | customer_name | city        | state | segment     |\n",
    "| ---: | ----------: | :------------ | :---------- | :---- | :---------- |\n",
    "|    0 |           1 | Customer 1    | Phoenix     | NY    | Corporate   |\n",
    "|    1 |           2 | Customer 2    | Phoenix     | CA    | Home Office |\n",
    "|    2 |           3 | Customer 3    | Phoenix     | NY    | Home Office |\n",
    "|    3 |           4 | Customer 4    | Los Angeles | NY    | Consumer    |\n",
    "|    4 |           5 | Customer 5    | Los Angeles | IL    | Home Office |\n",
    "\n",
    "</div>\n",
    "\n",
    "### SQL\n",
    "\n",
    "To create the dataframes in SQL, we will use the data we generated earlier. Firstly, we need to create the SQLite database. This will be an in-memory database for demonstration purposes, but in a real-world scenario, you would typically connect to a persistent (on-disk) database. To do this, we will use the [`sqlite3`][sqlite3] library to create a connection to the database, which we define with the `:memory:` parameter on the [`.connect()`][sqlite3-connect] function. The result is to create a temporary database that exists only during the lifetime of the connection.\n",
    "\n",
    "Next, we will then parse the dictionaries into Pandas DataFrames, which will then be loaded into an SQLite database. This allows us to perform various data manipulation tasks using SQL queries."
   ]
  },
  {
   "cell_type": "code",
   "execution_count": null,
   "id": "4efd6b43",
   "metadata": {
    "incorrectly_encoded_metadata": "{.sql linenums=\"1\" title=\"Create DataFrames\"}"
   },
   "outputs": [
    {
     "data": {
      "text/plain": [
       "100"
      ]
     },
     "execution_count": 134,
     "metadata": {},
     "output_type": "execute_result"
    }
   ],
   "source": [
    "# Creates SQLite database and tables\n",
    "conn: sqlite3.Connection = sqlite3.connect(\":memory:\")\n",
    "pd.DataFrame(sales_data).to_sql(\"sales\", conn, index=False, if_exists=\"replace\")\n",
    "pd.DataFrame(product_data).to_sql(\"product\", conn, index=False, if_exists=\"replace\")\n",
    "pd.DataFrame(customer_data).to_sql(\"customer\", conn, index=False, if_exists=\"replace\")"
   ]
  },
  {
   "cell_type": "markdown",
   "id": "e9e1d124",
   "metadata": {},
   "source": [
    "Once the data is created, we can check that it has been loaded correctly by displaying the first few rows of each DataFrame. To do this, we will use the [`pd.read_sql()`][pandas-read_sql] function to execute SQL queries and retrieve the data from the database. We will then parse the results to the [`print()`][python-print] function to display the DataFrame in a readable format."
   ]
  },
  {
   "cell_type": "code",
   "execution_count": null,
   "id": "a1a4ef3c",
   "metadata": {
    "incorrectly_encoded_metadata": "{.sql linenums=\"1\" title=\"Check Sales DataFrame\"}"
   },
   "outputs": [
    {
     "name": "stdout",
     "output_type": "stream",
     "text": [
      "Sales Table: 100\n",
      "                  date  customer_id  product_id     category  sales_amount  \\\n",
      "0  2023-01-01 00:00:00           52          45         Food        490.76   \n",
      "1  2023-01-02 00:00:00           93          41  Electronics        453.94   \n",
      "2  2023-01-03 00:00:00           15          29         Home        994.51   \n",
      "3  2023-01-04 00:00:00           72          15  Electronics        184.17   \n",
      "4  2023-01-05 00:00:00           61          45         Food         27.89   \n",
      "\n",
      "   quantity  \n",
      "0         7  \n",
      "1         5  \n",
      "2         5  \n",
      "3         7  \n",
      "4         9  \n",
      "|    | date                |   customer_id |   product_id | category    |   sales_amount |   quantity |\n",
      "|---:|:--------------------|--------------:|-------------:|:------------|---------------:|-----------:|\n",
      "|  0 | 2023-01-01 00:00:00 |            52 |           45 | Food        |         490.76 |          7 |\n",
      "|  1 | 2023-01-02 00:00:00 |            93 |           41 | Electronics |         453.94 |          5 |\n",
      "|  2 | 2023-01-03 00:00:00 |            15 |           29 | Home        |         994.51 |          5 |\n",
      "|  3 | 2023-01-04 00:00:00 |            72 |           15 | Electronics |         184.17 |          7 |\n",
      "|  4 | 2023-01-05 00:00:00 |            61 |           45 | Food        |          27.89 |          9 |\n"
     ]
    }
   ],
   "source": [
    "print(f\"Sales Table: {len(pd.read_sql('SELECT * FROM sales', conn))}\")\n",
    "print(pd.read_sql(\"SELECT * FROM sales LIMIT 5\", conn))\n",
    "print(pd.read_sql(\"SELECT * FROM sales LIMIT 5\", conn).to_markdown())"
   ]
  },
  {
   "cell_type": "markdown",
   "id": "acd1bbe8",
   "metadata": {},
   "source": [
    "<div class=\"result\" markdown>\n",
    "\n",
    "```txt\n",
    "Sales Table: 100\n",
    "```\n",
    "\n",
    "```txt\n",
    "                  date  customer_id  product_id     category  sales_amount  quantity\n",
    "0  2023-01-01 00:00:00           52          45         Food        490.76         7\n",
    "1  2023-01-02 00:00:00           93          41  Electronics        453.94         5\n",
    "2  2023-01-03 00:00:00           15          29         Home        994.51         5\n",
    "3  2023-01-04 00:00:00           72          15  Electronics        184.17         7\n",
    "4  2023-01-05 00:00:00           61          45         Food         27.89         9\n",
    "```\n",
    "\n",
    "|      | date                | customer_id | product_id | category    | sales_amount | quantity |\n",
    "| ---: | :------------------ | ----------: | ---------: | :---------- | -----------: | -------: |\n",
    "|    0 | 2023-01-01 00:00:00 |          52 |         45 | Food        |       490.76 |        7 |\n",
    "|    1 | 2023-01-02 00:00:00 |          93 |         41 | Electronics |       453.94 |        5 |\n",
    "|    2 | 2023-01-03 00:00:00 |          15 |         29 | Home        |       994.51 |        5 |\n",
    "|    3 | 2023-01-04 00:00:00 |          72 |         15 | Electronics |       184.17 |        7 |\n",
    "|    4 | 2023-01-05 00:00:00 |          61 |         45 | Food        |        27.89 |        9 |\n",
    "\n",
    "</div>"
   ]
  },
  {
   "cell_type": "code",
   "execution_count": null,
   "id": "be31f657",
   "metadata": {
    "incorrectly_encoded_metadata": "{.sql linenums=\"1\" title=\"Check Product DataFrame\"}"
   },
   "outputs": [
    {
     "name": "stdout",
     "output_type": "stream",
     "text": [
      "Product Table: 50\n",
      "   product_id product_name   price  category  supplier_id\n",
      "0           1    Product 1  257.57      Food            8\n",
      "1           2    Product 2  414.96  Clothing            5\n",
      "2           3    Product 3  166.82  Clothing            8\n",
      "3           4    Product 4  448.81      Food            4\n",
      "4           5    Product 5  200.71      Food            8\n"
     ]
    },
    {
     "name": "stdout",
     "output_type": "stream",
     "text": [
      "|    |   product_id | product_name   |   price | category   |   supplier_id |\n",
      "|---:|-------------:|:---------------|--------:|:-----------|--------------:|\n",
      "|  0 |            1 | Product 1      |  257.57 | Food       |             8 |\n",
      "|  1 |            2 | Product 2      |  414.96 | Clothing   |             5 |\n",
      "|  2 |            3 | Product 3      |  166.82 | Clothing   |             8 |\n",
      "|  3 |            4 | Product 4      |  448.81 | Food       |             4 |\n",
      "|  4 |            5 | Product 5      |  200.71 | Food       |             8 |\n"
     ]
    }
   ],
   "source": [
    "print(f\"Product Table: {len(pd.read_sql('SELECT * FROM product', conn))}\")\n",
    "print(pd.read_sql(\"SELECT * FROM product LIMIT 5\", conn))\n",
    "print(pd.read_sql(\"SELECT * FROM product LIMIT 5\", conn).to_markdown())"
   ]
  },
  {
   "cell_type": "markdown",
   "id": "803c0d02",
   "metadata": {},
   "source": [
    "<div class=\"result\" markdown>\n",
    "\n",
    "```txt\n",
    "Product Table: 50\n",
    "```\n",
    "\n",
    "```txt\n",
    "   product_id product_name   price  category  supplier_id\n",
    "0           1    Product 1  257.57      Food            8\n",
    "1           2    Product 2  414.96  Clothing            5\n",
    "2           3    Product 3  166.82  Clothing            8\n",
    "3           4    Product 4  448.81      Food            4\n",
    "4           5    Product 5  200.71      Food            8\n",
    "```\n",
    "\n",
    "|      | product_id | product_name |  price | category | supplier_id |\n",
    "| ---: | ---------: | :----------- | -----: | :------- | ----------: |\n",
    "|    0 |          1 | Product 1    | 257.57 | Food     |           8 |\n",
    "|    1 |          2 | Product 2    | 414.96 | Clothing |           5 |\n",
    "|    2 |          3 | Product 3    | 166.82 | Clothing |           8 |\n",
    "|    3 |          4 | Product 4    | 448.81 | Food     |           4 |\n",
    "|    4 |          5 | Product 5    | 200.71 | Food     |           8 |\n",
    "\n",
    "</div>"
   ]
  },
  {
   "cell_type": "code",
   "execution_count": null,
   "id": "85c79dd0",
   "metadata": {
    "incorrectly_encoded_metadata": "{.sql linenums=\"1\" title=\"Check Customer DataFrame\"}"
   },
   "outputs": [
    {
     "name": "stdout",
     "output_type": "stream",
     "text": [
      "Customer Table: 100\n",
      "   customer_id customer_name         city state      segment\n",
      "0            1    Customer 1      Phoenix    NY    Corporate\n",
      "1            2    Customer 2      Phoenix    CA  Home Office\n",
      "2            3    Customer 3      Phoenix    NY  Home Office\n",
      "3            4    Customer 4  Los Angeles    NY     Consumer\n",
      "4            5    Customer 5  Los Angeles    IL  Home Office\n",
      "|    |   customer_id | customer_name   | city        | state   | segment     |\n",
      "|---:|--------------:|:----------------|:------------|:--------|:------------|\n",
      "|  0 |             1 | Customer 1      | Phoenix     | NY      | Corporate   |\n",
      "|  1 |             2 | Customer 2      | Phoenix     | CA      | Home Office |\n",
      "|  2 |             3 | Customer 3      | Phoenix     | NY      | Home Office |\n",
      "|  3 |             4 | Customer 4      | Los Angeles | NY      | Consumer    |\n",
      "|  4 |             5 | Customer 5      | Los Angeles | IL      | Home Office |\n"
     ]
    }
   ],
   "source": [
    "print(f\"Customer Table: {len(pd.read_sql('SELECT * FROM customer', conn))}\")\n",
    "print(pd.read_sql(\"SELECT * FROM customer LIMIT 5\", conn))\n",
    "print(pd.read_sql(\"SELECT * FROM customer LIMIT 5\", conn).to_markdown())"
   ]
  },
  {
   "cell_type": "markdown",
   "id": "77957f54",
   "metadata": {},
   "source": [
    "<div class=\"result\" markdown>\n",
    "\n",
    "```txt\n",
    "Customer Table: 100\n",
    "```\n",
    "\n",
    "```txt\n",
    "   customer_id customer_name         city state      segment\n",
    "0            1    Customer 1      Phoenix    NY    Corporate\n",
    "1            2    Customer 2      Phoenix    CA  Home Office\n",
    "2            3    Customer 3      Phoenix    NY  Home Office\n",
    "3            4    Customer 4  Los Angeles    NY     Consumer\n",
    "4            5    Customer 5  Los Angeles    IL  Home Office\n",
    "```\n",
    "\n",
    "|      | customer_id | customer_name | city        | state | segment     |\n",
    "| ---: | ----------: | :------------ | :---------- | :---- | :---------- |\n",
    "|    0 |           1 | Customer 1    | Phoenix     | NY    | Corporate   |\n",
    "|    1 |           2 | Customer 2    | Phoenix     | CA    | Home Office |\n",
    "|    2 |           3 | Customer 3    | Phoenix     | NY    | Home Office |\n",
    "|    3 |           4 | Customer 4    | Los Angeles | NY    | Consumer    |\n",
    "|    4 |           5 | Customer 5    | Los Angeles | IL    | Home Office |\n",
    "\n",
    "</div>\n",
    "\n",
    "### PySpark\n",
    "\n",
    "Spark DataFrames are similar to Pandas DataFrames, but they are designed to work with large datasets that do not fit into memory. They can be distributed across a cluster of machines, allowing for parallel processing of data.\n",
    "\n",
    "To create the dataframes in PySpark, we will use the data we generated earlier. We will first create a Spark session, which is the entry point to using PySpark. Then, we will parse the dictionaries into PySpark DataFrames, which will allow us to perform various data manipulation tasks.\n",
    "\n",
    "The PySpark session is created using the [`.builder`][pyspark-builder] method on the [`SparkSession`][pyspark-sparksession] class, which allows us to configure the session with various options such as the application name. The [`.getOrCreate()`][pyspark-getorcreate] method is used to either get an existing session or create a new one if it doesn't exist."
   ]
  },
  {
   "cell_type": "code",
   "execution_count": null,
   "id": "dc76ef77",
   "metadata": {
    "incorrectly_encoded_metadata": "{.pyspark linenums=\"1\" title=\"Create Spark Session\"}"
   },
   "outputs": [],
   "source": [
    "spark: SparkSession = SparkSession.builder.appName(\"SalesAnalysis\").getOrCreate()"
   ]
  },
  {
   "cell_type": "markdown",
   "id": "9638bcf8",
   "metadata": {},
   "source": [
    "Once the Spark session is created, we can create the DataFrames from the dictionaries. We will  use the [`.createDataFrame()`][pyspark-createdataframe] method on the Spark session to convert the dictionaries into PySpark DataFrames. The [`.createDataFrame()`][pyspark-createdataframe] method is expecting the data to be oriented by _row_. Meaning that the data should be in the form of a list of dictionaries, where each dictionary represents a row of data. However, we currently have our data is oriented by _column_, where the dictionarieshave keys as column names and values as lists of data. Therefore, we will first need to convert the dictionaries from _column_ orientation to _row_ orientation. The easiest way to do this is by parse'ing the data to a Pandas DataFrames, and then using that to create our PySpark DataFrames from there.\n",
    "\n",
    "A good description of how to create PySpark DataFrames from Python Dictionaries can be found in the PySpark documentation: [PySpark Create DataFrame From Dictionary][pyspark-create-dataframe-from-dict]."
   ]
  },
  {
   "cell_type": "code",
   "execution_count": null,
   "id": "fc59b1d2",
   "metadata": {
    "incorrectly_encoded_metadata": "{.pyspark linenums=\"1\" title=\"Create DataFrames\"}"
   },
   "outputs": [],
   "source": [
    "df_sales_ps: psDataFrame = spark.createDataFrame(pd.DataFrame(sales_data))\n",
    "df_product_ps: psDataFrame = spark.createDataFrame(pd.DataFrame(product_data))\n",
    "df_customer_ps: psDataFrame = spark.createDataFrame(pd.DataFrame(customer_data))"
   ]
  },
  {
   "cell_type": "markdown",
   "id": "79738a21",
   "metadata": {},
   "source": [
    "Once the data is created, we can check that it has been loaded correctly by displaying the first few rows of each DataFrame. To do this, we will use the [`.show()`][pyspark-show] method to display the first `5` rows of each DataFrame. The [`.show()`][pyspark-show] method is used to display the data in a tabular format, similar to how it would be displayed in a SQL database."
   ]
  },
  {
   "cell_type": "code",
   "execution_count": null,
   "id": "63b17fcc",
   "metadata": {
    "incorrectly_encoded_metadata": "{.pyspark linenums=\"1\" title=\"Check Sales DataFrame\"}"
   },
   "outputs": [
    {
     "name": "stdout",
     "output_type": "stream",
     "text": [
      "Sales DataFrame: 100\n",
      "+-------------------+-----------+----------+-----------+------------+--------+\n",
      "|               date|customer_id|product_id|   category|sales_amount|quantity|\n",
      "+-------------------+-----------+----------+-----------+------------+--------+\n",
      "|2023-01-01 00:00:00|         52|        45|       Food|      490.76|       7|\n",
      "|2023-01-02 00:00:00|         93|        41|Electronics|      453.94|       5|\n",
      "|2023-01-03 00:00:00|         15|        29|       Home|      994.51|       5|\n",
      "|2023-01-04 00:00:00|         72|        15|Electronics|      184.17|       7|\n",
      "|2023-01-05 00:00:00|         61|        45|       Food|       27.89|       9|\n",
      "+-------------------+-----------+----------+-----------+------------+--------+\n",
      "only showing top 5 rows\n",
      "\n",
      "|    | date                |   customer_id |   product_id | category    |   sales_amount |   quantity |\n",
      "|---:|:--------------------|--------------:|-------------:|:------------|---------------:|-----------:|\n",
      "|  0 | 2023-01-01 00:00:00 |            52 |           45 | Food        |         490.76 |          7 |\n",
      "|  1 | 2023-01-02 00:00:00 |            93 |           41 | Electronics |         453.94 |          5 |\n",
      "|  2 | 2023-01-03 00:00:00 |            15 |           29 | Home        |         994.51 |          5 |\n",
      "|  3 | 2023-01-04 00:00:00 |            72 |           15 | Electronics |         184.17 |          7 |\n",
      "|  4 | 2023-01-05 00:00:00 |            61 |           45 | Food        |          27.89 |          9 |\n"
     ]
    }
   ],
   "source": [
    "print(f\"Sales DataFrame: {df_sales_ps.count()}\")\n",
    "df_sales_ps.show(5)\n",
    "print(df_sales_ps.limit(5).toPandas().to_markdown())"
   ]
  },
  {
   "cell_type": "markdown",
   "id": "d79fb1ac",
   "metadata": {},
   "source": [
    "<div class=\"result\" markdown>\n",
    "\n",
    "```txt\n",
    "Sales DataFrame: 100\n",
    "```\n",
    "\n",
    "```txt\n",
    "+-------------------+-----------+----------+-----------+------------+--------+\n",
    "|               date|customer_id|product_id|   category|sales_amount|quantity|\n",
    "+-------------------+-----------+----------+-----------+------------+--------+\n",
    "|2023-01-01 00:00:00|         52|        45|       Food|      490.76|       7|\n",
    "|2023-01-02 00:00:00|         93|        41|Electronics|      453.94|       5|\n",
    "|2023-01-03 00:00:00|         15|        29|       Home|      994.51|       5|\n",
    "|2023-01-04 00:00:00|         72|        15|Electronics|      184.17|       7|\n",
    "|2023-01-05 00:00:00|         61|        45|       Food|       27.89|       9|\n",
    "+-------------------+-----------+----------+-----------+------------+--------+\n",
    "only showing top 10 rows\n",
    "```\n",
    "\n",
    "|      | date                | customer_id | product_id | category    | sales_amount | quantity |\n",
    "| ---: | :------------------ | ----------: | ---------: | :---------- | -----------: | -------: |\n",
    "|    0 | 2023-01-01 00:00:00 |          52 |         45 | Food        |       490.76 |        7 |\n",
    "|    1 | 2023-01-02 00:00:00 |          93 |         41 | Electronics |       453.94 |        5 |\n",
    "|    2 | 2023-01-03 00:00:00 |          15 |         29 | Home        |       994.51 |        5 |\n",
    "|    3 | 2023-01-04 00:00:00 |          72 |         15 | Electronics |       184.17 |        7 |\n",
    "|    4 | 2023-01-05 00:00:00 |          61 |         45 | Food        |        27.89 |        9 |\n",
    "\n",
    "</div>"
   ]
  },
  {
   "cell_type": "code",
   "execution_count": null,
   "id": "f81d4aa6",
   "metadata": {
    "incorrectly_encoded_metadata": "{.pyspark linenums=\"1\" title=\"Check Product DataFrame\"}"
   },
   "outputs": [
    {
     "name": "stdout",
     "output_type": "stream",
     "text": [
      "Product DataFrame: 50\n",
      "+----------+------------+------+--------+-----------+\n",
      "|product_id|product_name| price|category|supplier_id|\n",
      "+----------+------------+------+--------+-----------+\n",
      "|         1|   Product 1|257.57|    Food|          8|\n",
      "|         2|   Product 2|414.96|Clothing|          5|\n",
      "|         3|   Product 3|166.82|Clothing|          8|\n",
      "|         4|   Product 4|448.81|    Food|          4|\n",
      "|         5|   Product 5|200.71|    Food|          8|\n",
      "+----------+------------+------+--------+-----------+\n",
      "only showing top 5 rows\n",
      "\n",
      "|    |   product_id | product_name   |   price | category   |   supplier_id |\n",
      "|---:|-------------:|:---------------|--------:|:-----------|--------------:|\n",
      "|  0 |            1 | Product 1      |  257.57 | Food       |             8 |\n",
      "|  1 |            2 | Product 2      |  414.96 | Clothing   |             5 |\n",
      "|  2 |            3 | Product 3      |  166.82 | Clothing   |             8 |\n",
      "|  3 |            4 | Product 4      |  448.81 | Food       |             4 |\n",
      "|  4 |            5 | Product 5      |  200.71 | Food       |             8 |\n"
     ]
    }
   ],
   "source": [
    "print(f\"Product DataFrame: {df_product_ps.count()}\")\n",
    "df_product_ps.show(5)\n",
    "print(df_product_ps.limit(5).toPandas().to_markdown())"
   ]
  },
  {
   "cell_type": "markdown",
   "id": "4d8a23b5",
   "metadata": {},
   "source": [
    "<div class=\"result\" markdown>\n",
    "\n",
    "```txt\n",
    "Product DataFrame: 50\n",
    "```\n",
    "\n",
    "```txt\n",
    "+----------+------------+------+--------+-----------+\n",
    "|product_id|product_name| price|category|supplier_id|\n",
    "+----------+------------+------+--------+-----------+\n",
    "|         1|   Product 1|257.57|    Food|          8|\n",
    "|         2|   Product 2|414.96|Clothing|          5|\n",
    "|         3|   Product 3|166.82|Clothing|          8|\n",
    "|         4|   Product 4|448.81|    Food|          4|\n",
    "|         5|   Product 5|200.71|    Food|          8|\n",
    "+----------+------------+------+--------+-----------+\n",
    "only showing top 5 rows\n",
    "```\n",
    "\n",
    "|      | product_id | product_name |  price | category | supplier_id |\n",
    "| ---: | ---------: | :----------- | -----: | :------- | ----------: |\n",
    "|    0 |          1 | Product 1    | 257.57 | Food     |           8 |\n",
    "|    1 |          2 | Product 2    | 414.96 | Clothing |           5 |\n",
    "|    2 |          3 | Product 3    | 166.82 | Clothing |           8 |\n",
    "|    3 |          4 | Product 4    | 448.81 | Food     |           4 |\n",
    "|    4 |          5 | Product 5    | 200.71 | Food     |           8 |\n",
    "\n",
    "</div>"
   ]
  },
  {
   "cell_type": "code",
   "execution_count": null,
   "id": "b1ef57d0",
   "metadata": {
    "incorrectly_encoded_metadata": "{.pyspark linenums=\"1\" title=\"Check Customer DataFrame\"}"
   },
   "outputs": [
    {
     "name": "stdout",
     "output_type": "stream",
     "text": [
      "Customer DataFrame: 100\n",
      "+-----------+-------------+-----------+-----+-----------+\n",
      "|customer_id|customer_name|       city|state|    segment|\n",
      "+-----------+-------------+-----------+-----+-----------+\n",
      "|          1|   Customer 1|    Phoenix|   NY|  Corporate|\n",
      "|          2|   Customer 2|    Phoenix|   CA|Home Office|\n",
      "|          3|   Customer 3|    Phoenix|   NY|Home Office|\n",
      "|          4|   Customer 4|Los Angeles|   NY|   Consumer|\n",
      "|          5|   Customer 5|Los Angeles|   IL|Home Office|\n",
      "+-----------+-------------+-----------+-----+-----------+\n",
      "only showing top 5 rows\n",
      "\n",
      "|    |   customer_id | customer_name   | city        | state   | segment     |\n",
      "|---:|--------------:|:----------------|:------------|:--------|:------------|\n",
      "|  0 |             1 | Customer 1      | Phoenix     | NY      | Corporate   |\n",
      "|  1 |             2 | Customer 2      | Phoenix     | CA      | Home Office |\n",
      "|  2 |             3 | Customer 3      | Phoenix     | NY      | Home Office |\n",
      "|  3 |             4 | Customer 4      | Los Angeles | NY      | Consumer    |\n",
      "|  4 |             5 | Customer 5      | Los Angeles | IL      | Home Office |\n"
     ]
    }
   ],
   "source": [
    "print(f\"Customer DataFrame: {df_customer_ps.count()}\")\n",
    "df_customer_ps.show(5)\n",
    "print(df_customer_ps.limit(5).toPandas().to_markdown())"
   ]
  },
  {
   "cell_type": "markdown",
   "id": "82bcaa16",
   "metadata": {},
   "source": [
    "<div class=\"result\" markdown>\n",
    "\n",
    "```txt\n",
    "Customer DataFrame: 100\n",
    "```\n",
    "\n",
    "```txt\n",
    "+-----------+-------------+-----------+-----+-----------+\n",
    "|customer_id|customer_name|       city|state|    segment|\n",
    "+-----------+-------------+-----------+-----+-----------+\n",
    "|          1|   Customer 1|    Phoenix|   NY|  Corporate|\n",
    "|          2|   Customer 2|    Phoenix|   CA|Home Office|\n",
    "|          3|   Customer 3|    Phoenix|   NY|Home Office|\n",
    "|          4|   Customer 4|Los Angeles|   NY|   Consumer|\n",
    "|          5|   Customer 5|Los Angeles|   IL|Home Office|\n",
    "+-----------+-------------+-----------+-----+-----------+\n",
    "only showing top 5 rows\n",
    "```\n",
    "\n",
    "|      | customer_id | customer_name | city        | state | segment     |\n",
    "| ---: | ----------: | :------------ | :---------- | :---- | :---------- |\n",
    "|    0 |           1 | Customer 1    | Phoenix     | NY    | Corporate   |\n",
    "|    1 |           2 | Customer 2    | Phoenix     | CA    | Home Office |\n",
    "|    2 |           3 | Customer 3    | Phoenix     | NY    | Home Office |\n",
    "|    3 |           4 | Customer 4    | Los Angeles | NY    | Consumer    |\n",
    "|    4 |           5 | Customer 5    | Los Angeles | IL    | Home Office |\n",
    "\n",
    "</div>\n",
    "\n",
    "### Polars\n",
    "\n",
    "To create the dataframes in Polars, we will use the data we generated earlier. We will parse the dictionaries into Polars DataFrames, which will allow us to perform various data manipulation tasks."
   ]
  },
  {
   "cell_type": "code",
   "execution_count": null,
   "id": "719c9991",
   "metadata": {
    "incorrectly_encoded_metadata": "{.polars linenums=\"1\" title=\"Create DataFrames\"}"
   },
   "outputs": [],
   "source": [
    "df_sales_pl: pl.DataFrame = pl.DataFrame(sales_data)\n",
    "df_product_pl: pl.DataFrame = pl.DataFrame(product_data)\n",
    "df_customer_pl: pl.DataFrame = pl.DataFrame(customer_data)"
   ]
  },
  {
   "cell_type": "markdown",
   "id": "a47a3b8f",
   "metadata": {},
   "source": [
    "Once the data is created, we can check that it has been loaded correctly by displaying the first few rows of each DataFrame. To do this, we will use the [`.head()`][polars-head] method to display the first `5` rows of each DataFrame, and then parse to the [`print()`][python-print] function to display the DataFrame in a readable format."
   ]
  },
  {
   "cell_type": "code",
   "execution_count": null,
   "id": "4cdff3f9",
   "metadata": {
    "incorrectly_encoded_metadata": "{.polars linenums=\"1\" title=\"Check Sales DataFrame\"}"
   },
   "outputs": [
    {
     "name": "stdout",
     "output_type": "stream",
     "text": [
      "Sales DataFrame: 100\n",
      "shape: (5, 6)\n",
      "┌─────────────────────┬─────────────┬────────────┬─────────────┬──────────────┬──────────┐\n",
      "│ date                ┆ customer_id ┆ product_id ┆ category    ┆ sales_amount ┆ quantity │\n",
      "│ ---                 ┆ ---         ┆ ---        ┆ ---         ┆ ---          ┆ ---      │\n",
      "│ datetime[ns]        ┆ i64         ┆ i64        ┆ str         ┆ f64          ┆ i64      │\n",
      "╞═════════════════════╪═════════════╪════════════╪═════════════╪══════════════╪══════════╡\n",
      "│ 2023-01-01 00:00:00 ┆ 52          ┆ 45         ┆ Food        ┆ 490.76       ┆ 7        │\n",
      "│ 2023-01-02 00:00:00 ┆ 93          ┆ 41         ┆ Electronics ┆ 453.94       ┆ 5        │\n",
      "│ 2023-01-03 00:00:00 ┆ 15          ┆ 29         ┆ Home        ┆ 994.51       ┆ 5        │\n",
      "│ 2023-01-04 00:00:00 ┆ 72          ┆ 15         ┆ Electronics ┆ 184.17       ┆ 7        │\n",
      "│ 2023-01-05 00:00:00 ┆ 61          ┆ 45         ┆ Food        ┆ 27.89        ┆ 9        │\n",
      "└─────────────────────┴─────────────┴────────────┴─────────────┴──────────────┴──────────┘\n",
      "|    | date                |   customer_id |   product_id | category    |   sales_amount |   quantity |\n",
      "|---:|:--------------------|--------------:|-------------:|:------------|---------------:|-----------:|\n",
      "|  0 | 2023-01-01 00:00:00 |            52 |           45 | Food        |         490.76 |          7 |\n",
      "|  1 | 2023-01-02 00:00:00 |            93 |           41 | Electronics |         453.94 |          5 |\n",
      "|  2 | 2023-01-03 00:00:00 |            15 |           29 | Home        |         994.51 |          5 |\n",
      "|  3 | 2023-01-04 00:00:00 |            72 |           15 | Electronics |         184.17 |          7 |\n",
      "|  4 | 2023-01-05 00:00:00 |            61 |           45 | Food        |          27.89 |          9 |\n"
     ]
    }
   ],
   "source": [
    "print(f\"Sales DataFrame: {df_sales_pl.shape[0]}\")\n",
    "print(df_sales_pl.head(5))\n",
    "print(df_sales_pl.head(5).to_pandas().to_markdown())"
   ]
  },
  {
   "cell_type": "markdown",
   "id": "68910c0d",
   "metadata": {},
   "source": [
    "<div class=\"result\" markdown>\n",
    "\n",
    "```txt\n",
    "Sales DataFrame: 100\n",
    "```\n",
    "\n",
    "```txt\n",
    "shape: (5, 6)\n",
    "┌─────────────────────┬─────────────┬────────────┬─────────────┬──────────────┬──────────┐\n",
    "│ date                ┆ customer_id ┆ product_id ┆ category    ┆ sales_amount ┆ quantity │\n",
    "│ ---                 ┆ ---         ┆ ---        ┆ ---         ┆ ---          ┆ ---      │\n",
    "│ datetime[ns]        ┆ i64         ┆ i64        ┆ str         ┆ f64          ┆ i64      │\n",
    "╞═════════════════════╪═════════════╪════════════╪═════════════╪══════════════╪══════════╡\n",
    "│ 2023-01-01 00:00:00 ┆ 52          ┆ 45         ┆ Food        ┆ 490.76       ┆ 7        │\n",
    "│ 2023-01-02 00:00:00 ┆ 93          ┆ 41         ┆ Electronics ┆ 453.94       ┆ 5        │\n",
    "│ 2023-01-03 00:00:00 ┆ 15          ┆ 29         ┆ Home        ┆ 994.51       ┆ 5        │\n",
    "│ 2023-01-04 00:00:00 ┆ 72          ┆ 15         ┆ Electronics ┆ 184.17       ┆ 7        │\n",
    "│ 2023-01-05 00:00:00 ┆ 61          ┆ 45         ┆ Food        ┆ 27.89        ┆ 9        │\n",
    "└─────────────────────┴─────────────┴────────────┴─────────────┴──────────────┴──────────┘\n",
    "```\n",
    "\n",
    "|      | date                | customer_id | product_id | category    | sales_amount | quantity |\n",
    "| ---: | :------------------ | ----------: | ---------: | :---------- | -----------: | -------: |\n",
    "|    0 | 2023-01-01 00:00:00 |          52 |         45 | Food        |       490.76 |        7 |\n",
    "|    1 | 2023-01-02 00:00:00 |          93 |         41 | Electronics |       453.94 |        5 |\n",
    "|    2 | 2023-01-03 00:00:00 |          15 |         29 | Home        |       994.51 |        5 |\n",
    "|    3 | 2023-01-04 00:00:00 |          72 |         15 | Electronics |       184.17 |        7 |\n",
    "|    4 | 2023-01-05 00:00:00 |          61 |         45 | Food        |        27.89 |        9 |\n",
    "\n",
    "</div>"
   ]
  },
  {
   "cell_type": "code",
   "execution_count": null,
   "id": "99695af6",
   "metadata": {
    "incorrectly_encoded_metadata": "{.polars linenums=\"1\" title=\"Check Product DataFrame\"}"
   },
   "outputs": [
    {
     "name": "stdout",
     "output_type": "stream",
     "text": [
      "Product DataFrame: 50\n",
      "shape: (5, 5)\n",
      "┌────────────┬──────────────┬────────┬──────────┬─────────────┐\n",
      "│ product_id ┆ product_name ┆ price  ┆ category ┆ supplier_id │\n",
      "│ ---        ┆ ---          ┆ ---    ┆ ---      ┆ ---         │\n",
      "│ i64        ┆ str          ┆ f64    ┆ str      ┆ i64         │\n",
      "╞════════════╪══════════════╪════════╪══════════╪═════════════╡\n",
      "│ 1          ┆ Product 1    ┆ 257.57 ┆ Food     ┆ 8           │\n",
      "│ 2          ┆ Product 2    ┆ 414.96 ┆ Clothing ┆ 5           │\n",
      "│ 3          ┆ Product 3    ┆ 166.82 ┆ Clothing ┆ 8           │\n",
      "│ 4          ┆ Product 4    ┆ 448.81 ┆ Food     ┆ 4           │\n",
      "│ 5          ┆ Product 5    ┆ 200.71 ┆ Food     ┆ 8           │\n",
      "└────────────┴──────────────┴────────┴──────────┴─────────────┘\n",
      "|    |   product_id | product_name   |   price | category   |   supplier_id |\n",
      "|---:|-------------:|:---------------|--------:|:-----------|--------------:|\n",
      "|  0 |            1 | Product 1      |  257.57 | Food       |             8 |\n",
      "|  1 |            2 | Product 2      |  414.96 | Clothing   |             5 |\n",
      "|  2 |            3 | Product 3      |  166.82 | Clothing   |             8 |\n",
      "|  3 |            4 | Product 4      |  448.81 | Food       |             4 |\n",
      "|  4 |            5 | Product 5      |  200.71 | Food       |             8 |\n"
     ]
    }
   ],
   "source": [
    "print(f\"Product DataFrame: {df_product_pl.shape[0]}\")\n",
    "print(df_product_pl.head(5))\n",
    "print(df_product_pl.head(5).to_pandas().to_markdown())"
   ]
  },
  {
   "cell_type": "markdown",
   "id": "ce34c983",
   "metadata": {},
   "source": [
    "<div class=\"result\" markdown>\n",
    "\n",
    "```txt\n",
    "Product DataFrame: 50\n",
    "```\n",
    "\n",
    "```txt\n",
    "shape: (5, 5)\n",
    "┌────────────┬──────────────┬────────┬──────────┬─────────────┐\n",
    "│ product_id ┆ product_name ┆ price  ┆ category ┆ supplier_id │\n",
    "│ ---        ┆ ---          ┆ ---    ┆ ---      ┆ ---         │\n",
    "│ i64        ┆ str          ┆ f64    ┆ str      ┆ i64         │\n",
    "╞════════════╪══════════════╪════════╪══════════╪═════════════╡\n",
    "│ 1          ┆ Product 1    ┆ 257.57 ┆ Food     ┆ 8           │\n",
    "│ 2          ┆ Product 2    ┆ 414.96 ┆ Clothing ┆ 5           │\n",
    "│ 3          ┆ Product 3    ┆ 166.82 ┆ Clothing ┆ 8           │\n",
    "│ 4          ┆ Product 4    ┆ 448.81 ┆ Food     ┆ 4           │\n",
    "│ 5          ┆ Product 5    ┆ 200.71 ┆ Food     ┆ 8           │\n",
    "└────────────┴──────────────┴────────┴──────────┴─────────────┘\n",
    "```\n",
    "\n",
    "|      | product_id | product_name |  price | category | supplier_id |\n",
    "| ---: | ---------: | :----------- | -----: | :------- | ----------: |\n",
    "|    0 |          1 | Product 1    | 257.57 | Food     |           8 |\n",
    "|    1 |          2 | Product 2    | 414.96 | Clothing |           5 |\n",
    "|    2 |          3 | Product 3    | 166.82 | Clothing |           8 |\n",
    "|    3 |          4 | Product 4    | 448.81 | Food     |           4 |\n",
    "|    4 |          5 | Product 5    | 200.71 | Food     |           8 |\n",
    "\n",
    "</div>"
   ]
  },
  {
   "cell_type": "code",
   "execution_count": null,
   "id": "571d8d25",
   "metadata": {
    "incorrectly_encoded_metadata": "{.polars linenums=\"1\" title=\"Check Customer DataFrame\"}"
   },
   "outputs": [
    {
     "name": "stdout",
     "output_type": "stream",
     "text": [
      "Customer DataFrame: 100\n",
      "shape: (5, 5)\n",
      "┌─────────────┬───────────────┬─────────────┬───────┬─────────────┐\n",
      "│ customer_id ┆ customer_name ┆ city        ┆ state ┆ segment     │\n",
      "│ ---         ┆ ---           ┆ ---         ┆ ---   ┆ ---         │\n",
      "│ i64         ┆ str           ┆ str         ┆ str   ┆ str         │\n",
      "╞═════════════╪═══════════════╪═════════════╪═══════╪═════════════╡\n",
      "│ 1           ┆ Customer 1    ┆ Phoenix     ┆ NY    ┆ Corporate   │\n",
      "│ 2           ┆ Customer 2    ┆ Phoenix     ┆ CA    ┆ Home Office │\n",
      "│ 3           ┆ Customer 3    ┆ Phoenix     ┆ NY    ┆ Home Office │\n",
      "│ 4           ┆ Customer 4    ┆ Los Angeles ┆ NY    ┆ Consumer    │\n",
      "│ 5           ┆ Customer 5    ┆ Los Angeles ┆ IL    ┆ Home Office │\n",
      "└─────────────┴───────────────┴─────────────┴───────┴─────────────┘\n",
      "|    |   customer_id | customer_name   | city        | state   | segment     |\n",
      "|---:|--------------:|:----------------|:------------|:--------|:------------|\n",
      "|  0 |             1 | Customer 1      | Phoenix     | NY      | Corporate   |\n",
      "|  1 |             2 | Customer 2      | Phoenix     | CA      | Home Office |\n",
      "|  2 |             3 | Customer 3      | Phoenix     | NY      | Home Office |\n",
      "|  3 |             4 | Customer 4      | Los Angeles | NY      | Consumer    |\n",
      "|  4 |             5 | Customer 5      | Los Angeles | IL      | Home Office |\n"
     ]
    }
   ],
   "source": [
    "print(f\"Customer DataFrame: {df_customer_pl.shape[0]}\")\n",
    "print(df_customer_pl.head(5))\n",
    "print(df_customer_pl.head(5).to_pandas().to_markdown())"
   ]
  },
  {
   "cell_type": "markdown",
   "id": "c8940c47",
   "metadata": {},
   "source": [
    "<div class=\"result\" markdown>\n",
    "\n",
    "```txt\n",
    "Customer DataFrame: 100\n",
    "```\n",
    "\n",
    "```txt\n",
    "shape: (5, 5)\n",
    "┌─────────────┬───────────────┬─────────────┬───────┬─────────────┐\n",
    "│ customer_id ┆ customer_name ┆ city        ┆ state ┆ segment     │\n",
    "│ ---         ┆ ---           ┆ ---         ┆ ---   ┆ ---         │\n",
    "│ i64         ┆ str           ┆ str         ┆ str   ┆ str         │\n",
    "╞═════════════╪═══════════════╪═════════════╪═══════╪═════════════╡\n",
    "│ 1           ┆ Customer 1    ┆ Phoenix     ┆ NY    ┆ Corporate   │\n",
    "│ 2           ┆ Customer 2    ┆ Phoenix     ┆ CA    ┆ Home Office │\n",
    "│ 3           ┆ Customer 3    ┆ Phoenix     ┆ NY    ┆ Home Office │\n",
    "│ 4           ┆ Customer 4    ┆ Los Angeles ┆ NY    ┆ Consumer    │\n",
    "│ 5           ┆ Customer 5    ┆ Los Angeles ┆ IL    ┆ Home Office │\n",
    "└─────────────┴───────────────┴─────────────┴───────┴─────────────┘\n",
    "```\n",
    "\n",
    "|      | customer_id | customer_name | city        | state | segment     |\n",
    "| ---: | ----------: | :------------ | :---------- | :---- | :---------- |\n",
    "|    0 |           1 | Customer 1    | Phoenix     | NY    | Corporate   |\n",
    "|    1 |           2 | Customer 2    | Phoenix     | CA    | Home Office |\n",
    "|    2 |           3 | Customer 3    | Phoenix     | NY    | Home Office |\n",
    "|    3 |           4 | Customer 4    | Los Angeles | NY    | Consumer    |\n",
    "|    4 |           5 | Customer 5    | Los Angeles | IL    | Home Office |\n",
    "\n",
    "</div>"
   ]
  },
  {
   "cell_type": "markdown",
   "id": "c2d56a1a",
   "metadata": {},
   "source": [
    "## 1. Filtering and Selecting\n",
    "\n",
    "This first section will demonstrate how to filter and select data from the DataFrames. This is a common operation in data analysis, allowing us to focus on specific subsets of the data.\n",
    "\n",
    "### Pandas\n",
    "\n",
    "In Pandas, we can use boolean indexing to filter rows based on specific conditions. As you can see in this first example, this looks like using square brackets, within which we define a column and a condition. In the below example, we can use string values to filter categorical data.\n",
    "\n",
    "For more information about filtering in Pandas, see the [Pandas documentation on filtering][pandas-subsetting]."
   ]
  },
  {
   "cell_type": "code",
   "execution_count": null,
   "id": "e639f884",
   "metadata": {
    "incorrectly_encoded_metadata": "{.pandas linenums=\"1\" title=\"Filter sales data for specific category\"}"
   },
   "outputs": [
    {
     "name": "stdout",
     "output_type": "stream",
     "text": [
      "Number of Electronics Sales: 28\n",
      "         date  customer_id  product_id     category  sales_amount  quantity\n",
      "1  2023-01-02           93          41  Electronics        453.94         5\n",
      "3  2023-01-04           72          15  Electronics        184.17         7\n",
      "8  2023-01-09           75           9  Electronics        746.73         2\n",
      "10 2023-01-11           88           1  Electronics        314.98         9\n",
      "11 2023-01-12           24          44  Electronics        547.11         8\n",
      "|    | date                |   customer_id |   product_id | category    |   sales_amount |   quantity |\n",
      "|---:|:--------------------|--------------:|-------------:|:------------|---------------:|-----------:|\n",
      "|  1 | 2023-01-02 00:00:00 |            93 |           41 | Electronics |         453.94 |          5 |\n",
      "|  3 | 2023-01-04 00:00:00 |            72 |           15 | Electronics |         184.17 |          7 |\n",
      "|  8 | 2023-01-09 00:00:00 |            75 |            9 | Electronics |         746.73 |          2 |\n",
      "| 10 | 2023-01-11 00:00:00 |            88 |            1 | Electronics |         314.98 |          9 |\n",
      "| 11 | 2023-01-12 00:00:00 |            24 |           44 | Electronics |         547.11 |          8 |\n"
     ]
    }
   ],
   "source": [
    "electronics_sales_pd: pd.DataFrame = df_sales_pd[df_sales_pd[\"category\"] == \"Electronics\"]\n",
    "print(f\"Number of Electronics Sales: {len(electronics_sales_pd)}\")\n",
    "print(electronics_sales_pd.head(5))\n",
    "print(electronics_sales_pd.head(5).to_markdown())"
   ]
  },
  {
   "cell_type": "markdown",
   "id": "eb5160aa",
   "metadata": {},
   "source": [
    "<div class=\"result\" markdown>\n",
    "\n",
    "```txt\n",
    "Number of Electronics Sales: 28\n",
    "```\n",
    "\n",
    "```txt\n",
    "         date  customer_id  product_id     category  sales_amount  quantity\n",
    "1  2023-01-02           93          41  Electronics        453.94         5\n",
    "3  2023-01-04           72          15  Electronics        184.17         7\n",
    "8  2023-01-09           75           9  Electronics        746.73         2\n",
    "10 2023-01-11           88           1  Electronics        314.98         9\n",
    "11 2023-01-12           24          44  Electronics        547.11         8\n",
    "```\n",
    "\n",
    "|      | date                | customer_id | product_id | category    | sales_amount | quantity |\n",
    "| ---: | :------------------ | ----------: | ---------: | :---------- | -----------: | -------: |\n",
    "|    1 | 2023-01-02 00:00:00 |          93 |         41 | Electronics |       453.94 |        5 |\n",
    "|    3 | 2023-01-04 00:00:00 |          72 |         15 | Electronics |       184.17 |        7 |\n",
    "|    8 | 2023-01-09 00:00:00 |          75 |          9 | Electronics |       746.73 |        2 |\n",
    "|   10 | 2023-01-11 00:00:00 |          88 |          1 | Electronics |       314.98 |        9 |\n",
    "|   11 | 2023-01-12 00:00:00 |          24 |         44 | Electronics |       547.11 |        8 |\n",
    "\n",
    "</div>\n",
    "\n",
    "### SQL\n",
    "\n",
    "In SQL, we can use the `WHERE` clause to filter rows based on specific conditions. The syntax should be very familiar to anyone who has worked with SQL before. We can use the [`pd.read_sql()`][pandas-read_sql] function to execute SQL queries and retrieve the data from the database. The result is a Pandas DataFrame that contains only the rows that match the specified condition. In the below example, we filter for sales in the \"Electronics\" category.\n",
    "\n",
    "For more information about filtering in SQL, see the [SQL WHERE clause documentation][sqlite-where]."
   ]
  },
  {
   "cell_type": "code",
   "execution_count": null,
   "id": "a6ee617d",
   "metadata": {
    "incorrectly_encoded_metadata": "{.sql linenums=\"1\" title=\"Filter sales for a specific category\"}"
   },
   "outputs": [
    {
     "name": "stdout",
     "output_type": "stream",
     "text": [
      "Number of Electronics Sales: 28\n",
      "                  date  customer_id  product_id     category  sales_amount  \\\n",
      "0  2023-01-02 00:00:00           93          41  Electronics        453.94   \n",
      "1  2023-01-04 00:00:00           72          15  Electronics        184.17   \n",
      "2  2023-01-09 00:00:00           75           9  Electronics        746.73   \n",
      "3  2023-01-11 00:00:00           88           1  Electronics        314.98   \n",
      "4  2023-01-12 00:00:00           24          44  Electronics        547.11   \n",
      "\n",
      "   quantity  \n",
      "0         5  \n",
      "1         7  \n",
      "2         2  \n",
      "3         9  \n",
      "4         8  \n",
      "|    | date                |   customer_id |   product_id | category    |   sales_amount |   quantity |\n",
      "|---:|:--------------------|--------------:|-------------:|:------------|---------------:|-----------:|\n",
      "|  0 | 2023-01-02 00:00:00 |            93 |           41 | Electronics |         453.94 |          5 |\n",
      "|  1 | 2023-01-04 00:00:00 |            72 |           15 | Electronics |         184.17 |          7 |\n",
      "|  2 | 2023-01-09 00:00:00 |            75 |            9 | Electronics |         746.73 |          2 |\n",
      "|  3 | 2023-01-11 00:00:00 |            88 |            1 | Electronics |         314.98 |          9 |\n",
      "|  4 | 2023-01-12 00:00:00 |            24 |           44 | Electronics |         547.11 |          8 |\n"
     ]
    }
   ],
   "source": [
    "electronics_sales_txt: str = \"\"\"\n",
    "    SELECT *\n",
    "    FROM sales\n",
    "    WHERE category = 'Electronics'\n",
    "\"\"\"\n",
    "electronics_sales_sql: pd.DataFrame = pd.read_sql(electronics_sales_txt, conn)\n",
    "print(f\"Number of Electronics Sales: {len(electronics_sales_sql)}\")\n",
    "print(pd.read_sql(electronics_sales_txt + \"LIMIT 5\", conn))\n",
    "print(pd.read_sql(electronics_sales_txt + \"LIMIT 5\", conn).to_markdown())"
   ]
  },
  {
   "cell_type": "markdown",
   "id": "7b88825b",
   "metadata": {},
   "source": [
    "<div class=\"result\" markdown>\n",
    "\n",
    "```txt\n",
    "Number of Electronics Sales: 28\n",
    "```\n",
    "\n",
    "```txt\n",
    "                  date  customer_id  product_id     category  sales_amount  quantity\n",
    "0  2023-01-02 00:00:00           93          41  Electronics        453.94         5\n",
    "1  2023-01-04 00:00:00           72          15  Electronics        184.17         7\n",
    "2  2023-01-09 00:00:00           75           9  Electronics        746.73         2\n",
    "3  2023-01-11 00:00:00           88           1  Electronics        314.98         9\n",
    "4  2023-01-12 00:00:00           24          44  Electronics        547.11         8\n",
    "```\n",
    "\n",
    "|      | date                | customer_id | product_id | category    | sales_amount | quantity |\n",
    "| ---: | :------------------ | ----------: | ---------: | :---------- | -----------: | -------: |\n",
    "|    0 | 2023-01-02 00:00:00 |          93 |         41 | Electronics |       453.94 |        5 |\n",
    "|    1 | 2023-01-04 00:00:00 |          72 |         15 | Electronics |       184.17 |        7 |\n",
    "|    2 | 2023-01-09 00:00:00 |          75 |          9 | Electronics |       746.73 |        2 |\n",
    "|    3 | 2023-01-11 00:00:00 |          88 |          1 | Electronics |       314.98 |        9 |\n",
    "|    4 | 2023-01-12 00:00:00 |          24 |         44 | Electronics |       547.11 |        8 |\n",
    "\n",
    "</div>\n",
    "\n",
    "### PySpark\n",
    "\n",
    "In PySpark, we can use the [`.filter()`][pyspark-filter] (or the [`.where()`][pyspark-where]) method to filter rows based on specific conditions. This process is effectively doing a boolean indexing operation to filter the DataFrame. The syntax is similar to SQL, where we can specify the condition as a string or using column expressions. In the below example, we filter for sales in the \"Electronics\" category.\n",
    "\n",
    "For more information about filtering in PySpark, see the [PySpark documentation on filtering][pyspark-filtering]."
   ]
  },
  {
   "cell_type": "code",
   "execution_count": null,
   "id": "a7217f37",
   "metadata": {
    "incorrectly_encoded_metadata": "{.pyspark linenums=\"1\" title=\"Filter sales for a specific category\"}"
   },
   "outputs": [
    {
     "name": "stdout",
     "output_type": "stream",
     "text": [
      "Number of Electronics Sales: 28\n",
      "+-------------------+-----------+----------+-----------+------------+--------+\n",
      "|               date|customer_id|product_id|   category|sales_amount|quantity|\n",
      "+-------------------+-----------+----------+-----------+------------+--------+\n",
      "|2023-01-02 00:00:00|         93|        41|Electronics|      453.94|       5|\n",
      "|2023-01-04 00:00:00|         72|        15|Electronics|      184.17|       7|\n",
      "|2023-01-09 00:00:00|         75|         9|Electronics|      746.73|       2|\n",
      "|2023-01-11 00:00:00|         88|         1|Electronics|      314.98|       9|\n",
      "|2023-01-12 00:00:00|         24|        44|Electronics|      547.11|       8|\n",
      "+-------------------+-----------+----------+-----------+------------+--------+\n",
      "only showing top 5 rows\n",
      "\n",
      "|    | date                |   customer_id |   product_id | category    |   sales_amount |   quantity |\n",
      "|---:|:--------------------|--------------:|-------------:|:------------|---------------:|-----------:|\n",
      "|  0 | 2023-01-02 00:00:00 |            93 |           41 | Electronics |         453.94 |          5 |\n",
      "|  1 | 2023-01-04 00:00:00 |            72 |           15 | Electronics |         184.17 |          7 |\n",
      "|  2 | 2023-01-09 00:00:00 |            75 |            9 | Electronics |         746.73 |          2 |\n",
      "|  3 | 2023-01-11 00:00:00 |            88 |            1 | Electronics |         314.98 |          9 |\n",
      "|  4 | 2023-01-12 00:00:00 |            24 |           44 | Electronics |         547.11 |          8 |\n"
     ]
    }
   ],
   "source": [
    "electronics_sales_ps: psDataFrame = df_sales_ps.filter(df_sales_ps[\"category\"] == \"Electronics\")\n",
    "print(f\"Number of Electronics Sales: {electronics_sales_ps.count()}\")\n",
    "electronics_sales_ps.show(5)\n",
    "print(electronics_sales_ps.limit(5).toPandas().to_markdown())"
   ]
  },
  {
   "cell_type": "markdown",
   "id": "0e6e5654",
   "metadata": {},
   "source": [
    "<div class=\"result\" markdown>\n",
    "\n",
    "```txt\n",
    "Number of Electronics Sales: 28\n",
    "```\n",
    "\n",
    "```txt\n",
    "+-------------------+-----------+----------+-----------+------------+--------+\n",
    "|               date|customer_id|product_id|   category|sales_amount|quantity|\n",
    "+-------------------+-----------+----------+-----------+------------+--------+\n",
    "|2023-01-02 00:00:00|         93|        41|Electronics|      453.94|       5|\n",
    "|2023-01-04 00:00:00|         72|        15|Electronics|      184.17|       7|\n",
    "|2023-01-09 00:00:00|         75|         9|Electronics|      746.73|       2|\n",
    "|2023-01-11 00:00:00|         88|         1|Electronics|      314.98|       9|\n",
    "|2023-01-12 00:00:00|         24|        44|Electronics|      547.11|       8|\n",
    "+-------------------+-----------+----------+-----------+------------+--------+\n",
    "only showing top 5 rows\n",
    "```\n",
    "\n",
    "|      | date                | customer_id | product_id | category    | sales_amount | quantity |\n",
    "| ---: | :------------------ | ----------: | ---------: | :---------- | -----------: | -------: |\n",
    "|    0 | 2023-01-02 00:00:00 |          93 |         41 | Electronics |       453.94 |        5 |\n",
    "|    1 | 2023-01-04 00:00:00 |          72 |         15 | Electronics |       184.17 |        7 |\n",
    "|    2 | 2023-01-09 00:00:00 |          75 |          9 | Electronics |       746.73 |        2 |\n",
    "|    3 | 2023-01-11 00:00:00 |          88 |          1 | Electronics |       314.98 |        9 |\n",
    "|    4 | 2023-01-12 00:00:00 |          24 |         44 | Electronics |       547.11 |        8 |\n",
    "\n",
    "</div>\n",
    "\n",
    "### Polars\n",
    "\n",
    "In Polars, we can use the [`.filter()`][polars-filter] method to filter rows based on specific conditions. The syntax is similar to Pandas, where we can specify the condition using column expressions. In the below example, we filter for sales in the \"Electronics\" category.\n",
    "\n",
    "For more information about filtering in Polars, see the [Polars documentation on filtering][polars-filtering]."
   ]
  },
  {
   "cell_type": "code",
   "execution_count": null,
   "id": "8acadc6a",
   "metadata": {
    "incorrectly_encoded_metadata": "{.polars linenums=\"1\" title=\"Filter sales for a specific category\"}"
   },
   "outputs": [
    {
     "name": "stdout",
     "output_type": "stream",
     "text": [
      "Number of Electronics Sales: 28\n",
      "shape: (5, 6)\n",
      "┌─────────────────────┬─────────────┬────────────┬─────────────┬──────────────┬──────────┐\n",
      "│ date                ┆ customer_id ┆ product_id ┆ category    ┆ sales_amount ┆ quantity │\n",
      "│ ---                 ┆ ---         ┆ ---        ┆ ---         ┆ ---          ┆ ---      │\n",
      "│ datetime[ns]        ┆ i64         ┆ i64        ┆ str         ┆ f64          ┆ i64      │\n",
      "╞═════════════════════╪═════════════╪════════════╪═════════════╪══════════════╪══════════╡\n",
      "│ 2023-01-02 00:00:00 ┆ 93          ┆ 41         ┆ Electronics ┆ 453.94       ┆ 5        │\n",
      "│ 2023-01-04 00:00:00 ┆ 72          ┆ 15         ┆ Electronics ┆ 184.17       ┆ 7        │\n",
      "│ 2023-01-09 00:00:00 ┆ 75          ┆ 9          ┆ Electronics ┆ 746.73       ┆ 2        │\n",
      "│ 2023-01-11 00:00:00 ┆ 88          ┆ 1          ┆ Electronics ┆ 314.98       ┆ 9        │\n",
      "│ 2023-01-12 00:00:00 ┆ 24          ┆ 44         ┆ Electronics ┆ 547.11       ┆ 8        │\n",
      "└─────────────────────┴─────────────┴────────────┴─────────────┴──────────────┴──────────┘\n",
      "|    | date                |   customer_id |   product_id | category    |   sales_amount |   quantity |\n",
      "|---:|:--------------------|--------------:|-------------:|:------------|---------------:|-----------:|\n",
      "|  0 | 2023-01-02 00:00:00 |            93 |           41 | Electronics |         453.94 |          5 |\n",
      "|  1 | 2023-01-04 00:00:00 |            72 |           15 | Electronics |         184.17 |          7 |\n",
      "|  2 | 2023-01-09 00:00:00 |            75 |            9 | Electronics |         746.73 |          2 |\n",
      "|  3 | 2023-01-11 00:00:00 |            88 |            1 | Electronics |         314.98 |          9 |\n",
      "|  4 | 2023-01-12 00:00:00 |            24 |           44 | Electronics |         547.11 |          8 |\n"
     ]
    }
   ],
   "source": [
    "electronics_sales_pl: pl.DataFrame = df_sales_pl.filter(df_sales_pl[\"category\"] == \"Electronics\")\n",
    "print(f\"Number of Electronics Sales: {len(electronics_sales_pl)}\")\n",
    "print(electronics_sales_pl.head(5))\n",
    "print(electronics_sales_pl.head(5).to_pandas().to_markdown())"
   ]
  },
  {
   "cell_type": "markdown",
   "id": "fe6ae980",
   "metadata": {},
   "source": [
    "<div class=\"result\" markdown>\n",
    "\n",
    "```txt\n",
    "Number of Electronics Sales: 28\n",
    "```\n",
    "\n",
    "```txt\n",
    "shape: (5, 6)\n",
    "┌─────────────────────┬─────────────┬────────────┬─────────────┬──────────────┬──────────┐\n",
    "│ date                ┆ customer_id ┆ product_id ┆ category    ┆ sales_amount ┆ quantity │\n",
    "│ ---                 ┆ ---         ┆ ---        ┆ ---         ┆ ---          ┆ ---      │\n",
    "│ datetime[ns]        ┆ i64         ┆ i64        ┆ str         ┆ f64          ┆ i64      │\n",
    "╞═════════════════════╪═════════════╪════════════╪═════════════╪══════════════╪══════════╡\n",
    "│ 2023-01-02 00:00:00 ┆ 93          ┆ 41         ┆ Electronics ┆ 453.94       ┆ 5        │\n",
    "│ 2023-01-04 00:00:00 ┆ 72          ┆ 15         ┆ Electronics ┆ 184.17       ┆ 7        │\n",
    "│ 2023-01-09 00:00:00 ┆ 75          ┆ 9          ┆ Electronics ┆ 746.73       ┆ 2        │\n",
    "│ 2023-01-11 00:00:00 ┆ 88          ┆ 1          ┆ Electronics ┆ 314.98       ┆ 9        │\n",
    "│ 2023-01-12 00:00:00 ┆ 24          ┆ 44         ┆ Electronics ┆ 547.11       ┆ 8        │\n",
    "└─────────────────────┴─────────────┴────────────┴─────────────┴──────────────┴──────────┘\n",
    "```\n",
    "\n",
    "|      | date                | customer_id | product_id | category    | sales_amount | quantity |\n",
    "| ---: | :------------------ | ----------: | ---------: | :---------- | -----------: | -------: |\n",
    "|    0 | 2023-01-02 00:00:00 |          93 |         41 | Electronics |       453.94 |        5 |\n",
    "|    1 | 2023-01-04 00:00:00 |          72 |         15 | Electronics |       184.17 |        7 |\n",
    "|    2 | 2023-01-09 00:00:00 |          75 |          9 | Electronics |       746.73 |        2 |\n",
    "|    3 | 2023-01-11 00:00:00 |          88 |          1 | Electronics |       314.98 |        9 |\n",
    "|    4 | 2023-01-12 00:00:00 |          24 |         44 | Electronics |       547.11 |        8 |\n",
    "\n",
    "</div>\n",
    "\n",
    "We can also use numerical filtering, as you can see in the next example, where we filter for sales amounts greater than $500.\n",
    "\n",
    "### Pandas\n",
    "\n",
    "When it comes to numerical filtering in Pandas, the process is similar to the previous example, where we use boolean indexing to filter rows based on a given condition condition, but here we use a numerical value instead of a string value. In the below example, we filter for sales amounts greater than `500`."
   ]
  },
  {
   "cell_type": "code",
   "execution_count": null,
   "id": "666faf3d",
   "metadata": {
    "incorrectly_encoded_metadata": "{.pandas linenums=\"1\" title=\"Filter for high value transactions\"}"
   },
   "outputs": [
    {
     "name": "stdout",
     "output_type": "stream",
     "text": [
      "Number of high-value Sales: 43\n",
      "         date  customer_id  product_id     category  sales_amount  quantity\n",
      "2  2023-01-03           15          29         Home        994.51         5\n",
      "8  2023-01-09           75           9  Electronics        746.73         2\n",
      "9  2023-01-10           75          24        Books        723.73         6\n",
      "11 2023-01-12           24          44  Electronics        547.11         8\n",
      "12 2023-01-13            3           8     Clothing        513.73         5\n",
      "|    | date                |   customer_id |   product_id | category    |   sales_amount |   quantity |\n",
      "|---:|:--------------------|--------------:|-------------:|:------------|---------------:|-----------:|\n",
      "|  2 | 2023-01-03 00:00:00 |            15 |           29 | Home        |         994.51 |          5 |\n",
      "|  8 | 2023-01-09 00:00:00 |            75 |            9 | Electronics |         746.73 |          2 |\n",
      "|  9 | 2023-01-10 00:00:00 |            75 |           24 | Books       |         723.73 |          6 |\n",
      "| 11 | 2023-01-12 00:00:00 |            24 |           44 | Electronics |         547.11 |          8 |\n",
      "| 12 | 2023-01-13 00:00:00 |             3 |            8 | Clothing    |         513.73 |          5 |\n"
     ]
    }
   ],
   "source": [
    "high_value_sales_pd: pd.DataFrame = df_sales_pd[df_sales_pd[\"sales_amount\"] > 500]\n",
    "print(f\"Number of high-value Sales: {len(high_value_sales_pd)}\")\n",
    "print(high_value_sales_pd.head(5))\n",
    "print(high_value_sales_pd.head(5).to_markdown())"
   ]
  },
  {
   "cell_type": "markdown",
   "id": "a83784fb",
   "metadata": {},
   "source": [
    "<div class=\"result\" markdown>\n",
    "\n",
    "```txt\n",
    "Number of high-value Sales: 43\n",
    "```\n",
    "\n",
    "```txt\n",
    "         date  customer_id  product_id     category  sales_amount  quantity\n",
    "2  2023-01-03           15          29         Home        994.51         5\n",
    "8  2023-01-09           75           9  Electronics        746.73         2\n",
    "9  2023-01-10           75          24        Books        723.73         6\n",
    "11 2023-01-12           24          44  Electronics        547.11         8\n",
    "12 2023-01-13            3           8     Clothing        513.73         5\n",
    "```\n",
    "\n",
    "|      | date                | customer_id | product_id | category    | sales_amount | quantity |\n",
    "| ---: | :------------------ | ----------: | ---------: | :---------- | -----------: | -------: |\n",
    "|    2 | 2023-01-03 00:00:00 |          15 |         29 | Home        |       994.51 |        5 |\n",
    "|    8 | 2023-01-09 00:00:00 |          75 |          9 | Electronics |       746.73 |        2 |\n",
    "|    9 | 2023-01-10 00:00:00 |          75 |         24 | Books       |       723.73 |        6 |\n",
    "|   11 | 2023-01-12 00:00:00 |          24 |         44 | Electronics |       547.11 |        8 |\n",
    "|   12 | 2023-01-13 00:00:00 |           3 |          8 | Clothing    |       513.73 |        5 |\n",
    "\n",
    "</div>\n",
    "\n",
    "### SQL\n",
    "\n",
    "When it comes to numerical filtering in SQL, the process is similar to the previous example, where we use the `WHERE` clause to filter rows based on a given condition, but here we use a numerical value instead of a string value. In the below example, we filter for sales amounts greater than `500`."
   ]
  },
  {
   "cell_type": "code",
   "execution_count": null,
   "id": "060898f9",
   "metadata": {
    "incorrectly_encoded_metadata": "{.sql linenums=\"1\" title=\"Filter for high value transactions\"}"
   },
   "outputs": [
    {
     "name": "stdout",
     "output_type": "stream",
     "text": [
      "Number of high-value Sales: 43\n",
      "                  date  customer_id  product_id     category  sales_amount  \\\n",
      "0  2023-01-03 00:00:00           15          29         Home        994.51   \n",
      "1  2023-01-09 00:00:00           75           9  Electronics        746.73   \n",
      "2  2023-01-10 00:00:00           75          24        Books        723.73   \n",
      "3  2023-01-12 00:00:00           24          44  Electronics        547.11   \n",
      "4  2023-01-13 00:00:00            3           8     Clothing        513.73   \n",
      "\n",
      "   quantity  \n",
      "0         5  \n",
      "1         2  \n",
      "2         6  \n",
      "3         8  \n",
      "4         5  \n",
      "|    | date                |   customer_id |   product_id | category    |   sales_amount |   quantity |\n",
      "|---:|:--------------------|--------------:|-------------:|:------------|---------------:|-----------:|\n",
      "|  0 | 2023-01-03 00:00:00 |            15 |           29 | Home        |         994.51 |          5 |\n",
      "|  1 | 2023-01-09 00:00:00 |            75 |            9 | Electronics |         746.73 |          2 |\n",
      "|  2 | 2023-01-10 00:00:00 |            75 |           24 | Books       |         723.73 |          6 |\n",
      "|  3 | 2023-01-12 00:00:00 |            24 |           44 | Electronics |         547.11 |          8 |\n",
      "|  4 | 2023-01-13 00:00:00 |             3 |            8 | Clothing    |         513.73 |          5 |\n"
     ]
    }
   ],
   "source": [
    "high_value_sales_txt: str = \"\"\"\n",
    "    SELECT *\n",
    "    FROM sales\n",
    "    WHERE sales_amount > 500\n",
    "\"\"\"\n",
    "high_value_sales_sql: pd.DataFrame = pd.read_sql(high_value_sales_txt, conn)\n",
    "print(f\"Number of high-value Sales: {len(high_value_sales_sql)}\")\n",
    "print(pd.read_sql(high_value_sales_txt + \"LIMIT 5\", conn))\n",
    "print(pd.read_sql(high_value_sales_txt + \"LIMIT 5\", conn).to_markdown())"
   ]
  },
  {
   "cell_type": "markdown",
   "id": "ef982d58",
   "metadata": {},
   "source": [
    "<div class=\"result\" markdown>\n",
    "\n",
    "```txt\n",
    "Number of high-value Sales: 43\n",
    "```\n",
    "\n",
    "```txt\n",
    "                  date  customer_id  product_id     category  sales_amount  quantity\n",
    "0  2023-01-03 00:00:00           15          29         Home        994.51         5\n",
    "1  2023-01-09 00:00:00           75           9  Electronics        746.73         2\n",
    "2  2023-01-10 00:00:00           75          24        Books        723.73         6\n",
    "3  2023-01-12 00:00:00           24          44  Electronics        547.11         8\n",
    "4  2023-01-13 00:00:00            3           8     Clothing        513.73         5\n",
    "```\n",
    "\n",
    "|      | date                | customer_id | product_id | category    | sales_amount | quantity |\n",
    "| ---: | :------------------ | ----------: | ---------: | :---------- | -----------: | -------: |\n",
    "|    0 | 2023-01-03 00:00:00 |          15 |         29 | Home        |       994.51 |        5 |\n",
    "|    1 | 2023-01-09 00:00:00 |          75 |          9 | Electronics |       746.73 |        2 |\n",
    "|    2 | 2023-01-10 00:00:00 |          75 |         24 | Books       |       723.73 |        6 |\n",
    "|    3 | 2023-01-12 00:00:00 |          24 |         44 | Electronics |       547.11 |        8 |\n",
    "|    4 | 2023-01-13 00:00:00 |           3 |          8 | Clothing    |       513.73 |        5 |\n",
    "\n",
    "</div>\n",
    "\n",
    "### PySpark\n",
    "\n",
    "When it comes to numerical filtering in PySpark, the process is similar to the previous example, where we use the [`.filter()`][pyspark-filter] (or [`.where()`][pyspark-where]) method to filter rows based on a given condition, but here we use a numerical value instead of a string value. In the below example, we filter for sales amounts greater than `500`.\n",
    "\n",
    "Also note here that we have parsed a string value to the [`.filter()`][pyspark-filter] method, instead of using the pure-Python syntax as shown above. This is because the [`.filter()`][pyspark-filter] method can accept a SQL-like string expression. This is a common practice in PySpark to parse a SQL-like string to a PySpark method."
   ]
  },
  {
   "cell_type": "code",
   "execution_count": null,
   "id": "efe7f400",
   "metadata": {
    "incorrectly_encoded_metadata": "{.pyspark linenums=\"1\" title=\"Filter for high value transactions\"}"
   },
   "outputs": [
    {
     "name": "stdout",
     "output_type": "stream",
     "text": [
      "Number of high-value Sales: 43\n",
      "+-------------------+-----------+----------+-----------+------------+--------+\n",
      "|               date|customer_id|product_id|   category|sales_amount|quantity|\n",
      "+-------------------+-----------+----------+-----------+------------+--------+\n",
      "|2023-01-03 00:00:00|         15|        29|       Home|      994.51|       5|\n",
      "|2023-01-09 00:00:00|         75|         9|Electronics|      746.73|       2|\n",
      "|2023-01-10 00:00:00|         75|        24|      Books|      723.73|       6|\n",
      "|2023-01-12 00:00:00|         24|        44|Electronics|      547.11|       8|\n",
      "|2023-01-13 00:00:00|          3|         8|   Clothing|      513.73|       5|\n",
      "+-------------------+-----------+----------+-----------+------------+--------+\n",
      "only showing top 5 rows\n",
      "\n",
      "|    | date                |   customer_id |   product_id | category    |   sales_amount |   quantity |\n",
      "|---:|:--------------------|--------------:|-------------:|:------------|---------------:|-----------:|\n",
      "|  0 | 2023-01-03 00:00:00 |            15 |           29 | Home        |         994.51 |          5 |\n",
      "|  1 | 2023-01-09 00:00:00 |            75 |            9 | Electronics |         746.73 |          2 |\n",
      "|  2 | 2023-01-10 00:00:00 |            75 |           24 | Books       |         723.73 |          6 |\n",
      "|  3 | 2023-01-12 00:00:00 |            24 |           44 | Electronics |         547.11 |          8 |\n",
      "|  4 | 2023-01-13 00:00:00 |             3 |            8 | Clothing    |         513.73 |          5 |\n"
     ]
    }
   ],
   "source": [
    "high_value_sales_ps: psDataFrame = df_sales_ps.filter(\"sales_amount > 500\")\n",
    "print(f\"Number of high-value Sales: {high_value_sales_ps.count()}\")\n",
    "high_value_sales_ps.show(5)\n",
    "print(high_value_sales_ps.limit(5).toPandas().to_markdown())"
   ]
  },
  {
   "cell_type": "markdown",
   "id": "78ace75d",
   "metadata": {},
   "source": [
    "<div class=\"result\" markdown>\n",
    "\n",
    "```txt\n",
    "Number of high-value Sales: 43\n",
    "```\n",
    "\n",
    "```txt\n",
    "+-------------------+-----------+----------+-----------+------------+--------+\n",
    "|               date|customer_id|product_id|   category|sales_amount|quantity|\n",
    "+-------------------+-----------+----------+-----------+------------+--------+\n",
    "|2023-01-03 00:00:00|         15|        29|       Home|      994.51|       5|\n",
    "|2023-01-09 00:00:00|         75|         9|Electronics|      746.73|       2|\n",
    "|2023-01-10 00:00:00|         75|        24|      Books|      723.73|       6|\n",
    "|2023-01-12 00:00:00|         24|        44|Electronics|      547.11|       8|\n",
    "|2023-01-13 00:00:00|          3|         8|   Clothing|      513.73|       5|\n",
    "+-------------------+-----------+----------+-----------+------------+--------+\n",
    "only showing top 5 rows\n",
    "```\n",
    "\n",
    "|      | date                | customer_id | product_id | category    | sales_amount | quantity |\n",
    "| ---: | :------------------ | ----------: | ---------: | :---------- | -----------: | -------: |\n",
    "|    0 | 2023-01-03 00:00:00 |          15 |         29 | Home        |       994.51 |        5 |\n",
    "|    1 | 2023-01-09 00:00:00 |          75 |          9 | Electronics |       746.73 |        2 |\n",
    "|    2 | 2023-01-10 00:00:00 |          75 |         24 | Books       |       723.73 |        6 |\n",
    "|    3 | 2023-01-12 00:00:00 |          24 |         44 | Electronics |       547.11 |        8 |\n",
    "|    4 | 2023-01-13 00:00:00 |           3 |          8 | Clothing    |       513.73 |        5 |\n",
    "\n",
    "</div>\n",
    "\n",
    "### Polars\n",
    "\n",
    "When it comes to numerical filtering in Polars, the process is similar to the previous example, where we use the [`.filter()`][polars-filter] method to filter rows based on a given condition, but here we use a numerical value instead of a string value. In the below example, we filter for sales amounts greater than `500`.\n",
    "\n",
    "Also note here that we have used the [`pl.col()`][polars-col] function to specify the column we want to filter on. This is different from the previous examples, where we used the column name directly. The use of [`pl.col()`][polars-col] is a common practice in Polars to specify the column name in a more readable way."
   ]
  },
  {
   "cell_type": "code",
   "execution_count": null,
   "id": "94fd4b5c",
   "metadata": {
    "incorrectly_encoded_metadata": "{.polars linenums=\"1\" title=\"Filter for high value transactions\"}"
   },
   "outputs": [
    {
     "name": "stdout",
     "output_type": "stream",
     "text": [
      "Number of high-value Sales: 43\n",
      "shape: (5, 6)\n",
      "┌─────────────────────┬─────────────┬────────────┬─────────────┬──────────────┬──────────┐\n",
      "│ date                ┆ customer_id ┆ product_id ┆ category    ┆ sales_amount ┆ quantity │\n",
      "│ ---                 ┆ ---         ┆ ---        ┆ ---         ┆ ---          ┆ ---      │\n",
      "│ datetime[ns]        ┆ i64         ┆ i64        ┆ str         ┆ f64          ┆ i64      │\n",
      "╞═════════════════════╪═════════════╪════════════╪═════════════╪══════════════╪══════════╡\n",
      "│ 2023-01-03 00:00:00 ┆ 15          ┆ 29         ┆ Home        ┆ 994.51       ┆ 5        │\n",
      "│ 2023-01-09 00:00:00 ┆ 75          ┆ 9          ┆ Electronics ┆ 746.73       ┆ 2        │\n",
      "│ 2023-01-10 00:00:00 ┆ 75          ┆ 24         ┆ Books       ┆ 723.73       ┆ 6        │\n",
      "│ 2023-01-12 00:00:00 ┆ 24          ┆ 44         ┆ Electronics ┆ 547.11       ┆ 8        │\n",
      "│ 2023-01-13 00:00:00 ┆ 3           ┆ 8          ┆ Clothing    ┆ 513.73       ┆ 5        │\n",
      "└─────────────────────┴─────────────┴────────────┴─────────────┴──────────────┴──────────┘\n",
      "|    | date                |   customer_id |   product_id | category    |   sales_amount |   quantity |\n",
      "|---:|:--------------------|--------------:|-------------:|:------------|---------------:|-----------:|\n",
      "|  0 | 2023-01-03 00:00:00 |            15 |           29 | Home        |         994.51 |          5 |\n",
      "|  1 | 2023-01-09 00:00:00 |            75 |            9 | Electronics |         746.73 |          2 |\n",
      "|  2 | 2023-01-10 00:00:00 |            75 |           24 | Books       |         723.73 |          6 |\n",
      "|  3 | 2023-01-12 00:00:00 |            24 |           44 | Electronics |         547.11 |          8 |\n",
      "|  4 | 2023-01-13 00:00:00 |             3 |            8 | Clothing    |         513.73 |          5 |\n"
     ]
    }
   ],
   "source": [
    "high_value_sales_pl: pl.DataFrame = df_sales_pl.filter(pl.col(\"sales_amount\") > 500)\n",
    "print(f\"Number of high-value Sales: {len(high_value_sales_pl)}\")\n",
    "print(high_value_sales_pl.head(5))\n",
    "print(high_value_sales_pl.head(5).to_pandas().to_markdown())"
   ]
  },
  {
   "cell_type": "markdown",
   "id": "e2ae6555",
   "metadata": {},
   "source": [
    "<div class=\"result\" markdown>\n",
    "\n",
    "```txt\n",
    "Number of high-value Sales: 43\n",
    "```\n",
    "\n",
    "```txt\n",
    "shape: (5, 6)\n",
    "┌─────────────────────┬─────────────┬────────────┬─────────────┬──────────────┬──────────┐\n",
    "│ date                ┆ customer_id ┆ product_id ┆ category    ┆ sales_amount ┆ quantity │\n",
    "│ ---                 ┆ ---         ┆ ---        ┆ ---         ┆ ---          ┆ ---      │\n",
    "│ datetime[ns]        ┆ i64         ┆ i64        ┆ str         ┆ f64          ┆ i64      │\n",
    "╞═════════════════════╪═════════════╪════════════╪═════════════╪══════════════╪══════════╡\n",
    "│ 2023-01-03 00:00:00 ┆ 15          ┆ 29         ┆ Home        ┆ 994.51       ┆ 5        │\n",
    "│ 2023-01-09 00:00:00 ┆ 75          ┆ 9          ┆ Electronics ┆ 746.73       ┆ 2        │\n",
    "│ 2023-01-10 00:00:00 ┆ 75          ┆ 24         ┆ Books       ┆ 723.73       ┆ 6        │\n",
    "│ 2023-01-12 00:00:00 ┆ 24          ┆ 44         ┆ Electronics ┆ 547.11       ┆ 8        │\n",
    "│ 2023-01-13 00:00:00 ┆ 3           ┆ 8          ┆ Clothing    ┆ 513.73       ┆ 5        │\n",
    "└─────────────────────┴─────────────┴────────────┴─────────────┴──────────────┴──────────┘\n",
    "```\n",
    "\n",
    "|      | date                | customer_id | product_id | category    | sales_amount | quantity |\n",
    "| ---: | :------------------ | ----------: | ---------: | :---------- | -----------: | -------: |\n",
    "|    0 | 2023-01-03 00:00:00 |          15 |         29 | Home        |       994.51 |        5 |\n",
    "|    1 | 2023-01-09 00:00:00 |          75 |          9 | Electronics |       746.73 |        2 |\n",
    "|    2 | 2023-01-10 00:00:00 |          75 |         24 | Books       |       723.73 |        6 |\n",
    "|    3 | 2023-01-12 00:00:00 |          24 |         44 | Electronics |       547.11 |        8 |\n",
    "|    4 | 2023-01-13 00:00:00 |           3 |          8 | Clothing    |       513.73 |        5 |\n",
    "\n",
    "</div>\n",
    "\n",
    "In addition to subsetting a table by rows (aka _filtering_), we can also subset a table by columns (aka _selecting_). This allows us to create a new DataFrame with only the relevant columns we want to work with. This is useful when we want to focus on specific attributes of the data, such as dates, categories, or sales amounts."
   ]
  },
  {
   "cell_type": "markdown",
   "id": "5440e085",
   "metadata": {},
   "source": [
    "### Pandas\n",
    "\n",
    "To select specific columns in Pandas, we can use the double square brackets syntax to specify the columns we want to keep in the DataFrame. This allows us to create a new DataFrame with only the relevant columns.\n",
    "\n",
    "For more information about selecting specific columns, see the [Pandas documentation on selecting columns][pandas-subsetting]."
   ]
  },
  {
   "cell_type": "code",
   "execution_count": null,
   "id": "2b15e871",
   "metadata": {
    "incorrectly_encoded_metadata": "{.pandas linenums=\"1\" title=\"Select specific columns\"}"
   },
   "outputs": [
    {
     "name": "stdout",
     "output_type": "stream",
     "text": [
      "Sales Summary DataFrame: 100\n",
      "        date     category  sales_amount\n",
      "0 2023-01-01         Food        490.76\n",
      "1 2023-01-02  Electronics        453.94\n",
      "2 2023-01-03         Home        994.51\n",
      "3 2023-01-04  Electronics        184.17\n",
      "4 2023-01-05         Food         27.89\n",
      "|    | date                | category    |   sales_amount |\n",
      "|---:|:--------------------|:------------|---------------:|\n",
      "|  0 | 2023-01-01 00:00:00 | Food        |         490.76 |\n",
      "|  1 | 2023-01-02 00:00:00 | Electronics |         453.94 |\n",
      "|  2 | 2023-01-03 00:00:00 | Home        |         994.51 |\n",
      "|  3 | 2023-01-04 00:00:00 | Electronics |         184.17 |\n",
      "|  4 | 2023-01-05 00:00:00 | Food        |          27.89 |\n"
     ]
    }
   ],
   "source": [
    "sales_summary_pd: pd.DataFrame = df_sales_pd[[\"date\", \"category\", \"sales_amount\"]]\n",
    "print(f\"Sales Summary DataFrame: {len(sales_summary_pd)}\")\n",
    "print(sales_summary_pd.head(5))\n",
    "print(sales_summary_pd.head(5).to_markdown())"
   ]
  },
  {
   "cell_type": "markdown",
   "id": "82f2d070",
   "metadata": {},
   "source": [
    "<div class=\"result\" markdown>\n",
    "\n",
    "```txt\n",
    "Sales Summary DataFrame: 100\n",
    "```\n",
    "\n",
    "```txt\n",
    "        date     category  sales_amount\n",
    "0 2023-01-01         Food        490.76\n",
    "1 2023-01-02  Electronics        453.94\n",
    "2 2023-01-03         Home        994.51\n",
    "3 2023-01-04  Electronics        184.17\n",
    "4 2023-01-05         Food         27.89\n",
    "```\n",
    "\n",
    "|      | date                | category    | sales_amount |\n",
    "| ---: | :------------------ | :---------- | -----------: |\n",
    "|    0 | 2023-01-01 00:00:00 | Food        |       490.76 |\n",
    "|    1 | 2023-01-02 00:00:00 | Electronics |       453.94 |\n",
    "|    2 | 2023-01-03 00:00:00 | Home        |       994.51 |\n",
    "|    3 | 2023-01-04 00:00:00 | Electronics |       184.17 |\n",
    "|    4 | 2023-01-05 00:00:00 | Food        |        27.89 |\n",
    "\n",
    "</div>\n",
    "\n",
    "### SQL\n",
    "\n",
    "To select specific columns in SQL, we can use the `SELECT` statement to specify the columns we want to retrieve from the table. This allows us to create a new DataFrame with only the relevant columns. We can use the [`pd.read_sql()`][pandas-read_sql] function to execute SQL queries and retrieve the data from the database.\n",
    "\n",
    "For more information about selecting specific columns in SQL, see the [SQL SELECT statement documentation][sqlite-select]."
   ]
  },
  {
   "cell_type": "code",
   "execution_count": null,
   "id": "cf524ce4",
   "metadata": {
    "incorrectly_encoded_metadata": "{.sql linenums=\"1\" title=\"Select specific columns\"}"
   },
   "outputs": [
    {
     "name": "stdout",
     "output_type": "stream",
     "text": [
      "Selected columns in Sales: 100\n",
      "                  date     category  sales_amount\n",
      "0  2023-01-01 00:00:00         Food        490.76\n",
      "1  2023-01-02 00:00:00  Electronics        453.94\n",
      "2  2023-01-03 00:00:00         Home        994.51\n",
      "3  2023-01-04 00:00:00  Electronics        184.17\n",
      "4  2023-01-05 00:00:00         Food         27.89\n",
      "|    | date                | category    |   sales_amount |\n",
      "|---:|:--------------------|:------------|---------------:|\n",
      "|  0 | 2023-01-01 00:00:00 | Food        |         490.76 |\n",
      "|  1 | 2023-01-02 00:00:00 | Electronics |         453.94 |\n",
      "|  2 | 2023-01-03 00:00:00 | Home        |         994.51 |\n",
      "|  3 | 2023-01-04 00:00:00 | Electronics |         184.17 |\n",
      "|  4 | 2023-01-05 00:00:00 | Food        |          27.89 |\n"
     ]
    }
   ],
   "source": [
    "sales_summary_txt: str = \"\"\"\n",
    "    SELECT date, category, sales_amount\n",
    "    FROM sales\n",
    "\"\"\"\n",
    "sales_summary_sql: pd.DataFrame = pd.read_sql(sales_summary_txt, conn)\n",
    "print(f\"Selected columns in Sales: {len(sales_summary_sql)}\")\n",
    "print(pd.read_sql(sales_summary_txt + \"LIMIT 5\", conn))\n",
    "print(pd.read_sql(sales_summary_txt + \"LIMIT 5\", conn).to_markdown())"
   ]
  },
  {
   "cell_type": "markdown",
   "id": "7f4d2069",
   "metadata": {},
   "source": [
    "<div class=\"result\" markdown>\n",
    "\n",
    "```txt\n",
    "Selected columns in Sales: 100\n",
    "```\n",
    "\n",
    "```txt\n",
    "                  date     category  sales_amount\n",
    "0  2023-01-01 00:00:00         Food        490.76\n",
    "1  2023-01-02 00:00:00  Electronics        453.94\n",
    "2  2023-01-03 00:00:00         Home        994.51\n",
    "3  2023-01-04 00:00:00  Electronics        184.17\n",
    "4  2023-01-05 00:00:00         Food         27.89\n",
    "```\n",
    "\n",
    "|      | date                | category    | sales_amount |\n",
    "| ---: | :------------------ | :---------- | -----------: |\n",
    "|    0 | 2023-01-01 00:00:00 | Food        |       490.76 |\n",
    "|    1 | 2023-01-02 00:00:00 | Electronics |       453.94 |\n",
    "|    2 | 2023-01-03 00:00:00 | Home        |       994.51 |\n",
    "|    3 | 2023-01-04 00:00:00 | Electronics |       184.17 |\n",
    "|    4 | 2023-01-05 00:00:00 | Food        |        27.89 |\n",
    "\n",
    "</div>\n",
    "\n",
    "### PySpark\n",
    "\n",
    "To select specific columns in PySpark, we can use the [`.select()`][pyspark-select] method to specify the columns we want to keep in the DataFrame. This allows us to create a new DataFrame with only the relevant columns. The syntax is similar to SQL, where we can specify the column names as strings."
   ]
  },
  {
   "cell_type": "code",
   "execution_count": null,
   "id": "0406994a",
   "metadata": {
    "incorrectly_encoded_metadata": "{.pyspark linenums=\"1\" title=\"Select specific columns\"}"
   },
   "outputs": [
    {
     "name": "stdout",
     "output_type": "stream",
     "text": [
      "Sales Summary DataFrame: 100\n",
      "+-------------------+-----------+------------+\n",
      "|               date|   category|sales_amount|\n",
      "+-------------------+-----------+------------+\n",
      "|2023-01-01 00:00:00|       Food|      490.76|\n",
      "|2023-01-02 00:00:00|Electronics|      453.94|\n",
      "|2023-01-03 00:00:00|       Home|      994.51|\n",
      "|2023-01-04 00:00:00|Electronics|      184.17|\n",
      "|2023-01-05 00:00:00|       Food|       27.89|\n",
      "+-------------------+-----------+------------+\n",
      "only showing top 5 rows\n",
      "\n",
      "|    | date                | category    |   sales_amount |\n",
      "|---:|:--------------------|:------------|---------------:|\n",
      "|  0 | 2023-01-01 00:00:00 | Food        |         490.76 |\n",
      "|  1 | 2023-01-02 00:00:00 | Electronics |         453.94 |\n",
      "|  2 | 2023-01-03 00:00:00 | Home        |         994.51 |\n",
      "|  3 | 2023-01-04 00:00:00 | Electronics |         184.17 |\n",
      "|  4 | 2023-01-05 00:00:00 | Food        |          27.89 |\n"
     ]
    }
   ],
   "source": [
    "sales_summary_ps: psDataFrame = df_sales_ps.select(\"date\", \"category\", \"sales_amount\")\n",
    "print(f\"Sales Summary DataFrame: {sales_summary_ps.count()}\")\n",
    "sales_summary_ps.show(5)\n",
    "print(sales_summary_ps.limit(5).toPandas().to_markdown())"
   ]
  },
  {
   "cell_type": "markdown",
   "id": "18592ca1",
   "metadata": {},
   "source": [
    "<div class=\"result\" markdown>\n",
    "\n",
    "```txt\n",
    "Sales Summary DataFrame: 100\n",
    "```\n",
    "\n",
    "```txt\n",
    "+-------------------+-----------+------------+\n",
    "|               date|   category|sales_amount|\n",
    "+-------------------+-----------+------------+\n",
    "|2023-01-01 00:00:00|       Food|      490.76|\n",
    "|2023-01-02 00:00:00|Electronics|      453.94|\n",
    "|2023-01-03 00:00:00|       Home|      994.51|\n",
    "|2023-01-04 00:00:00|Electronics|      184.17|\n",
    "|2023-01-05 00:00:00|       Food|       27.89|\n",
    "+-------------------+-----------+------------+\n",
    "only showing top 5 rows\n",
    "```\n",
    "\n",
    "|      | date                | category    | sales_amount |\n",
    "| ---: | :------------------ | :---------- | -----------: |\n",
    "|    0 | 2023-01-01 00:00:00 | Food        |       490.76 |\n",
    "|    1 | 2023-01-02 00:00:00 | Electronics |       453.94 |\n",
    "|    2 | 2023-01-03 00:00:00 | Home        |       994.51 |\n",
    "|    3 | 2023-01-04 00:00:00 | Electronics |       184.17 |\n",
    "|    4 | 2023-01-05 00:00:00 | Food        |        27.89 |\n",
    "\n",
    "</div>\n",
    "\n",
    "### Polars\n",
    "\n",
    "To select specific columns in Polars, we can use the [`.select()`][polars-select] method to specify the columns we want to keep in the DataFrame. This allows us to create a new DataFrame with only the relevant columns."
   ]
  },
  {
   "cell_type": "code",
   "execution_count": null,
   "id": "5028d19a",
   "metadata": {
    "incorrectly_encoded_metadata": "{.polars linenums=\"1\" title=\"Select specific columns\"}"
   },
   "outputs": [
    {
     "name": "stdout",
     "output_type": "stream",
     "text": [
      "Sales Summary DataFrame: 100\n",
      "shape: (5, 3)\n",
      "┌─────────────────────┬─────────────┬──────────────┐\n",
      "│ date                ┆ category    ┆ sales_amount │\n",
      "│ ---                 ┆ ---         ┆ ---          │\n",
      "│ datetime[ns]        ┆ str         ┆ f64          │\n",
      "╞═════════════════════╪═════════════╪══════════════╡\n",
      "│ 2023-01-01 00:00:00 ┆ Food        ┆ 490.76       │\n",
      "│ 2023-01-02 00:00:00 ┆ Electronics ┆ 453.94       │\n",
      "│ 2023-01-03 00:00:00 ┆ Home        ┆ 994.51       │\n",
      "│ 2023-01-04 00:00:00 ┆ Electronics ┆ 184.17       │\n",
      "│ 2023-01-05 00:00:00 ┆ Food        ┆ 27.89        │\n",
      "└─────────────────────┴─────────────┴──────────────┘\n",
      "|    | date                | category    |   sales_amount |\n",
      "|---:|:--------------------|:------------|---------------:|\n",
      "|  0 | 2023-01-01 00:00:00 | Food        |         490.76 |\n",
      "|  1 | 2023-01-02 00:00:00 | Electronics |         453.94 |\n",
      "|  2 | 2023-01-03 00:00:00 | Home        |         994.51 |\n",
      "|  3 | 2023-01-04 00:00:00 | Electronics |         184.17 |\n",
      "|  4 | 2023-01-05 00:00:00 | Food        |          27.89 |\n"
     ]
    }
   ],
   "source": [
    "sales_summary_pl: pl.DataFrame = df_sales_pl.select([\"date\", \"category\", \"sales_amount\"])\n",
    "print(f\"Sales Summary DataFrame: {len(sales_summary_pl)}\")\n",
    "print(sales_summary_pl.head(5))\n",
    "print(sales_summary_pl.head(5).to_pandas().to_markdown())"
   ]
  },
  {
   "cell_type": "markdown",
   "id": "5ceb35b8",
   "metadata": {},
   "source": [
    "<div class=\"result\" markdown>\n",
    "\n",
    "```txt\n",
    "Sales Summary DataFrame: 100\n",
    "```\n",
    "\n",
    "```txt\n",
    "shape: (5, 3)\n",
    "┌─────────────────────┬─────────────┬──────────────┐\n",
    "│ date                ┆ category    ┆ sales_amount │\n",
    "│ ---                 ┆ ---         ┆ ---          │\n",
    "│ datetime[ns]        ┆ str         ┆ f64          │\n",
    "╞═════════════════════╪═════════════╪══════════════╡\n",
    "│ 2023-01-01 00:00:00 ┆ Food        ┆ 490.76       │\n",
    "│ 2023-01-02 00:00:00 ┆ Electronics ┆ 453.94       │\n",
    "│ 2023-01-03 00:00:00 ┆ Home        ┆ 994.51       │\n",
    "│ 2023-01-04 00:00:00 ┆ Electronics ┆ 184.17       │\n",
    "│ 2023-01-05 00:00:00 ┆ Food        ┆ 27.89        │\n",
    "└─────────────────────┴─────────────┴──────────────┘\n",
    "```\n",
    "\n",
    "|      | date                | category    | sales_amount |\n",
    "| ---: | :------------------ | :---------- | -----------: |\n",
    "|    0 | 2023-01-01 00:00:00 | Food        |       490.76 |\n",
    "|    1 | 2023-01-02 00:00:00 | Electronics |       453.94 |\n",
    "|    2 | 2023-01-03 00:00:00 | Home        |       994.51 |\n",
    "|    3 | 2023-01-04 00:00:00 | Electronics |       184.17 |\n",
    "|    4 | 2023-01-05 00:00:00 | Food        |        27.89 |\n",
    "\n",
    "</div>"
   ]
  },
  {
   "cell_type": "markdown",
   "id": "8de02683",
   "metadata": {},
   "source": [
    "## 2. Grouping and Aggregation\n",
    "\n",
    "The second section will cover grouping and aggregation techniques. These operations are essential for summarizing data and extracting insights from large datasets.\n",
    "\n",
    "### Pandas\n",
    "\n",
    "In Pandas, we can use the [`.agg()`](https://pandas.pydata.org/docs/reference/api/pandas.DataFrame.agg.html) method to perform aggregation operations on DataFrames. This method allows us to apply multiple aggregation functions to different columns in a single operation."
   ]
  },
  {
   "cell_type": "code",
   "execution_count": null,
   "id": "3b1ce41b",
   "metadata": {
    "incorrectly_encoded_metadata": "{.pandas linenums=\"1\" title=\"Basic aggregation\"}"
   },
   "outputs": [
    {
     "name": "stdout",
     "output_type": "stream",
     "text": [
      "Sales Statistics: 5\n",
      "       sales_amount  quantity\n",
      "sum      48227.0500    464.00\n",
      "mean       482.2705      4.64\n",
      "min         15.1300      1.00\n",
      "max        994.6100      9.00\n",
      "count      100.0000       NaN\n",
      "|       |   sales_amount |   quantity |\n",
      "|:------|---------------:|-----------:|\n",
      "| sum   |      48227.1   |     464    |\n",
      "| mean  |        482.271 |       4.64 |\n",
      "| min   |         15.13  |       1    |\n",
      "| max   |        994.61  |       9    |\n",
      "| count |        100     |     nan    |\n"
     ]
    }
   ],
   "source": [
    "sales_stats_pd: pd.DataFrame = df_sales_pd.agg(\n",
    "    {\n",
    "        \"sales_amount\": [\"sum\", \"mean\", \"min\", \"max\", \"count\"],\n",
    "        \"quantity\": [\"sum\", \"mean\", \"min\", \"max\"],\n",
    "    }\n",
    ")\n",
    "print(f\"Sales Statistics: {len(sales_stats_pd)}\")\n",
    "print(sales_stats_pd)\n",
    "print(sales_stats_pd.to_markdown())"
   ]
  },
  {
   "cell_type": "markdown",
   "id": "e1b1d79d",
   "metadata": {},
   "source": [
    "<div class=\"result\" markdown>\n",
    "\n",
    "```txt\n",
    "Sales Statistics: 5\n",
    "```\n",
    "\n",
    "```txt\n",
    "       sales_amount  quantity\n",
    "sum      48227.0500    464.00\n",
    "mean       482.2705      4.64\n",
    "min         15.1300      1.00\n",
    "max        994.6100      9.00\n",
    "count      100.0000       NaN\n",
    "```\n",
    "\n",
    "|       | sales_amount | quantity |\n",
    "| :---- | -----------: | -------: |\n",
    "| sum   |      48227.1 |      464 |\n",
    "| mean  |      482.271 |     4.64 |\n",
    "| min   |        15.13 |        1 |\n",
    "| max   |       994.61 |        9 |\n",
    "| count |          100 |      nan |\n",
    "\n",
    "</div>\n",
    "\n",
    "### SQL"
   ]
  },
  {
   "cell_type": "code",
   "execution_count": null,
   "id": "4298159a",
   "metadata": {
    "incorrectly_encoded_metadata": "{.sql linenums=\"1\" title=\"Basic aggregation\"}"
   },
   "outputs": [
    {
     "name": "stdout",
     "output_type": "stream",
     "text": [
      "Sales Statistics: 1\n",
      "   sales_sum  sales_mean  sales_min  sales_max  sales_count  quantity_sum  \\\n",
      "0   48227.05    482.2705      15.13     994.61          100           464   \n",
      "\n",
      "   quantity_mean  quantity_min  quantity_max  \n",
      "0           4.64             1             9  \n",
      "|    |   sales_sum |   sales_mean |   sales_min |   sales_max |   sales_count |   quantity_sum |   quantity_mean |   quantity_min |   quantity_max |\n",
      "|---:|------------:|-------------:|------------:|------------:|--------------:|---------------:|----------------:|---------------:|---------------:|\n",
      "|  0 |     48227.1 |      482.271 |       15.13 |      994.61 |           100 |            464 |            4.64 |              1 |              9 |\n"
     ]
    }
   ],
   "source": [
    "sales_stats_txt: str = \"\"\"\n",
    "    SELECT\n",
    "        SUM(sales_amount) AS sales_sum,\n",
    "        AVG(sales_amount) AS sales_mean,\n",
    "        MIN(sales_amount) AS sales_min,\n",
    "        MAX(sales_amount) AS sales_max,\n",
    "        COUNT(*) AS sales_count,\n",
    "        SUM(quantity) AS quantity_sum,\n",
    "        AVG(quantity) AS quantity_mean,\n",
    "        MIN(quantity) AS quantity_min,\n",
    "        MAX(quantity) AS quantity_max\n",
    "    FROM sales\n",
    "\"\"\"\n",
    "print(f\"Sales Statistics: {len(pd.read_sql(sales_stats_txt, conn))}\")\n",
    "print(pd.read_sql(sales_stats_txt, conn))\n",
    "print(pd.read_sql(sales_stats_txt, conn).to_markdown())"
   ]
  },
  {
   "cell_type": "markdown",
   "id": "ea627d5c",
   "metadata": {},
   "source": [
    "<div class=\"result\" markdown>\n",
    "\n",
    "```txt\n",
    "Sales Statistics: 1\n",
    "```\n",
    "\n",
    "```txt\n",
    "   sales_sum  sales_mean  sales_min  sales_max  sales_count  quantity_sum  quantity_mean  quantity_min  quantity_max\n",
    "0   48227.05    482.2705      15.13     994.61          100           464           4.64             1             9\n",
    "```\n",
    "\n",
    "|      | sales_sum | sales_mean | sales_min | sales_max | sales_count | quantity_sum | quantity_mean | quantity_min | quantity_max |\n",
    "| ---: | --------: | ---------: | --------: | --------: | ----------: | -----------: | ------------: | -----------: | -----------: |\n",
    "|    0 |   48227.1 |    482.271 |     15.13 |    994.61 |         100 |          464 |          4.64 |            1 |            9 |\n",
    "\n",
    "</div>\n",
    "\n",
    "### PySpark"
   ]
  },
  {
   "cell_type": "code",
   "execution_count": null,
   "id": "ae529cba",
   "metadata": {
    "incorrectly_encoded_metadata": "{.pyspark linenums=\"1\" title=\"Basic aggregation\"}"
   },
   "outputs": [
    {
     "name": "stdout",
     "output_type": "stream",
     "text": [
      "Sales Statistics: 1\n",
      "+---------+----------+---------+---------+-----------+------------+-------------+------------+------------+\n",
      "|sales_sum|sales_mean|sales_min|sales_max|sales_count|quantity_sum|quantity_mean|quantity_min|quantity_max|\n",
      "+---------+----------+---------+---------+-----------+------------+-------------+------------+------------+\n",
      "| 48227.05|  482.2705|    15.13|   994.61|        100|         464|         4.64|           1|           9|\n",
      "+---------+----------+---------+---------+-----------+------------+-------------+------------+------------+\n",
      "\n",
      "|    |   sales_sum |   sales_mean |   sales_min |   sales_max |   sales_count |   quantity_sum |   quantity_mean |   quantity_min |   quantity_max |\n",
      "|---:|------------:|-------------:|------------:|------------:|--------------:|---------------:|----------------:|---------------:|---------------:|\n",
      "|  0 |     48227.1 |      482.271 |       15.13 |      994.61 |           100 |            464 |            4.64 |              1 |              9 |\n"
     ]
    }
   ],
   "source": [
    "sales_stats_ps: psDataFrame = df_sales_ps.agg(\n",
    "    F.sum(\"sales_amount\").alias(\"sales_sum\"),\n",
    "    F.avg(\"sales_amount\").alias(\"sales_mean\"),\n",
    "    F.expr(\"MIN(sales_amount) AS sales_min\"),\n",
    "    F.expr(\"MAX(sales_amount) AS sales_max\"),\n",
    "    F.count(\"*\").alias(\"sales_count\"),\n",
    "    F.expr(\"SUM(quantity) AS quantity_sum\"),\n",
    "    F.expr(\"AVG(quantity) AS quantity_mean\"),\n",
    "    F.min(\"quantity\").alias(\"quantity_min\"),\n",
    "    F.max(\"quantity\").alias(\"quantity_max\"),\n",
    ")\n",
    "print(f\"Sales Statistics: {sales_stats_ps.count()}\")\n",
    "sales_stats_ps.show(5)\n",
    "print(sales_stats_ps.limit(5).toPandas().to_markdown())"
   ]
  },
  {
   "cell_type": "markdown",
   "id": "f0c31695",
   "metadata": {},
   "source": [
    "<div class=\"result\" markdown>\n",
    "\n",
    "```txt\n",
    "Sales Statistics: 1\n",
    "```\n",
    "\n",
    "```txt\n",
    "+---------+----------+---------+---------+-----------+------------+-------------+------------+------------+\n",
    "|sales_sum|sales_mean|sales_min|sales_max|sales_count|quantity_sum|quantity_mean|quantity_min|quantity_max|\n",
    "+---------+----------+---------+---------+-----------+------------+-------------+------------+------------+\n",
    "| 48227.05|  482.2705|    15.13|   994.61|        100|         464|         4.64|           1|           9|\n",
    "+---------+----------+---------+---------+-----------+------------+-------------+------------+------------+\n",
    "```\n",
    "\n",
    "|      | sales_sum | sales_mean | sales_min | sales_max | sales_count | quantity_sum | quantity_mean | quantity_min | quantity_max |\n",
    "| ---: | --------: | ---------: | --------: | --------: | ----------: | -----------: | ------------: | -----------: | -----------: |\n",
    "|    0 |   48227.1 |    482.271 |     15.13 |    994.61 |         100 |          464 |          4.64 |            1 |            9 |\n",
    "\n",
    "</div>\n",
    "\n",
    "### Polars"
   ]
  },
  {
   "cell_type": "code",
   "execution_count": null,
   "id": "12029b10",
   "metadata": {
    "incorrectly_encoded_metadata": "{.polars linenums=\"1\" title=\"Basic aggregation\"}"
   },
   "outputs": [
    {
     "name": "stdout",
     "output_type": "stream",
     "text": [
      "Sales Statistics: 1\n",
      "shape: (1, 8)\n",
      "┌───────────┬────────────┬───────────┬───────────┬────────────┬────────────┬───────────┬───────────┐\n",
      "│ sales_sum ┆ sales_mean ┆ sales_min ┆ sales_max ┆ quantity_s ┆ quantity_m ┆ quantity_ ┆ quantity_ │\n",
      "│ ---       ┆ ---        ┆ ---       ┆ ---       ┆ um         ┆ ean        ┆ min       ┆ max       │\n",
      "│ f64       ┆ f64        ┆ f64       ┆ f64       ┆ ---        ┆ ---        ┆ ---       ┆ ---       │\n",
      "│           ┆            ┆           ┆           ┆ i64        ┆ f64        ┆ i64       ┆ i64       │\n",
      "╞═══════════╪════════════╪═══════════╪═══════════╪════════════╪════════════╪═══════════╪═══════════╡\n",
      "│ 48227.05  ┆ 482.2705   ┆ 15.13     ┆ 994.61    ┆ 464        ┆ 4.64       ┆ 1         ┆ 9         │\n",
      "└───────────┴────────────┴───────────┴───────────┴────────────┴────────────┴───────────┴───────────┘\n",
      "|    |   sales_sum |   sales_mean |   sales_min |   sales_max |   quantity_sum |   quantity_mean |   quantity_min |   quantity_max |\n",
      "|---:|------------:|-------------:|------------:|------------:|---------------:|----------------:|---------------:|---------------:|\n",
      "|  0 |       48227 |       482.27 |       15.13 |      994.61 |            464 |            4.64 |              1 |              9 |\n"
     ]
    }
   ],
   "source": [
    "sales_stats_pl: pl.DataFrame = df_sales_pl.select(\n",
    "    pl.col(\"sales_amount\").sum().alias(\"sales_sum\"),\n",
    "    pl.col(\"sales_amount\").mean().alias(\"sales_mean\"),\n",
    "    pl.col(\"sales_amount\").min().alias(\"sales_min\"),\n",
    "    pl.col(\"sales_amount\").max().alias(\"sales_max\"),\n",
    "    pl.col(\"quantity\").sum().alias(\"quantity_sum\"),\n",
    "    pl.col(\"quantity\").mean().alias(\"quantity_mean\"),\n",
    "    pl.col(\"quantity\").min().alias(\"quantity_min\"),\n",
    "    pl.col(\"quantity\").max().alias(\"quantity_max\"),\n",
    ")\n",
    "print(f\"Sales Statistics: {len(sales_stats_pl)}\")\n",
    "print(sales_stats_pl)\n",
    "print(sales_stats_pl.to_pandas().to_markdown())"
   ]
  },
  {
   "cell_type": "markdown",
   "id": "3bf2cb6e",
   "metadata": {},
   "source": [
    "<div class=\"result\" markdown>\n",
    "\n",
    "```txt\n",
    "Sales Statistics: 1\n",
    "```\n",
    "\n",
    "```txt\n",
    "shape: (1, 8)\n",
    "┌───────────┬────────────┬───────────┬───────────┬──────────────┬───────────────┬──────────────┬──────────────┐\n",
    "│ sales_sum ┆ sales_mean ┆ sales_min ┆ sales_max ┆ quantity_sum ┆ quantity_mean ┆ quantity_min ┆ quantity_max │\n",
    "│ ---       ┆ ---        ┆ ---       ┆ ---       ┆ ---          ┆ ---           ┆ ---          ┆ ---          │\n",
    "│ f64       ┆ f64        ┆ f64       ┆ f64       ┆ i64          ┆ f64           ┆ i64          ┆ i64          │\n",
    "╞═══════════╪════════════╪═══════════╪═══════════╪══════════════╪═══════════════╪══════════════╪══════════════╡\n",
    "│ 48227.05  ┆ 482.2705   ┆ 15.13     ┆ 994.61    ┆ 464          ┆ 4.64          ┆ 1            ┆ 9            │\n",
    "└───────────┴────────────┴───────────┴───────────┴──────────────┴───────────────┴──────────────┴──────────────┘\n",
    "```\n",
    "\n",
    "|      | sales_sum | sales_mean | sales_min | sales_max | quantity_sum | quantity_mean | quantity_min | quantity_max |\n",
    "| ---: | --------: | ---------: | --------: | --------: | -----------: | ------------: | -----------: | -----------: |\n",
    "|    0 |     48227 |     482.27 |     15.13 |    994.61 |          464 |          4.64 |            1 |            9 |\n",
    "\n",
    "</div>\n",
    "\n",
    "It is also possible to group data by a specific column and then apply aggregation functions to summarize the data.\n",
    "\n",
    "### Pandas\n",
    "\n",
    "This is done using the [`.groupby()`](https://pandas.pydata.org/docs/reference/api/pandas.DataFrame.groupby.html) method to group data by one or more columns and then apply aggregation functions to summarize the data, followed by the [`.agg()`](https://pandas.pydata.org/docs/reference/api/pandas.DataFrame.agg.html) method."
   ]
  },
  {
   "cell_type": "code",
   "execution_count": null,
   "id": "983b9ef8",
   "metadata": {
    "incorrectly_encoded_metadata": "{.pandas linenums=\"1\" title=\"Group by category and aggregate\"}"
   },
   "outputs": [
    {
     "name": "stdout",
     "output_type": "stream",
     "text": [
      "Category Sales Summary: 5\n",
      "            sales_amount                   quantity\n",
      "                     sum        mean count      sum\n",
      "category                                           \n",
      "Books           10154.83  441.514348    23      100\n",
      "Clothing         7325.31  457.831875    16       62\n",
      "Electronics     11407.45  407.408929    28      147\n",
      "Food            12995.57  541.482083    24      115\n",
      "Home             6343.89  704.876667     9       40\n",
      "| category    |   ('sales_amount', 'sum') |   ('sales_amount', 'mean') |   ('sales_amount', 'count') |   ('quantity', 'sum') |\n",
      "|:------------|--------------------------:|---------------------------:|----------------------------:|----------------------:|\n",
      "| Books       |                  10154.8  |                    441.514 |                          23 |                   100 |\n",
      "| Clothing    |                   7325.31 |                    457.832 |                          16 |                    62 |\n",
      "| Electronics |                  11407.5  |                    407.409 |                          28 |                   147 |\n",
      "| Food        |                  12995.6  |                    541.482 |                          24 |                   115 |\n",
      "| Home        |                   6343.89 |                    704.877 |                           9 |                    40 |\n"
     ]
    }
   ],
   "source": [
    "category_sales_pd: pd.DataFrame = df_sales_pd.groupby(\"category\").agg(\n",
    "    {\n",
    "        \"sales_amount\": [\"sum\", \"mean\", \"count\"],\n",
    "        \"quantity\": \"sum\",\n",
    "    }\n",
    ")\n",
    "print(f\"Category Sales Summary: {len(category_sales_pd)}\")\n",
    "print(category_sales_pd)\n",
    "print(category_sales_pd.to_markdown())"
   ]
  },
  {
   "cell_type": "markdown",
   "id": "e4314f95",
   "metadata": {},
   "source": [
    "<div class=\"result\" markdown>\n",
    "\n",
    "```txt\n",
    "Category Sales Summary: 5\n",
    "```\n",
    "\n",
    "```txt\n",
    "            sales_amount                   quantity\n",
    "                     sum        mean count      sum\n",
    "category\n",
    "Books           10154.83  441.514348    23      100\n",
    "Clothing         7325.31  457.831875    16       62\n",
    "Electronics     11407.45  407.408929    28      147\n",
    "Food            12995.57  541.482083    24      115\n",
    "Home             6343.89  704.876667     9       40\n",
    "```\n",
    "\n",
    "| category    | ('sales_amount', 'sum') | ('sales_amount', 'mean') | ('sales_amount', 'count') | ('quantity', 'sum') |\n",
    "| :---------- | ----------------------: | -----------------------: | ------------------------: | ------------------: |\n",
    "| Books       |                 10154.8 |                  441.514 |                        23 |                 100 |\n",
    "| Clothing    |                 7325.31 |                  457.832 |                        16 |                  62 |\n",
    "| Electronics |                 11407.5 |                  407.409 |                        28 |                 147 |\n",
    "| Food        |                 12995.6 |                  541.482 |                        24 |                 115 |\n",
    "| Home        |                 6343.89 |                  704.877 |                         9 |                  40 |\n",
    "\n",
    "</div>\n",
    "\n",
    "### SQL"
   ]
  },
  {
   "cell_type": "code",
   "execution_count": null,
   "id": "6876c78e",
   "metadata": {
    "incorrectly_encoded_metadata": "{.sql linenums=\"1\" title=\"Group by category and aggregate\"}"
   },
   "outputs": [
    {
     "name": "stdout",
     "output_type": "stream",
     "text": [
      "Category Sales Summary: 5\n",
      "      category  total_sales  average_sales  transaction_count  total_quantity\n",
      "0        Books     10154.83     441.514348                 23             100\n",
      "1     Clothing      7325.31     457.831875                 16              62\n",
      "2  Electronics     11407.45     407.408929                 28             147\n",
      "3         Food     12995.57     541.482083                 24             115\n",
      "4         Home      6343.89     704.876667                  9              40\n",
      "|    | category    |   total_sales |   average_sales |   transaction_count |   total_quantity |\n",
      "|---:|:------------|--------------:|----------------:|--------------------:|-----------------:|\n",
      "|  0 | Books       |      10154.8  |         441.514 |                  23 |              100 |\n",
      "|  1 | Clothing    |       7325.31 |         457.832 |                  16 |               62 |\n",
      "|  2 | Electronics |      11407.5  |         407.409 |                  28 |              147 |\n",
      "|  3 | Food        |      12995.6  |         541.482 |                  24 |              115 |\n",
      "|  4 | Home        |       6343.89 |         704.877 |                   9 |               40 |\n"
     ]
    }
   ],
   "source": [
    "category_sales_txt: str = \"\"\"\n",
    "    SELECT\n",
    "        category,\n",
    "        SUM(sales_amount) AS total_sales,\n",
    "        AVG(sales_amount) AS average_sales,\n",
    "        COUNT(*) AS transaction_count,\n",
    "        SUM(quantity) AS total_quantity\n",
    "    FROM sales\n",
    "    GROUP BY category\n",
    "\"\"\"\n",
    "print(f\"Category Sales Summary: {len(pd.read_sql(category_sales_txt, conn))}\")\n",
    "print(pd.read_sql(category_sales_txt + \"LIMIT 5\", conn))\n",
    "print(pd.read_sql(category_sales_txt + \"LIMIT 5\", conn).to_markdown())"
   ]
  },
  {
   "cell_type": "markdown",
   "id": "a0a37ece",
   "metadata": {},
   "source": [
    "<div class=\"result\" markdown>\n",
    "\n",
    "```txt\n",
    "Category Sales Summary: 5\n",
    "```\n",
    "\n",
    "```txt\n",
    "      category  total_sales  average_sales  transaction_count  total_quantity\n",
    "0        Books     10154.83     441.514348                 23             100\n",
    "1     Clothing      7325.31     457.831875                 16              62\n",
    "2  Electronics     11407.45     407.408929                 28             147\n",
    "3         Food     12995.57     541.482083                 24             115\n",
    "4         Home      6343.89     704.876667                  9              40\n",
    "```\n",
    "\n",
    "|      | category    | total_sales | average_sales | transaction_count | total_quantity |\n",
    "| ---: | :---------- | ----------: | ------------: | ----------------: | -------------: |\n",
    "|    0 | Books       |     10154.8 |       441.514 |                23 |            100 |\n",
    "|    1 | Clothing    |     7325.31 |       457.832 |                16 |             62 |\n",
    "|    2 | Electronics |     11407.5 |       407.409 |                28 |            147 |\n",
    "|    3 | Food        |     12995.6 |       541.482 |                24 |            115 |\n",
    "|    4 | Home        |     6343.89 |       704.877 |                 9 |             40 |\n",
    "\n",
    "</div>\n",
    "\n",
    "### PySpark"
   ]
  },
  {
   "cell_type": "code",
   "execution_count": null,
   "id": "dbcab0c1",
   "metadata": {
    "incorrectly_encoded_metadata": "{.pyspark linenums=\"1\" title=\"Group by category and aggregate\"}"
   },
   "outputs": [
    {
     "name": "stdout",
     "output_type": "stream",
     "text": [
      "Category Sales Summary: 5\n",
      "+-----------+------------------+------------------+-----------------+--------------+\n",
      "|   category|       total_sales|     average_sales|transaction_count|total_quantity|\n",
      "+-----------+------------------+------------------+-----------------+--------------+\n",
      "|       Home| 6343.889999999999| 704.8766666666666|                9|            40|\n",
      "|       Food|          12995.57| 541.4820833333333|               24|           115|\n",
      "|Electronics|11407.449999999999|407.40892857142853|               28|           147|\n",
      "|   Clothing|7325.3099999999995|457.83187499999997|               16|            62|\n",
      "|      Books|          10154.83|  441.514347826087|               23|           100|\n",
      "+-----------+------------------+------------------+-----------------+--------------+\n",
      "\n",
      "|    | category    |   total_sales |   average_sales |   transaction_count |   total_quantity |\n",
      "|---:|:------------|--------------:|----------------:|--------------------:|-----------------:|\n",
      "|  0 | Home        |       6343.89 |         704.877 |                   9 |               40 |\n",
      "|  1 | Food        |      12995.6  |         541.482 |                  24 |              115 |\n",
      "|  2 | Electronics |      11407.4  |         407.409 |                  28 |              147 |\n",
      "|  3 | Clothing    |       7325.31 |         457.832 |                  16 |               62 |\n",
      "|  4 | Books       |      10154.8  |         441.514 |                  23 |              100 |\n"
     ]
    }
   ],
   "source": [
    "category_sales_ps: psDataFrame = df_sales_ps.groupBy(\"category\").agg(\n",
    "    F.sum(\"sales_amount\").alias(\"total_sales\"),\n",
    "    F.avg(\"sales_amount\").alias(\"average_sales\"),\n",
    "    F.count(\"*\").alias(\"transaction_count\"),\n",
    "    F.sum(\"quantity\").alias(\"total_quantity\"),\n",
    ")\n",
    "print(f\"Category Sales Summary: {category_sales_ps.count()}\")\n",
    "category_sales_ps.show(5)\n",
    "print(category_sales_ps.limit(5).toPandas().to_markdown())"
   ]
  },
  {
   "cell_type": "markdown",
   "id": "d42f51e5",
   "metadata": {},
   "source": [
    "<div class=\"result\" markdown>\n",
    "\n",
    "```txt\n",
    "Category Sales Summary: 5\n",
    "```\n",
    "\n",
    "```txt\n",
    "+-----------+------------------+------------------+-----------------+--------------+\n",
    "|   category|       total_sales|     average_sales|transaction_count|total_quantity|\n",
    "+-----------+------------------+------------------+-----------------+--------------+\n",
    "|       Home| 6343.889999999999| 704.8766666666666|                9|            40|\n",
    "|       Food|          12995.57| 541.4820833333333|               24|           115|\n",
    "|Electronics|11407.449999999999|407.40892857142853|               28|           147|\n",
    "|   Clothing|7325.3099999999995|457.83187499999997|               16|            62|\n",
    "|      Books|          10154.83|  441.514347826087|               23|           100|\n",
    "+-----------+------------------+------------------+-----------------+--------------+\n",
    "```\n",
    "\n",
    "|      | category    | total_sales | average_sales | transaction_count | total_quantity |\n",
    "| ---: | :---------- | ----------: | ------------: | ----------------: | -------------: |\n",
    "|    0 | Home        |     6343.89 |       704.877 |                 9 |             40 |\n",
    "|    1 | Food        |     12995.6 |       541.482 |                24 |            115 |\n",
    "|    2 | Electronics |     11407.4 |       407.409 |                28 |            147 |\n",
    "|    3 | Clothing    |     7325.31 |       457.832 |                16 |             62 |\n",
    "|    4 | Books       |     10154.8 |       441.514 |                23 |            100 |\n",
    "\n",
    "</div>\n",
    "\n",
    "### Polars"
   ]
  },
  {
   "cell_type": "code",
   "execution_count": null,
   "id": "fb38cfd4",
   "metadata": {
    "incorrectly_encoded_metadata": "{.polars linenums=\"1\" title=\"Group by category and aggregate\"}"
   },
   "outputs": [
    {
     "name": "stdout",
     "output_type": "stream",
     "text": [
      "Category Sales Summary: 5\n",
      "shape: (5, 5)\n",
      "┌─────────────┬─────────────┬───────────────┬───────────────────┬────────────────┐\n",
      "│ category    ┆ total_sales ┆ average_sales ┆ transaction_count ┆ total_quantity │\n",
      "│ ---         ┆ ---         ┆ ---           ┆ ---               ┆ ---            │\n",
      "│ str         ┆ f64         ┆ f64           ┆ u32               ┆ i64            │\n",
      "╞═════════════╪═════════════╪═══════════════╪═══════════════════╪════════════════╡\n",
      "│ Books       ┆ 10154.83    ┆ 441.514348    ┆ 23                ┆ 100            │\n",
      "│ Electronics ┆ 11407.45    ┆ 407.408929    ┆ 28                ┆ 147            │\n",
      "│ Home        ┆ 6343.89     ┆ 704.876667    ┆ 9                 ┆ 40             │\n",
      "│ Food        ┆ 12995.57    ┆ 541.482083    ┆ 24                ┆ 115            │\n",
      "│ Clothing    ┆ 7325.31     ┆ 457.831875    ┆ 16                ┆ 62             │\n",
      "└─────────────┴─────────────┴───────────────┴───────────────────┴────────────────┘\n",
      "|    | category    |   total_sales |   average_sales |   transaction_count |   total_quantity |\n",
      "|---:|:------------|--------------:|----------------:|--------------------:|-----------------:|\n",
      "|  0 | Books       |      10154.8  |         441.514 |                  23 |              100 |\n",
      "|  1 | Electronics |      11407.5  |         407.409 |                  28 |              147 |\n",
      "|  2 | Home        |       6343.89 |         704.877 |                   9 |               40 |\n",
      "|  3 | Food        |      12995.6  |         541.482 |                  24 |              115 |\n",
      "|  4 | Clothing    |       7325.31 |         457.832 |                  16 |               62 |\n"
     ]
    }
   ],
   "source": [
    "category_sales_pl: pl.DataFrame = df_sales_pl.group_by(\"category\").agg(\n",
    "    pl.col(\"sales_amount\").sum().alias(\"total_sales\"),\n",
    "    pl.col(\"sales_amount\").mean().alias(\"average_sales\"),\n",
    "    pl.col(\"sales_amount\").count().alias(\"transaction_count\"),\n",
    "    pl.col(\"quantity\").sum().alias(\"total_quantity\"),\n",
    ")\n",
    "print(f\"Category Sales Summary: {len(category_sales_pl)}\")\n",
    "print(category_sales_pl.head(5))\n",
    "print(category_sales_pl.head(5).to_pandas().to_markdown())"
   ]
  },
  {
   "cell_type": "markdown",
   "id": "f7e22d0f",
   "metadata": {},
   "source": [
    "<div class=\"result\" markdown>\n",
    "\n",
    "```txt\n",
    "Category Sales Summary: 5\n",
    "```\n",
    "\n",
    "```txt\n",
    "shape: (5, 5)\n",
    "┌─────────────┬─────────────┬───────────────┬───────────────────┬────────────────┐\n",
    "│ category    ┆ total_sales ┆ average_sales ┆ transaction_count ┆ total_quantity │\n",
    "│ ---         ┆ ---         ┆ ---           ┆ ---               ┆ ---            │\n",
    "│ str         ┆ f64         ┆ f64           ┆ u32               ┆ i64            │\n",
    "╞═════════════╪═════════════╪═══════════════╪═══════════════════╪════════════════╡\n",
    "│ Food        ┆ 12995.57    ┆ 541.482083    ┆ 24                ┆ 115            │\n",
    "│ Electronics ┆ 11407.45    ┆ 407.408929    ┆ 28                ┆ 147            │\n",
    "│ Books       ┆ 10154.83    ┆ 441.514348    ┆ 23                ┆ 100            │\n",
    "│ Home        ┆ 6343.89     ┆ 704.876667    ┆ 9                 ┆ 40             │\n",
    "│ Clothing    ┆ 7325.31     ┆ 457.831875    ┆ 16                ┆ 62             │\n",
    "└─────────────┴─────────────┴───────────────┴───────────────────┴────────────────┘\n",
    "```\n",
    "\n",
    "|      | category    | total_sales | average_sales | transaction_count | total_quantity |\n",
    "| ---: | :---------- | ----------: | ------------: | ----------------: | -------------: |\n",
    "|    0 | Food        |     12995.6 |       541.482 |                24 |            115 |\n",
    "|    1 | Electronics |     11407.5 |       407.409 |                28 |            147 |\n",
    "|    2 | Books       |     10154.8 |       441.514 |                23 |            100 |\n",
    "|    3 | Home        |     6343.89 |       704.877 |                 9 |             40 |\n",
    "|    4 | Clothing    |     7325.31 |       457.832 |                16 |             62 |\n",
    "\n",
    "</div>\n",
    "\n",
    "We can rename the columns for clarity by simply assigning new names.\n",
    "\n",
    "### Pandas\n",
    "\n",
    "In Pandas, we use the [`.columns`](https://pandas.pydata.org/docs/reference/api/pandas.DataFrame.columns.html) attribute of the DataFrame. This makes it easier to understand the results of the aggregation."
   ]
  },
  {
   "cell_type": "code",
   "execution_count": null,
   "id": "b47248ee",
   "metadata": {
    "incorrectly_encoded_metadata": "{.pandas linenums=\"1\" title=\"Rename columns for clarity\"}"
   },
   "outputs": [
    {
     "name": "stdout",
     "output_type": "stream",
     "text": [
      "Renamed Category Sales Summary: 5\n",
      "             Total Sales  Average Sales  Transaction Count  Total Quantity\n",
      "category                                                                  \n",
      "Books           10154.83     441.514348                 23             100\n",
      "Clothing         7325.31     457.831875                 16              62\n",
      "Electronics     11407.45     407.408929                 28             147\n",
      "Food            12995.57     541.482083                 24             115\n",
      "Home             6343.89     704.876667                  9              40\n",
      "| category    |   Total Sales |   Average Sales |   Transaction Count |   Total Quantity |\n",
      "|:------------|--------------:|----------------:|--------------------:|-----------------:|\n",
      "| Books       |      10154.8  |         441.514 |                  23 |              100 |\n",
      "| Clothing    |       7325.31 |         457.832 |                  16 |               62 |\n",
      "| Electronics |      11407.5  |         407.409 |                  28 |              147 |\n",
      "| Food        |      12995.6  |         541.482 |                  24 |              115 |\n",
      "| Home        |       6343.89 |         704.877 |                   9 |               40 |\n"
     ]
    }
   ],
   "source": [
    "category_sales_pd.columns = [\n",
    "    \"Total Sales\",\n",
    "    \"Average Sales\",\n",
    "    \"Transaction Count\",\n",
    "    \"Total Quantity\",\n",
    "]\n",
    "print(f\"Renamed Category Sales Summary: {len(category_sales_pd)}\")\n",
    "print(category_sales_pd.head(5))\n",
    "print(category_sales_pd.head(5).to_markdown())"
   ]
  },
  {
   "cell_type": "markdown",
   "id": "9b05521c",
   "metadata": {},
   "source": [
    "<div class=\"result\" markdown>\n",
    "\n",
    "```txt\n",
    "Renamed Category Sales Summary: 5\n",
    "```\n",
    "\n",
    "```txt\n",
    "             Total Sales  Average Sales  Transaction Count  Total Quantity\n",
    "category\n",
    "Books           10154.83     441.514348                 23             100\n",
    "Clothing         7325.31     457.831875                 16              62\n",
    "Electronics     11407.45     407.408929                 28             147\n",
    "Food            12995.57     541.482083                 24             115\n",
    "Home             6343.89     704.876667                  9              40\n",
    "```\n",
    "\n",
    "| category    | Total Sales | Average Sales | Transaction Count | Total Quantity |\n",
    "| :---------- | ----------: | ------------: | ----------------: | -------------: |\n",
    "| Books       |     10154.8 |       441.514 |                23 |            100 |\n",
    "| Clothing    |     7325.31 |       457.832 |                16 |             62 |\n",
    "| Electronics |     11407.5 |       407.409 |                28 |            147 |\n",
    "| Food        |     12995.6 |       541.482 |                24 |            115 |\n",
    "| Home        |     6343.89 |       704.877 |                 9 |             40 |\n",
    "\n",
    "</div>\n",
    "\n",
    "### SQL"
   ]
  },
  {
   "cell_type": "code",
   "execution_count": null,
   "id": "506fa068",
   "metadata": {
    "incorrectly_encoded_metadata": "{.sql linenums=\"1\" title=\"Rename columns for clarity\"}"
   },
   "outputs": [
    {
     "name": "stdout",
     "output_type": "stream",
     "text": [
      "Renamed Category Sales Summary: 5\n",
      "      category  Total Sales  Average Sales  Transaction Count  Total Quantity\n",
      "0        Books     10154.83     441.514348                 23             100\n",
      "1     Clothing      7325.31     457.831875                 16              62\n",
      "2  Electronics     11407.45     407.408929                 28             147\n",
      "3         Food     12995.57     541.482083                 24             115\n",
      "4         Home      6343.89     704.876667                  9              40\n",
      "|    | category    |   Total Sales |   Average Sales |   Transaction Count |   Total Quantity |\n",
      "|---:|:------------|--------------:|----------------:|--------------------:|-----------------:|\n",
      "|  0 | Books       |      10154.8  |         441.514 |                  23 |              100 |\n",
      "|  1 | Clothing    |       7325.31 |         457.832 |                  16 |               62 |\n",
      "|  2 | Electronics |      11407.5  |         407.409 |                  28 |              147 |\n",
      "|  3 | Food        |      12995.6  |         541.482 |                  24 |              115 |\n",
      "|  4 | Home        |       6343.89 |         704.877 |                   9 |               40 |\n"
     ]
    }
   ],
   "source": [
    "category_sales_txt: str = \"\"\"\n",
    "    SELECT\n",
    "        category,\n",
    "        total_sales AS `Total Sales`,\n",
    "        average_sales AS `Average Sales`,\n",
    "        transaction_count AS `Transaction Count`,\n",
    "        total_quantity AS `Total Quantity`\n",
    "    FROM (\n",
    "        SELECT\n",
    "            category,\n",
    "            SUM(sales_amount) AS total_sales,\n",
    "            AVG(sales_amount) AS average_sales,\n",
    "            COUNT(*) AS transaction_count,\n",
    "            SUM(quantity) AS total_quantity\n",
    "        FROM sales\n",
    "        GROUP BY category\n",
    "    ) AS sales_summary\n",
    "\"\"\"\n",
    "print(f\"Renamed Category Sales Summary: {len(pd.read_sql(category_sales_txt, conn))}\")\n",
    "print(pd.read_sql(category_sales_txt + \"LIMIT 5\", conn))\n",
    "print(pd.read_sql(category_sales_txt + \"LIMIT 5\", conn).to_markdown())"
   ]
  },
  {
   "cell_type": "markdown",
   "id": "a67d8e5a",
   "metadata": {},
   "source": [
    "<div class=\"result\" markdown>\n",
    "\n",
    "```txt\n",
    "Renamed Category Sales Summary: 5\n",
    "```\n",
    "\n",
    "```txt\n",
    "             Total Sales  Average Sales  Transaction Count  Total Quantity\n",
    "category\n",
    "Books           10154.83     441.514348                 23             100\n",
    "Clothing         7325.31     457.831875                 16              62\n",
    "Electronics     11407.45     407.408929                 28             147\n",
    "Food            12995.57     541.482083                 24             115\n",
    "Home             6343.89     704.876667                  9              40\n",
    "```\n",
    "\n",
    "| category    | Total Sales | Average Sales | Transaction Count | Total Quantity |\n",
    "| :---------- | ----------: | ------------: | ----------------: | -------------: |\n",
    "| Books       |     10154.8 |       441.514 |                23 |            100 |\n",
    "| Clothing    |     7325.31 |       457.832 |                16 |             62 |\n",
    "| Electronics |     11407.5 |       407.409 |                28 |            147 |\n",
    "| Food        |     12995.6 |       541.482 |                24 |            115 |\n",
    "| Home        |     6343.89 |       704.877 |                 9 |             40 |\n",
    "\n",
    "</div>\n",
    "\n",
    "### PySpark"
   ]
  },
  {
   "cell_type": "code",
   "execution_count": null,
   "id": "02a3bbb1",
   "metadata": {
    "incorrectly_encoded_metadata": "{.pyspark linenums=\"1\" title=\"Rename columns for clarity\"}"
   },
   "outputs": [
    {
     "name": "stdout",
     "output_type": "stream",
     "text": [
      "Renamed Category Sales Summary: 5\n",
      "+-----------+------------------+------------------+-----------------+--------------+\n",
      "|   category|       Total Sales|     Average Sales|Transaction Count|Total Quantity|\n",
      "+-----------+------------------+------------------+-----------------+--------------+\n",
      "|       Home| 6343.889999999999| 704.8766666666666|                9|            40|\n",
      "|       Food|          12995.57| 541.4820833333333|               24|           115|\n",
      "|Electronics|11407.449999999999|407.40892857142853|               28|           147|\n",
      "|   Clothing|7325.3099999999995|457.83187499999997|               16|            62|\n",
      "|      Books|          10154.83|  441.514347826087|               23|           100|\n",
      "+-----------+------------------+------------------+-----------------+--------------+\n",
      "\n",
      "|    | category    |   Total Sales |   Average Sales |   Transaction Count |   Total Quantity |\n",
      "|---:|:------------|--------------:|----------------:|--------------------:|-----------------:|\n",
      "|  0 | Home        |       6343.89 |         704.877 |                   9 |               40 |\n",
      "|  1 | Food        |      12995.6  |         541.482 |                  24 |              115 |\n",
      "|  2 | Electronics |      11407.4  |         407.409 |                  28 |              147 |\n",
      "|  3 | Clothing    |       7325.31 |         457.832 |                  16 |               62 |\n",
      "|  4 | Books       |      10154.8  |         441.514 |                  23 |              100 |\n"
     ]
    }
   ],
   "source": [
    "category_sales_ps: psDataFrame = category_sales_ps.withColumnsRenamed(\n",
    "    {\n",
    "        \"total_sales\": \"Total Sales\",\n",
    "        \"average_sales\": \"Average Sales\",\n",
    "        \"transaction_count\": \"Transaction Count\",\n",
    "        \"total_quantity\": \"Total Quantity\",\n",
    "    }\n",
    ")\n",
    "print(f\"Renamed Category Sales Summary: {category_sales_ps.count()}\")\n",
    "category_sales_ps.show(5)\n",
    "print(category_sales_ps.limit(5).toPandas().to_markdown())"
   ]
  },
  {
   "cell_type": "markdown",
   "id": "a3187fae",
   "metadata": {},
   "source": [
    "<div class=\"result\" markdown>\n",
    "\n",
    "```txt\n",
    "Renamed Category Sales Summary: 5\n",
    "```\n",
    "\n",
    "```txt\n",
    "+-----------+------------------+------------------+-----------------+--------------+\n",
    "|   category|       Total Sales|     Average Sales|Transaction Count|Total Quantity|\n",
    "+-----------+------------------+------------------+-----------------+--------------+\n",
    "|       Home| 6343.889999999999| 704.8766666666666|                9|            40|\n",
    "|       Food|          12995.57| 541.4820833333333|               24|           115|\n",
    "|Electronics|11407.449999999999|407.40892857142853|               28|           147|\n",
    "|   Clothing|7325.3099999999995|457.83187499999997|               16|            62|\n",
    "|      Books|          10154.83|  441.514347826087|               23|           100|\n",
    "+-----------+------------------+------------------+-----------------+--------------+\n",
    "```\n",
    "\n",
    "|      | category    | Total Sales | Average Sales | Transaction Count | Total Quantity |\n",
    "| ---: | :---------- | ----------: | ------------: | ----------------: | -------------: |\n",
    "|    0 | Home        |     6343.89 |       704.877 |                 9 |             40 |\n",
    "|    1 | Food        |     12995.6 |       541.482 |                24 |            115 |\n",
    "|    2 | Electronics |     11407.4 |       407.409 |                28 |            147 |\n",
    "|    3 | Clothing    |     7325.31 |       457.832 |                16 |             62 |\n",
    "|    4 | Books       |     10154.8 |       441.514 |                23 |            100 |\n",
    "\n",
    "</div>\n",
    "\n",
    "### Polars"
   ]
  },
  {
   "cell_type": "code",
   "execution_count": null,
   "id": "3f586770",
   "metadata": {
    "incorrectly_encoded_metadata": "{.polars linenums=\"1\" title=\"Rename columns for clarity\"}"
   },
   "outputs": [
    {
     "name": "stdout",
     "output_type": "stream",
     "text": [
      "Renamed Category Sales Summary: 5\n",
      "shape: (5, 5)\n",
      "┌─────────────┬─────────────┬───────────────┬───────────────────┬────────────────┐\n",
      "│ category    ┆ Total Sales ┆ Average Sales ┆ Transaction Count ┆ Total Quantity │\n",
      "│ ---         ┆ ---         ┆ ---           ┆ ---               ┆ ---            │\n",
      "│ str         ┆ f64         ┆ f64           ┆ u32               ┆ i64            │\n",
      "╞═════════════╪═════════════╪═══════════════╪═══════════════════╪════════════════╡\n",
      "│ Books       ┆ 10154.83    ┆ 441.514348    ┆ 23                ┆ 100            │\n",
      "│ Electronics ┆ 11407.45    ┆ 407.408929    ┆ 28                ┆ 147            │\n",
      "│ Home        ┆ 6343.89     ┆ 704.876667    ┆ 9                 ┆ 40             │\n",
      "│ Food        ┆ 12995.57    ┆ 541.482083    ┆ 24                ┆ 115            │\n",
      "│ Clothing    ┆ 7325.31     ┆ 457.831875    ┆ 16                ┆ 62             │\n",
      "└─────────────┴─────────────┴───────────────┴───────────────────┴────────────────┘\n",
      "|    | category    |   Total Sales |   Average Sales |   Transaction Count |   Total Quantity |\n",
      "|---:|:------------|--------------:|----------------:|--------------------:|-----------------:|\n",
      "|  0 | Books       |      10154.8  |         441.514 |                  23 |              100 |\n",
      "|  1 | Electronics |      11407.5  |         407.409 |                  28 |              147 |\n",
      "|  2 | Home        |       6343.89 |         704.877 |                   9 |               40 |\n",
      "|  3 | Food        |      12995.6  |         541.482 |                  24 |              115 |\n",
      "|  4 | Clothing    |       7325.31 |         457.832 |                  16 |               62 |\n"
     ]
    }
   ],
   "source": [
    "category_sales_pl: pl.DataFrame = category_sales_pl.rename(\n",
    "    {\n",
    "        \"total_sales\": \"Total Sales\",\n",
    "        \"average_sales\": \"Average Sales\",\n",
    "        \"transaction_count\": \"Transaction Count\",\n",
    "        \"total_quantity\": \"Total Quantity\",\n",
    "    }\n",
    ")\n",
    "print(f\"Renamed Category Sales Summary: {len(category_sales_pl)}\")\n",
    "print(category_sales_pl.head(5))\n",
    "print(category_sales_pl.head(5).to_pandas().to_markdown())"
   ]
  },
  {
   "cell_type": "markdown",
   "id": "303f0fe2",
   "metadata": {},
   "source": [
    "<div class=\"result\" markdown>\n",
    "\n",
    "```txt\n",
    "Renamed Category Sales Summary: 5\n",
    "```\n",
    "\n",
    "```txt\n",
    "shape: (5, 5)\n",
    "┌─────────────┬─────────────┬───────────────┬───────────────────┬────────────────┐\n",
    "│ category    ┆ Total Sales ┆ Average Sales ┆ Transaction Count ┆ Total Quantity │\n",
    "│ ---         ┆ ---         ┆ ---           ┆ ---               ┆ ---            │\n",
    "│ str         ┆ f64         ┆ f64           ┆ u32               ┆ i64            │\n",
    "╞═════════════╪═════════════╪═══════════════╪═══════════════════╪════════════════╡\n",
    "│ Food        ┆ 12995.57    ┆ 541.482083    ┆ 24                ┆ 115            │\n",
    "│ Electronics ┆ 11407.45    ┆ 407.408929    ┆ 28                ┆ 147            │\n",
    "│ Books       ┆ 10154.83    ┆ 441.514348    ┆ 23                ┆ 100            │\n",
    "│ Home        ┆ 6343.89     ┆ 704.876667    ┆ 9                 ┆ 40             │\n",
    "│ Clothing    ┆ 7325.31     ┆ 457.831875    ┆ 16                ┆ 62             │\n",
    "└─────────────┴─────────────┴───────────────┴───────────────────┴────────────────┘\n",
    "```\n",
    "\n",
    "|      | category    | Total Sales | Average Sales | Transaction Count | Total Quantity |\n",
    "| ---: | :---------- | ----------: | ------------: | ----------------: | -------------: |\n",
    "|    0 | Food        |     12995.6 |       541.482 |                24 |            115 |\n",
    "|    1 | Electronics |     11407.5 |       407.409 |                28 |            147 |\n",
    "|    2 | Books       |     10154.8 |       441.514 |                23 |            100 |\n",
    "|    3 | Home        |     6343.89 |       704.877 |                 9 |             40 |\n",
    "|    4 | Clothing    |     7325.31 |       457.832 |                16 |             62 |\n",
    "\n",
    "</div>\n",
    "\n",
    "Having aggregated the data, we can now visualize the results using [Plotly](https://plotly.com/python/). This allows us to create interactive visualizations that can help us better understand the data.\n",
    "\n",
    "### Pandas"
   ]
  },
  {
   "cell_type": "code",
   "execution_count": null,
   "id": "26939ae8",
   "metadata": {
    "incorrectly_encoded_metadata": "{.pandas linenums=\"1\" title=\"Plot the results\"}"
   },
   "outputs": [
    {
     "ename": "ValueError",
     "evalue": "Value of 'y' is not the name of a column in 'data_frame'. Expected one of ['category', 'Total Sales', 'Average Sales', 'Transaction Count', 'Total Quantity'] but received: total_sales",
     "output_type": "error",
     "traceback": [
      "\u001b[31m---------------------------------------------------------------------------\u001b[39m",
      "\u001b[31mValueError\u001b[39m                                Traceback (most recent call last)",
      "\u001b[36mCell\u001b[39m\u001b[36m \u001b[39m\u001b[32mIn[171]\u001b[39m\u001b[32m, line 1\u001b[39m\n\u001b[32m----> \u001b[39m\u001b[32m1\u001b[39m fig: go.Figure = \u001b[43mpx\u001b[49m\u001b[43m.\u001b[49m\u001b[43mbar\u001b[49m\u001b[43m(\u001b[49m\n\u001b[32m      2\u001b[39m \u001b[43m    \u001b[49m\u001b[43mdata_frame\u001b[49m\u001b[43m=\u001b[49m\u001b[43mcategory_sales_pd\u001b[49m\u001b[43m.\u001b[49m\u001b[43mreset_index\u001b[49m\u001b[43m(\u001b[49m\u001b[43m)\u001b[49m\u001b[43m,\u001b[49m\n\u001b[32m      3\u001b[39m \u001b[43m    \u001b[49m\u001b[43mx\u001b[49m\u001b[43m=\u001b[49m\u001b[33;43m\"\u001b[39;49m\u001b[33;43mcategory\u001b[39;49m\u001b[33;43m\"\u001b[39;49m\u001b[43m,\u001b[49m\n\u001b[32m      4\u001b[39m \u001b[43m    \u001b[49m\u001b[43my\u001b[49m\u001b[43m=\u001b[49m\u001b[33;43m\"\u001b[39;49m\u001b[33;43mtotal_sales\u001b[39;49m\u001b[33;43m\"\u001b[39;49m\u001b[43m,\u001b[49m\n\u001b[32m      5\u001b[39m \u001b[43m    \u001b[49m\u001b[43mtitle\u001b[49m\u001b[43m=\u001b[49m\u001b[33;43m\"\u001b[39;49m\u001b[33;43mTotal Sales by Category\u001b[39;49m\u001b[33;43m\"\u001b[39;49m\u001b[43m,\u001b[49m\n\u001b[32m      6\u001b[39m \u001b[43m    \u001b[49m\u001b[43mtext\u001b[49m\u001b[43m=\u001b[49m\u001b[33;43m\"\u001b[39;49m\u001b[33;43mtransaction_count\u001b[39;49m\u001b[33;43m\"\u001b[39;49m\u001b[43m,\u001b[49m\n\u001b[32m      7\u001b[39m \u001b[43m    \u001b[49m\u001b[43mlabels\u001b[49m\u001b[43m=\u001b[49m\u001b[43m{\u001b[49m\u001b[33;43m\"\u001b[39;49m\u001b[33;43mtotal_sales\u001b[39;49m\u001b[33;43m\"\u001b[39;49m\u001b[43m:\u001b[49m\u001b[43m \u001b[49m\u001b[33;43m\"\u001b[39;49m\u001b[33;43mTotal Sales ($)\u001b[39;49m\u001b[33;43m\"\u001b[39;49m\u001b[43m,\u001b[49m\u001b[43m \u001b[49m\u001b[33;43m\"\u001b[39;49m\u001b[33;43mcategory\u001b[39;49m\u001b[33;43m\"\u001b[39;49m\u001b[43m:\u001b[49m\u001b[43m \u001b[49m\u001b[33;43m\"\u001b[39;49m\u001b[33;43mProduct Category\u001b[39;49m\u001b[33;43m\"\u001b[39;49m\u001b[43m}\u001b[49m\u001b[43m,\u001b[49m\n\u001b[32m      8\u001b[39m \u001b[43m)\u001b[49m\n\u001b[32m      9\u001b[39m fig.write_html(\u001b[33m\"\u001b[39m\u001b[33mimages/pt2_total_sales_by_category_pd.html\u001b[39m\u001b[33m\"\u001b[39m, include_plotlyjs=\u001b[33m\"\u001b[39m\u001b[33mcdn\u001b[39m\u001b[33m\"\u001b[39m, full_html=\u001b[38;5;28;01mTrue\u001b[39;00m)\n\u001b[32m     10\u001b[39m fig.show()\n",
      "\u001b[36mFile \u001b[39m\u001b[32m/mnt/c/Users/chris/OneDrive/14 - Git Repos/dse/data-science-extensions/.venv/lib/python3.13/site-packages/plotly/express/_chart_types.py:381\u001b[39m, in \u001b[36mbar\u001b[39m\u001b[34m(data_frame, x, y, color, pattern_shape, facet_row, facet_col, facet_col_wrap, facet_row_spacing, facet_col_spacing, hover_name, hover_data, custom_data, text, base, error_x, error_x_minus, error_y, error_y_minus, animation_frame, animation_group, category_orders, labels, color_discrete_sequence, color_discrete_map, color_continuous_scale, pattern_shape_sequence, pattern_shape_map, range_color, color_continuous_midpoint, opacity, orientation, barmode, log_x, log_y, range_x, range_y, text_auto, title, subtitle, template, width, height)\u001b[39m\n\u001b[32m    332\u001b[39m \u001b[38;5;28;01mdef\u001b[39;00m\u001b[38;5;250m \u001b[39m\u001b[34mbar\u001b[39m(\n\u001b[32m    333\u001b[39m     data_frame=\u001b[38;5;28;01mNone\u001b[39;00m,\n\u001b[32m    334\u001b[39m     x=\u001b[38;5;28;01mNone\u001b[39;00m,\n\u001b[32m   (...)\u001b[39m\u001b[32m    375\u001b[39m     height=\u001b[38;5;28;01mNone\u001b[39;00m,\n\u001b[32m    376\u001b[39m ) -> go.Figure:\n\u001b[32m    377\u001b[39m \u001b[38;5;250m    \u001b[39m\u001b[33;03m\"\"\"\u001b[39;00m\n\u001b[32m    378\u001b[39m \u001b[33;03m    In a bar plot, each row of `data_frame` is represented as a rectangular\u001b[39;00m\n\u001b[32m    379\u001b[39m \u001b[33;03m    mark.\u001b[39;00m\n\u001b[32m    380\u001b[39m \u001b[33;03m    \"\"\"\u001b[39;00m\n\u001b[32m--> \u001b[39m\u001b[32m381\u001b[39m     \u001b[38;5;28;01mreturn\u001b[39;00m \u001b[43mmake_figure\u001b[49m\u001b[43m(\u001b[49m\n\u001b[32m    382\u001b[39m \u001b[43m        \u001b[49m\u001b[43margs\u001b[49m\u001b[43m=\u001b[49m\u001b[38;5;28;43mlocals\u001b[39;49m\u001b[43m(\u001b[49m\u001b[43m)\u001b[49m\u001b[43m,\u001b[49m\n\u001b[32m    383\u001b[39m \u001b[43m        \u001b[49m\u001b[43mconstructor\u001b[49m\u001b[43m=\u001b[49m\u001b[43mgo\u001b[49m\u001b[43m.\u001b[49m\u001b[43mBar\u001b[49m\u001b[43m,\u001b[49m\n\u001b[32m    384\u001b[39m \u001b[43m        \u001b[49m\u001b[43mtrace_patch\u001b[49m\u001b[43m=\u001b[49m\u001b[38;5;28;43mdict\u001b[39;49m\u001b[43m(\u001b[49m\u001b[43mtextposition\u001b[49m\u001b[43m=\u001b[49m\u001b[33;43m\"\u001b[39;49m\u001b[33;43mauto\u001b[39;49m\u001b[33;43m\"\u001b[39;49m\u001b[43m)\u001b[49m\u001b[43m,\u001b[49m\n\u001b[32m    385\u001b[39m \u001b[43m        \u001b[49m\u001b[43mlayout_patch\u001b[49m\u001b[43m=\u001b[49m\u001b[38;5;28;43mdict\u001b[39;49m\u001b[43m(\u001b[49m\u001b[43mbarmode\u001b[49m\u001b[43m=\u001b[49m\u001b[43mbarmode\u001b[49m\u001b[43m)\u001b[49m\u001b[43m,\u001b[49m\n\u001b[32m    386\u001b[39m \u001b[43m    \u001b[49m\u001b[43m)\u001b[49m\n",
      "\u001b[36mFile \u001b[39m\u001b[32m/mnt/c/Users/chris/OneDrive/14 - Git Repos/dse/data-science-extensions/.venv/lib/python3.13/site-packages/plotly/express/_core.py:2483\u001b[39m, in \u001b[36mmake_figure\u001b[39m\u001b[34m(args, constructor, trace_patch, layout_patch)\u001b[39m\n\u001b[32m   2480\u001b[39m layout_patch = layout_patch \u001b[38;5;129;01mor\u001b[39;00m {}\n\u001b[32m   2481\u001b[39m apply_default_cascade(args)\n\u001b[32m-> \u001b[39m\u001b[32m2483\u001b[39m args = \u001b[43mbuild_dataframe\u001b[49m\u001b[43m(\u001b[49m\u001b[43margs\u001b[49m\u001b[43m,\u001b[49m\u001b[43m \u001b[49m\u001b[43mconstructor\u001b[49m\u001b[43m)\u001b[49m\n\u001b[32m   2484\u001b[39m \u001b[38;5;28;01mif\u001b[39;00m constructor \u001b[38;5;129;01min\u001b[39;00m [go.Treemap, go.Sunburst, go.Icicle] \u001b[38;5;129;01mand\u001b[39;00m args[\u001b[33m\"\u001b[39m\u001b[33mpath\u001b[39m\u001b[33m\"\u001b[39m] \u001b[38;5;129;01mis\u001b[39;00m \u001b[38;5;129;01mnot\u001b[39;00m \u001b[38;5;28;01mNone\u001b[39;00m:\n\u001b[32m   2485\u001b[39m     args = process_dataframe_hierarchy(args)\n",
      "\u001b[36mFile \u001b[39m\u001b[32m/mnt/c/Users/chris/OneDrive/14 - Git Repos/dse/data-science-extensions/.venv/lib/python3.13/site-packages/plotly/express/_core.py:1729\u001b[39m, in \u001b[36mbuild_dataframe\u001b[39m\u001b[34m(args, constructor)\u001b[39m\n\u001b[32m   1726\u001b[39m     args[\u001b[33m\"\u001b[39m\u001b[33mcolor\u001b[39m\u001b[33m\"\u001b[39m] = \u001b[38;5;28;01mNone\u001b[39;00m\n\u001b[32m   1727\u001b[39m \u001b[38;5;66;03m# now that things have been prepped, we do the systematic rewriting of `args`\u001b[39;00m\n\u001b[32m-> \u001b[39m\u001b[32m1729\u001b[39m df_output, wide_id_vars = \u001b[43mprocess_args_into_dataframe\u001b[49m\u001b[43m(\u001b[49m\n\u001b[32m   1730\u001b[39m \u001b[43m    \u001b[49m\u001b[43margs\u001b[49m\u001b[43m,\u001b[49m\n\u001b[32m   1731\u001b[39m \u001b[43m    \u001b[49m\u001b[43mwide_mode\u001b[49m\u001b[43m,\u001b[49m\n\u001b[32m   1732\u001b[39m \u001b[43m    \u001b[49m\u001b[43mvar_name\u001b[49m\u001b[43m,\u001b[49m\n\u001b[32m   1733\u001b[39m \u001b[43m    \u001b[49m\u001b[43mvalue_name\u001b[49m\u001b[43m,\u001b[49m\n\u001b[32m   1734\u001b[39m \u001b[43m    \u001b[49m\u001b[43mis_pd_like\u001b[49m\u001b[43m,\u001b[49m\n\u001b[32m   1735\u001b[39m \u001b[43m    \u001b[49m\u001b[43mnative_namespace\u001b[49m\u001b[43m,\u001b[49m\n\u001b[32m   1736\u001b[39m \u001b[43m\u001b[49m\u001b[43m)\u001b[49m\n\u001b[32m   1737\u001b[39m df_output: nw.DataFrame\n\u001b[32m   1738\u001b[39m \u001b[38;5;66;03m# now that `df_output` exists and `args` contains only references, we complete\u001b[39;00m\n\u001b[32m   1739\u001b[39m \u001b[38;5;66;03m# the special-case and wide-mode handling by further rewriting args and/or mutating\u001b[39;00m\n\u001b[32m   1740\u001b[39m \u001b[38;5;66;03m# df_output\u001b[39;00m\n",
      "\u001b[36mFile \u001b[39m\u001b[32m/mnt/c/Users/chris/OneDrive/14 - Git Repos/dse/data-science-extensions/.venv/lib/python3.13/site-packages/plotly/express/_core.py:1330\u001b[39m, in \u001b[36mprocess_args_into_dataframe\u001b[39m\u001b[34m(args, wide_mode, var_name, value_name, is_pd_like, native_namespace)\u001b[39m\n\u001b[32m   1328\u001b[39m         \u001b[38;5;28;01mif\u001b[39;00m argument == \u001b[33m\"\u001b[39m\u001b[33mindex\u001b[39m\u001b[33m\"\u001b[39m:\n\u001b[32m   1329\u001b[39m             err_msg += \u001b[33m\"\u001b[39m\u001b[38;5;130;01m\\n\u001b[39;00m\u001b[33m To use the index, pass it in directly as `df.index`.\u001b[39m\u001b[33m\"\u001b[39m\n\u001b[32m-> \u001b[39m\u001b[32m1330\u001b[39m         \u001b[38;5;28;01mraise\u001b[39;00m \u001b[38;5;167;01mValueError\u001b[39;00m(err_msg)\n\u001b[32m   1331\u001b[39m \u001b[38;5;28;01melif\u001b[39;00m length \u001b[38;5;129;01mand\u001b[39;00m (actual_len := \u001b[38;5;28mlen\u001b[39m(df_input)) != length:\n\u001b[32m   1332\u001b[39m     \u001b[38;5;28;01mraise\u001b[39;00m \u001b[38;5;167;01mValueError\u001b[39;00m(\n\u001b[32m   1333\u001b[39m         \u001b[33m\"\u001b[39m\u001b[33mAll arguments should have the same length. \u001b[39m\u001b[33m\"\u001b[39m\n\u001b[32m   1334\u001b[39m         \u001b[33m\"\u001b[39m\u001b[33mThe length of column argument `df[\u001b[39m\u001b[38;5;132;01m%s\u001b[39;00m\u001b[33m]` is \u001b[39m\u001b[38;5;132;01m%d\u001b[39;00m\u001b[33m, whereas the \u001b[39m\u001b[33m\"\u001b[39m\n\u001b[32m   (...)\u001b[39m\u001b[32m   1341\u001b[39m         )\n\u001b[32m   1342\u001b[39m     )\n",
      "\u001b[31mValueError\u001b[39m: Value of 'y' is not the name of a column in 'data_frame'. Expected one of ['category', 'Total Sales', 'Average Sales', 'Transaction Count', 'Total Quantity'] but received: total_sales"
     ]
    }
   ],
   "source": [
    "fig: go.Figure = px.bar(\n",
    "    data_frame=category_sales_pd.reset_index(),\n",
    "    x=\"category\",\n",
    "    y=\"total_sales\",\n",
    "    title=\"Total Sales by Category\",\n",
    "    text=\"transaction_count\",\n",
    "    labels={\"total_sales\": \"Total Sales ($)\", \"category\": \"Product Category\"},\n",
    ")\n",
    "fig.write_html(\"images/pt2_total_sales_by_category_pd.html\", include_plotlyjs=\"cdn\", full_html=True)\n",
    "fig.show()"
   ]
  },
  {
   "cell_type": "markdown",
   "id": "ac367186",
   "metadata": {},
   "source": [
    "<div class=\"result\" markdown>\n",
    "\n",
    "--8<-- \"docs/guides/querying-data/images/pt2_total_sales_by_category_pd.html\"\n",
    "\n",
    "</div>\n",
    "\n",
    "### SQL"
   ]
  },
  {
   "cell_type": "code",
   "execution_count": null,
   "id": "b6e45b88",
   "metadata": {
    "incorrectly_encoded_metadata": "{.sql linenums=\"1\" title=\"Plot the results\"}"
   },
   "outputs": [
    {
     "data": {
      "application/vnd.plotly.v1+json": {
       "config": {
        "plotlyServerURL": "https://plot.ly"
       },
       "data": [
        {
         "hovertemplate": "Product Category=%{x}<br>Total Sales ($)=%{y}<br>transaction_count=%{text}<extra></extra>",
         "legendgroup": "",
         "marker": {
          "color": "#1F77B4",
          "pattern": {
           "shape": ""
          }
         },
         "name": "",
         "orientation": "v",
         "showlegend": false,
         "text": {
          "bdata": "AAAAAAAAN0AAAAAAAAAwQAAAAAAAADxAAAAAAAAAOEAAAAAAAAAiQA==",
          "dtype": "f8"
         },
         "textposition": "auto",
         "type": "bar",
         "x": [
          "Books",
          "Clothing",
          "Electronics",
          "Food",
          "Home"
         ],
         "xaxis": "x",
         "y": {
          "bdata": "16NwPWrVw0DD9ShcT528QJqZmZm5R8ZAXI/C9chhyUBwPQrX48e4QA==",
          "dtype": "f8"
         },
         "yaxis": "y"
        }
       ],
       "layout": {
        "barmode": "relative",
        "legend": {
         "tracegroupgap": 0
        },
        "template": {
         "data": {
          "bar": [
           {
            "error_x": {
             "color": "rgb(36,36,36)"
            },
            "error_y": {
             "color": "rgb(36,36,36)"
            },
            "marker": {
             "line": {
              "color": "white",
              "width": 0.5
             },
             "pattern": {
              "fillmode": "overlay",
              "size": 10,
              "solidity": 0.2
             }
            },
            "type": "bar"
           }
          ],
          "barpolar": [
           {
            "marker": {
             "line": {
              "color": "white",
              "width": 0.5
             },
             "pattern": {
              "fillmode": "overlay",
              "size": 10,
              "solidity": 0.2
             }
            },
            "type": "barpolar"
           }
          ],
          "carpet": [
           {
            "aaxis": {
             "endlinecolor": "rgb(36,36,36)",
             "gridcolor": "white",
             "linecolor": "white",
             "minorgridcolor": "white",
             "startlinecolor": "rgb(36,36,36)"
            },
            "baxis": {
             "endlinecolor": "rgb(36,36,36)",
             "gridcolor": "white",
             "linecolor": "white",
             "minorgridcolor": "white",
             "startlinecolor": "rgb(36,36,36)"
            },
            "type": "carpet"
           }
          ],
          "choropleth": [
           {
            "colorbar": {
             "outlinewidth": 1,
             "tickcolor": "rgb(36,36,36)",
             "ticks": "outside"
            },
            "type": "choropleth"
           }
          ],
          "contour": [
           {
            "colorbar": {
             "outlinewidth": 1,
             "tickcolor": "rgb(36,36,36)",
             "ticks": "outside"
            },
            "colorscale": [
             [
              0,
              "#440154"
             ],
             [
              0.1111111111111111,
              "#482878"
             ],
             [
              0.2222222222222222,
              "#3e4989"
             ],
             [
              0.3333333333333333,
              "#31688e"
             ],
             [
              0.4444444444444444,
              "#26828e"
             ],
             [
              0.5555555555555556,
              "#1f9e89"
             ],
             [
              0.6666666666666666,
              "#35b779"
             ],
             [
              0.7777777777777778,
              "#6ece58"
             ],
             [
              0.8888888888888888,
              "#b5de2b"
             ],
             [
              1,
              "#fde725"
             ]
            ],
            "type": "contour"
           }
          ],
          "contourcarpet": [
           {
            "colorbar": {
             "outlinewidth": 1,
             "tickcolor": "rgb(36,36,36)",
             "ticks": "outside"
            },
            "type": "contourcarpet"
           }
          ],
          "heatmap": [
           {
            "colorbar": {
             "outlinewidth": 1,
             "tickcolor": "rgb(36,36,36)",
             "ticks": "outside"
            },
            "colorscale": [
             [
              0,
              "#440154"
             ],
             [
              0.1111111111111111,
              "#482878"
             ],
             [
              0.2222222222222222,
              "#3e4989"
             ],
             [
              0.3333333333333333,
              "#31688e"
             ],
             [
              0.4444444444444444,
              "#26828e"
             ],
             [
              0.5555555555555556,
              "#1f9e89"
             ],
             [
              0.6666666666666666,
              "#35b779"
             ],
             [
              0.7777777777777778,
              "#6ece58"
             ],
             [
              0.8888888888888888,
              "#b5de2b"
             ],
             [
              1,
              "#fde725"
             ]
            ],
            "type": "heatmap"
           }
          ],
          "histogram": [
           {
            "marker": {
             "line": {
              "color": "white",
              "width": 0.6
             }
            },
            "type": "histogram"
           }
          ],
          "histogram2d": [
           {
            "colorbar": {
             "outlinewidth": 1,
             "tickcolor": "rgb(36,36,36)",
             "ticks": "outside"
            },
            "colorscale": [
             [
              0,
              "#440154"
             ],
             [
              0.1111111111111111,
              "#482878"
             ],
             [
              0.2222222222222222,
              "#3e4989"
             ],
             [
              0.3333333333333333,
              "#31688e"
             ],
             [
              0.4444444444444444,
              "#26828e"
             ],
             [
              0.5555555555555556,
              "#1f9e89"
             ],
             [
              0.6666666666666666,
              "#35b779"
             ],
             [
              0.7777777777777778,
              "#6ece58"
             ],
             [
              0.8888888888888888,
              "#b5de2b"
             ],
             [
              1,
              "#fde725"
             ]
            ],
            "type": "histogram2d"
           }
          ],
          "histogram2dcontour": [
           {
            "colorbar": {
             "outlinewidth": 1,
             "tickcolor": "rgb(36,36,36)",
             "ticks": "outside"
            },
            "colorscale": [
             [
              0,
              "#440154"
             ],
             [
              0.1111111111111111,
              "#482878"
             ],
             [
              0.2222222222222222,
              "#3e4989"
             ],
             [
              0.3333333333333333,
              "#31688e"
             ],
             [
              0.4444444444444444,
              "#26828e"
             ],
             [
              0.5555555555555556,
              "#1f9e89"
             ],
             [
              0.6666666666666666,
              "#35b779"
             ],
             [
              0.7777777777777778,
              "#6ece58"
             ],
             [
              0.8888888888888888,
              "#b5de2b"
             ],
             [
              1,
              "#fde725"
             ]
            ],
            "type": "histogram2dcontour"
           }
          ],
          "mesh3d": [
           {
            "colorbar": {
             "outlinewidth": 1,
             "tickcolor": "rgb(36,36,36)",
             "ticks": "outside"
            },
            "type": "mesh3d"
           }
          ],
          "parcoords": [
           {
            "line": {
             "colorbar": {
              "outlinewidth": 1,
              "tickcolor": "rgb(36,36,36)",
              "ticks": "outside"
             }
            },
            "type": "parcoords"
           }
          ],
          "pie": [
           {
            "automargin": true,
            "type": "pie"
           }
          ],
          "scatter": [
           {
            "fillpattern": {
             "fillmode": "overlay",
             "size": 10,
             "solidity": 0.2
            },
            "type": "scatter"
           }
          ],
          "scatter3d": [
           {
            "line": {
             "colorbar": {
              "outlinewidth": 1,
              "tickcolor": "rgb(36,36,36)",
              "ticks": "outside"
             }
            },
            "marker": {
             "colorbar": {
              "outlinewidth": 1,
              "tickcolor": "rgb(36,36,36)",
              "ticks": "outside"
             }
            },
            "type": "scatter3d"
           }
          ],
          "scattercarpet": [
           {
            "marker": {
             "colorbar": {
              "outlinewidth": 1,
              "tickcolor": "rgb(36,36,36)",
              "ticks": "outside"
             }
            },
            "type": "scattercarpet"
           }
          ],
          "scattergeo": [
           {
            "marker": {
             "colorbar": {
              "outlinewidth": 1,
              "tickcolor": "rgb(36,36,36)",
              "ticks": "outside"
             }
            },
            "type": "scattergeo"
           }
          ],
          "scattergl": [
           {
            "marker": {
             "colorbar": {
              "outlinewidth": 1,
              "tickcolor": "rgb(36,36,36)",
              "ticks": "outside"
             }
            },
            "type": "scattergl"
           }
          ],
          "scattermap": [
           {
            "marker": {
             "colorbar": {
              "outlinewidth": 1,
              "tickcolor": "rgb(36,36,36)",
              "ticks": "outside"
             }
            },
            "type": "scattermap"
           }
          ],
          "scattermapbox": [
           {
            "marker": {
             "colorbar": {
              "outlinewidth": 1,
              "tickcolor": "rgb(36,36,36)",
              "ticks": "outside"
             }
            },
            "type": "scattermapbox"
           }
          ],
          "scatterpolar": [
           {
            "marker": {
             "colorbar": {
              "outlinewidth": 1,
              "tickcolor": "rgb(36,36,36)",
              "ticks": "outside"
             }
            },
            "type": "scatterpolar"
           }
          ],
          "scatterpolargl": [
           {
            "marker": {
             "colorbar": {
              "outlinewidth": 1,
              "tickcolor": "rgb(36,36,36)",
              "ticks": "outside"
             }
            },
            "type": "scatterpolargl"
           }
          ],
          "scatterternary": [
           {
            "marker": {
             "colorbar": {
              "outlinewidth": 1,
              "tickcolor": "rgb(36,36,36)",
              "ticks": "outside"
             }
            },
            "type": "scatterternary"
           }
          ],
          "surface": [
           {
            "colorbar": {
             "outlinewidth": 1,
             "tickcolor": "rgb(36,36,36)",
             "ticks": "outside"
            },
            "colorscale": [
             [
              0,
              "#440154"
             ],
             [
              0.1111111111111111,
              "#482878"
             ],
             [
              0.2222222222222222,
              "#3e4989"
             ],
             [
              0.3333333333333333,
              "#31688e"
             ],
             [
              0.4444444444444444,
              "#26828e"
             ],
             [
              0.5555555555555556,
              "#1f9e89"
             ],
             [
              0.6666666666666666,
              "#35b779"
             ],
             [
              0.7777777777777778,
              "#6ece58"
             ],
             [
              0.8888888888888888,
              "#b5de2b"
             ],
             [
              1,
              "#fde725"
             ]
            ],
            "type": "surface"
           }
          ],
          "table": [
           {
            "cells": {
             "fill": {
              "color": "rgb(237,237,237)"
             },
             "line": {
              "color": "white"
             }
            },
            "header": {
             "fill": {
              "color": "rgb(217,217,217)"
             },
             "line": {
              "color": "white"
             }
            },
            "type": "table"
           }
          ]
         },
         "layout": {
          "annotationdefaults": {
           "arrowhead": 0,
           "arrowwidth": 1
          },
          "autotypenumbers": "strict",
          "coloraxis": {
           "colorbar": {
            "outlinewidth": 1,
            "tickcolor": "rgb(36,36,36)",
            "ticks": "outside"
           }
          },
          "colorscale": {
           "diverging": [
            [
             0,
             "rgb(103,0,31)"
            ],
            [
             0.1,
             "rgb(178,24,43)"
            ],
            [
             0.2,
             "rgb(214,96,77)"
            ],
            [
             0.3,
             "rgb(244,165,130)"
            ],
            [
             0.4,
             "rgb(253,219,199)"
            ],
            [
             0.5,
             "rgb(247,247,247)"
            ],
            [
             0.6,
             "rgb(209,229,240)"
            ],
            [
             0.7,
             "rgb(146,197,222)"
            ],
            [
             0.8,
             "rgb(67,147,195)"
            ],
            [
             0.9,
             "rgb(33,102,172)"
            ],
            [
             1,
             "rgb(5,48,97)"
            ]
           ],
           "sequential": [
            [
             0,
             "#440154"
            ],
            [
             0.1111111111111111,
             "#482878"
            ],
            [
             0.2222222222222222,
             "#3e4989"
            ],
            [
             0.3333333333333333,
             "#31688e"
            ],
            [
             0.4444444444444444,
             "#26828e"
            ],
            [
             0.5555555555555556,
             "#1f9e89"
            ],
            [
             0.6666666666666666,
             "#35b779"
            ],
            [
             0.7777777777777778,
             "#6ece58"
            ],
            [
             0.8888888888888888,
             "#b5de2b"
            ],
            [
             1,
             "#fde725"
            ]
           ],
           "sequentialminus": [
            [
             0,
             "#440154"
            ],
            [
             0.1111111111111111,
             "#482878"
            ],
            [
             0.2222222222222222,
             "#3e4989"
            ],
            [
             0.3333333333333333,
             "#31688e"
            ],
            [
             0.4444444444444444,
             "#26828e"
            ],
            [
             0.5555555555555556,
             "#1f9e89"
            ],
            [
             0.6666666666666666,
             "#35b779"
            ],
            [
             0.7777777777777778,
             "#6ece58"
            ],
            [
             0.8888888888888888,
             "#b5de2b"
            ],
            [
             1,
             "#fde725"
            ]
           ]
          },
          "colorway": [
           "#1F77B4",
           "#FF7F0E",
           "#2CA02C",
           "#D62728",
           "#9467BD",
           "#8C564B",
           "#E377C2",
           "#7F7F7F",
           "#BCBD22",
           "#17BECF"
          ],
          "font": {
           "color": "rgb(36,36,36)"
          },
          "geo": {
           "bgcolor": "white",
           "lakecolor": "white",
           "landcolor": "white",
           "showlakes": true,
           "showland": true,
           "subunitcolor": "white"
          },
          "hoverlabel": {
           "align": "left"
          },
          "hovermode": "closest",
          "mapbox": {
           "style": "light"
          },
          "paper_bgcolor": "white",
          "plot_bgcolor": "white",
          "polar": {
           "angularaxis": {
            "gridcolor": "rgb(232,232,232)",
            "linecolor": "rgb(36,36,36)",
            "showgrid": false,
            "showline": true,
            "ticks": "outside"
           },
           "bgcolor": "white",
           "radialaxis": {
            "gridcolor": "rgb(232,232,232)",
            "linecolor": "rgb(36,36,36)",
            "showgrid": false,
            "showline": true,
            "ticks": "outside"
           }
          },
          "scene": {
           "xaxis": {
            "backgroundcolor": "white",
            "gridcolor": "rgb(232,232,232)",
            "gridwidth": 2,
            "linecolor": "rgb(36,36,36)",
            "showbackground": true,
            "showgrid": false,
            "showline": true,
            "ticks": "outside",
            "zeroline": false,
            "zerolinecolor": "rgb(36,36,36)"
           },
           "yaxis": {
            "backgroundcolor": "white",
            "gridcolor": "rgb(232,232,232)",
            "gridwidth": 2,
            "linecolor": "rgb(36,36,36)",
            "showbackground": true,
            "showgrid": false,
            "showline": true,
            "ticks": "outside",
            "zeroline": false,
            "zerolinecolor": "rgb(36,36,36)"
           },
           "zaxis": {
            "backgroundcolor": "white",
            "gridcolor": "rgb(232,232,232)",
            "gridwidth": 2,
            "linecolor": "rgb(36,36,36)",
            "showbackground": true,
            "showgrid": false,
            "showline": true,
            "ticks": "outside",
            "zeroline": false,
            "zerolinecolor": "rgb(36,36,36)"
           }
          },
          "shapedefaults": {
           "fillcolor": "black",
           "line": {
            "width": 0
           },
           "opacity": 0.3
          },
          "ternary": {
           "aaxis": {
            "gridcolor": "rgb(232,232,232)",
            "linecolor": "rgb(36,36,36)",
            "showgrid": false,
            "showline": true,
            "ticks": "outside"
           },
           "baxis": {
            "gridcolor": "rgb(232,232,232)",
            "linecolor": "rgb(36,36,36)",
            "showgrid": false,
            "showline": true,
            "ticks": "outside"
           },
           "bgcolor": "white",
           "caxis": {
            "gridcolor": "rgb(232,232,232)",
            "linecolor": "rgb(36,36,36)",
            "showgrid": false,
            "showline": true,
            "ticks": "outside"
           }
          },
          "title": {
           "x": 0.05
          },
          "xaxis": {
           "automargin": true,
           "gridcolor": "rgb(232,232,232)",
           "linecolor": "rgb(36,36,36)",
           "showgrid": true,
           "showline": true,
           "ticks": "outside",
           "title": {
            "standoff": 15
           },
           "zeroline": false,
           "zerolinecolor": "rgb(36,36,36)"
          },
          "yaxis": {
           "automargin": true,
           "gridcolor": "rgb(232,232,232)",
           "linecolor": "rgb(36,36,36)",
           "showgrid": true,
           "showline": true,
           "ticks": "outside",
           "title": {
            "standoff": 15
           },
           "zeroline": false,
           "zerolinecolor": "rgb(36,36,36)"
          }
         }
        },
        "title": {
         "text": "Total Sales by Category"
        },
        "xaxis": {
         "anchor": "y",
         "domain": [
          0,
          1
         ],
         "title": {
          "text": "Product Category"
         }
        },
        "yaxis": {
         "anchor": "x",
         "domain": [
          0,
          1
         ],
         "title": {
          "text": "Total Sales ($)"
         }
        }
       }
      }
     },
     "metadata": {},
     "output_type": "display_data"
    }
   ],
   "source": [
    "fig: go.Figure = px.bar(\n",
    "    data_frame=pd.read_sql(category_sales_txt, conn),\n",
    "    x=\"category\",\n",
    "    y=\"total_sales\",\n",
    "    title=\"Total Sales by Category\",\n",
    "    text=\"transaction_count\",\n",
    "    labels={\"total_sales\": \"Total Sales ($)\", \"category\": \"Product Category\"},\n",
    ")\n",
    "fig.write_html(\"images/pt2_total_sales_by_category_sql.html\", include_plotlyjs=\"cdn\", full_html=True)\n",
    "fig.show()"
   ]
  },
  {
   "cell_type": "markdown",
   "id": "960bfcdd",
   "metadata": {},
   "source": [
    "<div class=\"result\" markdown>\n",
    "\n",
    "--8<-- \"docs/guides/querying-data/images/pt2_total_sales_by_category_sql.html\"\n",
    "\n",
    "</div>\n",
    "\n",
    "### PySpark"
   ]
  },
  {
   "cell_type": "code",
   "execution_count": null,
   "id": "d82003a8",
   "metadata": {
    "incorrectly_encoded_metadata": "{.pyspark linenums=\"1\" title=\"Plot the results\"}"
   },
   "outputs": [
    {
     "data": {
      "application/vnd.plotly.v1+json": {
       "config": {
        "plotlyServerURL": "https://plot.ly"
       },
       "data": [
        {
         "hovertemplate": "Product Category=%{x}<br>Total Sales ($)=%{y}<br>Transaction Count=%{text}<extra></extra>",
         "legendgroup": "",
         "marker": {
          "color": "#1F77B4",
          "pattern": {
           "shape": ""
          }
         },
         "name": "",
         "orientation": "v",
         "showlegend": false,
         "text": {
          "bdata": "AAAAAAAAIkAAAAAAAAA4QAAAAAAAADxAAAAAAAAAMEAAAAAAAAA3QA==",
          "dtype": "f8"
         },
         "textposition": "auto",
         "type": "bar",
         "x": [
          "Home",
          "Food",
          "Electronics",
          "Clothing",
          "Books"
         ],
         "xaxis": "x",
         "y": {
          "bdata": "cD0K1+PHuEBcj8L1yGHJQJmZmZm5R8ZAwvUoXE+dvEDXo3A9atXDQA==",
          "dtype": "f8"
         },
         "yaxis": "y"
        }
       ],
       "layout": {
        "barmode": "relative",
        "legend": {
         "tracegroupgap": 0
        },
        "template": {
         "data": {
          "bar": [
           {
            "error_x": {
             "color": "rgb(36,36,36)"
            },
            "error_y": {
             "color": "rgb(36,36,36)"
            },
            "marker": {
             "line": {
              "color": "white",
              "width": 0.5
             },
             "pattern": {
              "fillmode": "overlay",
              "size": 10,
              "solidity": 0.2
             }
            },
            "type": "bar"
           }
          ],
          "barpolar": [
           {
            "marker": {
             "line": {
              "color": "white",
              "width": 0.5
             },
             "pattern": {
              "fillmode": "overlay",
              "size": 10,
              "solidity": 0.2
             }
            },
            "type": "barpolar"
           }
          ],
          "carpet": [
           {
            "aaxis": {
             "endlinecolor": "rgb(36,36,36)",
             "gridcolor": "white",
             "linecolor": "white",
             "minorgridcolor": "white",
             "startlinecolor": "rgb(36,36,36)"
            },
            "baxis": {
             "endlinecolor": "rgb(36,36,36)",
             "gridcolor": "white",
             "linecolor": "white",
             "minorgridcolor": "white",
             "startlinecolor": "rgb(36,36,36)"
            },
            "type": "carpet"
           }
          ],
          "choropleth": [
           {
            "colorbar": {
             "outlinewidth": 1,
             "tickcolor": "rgb(36,36,36)",
             "ticks": "outside"
            },
            "type": "choropleth"
           }
          ],
          "contour": [
           {
            "colorbar": {
             "outlinewidth": 1,
             "tickcolor": "rgb(36,36,36)",
             "ticks": "outside"
            },
            "colorscale": [
             [
              0,
              "#440154"
             ],
             [
              0.1111111111111111,
              "#482878"
             ],
             [
              0.2222222222222222,
              "#3e4989"
             ],
             [
              0.3333333333333333,
              "#31688e"
             ],
             [
              0.4444444444444444,
              "#26828e"
             ],
             [
              0.5555555555555556,
              "#1f9e89"
             ],
             [
              0.6666666666666666,
              "#35b779"
             ],
             [
              0.7777777777777778,
              "#6ece58"
             ],
             [
              0.8888888888888888,
              "#b5de2b"
             ],
             [
              1,
              "#fde725"
             ]
            ],
            "type": "contour"
           }
          ],
          "contourcarpet": [
           {
            "colorbar": {
             "outlinewidth": 1,
             "tickcolor": "rgb(36,36,36)",
             "ticks": "outside"
            },
            "type": "contourcarpet"
           }
          ],
          "heatmap": [
           {
            "colorbar": {
             "outlinewidth": 1,
             "tickcolor": "rgb(36,36,36)",
             "ticks": "outside"
            },
            "colorscale": [
             [
              0,
              "#440154"
             ],
             [
              0.1111111111111111,
              "#482878"
             ],
             [
              0.2222222222222222,
              "#3e4989"
             ],
             [
              0.3333333333333333,
              "#31688e"
             ],
             [
              0.4444444444444444,
              "#26828e"
             ],
             [
              0.5555555555555556,
              "#1f9e89"
             ],
             [
              0.6666666666666666,
              "#35b779"
             ],
             [
              0.7777777777777778,
              "#6ece58"
             ],
             [
              0.8888888888888888,
              "#b5de2b"
             ],
             [
              1,
              "#fde725"
             ]
            ],
            "type": "heatmap"
           }
          ],
          "histogram": [
           {
            "marker": {
             "line": {
              "color": "white",
              "width": 0.6
             }
            },
            "type": "histogram"
           }
          ],
          "histogram2d": [
           {
            "colorbar": {
             "outlinewidth": 1,
             "tickcolor": "rgb(36,36,36)",
             "ticks": "outside"
            },
            "colorscale": [
             [
              0,
              "#440154"
             ],
             [
              0.1111111111111111,
              "#482878"
             ],
             [
              0.2222222222222222,
              "#3e4989"
             ],
             [
              0.3333333333333333,
              "#31688e"
             ],
             [
              0.4444444444444444,
              "#26828e"
             ],
             [
              0.5555555555555556,
              "#1f9e89"
             ],
             [
              0.6666666666666666,
              "#35b779"
             ],
             [
              0.7777777777777778,
              "#6ece58"
             ],
             [
              0.8888888888888888,
              "#b5de2b"
             ],
             [
              1,
              "#fde725"
             ]
            ],
            "type": "histogram2d"
           }
          ],
          "histogram2dcontour": [
           {
            "colorbar": {
             "outlinewidth": 1,
             "tickcolor": "rgb(36,36,36)",
             "ticks": "outside"
            },
            "colorscale": [
             [
              0,
              "#440154"
             ],
             [
              0.1111111111111111,
              "#482878"
             ],
             [
              0.2222222222222222,
              "#3e4989"
             ],
             [
              0.3333333333333333,
              "#31688e"
             ],
             [
              0.4444444444444444,
              "#26828e"
             ],
             [
              0.5555555555555556,
              "#1f9e89"
             ],
             [
              0.6666666666666666,
              "#35b779"
             ],
             [
              0.7777777777777778,
              "#6ece58"
             ],
             [
              0.8888888888888888,
              "#b5de2b"
             ],
             [
              1,
              "#fde725"
             ]
            ],
            "type": "histogram2dcontour"
           }
          ],
          "mesh3d": [
           {
            "colorbar": {
             "outlinewidth": 1,
             "tickcolor": "rgb(36,36,36)",
             "ticks": "outside"
            },
            "type": "mesh3d"
           }
          ],
          "parcoords": [
           {
            "line": {
             "colorbar": {
              "outlinewidth": 1,
              "tickcolor": "rgb(36,36,36)",
              "ticks": "outside"
             }
            },
            "type": "parcoords"
           }
          ],
          "pie": [
           {
            "automargin": true,
            "type": "pie"
           }
          ],
          "scatter": [
           {
            "fillpattern": {
             "fillmode": "overlay",
             "size": 10,
             "solidity": 0.2
            },
            "type": "scatter"
           }
          ],
          "scatter3d": [
           {
            "line": {
             "colorbar": {
              "outlinewidth": 1,
              "tickcolor": "rgb(36,36,36)",
              "ticks": "outside"
             }
            },
            "marker": {
             "colorbar": {
              "outlinewidth": 1,
              "tickcolor": "rgb(36,36,36)",
              "ticks": "outside"
             }
            },
            "type": "scatter3d"
           }
          ],
          "scattercarpet": [
           {
            "marker": {
             "colorbar": {
              "outlinewidth": 1,
              "tickcolor": "rgb(36,36,36)",
              "ticks": "outside"
             }
            },
            "type": "scattercarpet"
           }
          ],
          "scattergeo": [
           {
            "marker": {
             "colorbar": {
              "outlinewidth": 1,
              "tickcolor": "rgb(36,36,36)",
              "ticks": "outside"
             }
            },
            "type": "scattergeo"
           }
          ],
          "scattergl": [
           {
            "marker": {
             "colorbar": {
              "outlinewidth": 1,
              "tickcolor": "rgb(36,36,36)",
              "ticks": "outside"
             }
            },
            "type": "scattergl"
           }
          ],
          "scattermap": [
           {
            "marker": {
             "colorbar": {
              "outlinewidth": 1,
              "tickcolor": "rgb(36,36,36)",
              "ticks": "outside"
             }
            },
            "type": "scattermap"
           }
          ],
          "scattermapbox": [
           {
            "marker": {
             "colorbar": {
              "outlinewidth": 1,
              "tickcolor": "rgb(36,36,36)",
              "ticks": "outside"
             }
            },
            "type": "scattermapbox"
           }
          ],
          "scatterpolar": [
           {
            "marker": {
             "colorbar": {
              "outlinewidth": 1,
              "tickcolor": "rgb(36,36,36)",
              "ticks": "outside"
             }
            },
            "type": "scatterpolar"
           }
          ],
          "scatterpolargl": [
           {
            "marker": {
             "colorbar": {
              "outlinewidth": 1,
              "tickcolor": "rgb(36,36,36)",
              "ticks": "outside"
             }
            },
            "type": "scatterpolargl"
           }
          ],
          "scatterternary": [
           {
            "marker": {
             "colorbar": {
              "outlinewidth": 1,
              "tickcolor": "rgb(36,36,36)",
              "ticks": "outside"
             }
            },
            "type": "scatterternary"
           }
          ],
          "surface": [
           {
            "colorbar": {
             "outlinewidth": 1,
             "tickcolor": "rgb(36,36,36)",
             "ticks": "outside"
            },
            "colorscale": [
             [
              0,
              "#440154"
             ],
             [
              0.1111111111111111,
              "#482878"
             ],
             [
              0.2222222222222222,
              "#3e4989"
             ],
             [
              0.3333333333333333,
              "#31688e"
             ],
             [
              0.4444444444444444,
              "#26828e"
             ],
             [
              0.5555555555555556,
              "#1f9e89"
             ],
             [
              0.6666666666666666,
              "#35b779"
             ],
             [
              0.7777777777777778,
              "#6ece58"
             ],
             [
              0.8888888888888888,
              "#b5de2b"
             ],
             [
              1,
              "#fde725"
             ]
            ],
            "type": "surface"
           }
          ],
          "table": [
           {
            "cells": {
             "fill": {
              "color": "rgb(237,237,237)"
             },
             "line": {
              "color": "white"
             }
            },
            "header": {
             "fill": {
              "color": "rgb(217,217,217)"
             },
             "line": {
              "color": "white"
             }
            },
            "type": "table"
           }
          ]
         },
         "layout": {
          "annotationdefaults": {
           "arrowhead": 0,
           "arrowwidth": 1
          },
          "autotypenumbers": "strict",
          "coloraxis": {
           "colorbar": {
            "outlinewidth": 1,
            "tickcolor": "rgb(36,36,36)",
            "ticks": "outside"
           }
          },
          "colorscale": {
           "diverging": [
            [
             0,
             "rgb(103,0,31)"
            ],
            [
             0.1,
             "rgb(178,24,43)"
            ],
            [
             0.2,
             "rgb(214,96,77)"
            ],
            [
             0.3,
             "rgb(244,165,130)"
            ],
            [
             0.4,
             "rgb(253,219,199)"
            ],
            [
             0.5,
             "rgb(247,247,247)"
            ],
            [
             0.6,
             "rgb(209,229,240)"
            ],
            [
             0.7,
             "rgb(146,197,222)"
            ],
            [
             0.8,
             "rgb(67,147,195)"
            ],
            [
             0.9,
             "rgb(33,102,172)"
            ],
            [
             1,
             "rgb(5,48,97)"
            ]
           ],
           "sequential": [
            [
             0,
             "#440154"
            ],
            [
             0.1111111111111111,
             "#482878"
            ],
            [
             0.2222222222222222,
             "#3e4989"
            ],
            [
             0.3333333333333333,
             "#31688e"
            ],
            [
             0.4444444444444444,
             "#26828e"
            ],
            [
             0.5555555555555556,
             "#1f9e89"
            ],
            [
             0.6666666666666666,
             "#35b779"
            ],
            [
             0.7777777777777778,
             "#6ece58"
            ],
            [
             0.8888888888888888,
             "#b5de2b"
            ],
            [
             1,
             "#fde725"
            ]
           ],
           "sequentialminus": [
            [
             0,
             "#440154"
            ],
            [
             0.1111111111111111,
             "#482878"
            ],
            [
             0.2222222222222222,
             "#3e4989"
            ],
            [
             0.3333333333333333,
             "#31688e"
            ],
            [
             0.4444444444444444,
             "#26828e"
            ],
            [
             0.5555555555555556,
             "#1f9e89"
            ],
            [
             0.6666666666666666,
             "#35b779"
            ],
            [
             0.7777777777777778,
             "#6ece58"
            ],
            [
             0.8888888888888888,
             "#b5de2b"
            ],
            [
             1,
             "#fde725"
            ]
           ]
          },
          "colorway": [
           "#1F77B4",
           "#FF7F0E",
           "#2CA02C",
           "#D62728",
           "#9467BD",
           "#8C564B",
           "#E377C2",
           "#7F7F7F",
           "#BCBD22",
           "#17BECF"
          ],
          "font": {
           "color": "rgb(36,36,36)"
          },
          "geo": {
           "bgcolor": "white",
           "lakecolor": "white",
           "landcolor": "white",
           "showlakes": true,
           "showland": true,
           "subunitcolor": "white"
          },
          "hoverlabel": {
           "align": "left"
          },
          "hovermode": "closest",
          "mapbox": {
           "style": "light"
          },
          "paper_bgcolor": "white",
          "plot_bgcolor": "white",
          "polar": {
           "angularaxis": {
            "gridcolor": "rgb(232,232,232)",
            "linecolor": "rgb(36,36,36)",
            "showgrid": false,
            "showline": true,
            "ticks": "outside"
           },
           "bgcolor": "white",
           "radialaxis": {
            "gridcolor": "rgb(232,232,232)",
            "linecolor": "rgb(36,36,36)",
            "showgrid": false,
            "showline": true,
            "ticks": "outside"
           }
          },
          "scene": {
           "xaxis": {
            "backgroundcolor": "white",
            "gridcolor": "rgb(232,232,232)",
            "gridwidth": 2,
            "linecolor": "rgb(36,36,36)",
            "showbackground": true,
            "showgrid": false,
            "showline": true,
            "ticks": "outside",
            "zeroline": false,
            "zerolinecolor": "rgb(36,36,36)"
           },
           "yaxis": {
            "backgroundcolor": "white",
            "gridcolor": "rgb(232,232,232)",
            "gridwidth": 2,
            "linecolor": "rgb(36,36,36)",
            "showbackground": true,
            "showgrid": false,
            "showline": true,
            "ticks": "outside",
            "zeroline": false,
            "zerolinecolor": "rgb(36,36,36)"
           },
           "zaxis": {
            "backgroundcolor": "white",
            "gridcolor": "rgb(232,232,232)",
            "gridwidth": 2,
            "linecolor": "rgb(36,36,36)",
            "showbackground": true,
            "showgrid": false,
            "showline": true,
            "ticks": "outside",
            "zeroline": false,
            "zerolinecolor": "rgb(36,36,36)"
           }
          },
          "shapedefaults": {
           "fillcolor": "black",
           "line": {
            "width": 0
           },
           "opacity": 0.3
          },
          "ternary": {
           "aaxis": {
            "gridcolor": "rgb(232,232,232)",
            "linecolor": "rgb(36,36,36)",
            "showgrid": false,
            "showline": true,
            "ticks": "outside"
           },
           "baxis": {
            "gridcolor": "rgb(232,232,232)",
            "linecolor": "rgb(36,36,36)",
            "showgrid": false,
            "showline": true,
            "ticks": "outside"
           },
           "bgcolor": "white",
           "caxis": {
            "gridcolor": "rgb(232,232,232)",
            "linecolor": "rgb(36,36,36)",
            "showgrid": false,
            "showline": true,
            "ticks": "outside"
           }
          },
          "title": {
           "x": 0.05
          },
          "xaxis": {
           "automargin": true,
           "gridcolor": "rgb(232,232,232)",
           "linecolor": "rgb(36,36,36)",
           "showgrid": true,
           "showline": true,
           "ticks": "outside",
           "title": {
            "standoff": 15
           },
           "zeroline": false,
           "zerolinecolor": "rgb(36,36,36)"
          },
          "yaxis": {
           "automargin": true,
           "gridcolor": "rgb(232,232,232)",
           "linecolor": "rgb(36,36,36)",
           "showgrid": true,
           "showline": true,
           "ticks": "outside",
           "title": {
            "standoff": 15
           },
           "zeroline": false,
           "zerolinecolor": "rgb(36,36,36)"
          }
         }
        },
        "title": {
         "text": "Total Sales by Category"
        },
        "xaxis": {
         "anchor": "y",
         "domain": [
          0,
          1
         ],
         "title": {
          "text": "Product Category"
         }
        },
        "yaxis": {
         "anchor": "x",
         "domain": [
          0,
          1
         ],
         "title": {
          "text": "Total Sales ($)"
         }
        }
       }
      }
     },
     "metadata": {},
     "output_type": "display_data"
    }
   ],
   "source": [
    "fig: go.Figure = px.bar(\n",
    "    data_frame=category_sales_ps.toPandas(),\n",
    "    x=\"category\",\n",
    "    y=\"Total Sales\",\n",
    "    title=\"Total Sales by Category\",\n",
    "    text=\"Transaction Count\",\n",
    "    labels={\"Total Sales\": \"Total Sales ($)\", \"category\": \"Product Category\"},\n",
    ")\n",
    "fig.write_html(\"images/pt2_total_sales_by_category_ps.html\", include_plotlyjs=\"cdn\", full_html=True)\n",
    "fig.show()"
   ]
  },
  {
   "cell_type": "markdown",
   "id": "da313cf2",
   "metadata": {},
   "source": [
    "<div class=\"result\" markdown>\n",
    "\n",
    "--8<-- \"docs/guides/querying-data/images/pt2_total_sales_by_category_ps.html\"\n",
    "\n",
    "</div>\n",
    "\n",
    "### Polars"
   ]
  },
  {
   "cell_type": "code",
   "execution_count": null,
   "id": "343ba02f",
   "metadata": {
    "incorrectly_encoded_metadata": "{.polars linenums=\"1\" title=\"Plot the results\"}"
   },
   "outputs": [
    {
     "data": {
      "application/vnd.plotly.v1+json": {
       "config": {
        "plotlyServerURL": "https://plot.ly"
       },
       "data": [
        {
         "hovertemplate": "Product Category=%{x}<br>Total Sales ($)=%{y}<br>Transaction Count=%{text}<extra></extra>",
         "legendgroup": "",
         "marker": {
          "color": "#1F77B4",
          "pattern": {
           "shape": ""
          }
         },
         "name": "",
         "orientation": "v",
         "showlegend": false,
         "text": {
          "bdata": "AAAAAAAAOEAAAAAAAAA8QAAAAAAAADdAAAAAAAAAIkAAAAAAAAAwQA==",
          "dtype": "f8"
         },
         "textposition": "auto",
         "type": "bar",
         "x": [
          "Food",
          "Electronics",
          "Books",
          "Home",
          "Clothing"
         ],
         "xaxis": "x",
         "y": {
          "bdata": "XY/C9chhyUCbmZmZuUfGQNijcD1q1cNAcD0K1+PHuEDC9ShcT528QA==",
          "dtype": "f8"
         },
         "yaxis": "y"
        }
       ],
       "layout": {
        "barmode": "relative",
        "legend": {
         "tracegroupgap": 0
        },
        "template": {
         "data": {
          "bar": [
           {
            "error_x": {
             "color": "rgb(36,36,36)"
            },
            "error_y": {
             "color": "rgb(36,36,36)"
            },
            "marker": {
             "line": {
              "color": "white",
              "width": 0.5
             },
             "pattern": {
              "fillmode": "overlay",
              "size": 10,
              "solidity": 0.2
             }
            },
            "type": "bar"
           }
          ],
          "barpolar": [
           {
            "marker": {
             "line": {
              "color": "white",
              "width": 0.5
             },
             "pattern": {
              "fillmode": "overlay",
              "size": 10,
              "solidity": 0.2
             }
            },
            "type": "barpolar"
           }
          ],
          "carpet": [
           {
            "aaxis": {
             "endlinecolor": "rgb(36,36,36)",
             "gridcolor": "white",
             "linecolor": "white",
             "minorgridcolor": "white",
             "startlinecolor": "rgb(36,36,36)"
            },
            "baxis": {
             "endlinecolor": "rgb(36,36,36)",
             "gridcolor": "white",
             "linecolor": "white",
             "minorgridcolor": "white",
             "startlinecolor": "rgb(36,36,36)"
            },
            "type": "carpet"
           }
          ],
          "choropleth": [
           {
            "colorbar": {
             "outlinewidth": 1,
             "tickcolor": "rgb(36,36,36)",
             "ticks": "outside"
            },
            "type": "choropleth"
           }
          ],
          "contour": [
           {
            "colorbar": {
             "outlinewidth": 1,
             "tickcolor": "rgb(36,36,36)",
             "ticks": "outside"
            },
            "colorscale": [
             [
              0,
              "#440154"
             ],
             [
              0.1111111111111111,
              "#482878"
             ],
             [
              0.2222222222222222,
              "#3e4989"
             ],
             [
              0.3333333333333333,
              "#31688e"
             ],
             [
              0.4444444444444444,
              "#26828e"
             ],
             [
              0.5555555555555556,
              "#1f9e89"
             ],
             [
              0.6666666666666666,
              "#35b779"
             ],
             [
              0.7777777777777778,
              "#6ece58"
             ],
             [
              0.8888888888888888,
              "#b5de2b"
             ],
             [
              1,
              "#fde725"
             ]
            ],
            "type": "contour"
           }
          ],
          "contourcarpet": [
           {
            "colorbar": {
             "outlinewidth": 1,
             "tickcolor": "rgb(36,36,36)",
             "ticks": "outside"
            },
            "type": "contourcarpet"
           }
          ],
          "heatmap": [
           {
            "colorbar": {
             "outlinewidth": 1,
             "tickcolor": "rgb(36,36,36)",
             "ticks": "outside"
            },
            "colorscale": [
             [
              0,
              "#440154"
             ],
             [
              0.1111111111111111,
              "#482878"
             ],
             [
              0.2222222222222222,
              "#3e4989"
             ],
             [
              0.3333333333333333,
              "#31688e"
             ],
             [
              0.4444444444444444,
              "#26828e"
             ],
             [
              0.5555555555555556,
              "#1f9e89"
             ],
             [
              0.6666666666666666,
              "#35b779"
             ],
             [
              0.7777777777777778,
              "#6ece58"
             ],
             [
              0.8888888888888888,
              "#b5de2b"
             ],
             [
              1,
              "#fde725"
             ]
            ],
            "type": "heatmap"
           }
          ],
          "histogram": [
           {
            "marker": {
             "line": {
              "color": "white",
              "width": 0.6
             }
            },
            "type": "histogram"
           }
          ],
          "histogram2d": [
           {
            "colorbar": {
             "outlinewidth": 1,
             "tickcolor": "rgb(36,36,36)",
             "ticks": "outside"
            },
            "colorscale": [
             [
              0,
              "#440154"
             ],
             [
              0.1111111111111111,
              "#482878"
             ],
             [
              0.2222222222222222,
              "#3e4989"
             ],
             [
              0.3333333333333333,
              "#31688e"
             ],
             [
              0.4444444444444444,
              "#26828e"
             ],
             [
              0.5555555555555556,
              "#1f9e89"
             ],
             [
              0.6666666666666666,
              "#35b779"
             ],
             [
              0.7777777777777778,
              "#6ece58"
             ],
             [
              0.8888888888888888,
              "#b5de2b"
             ],
             [
              1,
              "#fde725"
             ]
            ],
            "type": "histogram2d"
           }
          ],
          "histogram2dcontour": [
           {
            "colorbar": {
             "outlinewidth": 1,
             "tickcolor": "rgb(36,36,36)",
             "ticks": "outside"
            },
            "colorscale": [
             [
              0,
              "#440154"
             ],
             [
              0.1111111111111111,
              "#482878"
             ],
             [
              0.2222222222222222,
              "#3e4989"
             ],
             [
              0.3333333333333333,
              "#31688e"
             ],
             [
              0.4444444444444444,
              "#26828e"
             ],
             [
              0.5555555555555556,
              "#1f9e89"
             ],
             [
              0.6666666666666666,
              "#35b779"
             ],
             [
              0.7777777777777778,
              "#6ece58"
             ],
             [
              0.8888888888888888,
              "#b5de2b"
             ],
             [
              1,
              "#fde725"
             ]
            ],
            "type": "histogram2dcontour"
           }
          ],
          "mesh3d": [
           {
            "colorbar": {
             "outlinewidth": 1,
             "tickcolor": "rgb(36,36,36)",
             "ticks": "outside"
            },
            "type": "mesh3d"
           }
          ],
          "parcoords": [
           {
            "line": {
             "colorbar": {
              "outlinewidth": 1,
              "tickcolor": "rgb(36,36,36)",
              "ticks": "outside"
             }
            },
            "type": "parcoords"
           }
          ],
          "pie": [
           {
            "automargin": true,
            "type": "pie"
           }
          ],
          "scatter": [
           {
            "fillpattern": {
             "fillmode": "overlay",
             "size": 10,
             "solidity": 0.2
            },
            "type": "scatter"
           }
          ],
          "scatter3d": [
           {
            "line": {
             "colorbar": {
              "outlinewidth": 1,
              "tickcolor": "rgb(36,36,36)",
              "ticks": "outside"
             }
            },
            "marker": {
             "colorbar": {
              "outlinewidth": 1,
              "tickcolor": "rgb(36,36,36)",
              "ticks": "outside"
             }
            },
            "type": "scatter3d"
           }
          ],
          "scattercarpet": [
           {
            "marker": {
             "colorbar": {
              "outlinewidth": 1,
              "tickcolor": "rgb(36,36,36)",
              "ticks": "outside"
             }
            },
            "type": "scattercarpet"
           }
          ],
          "scattergeo": [
           {
            "marker": {
             "colorbar": {
              "outlinewidth": 1,
              "tickcolor": "rgb(36,36,36)",
              "ticks": "outside"
             }
            },
            "type": "scattergeo"
           }
          ],
          "scattergl": [
           {
            "marker": {
             "colorbar": {
              "outlinewidth": 1,
              "tickcolor": "rgb(36,36,36)",
              "ticks": "outside"
             }
            },
            "type": "scattergl"
           }
          ],
          "scattermap": [
           {
            "marker": {
             "colorbar": {
              "outlinewidth": 1,
              "tickcolor": "rgb(36,36,36)",
              "ticks": "outside"
             }
            },
            "type": "scattermap"
           }
          ],
          "scattermapbox": [
           {
            "marker": {
             "colorbar": {
              "outlinewidth": 1,
              "tickcolor": "rgb(36,36,36)",
              "ticks": "outside"
             }
            },
            "type": "scattermapbox"
           }
          ],
          "scatterpolar": [
           {
            "marker": {
             "colorbar": {
              "outlinewidth": 1,
              "tickcolor": "rgb(36,36,36)",
              "ticks": "outside"
             }
            },
            "type": "scatterpolar"
           }
          ],
          "scatterpolargl": [
           {
            "marker": {
             "colorbar": {
              "outlinewidth": 1,
              "tickcolor": "rgb(36,36,36)",
              "ticks": "outside"
             }
            },
            "type": "scatterpolargl"
           }
          ],
          "scatterternary": [
           {
            "marker": {
             "colorbar": {
              "outlinewidth": 1,
              "tickcolor": "rgb(36,36,36)",
              "ticks": "outside"
             }
            },
            "type": "scatterternary"
           }
          ],
          "surface": [
           {
            "colorbar": {
             "outlinewidth": 1,
             "tickcolor": "rgb(36,36,36)",
             "ticks": "outside"
            },
            "colorscale": [
             [
              0,
              "#440154"
             ],
             [
              0.1111111111111111,
              "#482878"
             ],
             [
              0.2222222222222222,
              "#3e4989"
             ],
             [
              0.3333333333333333,
              "#31688e"
             ],
             [
              0.4444444444444444,
              "#26828e"
             ],
             [
              0.5555555555555556,
              "#1f9e89"
             ],
             [
              0.6666666666666666,
              "#35b779"
             ],
             [
              0.7777777777777778,
              "#6ece58"
             ],
             [
              0.8888888888888888,
              "#b5de2b"
             ],
             [
              1,
              "#fde725"
             ]
            ],
            "type": "surface"
           }
          ],
          "table": [
           {
            "cells": {
             "fill": {
              "color": "rgb(237,237,237)"
             },
             "line": {
              "color": "white"
             }
            },
            "header": {
             "fill": {
              "color": "rgb(217,217,217)"
             },
             "line": {
              "color": "white"
             }
            },
            "type": "table"
           }
          ]
         },
         "layout": {
          "annotationdefaults": {
           "arrowhead": 0,
           "arrowwidth": 1
          },
          "autotypenumbers": "strict",
          "coloraxis": {
           "colorbar": {
            "outlinewidth": 1,
            "tickcolor": "rgb(36,36,36)",
            "ticks": "outside"
           }
          },
          "colorscale": {
           "diverging": [
            [
             0,
             "rgb(103,0,31)"
            ],
            [
             0.1,
             "rgb(178,24,43)"
            ],
            [
             0.2,
             "rgb(214,96,77)"
            ],
            [
             0.3,
             "rgb(244,165,130)"
            ],
            [
             0.4,
             "rgb(253,219,199)"
            ],
            [
             0.5,
             "rgb(247,247,247)"
            ],
            [
             0.6,
             "rgb(209,229,240)"
            ],
            [
             0.7,
             "rgb(146,197,222)"
            ],
            [
             0.8,
             "rgb(67,147,195)"
            ],
            [
             0.9,
             "rgb(33,102,172)"
            ],
            [
             1,
             "rgb(5,48,97)"
            ]
           ],
           "sequential": [
            [
             0,
             "#440154"
            ],
            [
             0.1111111111111111,
             "#482878"
            ],
            [
             0.2222222222222222,
             "#3e4989"
            ],
            [
             0.3333333333333333,
             "#31688e"
            ],
            [
             0.4444444444444444,
             "#26828e"
            ],
            [
             0.5555555555555556,
             "#1f9e89"
            ],
            [
             0.6666666666666666,
             "#35b779"
            ],
            [
             0.7777777777777778,
             "#6ece58"
            ],
            [
             0.8888888888888888,
             "#b5de2b"
            ],
            [
             1,
             "#fde725"
            ]
           ],
           "sequentialminus": [
            [
             0,
             "#440154"
            ],
            [
             0.1111111111111111,
             "#482878"
            ],
            [
             0.2222222222222222,
             "#3e4989"
            ],
            [
             0.3333333333333333,
             "#31688e"
            ],
            [
             0.4444444444444444,
             "#26828e"
            ],
            [
             0.5555555555555556,
             "#1f9e89"
            ],
            [
             0.6666666666666666,
             "#35b779"
            ],
            [
             0.7777777777777778,
             "#6ece58"
            ],
            [
             0.8888888888888888,
             "#b5de2b"
            ],
            [
             1,
             "#fde725"
            ]
           ]
          },
          "colorway": [
           "#1F77B4",
           "#FF7F0E",
           "#2CA02C",
           "#D62728",
           "#9467BD",
           "#8C564B",
           "#E377C2",
           "#7F7F7F",
           "#BCBD22",
           "#17BECF"
          ],
          "font": {
           "color": "rgb(36,36,36)"
          },
          "geo": {
           "bgcolor": "white",
           "lakecolor": "white",
           "landcolor": "white",
           "showlakes": true,
           "showland": true,
           "subunitcolor": "white"
          },
          "hoverlabel": {
           "align": "left"
          },
          "hovermode": "closest",
          "mapbox": {
           "style": "light"
          },
          "paper_bgcolor": "white",
          "plot_bgcolor": "white",
          "polar": {
           "angularaxis": {
            "gridcolor": "rgb(232,232,232)",
            "linecolor": "rgb(36,36,36)",
            "showgrid": false,
            "showline": true,
            "ticks": "outside"
           },
           "bgcolor": "white",
           "radialaxis": {
            "gridcolor": "rgb(232,232,232)",
            "linecolor": "rgb(36,36,36)",
            "showgrid": false,
            "showline": true,
            "ticks": "outside"
           }
          },
          "scene": {
           "xaxis": {
            "backgroundcolor": "white",
            "gridcolor": "rgb(232,232,232)",
            "gridwidth": 2,
            "linecolor": "rgb(36,36,36)",
            "showbackground": true,
            "showgrid": false,
            "showline": true,
            "ticks": "outside",
            "zeroline": false,
            "zerolinecolor": "rgb(36,36,36)"
           },
           "yaxis": {
            "backgroundcolor": "white",
            "gridcolor": "rgb(232,232,232)",
            "gridwidth": 2,
            "linecolor": "rgb(36,36,36)",
            "showbackground": true,
            "showgrid": false,
            "showline": true,
            "ticks": "outside",
            "zeroline": false,
            "zerolinecolor": "rgb(36,36,36)"
           },
           "zaxis": {
            "backgroundcolor": "white",
            "gridcolor": "rgb(232,232,232)",
            "gridwidth": 2,
            "linecolor": "rgb(36,36,36)",
            "showbackground": true,
            "showgrid": false,
            "showline": true,
            "ticks": "outside",
            "zeroline": false,
            "zerolinecolor": "rgb(36,36,36)"
           }
          },
          "shapedefaults": {
           "fillcolor": "black",
           "line": {
            "width": 0
           },
           "opacity": 0.3
          },
          "ternary": {
           "aaxis": {
            "gridcolor": "rgb(232,232,232)",
            "linecolor": "rgb(36,36,36)",
            "showgrid": false,
            "showline": true,
            "ticks": "outside"
           },
           "baxis": {
            "gridcolor": "rgb(232,232,232)",
            "linecolor": "rgb(36,36,36)",
            "showgrid": false,
            "showline": true,
            "ticks": "outside"
           },
           "bgcolor": "white",
           "caxis": {
            "gridcolor": "rgb(232,232,232)",
            "linecolor": "rgb(36,36,36)",
            "showgrid": false,
            "showline": true,
            "ticks": "outside"
           }
          },
          "title": {
           "x": 0.05
          },
          "xaxis": {
           "automargin": true,
           "gridcolor": "rgb(232,232,232)",
           "linecolor": "rgb(36,36,36)",
           "showgrid": true,
           "showline": true,
           "ticks": "outside",
           "title": {
            "standoff": 15
           },
           "zeroline": false,
           "zerolinecolor": "rgb(36,36,36)"
          },
          "yaxis": {
           "automargin": true,
           "gridcolor": "rgb(232,232,232)",
           "linecolor": "rgb(36,36,36)",
           "showgrid": true,
           "showline": true,
           "ticks": "outside",
           "title": {
            "standoff": 15
           },
           "zeroline": false,
           "zerolinecolor": "rgb(36,36,36)"
          }
         }
        },
        "title": {
         "text": "Total Sales by Category"
        },
        "xaxis": {
         "anchor": "y",
         "domain": [
          0,
          1
         ],
         "title": {
          "text": "Product Category"
         }
        },
        "yaxis": {
         "anchor": "x",
         "domain": [
          0,
          1
         ],
         "title": {
          "text": "Total Sales ($)"
         }
        }
       }
      }
     },
     "metadata": {},
     "output_type": "display_data"
    }
   ],
   "source": [
    "fig: go.Figure = px.bar(\n",
    "    data_frame=category_sales_pl,\n",
    "    x=\"category\",\n",
    "    y=\"Total Sales\",\n",
    "    title=\"Total Sales by Category\",\n",
    "    text=\"Transaction Count\",\n",
    "    labels={\"Total Sales\": \"Total Sales ($)\", \"category\": \"Product Category\"},\n",
    ")\n",
    "fig.write_html(\"images/pt2_total_sales_by_category_pl.html\", include_plotlyjs=\"cdn\", full_html=True)\n",
    "fig.show()"
   ]
  },
  {
   "cell_type": "markdown",
   "id": "e9724d41",
   "metadata": {},
   "source": [
    "<div class=\"result\" markdown>\n",
    "\n",
    "--8<-- \"docs/guides/querying-data/images/pt2_total_sales_by_category_pl.html\"\n",
    "\n",
    "</div>\n",
    "\n",
    "## 3. Joining\n",
    "\n",
    "The third section will demonstrate how to join DataFrames to combine data from different sources. This is a common operation in data analysis, allowing us to enrich our data with additional information.\n",
    "\n",
    "Here, we will join the `sales` DataFrame with the `product` DataFrame to get additional information about the products sold.\n",
    "\n",
    "### Pandas\n",
    "\n",
    "In Pandas, we can use the [`pd.merge()`](https://pandas.pydata.org/docs/reference/api/pandas.merge.html) method to join DataFrames. This method allows us to specify the columns to join on and the type of join (inner, outer, left, or right)."
   ]
  },
  {
   "cell_type": "code",
   "execution_count": null,
   "id": "449d5ba6",
   "metadata": {
    "incorrectly_encoded_metadata": "{.pandas linenums=\"1\" title=\"Join sales with product data\"}"
   },
   "outputs": [],
   "source": [
    "sales_with_product_pd: pd.DataFrame = pd.merge(\n",
    "    left=df_sales_pd,\n",
    "    right=df_product_pd[[\"product_id\", \"product_name\", \"price\"]],\n",
    "    on=\"product_id\",\n",
    "    how=\"left\",\n",
    ")\n",
    "print(f\"Sales with Product Information: {len(sales_with_product_pd)}\")\n",
    "print(sales_with_product_pd.head(5))\n",
    "print(sales_with_product_pd.head(5).to_markdown())"
   ]
  },
  {
   "cell_type": "markdown",
   "id": "32042a80",
   "metadata": {},
   "source": [
    "<div class=\"result\" markdown>\n",
    "\n",
    "```txt\n",
    "\n",
    "```\n",
    "\n",
    "```txt\n",
    "\n",
    "```\n"
   ]
  },
  {
   "cell_type": "markdown",
   "id": "f8d95c25",
   "metadata": {},
   "source": [
    "</div>\n",
    "\n",
    "### SQL"
   ]
  },
  {
   "cell_type": "code",
   "execution_count": null,
   "id": "138969b0",
   "metadata": {
    "incorrectly_encoded_metadata": "{.sql linenums=\"1\" title=\"Join sales with product data\"}"
   },
   "outputs": [],
   "source": [
    "sales_with_product_txt: str = \"\"\"\n",
    "    SELECT s.*, p.product_name, p.price\n",
    "    FROM sales s\n",
    "    LEFT JOIN product p ON s.product_id = p.product_id\n",
    "\"\"\"\n",
    "print(f\"Sales with Product Data: {len(pd.read_sql(sales_with_product_txt, conn))}\")\n",
    "print(pd.read_sql(sales_with_product_txt + \"LIMIT 5\", conn))\n",
    "print(pd.read_sql(sales_with_product_txt + \"LIMIT 5\", conn).to_markdown())"
   ]
  },
  {
   "cell_type": "markdown",
   "id": "32684ca4",
   "metadata": {},
   "source": [
    "<div class=\"result\" markdown>\n",
    "\n",
    "```txt\n",
    "\n",
    "```\n",
    "\n",
    "```txt\n",
    "\n",
    "```\n"
   ]
  },
  {
   "cell_type": "markdown",
   "id": "f120636d",
   "metadata": {},
   "source": [
    "</div>\n",
    "\n",
    "### PySpark"
   ]
  },
  {
   "cell_type": "code",
   "execution_count": null,
   "id": "0e569097",
   "metadata": {
    "incorrectly_encoded_metadata": "{.pyspark linenums=\"1\" title=\"Join sales with product data\"}"
   },
   "outputs": [],
   "source": [
    "sales_with_product_ps: psDataFrame = df_sales_ps.join(\n",
    "    other=df_product_ps.select(\"product_id\", \"product_name\", \"price\"),\n",
    "    on=\"product_id\",\n",
    "    how=\"left\",\n",
    ")\n",
    "print(f\"Sales with Product Information: {sales_with_product_ps.count()}\")\n",
    "sales_with_product_ps.show(5)\n",
    "print(sales_with_product_ps.limit(5).toPandas().to_markdown())"
   ]
  },
  {
   "cell_type": "markdown",
   "id": "1c4b1a83",
   "metadata": {},
   "source": [
    "<div class=\"result\" markdown>\n",
    "\n",
    "```txt\n",
    "\n",
    "```\n",
    "\n",
    "```txt\n",
    "\n",
    "```\n"
   ]
  },
  {
   "cell_type": "markdown",
   "id": "e30baa4e",
   "metadata": {},
   "source": [
    "</div>\n",
    "\n",
    "### Polars"
   ]
  },
  {
   "cell_type": "code",
   "execution_count": null,
   "id": "05ce059a",
   "metadata": {
    "incorrectly_encoded_metadata": "{.polars linenums=\"1\" title=\"Join sales with product data\"}"
   },
   "outputs": [],
   "source": [
    "sales_with_product: pl.DataFrame = df_sales_pl.join(\n",
    "    df_product_pl.select([\"product_id\", \"product_name\", \"price\"]),\n",
    "    on=\"product_id\",\n",
    "    how=\"left\",\n",
    ")\n",
    "print(f\"Sales with Product Information: {len(sales_with_product)}\")\n",
    "print(sales_with_product.head(5))\n",
    "print(sales_with_product.head(5).to_pandas().to_markdown())"
   ]
  },
  {
   "cell_type": "markdown",
   "id": "0c1d3087",
   "metadata": {},
   "source": [
    "<div class=\"result\" markdown>\n",
    "\n",
    "```txt\n",
    "\n",
    "```\n",
    "\n",
    "```txt\n",
    "\n",
    "```\n"
   ]
  },
  {
   "cell_type": "markdown",
   "id": "8aaf1eb1",
   "metadata": {},
   "source": [
    "</div>\n",
    "\n",
    "In the next step, we will join the resulting DataFrame with the `customer` DataFrame to get customer information for each sale. This allows us to create a complete view of the sales data, including product and customer details.\n",
    "\n",
    "### Pandas"
   ]
  },
  {
   "cell_type": "code",
   "execution_count": null,
   "id": "5596f3a3",
   "metadata": {
    "incorrectly_encoded_metadata": "{.pandas linenums=\"1\" title=\"Join with customer information to get a complete view\"}"
   },
   "outputs": [],
   "source": [
    "complete_sales_pd: pd.DataFrame = pd.merge(\n",
    "    sales_with_product,\n",
    "    df_customer_pd[[\"customer_id\", \"customer_name\", \"city\", \"state\"]],\n",
    "    on=\"customer_id\",\n",
    "    how=\"left\",\n",
    ")\n",
    "print(f\"Complete Sales Data with Customer Information: {len(complete_sales_pd)}\")\n",
    "print(complete_sales_pd.head(5))\n",
    "print(complete_sales_pd.head(5).to_markdown())"
   ]
  },
  {
   "cell_type": "markdown",
   "id": "01eca12b",
   "metadata": {},
   "source": [
    "<div class=\"result\" markdown>\n",
    "\n",
    "```txt\n",
    "\n",
    "```\n",
    "\n",
    "```txt\n",
    "\n",
    "```\n"
   ]
  },
  {
   "cell_type": "markdown",
   "id": "e401db9d",
   "metadata": {},
   "source": [
    "</div>\n",
    "\n",
    "### SQL"
   ]
  },
  {
   "cell_type": "code",
   "execution_count": null,
   "id": "ce3a2604",
   "metadata": {
    "incorrectly_encoded_metadata": "{.sql linenums=\"1\" title=\"Join with customer information to get a complete view\"}"
   },
   "outputs": [],
   "source": [
    "complete_sales_txt: str = \"\"\"\n",
    "    SELECT\n",
    "        s.*,\n",
    "        p.product_name,\n",
    "        p.price,\n",
    "        c.customer_name,\n",
    "        c.city,\n",
    "        c.state\n",
    "    FROM sales s\n",
    "    LEFT JOIN product p ON s.product_id = p.product_id\n",
    "    LEFT JOIN customer c ON s.customer_id = c.customer_id\n",
    "\"\"\"\n",
    "print(f\"Complete Sales Data: {len(pd.read_sql(complete_sales_txt, conn))}\")\n",
    "print(pd.read_sql(complete_sales_txt + \"LIMIT 5\", conn))\n",
    "print(pd.read_sql(complete_sales_txt + \"LIMIT 5\", conn).to_markdown())"
   ]
  },
  {
   "cell_type": "markdown",
   "id": "7529a067",
   "metadata": {},
   "source": [
    "<div class=\"result\" markdown>\n",
    "\n",
    "```txt\n",
    "\n",
    "```\n",
    "\n",
    "```txt\n",
    "\n",
    "```\n"
   ]
  },
  {
   "cell_type": "markdown",
   "id": "025a4775",
   "metadata": {},
   "source": [
    "</div>\n",
    "\n",
    "### PySpark"
   ]
  },
  {
   "cell_type": "code",
   "execution_count": null,
   "id": "47a460d7",
   "metadata": {
    "incorrectly_encoded_metadata": "{.pyspark linenums=\"1\" title=\"Join with customer information to get a complete view\"}"
   },
   "outputs": [],
   "source": [
    "complete_sales_ps: psDataFrame = sales_with_product.alias(\"s\").join(\n",
    "    other=df_customer_ps.select(\"customer_id\", \"customer_name\", \"city\", \"state\").alias(\"c\"),\n",
    "    on=\"customer_id\",\n",
    "    how=\"left\",\n",
    ")\n",
    "print(f\"Complete Sales Data with Customer Information: {complete_sales_ps.count()}\")\n",
    "complete_sales_ps.show(5)\n",
    "print(complete_sales_ps.limit(5).toPandas().to_markdown())"
   ]
  },
  {
   "cell_type": "markdown",
   "id": "db2050d5",
   "metadata": {},
   "source": [
    "<div class=\"result\" markdown>\n",
    "\n",
    "```txt\n",
    "\n",
    "```\n",
    "\n",
    "```txt\n",
    "\n",
    "```\n"
   ]
  },
  {
   "cell_type": "markdown",
   "id": "78e03c26",
   "metadata": {},
   "source": [
    "</div>\n",
    "\n",
    "### Polars"
   ]
  },
  {
   "cell_type": "code",
   "execution_count": null,
   "id": "1118f19c",
   "metadata": {
    "incorrectly_encoded_metadata": "{.polars linenums=\"1\" title=\"Join with customer information to get a complete view\"}"
   },
   "outputs": [],
   "source": [
    "complete_sales: pl.DataFrame = sales_with_product.join(\n",
    "    df_customer_pl.select([\"customer_id\", \"customer_name\", \"city\", \"state\"]),\n",
    "    on=\"customer_id\",\n",
    "    how=\"left\",\n",
    ")\n",
    "print(f\"Complete Sales Data with Customer Information: {len(complete_sales)}\")\n",
    "print(complete_sales.head(5))\n",
    "print(complete_sales.head(5).to_pandas().to_markdown())"
   ]
  },
  {
   "cell_type": "markdown",
   "id": "ee6ef290",
   "metadata": {},
   "source": [
    "<div class=\"result\" markdown>\n",
    "\n",
    "```txt\n",
    "\n",
    "```\n",
    "\n",
    "```txt\n",
    "\n",
    "```\n"
   ]
  },
  {
   "cell_type": "markdown",
   "id": "18148fee",
   "metadata": {},
   "source": [
    "</div>\n",
    "\n",
    "Once we have the complete sales data, we can calculate the revenue for each sale by multiplying the price and quantity (columns from different tables). We can also compare this calculated revenue with the sales amount to identify any discrepancies.\n",
    "\n",
    "### Pandas"
   ]
  },
  {
   "cell_type": "code",
   "execution_count": null,
   "id": "72fc13b7",
   "metadata": {
    "incorrectly_encoded_metadata": "{.pandas linenums=\"1\" title=\"Calculate revenue and compare with sales amount\"}"
   },
   "outputs": [],
   "source": [
    "complete_sales_pd[\"calculated_revenue\"] = complete_sales_pd[\"price\"] * complete_sales_pd[\"quantity\"]\n",
    "complete_sales_pd[\"price_difference\"] = complete_sales_pd[\"sales_amount\"] - complete_sales_pd[\"calculated_revenue\"]\n",
    "print(f\"Complete Sales Data with Calculated Revenue and Price Difference: {len(complete_sales_pd)}\")\n",
    "print(complete_sales_pd[[\"sales_amount\", \"price\", \"quantity\", \"calculated_revenue\", \"price_difference\"]].head(5))"
   ]
  },
  {
   "cell_type": "markdown",
   "id": "6c46c478",
   "metadata": {},
   "source": [
    "<div class=\"result\" markdown>\n",
    "\n",
    "```txt\n",
    "\n",
    "```\n",
    "\n",
    "```txt\n",
    "\n",
    "```\n"
   ]
  },
  {
   "cell_type": "markdown",
   "id": "8fc0d846",
   "metadata": {},
   "source": [
    "</div>\n",
    "\n",
    "### SQL"
   ]
  },
  {
   "cell_type": "code",
   "execution_count": null,
   "id": "5340f476",
   "metadata": {
    "incorrectly_encoded_metadata": "{.sql linenums=\"1\" title=\"Calculate revenue and compare with sales amount\"}"
   },
   "outputs": [],
   "source": [
    "revenue_comparison_txt: str = \"\"\"\n",
    "    SELECT\n",
    "        s.sales_amount,\n",
    "        p.price,\n",
    "        s.quantity,\n",
    "        (p.price * s.quantity) AS calculated_revenue,\n",
    "        (s.sales_amount - (p.price * s.quantity)) AS price_difference\n",
    "    FROM sales s\n",
    "    LEFT JOIN product p ON s.product_id = p.product_id\n",
    "\"\"\"\n",
    "print(f\"Revenue Comparison: {len(pd.read_sql(revenue_comparison_txt, conn))}\")\n",
    "print(pd.read_sql(revenue_comparison_txt + \"LIMIT 5\", conn))\n",
    "print(pd.read_sql(revenue_comparison_txt + \"LIMIT 5\", conn).to_markdown())"
   ]
  },
  {
   "cell_type": "markdown",
   "id": "f1a2dbe6",
   "metadata": {},
   "source": [
    "<div class=\"result\" markdown>\n",
    "\n",
    "```txt\n",
    "\n",
    "```\n",
    "\n",
    "```txt\n",
    "\n",
    "```\n"
   ]
  },
  {
   "cell_type": "markdown",
   "id": "776268be",
   "metadata": {},
   "source": [
    "</div>\n",
    "\n",
    "### PySpark"
   ]
  },
  {
   "cell_type": "code",
   "execution_count": null,
   "id": "2610f864",
   "metadata": {
    "incorrectly_encoded_metadata": "{.pyspark linenums=\"1\" title=\"Calculate revenue and compare with sales amount\"}"
   },
   "outputs": [],
   "source": [
    "complete_sales_ps: psDataFrame = complete_sales_ps.withColumns(\n",
    "    {\n",
    "        \"calculated_revenue\": complete_sales_ps[\"price\"] * complete_sales_ps[\"quantity\"],\n",
    "        \"price_difference\": F.expr(\"sales_amount - (price * quantity)\"),\n",
    "    },\n",
    ")\n",
    "print(f\"Complete Sales Data with Calculated Revenue and Price Difference: {complete_sales_ps.count()}\")\n",
    "complete_sales_ps.select(\"sales_amount\", \"price\", \"quantity\", \"calculated_revenue\", \"price_difference\").show(5)\n",
    "print(\n",
    "    complete_sales_ps.select(\"sales_amount\", \"price\", \"quantity\", \"calculated_revenue\", \"price_difference\")\n",
    "    .limit(5)\n",
    "    .toPandas()\n",
    "    .to_markdown()\n",
    ")"
   ]
  },
  {
   "cell_type": "markdown",
   "id": "31541769",
   "metadata": {},
   "source": [
    "<div class=\"result\" markdown>\n",
    "\n",
    "```txt\n",
    "\n",
    "```\n",
    "\n",
    "```txt\n",
    "\n",
    "```\n"
   ]
  },
  {
   "cell_type": "markdown",
   "id": "ffd4764f",
   "metadata": {},
   "source": [
    "</div>\n",
    "\n",
    "### Polars"
   ]
  },
  {
   "cell_type": "code",
   "execution_count": null,
   "id": "bf518e72",
   "metadata": {
    "incorrectly_encoded_metadata": "{.polars linenums=\"1\" title=\"Calculate revenue and compare with sales amount\"}"
   },
   "outputs": [],
   "source": [
    "complete_sales_pl: pl.DataFrame = complete_sales_pl.with_columns(\n",
    "    (pl.col(\"price\") * pl.col(\"quantity\")).alias(\"calculated_revenue\"),\n",
    "    (pl.col(\"sales_amount\") - (pl.col(\"price\") * pl.col(\"quantity\"))).alias(\"price_difference\"),\n",
    ")\n",
    "print(f\"Complete Sales Data with Calculated Revenue and Price Difference: {len(complete_sales_pl)}\")\n",
    "print(complete_sales_pl.select([\"sales_amount\", \"price\", \"quantity\", \"calculated_revenue\", \"price_difference\"]).head(5))"
   ]
  },
  {
   "cell_type": "markdown",
   "id": "a3c99a10",
   "metadata": {},
   "source": [
    "<div class=\"result\" markdown>\n",
    "\n",
    "```txt\n",
    "\n",
    "```\n",
    "\n",
    "```txt\n",
    "\n",
    "```\n"
   ]
  },
  {
   "cell_type": "markdown",
   "id": "6e1cbd04",
   "metadata": {},
   "source": [
    "</div>\n",
    "\n",
    "## 4. Window Functions\n",
    "\n",
    "Window functions are a powerful feature in Pandas that allow us to perform calculations across a set of rows related to the current row. This is particularly useful for time series data, where we may want to calculate rolling averages, cumulative sums, or other metrics based on previous or subsequent rows.\n",
    "\n",
    "To understand more about the nuances of the window functions, check out some of these guides:\n",
    "\n",
    "- [Analyzing data with window functions](https://docs.snowflake.com/en/user-guide/functions-window-using)\n",
    "- [SQL Window Functions Visualized](https://medium.com/learning-sql/sql-window-function-visualized-fff1927f00f2)\n",
    "\n",
    "In this section, we will demonstrate how to use window functions to analyze sales data over time. We will start by converting the `date` column to a datetime type, which is necessary for time-based calculations. We will then group the data by date and calculate the total sales for each day.\n",
    "\n",
    "### Pandas"
   ]
  },
  {
   "cell_type": "code",
   "execution_count": null,
   "id": "fa3ceedc",
   "metadata": {
    "incorrectly_encoded_metadata": "{.pandas linenums=\"1\" title=\"Time-based window function\"}"
   },
   "outputs": [],
   "source": [
    "df_sales_pd[\"date\"] = pd.to_datetime(df_sales_pd[\"date\"])  # Ensure correct date type\n",
    "daily_sales_pd: pd.DataFrame = (\n",
    "    df_sales_pd.groupby(df_sales_pd[\"date\"].dt.date)[\"sales_amount\"].sum().reset_index().sort_values(\"date\")\n",
    ")\n",
    "print(f\"Daily Sales Summary: {len(daily_sales_pd)}\")\n",
    "print(daily_sales_pd.head(5))\n",
    "print(daily_sales_pd.head(5).to_markdown())"
   ]
  },
  {
   "cell_type": "markdown",
   "id": "263b9fcd",
   "metadata": {},
   "source": [
    "<div class=\"result\" markdown>\n",
    "\n",
    "```txt\n",
    "\n",
    "```\n",
    "\n",
    "```txt\n",
    "\n",
    "```\n"
   ]
  },
  {
   "cell_type": "markdown",
   "id": "681e4f0e",
   "metadata": {},
   "source": [
    "</div>\n",
    "\n",
    "### SQL"
   ]
  },
  {
   "cell_type": "code",
   "execution_count": null,
   "id": "285e404a",
   "metadata": {
    "incorrectly_encoded_metadata": "{.sql linenums=\"1\" title=\"Time-based window function\"}"
   },
   "outputs": [],
   "source": [
    "daily_sales_txt: str = \"\"\"\n",
    "    SELECT\n",
    "        date,\n",
    "        SUM(sales_amount) AS total_sales\n",
    "    FROM sales\n",
    "    GROUP BY date\n",
    "    ORDER BY date\n",
    "\"\"\"\n",
    "print(f\"Daily Sales Data: {len(pd.read_sql(daily_sales_txt, conn))}\")\n",
    "print(pd.read_sql(daily_sales_txt + \"LIMIT 5\", conn))\n",
    "print(pd.read_sql(daily_sales_txt + \"LIMIT 5\", conn).to_markdown())"
   ]
  },
  {
   "cell_type": "markdown",
   "id": "6d4ac931",
   "metadata": {},
   "source": [
    "<div class=\"result\" markdown>\n",
    "\n",
    "```txt\n",
    "\n",
    "```\n",
    "\n",
    "```txt\n",
    "\n",
    "```\n"
   ]
  },
  {
   "cell_type": "markdown",
   "id": "321203e9",
   "metadata": {},
   "source": [
    "</div>\n",
    "\n",
    "### PySpark"
   ]
  },
  {
   "cell_type": "code",
   "execution_count": null,
   "id": "02cc8c31",
   "metadata": {
    "incorrectly_encoded_metadata": "{.pyspark linenums=\"1\" title=\"Time-based window function\"}"
   },
   "outputs": [],
   "source": [
    "df_sales_ps: psDataFrame = df_sales_ps.withColumn(\"date\", F.to_date(df_sales_ps[\"date\"]))\n",
    "daily_sales: psDataFrame = (\n",
    "    df_sales_ps.groupBy(\"date\")\n",
    "    .agg(\n",
    "        F.sum(\"sales_amount\").alias(\"total_sales\"),\n",
    "    )\n",
    "    .orderBy(\"date\")\n",
    ")\n",
    "print(f\"Daily Sales Summary: {daily_sales.count()}\")\n",
    "daily_sales.show(5)\n",
    "print(daily_sales.limit(5).toPandas().to_markdown())"
   ]
  },
  {
   "cell_type": "markdown",
   "id": "c6d42fa2",
   "metadata": {},
   "source": [
    "<div class=\"result\" markdown>\n",
    "\n",
    "```txt\n",
    "\n",
    "```\n",
    "\n",
    "```txt\n",
    "\n",
    "```\n"
   ]
  },
  {
   "cell_type": "markdown",
   "id": "af2fd78c",
   "metadata": {},
   "source": [
    "</div>\n",
    "\n",
    "### Polars"
   ]
  },
  {
   "cell_type": "code",
   "execution_count": null,
   "id": "a544ac78",
   "metadata": {
    "incorrectly_encoded_metadata": "{.polars linenums=\"1\" title=\"Time-based window function\"}"
   },
   "outputs": [],
   "source": [
    "df_sales_pl: pl.DataFrame = df_sales_pl.with_columns(pl.col(\"date\").cast(pl.Date))"
   ]
  },
  {
   "cell_type": "markdown",
   "id": "9cc35b45",
   "metadata": {},
   "source": [
    "<div class=\"result\" markdown>\n",
    "\n",
    "```txt\n",
    "\n",
    "```\n",
    "\n",
    "```txt\n",
    "\n",
    "```\n"
   ]
  },
  {
   "cell_type": "markdown",
   "id": "80b20a31",
   "metadata": {},
   "source": [
    "</div>"
   ]
  },
  {
   "cell_type": "code",
   "execution_count": null,
   "id": "af66e654",
   "metadata": {
    "incorrectly_encoded_metadata": "{.polars linenums=\"1\" title=\"TITLE\"}"
   },
   "outputs": [],
   "source": [
    "daily_sales_pl: pl.DataFrame = (\n",
    "    df_sales_pl.group_by(\"date\")\n",
    "    .agg(\n",
    "        pl.col(\"sales_amount\").sum().alias(\"total_sales\"),\n",
    "    )\n",
    "    .sort(\"date\")\n",
    ")\n",
    "print(f\"Daily Sales Summary: {len(daily_sales_pl)}\")\n",
    "print(daily_sales_pl.head(5))\n",
    "print(daily_sales_pl.head(5).to_pandas().to_markdown())"
   ]
  },
  {
   "cell_type": "markdown",
   "id": "1acdf2ad",
   "metadata": {},
   "source": [
    "<div class=\"result\" markdown>\n",
    "\n",
    "```txt\n",
    "\n",
    "```\n",
    "\n",
    "```txt\n",
    "\n",
    "```\n"
   ]
  },
  {
   "cell_type": "markdown",
   "id": "2eb1814c",
   "metadata": {},
   "source": [
    "</div>\n",
    "\n",
    "Next, we will calculate the rolling average of sales over a 7-day window.\n",
    "\n",
    "### Pandas\n",
    "\n",
    "This is done using the [`.rolling()`](https://pandas.pydata.org/docs/reference/api/pandas.DataFrame.rolling.html) method, which allows us to specify the window size and the minimum number of periods required for the calculation."
   ]
  },
  {
   "cell_type": "code",
   "execution_count": null,
   "id": "39e54cbf",
   "metadata": {
    "incorrectly_encoded_metadata": "{.pandas linenums=\"1\" title=\"TITLE\"}"
   },
   "outputs": [],
   "source": [
    "# Calculate rolling averages (7-day moving average)\n",
    "daily_sales_pd[\"7d_moving_avg\"] = daily_sales_pd[\"sales_amount\"].rolling(window=7, min_periods=1).mean()\n",
    "print(f\"Daily Sales with 7-Day Moving Average: {len(daily_sales_pd)}\")\n",
    "print(daily_sales_pd.head(5))\n",
    "print(daily_sales_pd.head(5).to_markdown())"
   ]
  },
  {
   "cell_type": "markdown",
   "id": "da665d76",
   "metadata": {},
   "source": [
    "<div class=\"result\" markdown>\n",
    "\n",
    "```txt\n",
    "\n",
    "```\n",
    "\n",
    "```txt\n",
    "\n",
    "```\n"
   ]
  },
  {
   "cell_type": "markdown",
   "id": "c79e8165",
   "metadata": {},
   "source": [
    "</div>\n",
    "\n",
    "### SQL"
   ]
  },
  {
   "cell_type": "code",
   "execution_count": null,
   "id": "d71e784b",
   "metadata": {
    "incorrectly_encoded_metadata": "{.sql linenums=\"1\" title=\"TITLE\"}"
   },
   "outputs": [],
   "source": [
    "# Window functions for lead and lag\n",
    "window_txt: str = \"\"\"\n",
    "    SELECT\n",
    "        date AS sale_date,\n",
    "        SUM(sales_amount) AS sales_amount,\n",
    "        AVG(sales_amount) OVER (ORDER BY date ROWS BETWEEN 6 PRECEDING AND CURRENT ROW) AS rolling_7d_avg,\n",
    "        LAG(SUM(sales_amount)) OVER (ORDER BY date) AS previous_day_sales,\n",
    "        LEAD(SUM(sales_amount)) OVER (ORDER BY date) AS next_day_sales,\n",
    "        SUM(sales_amount) - LAG(SUM(sales_amount)) OVER (ORDER BY date) AS day_over_day_change\n",
    "    FROM sales\n",
    "    GROUP BY date\n",
    "    ORDER BY date\n",
    "\"\"\"\n",
    "window_df_sql: pd.DataFrame = pd.read_sql(window_txt, conn)\n",
    "print(f\"Window Functions: {len(window_df_sql)}\")\n",
    "print(pd.read_sql(window_txt + \"LIMIT 5\", conn))\n",
    "print(pd.read_sql(window_txt + \"LIMIT 5\", conn).to_markdown())"
   ]
  },
  {
   "cell_type": "markdown",
   "id": "a13db2fa",
   "metadata": {},
   "source": [
    "<div class=\"result\" markdown>\n",
    "\n",
    "```txt\n",
    "\n",
    "```\n",
    "\n",
    "```txt\n",
    "\n",
    "```\n"
   ]
  },
  {
   "cell_type": "markdown",
   "id": "57057b52",
   "metadata": {},
   "source": [
    "</div>\n",
    "\n",
    "### PySpark"
   ]
  },
  {
   "cell_type": "code",
   "execution_count": null,
   "id": "14f742cc",
   "metadata": {
    "incorrectly_encoded_metadata": "{.pyspark linenums=\"1\" title=\"TITLE\"}"
   },
   "outputs": [],
   "source": [
    "# Calculate day-over-day change\n",
    "daily_sales_ps: psDataFrame = daily_sales_ps.withColumns(\n",
    "    {\n",
    "        \"day_over_day_change\": F.expr(\"total_sales - previous_day_sales\"),\n",
    "        \"pct_change\": (F.expr(\"total_sales / previous_day_sales - 1\") * 100).alias(\"pct_change\"),\n",
    "    }\n",
    ")\n",
    "print(f\"Daily Sales with Day-over-Day Change: {daily_sales_ps.count()}\")\n",
    "daily_sales_ps.show(5)\n",
    "print(daily_sales_ps.limit(5).toPandas().to_markdown())"
   ]
  },
  {
   "cell_type": "markdown",
   "id": "7af8a375",
   "metadata": {},
   "source": [
    "<div class=\"result\" markdown>\n",
    "\n",
    "```txt\n",
    "\n",
    "```\n",
    "\n",
    "```txt\n",
    "\n",
    "```\n"
   ]
  },
  {
   "cell_type": "markdown",
   "id": "86669372",
   "metadata": {},
   "source": [
    "</div>\n",
    "\n",
    "### Polars"
   ]
  },
  {
   "cell_type": "code",
   "execution_count": null,
   "id": "46e29c9f",
   "metadata": {
    "incorrectly_encoded_metadata": "{.polars linenums=\"1\" title=\"TITLE\"}"
   },
   "outputs": [],
   "source": [
    "# Calculate day-over-day change\n",
    "daily_sales_pl: pl.DataFrame = daily_sales_pl.with_columns(\n",
    "    (pl.col(\"total_sales\") - pl.col(\"previous_day_sales\")).alias(\"day_over_day_change\"),\n",
    "    (pl.col(\"total_sales\") / pl.col(\"previous_day_sales\") - 1).alias(\"pct_change\") * 100,\n",
    ")\n",
    "print(f\"Daily Sales with Day-over-Day Change: {len(daily_sales_pl)}\")\n",
    "print(daily_sales_pl.head(5))\n",
    "print(daily_sales_pl.head(5).to_pandas().to_markdown())"
   ]
  },
  {
   "cell_type": "markdown",
   "id": "9bdf1f32",
   "metadata": {},
   "source": [
    "<div class=\"result\" markdown>\n",
    "\n",
    "```txt\n",
    "\n",
    "```\n",
    "\n",
    "```txt\n",
    "\n",
    "```\n"
   ]
  },
  {
   "cell_type": "markdown",
   "id": "fd4f8458",
   "metadata": {},
   "source": [
    "</div>\n",
    "\n",
    "Next, we will calculate the lag and lead values for the sales amount. This allows us to compare the current day's sales with the previous and next days' sales.\n",
    "\n",
    "### Pandas\n",
    "\n",
    "This is done using the [`.shift()`](https://pandas.pydata.org/docs/reference/api/pandas.DataFrame.shift.html) method, which shifts the values in a column by a specified number of periods. Note that the [`.shift()`](https://pandas.pydata.org/docs/reference/api/pandas.DataFrame.shift.html) method simply shifts the values in the column, so we can use it to create lag and lead columns. This function itself does not need to be ordered because it assumes that the DataFrame is already ordered; if you want it to be ordered, you can use the [`.sort_values()`](https://pandas.pydata.org/docs/reference/api/pandas.DataFrame.sort_values.html) method before applying [`.shift()`](https://pandas.pydata.org/docs/reference/api/pandas.DataFrame.shift.html)."
   ]
  },
  {
   "cell_type": "code",
   "execution_count": null,
   "id": "f54f9d5b",
   "metadata": {
    "incorrectly_encoded_metadata": "{.pandas linenums=\"1\" title=\"TITLE\"}"
   },
   "outputs": [],
   "source": [
    "# Calculate lag and lead\n",
    "daily_sales_pd[\"previous_day_sales\"] = daily_sales_pd[\"sales_amount\"].shift(1)\n",
    "daily_sales_pd[\"next_day_sales\"] = daily_sales_pd[\"sales_amount\"].shift(-1)\n",
    "print(f\"Daily Sales with Lag and Lead: {len(daily_sales_pd)}\")\n",
    "print(daily_sales_pd.head(5))\n",
    "print(daily_sales_pd.head(5).to_markdown())"
   ]
  },
  {
   "cell_type": "markdown",
   "id": "2da13127",
   "metadata": {},
   "source": [
    "<div class=\"result\" markdown>\n",
    "\n",
    "```txt\n",
    "\n",
    "```\n",
    "\n",
    "```txt\n",
    "\n",
    "```\n"
   ]
  },
  {
   "cell_type": "markdown",
   "id": "e6fed0b8",
   "metadata": {},
   "source": [
    "</div>\n",
    "\n",
    "### SQL"
   ]
  },
  {
   "cell_type": "code",
   "execution_count": null,
   "id": "eafdf727",
   "metadata": {
    "incorrectly_encoded_metadata": "{.sql linenums=\"1\" title=\"TITLE\"}"
   },
   "outputs": [],
   "source": []
  },
  {
   "cell_type": "markdown",
   "id": "0daee4f1",
   "metadata": {},
   "source": [
    "<div class=\"result\" markdown>\n",
    "\n",
    "```txt\n",
    "\n",
    "```\n",
    "\n",
    "```txt\n",
    "\n",
    "```\n"
   ]
  },
  {
   "cell_type": "markdown",
   "id": "954f9ce4",
   "metadata": {},
   "source": [
    "</div>\n",
    "\n",
    "### PySpark"
   ]
  },
  {
   "cell_type": "code",
   "execution_count": null,
   "id": "cf8d97e1",
   "metadata": {
    "incorrectly_encoded_metadata": "{.pyspark linenums=\"1\" title=\"TITLE\"}"
   },
   "outputs": [],
   "source": [
    "# Define a window specification for lead/lag functions\n",
    "window_spec_ps: psDataFrame = Window.orderBy(\"date\")\n",
    "\n",
    "# Calculate lead and lag\n",
    "daily_sales_ps: psDataFrame = daily_sales_ps.withColumns(\n",
    "    {\n",
    "        \"previous_day_sales\": F.lag(\"total_sales\").over(window_spec_ps),\n",
    "        \"next_day_sales\": F.expr(\"LEAD(total_sales) OVER (ORDER BY date)\"),\n",
    "    },\n",
    ")\n",
    "print(f\"Daily Sales with Lead and Lag: {daily_sales_ps.count()}\")\n",
    "daily_sales_ps.show(5)\n",
    "print(daily_sales_ps.limit(5).toPandas().to_markdown())"
   ]
  },
  {
   "cell_type": "markdown",
   "id": "9439f5c8",
   "metadata": {},
   "source": [
    "<div class=\"result\" markdown>\n",
    "\n",
    "```txt\n",
    "\n",
    "```\n",
    "\n",
    "```txt\n",
    "\n",
    "```\n"
   ]
  },
  {
   "cell_type": "markdown",
   "id": "08fe2f7f",
   "metadata": {},
   "source": [
    "</div>\n",
    "\n",
    "### Polars"
   ]
  },
  {
   "cell_type": "code",
   "execution_count": null,
   "id": "0e87ff0a",
   "metadata": {
    "incorrectly_encoded_metadata": "{.polars linenums=\"1\" title=\"TITLE\"}"
   },
   "outputs": [],
   "source": [
    "# Calculate lead and lag\n",
    "daily_sales_pl: pl.DataFrame = daily_sales_pl.with_columns(\n",
    "    pl.col(\"total_sales\").shift(1).alias(\"previous_day_sales\"),\n",
    "    pl.col(\"total_sales\").shift(-1).alias(\"next_day_sales\"),\n",
    ")\n",
    "print(f\"Daily Sales with Lead and Lag: {len(daily_sales_pl)}\")\n",
    "print(daily_sales_pl.head(5))\n",
    "print(daily_sales_pl.head(5).to_pandas().to_markdown())"
   ]
  },
  {
   "cell_type": "markdown",
   "id": "9da59b3c",
   "metadata": {},
   "source": [
    "<div class=\"result\" markdown>\n",
    "\n",
    "```txt\n",
    "\n",
    "```\n",
    "\n",
    "```txt\n",
    "\n",
    "```\n"
   ]
  },
  {
   "cell_type": "markdown",
   "id": "d7e4002f",
   "metadata": {},
   "source": [
    "</div>\n",
    "\n",
    "Now, we can calculate the day-over-day change in sales. This is done by subtracting the previous day's sales from the current day's sales.\n",
    "\n",
    "### Pandas\n",
    "\n",
    "We can also calculate the percentage change in sales using the [`.pct_change()`](https://pandas.pydata.org/docs/reference/api/pandas.DataFrame.pct_change.html) method, which calculates the percentage change between the current and previous values."
   ]
  },
  {
   "cell_type": "code",
   "execution_count": null,
   "id": "c9a24260",
   "metadata": {
    "incorrectly_encoded_metadata": "{.pandas linenums=\"1\" title=\"TITLE\"}"
   },
   "outputs": [],
   "source": [
    "# Calculate day-over-day change\n",
    "daily_sales_pd[\"day_over_day_change\"] = (\n",
    "    daily_sales_pd[\"sales_amount\"].pct_change() - daily_sales_pd[\"previous_day_sales\"]\n",
    ")\n",
    "daily_sales_pd[\"pct_change\"] = daily_sales_pd[\"sales_amount\"].pct_change() * 100\n",
    "print(f\"Daily Sales with Day-over-Day Change: {len(daily_sales_pd)}\")\n",
    "print(daily_sales_pd.head(5))\n",
    "print(daily_sales_pd.head(5).to_markdown())"
   ]
  },
  {
   "cell_type": "markdown",
   "id": "827b7dd6",
   "metadata": {},
   "source": [
    "<div class=\"result\" markdown>\n",
    "\n",
    "```txt\n",
    "\n",
    "```\n",
    "\n",
    "```txt\n",
    "\n",
    "```\n"
   ]
  },
  {
   "cell_type": "markdown",
   "id": "b69aee2c",
   "metadata": {},
   "source": [
    "</div>\n",
    "\n",
    "### SQL"
   ]
  },
  {
   "cell_type": "code",
   "execution_count": null,
   "id": "29e67a36",
   "metadata": {
    "incorrectly_encoded_metadata": "{.sql linenums=\"1\" title=\"TITLE\"}"
   },
   "outputs": [],
   "source": []
  },
  {
   "cell_type": "markdown",
   "id": "deb98471",
   "metadata": {},
   "source": [
    "<div class=\"result\" markdown>\n",
    "\n",
    "```txt\n",
    "\n",
    "```\n",
    "\n",
    "```txt\n",
    "\n",
    "```\n"
   ]
  },
  {
   "cell_type": "markdown",
   "id": "8944929b",
   "metadata": {},
   "source": [
    "</div>\n",
    "\n",
    "### PySpark"
   ]
  },
  {
   "cell_type": "code",
   "execution_count": null,
   "id": "a144a7b9",
   "metadata": {
    "incorrectly_encoded_metadata": "{.pyspark linenums=\"1\" title=\"TITLE\"}"
   },
   "outputs": [],
   "source": [
    "# Calculate 7-day moving average\n",
    "daily_sales_ps: psDataFrame = daily_sales_ps.withColumns(\n",
    "    {\n",
    "        \"7d_moving_avg\": F.avg(\"total_sales\").over(Window.orderBy(\"date\").rowsBetween(-6, 0)),\n",
    "        \"7d_rolling_avg\": F.expr(\"AVG(total_sales) OVER (ORDER BY date ROWS BETWEEN 6 PRECEDING AND CURRENT ROW)\"),\n",
    "    }\n",
    ")\n",
    "print(f\"Daily Sales with 7-Day Moving Average: {daily_sales_ps.count()}\")\n",
    "daily_sales_ps.show(5)\n",
    "print(daily_sales_ps.limit(5).toPandas().to_markdown())"
   ]
  },
  {
   "cell_type": "markdown",
   "id": "21da4cb3",
   "metadata": {},
   "source": [
    "<div class=\"result\" markdown>\n",
    "\n",
    "```txt\n",
    "\n",
    "```\n",
    "\n",
    "```txt\n",
    "\n",
    "```\n"
   ]
  },
  {
   "cell_type": "markdown",
   "id": "83e39673",
   "metadata": {},
   "source": [
    "</div>\n",
    "\n",
    "### Polars"
   ]
  },
  {
   "cell_type": "code",
   "execution_count": null,
   "id": "c2f7de93",
   "metadata": {
    "incorrectly_encoded_metadata": "{.polars linenums=\"1\" title=\"TITLE\"}"
   },
   "outputs": [],
   "source": [
    "# Calculate 7-day moving average\n",
    "daily_sales_pl: pl.DataFrame = daily_sales_pl.with_columns(\n",
    "    pl.col(\"total_sales\").rolling_mean(window_size=7, min_periods=1).alias(\"7d_moving_avg\"),\n",
    ")\n",
    "print(f\"Daily Sales with 7-Day Moving Average: {len(daily_sales_pl)}\")\n",
    "print(daily_sales_pl.head(5))\n",
    "print(daily_sales_pl.head(5).to_pandas().to_markdown())"
   ]
  },
  {
   "cell_type": "markdown",
   "id": "d67539d3",
   "metadata": {},
   "source": [
    "<div class=\"result\" markdown>\n",
    "\n",
    "```txt\n",
    "\n",
    "```\n",
    "\n",
    "```txt\n",
    "\n",
    "```\n"
   ]
  },
  {
   "cell_type": "markdown",
   "id": "7c77703c",
   "metadata": {},
   "source": [
    "</div>\n",
    "\n",
    "Finally, we can visualize the daily sales data along with the 7-day moving average using Plotly. This allows us to see the trends in sales over time and how the moving average smooths out the fluctuations in daily sales.\n",
    "\n",
    "### Pandas"
   ]
  },
  {
   "cell_type": "code",
   "execution_count": null,
   "id": "528e6987",
   "metadata": {
    "incorrectly_encoded_metadata": "{.pandas linenums=\"1\" title=\"Plot results\"}"
   },
   "outputs": [],
   "source": [
    "fig: go.Figure = (\n",
    "    go.Figure()\n",
    "    .add_trace(\n",
    "        go.Scatter(\n",
    "            x=daily_sales_pd[\"date\"],\n",
    "            y=daily_sales_pd[\"sales_amount\"],\n",
    "            mode=\"lines\",\n",
    "            name=\"Daily Sales\",\n",
    "        )\n",
    "    )\n",
    "    .add_trace(\n",
    "        go.Scatter(\n",
    "            x=daily_sales_pd[\"date\"],\n",
    "            y=daily_sales_pd[\"7d_moving_avg\"],\n",
    "            mode=\"lines\",\n",
    "            name=\"7-Day Moving Average\",\n",
    "            line=dict(width=3),\n",
    "        ),\n",
    "    )\n",
    "    .update_layout(\n",
    "        title=\"Daily Sales with 7-Day Moving Average\",\n",
    "        xaxis_title=\"Date\",\n",
    "        yaxis_title=\"Sales Amount ($)\",\n",
    "    )\n",
    ")\n",
    "fig.write_html(\"images/pt4_daily_sales_with_7d_avg_pd.html\", include_plotlyjs=\"cdn\", full_html=True)\n",
    "fig.show()"
   ]
  },
  {
   "cell_type": "markdown",
   "id": "0131ae17",
   "metadata": {},
   "source": [
    "<div class=\"result\" markdown>\n",
    "\n",
    "```txt\n",
    "\n",
    "```\n",
    "\n",
    "```txt\n",
    "\n",
    "```\n"
   ]
  },
  {
   "cell_type": "markdown",
   "id": "39b48b52",
   "metadata": {},
   "source": [
    "</div>\n",
    "\n",
    "### SQL"
   ]
  },
  {
   "cell_type": "code",
   "execution_count": null,
   "id": "c7856797",
   "metadata": {
    "incorrectly_encoded_metadata": "{.sql linenums=\"1\" title=\"Plot results\"}"
   },
   "outputs": [],
   "source": [
    "fig: go.Figure = (\n",
    "    go.Figure()\n",
    "    .add_trace(\n",
    "        go.Scatter(\n",
    "            x=window_df_sql[\"sale_date\"],\n",
    "            y=window_df_sql[\"sales_amount\"],\n",
    "            mode=\"lines\",\n",
    "            name=\"Daily Sales\",\n",
    "        )\n",
    "    )\n",
    "    .add_trace(\n",
    "        go.Scatter(\n",
    "            x=window_df_sql[\"sale_date\"],\n",
    "            y=window_df_sql[\"rolling_7d_avg\"],\n",
    "            mode=\"lines\",\n",
    "            name=\"7-Day Moving Average\",\n",
    "            line=dict(width=3),\n",
    "        )\n",
    "    )\n",
    "    .update_layout(\n",
    "        title=\"Daily Sales with 7-Day Moving Average\",\n",
    "        xaxis_title=\"Date\",\n",
    "        yaxis_title=\"Sales Amount ($)\",\n",
    "    )\n",
    ")\n",
    "fig.write_html(\"images/pt4_daily_sales_with_7d_avg_sql.html\", include_plotlyjs=\"cdn\", full_html=True)\n",
    "fig.show()"
   ]
  },
  {
   "cell_type": "markdown",
   "id": "efdff453",
   "metadata": {},
   "source": [
    "<div class=\"result\" markdown>\n",
    "\n",
    "```txt\n",
    "\n",
    "```\n",
    "\n",
    "```txt\n",
    "\n",
    "```\n"
   ]
  },
  {
   "cell_type": "markdown",
   "id": "d9ede400",
   "metadata": {},
   "source": [
    "</div>\n",
    "\n",
    "### PySpark"
   ]
  },
  {
   "cell_type": "code",
   "execution_count": null,
   "id": "f762a9ef",
   "metadata": {
    "incorrectly_encoded_metadata": "{.pyspark linenums=\"1\" title=\"Plot results\"}"
   },
   "outputs": [],
   "source": [
    "fig: go.Figure = (\n",
    "    go.Figure()\n",
    "    .add_trace(\n",
    "        go.Scatter(\n",
    "            x=daily_sales_ps.toPandas()[\"date\"],\n",
    "            y=daily_sales_ps.toPandas()[\"total_sales\"],\n",
    "            mode=\"lines\",\n",
    "            name=\"Daily Sales\",\n",
    "        )\n",
    "    )\n",
    "    .add_trace(\n",
    "        go.Scatter(\n",
    "            x=daily_sales_ps.toPandas()[\"date\"],\n",
    "            y=daily_sales_ps.toPandas()[\"7d_moving_avg\"],\n",
    "            mode=\"lines\",\n",
    "            name=\"7-Day Moving Average\",\n",
    "            line=dict(width=3),\n",
    "        ),\n",
    "    )\n",
    "    .update_layout(\n",
    "        title=\"Daily Sales with 7-Day Moving Average\",\n",
    "        xaxis_title=\"Date\",\n",
    "        yaxis_title=\"Sales Amount ($)\",\n",
    "    )\n",
    ")\n",
    "fig.write_html(\"images/pt4_daily_sales_with_7d_avg_ps.html\", include_plotlyjs=\"cdn\", full_html=True)\n",
    "fig.show()"
   ]
  },
  {
   "cell_type": "markdown",
   "id": "1693f2a6",
   "metadata": {},
   "source": [
    "<div class=\"result\" markdown>\n",
    "\n",
    "```txt\n",
    "\n",
    "```\n",
    "\n",
    "```txt\n",
    "\n",
    "```\n"
   ]
  },
  {
   "cell_type": "markdown",
   "id": "52bcfa6d",
   "metadata": {},
   "source": [
    "</div>\n",
    "\n",
    "### Polars"
   ]
  },
  {
   "cell_type": "code",
   "execution_count": null,
   "id": "1de356d3",
   "metadata": {
    "incorrectly_encoded_metadata": "{.polars linenums=\"1\" title=\"Plot results\"}"
   },
   "outputs": [],
   "source": [
    "fig: go.Figure = (\n",
    "    go.Figure()\n",
    "    .add_trace(\n",
    "        go.Scatter(\n",
    "            x=daily_sales_pl[\"date\"].to_list(),\n",
    "            y=daily_sales_pl[\"total_sales\"].to_list(),\n",
    "            mode=\"lines\",\n",
    "            name=\"Daily Sales\",\n",
    "        )\n",
    "    )\n",
    "    .add_trace(\n",
    "        go.Scatter(\n",
    "            x=daily_sales_pl[\"date\"].to_list(),\n",
    "            y=daily_sales_pl[\"7d_moving_avg\"].to_list(),\n",
    "            mode=\"lines\",\n",
    "            name=\"7-Day Moving Average\",\n",
    "            line=dict(width=3),\n",
    "        )\n",
    "    )\n",
    "    .update_layout(\n",
    "        title=\"Daily Sales with 7-Day Moving Average\",\n",
    "        xaxis_title=\"Date\",\n",
    "        yaxis_title=\"Sales Amount ($)\",\n",
    "    )\n",
    ")\n",
    "fig.write_html(\"images/pt4_daily_sales_with_7d_avg_pl.html\", include_plotlyjs=\"cdn\", full_html=True)\n",
    "fig.show()"
   ]
  },
  {
   "cell_type": "markdown",
   "id": "994d9876",
   "metadata": {},
   "source": [
    "<div class=\"result\" markdown>\n",
    "\n",
    "```txt\n",
    "\n",
    "```\n",
    "\n",
    "```txt\n",
    "\n",
    "```\n"
   ]
  },
  {
   "cell_type": "markdown",
   "id": "65b26ebf",
   "metadata": {},
   "source": [
    "</div>\n",
    "\n",
    "## 5. Ranking and Partitioning\n",
    "\n",
    "The fifth section will demonstrate how to rank and partition data in Pandas. This is useful for identifying top performers, such as the highest spending customers or the most popular products.\n",
    "\n",
    "### Pandas\n",
    "\n",
    "In Pandas, we can use the [`.rank()`](https://pandas.pydata.org/docs/reference/api/pandas.DataFrame.rank.html) method to rank values in a DataFrame. This method allows us to specify the ranking method (e.g., dense, average, min, max) and whether to rank in ascending or descending order."
   ]
  },
  {
   "cell_type": "code",
   "execution_count": null,
   "id": "3cc7f394",
   "metadata": {
    "incorrectly_encoded_metadata": "{.pandas linenums=\"1\" title=\"Rank customers by total spending\"}"
   },
   "outputs": [],
   "source": [
    "customer_spending_pd: pd.DataFrame = df_sales_pd.groupby(\"customer_id\")[\"sales_amount\"].sum().reset_index()\n",
    "customer_spending_pd[\"rank\"] = customer_spending_pd[\"sales_amount\"].rank(method=\"dense\", ascending=False)\n",
    "customer_spending_pd: pd.DataFrame = customer_spending_pd.sort_values(\"rank\")\n",
    "print(f\"Customer Spending Summary: {len(customer_spending_pd)}\")\n",
    "print(customer_spending_pd.head(5))\n",
    "print(customer_spending_pd.head(5).to_markdown())"
   ]
  },
  {
   "cell_type": "markdown",
   "id": "2be44039",
   "metadata": {},
   "source": [
    "<div class=\"result\" markdown>\n",
    "\n",
    "```txt\n",
    "\n",
    "```\n",
    "\n",
    "```txt\n",
    "\n",
    "```\n"
   ]
  },
  {
   "cell_type": "markdown",
   "id": "ec7f8875",
   "metadata": {},
   "source": [
    "</div>\n",
    "\n",
    "### SQL"
   ]
  },
  {
   "cell_type": "code",
   "execution_count": null,
   "id": "a0749c78",
   "metadata": {
    "incorrectly_encoded_metadata": "{.sql linenums=\"1\" title=\"Rank customers by total spending\"}"
   },
   "outputs": [],
   "source": []
  },
  {
   "cell_type": "markdown",
   "id": "a16fb08d",
   "metadata": {},
   "source": [
    "<div class=\"result\" markdown>\n",
    "\n",
    "```txt\n",
    "\n",
    "```\n",
    "\n",
    "```txt\n",
    "\n",
    "```\n"
   ]
  },
  {
   "cell_type": "markdown",
   "id": "a3e38d6e",
   "metadata": {},
   "source": [
    "</div>\n",
    "\n",
    "### PySpark"
   ]
  },
  {
   "cell_type": "code",
   "execution_count": null,
   "id": "b40504ce",
   "metadata": {
    "incorrectly_encoded_metadata": "{.pyspark linenums=\"1\" title=\"Rank customers by total spending\"}"
   },
   "outputs": [],
   "source": [
    "customer_spending_ps: psDataFrame = (\n",
    "    df_sales_ps.groupBy(\"customer_id\")\n",
    "    .agg(F.sum(\"sales_amount\").alias(\"total_spending\"))\n",
    "    .withColumn(\"rank\", F.dense_rank().over(Window.orderBy(F.desc(\"total_spending\"))))\n",
    "    .orderBy(\"rank\")\n",
    ")\n",
    "print(f\"Customer Spending Summary: {customer_spending_ps.count()}\")\n",
    "customer_spending_ps.show(5)\n",
    "print(customer_spending_ps.limit(5).toPandas().to_markdown())"
   ]
  },
  {
   "cell_type": "markdown",
   "id": "52869324",
   "metadata": {},
   "source": [
    "<div class=\"result\" markdown>\n",
    "\n",
    "```txt\n",
    "\n",
    "```\n",
    "\n",
    "```txt\n",
    "\n",
    "```\n"
   ]
  },
  {
   "cell_type": "markdown",
   "id": "3caf7161",
   "metadata": {},
   "source": [
    "</div>\n",
    "\n",
    "### Polars"
   ]
  },
  {
   "cell_type": "code",
   "execution_count": null,
   "id": "9779eab9",
   "metadata": {
    "incorrectly_encoded_metadata": "{.polars linenums=\"1\" title=\"Rank customers by total spending\"}"
   },
   "outputs": [],
   "source": [
    "customer_spending_pl: pl.DataFrame = (\n",
    "    df_sales_pl.group_by(\"customer_id\")\n",
    "    .agg(pl.col(\"sales_amount\").sum().alias(\"total_spending\"))\n",
    "    .with_columns(pl.col(\"total_spending\").rank(method=\"dense\", descending=True).alias(\"rank\"))\n",
    "    .sort(\"rank\")\n",
    ")\n",
    "print(f\"Customer Spending Summary: {len(customer_spending_pl)}\")\n",
    "print(customer_spending_pl.head(5))\n",
    "print(customer_spending_pl.head(5).to_pandas().to_markdown())"
   ]
  },
  {
   "cell_type": "markdown",
   "id": "ba031600",
   "metadata": {},
   "source": [
    "<div class=\"result\" markdown>\n",
    "\n",
    "```txt\n",
    "\n",
    "```\n",
    "\n",
    "```txt\n",
    "\n",
    "```\n"
   ]
  },
  {
   "cell_type": "markdown",
   "id": "20343448",
   "metadata": {},
   "source": [
    "</div>\n",
    "\n",
    "Once we have ranked the customers, we can merge this information with the `customer` DataFrame to get additional details about each customer, such as their name, segment, and city.\n",
    "\n",
    "### Pandas"
   ]
  },
  {
   "cell_type": "code",
   "execution_count": null,
   "id": "0f7c483f",
   "metadata": {
    "incorrectly_encoded_metadata": "{.pandas linenums=\"1\" title=\"TITLE\"}"
   },
   "outputs": [],
   "source": [
    "# Add customer details\n",
    "top_customers_pd: pd.DataFrame = pd.merge(\n",
    "    customer_spending,\n",
    "    df_customer_pd[[\"customer_id\", \"customer_name\", \"segment\", \"city\"]],\n",
    "    on=\"customer_id\",\n",
    "    how=\"left\",\n",
    ")\n",
    "print(f\"Top Customers Summary: {len(top_customers_pd)}\")\n",
    "print(top_customers_pd.head(5))\n",
    "print(top_customers_pd.head(5).to_markdown())"
   ]
  },
  {
   "cell_type": "markdown",
   "id": "7184b4d3",
   "metadata": {},
   "source": [
    "<div class=\"result\" markdown>\n",
    "\n",
    "```txt\n",
    "\n",
    "```\n",
    "\n",
    "```txt\n",
    "\n",
    "```\n"
   ]
  },
  {
   "cell_type": "markdown",
   "id": "3e552aa0",
   "metadata": {},
   "source": [
    "</div>\n",
    "\n",
    "### SQL"
   ]
  },
  {
   "cell_type": "code",
   "execution_count": null,
   "id": "6c259c03",
   "metadata": {
    "incorrectly_encoded_metadata": "{.sql linenums=\"1\" title=\"TITLE\"}"
   },
   "outputs": [],
   "source": [
    "# Rank customers by total spending\n",
    "customer_spending_txt: str = \"\"\"\n",
    "    SELECT\n",
    "        c.customer_id,\n",
    "        c.customer_name,\n",
    "        c.segment,\n",
    "        c.city,\n",
    "        SUM(s.sales_amount) AS total_spending,\n",
    "        RANK() OVER (ORDER BY SUM(s.sales_amount) DESC) AS rank\n",
    "    FROM sales s\n",
    "    JOIN customer c ON s.customer_id = c.customer_id\n",
    "    GROUP BY c.customer_id, c.customer_name, c.segment, c.city\n",
    "    ORDER BY rank\n",
    "\"\"\"\n",
    "print(f\"Customer Spending: {len(pd.read_sql(customer_spending_txt, conn))}\")\n",
    "print(pd.read_sql(customer_spending_txt + \"LIMIT 5\", conn))\n",
    "print(pd.read_sql(customer_spending_txt + \"LIMIT 5\", conn).to_markdown())"
   ]
  },
  {
   "cell_type": "markdown",
   "id": "bb7e0ded",
   "metadata": {},
   "source": [
    "<div class=\"result\" markdown>\n",
    "\n",
    "```txt\n",
    "\n",
    "```\n",
    "\n",
    "```txt\n",
    "\n",
    "```\n"
   ]
  },
  {
   "cell_type": "markdown",
   "id": "0f77dfd1",
   "metadata": {},
   "source": [
    "</div>\n",
    "\n",
    "### PySpark"
   ]
  },
  {
   "cell_type": "code",
   "execution_count": null,
   "id": "137a6419",
   "metadata": {
    "incorrectly_encoded_metadata": "{.pyspark linenums=\"1\" title=\"TITLE\"}"
   },
   "outputs": [],
   "source": []
  },
  {
   "cell_type": "markdown",
   "id": "2d4a48f8",
   "metadata": {},
   "source": [
    "<div class=\"result\" markdown>\n",
    "\n",
    "```txt\n",
    "\n",
    "```\n",
    "\n",
    "```txt\n",
    "\n",
    "```\n"
   ]
  },
  {
   "cell_type": "markdown",
   "id": "84f5c418",
   "metadata": {},
   "source": [
    "</div>\n",
    "\n",
    "### Polars"
   ]
  },
  {
   "cell_type": "code",
   "execution_count": null,
   "id": "99df362d",
   "metadata": {
    "incorrectly_encoded_metadata": "{.polars linenums=\"1\" title=\"TITLE\"}"
   },
   "outputs": [],
   "source": []
  },
  {
   "cell_type": "markdown",
   "id": "1803faef",
   "metadata": {},
   "source": [
    "<div class=\"result\" markdown>\n",
    "\n",
    "```txt\n",
    "\n",
    "```\n",
    "\n",
    "```txt\n",
    "\n",
    "```\n"
   ]
  },
  {
   "cell_type": "markdown",
   "id": "b3258ab3",
   "metadata": {},
   "source": [
    "</div>\n",
    "\n",
    "Next, we will rank products based on the quantity sold. This allows us to identify the most popular products in terms of sales volume.\n",
    "\n",
    "### Pandas"
   ]
  },
  {
   "cell_type": "code",
   "execution_count": null,
   "id": "12a2ba10",
   "metadata": {
    "incorrectly_encoded_metadata": "{.pandas linenums=\"1\" title=\"Rank products by quantity sold\"}"
   },
   "outputs": [],
   "source": [
    "product_popularity_pd: pd.DataFrame = df_sales_pd.groupby(\"product_id\")[\"quantity\"].sum().reset_index()\n",
    "product_popularity_pd[\"rank\"] = product_popularity_pd[\"quantity\"].rank(method=\"dense\", ascending=False)\n",
    "product_popularity_pd: pd.DataFrame = product_popularity_pd.sort_values(\"rank\")\n",
    "print(f\"Product Popularity Summary: {len(product_popularity_pd)}\")\n",
    "print(product_popularity_pd.head(5))\n",
    "print(product_popularity_pd.head(5).to_markdown())"
   ]
  },
  {
   "cell_type": "markdown",
   "id": "06caa33c",
   "metadata": {},
   "source": [
    "<div class=\"result\" markdown>\n",
    "\n",
    "```txt\n",
    "\n",
    "```\n",
    "\n",
    "```txt\n",
    "\n",
    "```\n"
   ]
  },
  {
   "cell_type": "markdown",
   "id": "3d6a888b",
   "metadata": {},
   "source": [
    "</div>\n",
    "\n",
    "### SQL"
   ]
  },
  {
   "cell_type": "code",
   "execution_count": null,
   "id": "ccd93cee",
   "metadata": {
    "incorrectly_encoded_metadata": "{.sql linenums=\"1\" title=\"Rank products by quantity sold\"}"
   },
   "outputs": [],
   "source": [
    "product_popularity_txt: str = \"\"\"\n",
    "    SELECT\n",
    "        p.product_id,\n",
    "        p.product_name,\n",
    "        p.category,\n",
    "        SUM(s.quantity) AS total_quantity,\n",
    "        RANK() OVER (ORDER BY SUM(s.quantity) DESC) AS rank\n",
    "    FROM sales s\n",
    "    JOIN product p ON s.product_id = p.product_id\n",
    "    GROUP BY p.product_id, p.product_name, p.category\n",
    "    ORDER BY rank\n",
    "\"\"\"\n",
    "print(f\"Product Popularity: {len(pd.read_sql(product_popularity_txt, conn))}\")\n",
    "print(pd.read_sql(product_popularity_txt + \"LIMIT 5\", conn))\n",
    "print(pd.read_sql(product_popularity_txt + \"LIMIT 5\", conn).to_markdown())"
   ]
  },
  {
   "cell_type": "markdown",
   "id": "21c2f12f",
   "metadata": {},
   "source": [
    "<div class=\"result\" markdown>\n",
    "\n",
    "```txt\n",
    "\n",
    "```\n",
    "\n",
    "```txt\n",
    "\n",
    "```\n"
   ]
  },
  {
   "cell_type": "markdown",
   "id": "c5ccb6b5",
   "metadata": {},
   "source": [
    "</div>\n",
    "\n",
    "### PySpark"
   ]
  },
  {
   "cell_type": "code",
   "execution_count": null,
   "id": "aa27e637",
   "metadata": {
    "incorrectly_encoded_metadata": "{.pyspark linenums=\"1\" title=\"Rank products by quantity sold\"}"
   },
   "outputs": [],
   "source": [
    "product_popularity_ps: psDataFrame = (\n",
    "    df_sales_ps.groupBy(\"product_id\")\n",
    "    .agg(F.sum(\"quantity\").alias(\"total_quantity\"))\n",
    "    .withColumn(\"rank\", F.expr(\"DENSE_RANK() OVER (ORDER BY total_quantity DESC)\"))\n",
    "    .orderBy(\"rank\")\n",
    ")\n",
    "print(f\"Product Popularity Summary: {product_popularity_ps.count()}\")\n",
    "product_popularity_ps.show(5)\n",
    "print(product_popularity_ps.limit(5).toPandas().to_markdown())"
   ]
  },
  {
   "cell_type": "markdown",
   "id": "ff0d32a5",
   "metadata": {},
   "source": [
    "<div class=\"result\" markdown>\n",
    "\n",
    "```txt\n",
    "\n",
    "```\n",
    "\n",
    "```txt\n",
    "\n",
    "```\n"
   ]
  },
  {
   "cell_type": "markdown",
   "id": "5695c464",
   "metadata": {},
   "source": [
    "</div>\n",
    "\n",
    "### Polars"
   ]
  },
  {
   "cell_type": "code",
   "execution_count": null,
   "id": "2f2fb319",
   "metadata": {
    "incorrectly_encoded_metadata": "{.polars linenums=\"1\" title=\"Rank products by quantity sold\"}"
   },
   "outputs": [],
   "source": [
    "product_popularity_pl: pl.DataFrame = (\n",
    "    df_sales_pl.group_by(\"product_id\")\n",
    "    .agg(pl.col(\"quantity\").sum().alias(\"total_quantity\"))\n",
    "    .with_columns(pl.col(\"total_quantity\").rank(method=\"dense\", descending=True).alias(\"rank\"))\n",
    "    .sort(\"rank\")\n",
    ")\n",
    "print(f\"Product Popularity Summary: {len(product_popularity_pl)}\")\n",
    "print(product_popularity_pl.head(5))\n",
    "print(product_popularity_pl.head(5).to_pandas().to_markdown())"
   ]
  },
  {
   "cell_type": "markdown",
   "id": "2e8addf0",
   "metadata": {},
   "source": [
    "<div class=\"result\" markdown>\n",
    "\n",
    "```txt\n",
    "\n",
    "```\n",
    "\n",
    "```txt\n",
    "\n",
    "```\n"
   ]
  },
  {
   "cell_type": "markdown",
   "id": "3b16de90",
   "metadata": {},
   "source": [
    "</div>\n",
    "\n",
    "As with the customer data, we can merge the product popularity information with the `product` DataFrame to get additional details about each product, such as its name and category.\n",
    "\n",
    "### Pandas"
   ]
  },
  {
   "cell_type": "code",
   "execution_count": null,
   "id": "70cee786",
   "metadata": {
    "incorrectly_encoded_metadata": "{.pandas linenums=\"1\" title=\"TITLE\"}"
   },
   "outputs": [],
   "source": [
    "# Add product details\n",
    "top_products_pd: pd.DataFrame = pd.merge(\n",
    "    product_popularity,\n",
    "    df_product_pd[[\"product_id\", \"product_name\", \"category\"]],\n",
    "    on=\"product_id\",\n",
    "    how=\"left\",\n",
    ")\n",
    "print(f\"Top Products Summary: {len(top_products_pd)}\")\n",
    "print(top_products_pd.head(5))\n",
    "print(top_products_pd.head(5).to_markdown())"
   ]
  },
  {
   "cell_type": "markdown",
   "id": "44e155e9",
   "metadata": {},
   "source": [
    "<div class=\"result\" markdown>\n",
    "\n",
    "```txt\n",
    "\n",
    "```\n",
    "\n",
    "```txt\n",
    "\n",
    "```\n"
   ]
  },
  {
   "cell_type": "markdown",
   "id": "4393dbdd",
   "metadata": {},
   "source": [
    "</div>\n",
    "\n",
    "### SQL"
   ]
  },
  {
   "cell_type": "code",
   "execution_count": null,
   "id": "2a90ed67",
   "metadata": {
    "incorrectly_encoded_metadata": "{.sql linenums=\"1\" title=\"TITLE\"}"
   },
   "outputs": [],
   "source": []
  },
  {
   "cell_type": "markdown",
   "id": "5436098b",
   "metadata": {},
   "source": [
    "<div class=\"result\" markdown>\n",
    "\n",
    "```txt\n",
    "\n",
    "```\n",
    "\n",
    "```txt\n",
    "\n",
    "```\n"
   ]
  },
  {
   "cell_type": "markdown",
   "id": "9adc0f10",
   "metadata": {},
   "source": [
    "</div>\n",
    "\n",
    "### PySpark"
   ]
  },
  {
   "cell_type": "code",
   "execution_count": null,
   "id": "c6a6cd9f",
   "metadata": {
    "incorrectly_encoded_metadata": "{.pyspark linenums=\"1\" title=\"TITLE\"}"
   },
   "outputs": [],
   "source": []
  },
  {
   "cell_type": "markdown",
   "id": "810a34a5",
   "metadata": {},
   "source": [
    "<div class=\"result\" markdown>\n",
    "\n",
    "```txt\n",
    "\n",
    "```\n",
    "\n",
    "```txt\n",
    "\n",
    "```\n"
   ]
  },
  {
   "cell_type": "markdown",
   "id": "1a4244fe",
   "metadata": {},
   "source": [
    "</div>\n",
    "\n",
    "### Polars"
   ]
  },
  {
   "cell_type": "code",
   "execution_count": null,
   "id": "67b89071",
   "metadata": {
    "incorrectly_encoded_metadata": "{.polars linenums=\"1\" title=\"TITLE\"}"
   },
   "outputs": [],
   "source": []
  },
  {
   "cell_type": "markdown",
   "id": "86d2969f",
   "metadata": {},
   "source": [
    "<div class=\"result\" markdown>\n",
    "\n",
    "```txt\n",
    "\n",
    "```\n",
    "\n",
    "```txt\n",
    "\n",
    "```\n"
   ]
  },
  {
   "cell_type": "markdown",
   "id": "aaf01611",
   "metadata": {},
   "source": [
    "</div>"
   ]
  },
  {
   "cell_type": "markdown",
   "id": "5318e95e",
   "metadata": {},
   "source": [
    "## Conclusion"
   ]
  },
  {
   "cell_type": "code",
   "execution_count": null,
   "id": "fe597882",
   "metadata": {},
   "outputs": [],
   "source": []
  },
  {
   "cell_type": "markdown",
   "id": "25375863",
   "metadata": {},
   "source": [
    "<div class=\"result\" markdown>\n",
    "\n",
    "```txt\n",
    "\n",
    "```\n",
    "\n",
    "</div>\n",
    "\n",
    "[python-print]: https://docs.python.org/3/library/functions.html#print\n",
    "[pandas]: https://pandas.pydata.org/\n",
    "[pandas-head]: https://pandas.pydata.org/docs/reference/api/pandas.DataFrame.head.html\n",
    "[pandas-read_sql]: https://pandas.pydata.org/docs/reference/api/pandas.read_sql.html\n",
    "[pandas-subsetting]: https://pandas.pydata.org/docs/getting_started/intro_tutorials/03_subset_data.html\n",
    "[numpy]: https://numpy.org/\n",
    "[sql-wiki]: https://en.wikipedia.org/wiki/SQL\n",
    "[sql-iso]: https://www.iso.org/standard/76583.html\n",
    "[sqlite]: https://sqlite.org/\n",
    "[sqlite3]: https://docs.python.org/3/library/sqlite3.html\n",
    "[sqlite3-connect]: https://docs.python.org/3/library/sqlite3.html#sqlite3.connect\n",
    "[sqlite-where]: https://sqlite.org/lang_select.html#whereclause\n",
    "[sqlite-select]: https://sqlite.org/lang_select.html\n",
    "[postgresql]: https://www.postgresql.org/\n",
    "[mysql]: https://www.mysql.com/\n",
    "[t-sql]: https://learn.microsoft.com/en-us/sql/t-sql/\n",
    "[pl-sql]: https://www.oracle.com/au/database/technologies/appdev/plsql.html\n",
    "[spark-sql]: https://spark.apache.org/sql/\n",
    "[pyspark]: https://spark.apache.org/docs/latest/api/python/\n",
    "[pyspark-sparksession]: https://spark.apache.org/docs/latest/api/python/reference/pyspark.sql/api/pyspark.sql.SparkSession.html\n",
    "[pyspark-builder]: https://spark.apache.org/docs/latest/api/python/reference/pyspark.sql/api/pyspark.sql.SparkSession.html#pyspark.sql.SparkSession.builder\n",
    "[pyspark-getorcreate]: https://spark.apache.org/docs/latest/api/python/reference/pyspark.sql/api/pyspark.sql.SparkSession.builder.getOrCreate.html\n",
    "[pyspark-createdataframe]: https://spark.apache.org/docs/latest/api/python/reference/pyspark.sql/api/pyspark.sql.SparkSession.createDataFrame.html\n",
    "[pyspark-show]: https://spark.apache.org/docs/latest/api/python/reference/pyspark.sql/api/pyspark.sql.DataFrame.show.html\n",
    "[pyspark-create-dataframe-from-dict]: https://sparkbyexamples.com/pyspark/pyspark-create-dataframe-from-dictionary/\n",
    "[pyspark-filter]: https://spark.apache.org/docs/latest/api/python/reference/pyspark.sql/api/pyspark.sql.DataFrame.filter.html\n",
    "[pyspark-where]: https://spark.apache.org/docs/latest/api/python/reference/pyspark.sql/api/pyspark.sql.DataFrame.where.html\n",
    "[pyspark-filtering]: https://sparkbyexamples.com/pyspark/pyspark-where-filter/\n",
    "[pyspark-select]: https://spark.apache.org/docs/latest/api/python/reference/pyspark.sql/api/pyspark.sql.DataFrame.select.html\n",
    "[hdfs]: https://hadoop.apache.org/docs/r1.2.1/hdfs_design.html\n",
    "[s3]: https://aws.amazon.com/s3/\n",
    "[adls]: https://learn.microsoft.com/en-us/azure/storage/blobs/data-lake-storage-introduction\n",
    "[jdbc]: https://spark.apache.org/docs/latest/sql-data-sources-jdbc.html\n",
    "[polars]: https://www.pola.rs/\n",
    "[polars-head]: https://docs.pola.rs/api/python/stable/reference/dataframe/api/polars.DataFrame.head.html\n",
    "[polars-filter]: https://docs.pola.rs/api/python/stable/reference/dataframe/api/polars.DataFrame.filter.html\n",
    "[polars-filtering]: https://docs.pola.rs/user-guide/transformations/time-series/filter/\n",
    "[polars-col]: https://docs.pola.rs/api/python/stable/reference/expressions/col.html\n",
    "[polars-select]: https://docs.pola.rs/api/python/stable/reference/dataframe/api/polars.DataFrame.select.html"
   ]
  }
 ],
 "metadata": {
  "jupytext": {
   "cell_metadata_filter": "incorrectly_encoded_metadata,-all",
   "cell_metadata_json": true,
   "main_language": "python",
   "notebook_metadata_filter": "-all"
  },
  "kernelspec": {
   "display_name": "data-science-extensions",
   "language": "python",
   "name": "python3"
  },
  "language_info": {
   "codemirror_mode": {
    "name": "ipython",
    "version": 3
   },
   "file_extension": ".py",
   "mimetype": "text/x-python",
   "name": "python",
   "nbconvert_exporter": "python",
   "pygments_lexer": "ipython3",
   "version": "3.13.2"
  }
 },
 "nbformat": 4,
 "nbformat_minor": 5
}

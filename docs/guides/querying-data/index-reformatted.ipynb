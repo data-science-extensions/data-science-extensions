{
 "cells": [
  {
   "cell_type": "markdown",
   "id": "b9edad33",
   "metadata": {},
   "source": [
    "# Data Querying for Data Scientists"
   ]
  },
  {
   "cell_type": "markdown",
   "id": "8ffda7b2",
   "metadata": {},
   "source": [
    "### A Comprehensive Guide of using Pandas, SQL, PySpark, and Polars for Data Manipulation Techniques, with Practical Examples and Visualisations"
   ]
  },
  {
   "cell_type": "markdown",
   "id": "6ebfef57",
   "metadata": {},
   "source": [
    "## Introduction\n",
    "\n",
    "Working as a Data Scientist or Data Engineer often involves querying data from various sources. There are many tools and libraries available to perform these tasks, each with its own strengths and weaknesses. Also, there are many different ways to achieve similar results, depending on the tool or library used. It's important to be familiar with these different methods to choose the best one for your specific use case.\n",
    "\n",
    "This article provides a comprehensive guide on how to query data using different tools and libraries, including Pandas, SQL, PySpark, and Polars. Each section will cover the setup, data creation, and various querying techniques such as filtering, grouping, joining, window functions, ranking, and sorting. The output will be identical across all tools, but the transformations will be implemented using the specific syntax and features of each library. Therefore allowing you to compare the different approaches and understand the nuances of each method."
   ]
  },
  {
   "cell_type": "markdown",
   "id": "9b753026",
   "metadata": {},
   "source": [
    "## Overview of the Different Libraries\n",
    "\n",
    "Before we dive into the querying techniques, let's take a moment to understand the different libraries and tools we will be using in this article. Each library has its own strengths and weaknesses, and understanding these can help you choose the right tool for your specific use case.\n",
    "\n",
    "Throughout this article, you can easily switch between the different libraries by selecting the appropriate tab. Each section will provide the same functionality, but implemented using the specific syntax and features of each library.\n",
    "\n",
    "### Pandas\n",
    "\n",
    "[Pandas] is a powerful data manipulation library in Python that provides data structures and functions for working with structured data. It is widely used for data analysis and manipulation tasks.\n",
    "\n",
    "Historically, Pandas was one of the first libraries to provide a DataFrame structure, which is similar to a table in a relational database. It allows for easy data manipulation, filtering, grouping, and aggregation. Pandas is built on top of [NumPy][numpy] and provides a high-level interface for working with data. It is particularly well-suited for small to medium-sized datasets and is often used in Data Science and Machine Learning workflows.\n",
    "\n",
    "Pandas provides a rich set of functionalities for data manipulation, including filtering, grouping, joining, and window functions. It also integrates well with other libraries such as Matplotlib and Seaborn for data visualization, making it a popular choice among data scientists and analysts.\n",
    "\n",
    "While Pandas is both powerful and popular, it is important to note that it operates **in-memory**, which means that it may not be suitable for very large datasets that do not fit into memory. In such cases, other libraries like PySpark or Polars may be more appropriate.\n",
    "\n",
    "### SQL\n",
    "\n",
    "[SQL][sql-wiki] (Structured Query Language) is a standard language for managing and manipulating relational databases. It is widely used for querying and modifying data in databases. SQL is a declarative language, meaning that you specify what you want to retrieve or manipulate without detailing how to do it. This makes SQL queries concise and expressive. SQL is particularly well-suited for working with large datasets and complex queries. It provides powerful features for filtering, grouping, joining, and aggregating data. SQL is the backbone of many database systems.\n",
    "\n",
    "SQL is actually a language (like Python is a language), not a library (like Pandas is a library), and it is used to interact with relational databases. The core of the SQL language is actually an [ISO standard][sql-iso], which means that the basic syntax and functionality are consistent across different database systems. However, each database system may have its own extensions or variations of SQL, which can lead to differences in syntax and features. Each database system can be considered as variations (or dialects) of SQL, with their own specific features and optimizations and syntax ehnancements.\n",
    "\n",
    "Some of the more popular SQL dialects include:\n",
    "\n",
    "<div class=\"mdx-three-columns\" markdown>\n",
    "\n",
    "- [SQLite]\n",
    "- [PostgreSQL]\n",
    "- [MySQL]\n",
    "- [Spark SQL][spark-sql]\n",
    "- [SQL Server (t-SQL)][t-sql]\n",
    "- [Oracle SQL (pl-SQL)][pl-sql]\n",
    "\n",
    "</div>\n",
    "\n",
    "### PySpark\n",
    "\n",
    "[PySpark] is the Python API for Apache Spark, a distributed computing framework that allows for large-scale data processing. PySpark provides a high-level interface for working with Spark, making it easier to write distributed data processing applications in Python. It is particularly well-suited for big data processing and analytics.\n",
    "\n",
    "PySpark provides a DataFrame API similar to Pandas, but it is designed to work with large datasets that do not fit into memory. It allows for distributed data processing across a cluster of machines, making it suitable for big data applications. PySpark supports various data sources, including [HDFS], [S3], [ADLS], and [JDBC], and provides powerful features for filtering, grouping, joining, and aggregating data.\n",
    "\n",
    "While PySpark is a powerful tool for big data processing, it can be more complex to set up and use compared to Pandas. It requires a Spark cluster and may have a steeper learning curve for those unfamiliar with distributed computing concepts. However, it is an excellent choice for processing large datasets and performing complex data transformations.\n",
    "\n",
    "### Polars\n",
    "\n",
    "[Polars] is a fast DataFrame library for Python that is designed for high-performance data manipulation. It is built on top of Rust and provides a DataFrame API similar to Pandas, but with a focus on performance and memory efficiency. Polars is particularly well-suited for large datasets and complex queries.\n",
    "\n",
    "Polars supports lazy evaluation, which allows for optimizations in query execution. Polars also provides powerful features for filtering, grouping, joining, and aggregating data, making it a great choice for data analysis tasks.\n",
    "\n",
    "While Polars is a relatively new library compared to Pandas, it has gained popularity for its performance and ease of use. It is designed to be a drop-in replacement for Pandas, allowing users to leverage its performance benefits without significant changes to their existing code. It is particularly useful for data scientists and analysts who need to work with large datasets and require fast data manipulation capabilities. The setup is simple and straightforward, similar to Pandas, and less complex than PySpark. It is a great choice for data analysis tasks that require high performance and memory efficiency."
   ]
  },
  {
   "cell_type": "markdown",
   "id": "a0081199",
   "metadata": {},
   "source": [
    "## Setup\n",
    "\n",
    "Before we start querying data, we need to set up our environment. This includes importing the necessary libraries, creating sample data, and defining constants that will be used throughout the article. The following sections will guide you through this setup process. The code for this article is also available on GitHub: [querying-data](...) {==**UPDATE URL**==}.\n",
    "\n",
    "### Pandas"
   ]
  },
  {
   "cell_type": "code",
   "execution_count": null,
   "id": "c81e5d97",
   "metadata": {
    "incorrectly_encoded_metadata": "{.pandas linenums=\"1\" title=\"Setup\"}"
   },
   "outputs": [],
   "source": [
    "# StdLib Imports\n",
    "from typing import Any\n",
    "\n",
    "# Third Party Imports\n",
    "import numpy as np\n",
    "import pandas as pd\n",
    "from plotly import express as px, graph_objects as go, io as pio\n",
    "\n",
    "\n",
    "# Set seed for reproducibility\n",
    "np.random.seed(42)\n",
    "\n",
    "# Determine the number of records to generate\n",
    "n_records = 100\n",
    "\n",
    "# Set default Plotly template\n",
    "pio.templates.default = \"simple_white+gridon\"\n",
    "\n",
    "# Set Pandas display options\n",
    "pd.set_option(\"display.max_columns\", None)"
   ]
  },
  {
   "cell_type": "markdown",
   "id": "d71b186b",
   "metadata": {},
   "source": [
    "### SQL"
   ]
  },
  {
   "cell_type": "code",
   "execution_count": null,
   "id": "3943848f",
   "metadata": {
    "incorrectly_encoded_metadata": "{.sql linenums=\"1\" title=\"Setup\"}"
   },
   "outputs": [],
   "source": [
    "# StdLib Imports\n",
    "import sqlite3\n",
    "from typing import Any\n",
    "\n",
    "# Third Party Imports\n",
    "import numpy as np\n",
    "import pandas as pd\n",
    "from plotly import express as px, graph_objects as go, io as pio\n",
    "\n",
    "\n",
    "# Set default Plotly template\n",
    "pio.templates.default = \"simple_white+gridon\"\n",
    "\n",
    "# Set Pandas display options\n",
    "pd.set_option(\"display.max_columns\", None)"
   ]
  },
  {
   "cell_type": "markdown",
   "id": "90d6ba34",
   "metadata": {},
   "source": [
    "### PySpark"
   ]
  },
  {
   "cell_type": "code",
   "execution_count": null,
   "id": "f11338f2",
   "metadata": {
    "incorrectly_encoded_metadata": "{.pyspark linenums=\"1\" title=\"Setup\"}"
   },
   "outputs": [],
   "source": [
    "# StdLib Imports\n",
    "from typing import Any\n",
    "\n",
    "# Third Party Imports\n",
    "import numpy as np\n",
    "from plotly import express as px, graph_objects as go, io as pio\n",
    "from pyspark.sql import (\n",
    "    DataFrame as psDataFrame,\n",
    "    SparkSession,\n",
    "    Window,\n",
    "    functions as F,\n",
    "    types as T,\n",
    ")\n",
    "\n",
    "\n",
    "# Set seed for reproducibility\n",
    "np.random.seed(42)\n",
    "\n",
    "# Determine the number of records to generate\n",
    "n_records = 100\n",
    "\n",
    "# Set default Plotly template\n",
    "pio.templates.default = \"simple_white+gridon\""
   ]
  },
  {
   "cell_type": "markdown",
   "id": "6b156143",
   "metadata": {},
   "source": [
    "### Polars"
   ]
  },
  {
   "cell_type": "code",
   "execution_count": null,
   "id": "ecc59ee2",
   "metadata": {
    "incorrectly_encoded_metadata": "{.polars linenums=\"1\" title=\"Setup\"}"
   },
   "outputs": [
    {
     "data": {
      "text/plain": [
       "polars.config.Config"
      ]
     },
     "execution_count": 4,
     "metadata": {},
     "output_type": "execute_result"
    }
   ],
   "source": [
    "# StdLib Imports\n",
    "from typing import Any\n",
    "\n",
    "# Third Party Imports\n",
    "import numpy as np\n",
    "import polars as pl\n",
    "from plotly import express as px, graph_objects as go, io as pio\n",
    "\n",
    "\n",
    "# Set seed for reproducibility\n",
    "np.random.seed(42)\n",
    "\n",
    "# Determine the number of records to generate\n",
    "n_records = 100\n",
    "\n",
    "# Set default Plotly template\n",
    "pio.templates.default = \"simple_white+gridon\"\n",
    "\n",
    "# Set Polars display options\n",
    "pl.Config.set_tbl_cols(-1)"
   ]
  },
  {
   "cell_type": "markdown",
   "id": "11f1a72a",
   "metadata": {},
   "source": [
    "Once the setup is complete, we can proceed to create our sample data. This data will be used for querying and will be consistent across all libraries. All tables will be created from scratch with randomly generated data to simulate a real-world scenario. This is to ensure that the examples are self-contained and can be run without any external dependencies, and also there is no issues about data privacy or security.\n",
    "\n",
    "For the below data creation steps, we will be defining the tables using Python dictionaries. Each dictionary will represent a table, with keys as column names and values as lists of data. We will then convert these dictionaries into DataFrames or equivalent structures in each library.\n",
    "\n",
    "First, we will create a sales fact table. This table will contain information about sales transactions, including the date, customer ID, product ID, category, sales amount, and quantity sold."
   ]
  },
  {
   "cell_type": "code",
   "execution_count": null,
   "id": "a50b2c0c",
   "metadata": {
    "incorrectly_encoded_metadata": "{.python linenums=\"1\" title=\"Create Sales Fact Data\"}"
   },
   "outputs": [],
   "source": [
    "sales_data: dict[str, Any] = {\n",
    "    \"date\": pd.date_range(start=\"2023-01-01\", periods=n_records, freq=\"D\"),\n",
    "    \"customer_id\": np.random.randint(1, 100, n_records),\n",
    "    \"product_id\": np.random.randint(1, 50, n_records),\n",
    "    \"category\": np.random.choice([\"Electronics\", \"Clothing\", \"Food\", \"Books\", \"Home\"], n_records),\n",
    "    \"sales_amount\": np.random.uniform(10, 1000, n_records).round(2),\n",
    "    \"quantity\": np.random.randint(1, 10, n_records),\n",
    "}"
   ]
  },
  {
   "cell_type": "markdown",
   "id": "44e9b385",
   "metadata": {},
   "source": [
    "Next, we will create a product dimension table. This table will contain information about products, including the product ID, name, price, category, and supplier ID."
   ]
  },
  {
   "cell_type": "code",
   "execution_count": null,
   "id": "922d480a",
   "metadata": {
    "incorrectly_encoded_metadata": "{.python linenums=\"1\" title=\"Create Product Dimension Data\"}"
   },
   "outputs": [],
   "source": [
    "product_data: dict[str, Any] = {\n",
    "    \"product_id\": np.arange(1, 51),\n",
    "    \"product_name\": [f\"Product {i}\" for i in range(1, 51)],\n",
    "    \"price\": np.random.uniform(10, 500, 50).round(2),\n",
    "    \"category\": np.random.choice([\"Electronics\", \"Clothing\", \"Food\", \"Books\", \"Home\"], 50),\n",
    "    \"supplier_id\": np.random.randint(1, 10, 50),\n",
    "}"
   ]
  },
  {
   "cell_type": "markdown",
   "id": "d2160464",
   "metadata": {},
   "source": [
    "Finally, we will create a customer dimension table. This table will contain information about customers, including the customer ID, name, city, state, and segment."
   ]
  },
  {
   "cell_type": "code",
   "execution_count": null,
   "id": "22d3f7a5",
   "metadata": {
    "incorrectly_encoded_metadata": "{.python linenums=\"1\" title=\"Create Customer Dimension Data\"}"
   },
   "outputs": [],
   "source": [
    "customer_data: dict[str, Any] = {\n",
    "    \"customer_id\": np.arange(1, 101),\n",
    "    \"customer_name\": [f\"Customer {i}\" for i in range(1, 101)],\n",
    "    \"city\": np.random.choice([\"New York\", \"Los Angeles\", \"Chicago\", \"Houston\", \"Phoenix\"], 100),\n",
    "    \"state\": np.random.choice([\"NY\", \"CA\", \"IL\", \"TX\", \"AZ\"], 100),\n",
    "    \"segment\": np.random.choice([\"Consumer\", \"Corporate\", \"Home Office\"], 100),\n",
    "}"
   ]
  },
  {
   "cell_type": "markdown",
   "id": "ca874a3b",
   "metadata": {},
   "source": [
    "Now that we have our sample data created, we can proceed to the querying section. Each of the following sections will demonstrate how to perform similar operations using the different libraries and methods, allowing you to compare and contrast their capabilities."
   ]
  },
  {
   "cell_type": "markdown",
   "id": "fe8fa228",
   "metadata": {},
   "source": [
    "## Create the DataFrames\n",
    "\n",
    "### Pandas\n",
    "\n",
    "To create the dataframes in Pandas, we will use the data we generated earlier. We will parse the dictionaries into Pandas DataFrames, which will allow us to perform various data manipulation tasks."
   ]
  },
  {
   "cell_type": "code",
   "execution_count": null,
   "id": "3bfde47c",
   "metadata": {
    "incorrectly_encoded_metadata": "{.pandas linenums=\"1\" title=\"Create DataFrames\"}"
   },
   "outputs": [],
   "source": [
    "df_sales_pd: pd.DataFrame = pd.DataFrame(sales_data)\n",
    "df_product_pd: pd.DataFrame = pd.DataFrame(product_data)\n",
    "df_customer_pd: pd.DataFrame = pd.DataFrame(customer_data)"
   ]
  },
  {
   "cell_type": "markdown",
   "id": "c0ed6d04",
   "metadata": {},
   "source": [
    "Once the data is created, we can check that it has been loaded correctly by displaying the first few rows of each DataFrame. To do this, we will use the [`.head()`][pandas-head] method to display the first 5 rows of each DataFrame, and then parse to the [`print()`][python-print] function to display the DataFrame in a readable format."
   ]
  },
  {
   "cell_type": "code",
   "execution_count": null,
   "id": "115f3c1a",
   "metadata": {
    "incorrectly_encoded_metadata": "{.pandas linenums=\"1\" title=\"Check Sales DataFrame\"}"
   },
   "outputs": [
    {
     "name": "stdout",
     "output_type": "stream",
     "text": [
      "Sales DataFrame: 100\n",
      "        date  customer_id  product_id     category  sales_amount  quantity\n",
      "0 2023-01-01           52          45         Food        490.76         7\n",
      "1 2023-01-02           93          41  Electronics        453.94         5\n",
      "2 2023-01-03           15          29         Home        994.51         5\n",
      "3 2023-01-04           72          15  Electronics        184.17         7\n",
      "4 2023-01-05           61          45         Food         27.89         9\n",
      "|    | date                |   customer_id |   product_id | category    |   sales_amount |   quantity |\n",
      "|---:|:--------------------|--------------:|-------------:|:------------|---------------:|-----------:|\n",
      "|  0 | 2023-01-01 00:00:00 |            52 |           45 | Food        |         490.76 |          7 |\n",
      "|  1 | 2023-01-02 00:00:00 |            93 |           41 | Electronics |         453.94 |          5 |\n",
      "|  2 | 2023-01-03 00:00:00 |            15 |           29 | Home        |         994.51 |          5 |\n",
      "|  3 | 2023-01-04 00:00:00 |            72 |           15 | Electronics |         184.17 |          7 |\n",
      "|  4 | 2023-01-05 00:00:00 |            61 |           45 | Food        |          27.89 |          9 |\n"
     ]
    }
   ],
   "source": [
    "print(f\"Sales DataFrame: {len(df_sales_pd)}\")\n",
    "print(df_sales_pd.head(5))\n",
    "print(df_sales_pd.head(5).to_markdown())"
   ]
  },
  {
   "cell_type": "markdown",
   "id": "fab5ad21",
   "metadata": {},
   "source": [
    "<div class=\"result\" markdown>\n",
    "\n",
    "```txt\n",
    "Sales DataFrame: 100\n",
    "```\n",
    "\n",
    "```txt\n",
    "        date  customer_id  product_id     category  sales_amount  quantity\n",
    "0 2023-01-01           52          45         Food        490.76         7\n",
    "1 2023-01-02           93          41  Electronics        453.94         5\n",
    "2 2023-01-03           15          29         Home        994.51         5\n",
    "3 2023-01-04           72          15  Electronics        184.17         7\n",
    "4 2023-01-05           61          45         Food         27.89         9\n",
    "```\n",
    "\n",
    "|      | date                | customer_id | product_id | category    | sales_amount | quantity |\n",
    "| ---: | :------------------ | ----------: | ---------: | :---------- | -----------: | -------: |\n",
    "|    0 | 2023-01-01 00:00:00 |          52 |         45 | Food        |       490.76 |        7 |\n",
    "|    1 | 2023-01-02 00:00:00 |          93 |         41 | Electronics |       453.94 |        5 |\n",
    "|    2 | 2023-01-03 00:00:00 |          15 |         29 | Home        |       994.51 |        5 |\n",
    "|    3 | 2023-01-04 00:00:00 |          72 |         15 | Electronics |       184.17 |        7 |\n",
    "|    4 | 2023-01-05 00:00:00 |          61 |         45 | Food        |        27.89 |        9 |\n",
    "\n",
    "</div>"
   ]
  },
  {
   "cell_type": "code",
   "execution_count": null,
   "id": "5fcbe7c6",
   "metadata": {
    "incorrectly_encoded_metadata": "{.pandas linenums=\"1\" title=\"Check Product DataFrame\"}"
   },
   "outputs": [
    {
     "name": "stdout",
     "output_type": "stream",
     "text": [
      "Product DataFrame: 50\n",
      "   product_id product_name   price  category  supplier_id\n",
      "0           1    Product 1  257.57      Food            8\n",
      "1           2    Product 2  414.96  Clothing            5\n",
      "2           3    Product 3  166.82  Clothing            8\n",
      "3           4    Product 4  448.81      Food            4\n",
      "4           5    Product 5  200.71      Food            8\n",
      "|    |   product_id | product_name   |   price | category   |   supplier_id |\n",
      "|---:|-------------:|:---------------|--------:|:-----------|--------------:|\n",
      "|  0 |            1 | Product 1      |  257.57 | Food       |             8 |\n",
      "|  1 |            2 | Product 2      |  414.96 | Clothing   |             5 |\n",
      "|  2 |            3 | Product 3      |  166.82 | Clothing   |             8 |\n",
      "|  3 |            4 | Product 4      |  448.81 | Food       |             4 |\n",
      "|  4 |            5 | Product 5      |  200.71 | Food       |             8 |\n"
     ]
    }
   ],
   "source": [
    "print(f\"Product DataFrame: {len(df_product_pd)}\")\n",
    "print(df_product_pd.head(5))\n",
    "print(df_product_pd.head(5).to_markdown())"
   ]
  },
  {
   "cell_type": "markdown",
   "id": "ca92d474",
   "metadata": {},
   "source": [
    "<div class=\"result\" markdown>\n",
    "\n",
    "```txt\n",
    "Product DataFrame: 50\n",
    "```\n",
    "\n",
    "```txt\n",
    "   product_id product_name   price  category  supplier_id\n",
    "0           1    Product 1  257.57      Food            8\n",
    "1           2    Product 2  414.96  Clothing            5\n",
    "2           3    Product 3  166.82  Clothing            8\n",
    "3           4    Product 4  448.81      Food            4\n",
    "4           5    Product 5  200.71      Food            8\n",
    "```\n",
    "\n",
    "|      | product_id | product_name |  price | category | supplier_id |\n",
    "| ---: | ---------: | :----------- | -----: | :------- | ----------: |\n",
    "|    0 |          1 | Product 1    | 257.57 | Food     |           8 |\n",
    "|    1 |          2 | Product 2    | 414.96 | Clothing |           5 |\n",
    "|    2 |          3 | Product 3    | 166.82 | Clothing |           8 |\n",
    "|    3 |          4 | Product 4    | 448.81 | Food     |           4 |\n",
    "|    4 |          5 | Product 5    | 200.71 | Food     |           8 |\n",
    "\n",
    "</div>"
   ]
  },
  {
   "cell_type": "code",
   "execution_count": null,
   "id": "13a25ed5",
   "metadata": {
    "incorrectly_encoded_metadata": "{.pandas linenums=\"1\" title=\"Check Customer DataFrame\"}"
   },
   "outputs": [
    {
     "name": "stdout",
     "output_type": "stream",
     "text": [
      "Customer DataFrame: 100\n",
      "   customer_id customer_name         city state      segment\n",
      "0            1    Customer 1      Phoenix    NY    Corporate\n",
      "1            2    Customer 2      Phoenix    CA  Home Office\n",
      "2            3    Customer 3      Phoenix    NY  Home Office\n",
      "3            4    Customer 4  Los Angeles    NY     Consumer\n",
      "4            5    Customer 5  Los Angeles    IL  Home Office\n",
      "|    |   customer_id | customer_name   | city        | state   | segment     |\n",
      "|---:|--------------:|:----------------|:------------|:--------|:------------|\n",
      "|  0 |             1 | Customer 1      | Phoenix     | NY      | Corporate   |\n",
      "|  1 |             2 | Customer 2      | Phoenix     | CA      | Home Office |\n",
      "|  2 |             3 | Customer 3      | Phoenix     | NY      | Home Office |\n",
      "|  3 |             4 | Customer 4      | Los Angeles | NY      | Consumer    |\n",
      "|  4 |             5 | Customer 5      | Los Angeles | IL      | Home Office |\n"
     ]
    }
   ],
   "source": [
    "print(f\"Customer DataFrame: {len(df_customer_pd)}\")\n",
    "print(df_customer_pd.head(5))\n",
    "print(df_customer_pd.head(5).to_markdown())"
   ]
  },
  {
   "cell_type": "markdown",
   "id": "3d728034",
   "metadata": {},
   "source": [
    "<div class=\"result\" markdown>\n",
    "\n",
    "```txt\n",
    "Customer DataFrame: 100\n",
    "```\n",
    "\n",
    "```txt\n",
    "   customer_id customer_name         city state      segment\n",
    "0            1    Customer 1      Phoenix    NY    Corporate\n",
    "1            2    Customer 2      Phoenix    CA  Home Office\n",
    "2            3    Customer 3      Phoenix    NY  Home Office\n",
    "3            4    Customer 4  Los Angeles    NY     Consumer\n",
    "4            5    Customer 5  Los Angeles    IL  Home Office\n",
    "```\n",
    "\n",
    "|      | customer_id | customer_name | city        | state | segment     |\n",
    "| ---: | ----------: | :------------ | :---------- | :---- | :---------- |\n",
    "|    0 |           1 | Customer 1    | Phoenix     | NY    | Corporate   |\n",
    "|    1 |           2 | Customer 2    | Phoenix     | CA    | Home Office |\n",
    "|    2 |           3 | Customer 3    | Phoenix     | NY    | Home Office |\n",
    "|    3 |           4 | Customer 4    | Los Angeles | NY    | Consumer    |\n",
    "|    4 |           5 | Customer 5    | Los Angeles | IL    | Home Office |\n",
    "\n",
    "</div>\n",
    "\n",
    "### SQL\n",
    "\n",
    "To create the dataframes in SQL, we will use the data we generated earlier. Firstly, we need to create the SQLite database. This will be an in-memory database for demonstration purposes, but in a real-world scenario, you would typically connect to a persistent (on-disk) database. To do this, we will use the [`sqlite3`][sqlite3] library to create a connection to the database, which we define with the `:memory:` parameter on the [`.connect()`][sqlite3-connect] function. The result is to create a temporary database that exists only during the lifetime of the connection.\n",
    "\n",
    "Next, we will then parse the dictionaries into Pandas DataFrames, which will then be loaded into an SQLite database. This allows us to perform various data manipulation tasks using SQL queries."
   ]
  },
  {
   "cell_type": "code",
   "execution_count": null,
   "id": "4efd6b43",
   "metadata": {
    "incorrectly_encoded_metadata": "{.sql linenums=\"1\" title=\"Create DataFrames\"}"
   },
   "outputs": [
    {
     "data": {
      "text/plain": [
       "100"
      ]
     },
     "execution_count": 12,
     "metadata": {},
     "output_type": "execute_result"
    }
   ],
   "source": [
    "# Creates SQLite database and tables\n",
    "conn: sqlite3.Connection = sqlite3.connect(\":memory:\")\n",
    "pd.DataFrame(sales_data).to_sql(\"sales\", conn, index=False, if_exists=\"replace\")\n",
    "pd.DataFrame(product_data).to_sql(\"product\", conn, index=False, if_exists=\"replace\")\n",
    "pd.DataFrame(customer_data).to_sql(\"customer\", conn, index=False, if_exists=\"replace\")"
   ]
  },
  {
   "cell_type": "markdown",
   "id": "e9e1d124",
   "metadata": {},
   "source": [
    "Once the data is created, we can check that it has been loaded correctly by displaying the first few rows of each DataFrame. To do this, we will use the [`pd.read_sql()`][pandas-read_sql] function to execute SQL queries and retrieve the data from the database. We will then parse the results to the [`print()`][python-print] function to display the DataFrame in a readable format."
   ]
  },
  {
   "cell_type": "code",
   "execution_count": null,
   "id": "a1a4ef3c",
   "metadata": {
    "incorrectly_encoded_metadata": "{.sql linenums=\"1\" title=\"Check Sales DataFrame\"}"
   },
   "outputs": [
    {
     "name": "stdout",
     "output_type": "stream",
     "text": [
      "Sales Table: 100\n",
      "                  date  customer_id  product_id     category  sales_amount  \\\n",
      "0  2023-01-01 00:00:00           52          45         Food        490.76   \n",
      "1  2023-01-02 00:00:00           93          41  Electronics        453.94   \n",
      "2  2023-01-03 00:00:00           15          29         Home        994.51   \n",
      "3  2023-01-04 00:00:00           72          15  Electronics        184.17   \n",
      "4  2023-01-05 00:00:00           61          45         Food         27.89   \n",
      "\n",
      "   quantity  \n",
      "0         7  \n",
      "1         5  \n",
      "2         5  \n",
      "3         7  \n",
      "4         9  \n",
      "|    | date                |   customer_id |   product_id | category    |   sales_amount |   quantity |\n",
      "|---:|:--------------------|--------------:|-------------:|:------------|---------------:|-----------:|\n",
      "|  0 | 2023-01-01 00:00:00 |            52 |           45 | Food        |         490.76 |          7 |\n",
      "|  1 | 2023-01-02 00:00:00 |            93 |           41 | Electronics |         453.94 |          5 |\n",
      "|  2 | 2023-01-03 00:00:00 |            15 |           29 | Home        |         994.51 |          5 |\n",
      "|  3 | 2023-01-04 00:00:00 |            72 |           15 | Electronics |         184.17 |          7 |\n",
      "|  4 | 2023-01-05 00:00:00 |            61 |           45 | Food        |          27.89 |          9 |\n"
     ]
    }
   ],
   "source": [
    "print(f\"Sales Table: {len(pd.read_sql('SELECT * FROM sales', conn))}\")\n",
    "print(pd.read_sql(\"SELECT * FROM sales LIMIT 5\", conn))\n",
    "print(pd.read_sql(\"SELECT * FROM sales LIMIT 5\", conn).to_markdown())"
   ]
  },
  {
   "cell_type": "markdown",
   "id": "acd1bbe8",
   "metadata": {},
   "source": [
    "<div class=\"result\" markdown>\n",
    "\n",
    "```txt\n",
    "Sales Table: 100\n",
    "```\n",
    "\n",
    "```txt\n",
    "                  date  customer_id  product_id     category  sales_amount  quantity\n",
    "0  2023-01-01 00:00:00           52          45         Food        490.76         7\n",
    "1  2023-01-02 00:00:00           93          41  Electronics        453.94         5\n",
    "2  2023-01-03 00:00:00           15          29         Home        994.51         5\n",
    "3  2023-01-04 00:00:00           72          15  Electronics        184.17         7\n",
    "4  2023-01-05 00:00:00           61          45         Food         27.89         9\n",
    "```\n",
    "\n",
    "|      | date                | customer_id | product_id | category    | sales_amount | quantity |\n",
    "| ---: | :------------------ | ----------: | ---------: | :---------- | -----------: | -------: |\n",
    "|    0 | 2023-01-01 00:00:00 |          52 |         45 | Food        |       490.76 |        7 |\n",
    "|    1 | 2023-01-02 00:00:00 |          93 |         41 | Electronics |       453.94 |        5 |\n",
    "|    2 | 2023-01-03 00:00:00 |          15 |         29 | Home        |       994.51 |        5 |\n",
    "|    3 | 2023-01-04 00:00:00 |          72 |         15 | Electronics |       184.17 |        7 |\n",
    "|    4 | 2023-01-05 00:00:00 |          61 |         45 | Food        |        27.89 |        9 |\n",
    "\n",
    "</div>"
   ]
  },
  {
   "cell_type": "code",
   "execution_count": null,
   "id": "be31f657",
   "metadata": {
    "incorrectly_encoded_metadata": "{.sql linenums=\"1\" title=\"Check Product DataFrame\"}"
   },
   "outputs": [
    {
     "name": "stdout",
     "output_type": "stream",
     "text": [
      "Product Table: 50\n",
      "   product_id product_name   price  category  supplier_id\n",
      "0           1    Product 1  257.57      Food            8\n",
      "1           2    Product 2  414.96  Clothing            5\n",
      "2           3    Product 3  166.82  Clothing            8\n",
      "3           4    Product 4  448.81      Food            4\n",
      "4           5    Product 5  200.71      Food            8\n",
      "|    |   product_id | product_name   |   price | category   |   supplier_id |\n",
      "|---:|-------------:|:---------------|--------:|:-----------|--------------:|\n",
      "|  0 |            1 | Product 1      |  257.57 | Food       |             8 |\n",
      "|  1 |            2 | Product 2      |  414.96 | Clothing   |             5 |\n",
      "|  2 |            3 | Product 3      |  166.82 | Clothing   |             8 |\n",
      "|  3 |            4 | Product 4      |  448.81 | Food       |             4 |\n",
      "|  4 |            5 | Product 5      |  200.71 | Food       |             8 |\n"
     ]
    }
   ],
   "source": [
    "print(f\"Product Table: {len(pd.read_sql('SELECT * FROM product', conn))}\")\n",
    "print(pd.read_sql(\"SELECT * FROM product LIMIT 5\", conn))\n",
    "print(pd.read_sql(\"SELECT * FROM product LIMIT 5\", conn).to_markdown())"
   ]
  },
  {
   "cell_type": "markdown",
   "id": "803c0d02",
   "metadata": {},
   "source": [
    "<div class=\"result\" markdown>\n",
    "\n",
    "```txt\n",
    "Product Table: 50\n",
    "```\n",
    "\n",
    "```txt\n",
    "   product_id product_name   price  category  supplier_id\n",
    "0           1    Product 1  257.57      Food            8\n",
    "1           2    Product 2  414.96  Clothing            5\n",
    "2           3    Product 3  166.82  Clothing            8\n",
    "3           4    Product 4  448.81      Food            4\n",
    "4           5    Product 5  200.71      Food            8\n",
    "```\n",
    "\n",
    "|      | product_id | product_name |  price | category | supplier_id |\n",
    "| ---: | ---------: | :----------- | -----: | :------- | ----------: |\n",
    "|    0 |          1 | Product 1    | 257.57 | Food     |           8 |\n",
    "|    1 |          2 | Product 2    | 414.96 | Clothing |           5 |\n",
    "|    2 |          3 | Product 3    | 166.82 | Clothing |           8 |\n",
    "|    3 |          4 | Product 4    | 448.81 | Food     |           4 |\n",
    "|    4 |          5 | Product 5    | 200.71 | Food     |           8 |\n",
    "\n",
    "</div>"
   ]
  },
  {
   "cell_type": "code",
   "execution_count": null,
   "id": "85c79dd0",
   "metadata": {
    "incorrectly_encoded_metadata": "{.sql linenums=\"1\" title=\"Check Customer DataFrame\"}"
   },
   "outputs": [
    {
     "name": "stdout",
     "output_type": "stream",
     "text": [
      "Customer Table: 100\n",
      "   customer_id customer_name         city state      segment\n",
      "0            1    Customer 1      Phoenix    NY    Corporate\n",
      "1            2    Customer 2      Phoenix    CA  Home Office\n",
      "2            3    Customer 3      Phoenix    NY  Home Office\n",
      "3            4    Customer 4  Los Angeles    NY     Consumer\n",
      "4            5    Customer 5  Los Angeles    IL  Home Office\n",
      "|    |   customer_id | customer_name   | city        | state   | segment     |\n",
      "|---:|--------------:|:----------------|:------------|:--------|:------------|\n",
      "|  0 |             1 | Customer 1      | Phoenix     | NY      | Corporate   |\n",
      "|  1 |             2 | Customer 2      | Phoenix     | CA      | Home Office |\n",
      "|  2 |             3 | Customer 3      | Phoenix     | NY      | Home Office |\n",
      "|  3 |             4 | Customer 4      | Los Angeles | NY      | Consumer    |\n",
      "|  4 |             5 | Customer 5      | Los Angeles | IL      | Home Office |\n"
     ]
    }
   ],
   "source": [
    "print(f\"Customer Table: {len(pd.read_sql('SELECT * FROM customer', conn))}\")\n",
    "print(pd.read_sql(\"SELECT * FROM customer LIMIT 5\", conn))\n",
    "print(pd.read_sql(\"SELECT * FROM customer LIMIT 5\", conn).to_markdown())"
   ]
  },
  {
   "cell_type": "markdown",
   "id": "77957f54",
   "metadata": {},
   "source": [
    "<div class=\"result\" markdown>\n",
    "\n",
    "```txt\n",
    "Customer Table: 100\n",
    "```\n",
    "\n",
    "```txt\n",
    "   customer_id customer_name         city state      segment\n",
    "0            1    Customer 1      Phoenix    NY    Corporate\n",
    "1            2    Customer 2      Phoenix    CA  Home Office\n",
    "2            3    Customer 3      Phoenix    NY  Home Office\n",
    "3            4    Customer 4  Los Angeles    NY     Consumer\n",
    "4            5    Customer 5  Los Angeles    IL  Home Office\n",
    "```\n",
    "\n",
    "|      | customer_id | customer_name | city        | state | segment     |\n",
    "| ---: | ----------: | :------------ | :---------- | :---- | :---------- |\n",
    "|    0 |           1 | Customer 1    | Phoenix     | NY    | Corporate   |\n",
    "|    1 |           2 | Customer 2    | Phoenix     | CA    | Home Office |\n",
    "|    2 |           3 | Customer 3    | Phoenix     | NY    | Home Office |\n",
    "|    3 |           4 | Customer 4    | Los Angeles | NY    | Consumer    |\n",
    "|    4 |           5 | Customer 5    | Los Angeles | IL    | Home Office |\n",
    "\n",
    "</div>\n",
    "\n",
    "### PySpark\n",
    "\n",
    "Spark DataFrames are similar to Pandas DataFrames, but they are designed to work with large datasets that do not fit into memory. They can be distributed across a cluster of machines, allowing for parallel processing of data.\n",
    "\n",
    "To create the dataframes in PySpark, we will use the data we generated earlier. We will first create a Spark session, which is the entry point to using PySpark. Then, we will parse the dictionaries into PySpark DataFrames, which will allow us to perform various data manipulation tasks.\n",
    "\n",
    "The PySpark session is created using the [`.builder`][pyspark-builder] method on the [`SparkSession`][pyspark-sparksession] class, which allows us to configure the session with various options such as the application name. The [`.getOrCreate()`][pyspark-getorcreate] method is used to either get an existing session or create a new one if it doesn't exist."
   ]
  },
  {
   "cell_type": "code",
   "execution_count": null,
   "id": "dc76ef77",
   "metadata": {
    "incorrectly_encoded_metadata": "{.pyspark linenums=\"1\" title=\"Create Spark Session\"}"
   },
   "outputs": [
    {
     "name": "stderr",
     "output_type": "stream",
     "text": [
      "25/07/06 12:37:52 WARN Utils: Your hostname, DESKTOP-9MBK3JG resolves to a loopback address: 127.0.1.1; using 10.255.255.254 instead (on interface lo)\n",
      "25/07/06 12:37:52 WARN Utils: Set SPARK_LOCAL_IP if you need to bind to another address\n",
      "Setting default log level to \"WARN\".\n",
      "To adjust logging level use sc.setLogLevel(newLevel). For SparkR, use setLogLevel(newLevel).\n",
      "25/07/06 12:37:53 WARN NativeCodeLoader: Unable to load native-hadoop library for your platform... using builtin-java classes where applicable\n",
      "25/07/06 12:37:55 WARN Utils: Service 'SparkUI' could not bind on port 4040. Attempting port 4041.\n"
     ]
    }
   ],
   "source": [
    "spark: SparkSession = SparkSession.builder.appName(\"SalesAnalysis\").getOrCreate()"
   ]
  },
  {
   "cell_type": "markdown",
   "id": "9638bcf8",
   "metadata": {},
   "source": [
    "Once the Spark session is created, we can create the DataFrames from the dictionaries. We will  use the [`.createDataFrame()`][pyspark-createdataframe] method on the Spark session to convert the dictionaries into PySpark DataFrames. The [`.createDataFrame()`][pyspark-createdataframe] method is expecting the data to be oriented by _row_. Meaning that the data should be in the form of a list of dictionaries, where each dictionary represents a row of data. However, we currently have our data is oriented by _column_, where the dictionarieshave keys as column names and values as lists of data. Therefore, we will first need to convert the dictionaries from _column_ orientation to _row_ orientation. The easiest way to do this is by parse'ing the data to a Pandas DataFrames, and then using that to create our PySpark DataFrames from there.\n",
    "\n",
    "A good description of how to create PySpark DataFrames from Python Dictionaries can be found in the PySpark documentation: [PySpark Create DataFrame From Dictionary][pyspark-create-dataframe-from-dict]."
   ]
  },
  {
   "cell_type": "code",
   "execution_count": null,
   "id": "fc59b1d2",
   "metadata": {
    "incorrectly_encoded_metadata": "{.pyspark linenums=\"1\" title=\"Create DataFrames\"}"
   },
   "outputs": [],
   "source": [
    "df_sales_ps: psDataFrame = spark.createDataFrame(pd.DataFrame(sales_data))\n",
    "df_product_ps: psDataFrame = spark.createDataFrame(pd.DataFrame(product_data))\n",
    "df_customer_ps: psDataFrame = spark.createDataFrame(pd.DataFrame(customer_data))"
   ]
  },
  {
   "cell_type": "markdown",
   "id": "79738a21",
   "metadata": {},
   "source": [
    "Once the data is created, we can check that it has been loaded correctly by displaying the first few rows of each DataFrame. To do this, we will use the [`.show()`][pyspark-show] method to display the first `5` rows of each DataFrame. The [`.show()`][pyspark-show] method is used to display the data in a tabular format, similar to how it would be displayed in a SQL database."
   ]
  },
  {
   "cell_type": "code",
   "execution_count": null,
   "id": "63b17fcc",
   "metadata": {
    "incorrectly_encoded_metadata": "{.pyspark linenums=\"1\" title=\"Check Sales DataFrame\"}"
   },
   "outputs": [
    {
     "name": "stderr",
     "output_type": "stream",
     "text": [
      "                                                                                \r"
     ]
    },
    {
     "name": "stdout",
     "output_type": "stream",
     "text": [
      "Sales DataFrame: 100\n",
      "+-------------------+-----------+----------+-----------+------------+--------+\n",
      "|               date|customer_id|product_id|   category|sales_amount|quantity|\n",
      "+-------------------+-----------+----------+-----------+------------+--------+\n",
      "|2023-01-01 00:00:00|         52|        45|       Food|      490.76|       7|\n",
      "|2023-01-02 00:00:00|         93|        41|Electronics|      453.94|       5|\n",
      "|2023-01-03 00:00:00|         15|        29|       Home|      994.51|       5|\n",
      "|2023-01-04 00:00:00|         72|        15|Electronics|      184.17|       7|\n",
      "|2023-01-05 00:00:00|         61|        45|       Food|       27.89|       9|\n",
      "+-------------------+-----------+----------+-----------+------------+--------+\n",
      "only showing top 5 rows\n",
      "\n",
      "|    | date                |   customer_id |   product_id | category    |   sales_amount |   quantity |\n",
      "|---:|:--------------------|--------------:|-------------:|:------------|---------------:|-----------:|\n",
      "|  0 | 2023-01-01 00:00:00 |            52 |           45 | Food        |         490.76 |          7 |\n",
      "|  1 | 2023-01-02 00:00:00 |            93 |           41 | Electronics |         453.94 |          5 |\n",
      "|  2 | 2023-01-03 00:00:00 |            15 |           29 | Home        |         994.51 |          5 |\n",
      "|  3 | 2023-01-04 00:00:00 |            72 |           15 | Electronics |         184.17 |          7 |\n",
      "|  4 | 2023-01-05 00:00:00 |            61 |           45 | Food        |          27.89 |          9 |\n"
     ]
    }
   ],
   "source": [
    "print(f\"Sales DataFrame: {df_sales_ps.count()}\")\n",
    "df_sales_ps.show(5)\n",
    "print(df_sales_ps.limit(5).toPandas().to_markdown())"
   ]
  },
  {
   "cell_type": "markdown",
   "id": "d79fb1ac",
   "metadata": {},
   "source": [
    "<div class=\"result\" markdown>\n",
    "\n",
    "```txt\n",
    "Sales DataFrame: 100\n",
    "```\n",
    "\n",
    "```txt\n",
    "+-------------------+-----------+----------+-----------+------------+--------+\n",
    "|               date|customer_id|product_id|   category|sales_amount|quantity|\n",
    "+-------------------+-----------+----------+-----------+------------+--------+\n",
    "|2023-01-01 00:00:00|         52|        45|       Food|      490.76|       7|\n",
    "|2023-01-02 00:00:00|         93|        41|Electronics|      453.94|       5|\n",
    "|2023-01-03 00:00:00|         15|        29|       Home|      994.51|       5|\n",
    "|2023-01-04 00:00:00|         72|        15|Electronics|      184.17|       7|\n",
    "|2023-01-05 00:00:00|         61|        45|       Food|       27.89|       9|\n",
    "+-------------------+-----------+----------+-----------+------------+--------+\n",
    "only showing top 10 rows\n",
    "```\n",
    "\n",
    "|      | date                | customer_id | product_id | category    | sales_amount | quantity |\n",
    "| ---: | :------------------ | ----------: | ---------: | :---------- | -----------: | -------: |\n",
    "|    0 | 2023-01-01 00:00:00 |          52 |         45 | Food        |       490.76 |        7 |\n",
    "|    1 | 2023-01-02 00:00:00 |          93 |         41 | Electronics |       453.94 |        5 |\n",
    "|    2 | 2023-01-03 00:00:00 |          15 |         29 | Home        |       994.51 |        5 |\n",
    "|    3 | 2023-01-04 00:00:00 |          72 |         15 | Electronics |       184.17 |        7 |\n",
    "|    4 | 2023-01-05 00:00:00 |          61 |         45 | Food        |        27.89 |        9 |\n",
    "\n",
    "</div>"
   ]
  },
  {
   "cell_type": "code",
   "execution_count": null,
   "id": "f81d4aa6",
   "metadata": {
    "incorrectly_encoded_metadata": "{.pyspark linenums=\"1\" title=\"Check Product DataFrame\"}"
   },
   "outputs": [
    {
     "name": "stdout",
     "output_type": "stream",
     "text": [
      "Product DataFrame: 50\n",
      "+----------+------------+------+--------+-----------+\n",
      "|product_id|product_name| price|category|supplier_id|\n",
      "+----------+------------+------+--------+-----------+\n",
      "|         1|   Product 1|257.57|    Food|          8|\n",
      "|         2|   Product 2|414.96|Clothing|          5|\n",
      "|         3|   Product 3|166.82|Clothing|          8|\n",
      "|         4|   Product 4|448.81|    Food|          4|\n",
      "|         5|   Product 5|200.71|    Food|          8|\n",
      "+----------+------------+------+--------+-----------+\n",
      "only showing top 5 rows\n",
      "\n",
      "|    |   product_id | product_name   |   price | category   |   supplier_id |\n",
      "|---:|-------------:|:---------------|--------:|:-----------|--------------:|\n",
      "|  0 |            1 | Product 1      |  257.57 | Food       |             8 |\n",
      "|  1 |            2 | Product 2      |  414.96 | Clothing   |             5 |\n",
      "|  2 |            3 | Product 3      |  166.82 | Clothing   |             8 |\n",
      "|  3 |            4 | Product 4      |  448.81 | Food       |             4 |\n",
      "|  4 |            5 | Product 5      |  200.71 | Food       |             8 |\n"
     ]
    }
   ],
   "source": [
    "print(f\"Product DataFrame: {df_product_ps.count()}\")\n",
    "df_product_ps.show(5)\n",
    "print(df_product_ps.limit(5).toPandas().to_markdown())"
   ]
  },
  {
   "cell_type": "markdown",
   "id": "4d8a23b5",
   "metadata": {},
   "source": [
    "<div class=\"result\" markdown>\n",
    "\n",
    "```txt\n",
    "Product DataFrame: 50\n",
    "```\n",
    "\n",
    "```txt\n",
    "+----------+------------+------+--------+-----------+\n",
    "|product_id|product_name| price|category|supplier_id|\n",
    "+----------+------------+------+--------+-----------+\n",
    "|         1|   Product 1|257.57|    Food|          8|\n",
    "|         2|   Product 2|414.96|Clothing|          5|\n",
    "|         3|   Product 3|166.82|Clothing|          8|\n",
    "|         4|   Product 4|448.81|    Food|          4|\n",
    "|         5|   Product 5|200.71|    Food|          8|\n",
    "+----------+------------+------+--------+-----------+\n",
    "only showing top 5 rows\n",
    "```\n",
    "\n",
    "|      | product_id | product_name |  price | category | supplier_id |\n",
    "| ---: | ---------: | :----------- | -----: | :------- | ----------: |\n",
    "|    0 |          1 | Product 1    | 257.57 | Food     |           8 |\n",
    "|    1 |          2 | Product 2    | 414.96 | Clothing |           5 |\n",
    "|    2 |          3 | Product 3    | 166.82 | Clothing |           8 |\n",
    "|    3 |          4 | Product 4    | 448.81 | Food     |           4 |\n",
    "|    4 |          5 | Product 5    | 200.71 | Food     |           8 |\n",
    "\n",
    "</div>"
   ]
  },
  {
   "cell_type": "code",
   "execution_count": null,
   "id": "b1ef57d0",
   "metadata": {
    "incorrectly_encoded_metadata": "{.pyspark linenums=\"1\" title=\"Check Customer DataFrame\"}"
   },
   "outputs": [
    {
     "name": "stdout",
     "output_type": "stream",
     "text": [
      "Customer DataFrame: 100\n",
      "+-----------+-------------+-----------+-----+-----------+\n",
      "|customer_id|customer_name|       city|state|    segment|\n",
      "+-----------+-------------+-----------+-----+-----------+\n",
      "|          1|   Customer 1|    Phoenix|   NY|  Corporate|\n",
      "|          2|   Customer 2|    Phoenix|   CA|Home Office|\n",
      "|          3|   Customer 3|    Phoenix|   NY|Home Office|\n",
      "|          4|   Customer 4|Los Angeles|   NY|   Consumer|\n",
      "|          5|   Customer 5|Los Angeles|   IL|Home Office|\n",
      "+-----------+-------------+-----------+-----+-----------+\n",
      "only showing top 5 rows\n",
      "\n",
      "|    |   customer_id | customer_name   | city        | state   | segment     |\n",
      "|---:|--------------:|:----------------|:------------|:--------|:------------|\n",
      "|  0 |             1 | Customer 1      | Phoenix     | NY      | Corporate   |\n",
      "|  1 |             2 | Customer 2      | Phoenix     | CA      | Home Office |\n",
      "|  2 |             3 | Customer 3      | Phoenix     | NY      | Home Office |\n",
      "|  3 |             4 | Customer 4      | Los Angeles | NY      | Consumer    |\n",
      "|  4 |             5 | Customer 5      | Los Angeles | IL      | Home Office |\n"
     ]
    }
   ],
   "source": [
    "print(f\"Customer DataFrame: {df_customer_ps.count()}\")\n",
    "df_customer_ps.show(5)\n",
    "print(df_customer_ps.limit(5).toPandas().to_markdown())"
   ]
  },
  {
   "cell_type": "markdown",
   "id": "82bcaa16",
   "metadata": {},
   "source": [
    "<div class=\"result\" markdown>\n",
    "\n",
    "```txt\n",
    "Customer DataFrame: 100\n",
    "```\n",
    "\n",
    "```txt\n",
    "+-----------+-------------+-----------+-----+-----------+\n",
    "|customer_id|customer_name|       city|state|    segment|\n",
    "+-----------+-------------+-----------+-----+-----------+\n",
    "|          1|   Customer 1|    Phoenix|   NY|  Corporate|\n",
    "|          2|   Customer 2|    Phoenix|   CA|Home Office|\n",
    "|          3|   Customer 3|    Phoenix|   NY|Home Office|\n",
    "|          4|   Customer 4|Los Angeles|   NY|   Consumer|\n",
    "|          5|   Customer 5|Los Angeles|   IL|Home Office|\n",
    "+-----------+-------------+-----------+-----+-----------+\n",
    "only showing top 5 rows\n",
    "```\n",
    "\n",
    "|      | customer_id | customer_name | city        | state | segment     |\n",
    "| ---: | ----------: | :------------ | :---------- | :---- | :---------- |\n",
    "|    0 |           1 | Customer 1    | Phoenix     | NY    | Corporate   |\n",
    "|    1 |           2 | Customer 2    | Phoenix     | CA    | Home Office |\n",
    "|    2 |           3 | Customer 3    | Phoenix     | NY    | Home Office |\n",
    "|    3 |           4 | Customer 4    | Los Angeles | NY    | Consumer    |\n",
    "|    4 |           5 | Customer 5    | Los Angeles | IL    | Home Office |\n",
    "\n",
    "</div>\n",
    "\n",
    "### Polars\n",
    "\n",
    "To create the dataframes in Polars, we will use the data we generated earlier. We will parse the dictionaries into Polars DataFrames, which will allow us to perform various data manipulation tasks."
   ]
  },
  {
   "cell_type": "code",
   "execution_count": null,
   "id": "719c9991",
   "metadata": {
    "incorrectly_encoded_metadata": "{.polars linenums=\"1\" title=\"Create DataFrames\"}"
   },
   "outputs": [],
   "source": [
    "df_sales_pl: pl.DataFrame = pl.DataFrame(sales_data)\n",
    "df_product_pl: pl.DataFrame = pl.DataFrame(product_data)\n",
    "df_customer_pl: pl.DataFrame = pl.DataFrame(customer_data)"
   ]
  },
  {
   "cell_type": "markdown",
   "id": "a47a3b8f",
   "metadata": {},
   "source": [
    "Once the data is created, we can check that it has been loaded correctly by displaying the first few rows of each DataFrame. To do this, we will use the [`.head()`][polars-head] method to display the first `5` rows of each DataFrame, and then parse to the [`print()`][python-print] function to display the DataFrame in a readable format."
   ]
  },
  {
   "cell_type": "code",
   "execution_count": null,
   "id": "4cdff3f9",
   "metadata": {
    "incorrectly_encoded_metadata": "{.polars linenums=\"1\" title=\"Check Sales DataFrame\"}"
   },
   "outputs": [
    {
     "name": "stdout",
     "output_type": "stream",
     "text": [
      "Sales DataFrame: 100\n",
      "shape: (5, 6)\n",
      "┌─────────────────────┬─────────────┬────────────┬─────────────┬──────────────┬──────────┐\n",
      "│ date                ┆ customer_id ┆ product_id ┆ category    ┆ sales_amount ┆ quantity │\n",
      "│ ---                 ┆ ---         ┆ ---        ┆ ---         ┆ ---          ┆ ---      │\n",
      "│ datetime[ns]        ┆ i64         ┆ i64        ┆ str         ┆ f64          ┆ i64      │\n",
      "╞═════════════════════╪═════════════╪════════════╪═════════════╪══════════════╪══════════╡\n",
      "│ 2023-01-01 00:00:00 ┆ 52          ┆ 45         ┆ Food        ┆ 490.76       ┆ 7        │\n",
      "│ 2023-01-02 00:00:00 ┆ 93          ┆ 41         ┆ Electronics ┆ 453.94       ┆ 5        │\n",
      "│ 2023-01-03 00:00:00 ┆ 15          ┆ 29         ┆ Home        ┆ 994.51       ┆ 5        │\n",
      "│ 2023-01-04 00:00:00 ┆ 72          ┆ 15         ┆ Electronics ┆ 184.17       ┆ 7        │\n",
      "│ 2023-01-05 00:00:00 ┆ 61          ┆ 45         ┆ Food        ┆ 27.89        ┆ 9        │\n",
      "└─────────────────────┴─────────────┴────────────┴─────────────┴──────────────┴──────────┘\n",
      "|    | date                |   customer_id |   product_id | category    |   sales_amount |   quantity |\n",
      "|---:|:--------------------|--------------:|-------------:|:------------|---------------:|-----------:|\n",
      "|  0 | 2023-01-01 00:00:00 |            52 |           45 | Food        |         490.76 |          7 |\n",
      "|  1 | 2023-01-02 00:00:00 |            93 |           41 | Electronics |         453.94 |          5 |\n",
      "|  2 | 2023-01-03 00:00:00 |            15 |           29 | Home        |         994.51 |          5 |\n",
      "|  3 | 2023-01-04 00:00:00 |            72 |           15 | Electronics |         184.17 |          7 |\n",
      "|  4 | 2023-01-05 00:00:00 |            61 |           45 | Food        |          27.89 |          9 |\n"
     ]
    }
   ],
   "source": [
    "print(f\"Sales DataFrame: {df_sales_pl.shape[0]}\")\n",
    "print(df_sales_pl.head(5))\n",
    "print(df_sales_pl.head(5).to_pandas().to_markdown())"
   ]
  },
  {
   "cell_type": "markdown",
   "id": "68910c0d",
   "metadata": {},
   "source": [
    "<div class=\"result\" markdown>\n",
    "\n",
    "```txt\n",
    "Sales DataFrame: 100\n",
    "```\n",
    "\n",
    "```txt\n",
    "shape: (5, 6)\n",
    "┌─────────────────────┬─────────────┬────────────┬─────────────┬──────────────┬──────────┐\n",
    "│ date                ┆ customer_id ┆ product_id ┆ category    ┆ sales_amount ┆ quantity │\n",
    "│ ---                 ┆ ---         ┆ ---        ┆ ---         ┆ ---          ┆ ---      │\n",
    "│ datetime[ns]        ┆ i64         ┆ i64        ┆ str         ┆ f64          ┆ i64      │\n",
    "╞═════════════════════╪═════════════╪════════════╪═════════════╪══════════════╪══════════╡\n",
    "│ 2023-01-01 00:00:00 ┆ 52          ┆ 45         ┆ Food        ┆ 490.76       ┆ 7        │\n",
    "│ 2023-01-02 00:00:00 ┆ 93          ┆ 41         ┆ Electronics ┆ 453.94       ┆ 5        │\n",
    "│ 2023-01-03 00:00:00 ┆ 15          ┆ 29         ┆ Home        ┆ 994.51       ┆ 5        │\n",
    "│ 2023-01-04 00:00:00 ┆ 72          ┆ 15         ┆ Electronics ┆ 184.17       ┆ 7        │\n",
    "│ 2023-01-05 00:00:00 ┆ 61          ┆ 45         ┆ Food        ┆ 27.89        ┆ 9        │\n",
    "└─────────────────────┴─────────────┴────────────┴─────────────┴──────────────┴──────────┘\n",
    "```\n",
    "\n",
    "|      | date                | customer_id | product_id | category    | sales_amount | quantity |\n",
    "| ---: | :------------------ | ----------: | ---------: | :---------- | -----------: | -------: |\n",
    "|    0 | 2023-01-01 00:00:00 |          52 |         45 | Food        |       490.76 |        7 |\n",
    "|    1 | 2023-01-02 00:00:00 |          93 |         41 | Electronics |       453.94 |        5 |\n",
    "|    2 | 2023-01-03 00:00:00 |          15 |         29 | Home        |       994.51 |        5 |\n",
    "|    3 | 2023-01-04 00:00:00 |          72 |         15 | Electronics |       184.17 |        7 |\n",
    "|    4 | 2023-01-05 00:00:00 |          61 |         45 | Food        |        27.89 |        9 |\n",
    "\n",
    "</div>"
   ]
  },
  {
   "cell_type": "code",
   "execution_count": null,
   "id": "99695af6",
   "metadata": {
    "incorrectly_encoded_metadata": "{.polars linenums=\"1\" title=\"Check Product DataFrame\"}"
   },
   "outputs": [
    {
     "name": "stdout",
     "output_type": "stream",
     "text": [
      "Product DataFrame: 50\n",
      "shape: (5, 5)\n",
      "┌────────────┬──────────────┬────────┬──────────┬─────────────┐\n",
      "│ product_id ┆ product_name ┆ price  ┆ category ┆ supplier_id │\n",
      "│ ---        ┆ ---          ┆ ---    ┆ ---      ┆ ---         │\n",
      "│ i64        ┆ str          ┆ f64    ┆ str      ┆ i64         │\n",
      "╞════════════╪══════════════╪════════╪══════════╪═════════════╡\n",
      "│ 1          ┆ Product 1    ┆ 257.57 ┆ Food     ┆ 8           │\n",
      "│ 2          ┆ Product 2    ┆ 414.96 ┆ Clothing ┆ 5           │\n",
      "│ 3          ┆ Product 3    ┆ 166.82 ┆ Clothing ┆ 8           │\n",
      "│ 4          ┆ Product 4    ┆ 448.81 ┆ Food     ┆ 4           │\n",
      "│ 5          ┆ Product 5    ┆ 200.71 ┆ Food     ┆ 8           │\n",
      "└────────────┴──────────────┴────────┴──────────┴─────────────┘\n",
      "|    |   product_id | product_name   |   price | category   |   supplier_id |\n",
      "|---:|-------------:|:---------------|--------:|:-----------|--------------:|\n",
      "|  0 |            1 | Product 1      |  257.57 | Food       |             8 |\n",
      "|  1 |            2 | Product 2      |  414.96 | Clothing   |             5 |\n",
      "|  2 |            3 | Product 3      |  166.82 | Clothing   |             8 |\n",
      "|  3 |            4 | Product 4      |  448.81 | Food       |             4 |\n",
      "|  4 |            5 | Product 5      |  200.71 | Food       |             8 |\n"
     ]
    }
   ],
   "source": [
    "print(f\"Product DataFrame: {df_product_pl.shape[0]}\")\n",
    "print(df_product_pl.head(5))\n",
    "print(df_product_pl.head(5).to_pandas().to_markdown())"
   ]
  },
  {
   "cell_type": "markdown",
   "id": "ce34c983",
   "metadata": {},
   "source": [
    "<div class=\"result\" markdown>\n",
    "\n",
    "```txt\n",
    "Product DataFrame: 50\n",
    "```\n",
    "\n",
    "```txt\n",
    "shape: (5, 5)\n",
    "┌────────────┬──────────────┬────────┬──────────┬─────────────┐\n",
    "│ product_id ┆ product_name ┆ price  ┆ category ┆ supplier_id │\n",
    "│ ---        ┆ ---          ┆ ---    ┆ ---      ┆ ---         │\n",
    "│ i64        ┆ str          ┆ f64    ┆ str      ┆ i64         │\n",
    "╞════════════╪══════════════╪════════╪══════════╪═════════════╡\n",
    "│ 1          ┆ Product 1    ┆ 257.57 ┆ Food     ┆ 8           │\n",
    "│ 2          ┆ Product 2    ┆ 414.96 ┆ Clothing ┆ 5           │\n",
    "│ 3          ┆ Product 3    ┆ 166.82 ┆ Clothing ┆ 8           │\n",
    "│ 4          ┆ Product 4    ┆ 448.81 ┆ Food     ┆ 4           │\n",
    "│ 5          ┆ Product 5    ┆ 200.71 ┆ Food     ┆ 8           │\n",
    "└────────────┴──────────────┴────────┴──────────┴─────────────┘\n",
    "```\n",
    "\n",
    "|      | product_id | product_name |  price | category | supplier_id |\n",
    "| ---: | ---------: | :----------- | -----: | :------- | ----------: |\n",
    "|    0 |          1 | Product 1    | 257.57 | Food     |           8 |\n",
    "|    1 |          2 | Product 2    | 414.96 | Clothing |           5 |\n",
    "|    2 |          3 | Product 3    | 166.82 | Clothing |           8 |\n",
    "|    3 |          4 | Product 4    | 448.81 | Food     |           4 |\n",
    "|    4 |          5 | Product 5    | 200.71 | Food     |           8 |\n",
    "\n",
    "</div>"
   ]
  },
  {
   "cell_type": "code",
   "execution_count": null,
   "id": "571d8d25",
   "metadata": {
    "incorrectly_encoded_metadata": "{.polars linenums=\"1\" title=\"Check Customer DataFrame\"}"
   },
   "outputs": [
    {
     "name": "stdout",
     "output_type": "stream",
     "text": [
      "Customer DataFrame: 100\n",
      "shape: (5, 5)\n",
      "┌─────────────┬───────────────┬─────────────┬───────┬─────────────┐\n",
      "│ customer_id ┆ customer_name ┆ city        ┆ state ┆ segment     │\n",
      "│ ---         ┆ ---           ┆ ---         ┆ ---   ┆ ---         │\n",
      "│ i64         ┆ str           ┆ str         ┆ str   ┆ str         │\n",
      "╞═════════════╪═══════════════╪═════════════╪═══════╪═════════════╡\n",
      "│ 1           ┆ Customer 1    ┆ Phoenix     ┆ NY    ┆ Corporate   │\n",
      "│ 2           ┆ Customer 2    ┆ Phoenix     ┆ CA    ┆ Home Office │\n",
      "│ 3           ┆ Customer 3    ┆ Phoenix     ┆ NY    ┆ Home Office │\n",
      "│ 4           ┆ Customer 4    ┆ Los Angeles ┆ NY    ┆ Consumer    │\n",
      "│ 5           ┆ Customer 5    ┆ Los Angeles ┆ IL    ┆ Home Office │\n",
      "└─────────────┴───────────────┴─────────────┴───────┴─────────────┘\n",
      "|    |   customer_id | customer_name   | city        | state   | segment     |\n",
      "|---:|--------------:|:----------------|:------------|:--------|:------------|\n",
      "|  0 |             1 | Customer 1      | Phoenix     | NY      | Corporate   |\n",
      "|  1 |             2 | Customer 2      | Phoenix     | CA      | Home Office |\n",
      "|  2 |             3 | Customer 3      | Phoenix     | NY      | Home Office |\n",
      "|  3 |             4 | Customer 4      | Los Angeles | NY      | Consumer    |\n",
      "|  4 |             5 | Customer 5      | Los Angeles | IL      | Home Office |\n"
     ]
    }
   ],
   "source": [
    "print(f\"Customer DataFrame: {df_customer_pl.shape[0]}\")\n",
    "print(df_customer_pl.head(5))\n",
    "print(df_customer_pl.head(5).to_pandas().to_markdown())"
   ]
  },
  {
   "cell_type": "markdown",
   "id": "c8940c47",
   "metadata": {},
   "source": [
    "<div class=\"result\" markdown>\n",
    "\n",
    "```txt\n",
    "Customer DataFrame: 100\n",
    "```\n",
    "\n",
    "```txt\n",
    "shape: (5, 5)\n",
    "┌─────────────┬───────────────┬─────────────┬───────┬─────────────┐\n",
    "│ customer_id ┆ customer_name ┆ city        ┆ state ┆ segment     │\n",
    "│ ---         ┆ ---           ┆ ---         ┆ ---   ┆ ---         │\n",
    "│ i64         ┆ str           ┆ str         ┆ str   ┆ str         │\n",
    "╞═════════════╪═══════════════╪═════════════╪═══════╪═════════════╡\n",
    "│ 1           ┆ Customer 1    ┆ Phoenix     ┆ NY    ┆ Corporate   │\n",
    "│ 2           ┆ Customer 2    ┆ Phoenix     ┆ CA    ┆ Home Office │\n",
    "│ 3           ┆ Customer 3    ┆ Phoenix     ┆ NY    ┆ Home Office │\n",
    "│ 4           ┆ Customer 4    ┆ Los Angeles ┆ NY    ┆ Consumer    │\n",
    "│ 5           ┆ Customer 5    ┆ Los Angeles ┆ IL    ┆ Home Office │\n",
    "└─────────────┴───────────────┴─────────────┴───────┴─────────────┘\n",
    "```\n",
    "\n",
    "|      | customer_id | customer_name | city        | state | segment     |\n",
    "| ---: | ----------: | :------------ | :---------- | :---- | :---------- |\n",
    "|    0 |           1 | Customer 1    | Phoenix     | NY    | Corporate   |\n",
    "|    1 |           2 | Customer 2    | Phoenix     | CA    | Home Office |\n",
    "|    2 |           3 | Customer 3    | Phoenix     | NY    | Home Office |\n",
    "|    3 |           4 | Customer 4    | Los Angeles | NY    | Consumer    |\n",
    "|    4 |           5 | Customer 5    | Los Angeles | IL    | Home Office |\n",
    "\n",
    "</div>"
   ]
  },
  {
   "cell_type": "markdown",
   "id": "c2d56a1a",
   "metadata": {},
   "source": [
    "## 1. Filtering and Selecting\n",
    "\n",
    "This first section will demonstrate how to filter and select data from the DataFrames. This is a common operation in data analysis, allowing us to focus on specific subsets of the data.\n",
    "\n",
    "### Pandas\n",
    "\n",
    "In Pandas, we can use boolean indexing to filter rows based on specific conditions. As you can see in this first example, this looks like using square brackets, within which we define a column and a condition. In the below example, we can use string values to filter categorical data.\n",
    "\n",
    "For more information about filtering in Pandas, see the [Pandas documentation on filtering][pandas-subsetting]."
   ]
  },
  {
   "cell_type": "code",
   "execution_count": null,
   "id": "e639f884",
   "metadata": {
    "incorrectly_encoded_metadata": "{.pandas linenums=\"1\" title=\"Filter sales data for specific category\"}"
   },
   "outputs": [
    {
     "name": "stdout",
     "output_type": "stream",
     "text": [
      "Number of Electronics Sales: 28\n",
      "         date  customer_id  product_id     category  sales_amount  quantity\n",
      "1  2023-01-02           93          41  Electronics        453.94         5\n",
      "3  2023-01-04           72          15  Electronics        184.17         7\n",
      "8  2023-01-09           75           9  Electronics        746.73         2\n",
      "10 2023-01-11           88           1  Electronics        314.98         9\n",
      "11 2023-01-12           24          44  Electronics        547.11         8\n",
      "|    | date                |   customer_id |   product_id | category    |   sales_amount |   quantity |\n",
      "|---:|:--------------------|--------------:|-------------:|:------------|---------------:|-----------:|\n",
      "|  1 | 2023-01-02 00:00:00 |            93 |           41 | Electronics |         453.94 |          5 |\n",
      "|  3 | 2023-01-04 00:00:00 |            72 |           15 | Electronics |         184.17 |          7 |\n",
      "|  8 | 2023-01-09 00:00:00 |            75 |            9 | Electronics |         746.73 |          2 |\n",
      "| 10 | 2023-01-11 00:00:00 |            88 |            1 | Electronics |         314.98 |          9 |\n",
      "| 11 | 2023-01-12 00:00:00 |            24 |           44 | Electronics |         547.11 |          8 |\n"
     ]
    }
   ],
   "source": [
    "electronics_sales_pd: pd.DataFrame = df_sales_pd[df_sales_pd[\"category\"] == \"Electronics\"]\n",
    "print(f\"Number of Electronics Sales: {len(electronics_sales_pd)}\")\n",
    "print(electronics_sales_pd.head(5))\n",
    "print(electronics_sales_pd.head(5).to_markdown())"
   ]
  },
  {
   "cell_type": "markdown",
   "id": "eb5160aa",
   "metadata": {},
   "source": [
    "<div class=\"result\" markdown>\n",
    "\n",
    "```txt\n",
    "Number of Electronics Sales: 28\n",
    "```\n",
    "\n",
    "```txt\n",
    "         date  customer_id  product_id     category  sales_amount  quantity\n",
    "1  2023-01-02           93          41  Electronics        453.94         5\n",
    "3  2023-01-04           72          15  Electronics        184.17         7\n",
    "8  2023-01-09           75           9  Electronics        746.73         2\n",
    "10 2023-01-11           88           1  Electronics        314.98         9\n",
    "11 2023-01-12           24          44  Electronics        547.11         8\n",
    "```\n",
    "\n",
    "|      | date                | customer_id | product_id | category    | sales_amount | quantity |\n",
    "| ---: | :------------------ | ----------: | ---------: | :---------- | -----------: | -------: |\n",
    "|    1 | 2023-01-02 00:00:00 |          93 |         41 | Electronics |       453.94 |        5 |\n",
    "|    3 | 2023-01-04 00:00:00 |          72 |         15 | Electronics |       184.17 |        7 |\n",
    "|    8 | 2023-01-09 00:00:00 |          75 |          9 | Electronics |       746.73 |        2 |\n",
    "|   10 | 2023-01-11 00:00:00 |          88 |          1 | Electronics |       314.98 |        9 |\n",
    "|   11 | 2023-01-12 00:00:00 |          24 |         44 | Electronics |       547.11 |        8 |\n",
    "\n",
    "</div>\n",
    "\n",
    "### SQL\n",
    "\n",
    "In SQL, we can use the `WHERE` clause to filter rows based on specific conditions. The syntax should be very familiar to anyone who has worked with SQL before. We can use the [`pd.read_sql()`][pandas-read_sql] function to execute SQL queries and retrieve the data from the database. The result is a Pandas DataFrame that contains only the rows that match the specified condition. In the below example, we filter for sales in the \"Electronics\" category.\n",
    "\n",
    "For more information about filtering in SQL, see the [SQL WHERE clause documentation][sqlite-where]."
   ]
  },
  {
   "cell_type": "code",
   "execution_count": null,
   "id": "a6ee617d",
   "metadata": {
    "incorrectly_encoded_metadata": "{.sql linenums=\"1\" title=\"Filter sales for a specific category\"}"
   },
   "outputs": [
    {
     "name": "stdout",
     "output_type": "stream",
     "text": [
      "Number of Electronics Sales: 28\n",
      "                  date  customer_id  product_id     category  sales_amount  \\\n",
      "0  2023-01-02 00:00:00           93          41  Electronics        453.94   \n",
      "1  2023-01-04 00:00:00           72          15  Electronics        184.17   \n",
      "2  2023-01-09 00:00:00           75           9  Electronics        746.73   \n",
      "3  2023-01-11 00:00:00           88           1  Electronics        314.98   \n",
      "4  2023-01-12 00:00:00           24          44  Electronics        547.11   \n",
      "\n",
      "   quantity  \n",
      "0         5  \n",
      "1         7  \n",
      "2         2  \n",
      "3         9  \n",
      "4         8  \n",
      "|    | date                |   customer_id |   product_id | category    |   sales_amount |   quantity |\n",
      "|---:|:--------------------|--------------:|-------------:|:------------|---------------:|-----------:|\n",
      "|  0 | 2023-01-02 00:00:00 |            93 |           41 | Electronics |         453.94 |          5 |\n",
      "|  1 | 2023-01-04 00:00:00 |            72 |           15 | Electronics |         184.17 |          7 |\n",
      "|  2 | 2023-01-09 00:00:00 |            75 |            9 | Electronics |         746.73 |          2 |\n",
      "|  3 | 2023-01-11 00:00:00 |            88 |            1 | Electronics |         314.98 |          9 |\n",
      "|  4 | 2023-01-12 00:00:00 |            24 |           44 | Electronics |         547.11 |          8 |\n"
     ]
    }
   ],
   "source": [
    "electronics_sales_txt: str = \"\"\"\n",
    "    SELECT *\n",
    "    FROM sales\n",
    "    WHERE category = 'Electronics'\n",
    "\"\"\"\n",
    "electronics_sales_sql: pd.DataFrame = pd.read_sql(electronics_sales_txt, conn)\n",
    "print(f\"Number of Electronics Sales: {len(electronics_sales_sql)}\")\n",
    "print(pd.read_sql(electronics_sales_txt + \"LIMIT 5\", conn))\n",
    "print(pd.read_sql(electronics_sales_txt + \"LIMIT 5\", conn).to_markdown())"
   ]
  },
  {
   "cell_type": "markdown",
   "id": "7b88825b",
   "metadata": {},
   "source": [
    "<div class=\"result\" markdown>\n",
    "\n",
    "```txt\n",
    "Number of Electronics Sales: 28\n",
    "```\n",
    "\n",
    "```txt\n",
    "                  date  customer_id  product_id     category  sales_amount  quantity\n",
    "0  2023-01-02 00:00:00           93          41  Electronics        453.94         5\n",
    "1  2023-01-04 00:00:00           72          15  Electronics        184.17         7\n",
    "2  2023-01-09 00:00:00           75           9  Electronics        746.73         2\n",
    "3  2023-01-11 00:00:00           88           1  Electronics        314.98         9\n",
    "4  2023-01-12 00:00:00           24          44  Electronics        547.11         8\n",
    "```\n",
    "\n",
    "|      | date                | customer_id | product_id | category    | sales_amount | quantity |\n",
    "| ---: | :------------------ | ----------: | ---------: | :---------- | -----------: | -------: |\n",
    "|    0 | 2023-01-02 00:00:00 |          93 |         41 | Electronics |       453.94 |        5 |\n",
    "|    1 | 2023-01-04 00:00:00 |          72 |         15 | Electronics |       184.17 |        7 |\n",
    "|    2 | 2023-01-09 00:00:00 |          75 |          9 | Electronics |       746.73 |        2 |\n",
    "|    3 | 2023-01-11 00:00:00 |          88 |          1 | Electronics |       314.98 |        9 |\n",
    "|    4 | 2023-01-12 00:00:00 |          24 |         44 | Electronics |       547.11 |        8 |\n",
    "\n",
    "</div>\n",
    "\n",
    "### PySpark\n",
    "\n",
    "In PySpark, we can use the [`.filter()`][pyspark-filter] (or the [`.where()`][pyspark-where]) method to filter rows based on specific conditions. This process is effectively doing a boolean indexing operation to filter the DataFrame. The syntax is similar to SQL, where we can specify the condition as a string or using column expressions. In the below example, we filter for sales in the \"Electronics\" category.\n",
    "\n",
    "For more information about filtering in PySpark, see the [PySpark documentation on filtering][pyspark-filtering]."
   ]
  },
  {
   "cell_type": "code",
   "execution_count": null,
   "id": "a7217f37",
   "metadata": {
    "incorrectly_encoded_metadata": "{.pyspark linenums=\"1\" title=\"Filter sales for a specific category\"}"
   },
   "outputs": [
    {
     "name": "stdout",
     "output_type": "stream",
     "text": [
      "Number of Electronics Sales: 28\n",
      "+-------------------+-----------+----------+-----------+------------+--------+\n",
      "|               date|customer_id|product_id|   category|sales_amount|quantity|\n",
      "+-------------------+-----------+----------+-----------+------------+--------+\n",
      "|2023-01-02 00:00:00|         93|        41|Electronics|      453.94|       5|\n",
      "|2023-01-04 00:00:00|         72|        15|Electronics|      184.17|       7|\n",
      "|2023-01-09 00:00:00|         75|         9|Electronics|      746.73|       2|\n",
      "|2023-01-11 00:00:00|         88|         1|Electronics|      314.98|       9|\n",
      "|2023-01-12 00:00:00|         24|        44|Electronics|      547.11|       8|\n",
      "+-------------------+-----------+----------+-----------+------------+--------+\n",
      "only showing top 5 rows\n",
      "\n",
      "|    | date                |   customer_id |   product_id | category    |   sales_amount |   quantity |\n",
      "|---:|:--------------------|--------------:|-------------:|:------------|---------------:|-----------:|\n",
      "|  0 | 2023-01-02 00:00:00 |            93 |           41 | Electronics |         453.94 |          5 |\n",
      "|  1 | 2023-01-04 00:00:00 |            72 |           15 | Electronics |         184.17 |          7 |\n",
      "|  2 | 2023-01-09 00:00:00 |            75 |            9 | Electronics |         746.73 |          2 |\n",
      "|  3 | 2023-01-11 00:00:00 |            88 |            1 | Electronics |         314.98 |          9 |\n",
      "|  4 | 2023-01-12 00:00:00 |            24 |           44 | Electronics |         547.11 |          8 |\n"
     ]
    }
   ],
   "source": [
    "electronics_sales_ps: psDataFrame = df_sales_ps.filter(df_sales_ps[\"category\"] == \"Electronics\")\n",
    "print(f\"Number of Electronics Sales: {electronics_sales_ps.count()}\")\n",
    "electronics_sales_ps.show(5)\n",
    "print(electronics_sales_ps.limit(5).toPandas().to_markdown())"
   ]
  },
  {
   "cell_type": "markdown",
   "id": "0e6e5654",
   "metadata": {},
   "source": [
    "<div class=\"result\" markdown>\n",
    "\n",
    "```txt\n",
    "Number of Electronics Sales: 28\n",
    "```\n",
    "\n",
    "```txt\n",
    "+-------------------+-----------+----------+-----------+------------+--------+\n",
    "|               date|customer_id|product_id|   category|sales_amount|quantity|\n",
    "+-------------------+-----------+----------+-----------+------------+--------+\n",
    "|2023-01-02 00:00:00|         93|        41|Electronics|      453.94|       5|\n",
    "|2023-01-04 00:00:00|         72|        15|Electronics|      184.17|       7|\n",
    "|2023-01-09 00:00:00|         75|         9|Electronics|      746.73|       2|\n",
    "|2023-01-11 00:00:00|         88|         1|Electronics|      314.98|       9|\n",
    "|2023-01-12 00:00:00|         24|        44|Electronics|      547.11|       8|\n",
    "+-------------------+-----------+----------+-----------+------------+--------+\n",
    "only showing top 5 rows\n",
    "```\n",
    "\n",
    "|      | date                | customer_id | product_id | category    | sales_amount | quantity |\n",
    "| ---: | :------------------ | ----------: | ---------: | :---------- | -----------: | -------: |\n",
    "|    0 | 2023-01-02 00:00:00 |          93 |         41 | Electronics |       453.94 |        5 |\n",
    "|    1 | 2023-01-04 00:00:00 |          72 |         15 | Electronics |       184.17 |        7 |\n",
    "|    2 | 2023-01-09 00:00:00 |          75 |          9 | Electronics |       746.73 |        2 |\n",
    "|    3 | 2023-01-11 00:00:00 |          88 |          1 | Electronics |       314.98 |        9 |\n",
    "|    4 | 2023-01-12 00:00:00 |          24 |         44 | Electronics |       547.11 |        8 |\n",
    "\n",
    "</div>\n",
    "\n",
    "### Polars\n",
    "\n",
    "In Polars, we can use the [`.filter()`][polars-filter] method to filter rows based on specific conditions. The syntax is similar to Pandas, where we can specify the condition using column expressions. In the below example, we filter for sales in the \"Electronics\" category.\n",
    "\n",
    "For more information about filtering in Polars, see the [Polars documentation on filtering][polars-filtering]."
   ]
  },
  {
   "cell_type": "code",
   "execution_count": null,
   "id": "8acadc6a",
   "metadata": {
    "incorrectly_encoded_metadata": "{.polars linenums=\"1\" title=\"Filter sales for a specific category\"}"
   },
   "outputs": [
    {
     "name": "stdout",
     "output_type": "stream",
     "text": [
      "Number of Electronics Sales: 28\n",
      "shape: (5, 6)\n",
      "┌─────────────────────┬─────────────┬────────────┬─────────────┬──────────────┬──────────┐\n",
      "│ date                ┆ customer_id ┆ product_id ┆ category    ┆ sales_amount ┆ quantity │\n",
      "│ ---                 ┆ ---         ┆ ---        ┆ ---         ┆ ---          ┆ ---      │\n",
      "│ datetime[ns]        ┆ i64         ┆ i64        ┆ str         ┆ f64          ┆ i64      │\n",
      "╞═════════════════════╪═════════════╪════════════╪═════════════╪══════════════╪══════════╡\n",
      "│ 2023-01-02 00:00:00 ┆ 93          ┆ 41         ┆ Electronics ┆ 453.94       ┆ 5        │\n",
      "│ 2023-01-04 00:00:00 ┆ 72          ┆ 15         ┆ Electronics ┆ 184.17       ┆ 7        │\n",
      "│ 2023-01-09 00:00:00 ┆ 75          ┆ 9          ┆ Electronics ┆ 746.73       ┆ 2        │\n",
      "│ 2023-01-11 00:00:00 ┆ 88          ┆ 1          ┆ Electronics ┆ 314.98       ┆ 9        │\n",
      "│ 2023-01-12 00:00:00 ┆ 24          ┆ 44         ┆ Electronics ┆ 547.11       ┆ 8        │\n",
      "└─────────────────────┴─────────────┴────────────┴─────────────┴──────────────┴──────────┘\n",
      "|    | date                |   customer_id |   product_id | category    |   sales_amount |   quantity |\n",
      "|---:|:--------------------|--------------:|-------------:|:------------|---------------:|-----------:|\n",
      "|  0 | 2023-01-02 00:00:00 |            93 |           41 | Electronics |         453.94 |          5 |\n",
      "|  1 | 2023-01-04 00:00:00 |            72 |           15 | Electronics |         184.17 |          7 |\n",
      "|  2 | 2023-01-09 00:00:00 |            75 |            9 | Electronics |         746.73 |          2 |\n",
      "|  3 | 2023-01-11 00:00:00 |            88 |            1 | Electronics |         314.98 |          9 |\n",
      "|  4 | 2023-01-12 00:00:00 |            24 |           44 | Electronics |         547.11 |          8 |\n"
     ]
    }
   ],
   "source": [
    "electronics_sales_pl: pl.DataFrame = df_sales_pl.filter(df_sales_pl[\"category\"] == \"Electronics\")\n",
    "print(f\"Number of Electronics Sales: {len(electronics_sales_pl)}\")\n",
    "print(electronics_sales_pl.head(5))\n",
    "print(electronics_sales_pl.head(5).to_pandas().to_markdown())"
   ]
  },
  {
   "cell_type": "markdown",
   "id": "fe6ae980",
   "metadata": {},
   "source": [
    "<div class=\"result\" markdown>\n",
    "\n",
    "```txt\n",
    "Number of Electronics Sales: 28\n",
    "```\n",
    "\n",
    "```txt\n",
    "shape: (5, 6)\n",
    "┌─────────────────────┬─────────────┬────────────┬─────────────┬──────────────┬──────────┐\n",
    "│ date                ┆ customer_id ┆ product_id ┆ category    ┆ sales_amount ┆ quantity │\n",
    "│ ---                 ┆ ---         ┆ ---        ┆ ---         ┆ ---          ┆ ---      │\n",
    "│ datetime[ns]        ┆ i64         ┆ i64        ┆ str         ┆ f64          ┆ i64      │\n",
    "╞═════════════════════╪═════════════╪════════════╪═════════════╪══════════════╪══════════╡\n",
    "│ 2023-01-02 00:00:00 ┆ 93          ┆ 41         ┆ Electronics ┆ 453.94       ┆ 5        │\n",
    "│ 2023-01-04 00:00:00 ┆ 72          ┆ 15         ┆ Electronics ┆ 184.17       ┆ 7        │\n",
    "│ 2023-01-09 00:00:00 ┆ 75          ┆ 9          ┆ Electronics ┆ 746.73       ┆ 2        │\n",
    "│ 2023-01-11 00:00:00 ┆ 88          ┆ 1          ┆ Electronics ┆ 314.98       ┆ 9        │\n",
    "│ 2023-01-12 00:00:00 ┆ 24          ┆ 44         ┆ Electronics ┆ 547.11       ┆ 8        │\n",
    "└─────────────────────┴─────────────┴────────────┴─────────────┴──────────────┴──────────┘\n",
    "```\n",
    "\n",
    "|      | date                | customer_id | product_id | category    | sales_amount | quantity |\n",
    "| ---: | :------------------ | ----------: | ---------: | :---------- | -----------: | -------: |\n",
    "|    0 | 2023-01-02 00:00:00 |          93 |         41 | Electronics |       453.94 |        5 |\n",
    "|    1 | 2023-01-04 00:00:00 |          72 |         15 | Electronics |       184.17 |        7 |\n",
    "|    2 | 2023-01-09 00:00:00 |          75 |          9 | Electronics |       746.73 |        2 |\n",
    "|    3 | 2023-01-11 00:00:00 |          88 |          1 | Electronics |       314.98 |        9 |\n",
    "|    4 | 2023-01-12 00:00:00 |          24 |         44 | Electronics |       547.11 |        8 |\n",
    "\n",
    "</div>\n",
    "\n",
    "We can also use numerical filtering, as you can see in the next example, where we filter for sales amounts greater than $500.\n",
    "\n",
    "### Pandas\n",
    "\n",
    "When it comes to numerical filtering in Pandas, the process is similar to the previous example, where we use boolean indexing to filter rows based on a given condition condition, but here we use a numerical value instead of a string value. In the below example, we filter for sales amounts greater than `500`."
   ]
  },
  {
   "cell_type": "code",
   "execution_count": null,
   "id": "666faf3d",
   "metadata": {
    "incorrectly_encoded_metadata": "{.pandas linenums=\"1\" title=\"Filter for high value transactions\"}"
   },
   "outputs": [
    {
     "name": "stdout",
     "output_type": "stream",
     "text": [
      "Number of high-value Sales: 43\n",
      "         date  customer_id  product_id     category  sales_amount  quantity\n",
      "2  2023-01-03           15          29         Home        994.51         5\n",
      "8  2023-01-09           75           9  Electronics        746.73         2\n",
      "9  2023-01-10           75          24        Books        723.73         6\n",
      "11 2023-01-12           24          44  Electronics        547.11         8\n",
      "12 2023-01-13            3           8     Clothing        513.73         5\n",
      "|    | date                |   customer_id |   product_id | category    |   sales_amount |   quantity |\n",
      "|---:|:--------------------|--------------:|-------------:|:------------|---------------:|-----------:|\n",
      "|  2 | 2023-01-03 00:00:00 |            15 |           29 | Home        |         994.51 |          5 |\n",
      "|  8 | 2023-01-09 00:00:00 |            75 |            9 | Electronics |         746.73 |          2 |\n",
      "|  9 | 2023-01-10 00:00:00 |            75 |           24 | Books       |         723.73 |          6 |\n",
      "| 11 | 2023-01-12 00:00:00 |            24 |           44 | Electronics |         547.11 |          8 |\n",
      "| 12 | 2023-01-13 00:00:00 |             3 |            8 | Clothing    |         513.73 |          5 |\n"
     ]
    }
   ],
   "source": [
    "high_value_sales_pd: pd.DataFrame = df_sales_pd[df_sales_pd[\"sales_amount\"] > 500]\n",
    "print(f\"Number of high-value Sales: {len(high_value_sales_pd)}\")\n",
    "print(high_value_sales_pd.head(5))\n",
    "print(high_value_sales_pd.head(5).to_markdown())"
   ]
  },
  {
   "cell_type": "markdown",
   "id": "a83784fb",
   "metadata": {},
   "source": [
    "<div class=\"result\" markdown>\n",
    "\n",
    "```txt\n",
    "Number of high-value Sales: 43\n",
    "```\n",
    "\n",
    "```txt\n",
    "         date  customer_id  product_id     category  sales_amount  quantity\n",
    "2  2023-01-03           15          29         Home        994.51         5\n",
    "8  2023-01-09           75           9  Electronics        746.73         2\n",
    "9  2023-01-10           75          24        Books        723.73         6\n",
    "11 2023-01-12           24          44  Electronics        547.11         8\n",
    "12 2023-01-13            3           8     Clothing        513.73         5\n",
    "```\n",
    "\n",
    "|      | date                | customer_id | product_id | category    | sales_amount | quantity |\n",
    "| ---: | :------------------ | ----------: | ---------: | :---------- | -----------: | -------: |\n",
    "|    2 | 2023-01-03 00:00:00 |          15 |         29 | Home        |       994.51 |        5 |\n",
    "|    8 | 2023-01-09 00:00:00 |          75 |          9 | Electronics |       746.73 |        2 |\n",
    "|    9 | 2023-01-10 00:00:00 |          75 |         24 | Books       |       723.73 |        6 |\n",
    "|   11 | 2023-01-12 00:00:00 |          24 |         44 | Electronics |       547.11 |        8 |\n",
    "|   12 | 2023-01-13 00:00:00 |           3 |          8 | Clothing    |       513.73 |        5 |\n",
    "\n",
    "</div>\n",
    "\n",
    "### SQL\n",
    "\n",
    "When it comes to numerical filtering in SQL, the process is similar to the previous example, where we use the `WHERE` clause to filter rows based on a given condition, but here we use a numerical value instead of a string value. In the below example, we filter for sales amounts greater than `500`."
   ]
  },
  {
   "cell_type": "code",
   "execution_count": null,
   "id": "060898f9",
   "metadata": {
    "incorrectly_encoded_metadata": "{.sql linenums=\"1\" title=\"Filter for high value transactions\"}"
   },
   "outputs": [
    {
     "name": "stdout",
     "output_type": "stream",
     "text": [
      "Number of high-value Sales: 43\n",
      "                  date  customer_id  product_id     category  sales_amount  \\\n",
      "0  2023-01-03 00:00:00           15          29         Home        994.51   \n",
      "1  2023-01-09 00:00:00           75           9  Electronics        746.73   \n",
      "2  2023-01-10 00:00:00           75          24        Books        723.73   \n",
      "3  2023-01-12 00:00:00           24          44  Electronics        547.11   \n",
      "4  2023-01-13 00:00:00            3           8     Clothing        513.73   \n",
      "\n",
      "   quantity  \n",
      "0         5  \n",
      "1         2  \n",
      "2         6  \n",
      "3         8  \n",
      "4         5  \n",
      "|    | date                |   customer_id |   product_id | category    |   sales_amount |   quantity |\n",
      "|---:|:--------------------|--------------:|-------------:|:------------|---------------:|-----------:|\n",
      "|  0 | 2023-01-03 00:00:00 |            15 |           29 | Home        |         994.51 |          5 |\n",
      "|  1 | 2023-01-09 00:00:00 |            75 |            9 | Electronics |         746.73 |          2 |\n",
      "|  2 | 2023-01-10 00:00:00 |            75 |           24 | Books       |         723.73 |          6 |\n",
      "|  3 | 2023-01-12 00:00:00 |            24 |           44 | Electronics |         547.11 |          8 |\n",
      "|  4 | 2023-01-13 00:00:00 |             3 |            8 | Clothing    |         513.73 |          5 |\n"
     ]
    }
   ],
   "source": [
    "high_value_sales_txt: str = \"\"\"\n",
    "    SELECT *\n",
    "    FROM sales\n",
    "    WHERE sales_amount > 500\n",
    "\"\"\"\n",
    "high_value_sales_sql: pd.DataFrame = pd.read_sql(high_value_sales_txt, conn)\n",
    "print(f\"Number of high-value Sales: {len(high_value_sales_sql)}\")\n",
    "print(pd.read_sql(high_value_sales_txt + \"LIMIT 5\", conn))\n",
    "print(pd.read_sql(high_value_sales_txt + \"LIMIT 5\", conn).to_markdown())"
   ]
  },
  {
   "cell_type": "markdown",
   "id": "ef982d58",
   "metadata": {},
   "source": [
    "<div class=\"result\" markdown>\n",
    "\n",
    "```txt\n",
    "Number of high-value Sales: 43\n",
    "```\n",
    "\n",
    "```txt\n",
    "                  date  customer_id  product_id     category  sales_amount  quantity\n",
    "0  2023-01-03 00:00:00           15          29         Home        994.51         5\n",
    "1  2023-01-09 00:00:00           75           9  Electronics        746.73         2\n",
    "2  2023-01-10 00:00:00           75          24        Books        723.73         6\n",
    "3  2023-01-12 00:00:00           24          44  Electronics        547.11         8\n",
    "4  2023-01-13 00:00:00            3           8     Clothing        513.73         5\n",
    "```\n",
    "\n",
    "|      | date                | customer_id | product_id | category    | sales_amount | quantity |\n",
    "| ---: | :------------------ | ----------: | ---------: | :---------- | -----------: | -------: |\n",
    "|    0 | 2023-01-03 00:00:00 |          15 |         29 | Home        |       994.51 |        5 |\n",
    "|    1 | 2023-01-09 00:00:00 |          75 |          9 | Electronics |       746.73 |        2 |\n",
    "|    2 | 2023-01-10 00:00:00 |          75 |         24 | Books       |       723.73 |        6 |\n",
    "|    3 | 2023-01-12 00:00:00 |          24 |         44 | Electronics |       547.11 |        8 |\n",
    "|    4 | 2023-01-13 00:00:00 |           3 |          8 | Clothing    |       513.73 |        5 |\n",
    "\n",
    "</div>\n",
    "\n",
    "### PySpark\n",
    "\n",
    "When it comes to numerical filtering in PySpark, the process is similar to the previous example, where we use the [`.filter()`][pyspark-filter] (or [`.where()`][pyspark-where]) method to filter rows based on a given condition, but here we use a numerical value instead of a string value. In the below example, we filter for sales amounts greater than `500`.\n",
    "\n",
    "Also note here that we have parsed a string value to the [`.filter()`][pyspark-filter] method, instead of using the pure-Python syntax as shown above. This is because the [`.filter()`][pyspark-filter] method can accept a SQL-like string expression. This is a common practice in PySpark to parse a SQL-like string to a PySpark method."
   ]
  },
  {
   "cell_type": "code",
   "execution_count": null,
   "id": "efe7f400",
   "metadata": {
    "incorrectly_encoded_metadata": "{.pyspark linenums=\"1\" title=\"Filter for high value transactions\"}"
   },
   "outputs": [
    {
     "name": "stdout",
     "output_type": "stream",
     "text": [
      "Number of high-value Sales: 43\n",
      "+-------------------+-----------+----------+-----------+------------+--------+\n",
      "|               date|customer_id|product_id|   category|sales_amount|quantity|\n",
      "+-------------------+-----------+----------+-----------+------------+--------+\n",
      "|2023-01-03 00:00:00|         15|        29|       Home|      994.51|       5|\n",
      "|2023-01-09 00:00:00|         75|         9|Electronics|      746.73|       2|\n",
      "|2023-01-10 00:00:00|         75|        24|      Books|      723.73|       6|\n",
      "|2023-01-12 00:00:00|         24|        44|Electronics|      547.11|       8|\n",
      "|2023-01-13 00:00:00|          3|         8|   Clothing|      513.73|       5|\n",
      "+-------------------+-----------+----------+-----------+------------+--------+\n",
      "only showing top 5 rows\n",
      "\n",
      "|    | date                |   customer_id |   product_id | category    |   sales_amount |   quantity |\n",
      "|---:|:--------------------|--------------:|-------------:|:------------|---------------:|-----------:|\n",
      "|  0 | 2023-01-03 00:00:00 |            15 |           29 | Home        |         994.51 |          5 |\n",
      "|  1 | 2023-01-09 00:00:00 |            75 |            9 | Electronics |         746.73 |          2 |\n",
      "|  2 | 2023-01-10 00:00:00 |            75 |           24 | Books       |         723.73 |          6 |\n",
      "|  3 | 2023-01-12 00:00:00 |            24 |           44 | Electronics |         547.11 |          8 |\n",
      "|  4 | 2023-01-13 00:00:00 |             3 |            8 | Clothing    |         513.73 |          5 |\n"
     ]
    }
   ],
   "source": [
    "high_value_sales_ps: psDataFrame = df_sales_ps.filter(\"sales_amount > 500\")\n",
    "print(f\"Number of high-value Sales: {high_value_sales_ps.count()}\")\n",
    "high_value_sales_ps.show(5)\n",
    "print(high_value_sales_ps.limit(5).toPandas().to_markdown())"
   ]
  },
  {
   "cell_type": "markdown",
   "id": "78ace75d",
   "metadata": {},
   "source": [
    "<div class=\"result\" markdown>\n",
    "\n",
    "```txt\n",
    "Number of high-value Sales: 43\n",
    "```\n",
    "\n",
    "```txt\n",
    "+-------------------+-----------+----------+-----------+------------+--------+\n",
    "|               date|customer_id|product_id|   category|sales_amount|quantity|\n",
    "+-------------------+-----------+----------+-----------+------------+--------+\n",
    "|2023-01-03 00:00:00|         15|        29|       Home|      994.51|       5|\n",
    "|2023-01-09 00:00:00|         75|         9|Electronics|      746.73|       2|\n",
    "|2023-01-10 00:00:00|         75|        24|      Books|      723.73|       6|\n",
    "|2023-01-12 00:00:00|         24|        44|Electronics|      547.11|       8|\n",
    "|2023-01-13 00:00:00|          3|         8|   Clothing|      513.73|       5|\n",
    "+-------------------+-----------+----------+-----------+------------+--------+\n",
    "only showing top 5 rows\n",
    "```\n",
    "\n",
    "|      | date                | customer_id | product_id | category    | sales_amount | quantity |\n",
    "| ---: | :------------------ | ----------: | ---------: | :---------- | -----------: | -------: |\n",
    "|    0 | 2023-01-03 00:00:00 |          15 |         29 | Home        |       994.51 |        5 |\n",
    "|    1 | 2023-01-09 00:00:00 |          75 |          9 | Electronics |       746.73 |        2 |\n",
    "|    2 | 2023-01-10 00:00:00 |          75 |         24 | Books       |       723.73 |        6 |\n",
    "|    3 | 2023-01-12 00:00:00 |          24 |         44 | Electronics |       547.11 |        8 |\n",
    "|    4 | 2023-01-13 00:00:00 |           3 |          8 | Clothing    |       513.73 |        5 |\n",
    "\n",
    "</div>\n",
    "\n",
    "### Polars\n",
    "\n",
    "When it comes to numerical filtering in Polars, the process is similar to the previous example, where we use the [`.filter()`][polars-filter] method to filter rows based on a given condition, but here we use a numerical value instead of a string value. In the below example, we filter for sales amounts greater than `500`.\n",
    "\n",
    "Also note here that we have used the [`pl.col()`][polars-col] function to specify the column we want to filter on. This is different from the previous examples, where we used the column name directly. The use of [`pl.col()`][polars-col] is a common practice in Polars to specify the column name in a more readable way."
   ]
  },
  {
   "cell_type": "code",
   "execution_count": null,
   "id": "94fd4b5c",
   "metadata": {
    "incorrectly_encoded_metadata": "{.polars linenums=\"1\" title=\"Filter for high value transactions\"}"
   },
   "outputs": [
    {
     "name": "stdout",
     "output_type": "stream",
     "text": [
      "Number of high-value Sales: 43\n",
      "shape: (5, 6)\n",
      "┌─────────────────────┬─────────────┬────────────┬─────────────┬──────────────┬──────────┐\n",
      "│ date                ┆ customer_id ┆ product_id ┆ category    ┆ sales_amount ┆ quantity │\n",
      "│ ---                 ┆ ---         ┆ ---        ┆ ---         ┆ ---          ┆ ---      │\n",
      "│ datetime[ns]        ┆ i64         ┆ i64        ┆ str         ┆ f64          ┆ i64      │\n",
      "╞═════════════════════╪═════════════╪════════════╪═════════════╪══════════════╪══════════╡\n",
      "│ 2023-01-03 00:00:00 ┆ 15          ┆ 29         ┆ Home        ┆ 994.51       ┆ 5        │\n",
      "│ 2023-01-09 00:00:00 ┆ 75          ┆ 9          ┆ Electronics ┆ 746.73       ┆ 2        │\n",
      "│ 2023-01-10 00:00:00 ┆ 75          ┆ 24         ┆ Books       ┆ 723.73       ┆ 6        │\n",
      "│ 2023-01-12 00:00:00 ┆ 24          ┆ 44         ┆ Electronics ┆ 547.11       ┆ 8        │\n",
      "│ 2023-01-13 00:00:00 ┆ 3           ┆ 8          ┆ Clothing    ┆ 513.73       ┆ 5        │\n",
      "└─────────────────────┴─────────────┴────────────┴─────────────┴──────────────┴──────────┘\n",
      "|    | date                |   customer_id |   product_id | category    |   sales_amount |   quantity |\n",
      "|---:|:--------------------|--------------:|-------------:|:------------|---------------:|-----------:|\n",
      "|  0 | 2023-01-03 00:00:00 |            15 |           29 | Home        |         994.51 |          5 |\n",
      "|  1 | 2023-01-09 00:00:00 |            75 |            9 | Electronics |         746.73 |          2 |\n",
      "|  2 | 2023-01-10 00:00:00 |            75 |           24 | Books       |         723.73 |          6 |\n",
      "|  3 | 2023-01-12 00:00:00 |            24 |           44 | Electronics |         547.11 |          8 |\n",
      "|  4 | 2023-01-13 00:00:00 |             3 |            8 | Clothing    |         513.73 |          5 |\n"
     ]
    }
   ],
   "source": [
    "high_value_sales_pl: pl.DataFrame = df_sales_pl.filter(pl.col(\"sales_amount\") > 500)\n",
    "print(f\"Number of high-value Sales: {len(high_value_sales_pl)}\")\n",
    "print(high_value_sales_pl.head(5))\n",
    "print(high_value_sales_pl.head(5).to_pandas().to_markdown())"
   ]
  },
  {
   "cell_type": "markdown",
   "id": "e2ae6555",
   "metadata": {},
   "source": [
    "<div class=\"result\" markdown>\n",
    "\n",
    "```txt\n",
    "Number of high-value Sales: 43\n",
    "```\n",
    "\n",
    "```txt\n",
    "shape: (5, 6)\n",
    "┌─────────────────────┬─────────────┬────────────┬─────────────┬──────────────┬──────────┐\n",
    "│ date                ┆ customer_id ┆ product_id ┆ category    ┆ sales_amount ┆ quantity │\n",
    "│ ---                 ┆ ---         ┆ ---        ┆ ---         ┆ ---          ┆ ---      │\n",
    "│ datetime[ns]        ┆ i64         ┆ i64        ┆ str         ┆ f64          ┆ i64      │\n",
    "╞═════════════════════╪═════════════╪════════════╪═════════════╪══════════════╪══════════╡\n",
    "│ 2023-01-03 00:00:00 ┆ 15          ┆ 29         ┆ Home        ┆ 994.51       ┆ 5        │\n",
    "│ 2023-01-09 00:00:00 ┆ 75          ┆ 9          ┆ Electronics ┆ 746.73       ┆ 2        │\n",
    "│ 2023-01-10 00:00:00 ┆ 75          ┆ 24         ┆ Books       ┆ 723.73       ┆ 6        │\n",
    "│ 2023-01-12 00:00:00 ┆ 24          ┆ 44         ┆ Electronics ┆ 547.11       ┆ 8        │\n",
    "│ 2023-01-13 00:00:00 ┆ 3           ┆ 8          ┆ Clothing    ┆ 513.73       ┆ 5        │\n",
    "└─────────────────────┴─────────────┴────────────┴─────────────┴──────────────┴──────────┘\n",
    "```\n",
    "\n",
    "|      | date                | customer_id | product_id | category    | sales_amount | quantity |\n",
    "| ---: | :------------------ | ----------: | ---------: | :---------- | -----------: | -------: |\n",
    "|    0 | 2023-01-03 00:00:00 |          15 |         29 | Home        |       994.51 |        5 |\n",
    "|    1 | 2023-01-09 00:00:00 |          75 |          9 | Electronics |       746.73 |        2 |\n",
    "|    2 | 2023-01-10 00:00:00 |          75 |         24 | Books       |       723.73 |        6 |\n",
    "|    3 | 2023-01-12 00:00:00 |          24 |         44 | Electronics |       547.11 |        8 |\n",
    "|    4 | 2023-01-13 00:00:00 |           3 |          8 | Clothing    |       513.73 |        5 |\n",
    "\n",
    "</div>\n",
    "\n",
    "In addition to subsetting a table by rows (aka _filtering_), we can also subset a table by columns (aka _selecting_). This allows us to create a new DataFrame with only the relevant columns we want to work with. This is useful when we want to focus on specific attributes of the data, such as dates, categories, or sales amounts."
   ]
  },
  {
   "cell_type": "markdown",
   "id": "5440e085",
   "metadata": {},
   "source": [
    "### Pandas\n",
    "\n",
    "To select specific columns in Pandas, we can use the double square brackets syntax to specify the columns we want to keep in the DataFrame. This allows us to create a new DataFrame with only the relevant columns.\n",
    "\n",
    "For more information about selecting specific columns, see the [Pandas documentation on selecting columns][pandas-subsetting]."
   ]
  },
  {
   "cell_type": "code",
   "execution_count": null,
   "id": "2b15e871",
   "metadata": {
    "incorrectly_encoded_metadata": "{.pandas linenums=\"1\" title=\"Select specific columns\"}"
   },
   "outputs": [
    {
     "name": "stdout",
     "output_type": "stream",
     "text": [
      "Sales Summary DataFrame: 100\n",
      "        date     category  sales_amount\n",
      "0 2023-01-01         Food        490.76\n",
      "1 2023-01-02  Electronics        453.94\n",
      "2 2023-01-03         Home        994.51\n",
      "3 2023-01-04  Electronics        184.17\n",
      "4 2023-01-05         Food         27.89\n",
      "|    | date                | category    |   sales_amount |\n",
      "|---:|:--------------------|:------------|---------------:|\n",
      "|  0 | 2023-01-01 00:00:00 | Food        |         490.76 |\n",
      "|  1 | 2023-01-02 00:00:00 | Electronics |         453.94 |\n",
      "|  2 | 2023-01-03 00:00:00 | Home        |         994.51 |\n",
      "|  3 | 2023-01-04 00:00:00 | Electronics |         184.17 |\n",
      "|  4 | 2023-01-05 00:00:00 | Food        |          27.89 |\n"
     ]
    }
   ],
   "source": [
    "sales_summary_pd: pd.DataFrame = df_sales_pd[[\"date\", \"category\", \"sales_amount\"]]\n",
    "print(f\"Sales Summary DataFrame: {len(sales_summary_pd)}\")\n",
    "print(sales_summary_pd.head(5))\n",
    "print(sales_summary_pd.head(5).to_markdown())"
   ]
  },
  {
   "cell_type": "markdown",
   "id": "82f2d070",
   "metadata": {},
   "source": [
    "<div class=\"result\" markdown>\n",
    "\n",
    "```txt\n",
    "Sales Summary DataFrame: 100\n",
    "```\n",
    "\n",
    "```txt\n",
    "        date     category  sales_amount\n",
    "0 2023-01-01         Food        490.76\n",
    "1 2023-01-02  Electronics        453.94\n",
    "2 2023-01-03         Home        994.51\n",
    "3 2023-01-04  Electronics        184.17\n",
    "4 2023-01-05         Food         27.89\n",
    "```\n",
    "\n",
    "|      | date                | category    | sales_amount |\n",
    "| ---: | :------------------ | :---------- | -----------: |\n",
    "|    0 | 2023-01-01 00:00:00 | Food        |       490.76 |\n",
    "|    1 | 2023-01-02 00:00:00 | Electronics |       453.94 |\n",
    "|    2 | 2023-01-03 00:00:00 | Home        |       994.51 |\n",
    "|    3 | 2023-01-04 00:00:00 | Electronics |       184.17 |\n",
    "|    4 | 2023-01-05 00:00:00 | Food        |        27.89 |\n",
    "\n",
    "</div>\n",
    "\n",
    "### SQL\n",
    "\n",
    "To select specific columns in SQL, we can use the `SELECT` statement to specify the columns we want to retrieve from the table. This allows us to create a new DataFrame with only the relevant columns. We can use the [`pd.read_sql()`][pandas-read_sql] function to execute SQL queries and retrieve the data from the database.\n",
    "\n",
    "For more information about selecting specific columns in SQL, see the [SQL SELECT statement documentation][sqlite-select]."
   ]
  },
  {
   "cell_type": "code",
   "execution_count": null,
   "id": "cf524ce4",
   "metadata": {
    "incorrectly_encoded_metadata": "{.sql linenums=\"1\" title=\"Select specific columns\"}"
   },
   "outputs": [
    {
     "name": "stdout",
     "output_type": "stream",
     "text": [
      "Selected columns in Sales: 100\n",
      "                  date     category  sales_amount\n",
      "0  2023-01-01 00:00:00         Food        490.76\n",
      "1  2023-01-02 00:00:00  Electronics        453.94\n",
      "2  2023-01-03 00:00:00         Home        994.51\n",
      "3  2023-01-04 00:00:00  Electronics        184.17\n",
      "4  2023-01-05 00:00:00         Food         27.89\n",
      "|    | date                | category    |   sales_amount |\n",
      "|---:|:--------------------|:------------|---------------:|\n",
      "|  0 | 2023-01-01 00:00:00 | Food        |         490.76 |\n",
      "|  1 | 2023-01-02 00:00:00 | Electronics |         453.94 |\n",
      "|  2 | 2023-01-03 00:00:00 | Home        |         994.51 |\n",
      "|  3 | 2023-01-04 00:00:00 | Electronics |         184.17 |\n",
      "|  4 | 2023-01-05 00:00:00 | Food        |          27.89 |\n"
     ]
    }
   ],
   "source": [
    "sales_summary_txt: str = \"\"\"\n",
    "    SELECT date, category, sales_amount\n",
    "    FROM sales\n",
    "\"\"\"\n",
    "sales_summary_sql: pd.DataFrame = pd.read_sql(sales_summary_txt, conn)\n",
    "print(f\"Selected columns in Sales: {len(sales_summary_sql)}\")\n",
    "print(pd.read_sql(sales_summary_txt + \"LIMIT 5\", conn))\n",
    "print(pd.read_sql(sales_summary_txt + \"LIMIT 5\", conn).to_markdown())"
   ]
  },
  {
   "cell_type": "markdown",
   "id": "7f4d2069",
   "metadata": {},
   "source": [
    "<div class=\"result\" markdown>\n",
    "\n",
    "```txt\n",
    "Selected columns in Sales: 100\n",
    "```\n",
    "\n",
    "```txt\n",
    "                  date     category  sales_amount\n",
    "0  2023-01-01 00:00:00         Food        490.76\n",
    "1  2023-01-02 00:00:00  Electronics        453.94\n",
    "2  2023-01-03 00:00:00         Home        994.51\n",
    "3  2023-01-04 00:00:00  Electronics        184.17\n",
    "4  2023-01-05 00:00:00         Food         27.89\n",
    "```\n",
    "\n",
    "|      | date                | category    | sales_amount |\n",
    "| ---: | :------------------ | :---------- | -----------: |\n",
    "|    0 | 2023-01-01 00:00:00 | Food        |       490.76 |\n",
    "|    1 | 2023-01-02 00:00:00 | Electronics |       453.94 |\n",
    "|    2 | 2023-01-03 00:00:00 | Home        |       994.51 |\n",
    "|    3 | 2023-01-04 00:00:00 | Electronics |       184.17 |\n",
    "|    4 | 2023-01-05 00:00:00 | Food        |        27.89 |\n",
    "\n",
    "</div>\n",
    "\n",
    "### PySpark\n",
    "\n",
    "To select specific columns in PySpark, we can use the [`.select()`][pyspark-select] method to specify the columns we want to keep in the DataFrame. This allows us to create a new DataFrame with only the relevant columns. The syntax is similar to SQL, where we can specify the column names as strings."
   ]
  },
  {
   "cell_type": "code",
   "execution_count": null,
   "id": "0406994a",
   "metadata": {
    "incorrectly_encoded_metadata": "{.pyspark linenums=\"1\" title=\"Select specific columns\"}"
   },
   "outputs": [
    {
     "name": "stdout",
     "output_type": "stream",
     "text": [
      "Sales Summary DataFrame: 100\n",
      "+-------------------+-----------+------------+\n",
      "|               date|   category|sales_amount|\n",
      "+-------------------+-----------+------------+\n",
      "|2023-01-01 00:00:00|       Food|      490.76|\n",
      "|2023-01-02 00:00:00|Electronics|      453.94|\n",
      "|2023-01-03 00:00:00|       Home|      994.51|\n",
      "|2023-01-04 00:00:00|Electronics|      184.17|\n",
      "|2023-01-05 00:00:00|       Food|       27.89|\n",
      "+-------------------+-----------+------------+\n",
      "only showing top 5 rows\n",
      "\n",
      "|    | date                | category    |   sales_amount |\n",
      "|---:|:--------------------|:------------|---------------:|\n",
      "|  0 | 2023-01-01 00:00:00 | Food        |         490.76 |\n",
      "|  1 | 2023-01-02 00:00:00 | Electronics |         453.94 |\n",
      "|  2 | 2023-01-03 00:00:00 | Home        |         994.51 |\n",
      "|  3 | 2023-01-04 00:00:00 | Electronics |         184.17 |\n",
      "|  4 | 2023-01-05 00:00:00 | Food        |          27.89 |\n"
     ]
    }
   ],
   "source": [
    "sales_summary_ps: psDataFrame = df_sales_ps.select(\"date\", \"category\", \"sales_amount\")\n",
    "print(f\"Sales Summary DataFrame: {sales_summary_ps.count()}\")\n",
    "sales_summary_ps.show(5)\n",
    "print(sales_summary_ps.limit(5).toPandas().to_markdown())"
   ]
  },
  {
   "cell_type": "markdown",
   "id": "18592ca1",
   "metadata": {},
   "source": [
    "<div class=\"result\" markdown>\n",
    "\n",
    "```txt\n",
    "Sales Summary DataFrame: 100\n",
    "```\n",
    "\n",
    "```txt\n",
    "+-------------------+-----------+------------+\n",
    "|               date|   category|sales_amount|\n",
    "+-------------------+-----------+------------+\n",
    "|2023-01-01 00:00:00|       Food|      490.76|\n",
    "|2023-01-02 00:00:00|Electronics|      453.94|\n",
    "|2023-01-03 00:00:00|       Home|      994.51|\n",
    "|2023-01-04 00:00:00|Electronics|      184.17|\n",
    "|2023-01-05 00:00:00|       Food|       27.89|\n",
    "+-------------------+-----------+------------+\n",
    "only showing top 5 rows\n",
    "```\n",
    "\n",
    "|      | date                | category    | sales_amount |\n",
    "| ---: | :------------------ | :---------- | -----------: |\n",
    "|    0 | 2023-01-01 00:00:00 | Food        |       490.76 |\n",
    "|    1 | 2023-01-02 00:00:00 | Electronics |       453.94 |\n",
    "|    2 | 2023-01-03 00:00:00 | Home        |       994.51 |\n",
    "|    3 | 2023-01-04 00:00:00 | Electronics |       184.17 |\n",
    "|    4 | 2023-01-05 00:00:00 | Food        |        27.89 |\n",
    "\n",
    "</div>\n",
    "\n",
    "### Polars\n",
    "\n",
    "To select specific columns in Polars, we can use the [`.select()`][polars-select] method to specify the columns we want to keep in the DataFrame. This allows us to create a new DataFrame with only the relevant columns."
   ]
  },
  {
   "cell_type": "code",
   "execution_count": null,
   "id": "5028d19a",
   "metadata": {
    "incorrectly_encoded_metadata": "{.polars linenums=\"1\" title=\"Select specific columns\"}"
   },
   "outputs": [
    {
     "name": "stdout",
     "output_type": "stream",
     "text": [
      "Sales Summary DataFrame: 100\n",
      "shape: (5, 3)\n",
      "┌─────────────────────┬─────────────┬──────────────┐\n",
      "│ date                ┆ category    ┆ sales_amount │\n",
      "│ ---                 ┆ ---         ┆ ---          │\n",
      "│ datetime[ns]        ┆ str         ┆ f64          │\n",
      "╞═════════════════════╪═════════════╪══════════════╡\n",
      "│ 2023-01-01 00:00:00 ┆ Food        ┆ 490.76       │\n",
      "│ 2023-01-02 00:00:00 ┆ Electronics ┆ 453.94       │\n",
      "│ 2023-01-03 00:00:00 ┆ Home        ┆ 994.51       │\n",
      "│ 2023-01-04 00:00:00 ┆ Electronics ┆ 184.17       │\n",
      "│ 2023-01-05 00:00:00 ┆ Food        ┆ 27.89        │\n",
      "└─────────────────────┴─────────────┴──────────────┘\n",
      "|    | date                | category    |   sales_amount |\n",
      "|---:|:--------------------|:------------|---------------:|\n",
      "|  0 | 2023-01-01 00:00:00 | Food        |         490.76 |\n",
      "|  1 | 2023-01-02 00:00:00 | Electronics |         453.94 |\n",
      "|  2 | 2023-01-03 00:00:00 | Home        |         994.51 |\n",
      "|  3 | 2023-01-04 00:00:00 | Electronics |         184.17 |\n",
      "|  4 | 2023-01-05 00:00:00 | Food        |          27.89 |\n"
     ]
    }
   ],
   "source": [
    "sales_summary_pl: pl.DataFrame = df_sales_pl.select([\"date\", \"category\", \"sales_amount\"])\n",
    "print(f\"Sales Summary DataFrame: {len(sales_summary_pl)}\")\n",
    "print(sales_summary_pl.head(5))\n",
    "print(sales_summary_pl.head(5).to_pandas().to_markdown())"
   ]
  },
  {
   "cell_type": "markdown",
   "id": "5ceb35b8",
   "metadata": {},
   "source": [
    "<div class=\"result\" markdown>\n",
    "\n",
    "```txt\n",
    "Sales Summary DataFrame: 100\n",
    "```\n",
    "\n",
    "```txt\n",
    "shape: (5, 3)\n",
    "┌─────────────────────┬─────────────┬──────────────┐\n",
    "│ date                ┆ category    ┆ sales_amount │\n",
    "│ ---                 ┆ ---         ┆ ---          │\n",
    "│ datetime[ns]        ┆ str         ┆ f64          │\n",
    "╞═════════════════════╪═════════════╪══════════════╡\n",
    "│ 2023-01-01 00:00:00 ┆ Food        ┆ 490.76       │\n",
    "│ 2023-01-02 00:00:00 ┆ Electronics ┆ 453.94       │\n",
    "│ 2023-01-03 00:00:00 ┆ Home        ┆ 994.51       │\n",
    "│ 2023-01-04 00:00:00 ┆ Electronics ┆ 184.17       │\n",
    "│ 2023-01-05 00:00:00 ┆ Food        ┆ 27.89        │\n",
    "└─────────────────────┴─────────────┴──────────────┘\n",
    "```\n",
    "\n",
    "|      | date                | category    | sales_amount |\n",
    "| ---: | :------------------ | :---------- | -----------: |\n",
    "|    0 | 2023-01-01 00:00:00 | Food        |       490.76 |\n",
    "|    1 | 2023-01-02 00:00:00 | Electronics |       453.94 |\n",
    "|    2 | 2023-01-03 00:00:00 | Home        |       994.51 |\n",
    "|    3 | 2023-01-04 00:00:00 | Electronics |       184.17 |\n",
    "|    4 | 2023-01-05 00:00:00 | Food        |        27.89 |\n",
    "\n",
    "</div>"
   ]
  },
  {
   "cell_type": "markdown",
   "id": "8de02683",
   "metadata": {},
   "source": [
    "## 2. Grouping and Aggregation\n",
    "\n",
    "The second section will cover grouping and aggregation techniques. These operations are essential for summarizing data and extracting insights from large datasets.\n",
    "\n",
    "### Pandas\n",
    "\n",
    "In Pandas, we can use the [`.agg()`][pandas-agg] method to perform aggregation operations on DataFrames. This method allows us to apply multiple aggregation functions to different columns in a single operation."
   ]
  },
  {
   "cell_type": "code",
   "execution_count": null,
   "id": "3b1ce41b",
   "metadata": {
    "incorrectly_encoded_metadata": "{.pandas linenums=\"1\" title=\"Basic aggregation\"}"
   },
   "outputs": [
    {
     "name": "stdout",
     "output_type": "stream",
     "text": [
      "Sales Statistics: 5\n",
      "       sales_amount  quantity\n",
      "sum      48227.0500    464.00\n",
      "mean       482.2705      4.64\n",
      "min         15.1300      1.00\n",
      "max        994.6100      9.00\n",
      "count      100.0000       NaN\n",
      "|       |   sales_amount |   quantity |\n",
      "|:------|---------------:|-----------:|\n",
      "| sum   |      48227.1   |     464    |\n",
      "| mean  |        482.271 |       4.64 |\n",
      "| min   |         15.13  |       1    |\n",
      "| max   |        994.61  |       9    |\n",
      "| count |        100     |     nan    |\n"
     ]
    }
   ],
   "source": [
    "sales_stats_pd: pd.DataFrame = df_sales_pd.agg(\n",
    "    {\n",
    "        \"sales_amount\": [\"sum\", \"mean\", \"min\", \"max\", \"count\"],\n",
    "        \"quantity\": [\"sum\", \"mean\", \"min\", \"max\"],\n",
    "    }\n",
    ")\n",
    "print(f\"Sales Statistics: {len(sales_stats_pd)}\")\n",
    "print(sales_stats_pd)\n",
    "print(sales_stats_pd.to_markdown())"
   ]
  },
  {
   "cell_type": "markdown",
   "id": "e1b1d79d",
   "metadata": {},
   "source": [
    "<div class=\"result\" markdown>\n",
    "\n",
    "```txt\n",
    "Sales Statistics: 5\n",
    "```\n",
    "\n",
    "```txt\n",
    "       sales_amount  quantity\n",
    "sum      48227.0500    464.00\n",
    "mean       482.2705      4.64\n",
    "min         15.1300      1.00\n",
    "max        994.6100      9.00\n",
    "count      100.0000       NaN\n",
    "```\n",
    "\n",
    "|       | sales_amount | quantity |\n",
    "| :---- | -----------: | -------: |\n",
    "| sum   |      48227.1 |      464 |\n",
    "| mean  |      482.271 |     4.64 |\n",
    "| min   |        15.13 |        1 |\n",
    "| max   |       994.61 |        9 |\n",
    "| count |          100 |      nan |\n",
    "\n",
    "</div>\n",
    "\n",
    "### SQL\n",
    "\n",
    "In SQL, we can use the aggregate functions like `SUM()`, `AVG()`, `MIN()`, `MAX()`, and `COUNT()` to perform aggregation operations on tables.\n",
    "\n",
    "Note here that we are _not_ using the `GROUP BY` clause, which is typically used to group rows that have the same values in specified columns into summary rows. Instead, we are performing a basic aggregation on the entire table."
   ]
  },
  {
   "cell_type": "code",
   "execution_count": null,
   "id": "4298159a",
   "metadata": {
    "incorrectly_encoded_metadata": "{.sql linenums=\"1\" title=\"Basic aggregation\"}"
   },
   "outputs": [
    {
     "name": "stdout",
     "output_type": "stream",
     "text": [
      "Sales Statistics: 1\n",
      "   sales_sum  sales_mean  sales_min  sales_max  sales_count  quantity_sum  \\\n",
      "0   48227.05    482.2705      15.13     994.61          100           464   \n",
      "\n",
      "   quantity_mean  quantity_min  quantity_max  \n",
      "0           4.64             1             9  \n",
      "|    |   sales_sum |   sales_mean |   sales_min |   sales_max |   sales_count |   quantity_sum |   quantity_mean |   quantity_min |   quantity_max |\n",
      "|---:|------------:|-------------:|------------:|------------:|--------------:|---------------:|----------------:|---------------:|---------------:|\n",
      "|  0 |     48227.1 |      482.271 |       15.13 |      994.61 |           100 |            464 |            4.64 |              1 |              9 |\n"
     ]
    }
   ],
   "source": [
    "sales_stats_txt: str = \"\"\"\n",
    "    SELECT\n",
    "        SUM(sales_amount) AS sales_sum,\n",
    "        AVG(sales_amount) AS sales_mean,\n",
    "        MIN(sales_amount) AS sales_min,\n",
    "        MAX(sales_amount) AS sales_max,\n",
    "        COUNT(*) AS sales_count,\n",
    "        SUM(quantity) AS quantity_sum,\n",
    "        AVG(quantity) AS quantity_mean,\n",
    "        MIN(quantity) AS quantity_min,\n",
    "        MAX(quantity) AS quantity_max\n",
    "    FROM sales\n",
    "\"\"\"\n",
    "print(f\"Sales Statistics: {len(pd.read_sql(sales_stats_txt, conn))}\")\n",
    "print(pd.read_sql(sales_stats_txt, conn))\n",
    "print(pd.read_sql(sales_stats_txt, conn).to_markdown())"
   ]
  },
  {
   "cell_type": "markdown",
   "id": "ea627d5c",
   "metadata": {},
   "source": [
    "<div class=\"result\" markdown>\n",
    "\n",
    "```txt\n",
    "Sales Statistics: 1\n",
    "```\n",
    "\n",
    "```txt\n",
    "   sales_sum  sales_mean  sales_min  sales_max  sales_count  quantity_sum  quantity_mean  quantity_min  quantity_max\n",
    "0   48227.05    482.2705      15.13     994.61          100           464           4.64             1             9\n",
    "```\n",
    "\n",
    "|      | sales_sum | sales_mean | sales_min | sales_max | sales_count | quantity_sum | quantity_mean | quantity_min | quantity_max |\n",
    "| ---: | --------: | ---------: | --------: | --------: | ----------: | -----------: | ------------: | -----------: | -----------: |\n",
    "|    0 |   48227.1 |    482.271 |     15.13 |    994.61 |         100 |          464 |          4.64 |            1 |            9 |\n",
    "\n",
    "</div>\n",
    "\n",
    "### PySpark\n",
    "\n",
    "In PySpark, we can use the [`.agg()`][pyspark-agg] method to perform aggregation operations on DataFrames. This method allows us to apply multiple aggregation functions to different columns in a single operation."
   ]
  },
  {
   "cell_type": "code",
   "execution_count": null,
   "id": "ae529cba",
   "metadata": {
    "incorrectly_encoded_metadata": "{.pyspark linenums=\"1\" title=\"Basic aggregation\"}"
   },
   "outputs": [
    {
     "name": "stdout",
     "output_type": "stream",
     "text": [
      "Sales Statistics: 1\n",
      "+---------+----------+---------+---------+-----------+------------+-------------+------------+------------+\n",
      "|sales_sum|sales_mean|sales_min|sales_max|sales_count|quantity_sum|quantity_mean|quantity_min|quantity_max|\n",
      "+---------+----------+---------+---------+-----------+------------+-------------+------------+------------+\n",
      "| 48227.05|  482.2705|    15.13|   994.61|        100|         464|         4.64|           1|           9|\n",
      "+---------+----------+---------+---------+-----------+------------+-------------+------------+------------+\n",
      "\n",
      "|    |   sales_sum |   sales_mean |   sales_min |   sales_max |   sales_count |   quantity_sum |   quantity_mean |   quantity_min |   quantity_max |\n",
      "|---:|------------:|-------------:|------------:|------------:|--------------:|---------------:|----------------:|---------------:|---------------:|\n",
      "|  0 |     48227.1 |      482.271 |       15.13 |      994.61 |           100 |            464 |            4.64 |              1 |              9 |\n"
     ]
    }
   ],
   "source": [
    "sales_stats_ps: psDataFrame = df_sales_ps.agg(\n",
    "    F.sum(\"sales_amount\").alias(\"sales_sum\"),\n",
    "    F.avg(\"sales_amount\").alias(\"sales_mean\"),\n",
    "    F.expr(\"MIN(sales_amount) AS sales_min\"),\n",
    "    F.expr(\"MAX(sales_amount) AS sales_max\"),\n",
    "    F.count(\"*\").alias(\"sales_count\"),\n",
    "    F.expr(\"SUM(quantity) AS quantity_sum\"),\n",
    "    F.expr(\"AVG(quantity) AS quantity_mean\"),\n",
    "    F.min(\"quantity\").alias(\"quantity_min\"),\n",
    "    F.max(\"quantity\").alias(\"quantity_max\"),\n",
    ")\n",
    "print(f\"Sales Statistics: {sales_stats_ps.count()}\")\n",
    "sales_stats_ps.show(5)\n",
    "print(sales_stats_ps.limit(5).toPandas().to_markdown())"
   ]
  },
  {
   "cell_type": "markdown",
   "id": "f0c31695",
   "metadata": {},
   "source": [
    "<div class=\"result\" markdown>\n",
    "\n",
    "```txt\n",
    "Sales Statistics: 1\n",
    "```\n",
    "\n",
    "```txt\n",
    "+---------+----------+---------+---------+-----------+------------+-------------+------------+------------+\n",
    "|sales_sum|sales_mean|sales_min|sales_max|sales_count|quantity_sum|quantity_mean|quantity_min|quantity_max|\n",
    "+---------+----------+---------+---------+-----------+------------+-------------+------------+------------+\n",
    "| 48227.05|  482.2705|    15.13|   994.61|        100|         464|         4.64|           1|           9|\n",
    "+---------+----------+---------+---------+-----------+------------+-------------+------------+------------+\n",
    "```\n",
    "\n",
    "|      | sales_sum | sales_mean | sales_min | sales_max | sales_count | quantity_sum | quantity_mean | quantity_min | quantity_max |\n",
    "| ---: | --------: | ---------: | --------: | --------: | ----------: | -----------: | ------------: | -----------: | -----------: |\n",
    "|    0 |   48227.1 |    482.271 |     15.13 |    994.61 |         100 |          464 |          4.64 |            1 |            9 |\n",
    "\n",
    "</div>\n",
    "\n",
    "### Polars\n",
    "\n",
    "In Polars, we can use the [`.select()`][polars-select] method to perform aggregation operations on DataFrames. This method allows us to apply multiple aggregation functions to different columns in a single operation."
   ]
  },
  {
   "cell_type": "code",
   "execution_count": null,
   "id": "12029b10",
   "metadata": {
    "incorrectly_encoded_metadata": "{.polars linenums=\"1\" title=\"Basic aggregation\"}"
   },
   "outputs": [
    {
     "name": "stdout",
     "output_type": "stream",
     "text": [
      "Sales Statistics: 1\n",
      "shape: (1, 8)\n",
      "┌───────────┬────────────┬───────────┬───────────┬────────────┬────────────┬───────────┬───────────┐\n",
      "│ sales_sum ┆ sales_mean ┆ sales_min ┆ sales_max ┆ quantity_s ┆ quantity_m ┆ quantity_ ┆ quantity_ │\n",
      "│ ---       ┆ ---        ┆ ---       ┆ ---       ┆ um         ┆ ean        ┆ min       ┆ max       │\n",
      "│ f64       ┆ f64        ┆ f64       ┆ f64       ┆ ---        ┆ ---        ┆ ---       ┆ ---       │\n",
      "│           ┆            ┆           ┆           ┆ i64        ┆ f64        ┆ i64       ┆ i64       │\n",
      "╞═══════════╪════════════╪═══════════╪═══════════╪════════════╪════════════╪═══════════╪═══════════╡\n",
      "│ 48227.05  ┆ 482.2705   ┆ 15.13     ┆ 994.61    ┆ 464        ┆ 4.64       ┆ 1         ┆ 9         │\n",
      "└───────────┴────────────┴───────────┴───────────┴────────────┴────────────┴───────────┴───────────┘\n",
      "|    |   sales_sum |   sales_mean |   sales_min |   sales_max |   quantity_sum |   quantity_mean |   quantity_min |   quantity_max |\n",
      "|---:|------------:|-------------:|------------:|------------:|---------------:|----------------:|---------------:|---------------:|\n",
      "|  0 |       48227 |       482.27 |       15.13 |      994.61 |            464 |            4.64 |              1 |              9 |\n"
     ]
    }
   ],
   "source": [
    "sales_stats_pl: pl.DataFrame = df_sales_pl.select(\n",
    "    pl.col(\"sales_amount\").sum().alias(\"sales_sum\"),\n",
    "    pl.col(\"sales_amount\").mean().alias(\"sales_mean\"),\n",
    "    pl.col(\"sales_amount\").min().alias(\"sales_min\"),\n",
    "    pl.col(\"sales_amount\").max().alias(\"sales_max\"),\n",
    "    pl.col(\"quantity\").sum().alias(\"quantity_sum\"),\n",
    "    pl.col(\"quantity\").mean().alias(\"quantity_mean\"),\n",
    "    pl.col(\"quantity\").min().alias(\"quantity_min\"),\n",
    "    pl.col(\"quantity\").max().alias(\"quantity_max\"),\n",
    ")\n",
    "print(f\"Sales Statistics: {len(sales_stats_pl)}\")\n",
    "print(sales_stats_pl)\n",
    "print(sales_stats_pl.to_pandas().to_markdown())"
   ]
  },
  {
   "cell_type": "markdown",
   "id": "3bf2cb6e",
   "metadata": {},
   "source": [
    "<div class=\"result\" markdown>\n",
    "\n",
    "```txt\n",
    "Sales Statistics: 1\n",
    "```\n",
    "\n",
    "```txt\n",
    "shape: (1, 8)\n",
    "┌───────────┬────────────┬───────────┬───────────┬──────────────┬───────────────┬──────────────┬──────────────┐\n",
    "│ sales_sum ┆ sales_mean ┆ sales_min ┆ sales_max ┆ quantity_sum ┆ quantity_mean ┆ quantity_min ┆ quantity_max │\n",
    "│ ---       ┆ ---        ┆ ---       ┆ ---       ┆ ---          ┆ ---           ┆ ---          ┆ ---          │\n",
    "│ f64       ┆ f64        ┆ f64       ┆ f64       ┆ i64          ┆ f64           ┆ i64          ┆ i64          │\n",
    "╞═══════════╪════════════╪═══════════╪═══════════╪══════════════╪═══════════════╪══════════════╪══════════════╡\n",
    "│ 48227.05  ┆ 482.2705   ┆ 15.13     ┆ 994.61    ┆ 464          ┆ 4.64          ┆ 1            ┆ 9            │\n",
    "└───────────┴────────────┴───────────┴───────────┴──────────────┴───────────────┴──────────────┴──────────────┘\n",
    "```\n",
    "\n",
    "|      | sales_sum | sales_mean | sales_min | sales_max | quantity_sum | quantity_mean | quantity_min | quantity_max |\n",
    "| ---: | --------: | ---------: | --------: | --------: | -----------: | ------------: | -----------: | -----------: |\n",
    "|    0 |     48227 |     482.27 |     15.13 |    994.61 |          464 |          4.64 |            1 |            9 |\n",
    "\n",
    "</div>\n",
    "\n",
    "It is also possible to group the data by a specific column and then apply aggregation functions to summarize the data by group.\n",
    "\n",
    "### Pandas\n",
    "\n",
    "This is done using the [`.groupby()`][pandas-groupby] method to group data by one or more columns and then apply aggregation functions to summarize the data, followed by the [`.agg()`][pandas-groupby-agg] method."
   ]
  },
  {
   "cell_type": "code",
   "execution_count": null,
   "id": "983b9ef8",
   "metadata": {
    "incorrectly_encoded_metadata": "{.pandas linenums=\"1\" title=\"Group by category and aggregate\"}"
   },
   "outputs": [
    {
     "name": "stdout",
     "output_type": "stream",
     "text": [
      "Category Sales Summary: 5\n",
      "            sales_amount                   quantity\n",
      "                     sum        mean count      sum\n",
      "category                                           \n",
      "Books           10154.83  441.514348    23      100\n",
      "Clothing         7325.31  457.831875    16       62\n",
      "Electronics     11407.45  407.408929    28      147\n",
      "Food            12995.57  541.482083    24      115\n",
      "Home             6343.89  704.876667     9       40\n",
      "| category    |   ('sales_amount', 'sum') |   ('sales_amount', 'mean') |   ('sales_amount', 'count') |   ('quantity', 'sum') |\n",
      "|:------------|--------------------------:|---------------------------:|----------------------------:|----------------------:|\n",
      "| Books       |                  10154.8  |                    441.514 |                          23 |                   100 |\n",
      "| Clothing    |                   7325.31 |                    457.832 |                          16 |                    62 |\n",
      "| Electronics |                  11407.5  |                    407.409 |                          28 |                   147 |\n",
      "| Food        |                  12995.6  |                    541.482 |                          24 |                   115 |\n",
      "| Home        |                   6343.89 |                    704.877 |                           9 |                    40 |\n"
     ]
    }
   ],
   "source": [
    "category_sales_pd: pd.DataFrame = df_sales_pd.groupby(\"category\").agg(\n",
    "    {\n",
    "        \"sales_amount\": [\"sum\", \"mean\", \"count\"],\n",
    "        \"quantity\": \"sum\",\n",
    "    }\n",
    ")\n",
    "print(f\"Category Sales Summary: {len(category_sales_pd)}\")\n",
    "print(category_sales_pd)\n",
    "print(category_sales_pd.to_markdown())"
   ]
  },
  {
   "cell_type": "markdown",
   "id": "e4314f95",
   "metadata": {},
   "source": [
    "<div class=\"result\" markdown>\n",
    "\n",
    "```txt\n",
    "Category Sales Summary: 5\n",
    "```\n",
    "\n",
    "```txt\n",
    "            sales_amount                   quantity\n",
    "                     sum        mean count      sum\n",
    "category\n",
    "Books           10154.83  441.514348    23      100\n",
    "Clothing         7325.31  457.831875    16       62\n",
    "Electronics     11407.45  407.408929    28      147\n",
    "Food            12995.57  541.482083    24      115\n",
    "Home             6343.89  704.876667     9       40\n",
    "```\n",
    "\n",
    "| category    | ('sales_amount', 'sum') | ('sales_amount', 'mean') | ('sales_amount', 'count') | ('quantity', 'sum') |\n",
    "| :---------- | ----------------------: | -----------------------: | ------------------------: | ------------------: |\n",
    "| Books       |                 10154.8 |                  441.514 |                        23 |                 100 |\n",
    "| Clothing    |                 7325.31 |                  457.832 |                        16 |                  62 |\n",
    "| Electronics |                 11407.5 |                  407.409 |                        28 |                 147 |\n",
    "| Food        |                 12995.6 |                  541.482 |                        24 |                 115 |\n",
    "| Home        |                 6343.89 |                  704.877 |                         9 |                  40 |\n",
    "\n",
    "</div>\n",
    "\n",
    "### SQL\n",
    "\n",
    "In SQL, we can use the `GROUP BY` clause to group rows that have the same values in specified columns into summary rows. We can then apply aggregate functions like `SUM()`, `AVG()`, and `COUNT()` in the `SELECT` clause to summarize the data by group."
   ]
  },
  {
   "cell_type": "code",
   "execution_count": null,
   "id": "6876c78e",
   "metadata": {
    "incorrectly_encoded_metadata": "{.sql linenums=\"1\" title=\"Group by category and aggregate\"}"
   },
   "outputs": [
    {
     "name": "stdout",
     "output_type": "stream",
     "text": [
      "Category Sales Summary: 5\n",
      "      category  total_sales  average_sales  transaction_count  total_quantity\n",
      "0        Books     10154.83     441.514348                 23             100\n",
      "1     Clothing      7325.31     457.831875                 16              62\n",
      "2  Electronics     11407.45     407.408929                 28             147\n",
      "3         Food     12995.57     541.482083                 24             115\n",
      "4         Home      6343.89     704.876667                  9              40\n",
      "|    | category    |   total_sales |   average_sales |   transaction_count |   total_quantity |\n",
      "|---:|:------------|--------------:|----------------:|--------------------:|-----------------:|\n",
      "|  0 | Books       |      10154.8  |         441.514 |                  23 |              100 |\n",
      "|  1 | Clothing    |       7325.31 |         457.832 |                  16 |               62 |\n",
      "|  2 | Electronics |      11407.5  |         407.409 |                  28 |              147 |\n",
      "|  3 | Food        |      12995.6  |         541.482 |                  24 |              115 |\n",
      "|  4 | Home        |       6343.89 |         704.877 |                   9 |               40 |\n"
     ]
    }
   ],
   "source": [
    "category_sales_txt: str = \"\"\"\n",
    "    SELECT\n",
    "        category,\n",
    "        SUM(sales_amount) AS total_sales,\n",
    "        AVG(sales_amount) AS average_sales,\n",
    "        COUNT(*) AS transaction_count,\n",
    "        SUM(quantity) AS total_quantity\n",
    "    FROM sales\n",
    "    GROUP BY category\n",
    "\"\"\"\n",
    "print(f\"Category Sales Summary: {len(pd.read_sql(category_sales_txt, conn))}\")\n",
    "print(pd.read_sql(category_sales_txt + \"LIMIT 5\", conn))\n",
    "print(pd.read_sql(category_sales_txt + \"LIMIT 5\", conn).to_markdown())"
   ]
  },
  {
   "cell_type": "markdown",
   "id": "a0a37ece",
   "metadata": {},
   "source": [
    "<div class=\"result\" markdown>\n",
    "\n",
    "```txt\n",
    "Category Sales Summary: 5\n",
    "```\n",
    "\n",
    "```txt\n",
    "      category  total_sales  average_sales  transaction_count  total_quantity\n",
    "0        Books     10154.83     441.514348                 23             100\n",
    "1     Clothing      7325.31     457.831875                 16              62\n",
    "2  Electronics     11407.45     407.408929                 28             147\n",
    "3         Food     12995.57     541.482083                 24             115\n",
    "4         Home      6343.89     704.876667                  9              40\n",
    "```\n",
    "\n",
    "|      | category    | total_sales | average_sales | transaction_count | total_quantity |\n",
    "| ---: | :---------- | ----------: | ------------: | ----------------: | -------------: |\n",
    "|    0 | Books       |     10154.8 |       441.514 |                23 |            100 |\n",
    "|    1 | Clothing    |     7325.31 |       457.832 |                16 |             62 |\n",
    "|    2 | Electronics |     11407.5 |       407.409 |                28 |            147 |\n",
    "|    3 | Food        |     12995.6 |       541.482 |                24 |            115 |\n",
    "|    4 | Home        |     6343.89 |       704.877 |                 9 |             40 |\n",
    "\n",
    "</div>\n",
    "\n",
    "### PySpark\n",
    "\n",
    "In PySpark, we can use the [`.groupBy()`][pyspark-groupby] method to group data by one or more columns and then apply aggregation functions using the [`.agg()`][pyspark-groupby-agg] method."
   ]
  },
  {
   "cell_type": "code",
   "execution_count": null,
   "id": "dbcab0c1",
   "metadata": {
    "incorrectly_encoded_metadata": "{.pyspark linenums=\"1\" title=\"Group by category and aggregate\"}"
   },
   "outputs": [
    {
     "name": "stdout",
     "output_type": "stream",
     "text": [
      "Category Sales Summary: 5\n",
      "+-----------+------------------+------------------+-----------------+--------------+\n",
      "|   category|       total_sales|     average_sales|transaction_count|total_quantity|\n",
      "+-----------+------------------+------------------+-----------------+--------------+\n",
      "|       Home| 6343.889999999999| 704.8766666666666|                9|            40|\n",
      "|       Food|          12995.57| 541.4820833333333|               24|           115|\n",
      "|Electronics|11407.449999999999|407.40892857142853|               28|           147|\n",
      "|   Clothing|7325.3099999999995|457.83187499999997|               16|            62|\n",
      "|      Books|          10154.83|  441.514347826087|               23|           100|\n",
      "+-----------+------------------+------------------+-----------------+--------------+\n",
      "\n",
      "|    | category    |   total_sales |   average_sales |   transaction_count |   total_quantity |\n",
      "|---:|:------------|--------------:|----------------:|--------------------:|-----------------:|\n",
      "|  0 | Home        |       6343.89 |         704.877 |                   9 |               40 |\n",
      "|  1 | Food        |      12995.6  |         541.482 |                  24 |              115 |\n",
      "|  2 | Electronics |      11407.4  |         407.409 |                  28 |              147 |\n",
      "|  3 | Clothing    |       7325.31 |         457.832 |                  16 |               62 |\n",
      "|  4 | Books       |      10154.8  |         441.514 |                  23 |              100 |\n"
     ]
    }
   ],
   "source": [
    "category_sales_ps: psDataFrame = df_sales_ps.groupBy(\"category\").agg(\n",
    "    F.sum(\"sales_amount\").alias(\"total_sales\"),\n",
    "    F.avg(\"sales_amount\").alias(\"average_sales\"),\n",
    "    F.count(\"*\").alias(\"transaction_count\"),\n",
    "    F.sum(\"quantity\").alias(\"total_quantity\"),\n",
    ")\n",
    "print(f\"Category Sales Summary: {category_sales_ps.count()}\")\n",
    "category_sales_ps.show(5)\n",
    "print(category_sales_ps.limit(5).toPandas().to_markdown())"
   ]
  },
  {
   "cell_type": "markdown",
   "id": "d42f51e5",
   "metadata": {},
   "source": [
    "<div class=\"result\" markdown>\n",
    "\n",
    "```txt\n",
    "Category Sales Summary: 5\n",
    "```\n",
    "\n",
    "```txt\n",
    "+-----------+------------------+------------------+-----------------+--------------+\n",
    "|   category|       total_sales|     average_sales|transaction_count|total_quantity|\n",
    "+-----------+------------------+------------------+-----------------+--------------+\n",
    "|       Home| 6343.889999999999| 704.8766666666666|                9|            40|\n",
    "|       Food|          12995.57| 541.4820833333333|               24|           115|\n",
    "|Electronics|11407.449999999999|407.40892857142853|               28|           147|\n",
    "|   Clothing|7325.3099999999995|457.83187499999997|               16|            62|\n",
    "|      Books|          10154.83|  441.514347826087|               23|           100|\n",
    "+-----------+------------------+------------------+-----------------+--------------+\n",
    "```\n",
    "\n",
    "|      | category    | total_sales | average_sales | transaction_count | total_quantity |\n",
    "| ---: | :---------- | ----------: | ------------: | ----------------: | -------------: |\n",
    "|    0 | Home        |     6343.89 |       704.877 |                 9 |             40 |\n",
    "|    1 | Food        |     12995.6 |       541.482 |                24 |            115 |\n",
    "|    2 | Electronics |     11407.4 |       407.409 |                28 |            147 |\n",
    "|    3 | Clothing    |     7325.31 |       457.832 |                16 |             62 |\n",
    "|    4 | Books       |     10154.8 |       441.514 |                23 |            100 |\n",
    "\n",
    "</div>\n",
    "\n",
    "### Polars\n",
    "\n",
    "In Polars, we can use the [`.group_by()`][polars-groupby] method to group data by one or more columns and then apply aggregation functions using the [`.agg()`][polars-groupby-agg] method."
   ]
  },
  {
   "cell_type": "code",
   "execution_count": null,
   "id": "fb38cfd4",
   "metadata": {
    "incorrectly_encoded_metadata": "{.polars linenums=\"1\" title=\"Group by category and aggregate\"}"
   },
   "outputs": [
    {
     "name": "stdout",
     "output_type": "stream",
     "text": [
      "Category Sales Summary: 5\n",
      "shape: (5, 5)\n",
      "┌─────────────┬─────────────┬───────────────┬───────────────────┬────────────────┐\n",
      "│ category    ┆ total_sales ┆ average_sales ┆ transaction_count ┆ total_quantity │\n",
      "│ ---         ┆ ---         ┆ ---           ┆ ---               ┆ ---            │\n",
      "│ str         ┆ f64         ┆ f64           ┆ u32               ┆ i64            │\n",
      "╞═════════════╪═════════════╪═══════════════╪═══════════════════╪════════════════╡\n",
      "│ Books       ┆ 10154.83    ┆ 441.514348    ┆ 23                ┆ 100            │\n",
      "│ Electronics ┆ 11407.45    ┆ 407.408929    ┆ 28                ┆ 147            │\n",
      "│ Clothing    ┆ 7325.31     ┆ 457.831875    ┆ 16                ┆ 62             │\n",
      "│ Home        ┆ 6343.89     ┆ 704.876667    ┆ 9                 ┆ 40             │\n",
      "│ Food        ┆ 12995.57    ┆ 541.482083    ┆ 24                ┆ 115            │\n",
      "└─────────────┴─────────────┴───────────────┴───────────────────┴────────────────┘\n",
      "|    | category    |   total_sales |   average_sales |   transaction_count |   total_quantity |\n",
      "|---:|:------------|--------------:|----------------:|--------------------:|-----------------:|\n",
      "|  0 | Books       |      10154.8  |         441.514 |                  23 |              100 |\n",
      "|  1 | Electronics |      11407.5  |         407.409 |                  28 |              147 |\n",
      "|  2 | Clothing    |       7325.31 |         457.832 |                  16 |               62 |\n",
      "|  3 | Home        |       6343.89 |         704.877 |                   9 |               40 |\n",
      "|  4 | Food        |      12995.6  |         541.482 |                  24 |              115 |\n"
     ]
    }
   ],
   "source": [
    "category_sales_pl: pl.DataFrame = df_sales_pl.group_by(\"category\").agg(\n",
    "    pl.col(\"sales_amount\").sum().alias(\"total_sales\"),\n",
    "    pl.col(\"sales_amount\").mean().alias(\"average_sales\"),\n",
    "    pl.col(\"sales_amount\").count().alias(\"transaction_count\"),\n",
    "    pl.col(\"quantity\").sum().alias(\"total_quantity\"),\n",
    ")\n",
    "print(f\"Category Sales Summary: {len(category_sales_pl)}\")\n",
    "print(category_sales_pl.head(5))\n",
    "print(category_sales_pl.head(5).to_pandas().to_markdown())"
   ]
  },
  {
   "cell_type": "markdown",
   "id": "f7e22d0f",
   "metadata": {},
   "source": [
    "<div class=\"result\" markdown>\n",
    "\n",
    "```txt\n",
    "Category Sales Summary: 5\n",
    "```\n",
    "\n",
    "```txt\n",
    "shape: (5, 5)\n",
    "┌─────────────┬─────────────┬───────────────┬───────────────────┬────────────────┐\n",
    "│ category    ┆ total_sales ┆ average_sales ┆ transaction_count ┆ total_quantity │\n",
    "│ ---         ┆ ---         ┆ ---           ┆ ---               ┆ ---            │\n",
    "│ str         ┆ f64         ┆ f64           ┆ u32               ┆ i64            │\n",
    "╞═════════════╪═════════════╪═══════════════╪═══════════════════╪════════════════╡\n",
    "│ Food        ┆ 12995.57    ┆ 541.482083    ┆ 24                ┆ 115            │\n",
    "│ Electronics ┆ 11407.45    ┆ 407.408929    ┆ 28                ┆ 147            │\n",
    "│ Books       ┆ 10154.83    ┆ 441.514348    ┆ 23                ┆ 100            │\n",
    "│ Home        ┆ 6343.89     ┆ 704.876667    ┆ 9                 ┆ 40             │\n",
    "│ Clothing    ┆ 7325.31     ┆ 457.831875    ┆ 16                ┆ 62             │\n",
    "└─────────────┴─────────────┴───────────────┴───────────────────┴────────────────┘\n",
    "```\n",
    "\n",
    "|      | category    | total_sales | average_sales | transaction_count | total_quantity |\n",
    "| ---: | :---------- | ----------: | ------------: | ----------------: | -------------: |\n",
    "|    0 | Food        |     12995.6 |       541.482 |                24 |            115 |\n",
    "|    1 | Electronics |     11407.5 |       407.409 |                28 |            147 |\n",
    "|    2 | Books       |     10154.8 |       441.514 |                23 |            100 |\n",
    "|    3 | Home        |     6343.89 |       704.877 |                 9 |             40 |\n",
    "|    4 | Clothing    |     7325.31 |       457.832 |                16 |             62 |\n",
    "\n",
    "</div>\n",
    "\n",
    "We can rename the columns for clarity by simply assigning new names.\n",
    "\n",
    "### Pandas\n",
    "\n",
    "In Pandas, we use the [`.columns`][pandas-columns] attribute of the DataFrame. This makes it easier to understand the results of the aggregation.\n",
    "\n",
    "It's also possible to rename columns using the [`.rename()`][pandas-rename] method, which allows for more flexibility in renaming specific columns from within 'dot-method' chains."
   ]
  },
  {
   "cell_type": "code",
   "execution_count": null,
   "id": "b47248ee",
   "metadata": {
    "incorrectly_encoded_metadata": "{.pandas linenums=\"1\" title=\"Rename columns for clarity\"}"
   },
   "outputs": [
    {
     "name": "stdout",
     "output_type": "stream",
     "text": [
      "Renamed Category Sales Summary: 5\n",
      "             Total Sales  Average Sales  Transaction Count  Total Quantity\n",
      "category                                                                  \n",
      "Books           10154.83     441.514348                 23             100\n",
      "Clothing         7325.31     457.831875                 16              62\n",
      "Electronics     11407.45     407.408929                 28             147\n",
      "Food            12995.57     541.482083                 24             115\n",
      "Home             6343.89     704.876667                  9              40\n",
      "| category    |   Total Sales |   Average Sales |   Transaction Count |   Total Quantity |\n",
      "|:------------|--------------:|----------------:|--------------------:|-----------------:|\n",
      "| Books       |      10154.8  |         441.514 |                  23 |              100 |\n",
      "| Clothing    |       7325.31 |         457.832 |                  16 |               62 |\n",
      "| Electronics |      11407.5  |         407.409 |                  28 |              147 |\n",
      "| Food        |      12995.6  |         541.482 |                  24 |              115 |\n",
      "| Home        |       6343.89 |         704.877 |                   9 |               40 |\n"
     ]
    }
   ],
   "source": [
    "category_sales_renamed_pd: pd.DataFrame = category_sales_pd.copy()\n",
    "category_sales_renamed_pd.columns = [\n",
    "    \"Total Sales\",\n",
    "    \"Average Sales\",\n",
    "    \"Transaction Count\",\n",
    "    \"Total Quantity\",\n",
    "]\n",
    "print(f\"Renamed Category Sales Summary: {len(category_sales_renamed_pd)}\")\n",
    "print(category_sales_renamed_pd.head(5))\n",
    "print(category_sales_renamed_pd.head(5).to_markdown())"
   ]
  },
  {
   "cell_type": "markdown",
   "id": "9b05521c",
   "metadata": {},
   "source": [
    "<div class=\"result\" markdown>\n",
    "\n",
    "```txt\n",
    "Renamed Category Sales Summary: 5\n",
    "```\n",
    "\n",
    "```txt\n",
    "             Total Sales  Average Sales  Transaction Count  Total Quantity\n",
    "category\n",
    "Books           10154.83     441.514348                 23             100\n",
    "Clothing         7325.31     457.831875                 16              62\n",
    "Electronics     11407.45     407.408929                 28             147\n",
    "Food            12995.57     541.482083                 24             115\n",
    "Home             6343.89     704.876667                  9              40\n",
    "```\n",
    "\n",
    "| category    | Total Sales | Average Sales | Transaction Count | Total Quantity |\n",
    "| :---------- | ----------: | ------------: | ----------------: | -------------: |\n",
    "| Books       |     10154.8 |       441.514 |                23 |            100 |\n",
    "| Clothing    |     7325.31 |       457.832 |                16 |             62 |\n",
    "| Electronics |     11407.5 |       407.409 |                28 |            147 |\n",
    "| Food        |     12995.6 |       541.482 |                24 |            115 |\n",
    "| Home        |     6343.89 |       704.877 |                 9 |             40 |\n",
    "\n",
    "</div>\n",
    "\n",
    "### SQL\n",
    "\n",
    "In SQL, we can use the `AS` keyword to rename columns in the `SELECT` clause. This allows us to provide more descriptive names for the aggregated columns.\n",
    "\n",
    "In this example, we provide the same aggregation as before, but from within a subquery. Then, in the parent query, we rename the columns for clarity."
   ]
  },
  {
   "cell_type": "code",
   "execution_count": null,
   "id": "506fa068",
   "metadata": {
    "incorrectly_encoded_metadata": "{.sql linenums=\"1\" title=\"Rename columns for clarity\"}"
   },
   "outputs": [
    {
     "name": "stdout",
     "output_type": "stream",
     "text": [
      "Renamed Category Sales Summary: 5\n",
      "      category  Total Sales  Average Sales  Transaction Count  Total Quantity\n",
      "0        Books     10154.83     441.514348                 23             100\n",
      "1     Clothing      7325.31     457.831875                 16              62\n",
      "2  Electronics     11407.45     407.408929                 28             147\n",
      "3         Food     12995.57     541.482083                 24             115\n",
      "4         Home      6343.89     704.876667                  9              40\n",
      "|    | category    |   Total Sales |   Average Sales |   Transaction Count |   Total Quantity |\n",
      "|---:|:------------|--------------:|----------------:|--------------------:|-----------------:|\n",
      "|  0 | Books       |      10154.8  |         441.514 |                  23 |              100 |\n",
      "|  1 | Clothing    |       7325.31 |         457.832 |                  16 |               62 |\n",
      "|  2 | Electronics |      11407.5  |         407.409 |                  28 |              147 |\n",
      "|  3 | Food        |      12995.6  |         541.482 |                  24 |              115 |\n",
      "|  4 | Home        |       6343.89 |         704.877 |                   9 |               40 |\n"
     ]
    }
   ],
   "source": [
    "category_sales_renamed_txt: str = \"\"\"\n",
    "    SELECT\n",
    "        category,\n",
    "        total_sales AS `Total Sales`,\n",
    "        average_sales AS `Average Sales`,\n",
    "        transaction_count AS `Transaction Count`,\n",
    "        total_quantity AS `Total Quantity`\n",
    "    FROM (\n",
    "        SELECT\n",
    "            category,\n",
    "            SUM(sales_amount) AS total_sales,\n",
    "            AVG(sales_amount) AS average_sales,\n",
    "            COUNT(*) AS transaction_count,\n",
    "            SUM(quantity) AS total_quantity\n",
    "        FROM sales\n",
    "        GROUP BY category\n",
    "    ) AS sales_summary\n",
    "\"\"\"\n",
    "print(f\"Renamed Category Sales Summary: {len(pd.read_sql(category_sales_renamed_txt, conn))}\")\n",
    "print(pd.read_sql(category_sales_renamed_txt + \"LIMIT 5\", conn))\n",
    "print(pd.read_sql(category_sales_renamed_txt + \"LIMIT 5\", conn).to_markdown())"
   ]
  },
  {
   "cell_type": "markdown",
   "id": "a67d8e5a",
   "metadata": {},
   "source": [
    "<div class=\"result\" markdown>\n",
    "\n",
    "```txt\n",
    "Renamed Category Sales Summary: 5\n",
    "```\n",
    "\n",
    "```txt\n",
    "             Total Sales  Average Sales  Transaction Count  Total Quantity\n",
    "category\n",
    "Books           10154.83     441.514348                 23             100\n",
    "Clothing         7325.31     457.831875                 16              62\n",
    "Electronics     11407.45     407.408929                 28             147\n",
    "Food            12995.57     541.482083                 24             115\n",
    "Home             6343.89     704.876667                  9              40\n",
    "```\n",
    "\n",
    "| category    | Total Sales | Average Sales | Transaction Count | Total Quantity |\n",
    "| :---------- | ----------: | ------------: | ----------------: | -------------: |\n",
    "| Books       |     10154.8 |       441.514 |                23 |            100 |\n",
    "| Clothing    |     7325.31 |       457.832 |                16 |             62 |\n",
    "| Electronics |     11407.5 |       407.409 |                28 |            147 |\n",
    "| Food        |     12995.6 |       541.482 |                24 |            115 |\n",
    "| Home        |     6343.89 |       704.877 |                 9 |             40 |\n",
    "\n",
    "</div>\n",
    "\n",
    "### PySpark\n",
    "\n",
    "In PySpark, we can use the [`.withColumnsRenamed()`][pyspark-withcolumnsrenamed] method to rename columns in a DataFrame. This allows us to provide more descriptive names for the aggregated columns."
   ]
  },
  {
   "cell_type": "code",
   "execution_count": null,
   "id": "02a3bbb1",
   "metadata": {
    "incorrectly_encoded_metadata": "{.pyspark linenums=\"1\" title=\"Rename columns for clarity\"}"
   },
   "outputs": [
    {
     "name": "stdout",
     "output_type": "stream",
     "text": [
      "Renamed Category Sales Summary: 5\n",
      "+-----------+------------------+------------------+-----------------+--------------+\n",
      "|   category|       Total Sales|     Average Sales|Transaction Count|Total Quantity|\n",
      "+-----------+------------------+------------------+-----------------+--------------+\n",
      "|       Home| 6343.889999999999| 704.8766666666666|                9|            40|\n",
      "|       Food|          12995.57| 541.4820833333333|               24|           115|\n",
      "|Electronics|11407.449999999999|407.40892857142853|               28|           147|\n",
      "|   Clothing|7325.3099999999995|457.83187499999997|               16|            62|\n",
      "|      Books|          10154.83|  441.514347826087|               23|           100|\n",
      "+-----------+------------------+------------------+-----------------+--------------+\n",
      "\n",
      "|    | category    |   Total Sales |   Average Sales |   Transaction Count |   Total Quantity |\n",
      "|---:|:------------|--------------:|----------------:|--------------------:|-----------------:|\n",
      "|  0 | Home        |       6343.89 |         704.877 |                   9 |               40 |\n",
      "|  1 | Food        |      12995.6  |         541.482 |                  24 |              115 |\n",
      "|  2 | Electronics |      11407.4  |         407.409 |                  28 |              147 |\n",
      "|  3 | Clothing    |       7325.31 |         457.832 |                  16 |               62 |\n",
      "|  4 | Books       |      10154.8  |         441.514 |                  23 |              100 |\n"
     ]
    }
   ],
   "source": [
    "category_sales_renamed_ps: psDataFrame = category_sales_ps.withColumnsRenamed(\n",
    "    {\n",
    "        \"total_sales\": \"Total Sales\",\n",
    "        \"average_sales\": \"Average Sales\",\n",
    "        \"transaction_count\": \"Transaction Count\",\n",
    "        \"total_quantity\": \"Total Quantity\",\n",
    "    }\n",
    ")\n",
    "print(f\"Renamed Category Sales Summary: {category_sales_renamed_ps.count()}\")\n",
    "category_sales_renamed_ps.show(5)\n",
    "print(category_sales_renamed_ps.limit(5).toPandas().to_markdown())"
   ]
  },
  {
   "cell_type": "markdown",
   "id": "a3187fae",
   "metadata": {},
   "source": [
    "<div class=\"result\" markdown>\n",
    "\n",
    "```txt\n",
    "Renamed Category Sales Summary: 5\n",
    "```\n",
    "\n",
    "```txt\n",
    "+-----------+------------------+------------------+-----------------+--------------+\n",
    "|   category|       Total Sales|     Average Sales|Transaction Count|Total Quantity|\n",
    "+-----------+------------------+------------------+-----------------+--------------+\n",
    "|       Home| 6343.889999999999| 704.8766666666666|                9|            40|\n",
    "|       Food|          12995.57| 541.4820833333333|               24|           115|\n",
    "|Electronics|11407.449999999999|407.40892857142853|               28|           147|\n",
    "|   Clothing|7325.3099999999995|457.83187499999997|               16|            62|\n",
    "|      Books|          10154.83|  441.514347826087|               23|           100|\n",
    "+-----------+------------------+------------------+-----------------+--------------+\n",
    "```\n",
    "\n",
    "|      | category    | Total Sales | Average Sales | Transaction Count | Total Quantity |\n",
    "| ---: | :---------- | ----------: | ------------: | ----------------: | -------------: |\n",
    "|    0 | Home        |     6343.89 |       704.877 |                 9 |             40 |\n",
    "|    1 | Food        |     12995.6 |       541.482 |                24 |            115 |\n",
    "|    2 | Electronics |     11407.4 |       407.409 |                28 |            147 |\n",
    "|    3 | Clothing    |     7325.31 |       457.832 |                16 |             62 |\n",
    "|    4 | Books       |     10154.8 |       441.514 |                23 |            100 |\n",
    "\n",
    "</div>\n",
    "\n",
    "### Polars\n",
    "\n",
    "In Polars, we can use the [`.rename()`][polars-rename] method to rename columns in a DataFrame. This allows us to provide more descriptive names for the aggregated columns."
   ]
  },
  {
   "cell_type": "code",
   "execution_count": null,
   "id": "3f586770",
   "metadata": {
    "incorrectly_encoded_metadata": "{.polars linenums=\"1\" title=\"Rename columns for clarity\"}"
   },
   "outputs": [
    {
     "name": "stdout",
     "output_type": "stream",
     "text": [
      "Renamed Category Sales Summary: 5\n",
      "shape: (5, 5)\n",
      "┌─────────────┬─────────────┬───────────────┬───────────────────┬────────────────┐\n",
      "│ category    ┆ Total Sales ┆ Average Sales ┆ Transaction Count ┆ Total Quantity │\n",
      "│ ---         ┆ ---         ┆ ---           ┆ ---               ┆ ---            │\n",
      "│ str         ┆ f64         ┆ f64           ┆ u32               ┆ i64            │\n",
      "╞═════════════╪═════════════╪═══════════════╪═══════════════════╪════════════════╡\n",
      "│ Books       ┆ 10154.83    ┆ 441.514348    ┆ 23                ┆ 100            │\n",
      "│ Electronics ┆ 11407.45    ┆ 407.408929    ┆ 28                ┆ 147            │\n",
      "│ Clothing    ┆ 7325.31     ┆ 457.831875    ┆ 16                ┆ 62             │\n",
      "│ Home        ┆ 6343.89     ┆ 704.876667    ┆ 9                 ┆ 40             │\n",
      "│ Food        ┆ 12995.57    ┆ 541.482083    ┆ 24                ┆ 115            │\n",
      "└─────────────┴─────────────┴───────────────┴───────────────────┴────────────────┘\n",
      "|    | category    |   Total Sales |   Average Sales |   Transaction Count |   Total Quantity |\n",
      "|---:|:------------|--------------:|----------------:|--------------------:|-----------------:|\n",
      "|  0 | Books       |      10154.8  |         441.514 |                  23 |              100 |\n",
      "|  1 | Electronics |      11407.5  |         407.409 |                  28 |              147 |\n",
      "|  2 | Clothing    |       7325.31 |         457.832 |                  16 |               62 |\n",
      "|  3 | Home        |       6343.89 |         704.877 |                   9 |               40 |\n",
      "|  4 | Food        |      12995.6  |         541.482 |                  24 |              115 |\n"
     ]
    }
   ],
   "source": [
    "category_sales_renamed_pl: pl.DataFrame = category_sales_pl.rename(\n",
    "    {\n",
    "        \"total_sales\": \"Total Sales\",\n",
    "        \"average_sales\": \"Average Sales\",\n",
    "        \"transaction_count\": \"Transaction Count\",\n",
    "        \"total_quantity\": \"Total Quantity\",\n",
    "    }\n",
    ")\n",
    "print(f\"Renamed Category Sales Summary: {len(category_sales_renamed_pl)}\")\n",
    "print(category_sales_renamed_pl.head(5))\n",
    "print(category_sales_renamed_pl.head(5).to_pandas().to_markdown())"
   ]
  },
  {
   "cell_type": "markdown",
   "id": "303f0fe2",
   "metadata": {},
   "source": [
    "<div class=\"result\" markdown>\n",
    "\n",
    "```txt\n",
    "Renamed Category Sales Summary: 5\n",
    "```\n",
    "\n",
    "```txt\n",
    "shape: (5, 5)\n",
    "┌─────────────┬─────────────┬───────────────┬───────────────────┬────────────────┐\n",
    "│ category    ┆ Total Sales ┆ Average Sales ┆ Transaction Count ┆ Total Quantity │\n",
    "│ ---         ┆ ---         ┆ ---           ┆ ---               ┆ ---            │\n",
    "│ str         ┆ f64         ┆ f64           ┆ u32               ┆ i64            │\n",
    "╞═════════════╪═════════════╪═══════════════╪═══════════════════╪════════════════╡\n",
    "│ Food        ┆ 12995.57    ┆ 541.482083    ┆ 24                ┆ 115            │\n",
    "│ Electronics ┆ 11407.45    ┆ 407.408929    ┆ 28                ┆ 147            │\n",
    "│ Books       ┆ 10154.83    ┆ 441.514348    ┆ 23                ┆ 100            │\n",
    "│ Home        ┆ 6343.89     ┆ 704.876667    ┆ 9                 ┆ 40             │\n",
    "│ Clothing    ┆ 7325.31     ┆ 457.831875    ┆ 16                ┆ 62             │\n",
    "└─────────────┴─────────────┴───────────────┴───────────────────┴────────────────┘\n",
    "```\n",
    "\n",
    "|      | category    | Total Sales | Average Sales | Transaction Count | Total Quantity |\n",
    "| ---: | :---------- | ----------: | ------------: | ----------------: | -------------: |\n",
    "|    0 | Food        |     12995.6 |       541.482 |                24 |            115 |\n",
    "|    1 | Electronics |     11407.5 |       407.409 |                28 |            147 |\n",
    "|    2 | Books       |     10154.8 |       441.514 |                23 |            100 |\n",
    "|    3 | Home        |     6343.89 |       704.877 |                 9 |             40 |\n",
    "|    4 | Clothing    |     7325.31 |       457.832 |                16 |             62 |\n",
    "\n",
    "</div>\n",
    "\n",
    "Having aggregated the data, we can now visualize the results using [Plotly][plotly]. This allows us to create interactive visualizations that can help us better understand the data. The simplest way to do this is to use the [Plotly Express][plotly-express] module, which provides a high-level interface for creating visualizations. Here, we have utilised the [`px.bar()`][plotly-bar] function to create a bar chart of the total sales by category.\n",
    "\n",
    "### Pandas\n",
    "\n",
    "The Plotly [`px.bar()`][plotly-bar] function is able to receive a Pandas DataFrame directly, making it easy to create visualizations from the aggregated data. However, what we first need to do is to convert the index labels in to a column, so that we can use it as the x-axis in the bar chart. We do this with the [`.reset_index()`][pandas-reset_index] method."
   ]
  },
  {
   "cell_type": "code",
   "execution_count": null,
   "id": "26939ae8",
   "metadata": {
    "incorrectly_encoded_metadata": "{.pandas linenums=\"1\" title=\"Plot the results\"}"
   },
   "outputs": [
    {
     "data": {
      "application/vnd.plotly.v1+json": {
       "config": {
        "plotlyServerURL": "https://plot.ly"
       },
       "data": [
        {
         "hovertemplate": "Product Category=%{x}<br>Total Sales ($)=%{y}<br>Transaction Count=%{text}<extra></extra>",
         "legendgroup": "",
         "marker": {
          "color": "#1F77B4",
          "pattern": {
           "shape": ""
          }
         },
         "name": "",
         "orientation": "v",
         "showlegend": false,
         "text": {
          "bdata": "AAAAAAAAN0AAAAAAAAAwQAAAAAAAADxAAAAAAAAAOEAAAAAAAAAiQA==",
          "dtype": "f8"
         },
         "textposition": "auto",
         "type": "bar",
         "x": [
          "Books",
          "Clothing",
          "Electronics",
          "Food",
          "Home"
         ],
         "xaxis": "x",
         "y": {
          "bdata": "16NwPWrVw0DD9ShcT528QJqZmZm5R8ZAXI/C9chhyUBwPQrX48e4QA==",
          "dtype": "f8"
         },
         "yaxis": "y"
        }
       ],
       "layout": {
        "barmode": "relative",
        "legend": {
         "tracegroupgap": 0
        },
        "template": {
         "data": {
          "bar": [
           {
            "error_x": {
             "color": "rgb(36,36,36)"
            },
            "error_y": {
             "color": "rgb(36,36,36)"
            },
            "marker": {
             "line": {
              "color": "white",
              "width": 0.5
             },
             "pattern": {
              "fillmode": "overlay",
              "size": 10,
              "solidity": 0.2
             }
            },
            "type": "bar"
           }
          ],
          "barpolar": [
           {
            "marker": {
             "line": {
              "color": "white",
              "width": 0.5
             },
             "pattern": {
              "fillmode": "overlay",
              "size": 10,
              "solidity": 0.2
             }
            },
            "type": "barpolar"
           }
          ],
          "carpet": [
           {
            "aaxis": {
             "endlinecolor": "rgb(36,36,36)",
             "gridcolor": "white",
             "linecolor": "white",
             "minorgridcolor": "white",
             "startlinecolor": "rgb(36,36,36)"
            },
            "baxis": {
             "endlinecolor": "rgb(36,36,36)",
             "gridcolor": "white",
             "linecolor": "white",
             "minorgridcolor": "white",
             "startlinecolor": "rgb(36,36,36)"
            },
            "type": "carpet"
           }
          ],
          "choropleth": [
           {
            "colorbar": {
             "outlinewidth": 1,
             "tickcolor": "rgb(36,36,36)",
             "ticks": "outside"
            },
            "type": "choropleth"
           }
          ],
          "contour": [
           {
            "colorbar": {
             "outlinewidth": 1,
             "tickcolor": "rgb(36,36,36)",
             "ticks": "outside"
            },
            "colorscale": [
             [
              0,
              "#440154"
             ],
             [
              0.1111111111111111,
              "#482878"
             ],
             [
              0.2222222222222222,
              "#3e4989"
             ],
             [
              0.3333333333333333,
              "#31688e"
             ],
             [
              0.4444444444444444,
              "#26828e"
             ],
             [
              0.5555555555555556,
              "#1f9e89"
             ],
             [
              0.6666666666666666,
              "#35b779"
             ],
             [
              0.7777777777777778,
              "#6ece58"
             ],
             [
              0.8888888888888888,
              "#b5de2b"
             ],
             [
              1,
              "#fde725"
             ]
            ],
            "type": "contour"
           }
          ],
          "contourcarpet": [
           {
            "colorbar": {
             "outlinewidth": 1,
             "tickcolor": "rgb(36,36,36)",
             "ticks": "outside"
            },
            "type": "contourcarpet"
           }
          ],
          "heatmap": [
           {
            "colorbar": {
             "outlinewidth": 1,
             "tickcolor": "rgb(36,36,36)",
             "ticks": "outside"
            },
            "colorscale": [
             [
              0,
              "#440154"
             ],
             [
              0.1111111111111111,
              "#482878"
             ],
             [
              0.2222222222222222,
              "#3e4989"
             ],
             [
              0.3333333333333333,
              "#31688e"
             ],
             [
              0.4444444444444444,
              "#26828e"
             ],
             [
              0.5555555555555556,
              "#1f9e89"
             ],
             [
              0.6666666666666666,
              "#35b779"
             ],
             [
              0.7777777777777778,
              "#6ece58"
             ],
             [
              0.8888888888888888,
              "#b5de2b"
             ],
             [
              1,
              "#fde725"
             ]
            ],
            "type": "heatmap"
           }
          ],
          "histogram": [
           {
            "marker": {
             "line": {
              "color": "white",
              "width": 0.6
             }
            },
            "type": "histogram"
           }
          ],
          "histogram2d": [
           {
            "colorbar": {
             "outlinewidth": 1,
             "tickcolor": "rgb(36,36,36)",
             "ticks": "outside"
            },
            "colorscale": [
             [
              0,
              "#440154"
             ],
             [
              0.1111111111111111,
              "#482878"
             ],
             [
              0.2222222222222222,
              "#3e4989"
             ],
             [
              0.3333333333333333,
              "#31688e"
             ],
             [
              0.4444444444444444,
              "#26828e"
             ],
             [
              0.5555555555555556,
              "#1f9e89"
             ],
             [
              0.6666666666666666,
              "#35b779"
             ],
             [
              0.7777777777777778,
              "#6ece58"
             ],
             [
              0.8888888888888888,
              "#b5de2b"
             ],
             [
              1,
              "#fde725"
             ]
            ],
            "type": "histogram2d"
           }
          ],
          "histogram2dcontour": [
           {
            "colorbar": {
             "outlinewidth": 1,
             "tickcolor": "rgb(36,36,36)",
             "ticks": "outside"
            },
            "colorscale": [
             [
              0,
              "#440154"
             ],
             [
              0.1111111111111111,
              "#482878"
             ],
             [
              0.2222222222222222,
              "#3e4989"
             ],
             [
              0.3333333333333333,
              "#31688e"
             ],
             [
              0.4444444444444444,
              "#26828e"
             ],
             [
              0.5555555555555556,
              "#1f9e89"
             ],
             [
              0.6666666666666666,
              "#35b779"
             ],
             [
              0.7777777777777778,
              "#6ece58"
             ],
             [
              0.8888888888888888,
              "#b5de2b"
             ],
             [
              1,
              "#fde725"
             ]
            ],
            "type": "histogram2dcontour"
           }
          ],
          "mesh3d": [
           {
            "colorbar": {
             "outlinewidth": 1,
             "tickcolor": "rgb(36,36,36)",
             "ticks": "outside"
            },
            "type": "mesh3d"
           }
          ],
          "parcoords": [
           {
            "line": {
             "colorbar": {
              "outlinewidth": 1,
              "tickcolor": "rgb(36,36,36)",
              "ticks": "outside"
             }
            },
            "type": "parcoords"
           }
          ],
          "pie": [
           {
            "automargin": true,
            "type": "pie"
           }
          ],
          "scatter": [
           {
            "fillpattern": {
             "fillmode": "overlay",
             "size": 10,
             "solidity": 0.2
            },
            "type": "scatter"
           }
          ],
          "scatter3d": [
           {
            "line": {
             "colorbar": {
              "outlinewidth": 1,
              "tickcolor": "rgb(36,36,36)",
              "ticks": "outside"
             }
            },
            "marker": {
             "colorbar": {
              "outlinewidth": 1,
              "tickcolor": "rgb(36,36,36)",
              "ticks": "outside"
             }
            },
            "type": "scatter3d"
           }
          ],
          "scattercarpet": [
           {
            "marker": {
             "colorbar": {
              "outlinewidth": 1,
              "tickcolor": "rgb(36,36,36)",
              "ticks": "outside"
             }
            },
            "type": "scattercarpet"
           }
          ],
          "scattergeo": [
           {
            "marker": {
             "colorbar": {
              "outlinewidth": 1,
              "tickcolor": "rgb(36,36,36)",
              "ticks": "outside"
             }
            },
            "type": "scattergeo"
           }
          ],
          "scattergl": [
           {
            "marker": {
             "colorbar": {
              "outlinewidth": 1,
              "tickcolor": "rgb(36,36,36)",
              "ticks": "outside"
             }
            },
            "type": "scattergl"
           }
          ],
          "scattermap": [
           {
            "marker": {
             "colorbar": {
              "outlinewidth": 1,
              "tickcolor": "rgb(36,36,36)",
              "ticks": "outside"
             }
            },
            "type": "scattermap"
           }
          ],
          "scattermapbox": [
           {
            "marker": {
             "colorbar": {
              "outlinewidth": 1,
              "tickcolor": "rgb(36,36,36)",
              "ticks": "outside"
             }
            },
            "type": "scattermapbox"
           }
          ],
          "scatterpolar": [
           {
            "marker": {
             "colorbar": {
              "outlinewidth": 1,
              "tickcolor": "rgb(36,36,36)",
              "ticks": "outside"
             }
            },
            "type": "scatterpolar"
           }
          ],
          "scatterpolargl": [
           {
            "marker": {
             "colorbar": {
              "outlinewidth": 1,
              "tickcolor": "rgb(36,36,36)",
              "ticks": "outside"
             }
            },
            "type": "scatterpolargl"
           }
          ],
          "scatterternary": [
           {
            "marker": {
             "colorbar": {
              "outlinewidth": 1,
              "tickcolor": "rgb(36,36,36)",
              "ticks": "outside"
             }
            },
            "type": "scatterternary"
           }
          ],
          "surface": [
           {
            "colorbar": {
             "outlinewidth": 1,
             "tickcolor": "rgb(36,36,36)",
             "ticks": "outside"
            },
            "colorscale": [
             [
              0,
              "#440154"
             ],
             [
              0.1111111111111111,
              "#482878"
             ],
             [
              0.2222222222222222,
              "#3e4989"
             ],
             [
              0.3333333333333333,
              "#31688e"
             ],
             [
              0.4444444444444444,
              "#26828e"
             ],
             [
              0.5555555555555556,
              "#1f9e89"
             ],
             [
              0.6666666666666666,
              "#35b779"
             ],
             [
              0.7777777777777778,
              "#6ece58"
             ],
             [
              0.8888888888888888,
              "#b5de2b"
             ],
             [
              1,
              "#fde725"
             ]
            ],
            "type": "surface"
           }
          ],
          "table": [
           {
            "cells": {
             "fill": {
              "color": "rgb(237,237,237)"
             },
             "line": {
              "color": "white"
             }
            },
            "header": {
             "fill": {
              "color": "rgb(217,217,217)"
             },
             "line": {
              "color": "white"
             }
            },
            "type": "table"
           }
          ]
         },
         "layout": {
          "annotationdefaults": {
           "arrowhead": 0,
           "arrowwidth": 1
          },
          "autotypenumbers": "strict",
          "coloraxis": {
           "colorbar": {
            "outlinewidth": 1,
            "tickcolor": "rgb(36,36,36)",
            "ticks": "outside"
           }
          },
          "colorscale": {
           "diverging": [
            [
             0,
             "rgb(103,0,31)"
            ],
            [
             0.1,
             "rgb(178,24,43)"
            ],
            [
             0.2,
             "rgb(214,96,77)"
            ],
            [
             0.3,
             "rgb(244,165,130)"
            ],
            [
             0.4,
             "rgb(253,219,199)"
            ],
            [
             0.5,
             "rgb(247,247,247)"
            ],
            [
             0.6,
             "rgb(209,229,240)"
            ],
            [
             0.7,
             "rgb(146,197,222)"
            ],
            [
             0.8,
             "rgb(67,147,195)"
            ],
            [
             0.9,
             "rgb(33,102,172)"
            ],
            [
             1,
             "rgb(5,48,97)"
            ]
           ],
           "sequential": [
            [
             0,
             "#440154"
            ],
            [
             0.1111111111111111,
             "#482878"
            ],
            [
             0.2222222222222222,
             "#3e4989"
            ],
            [
             0.3333333333333333,
             "#31688e"
            ],
            [
             0.4444444444444444,
             "#26828e"
            ],
            [
             0.5555555555555556,
             "#1f9e89"
            ],
            [
             0.6666666666666666,
             "#35b779"
            ],
            [
             0.7777777777777778,
             "#6ece58"
            ],
            [
             0.8888888888888888,
             "#b5de2b"
            ],
            [
             1,
             "#fde725"
            ]
           ],
           "sequentialminus": [
            [
             0,
             "#440154"
            ],
            [
             0.1111111111111111,
             "#482878"
            ],
            [
             0.2222222222222222,
             "#3e4989"
            ],
            [
             0.3333333333333333,
             "#31688e"
            ],
            [
             0.4444444444444444,
             "#26828e"
            ],
            [
             0.5555555555555556,
             "#1f9e89"
            ],
            [
             0.6666666666666666,
             "#35b779"
            ],
            [
             0.7777777777777778,
             "#6ece58"
            ],
            [
             0.8888888888888888,
             "#b5de2b"
            ],
            [
             1,
             "#fde725"
            ]
           ]
          },
          "colorway": [
           "#1F77B4",
           "#FF7F0E",
           "#2CA02C",
           "#D62728",
           "#9467BD",
           "#8C564B",
           "#E377C2",
           "#7F7F7F",
           "#BCBD22",
           "#17BECF"
          ],
          "font": {
           "color": "rgb(36,36,36)"
          },
          "geo": {
           "bgcolor": "white",
           "lakecolor": "white",
           "landcolor": "white",
           "showlakes": true,
           "showland": true,
           "subunitcolor": "white"
          },
          "hoverlabel": {
           "align": "left"
          },
          "hovermode": "closest",
          "mapbox": {
           "style": "light"
          },
          "paper_bgcolor": "white",
          "plot_bgcolor": "white",
          "polar": {
           "angularaxis": {
            "gridcolor": "rgb(232,232,232)",
            "linecolor": "rgb(36,36,36)",
            "showgrid": false,
            "showline": true,
            "ticks": "outside"
           },
           "bgcolor": "white",
           "radialaxis": {
            "gridcolor": "rgb(232,232,232)",
            "linecolor": "rgb(36,36,36)",
            "showgrid": false,
            "showline": true,
            "ticks": "outside"
           }
          },
          "scene": {
           "xaxis": {
            "backgroundcolor": "white",
            "gridcolor": "rgb(232,232,232)",
            "gridwidth": 2,
            "linecolor": "rgb(36,36,36)",
            "showbackground": true,
            "showgrid": false,
            "showline": true,
            "ticks": "outside",
            "zeroline": false,
            "zerolinecolor": "rgb(36,36,36)"
           },
           "yaxis": {
            "backgroundcolor": "white",
            "gridcolor": "rgb(232,232,232)",
            "gridwidth": 2,
            "linecolor": "rgb(36,36,36)",
            "showbackground": true,
            "showgrid": false,
            "showline": true,
            "ticks": "outside",
            "zeroline": false,
            "zerolinecolor": "rgb(36,36,36)"
           },
           "zaxis": {
            "backgroundcolor": "white",
            "gridcolor": "rgb(232,232,232)",
            "gridwidth": 2,
            "linecolor": "rgb(36,36,36)",
            "showbackground": true,
            "showgrid": false,
            "showline": true,
            "ticks": "outside",
            "zeroline": false,
            "zerolinecolor": "rgb(36,36,36)"
           }
          },
          "shapedefaults": {
           "fillcolor": "black",
           "line": {
            "width": 0
           },
           "opacity": 0.3
          },
          "ternary": {
           "aaxis": {
            "gridcolor": "rgb(232,232,232)",
            "linecolor": "rgb(36,36,36)",
            "showgrid": false,
            "showline": true,
            "ticks": "outside"
           },
           "baxis": {
            "gridcolor": "rgb(232,232,232)",
            "linecolor": "rgb(36,36,36)",
            "showgrid": false,
            "showline": true,
            "ticks": "outside"
           },
           "bgcolor": "white",
           "caxis": {
            "gridcolor": "rgb(232,232,232)",
            "linecolor": "rgb(36,36,36)",
            "showgrid": false,
            "showline": true,
            "ticks": "outside"
           }
          },
          "title": {
           "x": 0.05
          },
          "xaxis": {
           "automargin": true,
           "gridcolor": "rgb(232,232,232)",
           "linecolor": "rgb(36,36,36)",
           "showgrid": true,
           "showline": true,
           "ticks": "outside",
           "title": {
            "standoff": 15
           },
           "zeroline": false,
           "zerolinecolor": "rgb(36,36,36)"
          },
          "yaxis": {
           "automargin": true,
           "gridcolor": "rgb(232,232,232)",
           "linecolor": "rgb(36,36,36)",
           "showgrid": true,
           "showline": true,
           "ticks": "outside",
           "title": {
            "standoff": 15
           },
           "zeroline": false,
           "zerolinecolor": "rgb(36,36,36)"
          }
         }
        },
        "title": {
         "text": "Total Sales by Category"
        },
        "xaxis": {
         "anchor": "y",
         "domain": [
          0,
          1
         ],
         "title": {
          "text": "Product Category"
         }
        },
        "yaxis": {
         "anchor": "x",
         "domain": [
          0,
          1
         ],
         "title": {
          "text": "Total Sales ($)"
         }
        }
       }
      }
     },
     "metadata": {},
     "output_type": "display_data"
    }
   ],
   "source": [
    "fig: go.Figure = px.bar(\n",
    "    data_frame=category_sales_renamed_pd.reset_index(),\n",
    "    x=\"category\",\n",
    "    y=\"Total Sales\",\n",
    "    title=\"Total Sales by Category\",\n",
    "    text=\"Transaction Count\",\n",
    "    labels={\"Total Sales\": \"Total Sales ($)\", \"category\": \"Product Category\"},\n",
    ")\n",
    "fig.write_html(\"images/pt2_total_sales_by_category_pd.html\", include_plotlyjs=\"cdn\", full_html=True)\n",
    "fig.show()"
   ]
  },
  {
   "cell_type": "markdown",
   "id": "89d531ef",
   "metadata": {},
   "source": [
    "<div class=\"result\" markdown>"
   ]
  },
  {
   "cell_type": "markdown",
   "id": "ac367186",
   "metadata": {},
   "source": [
    "</div>\n",
    "\n",
    "### SQL\n",
    "\n",
    "The Plotly [`px.bar()`][plotly-bar] function can also receive a Pandas DataFrame, so we can use the results of the SQL query directly. Since the method we are using already returns the group labels in an individual column, we can use that directly in Plotly as the labels for the x-axis."
   ]
  },
  {
   "cell_type": "code",
   "execution_count": null,
   "id": "b6e45b88",
   "metadata": {
    "incorrectly_encoded_metadata": "{.sql linenums=\"1\" title=\"Plot the results\"}"
   },
   "outputs": [
    {
     "data": {
      "application/vnd.plotly.v1+json": {
       "config": {
        "plotlyServerURL": "https://plot.ly"
       },
       "data": [
        {
         "hovertemplate": "Product Category=%{x}<br>Total Sales ($)=%{y}<br>Transaction Count=%{text}<extra></extra>",
         "legendgroup": "",
         "marker": {
          "color": "#1F77B4",
          "pattern": {
           "shape": ""
          }
         },
         "name": "",
         "orientation": "v",
         "showlegend": false,
         "text": {
          "bdata": "AAAAAAAAN0AAAAAAAAAwQAAAAAAAADxAAAAAAAAAOEAAAAAAAAAiQA==",
          "dtype": "f8"
         },
         "textposition": "auto",
         "type": "bar",
         "x": [
          "Books",
          "Clothing",
          "Electronics",
          "Food",
          "Home"
         ],
         "xaxis": "x",
         "y": {
          "bdata": "16NwPWrVw0DD9ShcT528QJqZmZm5R8ZAXI/C9chhyUBwPQrX48e4QA==",
          "dtype": "f8"
         },
         "yaxis": "y"
        }
       ],
       "layout": {
        "barmode": "relative",
        "legend": {
         "tracegroupgap": 0
        },
        "template": {
         "data": {
          "bar": [
           {
            "error_x": {
             "color": "rgb(36,36,36)"
            },
            "error_y": {
             "color": "rgb(36,36,36)"
            },
            "marker": {
             "line": {
              "color": "white",
              "width": 0.5
             },
             "pattern": {
              "fillmode": "overlay",
              "size": 10,
              "solidity": 0.2
             }
            },
            "type": "bar"
           }
          ],
          "barpolar": [
           {
            "marker": {
             "line": {
              "color": "white",
              "width": 0.5
             },
             "pattern": {
              "fillmode": "overlay",
              "size": 10,
              "solidity": 0.2
             }
            },
            "type": "barpolar"
           }
          ],
          "carpet": [
           {
            "aaxis": {
             "endlinecolor": "rgb(36,36,36)",
             "gridcolor": "white",
             "linecolor": "white",
             "minorgridcolor": "white",
             "startlinecolor": "rgb(36,36,36)"
            },
            "baxis": {
             "endlinecolor": "rgb(36,36,36)",
             "gridcolor": "white",
             "linecolor": "white",
             "minorgridcolor": "white",
             "startlinecolor": "rgb(36,36,36)"
            },
            "type": "carpet"
           }
          ],
          "choropleth": [
           {
            "colorbar": {
             "outlinewidth": 1,
             "tickcolor": "rgb(36,36,36)",
             "ticks": "outside"
            },
            "type": "choropleth"
           }
          ],
          "contour": [
           {
            "colorbar": {
             "outlinewidth": 1,
             "tickcolor": "rgb(36,36,36)",
             "ticks": "outside"
            },
            "colorscale": [
             [
              0,
              "#440154"
             ],
             [
              0.1111111111111111,
              "#482878"
             ],
             [
              0.2222222222222222,
              "#3e4989"
             ],
             [
              0.3333333333333333,
              "#31688e"
             ],
             [
              0.4444444444444444,
              "#26828e"
             ],
             [
              0.5555555555555556,
              "#1f9e89"
             ],
             [
              0.6666666666666666,
              "#35b779"
             ],
             [
              0.7777777777777778,
              "#6ece58"
             ],
             [
              0.8888888888888888,
              "#b5de2b"
             ],
             [
              1,
              "#fde725"
             ]
            ],
            "type": "contour"
           }
          ],
          "contourcarpet": [
           {
            "colorbar": {
             "outlinewidth": 1,
             "tickcolor": "rgb(36,36,36)",
             "ticks": "outside"
            },
            "type": "contourcarpet"
           }
          ],
          "heatmap": [
           {
            "colorbar": {
             "outlinewidth": 1,
             "tickcolor": "rgb(36,36,36)",
             "ticks": "outside"
            },
            "colorscale": [
             [
              0,
              "#440154"
             ],
             [
              0.1111111111111111,
              "#482878"
             ],
             [
              0.2222222222222222,
              "#3e4989"
             ],
             [
              0.3333333333333333,
              "#31688e"
             ],
             [
              0.4444444444444444,
              "#26828e"
             ],
             [
              0.5555555555555556,
              "#1f9e89"
             ],
             [
              0.6666666666666666,
              "#35b779"
             ],
             [
              0.7777777777777778,
              "#6ece58"
             ],
             [
              0.8888888888888888,
              "#b5de2b"
             ],
             [
              1,
              "#fde725"
             ]
            ],
            "type": "heatmap"
           }
          ],
          "histogram": [
           {
            "marker": {
             "line": {
              "color": "white",
              "width": 0.6
             }
            },
            "type": "histogram"
           }
          ],
          "histogram2d": [
           {
            "colorbar": {
             "outlinewidth": 1,
             "tickcolor": "rgb(36,36,36)",
             "ticks": "outside"
            },
            "colorscale": [
             [
              0,
              "#440154"
             ],
             [
              0.1111111111111111,
              "#482878"
             ],
             [
              0.2222222222222222,
              "#3e4989"
             ],
             [
              0.3333333333333333,
              "#31688e"
             ],
             [
              0.4444444444444444,
              "#26828e"
             ],
             [
              0.5555555555555556,
              "#1f9e89"
             ],
             [
              0.6666666666666666,
              "#35b779"
             ],
             [
              0.7777777777777778,
              "#6ece58"
             ],
             [
              0.8888888888888888,
              "#b5de2b"
             ],
             [
              1,
              "#fde725"
             ]
            ],
            "type": "histogram2d"
           }
          ],
          "histogram2dcontour": [
           {
            "colorbar": {
             "outlinewidth": 1,
             "tickcolor": "rgb(36,36,36)",
             "ticks": "outside"
            },
            "colorscale": [
             [
              0,
              "#440154"
             ],
             [
              0.1111111111111111,
              "#482878"
             ],
             [
              0.2222222222222222,
              "#3e4989"
             ],
             [
              0.3333333333333333,
              "#31688e"
             ],
             [
              0.4444444444444444,
              "#26828e"
             ],
             [
              0.5555555555555556,
              "#1f9e89"
             ],
             [
              0.6666666666666666,
              "#35b779"
             ],
             [
              0.7777777777777778,
              "#6ece58"
             ],
             [
              0.8888888888888888,
              "#b5de2b"
             ],
             [
              1,
              "#fde725"
             ]
            ],
            "type": "histogram2dcontour"
           }
          ],
          "mesh3d": [
           {
            "colorbar": {
             "outlinewidth": 1,
             "tickcolor": "rgb(36,36,36)",
             "ticks": "outside"
            },
            "type": "mesh3d"
           }
          ],
          "parcoords": [
           {
            "line": {
             "colorbar": {
              "outlinewidth": 1,
              "tickcolor": "rgb(36,36,36)",
              "ticks": "outside"
             }
            },
            "type": "parcoords"
           }
          ],
          "pie": [
           {
            "automargin": true,
            "type": "pie"
           }
          ],
          "scatter": [
           {
            "fillpattern": {
             "fillmode": "overlay",
             "size": 10,
             "solidity": 0.2
            },
            "type": "scatter"
           }
          ],
          "scatter3d": [
           {
            "line": {
             "colorbar": {
              "outlinewidth": 1,
              "tickcolor": "rgb(36,36,36)",
              "ticks": "outside"
             }
            },
            "marker": {
             "colorbar": {
              "outlinewidth": 1,
              "tickcolor": "rgb(36,36,36)",
              "ticks": "outside"
             }
            },
            "type": "scatter3d"
           }
          ],
          "scattercarpet": [
           {
            "marker": {
             "colorbar": {
              "outlinewidth": 1,
              "tickcolor": "rgb(36,36,36)",
              "ticks": "outside"
             }
            },
            "type": "scattercarpet"
           }
          ],
          "scattergeo": [
           {
            "marker": {
             "colorbar": {
              "outlinewidth": 1,
              "tickcolor": "rgb(36,36,36)",
              "ticks": "outside"
             }
            },
            "type": "scattergeo"
           }
          ],
          "scattergl": [
           {
            "marker": {
             "colorbar": {
              "outlinewidth": 1,
              "tickcolor": "rgb(36,36,36)",
              "ticks": "outside"
             }
            },
            "type": "scattergl"
           }
          ],
          "scattermap": [
           {
            "marker": {
             "colorbar": {
              "outlinewidth": 1,
              "tickcolor": "rgb(36,36,36)",
              "ticks": "outside"
             }
            },
            "type": "scattermap"
           }
          ],
          "scattermapbox": [
           {
            "marker": {
             "colorbar": {
              "outlinewidth": 1,
              "tickcolor": "rgb(36,36,36)",
              "ticks": "outside"
             }
            },
            "type": "scattermapbox"
           }
          ],
          "scatterpolar": [
           {
            "marker": {
             "colorbar": {
              "outlinewidth": 1,
              "tickcolor": "rgb(36,36,36)",
              "ticks": "outside"
             }
            },
            "type": "scatterpolar"
           }
          ],
          "scatterpolargl": [
           {
            "marker": {
             "colorbar": {
              "outlinewidth": 1,
              "tickcolor": "rgb(36,36,36)",
              "ticks": "outside"
             }
            },
            "type": "scatterpolargl"
           }
          ],
          "scatterternary": [
           {
            "marker": {
             "colorbar": {
              "outlinewidth": 1,
              "tickcolor": "rgb(36,36,36)",
              "ticks": "outside"
             }
            },
            "type": "scatterternary"
           }
          ],
          "surface": [
           {
            "colorbar": {
             "outlinewidth": 1,
             "tickcolor": "rgb(36,36,36)",
             "ticks": "outside"
            },
            "colorscale": [
             [
              0,
              "#440154"
             ],
             [
              0.1111111111111111,
              "#482878"
             ],
             [
              0.2222222222222222,
              "#3e4989"
             ],
             [
              0.3333333333333333,
              "#31688e"
             ],
             [
              0.4444444444444444,
              "#26828e"
             ],
             [
              0.5555555555555556,
              "#1f9e89"
             ],
             [
              0.6666666666666666,
              "#35b779"
             ],
             [
              0.7777777777777778,
              "#6ece58"
             ],
             [
              0.8888888888888888,
              "#b5de2b"
             ],
             [
              1,
              "#fde725"
             ]
            ],
            "type": "surface"
           }
          ],
          "table": [
           {
            "cells": {
             "fill": {
              "color": "rgb(237,237,237)"
             },
             "line": {
              "color": "white"
             }
            },
            "header": {
             "fill": {
              "color": "rgb(217,217,217)"
             },
             "line": {
              "color": "white"
             }
            },
            "type": "table"
           }
          ]
         },
         "layout": {
          "annotationdefaults": {
           "arrowhead": 0,
           "arrowwidth": 1
          },
          "autotypenumbers": "strict",
          "coloraxis": {
           "colorbar": {
            "outlinewidth": 1,
            "tickcolor": "rgb(36,36,36)",
            "ticks": "outside"
           }
          },
          "colorscale": {
           "diverging": [
            [
             0,
             "rgb(103,0,31)"
            ],
            [
             0.1,
             "rgb(178,24,43)"
            ],
            [
             0.2,
             "rgb(214,96,77)"
            ],
            [
             0.3,
             "rgb(244,165,130)"
            ],
            [
             0.4,
             "rgb(253,219,199)"
            ],
            [
             0.5,
             "rgb(247,247,247)"
            ],
            [
             0.6,
             "rgb(209,229,240)"
            ],
            [
             0.7,
             "rgb(146,197,222)"
            ],
            [
             0.8,
             "rgb(67,147,195)"
            ],
            [
             0.9,
             "rgb(33,102,172)"
            ],
            [
             1,
             "rgb(5,48,97)"
            ]
           ],
           "sequential": [
            [
             0,
             "#440154"
            ],
            [
             0.1111111111111111,
             "#482878"
            ],
            [
             0.2222222222222222,
             "#3e4989"
            ],
            [
             0.3333333333333333,
             "#31688e"
            ],
            [
             0.4444444444444444,
             "#26828e"
            ],
            [
             0.5555555555555556,
             "#1f9e89"
            ],
            [
             0.6666666666666666,
             "#35b779"
            ],
            [
             0.7777777777777778,
             "#6ece58"
            ],
            [
             0.8888888888888888,
             "#b5de2b"
            ],
            [
             1,
             "#fde725"
            ]
           ],
           "sequentialminus": [
            [
             0,
             "#440154"
            ],
            [
             0.1111111111111111,
             "#482878"
            ],
            [
             0.2222222222222222,
             "#3e4989"
            ],
            [
             0.3333333333333333,
             "#31688e"
            ],
            [
             0.4444444444444444,
             "#26828e"
            ],
            [
             0.5555555555555556,
             "#1f9e89"
            ],
            [
             0.6666666666666666,
             "#35b779"
            ],
            [
             0.7777777777777778,
             "#6ece58"
            ],
            [
             0.8888888888888888,
             "#b5de2b"
            ],
            [
             1,
             "#fde725"
            ]
           ]
          },
          "colorway": [
           "#1F77B4",
           "#FF7F0E",
           "#2CA02C",
           "#D62728",
           "#9467BD",
           "#8C564B",
           "#E377C2",
           "#7F7F7F",
           "#BCBD22",
           "#17BECF"
          ],
          "font": {
           "color": "rgb(36,36,36)"
          },
          "geo": {
           "bgcolor": "white",
           "lakecolor": "white",
           "landcolor": "white",
           "showlakes": true,
           "showland": true,
           "subunitcolor": "white"
          },
          "hoverlabel": {
           "align": "left"
          },
          "hovermode": "closest",
          "mapbox": {
           "style": "light"
          },
          "paper_bgcolor": "white",
          "plot_bgcolor": "white",
          "polar": {
           "angularaxis": {
            "gridcolor": "rgb(232,232,232)",
            "linecolor": "rgb(36,36,36)",
            "showgrid": false,
            "showline": true,
            "ticks": "outside"
           },
           "bgcolor": "white",
           "radialaxis": {
            "gridcolor": "rgb(232,232,232)",
            "linecolor": "rgb(36,36,36)",
            "showgrid": false,
            "showline": true,
            "ticks": "outside"
           }
          },
          "scene": {
           "xaxis": {
            "backgroundcolor": "white",
            "gridcolor": "rgb(232,232,232)",
            "gridwidth": 2,
            "linecolor": "rgb(36,36,36)",
            "showbackground": true,
            "showgrid": false,
            "showline": true,
            "ticks": "outside",
            "zeroline": false,
            "zerolinecolor": "rgb(36,36,36)"
           },
           "yaxis": {
            "backgroundcolor": "white",
            "gridcolor": "rgb(232,232,232)",
            "gridwidth": 2,
            "linecolor": "rgb(36,36,36)",
            "showbackground": true,
            "showgrid": false,
            "showline": true,
            "ticks": "outside",
            "zeroline": false,
            "zerolinecolor": "rgb(36,36,36)"
           },
           "zaxis": {
            "backgroundcolor": "white",
            "gridcolor": "rgb(232,232,232)",
            "gridwidth": 2,
            "linecolor": "rgb(36,36,36)",
            "showbackground": true,
            "showgrid": false,
            "showline": true,
            "ticks": "outside",
            "zeroline": false,
            "zerolinecolor": "rgb(36,36,36)"
           }
          },
          "shapedefaults": {
           "fillcolor": "black",
           "line": {
            "width": 0
           },
           "opacity": 0.3
          },
          "ternary": {
           "aaxis": {
            "gridcolor": "rgb(232,232,232)",
            "linecolor": "rgb(36,36,36)",
            "showgrid": false,
            "showline": true,
            "ticks": "outside"
           },
           "baxis": {
            "gridcolor": "rgb(232,232,232)",
            "linecolor": "rgb(36,36,36)",
            "showgrid": false,
            "showline": true,
            "ticks": "outside"
           },
           "bgcolor": "white",
           "caxis": {
            "gridcolor": "rgb(232,232,232)",
            "linecolor": "rgb(36,36,36)",
            "showgrid": false,
            "showline": true,
            "ticks": "outside"
           }
          },
          "title": {
           "x": 0.05
          },
          "xaxis": {
           "automargin": true,
           "gridcolor": "rgb(232,232,232)",
           "linecolor": "rgb(36,36,36)",
           "showgrid": true,
           "showline": true,
           "ticks": "outside",
           "title": {
            "standoff": 15
           },
           "zeroline": false,
           "zerolinecolor": "rgb(36,36,36)"
          },
          "yaxis": {
           "automargin": true,
           "gridcolor": "rgb(232,232,232)",
           "linecolor": "rgb(36,36,36)",
           "showgrid": true,
           "showline": true,
           "ticks": "outside",
           "title": {
            "standoff": 15
           },
           "zeroline": false,
           "zerolinecolor": "rgb(36,36,36)"
          }
         }
        },
        "title": {
         "text": "Total Sales by Category"
        },
        "xaxis": {
         "anchor": "y",
         "domain": [
          0,
          1
         ],
         "title": {
          "text": "Product Category"
         }
        },
        "yaxis": {
         "anchor": "x",
         "domain": [
          0,
          1
         ],
         "title": {
          "text": "Total Sales ($)"
         }
        }
       }
      }
     },
     "metadata": {},
     "output_type": "display_data"
    }
   ],
   "source": [
    "fig: go.Figure = px.bar(\n",
    "    data_frame=pd.read_sql(category_sales_renamed_txt, conn),\n",
    "    x=\"category\",\n",
    "    y=\"Total Sales\",\n",
    "    title=\"Total Sales by Category\",\n",
    "    text=\"Transaction Count\",\n",
    "    labels={\"Total Sales\": \"Total Sales ($)\", \"category\": \"Product Category\"},\n",
    ")\n",
    "fig.write_html(\"images/pt2_total_sales_by_category_sql.html\", include_plotlyjs=\"cdn\", full_html=True)\n",
    "fig.show()"
   ]
  },
  {
   "cell_type": "markdown",
   "id": "c2116c53",
   "metadata": {},
   "source": [
    "<div class=\"result\" markdown>"
   ]
  },
  {
   "cell_type": "markdown",
   "id": "960bfcdd",
   "metadata": {},
   "source": [
    "</div>\n",
    "\n",
    "### PySpark\n",
    "\n",
    "Plotly is unfortunately not able to directly receive a PySpark DataFrame, so we need to convert it to a Pandas DataFrame first. This is done using the [`.toPandas()`][pyspark-topandas] method, which converts the PySpark DataFrame to a Pandas DataFrame."
   ]
  },
  {
   "cell_type": "code",
   "execution_count": null,
   "id": "d82003a8",
   "metadata": {
    "incorrectly_encoded_metadata": "{.pyspark linenums=\"1\" title=\"Plot the results\"}"
   },
   "outputs": [
    {
     "data": {
      "application/vnd.plotly.v1+json": {
       "config": {
        "plotlyServerURL": "https://plot.ly"
       },
       "data": [
        {
         "hovertemplate": "Product Category=%{x}<br>Total Sales ($)=%{y}<br>Transaction Count=%{text}<extra></extra>",
         "legendgroup": "",
         "marker": {
          "color": "#1F77B4",
          "pattern": {
           "shape": ""
          }
         },
         "name": "",
         "orientation": "v",
         "showlegend": false,
         "text": {
          "bdata": "AAAAAAAAIkAAAAAAAAA4QAAAAAAAADxAAAAAAAAAMEAAAAAAAAA3QA==",
          "dtype": "f8"
         },
         "textposition": "auto",
         "type": "bar",
         "x": [
          "Home",
          "Food",
          "Electronics",
          "Clothing",
          "Books"
         ],
         "xaxis": "x",
         "y": {
          "bdata": "cD0K1+PHuEBcj8L1yGHJQJmZmZm5R8ZAwvUoXE+dvEDXo3A9atXDQA==",
          "dtype": "f8"
         },
         "yaxis": "y"
        }
       ],
       "layout": {
        "barmode": "relative",
        "legend": {
         "tracegroupgap": 0
        },
        "template": {
         "data": {
          "bar": [
           {
            "error_x": {
             "color": "rgb(36,36,36)"
            },
            "error_y": {
             "color": "rgb(36,36,36)"
            },
            "marker": {
             "line": {
              "color": "white",
              "width": 0.5
             },
             "pattern": {
              "fillmode": "overlay",
              "size": 10,
              "solidity": 0.2
             }
            },
            "type": "bar"
           }
          ],
          "barpolar": [
           {
            "marker": {
             "line": {
              "color": "white",
              "width": 0.5
             },
             "pattern": {
              "fillmode": "overlay",
              "size": 10,
              "solidity": 0.2
             }
            },
            "type": "barpolar"
           }
          ],
          "carpet": [
           {
            "aaxis": {
             "endlinecolor": "rgb(36,36,36)",
             "gridcolor": "white",
             "linecolor": "white",
             "minorgridcolor": "white",
             "startlinecolor": "rgb(36,36,36)"
            },
            "baxis": {
             "endlinecolor": "rgb(36,36,36)",
             "gridcolor": "white",
             "linecolor": "white",
             "minorgridcolor": "white",
             "startlinecolor": "rgb(36,36,36)"
            },
            "type": "carpet"
           }
          ],
          "choropleth": [
           {
            "colorbar": {
             "outlinewidth": 1,
             "tickcolor": "rgb(36,36,36)",
             "ticks": "outside"
            },
            "type": "choropleth"
           }
          ],
          "contour": [
           {
            "colorbar": {
             "outlinewidth": 1,
             "tickcolor": "rgb(36,36,36)",
             "ticks": "outside"
            },
            "colorscale": [
             [
              0,
              "#440154"
             ],
             [
              0.1111111111111111,
              "#482878"
             ],
             [
              0.2222222222222222,
              "#3e4989"
             ],
             [
              0.3333333333333333,
              "#31688e"
             ],
             [
              0.4444444444444444,
              "#26828e"
             ],
             [
              0.5555555555555556,
              "#1f9e89"
             ],
             [
              0.6666666666666666,
              "#35b779"
             ],
             [
              0.7777777777777778,
              "#6ece58"
             ],
             [
              0.8888888888888888,
              "#b5de2b"
             ],
             [
              1,
              "#fde725"
             ]
            ],
            "type": "contour"
           }
          ],
          "contourcarpet": [
           {
            "colorbar": {
             "outlinewidth": 1,
             "tickcolor": "rgb(36,36,36)",
             "ticks": "outside"
            },
            "type": "contourcarpet"
           }
          ],
          "heatmap": [
           {
            "colorbar": {
             "outlinewidth": 1,
             "tickcolor": "rgb(36,36,36)",
             "ticks": "outside"
            },
            "colorscale": [
             [
              0,
              "#440154"
             ],
             [
              0.1111111111111111,
              "#482878"
             ],
             [
              0.2222222222222222,
              "#3e4989"
             ],
             [
              0.3333333333333333,
              "#31688e"
             ],
             [
              0.4444444444444444,
              "#26828e"
             ],
             [
              0.5555555555555556,
              "#1f9e89"
             ],
             [
              0.6666666666666666,
              "#35b779"
             ],
             [
              0.7777777777777778,
              "#6ece58"
             ],
             [
              0.8888888888888888,
              "#b5de2b"
             ],
             [
              1,
              "#fde725"
             ]
            ],
            "type": "heatmap"
           }
          ],
          "histogram": [
           {
            "marker": {
             "line": {
              "color": "white",
              "width": 0.6
             }
            },
            "type": "histogram"
           }
          ],
          "histogram2d": [
           {
            "colorbar": {
             "outlinewidth": 1,
             "tickcolor": "rgb(36,36,36)",
             "ticks": "outside"
            },
            "colorscale": [
             [
              0,
              "#440154"
             ],
             [
              0.1111111111111111,
              "#482878"
             ],
             [
              0.2222222222222222,
              "#3e4989"
             ],
             [
              0.3333333333333333,
              "#31688e"
             ],
             [
              0.4444444444444444,
              "#26828e"
             ],
             [
              0.5555555555555556,
              "#1f9e89"
             ],
             [
              0.6666666666666666,
              "#35b779"
             ],
             [
              0.7777777777777778,
              "#6ece58"
             ],
             [
              0.8888888888888888,
              "#b5de2b"
             ],
             [
              1,
              "#fde725"
             ]
            ],
            "type": "histogram2d"
           }
          ],
          "histogram2dcontour": [
           {
            "colorbar": {
             "outlinewidth": 1,
             "tickcolor": "rgb(36,36,36)",
             "ticks": "outside"
            },
            "colorscale": [
             [
              0,
              "#440154"
             ],
             [
              0.1111111111111111,
              "#482878"
             ],
             [
              0.2222222222222222,
              "#3e4989"
             ],
             [
              0.3333333333333333,
              "#31688e"
             ],
             [
              0.4444444444444444,
              "#26828e"
             ],
             [
              0.5555555555555556,
              "#1f9e89"
             ],
             [
              0.6666666666666666,
              "#35b779"
             ],
             [
              0.7777777777777778,
              "#6ece58"
             ],
             [
              0.8888888888888888,
              "#b5de2b"
             ],
             [
              1,
              "#fde725"
             ]
            ],
            "type": "histogram2dcontour"
           }
          ],
          "mesh3d": [
           {
            "colorbar": {
             "outlinewidth": 1,
             "tickcolor": "rgb(36,36,36)",
             "ticks": "outside"
            },
            "type": "mesh3d"
           }
          ],
          "parcoords": [
           {
            "line": {
             "colorbar": {
              "outlinewidth": 1,
              "tickcolor": "rgb(36,36,36)",
              "ticks": "outside"
             }
            },
            "type": "parcoords"
           }
          ],
          "pie": [
           {
            "automargin": true,
            "type": "pie"
           }
          ],
          "scatter": [
           {
            "fillpattern": {
             "fillmode": "overlay",
             "size": 10,
             "solidity": 0.2
            },
            "type": "scatter"
           }
          ],
          "scatter3d": [
           {
            "line": {
             "colorbar": {
              "outlinewidth": 1,
              "tickcolor": "rgb(36,36,36)",
              "ticks": "outside"
             }
            },
            "marker": {
             "colorbar": {
              "outlinewidth": 1,
              "tickcolor": "rgb(36,36,36)",
              "ticks": "outside"
             }
            },
            "type": "scatter3d"
           }
          ],
          "scattercarpet": [
           {
            "marker": {
             "colorbar": {
              "outlinewidth": 1,
              "tickcolor": "rgb(36,36,36)",
              "ticks": "outside"
             }
            },
            "type": "scattercarpet"
           }
          ],
          "scattergeo": [
           {
            "marker": {
             "colorbar": {
              "outlinewidth": 1,
              "tickcolor": "rgb(36,36,36)",
              "ticks": "outside"
             }
            },
            "type": "scattergeo"
           }
          ],
          "scattergl": [
           {
            "marker": {
             "colorbar": {
              "outlinewidth": 1,
              "tickcolor": "rgb(36,36,36)",
              "ticks": "outside"
             }
            },
            "type": "scattergl"
           }
          ],
          "scattermap": [
           {
            "marker": {
             "colorbar": {
              "outlinewidth": 1,
              "tickcolor": "rgb(36,36,36)",
              "ticks": "outside"
             }
            },
            "type": "scattermap"
           }
          ],
          "scattermapbox": [
           {
            "marker": {
             "colorbar": {
              "outlinewidth": 1,
              "tickcolor": "rgb(36,36,36)",
              "ticks": "outside"
             }
            },
            "type": "scattermapbox"
           }
          ],
          "scatterpolar": [
           {
            "marker": {
             "colorbar": {
              "outlinewidth": 1,
              "tickcolor": "rgb(36,36,36)",
              "ticks": "outside"
             }
            },
            "type": "scatterpolar"
           }
          ],
          "scatterpolargl": [
           {
            "marker": {
             "colorbar": {
              "outlinewidth": 1,
              "tickcolor": "rgb(36,36,36)",
              "ticks": "outside"
             }
            },
            "type": "scatterpolargl"
           }
          ],
          "scatterternary": [
           {
            "marker": {
             "colorbar": {
              "outlinewidth": 1,
              "tickcolor": "rgb(36,36,36)",
              "ticks": "outside"
             }
            },
            "type": "scatterternary"
           }
          ],
          "surface": [
           {
            "colorbar": {
             "outlinewidth": 1,
             "tickcolor": "rgb(36,36,36)",
             "ticks": "outside"
            },
            "colorscale": [
             [
              0,
              "#440154"
             ],
             [
              0.1111111111111111,
              "#482878"
             ],
             [
              0.2222222222222222,
              "#3e4989"
             ],
             [
              0.3333333333333333,
              "#31688e"
             ],
             [
              0.4444444444444444,
              "#26828e"
             ],
             [
              0.5555555555555556,
              "#1f9e89"
             ],
             [
              0.6666666666666666,
              "#35b779"
             ],
             [
              0.7777777777777778,
              "#6ece58"
             ],
             [
              0.8888888888888888,
              "#b5de2b"
             ],
             [
              1,
              "#fde725"
             ]
            ],
            "type": "surface"
           }
          ],
          "table": [
           {
            "cells": {
             "fill": {
              "color": "rgb(237,237,237)"
             },
             "line": {
              "color": "white"
             }
            },
            "header": {
             "fill": {
              "color": "rgb(217,217,217)"
             },
             "line": {
              "color": "white"
             }
            },
            "type": "table"
           }
          ]
         },
         "layout": {
          "annotationdefaults": {
           "arrowhead": 0,
           "arrowwidth": 1
          },
          "autotypenumbers": "strict",
          "coloraxis": {
           "colorbar": {
            "outlinewidth": 1,
            "tickcolor": "rgb(36,36,36)",
            "ticks": "outside"
           }
          },
          "colorscale": {
           "diverging": [
            [
             0,
             "rgb(103,0,31)"
            ],
            [
             0.1,
             "rgb(178,24,43)"
            ],
            [
             0.2,
             "rgb(214,96,77)"
            ],
            [
             0.3,
             "rgb(244,165,130)"
            ],
            [
             0.4,
             "rgb(253,219,199)"
            ],
            [
             0.5,
             "rgb(247,247,247)"
            ],
            [
             0.6,
             "rgb(209,229,240)"
            ],
            [
             0.7,
             "rgb(146,197,222)"
            ],
            [
             0.8,
             "rgb(67,147,195)"
            ],
            [
             0.9,
             "rgb(33,102,172)"
            ],
            [
             1,
             "rgb(5,48,97)"
            ]
           ],
           "sequential": [
            [
             0,
             "#440154"
            ],
            [
             0.1111111111111111,
             "#482878"
            ],
            [
             0.2222222222222222,
             "#3e4989"
            ],
            [
             0.3333333333333333,
             "#31688e"
            ],
            [
             0.4444444444444444,
             "#26828e"
            ],
            [
             0.5555555555555556,
             "#1f9e89"
            ],
            [
             0.6666666666666666,
             "#35b779"
            ],
            [
             0.7777777777777778,
             "#6ece58"
            ],
            [
             0.8888888888888888,
             "#b5de2b"
            ],
            [
             1,
             "#fde725"
            ]
           ],
           "sequentialminus": [
            [
             0,
             "#440154"
            ],
            [
             0.1111111111111111,
             "#482878"
            ],
            [
             0.2222222222222222,
             "#3e4989"
            ],
            [
             0.3333333333333333,
             "#31688e"
            ],
            [
             0.4444444444444444,
             "#26828e"
            ],
            [
             0.5555555555555556,
             "#1f9e89"
            ],
            [
             0.6666666666666666,
             "#35b779"
            ],
            [
             0.7777777777777778,
             "#6ece58"
            ],
            [
             0.8888888888888888,
             "#b5de2b"
            ],
            [
             1,
             "#fde725"
            ]
           ]
          },
          "colorway": [
           "#1F77B4",
           "#FF7F0E",
           "#2CA02C",
           "#D62728",
           "#9467BD",
           "#8C564B",
           "#E377C2",
           "#7F7F7F",
           "#BCBD22",
           "#17BECF"
          ],
          "font": {
           "color": "rgb(36,36,36)"
          },
          "geo": {
           "bgcolor": "white",
           "lakecolor": "white",
           "landcolor": "white",
           "showlakes": true,
           "showland": true,
           "subunitcolor": "white"
          },
          "hoverlabel": {
           "align": "left"
          },
          "hovermode": "closest",
          "mapbox": {
           "style": "light"
          },
          "paper_bgcolor": "white",
          "plot_bgcolor": "white",
          "polar": {
           "angularaxis": {
            "gridcolor": "rgb(232,232,232)",
            "linecolor": "rgb(36,36,36)",
            "showgrid": false,
            "showline": true,
            "ticks": "outside"
           },
           "bgcolor": "white",
           "radialaxis": {
            "gridcolor": "rgb(232,232,232)",
            "linecolor": "rgb(36,36,36)",
            "showgrid": false,
            "showline": true,
            "ticks": "outside"
           }
          },
          "scene": {
           "xaxis": {
            "backgroundcolor": "white",
            "gridcolor": "rgb(232,232,232)",
            "gridwidth": 2,
            "linecolor": "rgb(36,36,36)",
            "showbackground": true,
            "showgrid": false,
            "showline": true,
            "ticks": "outside",
            "zeroline": false,
            "zerolinecolor": "rgb(36,36,36)"
           },
           "yaxis": {
            "backgroundcolor": "white",
            "gridcolor": "rgb(232,232,232)",
            "gridwidth": 2,
            "linecolor": "rgb(36,36,36)",
            "showbackground": true,
            "showgrid": false,
            "showline": true,
            "ticks": "outside",
            "zeroline": false,
            "zerolinecolor": "rgb(36,36,36)"
           },
           "zaxis": {
            "backgroundcolor": "white",
            "gridcolor": "rgb(232,232,232)",
            "gridwidth": 2,
            "linecolor": "rgb(36,36,36)",
            "showbackground": true,
            "showgrid": false,
            "showline": true,
            "ticks": "outside",
            "zeroline": false,
            "zerolinecolor": "rgb(36,36,36)"
           }
          },
          "shapedefaults": {
           "fillcolor": "black",
           "line": {
            "width": 0
           },
           "opacity": 0.3
          },
          "ternary": {
           "aaxis": {
            "gridcolor": "rgb(232,232,232)",
            "linecolor": "rgb(36,36,36)",
            "showgrid": false,
            "showline": true,
            "ticks": "outside"
           },
           "baxis": {
            "gridcolor": "rgb(232,232,232)",
            "linecolor": "rgb(36,36,36)",
            "showgrid": false,
            "showline": true,
            "ticks": "outside"
           },
           "bgcolor": "white",
           "caxis": {
            "gridcolor": "rgb(232,232,232)",
            "linecolor": "rgb(36,36,36)",
            "showgrid": false,
            "showline": true,
            "ticks": "outside"
           }
          },
          "title": {
           "x": 0.05
          },
          "xaxis": {
           "automargin": true,
           "gridcolor": "rgb(232,232,232)",
           "linecolor": "rgb(36,36,36)",
           "showgrid": true,
           "showline": true,
           "ticks": "outside",
           "title": {
            "standoff": 15
           },
           "zeroline": false,
           "zerolinecolor": "rgb(36,36,36)"
          },
          "yaxis": {
           "automargin": true,
           "gridcolor": "rgb(232,232,232)",
           "linecolor": "rgb(36,36,36)",
           "showgrid": true,
           "showline": true,
           "ticks": "outside",
           "title": {
            "standoff": 15
           },
           "zeroline": false,
           "zerolinecolor": "rgb(36,36,36)"
          }
         }
        },
        "title": {
         "text": "Total Sales by Category"
        },
        "xaxis": {
         "anchor": "y",
         "domain": [
          0,
          1
         ],
         "title": {
          "text": "Product Category"
         }
        },
        "yaxis": {
         "anchor": "x",
         "domain": [
          0,
          1
         ],
         "title": {
          "text": "Total Sales ($)"
         }
        }
       }
      }
     },
     "metadata": {},
     "output_type": "display_data"
    }
   ],
   "source": [
    "fig: go.Figure = px.bar(\n",
    "    data_frame=category_sales_renamed_ps.toPandas(),\n",
    "    x=\"category\",\n",
    "    y=\"Total Sales\",\n",
    "    title=\"Total Sales by Category\",\n",
    "    text=\"Transaction Count\",\n",
    "    labels={\"Total Sales\": \"Total Sales ($)\", \"category\": \"Product Category\"},\n",
    ")\n",
    "fig.write_html(\"images/pt2_total_sales_by_category_ps.html\", include_plotlyjs=\"cdn\", full_html=True)\n",
    "fig.show()"
   ]
  },
  {
   "cell_type": "markdown",
   "id": "e1b351df",
   "metadata": {},
   "source": [
    "<div class=\"result\" markdown>"
   ]
  },
  {
   "cell_type": "markdown",
   "id": "da313cf2",
   "metadata": {},
   "source": [
    "</div>\n",
    "\n",
    "### Polars\n",
    "\n",
    "Plotly is also able to receive a Polars DataFrame, so we can use the results of the aggregation directly."
   ]
  },
  {
   "cell_type": "code",
   "execution_count": null,
   "id": "343ba02f",
   "metadata": {
    "incorrectly_encoded_metadata": "{.polars linenums=\"1\" title=\"Plot the results\"}"
   },
   "outputs": [
    {
     "data": {
      "application/vnd.plotly.v1+json": {
       "config": {
        "plotlyServerURL": "https://plot.ly"
       },
       "data": [
        {
         "hovertemplate": "Product Category=%{x}<br>Total Sales ($)=%{y}<br>Transaction Count=%{text}<extra></extra>",
         "legendgroup": "",
         "marker": {
          "color": "#1F77B4",
          "pattern": {
           "shape": ""
          }
         },
         "name": "",
         "orientation": "v",
         "showlegend": false,
         "text": {
          "bdata": "AAAAAAAAN0AAAAAAAAA8QAAAAAAAADBAAAAAAAAAIkAAAAAAAAA4QA==",
          "dtype": "f8"
         },
         "textposition": "auto",
         "type": "bar",
         "x": [
          "Books",
          "Electronics",
          "Clothing",
          "Home",
          "Food"
         ],
         "xaxis": "x",
         "y": {
          "bdata": "2KNwPWrVw0CbmZmZuUfGQML1KFxPnbxAcD0K1+PHuEBdj8L1yGHJQA==",
          "dtype": "f8"
         },
         "yaxis": "y"
        }
       ],
       "layout": {
        "barmode": "relative",
        "legend": {
         "tracegroupgap": 0
        },
        "template": {
         "data": {
          "bar": [
           {
            "error_x": {
             "color": "rgb(36,36,36)"
            },
            "error_y": {
             "color": "rgb(36,36,36)"
            },
            "marker": {
             "line": {
              "color": "white",
              "width": 0.5
             },
             "pattern": {
              "fillmode": "overlay",
              "size": 10,
              "solidity": 0.2
             }
            },
            "type": "bar"
           }
          ],
          "barpolar": [
           {
            "marker": {
             "line": {
              "color": "white",
              "width": 0.5
             },
             "pattern": {
              "fillmode": "overlay",
              "size": 10,
              "solidity": 0.2
             }
            },
            "type": "barpolar"
           }
          ],
          "carpet": [
           {
            "aaxis": {
             "endlinecolor": "rgb(36,36,36)",
             "gridcolor": "white",
             "linecolor": "white",
             "minorgridcolor": "white",
             "startlinecolor": "rgb(36,36,36)"
            },
            "baxis": {
             "endlinecolor": "rgb(36,36,36)",
             "gridcolor": "white",
             "linecolor": "white",
             "minorgridcolor": "white",
             "startlinecolor": "rgb(36,36,36)"
            },
            "type": "carpet"
           }
          ],
          "choropleth": [
           {
            "colorbar": {
             "outlinewidth": 1,
             "tickcolor": "rgb(36,36,36)",
             "ticks": "outside"
            },
            "type": "choropleth"
           }
          ],
          "contour": [
           {
            "colorbar": {
             "outlinewidth": 1,
             "tickcolor": "rgb(36,36,36)",
             "ticks": "outside"
            },
            "colorscale": [
             [
              0,
              "#440154"
             ],
             [
              0.1111111111111111,
              "#482878"
             ],
             [
              0.2222222222222222,
              "#3e4989"
             ],
             [
              0.3333333333333333,
              "#31688e"
             ],
             [
              0.4444444444444444,
              "#26828e"
             ],
             [
              0.5555555555555556,
              "#1f9e89"
             ],
             [
              0.6666666666666666,
              "#35b779"
             ],
             [
              0.7777777777777778,
              "#6ece58"
             ],
             [
              0.8888888888888888,
              "#b5de2b"
             ],
             [
              1,
              "#fde725"
             ]
            ],
            "type": "contour"
           }
          ],
          "contourcarpet": [
           {
            "colorbar": {
             "outlinewidth": 1,
             "tickcolor": "rgb(36,36,36)",
             "ticks": "outside"
            },
            "type": "contourcarpet"
           }
          ],
          "heatmap": [
           {
            "colorbar": {
             "outlinewidth": 1,
             "tickcolor": "rgb(36,36,36)",
             "ticks": "outside"
            },
            "colorscale": [
             [
              0,
              "#440154"
             ],
             [
              0.1111111111111111,
              "#482878"
             ],
             [
              0.2222222222222222,
              "#3e4989"
             ],
             [
              0.3333333333333333,
              "#31688e"
             ],
             [
              0.4444444444444444,
              "#26828e"
             ],
             [
              0.5555555555555556,
              "#1f9e89"
             ],
             [
              0.6666666666666666,
              "#35b779"
             ],
             [
              0.7777777777777778,
              "#6ece58"
             ],
             [
              0.8888888888888888,
              "#b5de2b"
             ],
             [
              1,
              "#fde725"
             ]
            ],
            "type": "heatmap"
           }
          ],
          "histogram": [
           {
            "marker": {
             "line": {
              "color": "white",
              "width": 0.6
             }
            },
            "type": "histogram"
           }
          ],
          "histogram2d": [
           {
            "colorbar": {
             "outlinewidth": 1,
             "tickcolor": "rgb(36,36,36)",
             "ticks": "outside"
            },
            "colorscale": [
             [
              0,
              "#440154"
             ],
             [
              0.1111111111111111,
              "#482878"
             ],
             [
              0.2222222222222222,
              "#3e4989"
             ],
             [
              0.3333333333333333,
              "#31688e"
             ],
             [
              0.4444444444444444,
              "#26828e"
             ],
             [
              0.5555555555555556,
              "#1f9e89"
             ],
             [
              0.6666666666666666,
              "#35b779"
             ],
             [
              0.7777777777777778,
              "#6ece58"
             ],
             [
              0.8888888888888888,
              "#b5de2b"
             ],
             [
              1,
              "#fde725"
             ]
            ],
            "type": "histogram2d"
           }
          ],
          "histogram2dcontour": [
           {
            "colorbar": {
             "outlinewidth": 1,
             "tickcolor": "rgb(36,36,36)",
             "ticks": "outside"
            },
            "colorscale": [
             [
              0,
              "#440154"
             ],
             [
              0.1111111111111111,
              "#482878"
             ],
             [
              0.2222222222222222,
              "#3e4989"
             ],
             [
              0.3333333333333333,
              "#31688e"
             ],
             [
              0.4444444444444444,
              "#26828e"
             ],
             [
              0.5555555555555556,
              "#1f9e89"
             ],
             [
              0.6666666666666666,
              "#35b779"
             ],
             [
              0.7777777777777778,
              "#6ece58"
             ],
             [
              0.8888888888888888,
              "#b5de2b"
             ],
             [
              1,
              "#fde725"
             ]
            ],
            "type": "histogram2dcontour"
           }
          ],
          "mesh3d": [
           {
            "colorbar": {
             "outlinewidth": 1,
             "tickcolor": "rgb(36,36,36)",
             "ticks": "outside"
            },
            "type": "mesh3d"
           }
          ],
          "parcoords": [
           {
            "line": {
             "colorbar": {
              "outlinewidth": 1,
              "tickcolor": "rgb(36,36,36)",
              "ticks": "outside"
             }
            },
            "type": "parcoords"
           }
          ],
          "pie": [
           {
            "automargin": true,
            "type": "pie"
           }
          ],
          "scatter": [
           {
            "fillpattern": {
             "fillmode": "overlay",
             "size": 10,
             "solidity": 0.2
            },
            "type": "scatter"
           }
          ],
          "scatter3d": [
           {
            "line": {
             "colorbar": {
              "outlinewidth": 1,
              "tickcolor": "rgb(36,36,36)",
              "ticks": "outside"
             }
            },
            "marker": {
             "colorbar": {
              "outlinewidth": 1,
              "tickcolor": "rgb(36,36,36)",
              "ticks": "outside"
             }
            },
            "type": "scatter3d"
           }
          ],
          "scattercarpet": [
           {
            "marker": {
             "colorbar": {
              "outlinewidth": 1,
              "tickcolor": "rgb(36,36,36)",
              "ticks": "outside"
             }
            },
            "type": "scattercarpet"
           }
          ],
          "scattergeo": [
           {
            "marker": {
             "colorbar": {
              "outlinewidth": 1,
              "tickcolor": "rgb(36,36,36)",
              "ticks": "outside"
             }
            },
            "type": "scattergeo"
           }
          ],
          "scattergl": [
           {
            "marker": {
             "colorbar": {
              "outlinewidth": 1,
              "tickcolor": "rgb(36,36,36)",
              "ticks": "outside"
             }
            },
            "type": "scattergl"
           }
          ],
          "scattermap": [
           {
            "marker": {
             "colorbar": {
              "outlinewidth": 1,
              "tickcolor": "rgb(36,36,36)",
              "ticks": "outside"
             }
            },
            "type": "scattermap"
           }
          ],
          "scattermapbox": [
           {
            "marker": {
             "colorbar": {
              "outlinewidth": 1,
              "tickcolor": "rgb(36,36,36)",
              "ticks": "outside"
             }
            },
            "type": "scattermapbox"
           }
          ],
          "scatterpolar": [
           {
            "marker": {
             "colorbar": {
              "outlinewidth": 1,
              "tickcolor": "rgb(36,36,36)",
              "ticks": "outside"
             }
            },
            "type": "scatterpolar"
           }
          ],
          "scatterpolargl": [
           {
            "marker": {
             "colorbar": {
              "outlinewidth": 1,
              "tickcolor": "rgb(36,36,36)",
              "ticks": "outside"
             }
            },
            "type": "scatterpolargl"
           }
          ],
          "scatterternary": [
           {
            "marker": {
             "colorbar": {
              "outlinewidth": 1,
              "tickcolor": "rgb(36,36,36)",
              "ticks": "outside"
             }
            },
            "type": "scatterternary"
           }
          ],
          "surface": [
           {
            "colorbar": {
             "outlinewidth": 1,
             "tickcolor": "rgb(36,36,36)",
             "ticks": "outside"
            },
            "colorscale": [
             [
              0,
              "#440154"
             ],
             [
              0.1111111111111111,
              "#482878"
             ],
             [
              0.2222222222222222,
              "#3e4989"
             ],
             [
              0.3333333333333333,
              "#31688e"
             ],
             [
              0.4444444444444444,
              "#26828e"
             ],
             [
              0.5555555555555556,
              "#1f9e89"
             ],
             [
              0.6666666666666666,
              "#35b779"
             ],
             [
              0.7777777777777778,
              "#6ece58"
             ],
             [
              0.8888888888888888,
              "#b5de2b"
             ],
             [
              1,
              "#fde725"
             ]
            ],
            "type": "surface"
           }
          ],
          "table": [
           {
            "cells": {
             "fill": {
              "color": "rgb(237,237,237)"
             },
             "line": {
              "color": "white"
             }
            },
            "header": {
             "fill": {
              "color": "rgb(217,217,217)"
             },
             "line": {
              "color": "white"
             }
            },
            "type": "table"
           }
          ]
         },
         "layout": {
          "annotationdefaults": {
           "arrowhead": 0,
           "arrowwidth": 1
          },
          "autotypenumbers": "strict",
          "coloraxis": {
           "colorbar": {
            "outlinewidth": 1,
            "tickcolor": "rgb(36,36,36)",
            "ticks": "outside"
           }
          },
          "colorscale": {
           "diverging": [
            [
             0,
             "rgb(103,0,31)"
            ],
            [
             0.1,
             "rgb(178,24,43)"
            ],
            [
             0.2,
             "rgb(214,96,77)"
            ],
            [
             0.3,
             "rgb(244,165,130)"
            ],
            [
             0.4,
             "rgb(253,219,199)"
            ],
            [
             0.5,
             "rgb(247,247,247)"
            ],
            [
             0.6,
             "rgb(209,229,240)"
            ],
            [
             0.7,
             "rgb(146,197,222)"
            ],
            [
             0.8,
             "rgb(67,147,195)"
            ],
            [
             0.9,
             "rgb(33,102,172)"
            ],
            [
             1,
             "rgb(5,48,97)"
            ]
           ],
           "sequential": [
            [
             0,
             "#440154"
            ],
            [
             0.1111111111111111,
             "#482878"
            ],
            [
             0.2222222222222222,
             "#3e4989"
            ],
            [
             0.3333333333333333,
             "#31688e"
            ],
            [
             0.4444444444444444,
             "#26828e"
            ],
            [
             0.5555555555555556,
             "#1f9e89"
            ],
            [
             0.6666666666666666,
             "#35b779"
            ],
            [
             0.7777777777777778,
             "#6ece58"
            ],
            [
             0.8888888888888888,
             "#b5de2b"
            ],
            [
             1,
             "#fde725"
            ]
           ],
           "sequentialminus": [
            [
             0,
             "#440154"
            ],
            [
             0.1111111111111111,
             "#482878"
            ],
            [
             0.2222222222222222,
             "#3e4989"
            ],
            [
             0.3333333333333333,
             "#31688e"
            ],
            [
             0.4444444444444444,
             "#26828e"
            ],
            [
             0.5555555555555556,
             "#1f9e89"
            ],
            [
             0.6666666666666666,
             "#35b779"
            ],
            [
             0.7777777777777778,
             "#6ece58"
            ],
            [
             0.8888888888888888,
             "#b5de2b"
            ],
            [
             1,
             "#fde725"
            ]
           ]
          },
          "colorway": [
           "#1F77B4",
           "#FF7F0E",
           "#2CA02C",
           "#D62728",
           "#9467BD",
           "#8C564B",
           "#E377C2",
           "#7F7F7F",
           "#BCBD22",
           "#17BECF"
          ],
          "font": {
           "color": "rgb(36,36,36)"
          },
          "geo": {
           "bgcolor": "white",
           "lakecolor": "white",
           "landcolor": "white",
           "showlakes": true,
           "showland": true,
           "subunitcolor": "white"
          },
          "hoverlabel": {
           "align": "left"
          },
          "hovermode": "closest",
          "mapbox": {
           "style": "light"
          },
          "paper_bgcolor": "white",
          "plot_bgcolor": "white",
          "polar": {
           "angularaxis": {
            "gridcolor": "rgb(232,232,232)",
            "linecolor": "rgb(36,36,36)",
            "showgrid": false,
            "showline": true,
            "ticks": "outside"
           },
           "bgcolor": "white",
           "radialaxis": {
            "gridcolor": "rgb(232,232,232)",
            "linecolor": "rgb(36,36,36)",
            "showgrid": false,
            "showline": true,
            "ticks": "outside"
           }
          },
          "scene": {
           "xaxis": {
            "backgroundcolor": "white",
            "gridcolor": "rgb(232,232,232)",
            "gridwidth": 2,
            "linecolor": "rgb(36,36,36)",
            "showbackground": true,
            "showgrid": false,
            "showline": true,
            "ticks": "outside",
            "zeroline": false,
            "zerolinecolor": "rgb(36,36,36)"
           },
           "yaxis": {
            "backgroundcolor": "white",
            "gridcolor": "rgb(232,232,232)",
            "gridwidth": 2,
            "linecolor": "rgb(36,36,36)",
            "showbackground": true,
            "showgrid": false,
            "showline": true,
            "ticks": "outside",
            "zeroline": false,
            "zerolinecolor": "rgb(36,36,36)"
           },
           "zaxis": {
            "backgroundcolor": "white",
            "gridcolor": "rgb(232,232,232)",
            "gridwidth": 2,
            "linecolor": "rgb(36,36,36)",
            "showbackground": true,
            "showgrid": false,
            "showline": true,
            "ticks": "outside",
            "zeroline": false,
            "zerolinecolor": "rgb(36,36,36)"
           }
          },
          "shapedefaults": {
           "fillcolor": "black",
           "line": {
            "width": 0
           },
           "opacity": 0.3
          },
          "ternary": {
           "aaxis": {
            "gridcolor": "rgb(232,232,232)",
            "linecolor": "rgb(36,36,36)",
            "showgrid": false,
            "showline": true,
            "ticks": "outside"
           },
           "baxis": {
            "gridcolor": "rgb(232,232,232)",
            "linecolor": "rgb(36,36,36)",
            "showgrid": false,
            "showline": true,
            "ticks": "outside"
           },
           "bgcolor": "white",
           "caxis": {
            "gridcolor": "rgb(232,232,232)",
            "linecolor": "rgb(36,36,36)",
            "showgrid": false,
            "showline": true,
            "ticks": "outside"
           }
          },
          "title": {
           "x": 0.05
          },
          "xaxis": {
           "automargin": true,
           "gridcolor": "rgb(232,232,232)",
           "linecolor": "rgb(36,36,36)",
           "showgrid": true,
           "showline": true,
           "ticks": "outside",
           "title": {
            "standoff": 15
           },
           "zeroline": false,
           "zerolinecolor": "rgb(36,36,36)"
          },
          "yaxis": {
           "automargin": true,
           "gridcolor": "rgb(232,232,232)",
           "linecolor": "rgb(36,36,36)",
           "showgrid": true,
           "showline": true,
           "ticks": "outside",
           "title": {
            "standoff": 15
           },
           "zeroline": false,
           "zerolinecolor": "rgb(36,36,36)"
          }
         }
        },
        "title": {
         "text": "Total Sales by Category"
        },
        "xaxis": {
         "anchor": "y",
         "domain": [
          0,
          1
         ],
         "title": {
          "text": "Product Category"
         }
        },
        "yaxis": {
         "anchor": "x",
         "domain": [
          0,
          1
         ],
         "title": {
          "text": "Total Sales ($)"
         }
        }
       }
      }
     },
     "metadata": {},
     "output_type": "display_data"
    }
   ],
   "source": [
    "fig: go.Figure = px.bar(\n",
    "    data_frame=category_sales_renamed_pl,\n",
    "    x=\"category\",\n",
    "    y=\"Total Sales\",\n",
    "    title=\"Total Sales by Category\",\n",
    "    text=\"Transaction Count\",\n",
    "    labels={\"Total Sales\": \"Total Sales ($)\", \"category\": \"Product Category\"},\n",
    ")\n",
    "fig.write_html(\"images/pt2_total_sales_by_category_pl.html\", include_plotlyjs=\"cdn\", full_html=True)\n",
    "fig.show()"
   ]
  },
  {
   "cell_type": "markdown",
   "id": "bd79e8e8",
   "metadata": {},
   "source": [
    "<div class=\"result\" markdown>"
   ]
  },
  {
   "cell_type": "markdown",
   "id": "aaf01611",
   "metadata": {},
   "source": [
    "</div>\n"
   ]
  },
  {
   "cell_type": "markdown",
   "id": "e9724d41",
   "metadata": {},
   "source": [
    "## 3. Joining\n",
    "\n",
    "The third section will demonstrate how to join DataFrames to combine data from different sources. This is a common operation in data analysis, allowing us to enrich our data with additional information.\n",
    "\n",
    "Here, we will join the `sales` DataFrame with the `product` DataFrame to get additional information about the products sold.\n",
    "\n",
    "### Pandas\n",
    "\n",
    "In Pandas, we can use the [`pd.merge()`][pandas-merge] method to combine rows from two or more tables based on a related column between them. In this case, we will join the `sales` table with the `product` table on the `product_id` column."
   ]
  },
  {
   "cell_type": "code",
   "execution_count": null,
   "id": "449d5ba6",
   "metadata": {
    "incorrectly_encoded_metadata": "{.pandas linenums=\"1\" title=\"Join sales with product data\"}"
   },
   "outputs": [
    {
     "name": "stdout",
     "output_type": "stream",
     "text": [
      "Sales with Product Information: 100\n",
      "        date  customer_id  product_id     category  sales_amount  quantity  \\\n",
      "0 2023-01-01           52          45         Food        490.76         7   \n",
      "1 2023-01-02           93          41  Electronics        453.94         5   \n",
      "2 2023-01-03           15          29         Home        994.51         5   \n",
      "3 2023-01-04           72          15  Electronics        184.17         7   \n",
      "4 2023-01-05           61          45         Food         27.89         9   \n",
      "\n",
      "  product_name   price  \n",
      "0   Product 45  493.14  \n",
      "1   Product 41  193.39  \n",
      "2   Product 29   80.07  \n",
      "3   Product 15  153.67  \n",
      "4   Product 45  493.14  \n",
      "|    | date                |   customer_id |   product_id | category    |   sales_amount |   quantity | product_name   |   price |\n",
      "|---:|:--------------------|--------------:|-------------:|:------------|---------------:|-----------:|:---------------|--------:|\n",
      "|  0 | 2023-01-01 00:00:00 |            52 |           45 | Food        |         490.76 |          7 | Product 45     |  493.14 |\n",
      "|  1 | 2023-01-02 00:00:00 |            93 |           41 | Electronics |         453.94 |          5 | Product 41     |  193.39 |\n",
      "|  2 | 2023-01-03 00:00:00 |            15 |           29 | Home        |         994.51 |          5 | Product 29     |   80.07 |\n",
      "|  3 | 2023-01-04 00:00:00 |            72 |           15 | Electronics |         184.17 |          7 | Product 15     |  153.67 |\n",
      "|  4 | 2023-01-05 00:00:00 |            61 |           45 | Food        |          27.89 |          9 | Product 45     |  493.14 |\n"
     ]
    }
   ],
   "source": [
    "sales_with_product_pd: pd.DataFrame = pd.merge(\n",
    "    left=df_sales_pd,\n",
    "    right=df_product_pd[[\"product_id\", \"product_name\", \"price\"]],\n",
    "    on=\"product_id\",\n",
    "    how=\"left\",\n",
    ")\n",
    "print(f\"Sales with Product Information: {len(sales_with_product_pd)}\")\n",
    "print(sales_with_product_pd.head(5))\n",
    "print(sales_with_product_pd.head(5).to_markdown())"
   ]
  },
  {
   "cell_type": "markdown",
   "id": "74814dd7",
   "metadata": {},
   "source": [
    "<div class=\"result\" markdown>\n",
    "\n",
    "```txt\n",
    "Sales with Product Information: 100\n",
    "```\n",
    "\n",
    "```txt\n",
    "        date  customer_id  product_id     category  sales_amount  quantity  product_name   price\n",
    "0 2023-01-01           52          45         Food        490.76         7    Product 45  493.14\n",
    "1 2023-01-02           93          41  Electronics        453.94         5    Product 41  193.39\n",
    "2 2023-01-03           15          29         Home        994.51         5    Product 29   80.07\n",
    "3 2023-01-04           72          15  Electronics        184.17         7    Product 15  153.67\n",
    "4 2023-01-05           61          45         Food         27.89         9    Product 45  493.14\n",
    "```\n",
    "\n",
    "|      | date                | customer_id | product_id | category    | sales_amount | quantity | product_name |  price |\n",
    "| ---: | :------------------ | ----------: | ---------: | :---------- | -----------: | -------: | :----------- | -----: |\n",
    "|    0 | 2023-01-01 00:00:00 |          52 |         45 | Food        |       490.76 |        7 | Product 45   | 493.14 |\n",
    "|    1 | 2023-01-02 00:00:00 |          93 |         41 | Electronics |       453.94 |        5 | Product 41   | 193.39 |\n",
    "|    2 | 2023-01-03 00:00:00 |          15 |         29 | Home        |       994.51 |        5 | Product 29   |  80.07 |\n",
    "|    3 | 2023-01-04 00:00:00 |          72 |         15 | Electronics |       184.17 |        7 | Product 15   | 153.67 |\n",
    "|    4 | 2023-01-05 00:00:00 |          61 |         45 | Food        |        27.89 |        9 | Product 45   | 493.14 |\n",
    "\n",
    "</div>\n",
    "\n",
    "### SQL\n",
    "\n",
    "In SQL, we can use the [`JOIN`][sqlite-tutorial-join] clause to combine rows from two or more tables based on a related column between them. In this case, we will join the `sales` table with the `product` table on the `product_id` column."
   ]
  },
  {
   "cell_type": "code",
   "execution_count": null,
   "id": "6eb9ebbc",
   "metadata": {
    "incorrectly_encoded_metadata": "{.sql linenums=\"1\" title=\"Join sales with product data\"}"
   },
   "outputs": [
    {
     "name": "stdout",
     "output_type": "stream",
     "text": [
      "Sales with Product Information: 100\n",
      "                  date  customer_id  product_id     category  sales_amount  \\\n",
      "0  2023-01-01 00:00:00           52          45         Food        490.76   \n",
      "1  2023-01-02 00:00:00           93          41  Electronics        453.94   \n",
      "2  2023-01-03 00:00:00           15          29         Home        994.51   \n",
      "3  2023-01-04 00:00:00           72          15  Electronics        184.17   \n",
      "4  2023-01-05 00:00:00           61          45         Food         27.89   \n",
      "\n",
      "   quantity product_name   price  \n",
      "0         7   Product 45  493.14  \n",
      "1         5   Product 41  193.39  \n",
      "2         5   Product 29   80.07  \n",
      "3         7   Product 15  153.67  \n",
      "4         9   Product 45  493.14  \n",
      "|    | date                |   customer_id |   product_id | category    |   sales_amount |   quantity | product_name   |   price |\n",
      "|---:|:--------------------|--------------:|-------------:|:------------|---------------:|-----------:|:---------------|--------:|\n",
      "|  0 | 2023-01-01 00:00:00 |            52 |           45 | Food        |         490.76 |          7 | Product 45     |  493.14 |\n",
      "|  1 | 2023-01-02 00:00:00 |            93 |           41 | Electronics |         453.94 |          5 | Product 41     |  193.39 |\n",
      "|  2 | 2023-01-03 00:00:00 |            15 |           29 | Home        |         994.51 |          5 | Product 29     |   80.07 |\n",
      "|  3 | 2023-01-04 00:00:00 |            72 |           15 | Electronics |         184.17 |          7 | Product 15     |  153.67 |\n",
      "|  4 | 2023-01-05 00:00:00 |            61 |           45 | Food        |          27.89 |          9 | Product 45     |  493.14 |\n"
     ]
    }
   ],
   "source": [
    "sales_with_product_txt: str = \"\"\"\n",
    "    SELECT s.*, p.product_name, p.price\n",
    "    FROM sales s\n",
    "    LEFT JOIN product p ON s.product_id = p.product_id\n",
    "\"\"\"\n",
    "print(f\"Sales with Product Information: {len(pd.read_sql(sales_with_product_txt, conn))}\")\n",
    "print(pd.read_sql(sales_with_product_txt + \"LIMIT 5\", conn))\n",
    "print(pd.read_sql(sales_with_product_txt + \"LIMIT 5\", conn).to_markdown())"
   ]
  },
  {
   "cell_type": "markdown",
   "id": "f3dcfdff",
   "metadata": {},
   "source": [
    "<div class=\"result\" markdown>\n",
    "\n",
    "```txt\n",
    "Sales with Product Information: 100\n",
    "```\n",
    "\n",
    "```txt\n",
    "                  date  customer_id  product_id     category  sales_amount  quantity  product_name   price\n",
    "0  2023-01-01 00:00:00           52          45         Food        490.76         7    Product 45  493.14\n",
    "1  2023-01-02 00:00:00           93          41  Electronics        453.94         5    Product 41  193.39\n",
    "2  2023-01-03 00:00:00           15          29         Home        994.51         5    Product 29   80.07\n",
    "3  2023-01-04 00:00:00           72          15  Electronics        184.17         7    Product 15  153.67\n",
    "4  2023-01-05 00:00:00           61          45         Food         27.89         9    Product 45  493.14\n",
    "```\n",
    "\n",
    "|      | date                | customer_id | product_id | category    | sales_amount | quantity | product_name |  price |\n",
    "| ---: | :------------------ | ----------: | ---------: | :---------- | -----------: | -------: | :----------- | -----: |\n",
    "|    0 | 2023-01-01 00:00:00 |          52 |         45 | Food        |       490.76 |        7 | Product 45   | 493.14 |\n",
    "|    1 | 2023-01-02 00:00:00 |          93 |         41 | Electronics |       453.94 |        5 | Product 41   | 193.39 |\n",
    "|    2 | 2023-01-03 00:00:00 |          15 |         29 | Home        |       994.51 |        5 | Product 29   |  80.07 |\n",
    "|    3 | 2023-01-04 00:00:00 |          72 |         15 | Electronics |       184.17 |        7 | Product 15   | 153.67 |\n",
    "|    4 | 2023-01-05 00:00:00 |          61 |         45 | Food        |        27.89 |        9 | Product 45   | 493.14 |\n",
    "\n",
    "</div>\n",
    "\n",
    "### PySpark\n",
    "\n",
    "In PySpark, we can use the [`.join()`][pyspark-join] method to combine rows from two or more DataFrames based on a related column between them. In this case, we will join the `sales` DataFrame with the `product` DataFrame on the `product_id` column."
   ]
  },
  {
   "cell_type": "code",
   "execution_count": null,
   "id": "0e569097",
   "metadata": {
    "incorrectly_encoded_metadata": "{.pyspark linenums=\"1\" title=\"Join sales with product data\"}"
   },
   "outputs": [
    {
     "name": "stdout",
     "output_type": "stream",
     "text": [
      "Sales with Product Information: 100\n",
      "+----------+-------------------+-----------+-----------+------------+--------+------------+------+\n",
      "|product_id|               date|customer_id|   category|sales_amount|quantity|product_name| price|\n",
      "+----------+-------------------+-----------+-----------+------------+--------+------------+------+\n",
      "|         1|2023-01-06 00:00:00|         21|   Clothing|      498.95|       5|   Product 1|257.57|\n",
      "|         1|2023-01-11 00:00:00|         88|Electronics|      314.98|       9|   Product 1|257.57|\n",
      "|         1|2023-02-11 00:00:00|         55|       Food|       199.0|       5|   Product 1|257.57|\n",
      "|         1|2023-04-04 00:00:00|         85|       Food|      146.97|       7|   Product 1|257.57|\n",
      "|         5|2023-01-21 00:00:00|         64|Electronics|      356.58|       5|   Product 5|200.71|\n",
      "+----------+-------------------+-----------+-----------+------------+--------+------------+------+\n",
      "only showing top 5 rows\n",
      "\n",
      "|    |   product_id | date                |   customer_id | category    |   sales_amount |   quantity | product_name   |   price |\n",
      "|---:|-------------:|:--------------------|--------------:|:------------|---------------:|-----------:|:---------------|--------:|\n",
      "|  0 |            1 | 2023-01-11 00:00:00 |            88 | Electronics |         314.98 |          9 | Product 1      |  257.57 |\n",
      "|  1 |            1 | 2023-02-11 00:00:00 |            55 | Food        |         199    |          5 | Product 1      |  257.57 |\n",
      "|  2 |            5 | 2023-01-21 00:00:00 |            64 | Electronics |         356.58 |          5 | Product 5      |  200.71 |\n",
      "|  3 |            5 | 2023-02-18 00:00:00 |            39 | Books       |          79.71 |          8 | Product 5      |  200.71 |\n",
      "|  4 |            6 | 2023-03-23 00:00:00 |            34 | Electronics |          48.45 |          8 | Product 6      |   15.31 |\n"
     ]
    }
   ],
   "source": [
    "sales_with_product_ps: psDataFrame = df_sales_ps.join(\n",
    "    other=df_product_ps.select(\"product_id\", \"product_name\", \"price\"),\n",
    "    on=\"product_id\",\n",
    "    how=\"left\",\n",
    ")\n",
    "print(f\"Sales with Product Information: {sales_with_product_ps.count()}\")\n",
    "sales_with_product_ps.show(5)\n",
    "print(sales_with_product_ps.limit(5).toPandas().to_markdown())"
   ]
  },
  {
   "cell_type": "markdown",
   "id": "8bf89470",
   "metadata": {},
   "source": [
    "<div class=\"result\" markdown>\n",
    "\n",
    "```txt\n",
    "Sales with Product Information: 100\n",
    "```\n",
    "\n",
    "```txt\n",
    "+----------+-------------------+-----------+-----------+------------+--------+------------+------+\n",
    "|product_id|               date|customer_id|   category|sales_amount|quantity|product_name| price|\n",
    "+----------+-------------------+-----------+-----------+------------+--------+------------+------+\n",
    "|         1|2023-01-06 00:00:00|         21|   Clothing|      498.95|       5|   Product 1|257.57|\n",
    "|         1|2023-01-11 00:00:00|         88|Electronics|      314.98|       9|   Product 1|257.57|\n",
    "|         1|2023-02-11 00:00:00|         55|       Food|       199.0|       5|   Product 1|257.57|\n",
    "|         1|2023-04-04 00:00:00|         85|       Food|      146.97|       7|   Product 1|257.57|\n",
    "|         5|2023-01-21 00:00:00|         64|Electronics|      356.58|       5|   Product 5|200.71|\n",
    "+----------+-------------------+-----------+-----------+------------+--------+------------+------+\n",
    "only showing top 5 rows\n",
    "```\n",
    "\n",
    "|      | product_id | date                | customer_id | category    | sales_amount | quantity | product_name |  price |\n",
    "| ---: | ---------: | :------------------ | ----------: | :---------- | -----------: | -------: | :----------- | -----: |\n",
    "|    0 |          1 | 2023-01-11 00:00:00 |          88 | Electronics |       314.98 |        9 | Product 1    | 257.57 |\n",
    "|    1 |          1 | 2023-02-11 00:00:00 |          55 | Food        |          199 |        5 | Product 1    | 257.57 |\n",
    "|    2 |          5 | 2023-01-21 00:00:00 |          64 | Electronics |       356.58 |        5 | Product 5    | 200.71 |\n",
    "|    3 |          5 | 2023-02-18 00:00:00 |          39 | Books       |        79.71 |        8 | Product 5    | 200.71 |\n",
    "|    4 |          6 | 2023-03-23 00:00:00 |          34 | Electronics |        48.45 |        8 | Product 6    |  15.31 |\n",
    "\n",
    "</div>\n",
    "\n",
    "### Polars\n",
    "\n",
    "In Polars, we can use the [`.join()`][polars-join] method to combine rows from two or more DataFrames based on a related column between them. In this case, we will join the `sales` DataFrame with the `product` DataFrame on the `product_id` column."
   ]
  },
  {
   "cell_type": "code",
   "execution_count": null,
   "id": "05ce059a",
   "metadata": {
    "incorrectly_encoded_metadata": "{.polars linenums=\"1\" title=\"Join sales with product data\"}"
   },
   "outputs": [
    {
     "name": "stdout",
     "output_type": "stream",
     "text": [
      "Sales with Product Information: 100\n",
      "shape: (5, 8)\n",
      "┌─────────────┬────────────┬────────────┬────────────┬────────────┬──────────┬────────────┬────────┐\n",
      "│ date        ┆ customer_i ┆ product_id ┆ category   ┆ sales_amou ┆ quantity ┆ product_na ┆ price  │\n",
      "│ ---         ┆ d          ┆ ---        ┆ ---        ┆ nt         ┆ ---      ┆ me         ┆ ---    │\n",
      "│ datetime[ns ┆ ---        ┆ i64        ┆ str        ┆ ---        ┆ i64      ┆ ---        ┆ f64    │\n",
      "│ ]           ┆ i64        ┆            ┆            ┆ f64        ┆          ┆ str        ┆        │\n",
      "╞═════════════╪════════════╪════════════╪════════════╪════════════╪══════════╪════════════╪════════╡\n",
      "│ 2023-01-01  ┆ 52         ┆ 45         ┆ Food       ┆ 490.76     ┆ 7        ┆ Product 45 ┆ 493.14 │\n",
      "│ 00:00:00    ┆            ┆            ┆            ┆            ┆          ┆            ┆        │\n",
      "│ 2023-01-02  ┆ 93         ┆ 41         ┆ Electronic ┆ 453.94     ┆ 5        ┆ Product 41 ┆ 193.39 │\n",
      "│ 00:00:00    ┆            ┆            ┆ s          ┆            ┆          ┆            ┆        │\n",
      "│ 2023-01-03  ┆ 15         ┆ 29         ┆ Home       ┆ 994.51     ┆ 5        ┆ Product 29 ┆ 80.07  │\n",
      "│ 00:00:00    ┆            ┆            ┆            ┆            ┆          ┆            ┆        │\n",
      "│ 2023-01-04  ┆ 72         ┆ 15         ┆ Electronic ┆ 184.17     ┆ 7        ┆ Product 15 ┆ 153.67 │\n",
      "│ 00:00:00    ┆            ┆            ┆ s          ┆            ┆          ┆            ┆        │\n",
      "│ 2023-01-05  ┆ 61         ┆ 45         ┆ Food       ┆ 27.89      ┆ 9        ┆ Product 45 ┆ 493.14 │\n",
      "│ 00:00:00    ┆            ┆            ┆            ┆            ┆          ┆            ┆        │\n",
      "└─────────────┴────────────┴────────────┴────────────┴────────────┴──────────┴────────────┴────────┘\n",
      "|    | date                |   customer_id |   product_id | category    |   sales_amount |   quantity | product_name   |   price |\n",
      "|---:|:--------------------|--------------:|-------------:|:------------|---------------:|-----------:|:---------------|--------:|\n",
      "|  0 | 2023-01-01 00:00:00 |            52 |           45 | Food        |         490.76 |          7 | Product 45     |  493.14 |\n",
      "|  1 | 2023-01-02 00:00:00 |            93 |           41 | Electronics |         453.94 |          5 | Product 41     |  193.39 |\n",
      "|  2 | 2023-01-03 00:00:00 |            15 |           29 | Home        |         994.51 |          5 | Product 29     |   80.07 |\n",
      "|  3 | 2023-01-04 00:00:00 |            72 |           15 | Electronics |         184.17 |          7 | Product 15     |  153.67 |\n",
      "|  4 | 2023-01-05 00:00:00 |            61 |           45 | Food        |          27.89 |          9 | Product 45     |  493.14 |\n"
     ]
    }
   ],
   "source": [
    "sales_with_product_pl: pl.DataFrame = df_sales_pl.join(\n",
    "    df_product_pl.select([\"product_id\", \"product_name\", \"price\"]),\n",
    "    on=\"product_id\",\n",
    "    how=\"left\",\n",
    ")\n",
    "print(f\"Sales with Product Information: {len(sales_with_product_pl)}\")\n",
    "print(sales_with_product_pl.head(5))\n",
    "print(sales_with_product_pl.head(5).to_pandas().to_markdown())"
   ]
  },
  {
   "cell_type": "markdown",
   "id": "8b353595",
   "metadata": {},
   "source": [
    "<div class=\"result\" markdown>\n",
    "\n",
    "```txt\n",
    "Sales with Product Information: 100\n",
    "```\n",
    "\n",
    "```txt\n",
    "shape: (5, 8)\n",
    "┌─────────────────────┬─────────────┬────────────┬─────────────┬──────────────┬──────────┬──────────────┬────────┐\n",
    "│ date                ┆ customer_id ┆ product_id ┆ category    ┆ sales_amount ┆ quantity ┆ product_name ┆ price  │\n",
    "│ ---                 ┆ ---         ┆ ---        ┆ ---         ┆ ---          ┆ ---      ┆ ---          ┆ ---    │\n",
    "│ datetime[ns]        ┆ i64         ┆ i64        ┆ str         ┆ f64          ┆ i64      ┆ str          ┆ f64    │\n",
    "╞═════════════════════╪═════════════╪════════════╪═════════════╪══════════════╪══════════╪══════════════╪════════╡\n",
    "│ 2023-01-01 00:00:00 ┆ 52          ┆ 45         ┆ Food        ┆ 490.76       ┆ 7        ┆ Product 45   ┆ 493.14 │\n",
    "│ 2023-01-02 00:00:00 ┆ 93          ┆ 41         ┆ Electronics ┆ 453.94       ┆ 5        ┆ Product 41   ┆ 193.39 │\n",
    "│ 2023-01-03 00:00:00 ┆ 15          ┆ 29         ┆ Home        ┆ 994.51       ┆ 5        ┆ Product 29   ┆ 80.07  │\n",
    "│ 2023-01-04 00:00:00 ┆ 72          ┆ 15         ┆ Electronics ┆ 184.17       ┆ 7        ┆ Product 15   ┆ 153.67 │\n",
    "│ 2023-01-05 00:00:00 ┆ 61          ┆ 45         ┆ Food        ┆ 27.89        ┆ 9        ┆ Product 45   ┆ 493.14 │\n",
    "└─────────────────────┴─────────────┴────────────┴─────────────┴──────────────┴──────────┴──────────────┴────────┘\n",
    "```\n",
    "\n",
    "|      | date                | customer_id | product_id | category    | sales_amount | quantity | product_name |  price |\n",
    "| ---: | :------------------ | ----------: | ---------: | :---------- | -----------: | -------: | :----------- | -----: |\n",
    "|    0 | 2023-01-01 00:00:00 |          52 |         45 | Food        |       490.76 |        7 | Product 45   | 493.14 |\n",
    "|    1 | 2023-01-02 00:00:00 |          93 |         41 | Electronics |       453.94 |        5 | Product 41   | 193.39 |\n",
    "|    2 | 2023-01-03 00:00:00 |          15 |         29 | Home        |       994.51 |        5 | Product 29   |  80.07 |\n",
    "|    3 | 2023-01-04 00:00:00 |          72 |         15 | Electronics |       184.17 |        7 | Product 15   | 153.67 |\n",
    "|    4 | 2023-01-05 00:00:00 |          61 |         45 | Food        |        27.89 |        9 | Product 45   | 493.14 |\n",
    "\n",
    "</div>\n",
    "\n",
    "In the next step, we will join the resulting DataFrame with the `customer` DataFrame to get customer information for each sale. This allows us to create a complete view of the sales data, including product and customer details.\n",
    "\n",
    "### Pandas\n",
    "\n",
    "This process is similar to the previous step, but now we will extend the `sales_with_product` DataFrame to join it with the `customer` DataFrame on the `customer_id` column. This will give us a complete view of the sales data, including product and customer details."
   ]
  },
  {
   "cell_type": "code",
   "execution_count": null,
   "id": "5596f3a3",
   "metadata": {
    "incorrectly_encoded_metadata": "{.pandas linenums=\"1\" title=\"Join with customer information to get a complete view\"}"
   },
   "outputs": [
    {
     "name": "stdout",
     "output_type": "stream",
     "text": [
      "Complete Sales Data with Customer Information: 100\n",
      "        date  customer_id  product_id     category  sales_amount  quantity  \\\n",
      "0 2023-01-01           52          45         Food        490.76         7   \n",
      "1 2023-01-02           93          41  Electronics        453.94         5   \n",
      "2 2023-01-03           15          29         Home        994.51         5   \n",
      "3 2023-01-04           72          15  Electronics        184.17         7   \n",
      "4 2023-01-05           61          45         Food         27.89         9   \n",
      "\n",
      "  product_name   price customer_name      city state  \n",
      "0   Product 45  493.14   Customer 52   Phoenix    TX  \n",
      "1   Product 41  193.39   Customer 93  New York    TX  \n",
      "2   Product 29   80.07   Customer 15  New York    CA  \n",
      "3   Product 15  153.67   Customer 72   Houston    IL  \n",
      "4   Product 45  493.14   Customer 61   Phoenix    IL  \n",
      "|    | date                |   customer_id |   product_id | category    |   sales_amount |   quantity | product_name   |   price | customer_name   | city     | state   |\n",
      "|---:|:--------------------|--------------:|-------------:|:------------|---------------:|-----------:|:---------------|--------:|:----------------|:---------|:--------|\n",
      "|  0 | 2023-01-01 00:00:00 |            52 |           45 | Food        |         490.76 |          7 | Product 45     |  493.14 | Customer 52     | Phoenix  | TX      |\n",
      "|  1 | 2023-01-02 00:00:00 |            93 |           41 | Electronics |         453.94 |          5 | Product 41     |  193.39 | Customer 93     | New York | TX      |\n",
      "|  2 | 2023-01-03 00:00:00 |            15 |           29 | Home        |         994.51 |          5 | Product 29     |   80.07 | Customer 15     | New York | CA      |\n",
      "|  3 | 2023-01-04 00:00:00 |            72 |           15 | Electronics |         184.17 |          7 | Product 15     |  153.67 | Customer 72     | Houston  | IL      |\n",
      "|  4 | 2023-01-05 00:00:00 |            61 |           45 | Food        |          27.89 |          9 | Product 45     |  493.14 | Customer 61     | Phoenix  | IL      |\n"
     ]
    }
   ],
   "source": [
    "complete_sales_pd: pd.DataFrame = pd.merge(\n",
    "    sales_with_product_pd,\n",
    "    df_customer_pd[[\"customer_id\", \"customer_name\", \"city\", \"state\"]],\n",
    "    on=\"customer_id\",\n",
    "    how=\"left\",\n",
    ")\n",
    "print(f\"Complete Sales Data with Customer Information: {len(complete_sales_pd)}\")\n",
    "print(complete_sales_pd.head(5))\n",
    "print(complete_sales_pd.head(5).to_markdown())"
   ]
  },
  {
   "cell_type": "markdown",
   "id": "01eca12b",
   "metadata": {},
   "source": [
    "<div class=\"result\" markdown>\n",
    "\n",
    "```txt\n",
    "Complete Sales Data with Customer Information: 100\n",
    "```\n",
    "\n",
    "```txt\n",
    "        date  customer_id  product_id     category  sales_amount  quantity  product_name   price  customer_name      city  state\n",
    "0 2023-01-01           52          45         Food        490.76         7    Product 45  493.14    Customer 52   Phoenix     TX\n",
    "1 2023-01-02           93          41  Electronics        453.94         5    Product 41  193.39    Customer 93  New York     TX\n",
    "2 2023-01-03           15          29         Home        994.51         5    Product 29   80.07    Customer 15  New York     CA\n",
    "3 2023-01-04           72          15  Electronics        184.17         7    Product 15  153.67    Customer 72   Houston     IL\n",
    "4 2023-01-05           61          45         Food         27.89         9    Product 45  493.14    Customer 61   Phoenix     IL\n",
    "```\n",
    "\n",
    "|      | date                | customer_id | product_id | category    | sales_amount | quantity | product_name |  price | customer_name | city     | state |\n",
    "| ---: | :------------------ | ----------: | ---------: | :---------- | -----------: | -------: | :----------- | -----: | :------------ | :------- | :---- |\n",
    "|    0 | 2023-01-01 00:00:00 |          52 |         45 | Food        |       490.76 |        7 | Product 45   | 493.14 | Customer 52   | Phoenix  | TX    |\n",
    "|    1 | 2023-01-02 00:00:00 |          93 |         41 | Electronics |       453.94 |        5 | Product 41   | 193.39 | Customer 93   | New York | TX    |\n",
    "|    2 | 2023-01-03 00:00:00 |          15 |         29 | Home        |       994.51 |        5 | Product 29   |  80.07 | Customer 15   | New York | CA    |\n",
    "|    3 | 2023-01-04 00:00:00 |          72 |         15 | Electronics |       184.17 |        7 | Product 15   | 153.67 | Customer 72   | Houston  | IL    |\n",
    "|    4 | 2023-01-05 00:00:00 |          61 |         45 | Food        |        27.89 |        9 | Product 45   | 493.14 | Customer 61   | Phoenix  | IL    |\n",
    "\n",
    "</div>\n",
    "\n",
    "### SQL\n",
    "\n",
    "This process is similar to the previous step, but now we will extend the `sales_with_product` DataFrame to join it with the `customer` DataFrame on the `customer_id` column. This will give us a complete view of the sales data, including product and customer details."
   ]
  },
  {
   "cell_type": "code",
   "execution_count": null,
   "id": "12596e5f",
   "metadata": {
    "incorrectly_encoded_metadata": "{.sql linenums=\"1\" title=\"Join with customer information to get a complete view\"}"
   },
   "outputs": [
    {
     "name": "stdout",
     "output_type": "stream",
     "text": [
      "Complete Sales Data with Customer Information: 100\n",
      "                  date  customer_id  product_id     category  sales_amount  \\\n",
      "0  2023-01-01 00:00:00           52          45         Food        490.76   \n",
      "1  2023-01-02 00:00:00           93          41  Electronics        453.94   \n",
      "2  2023-01-03 00:00:00           15          29         Home        994.51   \n",
      "3  2023-01-04 00:00:00           72          15  Electronics        184.17   \n",
      "4  2023-01-05 00:00:00           61          45         Food         27.89   \n",
      "\n",
      "   quantity product_name   price customer_name      city state  \n",
      "0         7   Product 45  493.14   Customer 52   Phoenix    TX  \n",
      "1         5   Product 41  193.39   Customer 93  New York    TX  \n",
      "2         5   Product 29   80.07   Customer 15  New York    CA  \n",
      "3         7   Product 15  153.67   Customer 72   Houston    IL  \n",
      "4         9   Product 45  493.14   Customer 61   Phoenix    IL  \n",
      "|    | date                |   customer_id |   product_id | category    |   sales_amount |   quantity | product_name   |   price | customer_name   | city     | state   |\n",
      "|---:|:--------------------|--------------:|-------------:|:------------|---------------:|-----------:|:---------------|--------:|:----------------|:---------|:--------|\n",
      "|  0 | 2023-01-01 00:00:00 |            52 |           45 | Food        |         490.76 |          7 | Product 45     |  493.14 | Customer 52     | Phoenix  | TX      |\n",
      "|  1 | 2023-01-02 00:00:00 |            93 |           41 | Electronics |         453.94 |          5 | Product 41     |  193.39 | Customer 93     | New York | TX      |\n",
      "|  2 | 2023-01-03 00:00:00 |            15 |           29 | Home        |         994.51 |          5 | Product 29     |   80.07 | Customer 15     | New York | CA      |\n",
      "|  3 | 2023-01-04 00:00:00 |            72 |           15 | Electronics |         184.17 |          7 | Product 15     |  153.67 | Customer 72     | Houston  | IL      |\n",
      "|  4 | 2023-01-05 00:00:00 |            61 |           45 | Food        |          27.89 |          9 | Product 45     |  493.14 | Customer 61     | Phoenix  | IL      |\n"
     ]
    }
   ],
   "source": [
    "complete_sales_txt: str = \"\"\"\n",
    "    SELECT\n",
    "        s.*,\n",
    "        p.product_name,\n",
    "        p.price,\n",
    "        c.customer_name,\n",
    "        c.city,\n",
    "        c.state\n",
    "    FROM sales s\n",
    "    LEFT JOIN product p ON s.product_id = p.product_id\n",
    "    LEFT JOIN customer c ON s.customer_id = c.customer_id\n",
    "\"\"\"\n",
    "print(f\"Complete Sales Data with Customer Information: {len(pd.read_sql(complete_sales_txt, conn))}\")\n",
    "print(pd.read_sql(complete_sales_txt + \"LIMIT 5\", conn))\n",
    "print(pd.read_sql(complete_sales_txt + \"LIMIT 5\", conn).to_markdown())"
   ]
  },
  {
   "cell_type": "markdown",
   "id": "e401db9d",
   "metadata": {},
   "source": [
    "<div class=\"result\" markdown>\n",
    "\n",
    "```txt\n",
    "Complete Sales Data with Customer Information: 100\n",
    "```\n",
    "\n",
    "```txt\n",
    "                  date  customer_id  product_id     category  sales_amount  quantity  product_name   price  customer_name      city  state\n",
    "0  2023-01-01 00:00:00           52          45         Food        490.76         7    Product 45  493.14    Customer 52   Phoenix     TX\n",
    "1  2023-01-02 00:00:00           93          41  Electronics        453.94         5    Product 41  193.39    Customer 93  New York     TX\n",
    "2  2023-01-03 00:00:00           15          29         Home        994.51         5    Product 29   80.07    Customer 15  New York     CA\n",
    "3  2023-01-04 00:00:00           72          15  Electronics        184.17         7    Product 15  153.67    Customer 72   Houston     IL\n",
    "4  2023-01-05 00:00:00           61          45         Food         27.89         9    Product 45  493.14    Customer 61   Phoenix     IL\n",
    "```\n",
    "\n",
    "|      | date                | customer_id | product_id | category    | sales_amount | quantity | product_name |  price | customer_name | city     | state |\n",
    "| ---: | :------------------ | ----------: | ---------: | :---------- | -----------: | -------: | :----------- | -----: | :------------ | :------- | :---- |\n",
    "|    0 | 2023-01-01 00:00:00 |          52 |         45 | Food        |       490.76 |        7 | Product 45   | 493.14 | Customer 52   | Phoenix  | TX    |\n",
    "|    1 | 2023-01-02 00:00:00 |          93 |         41 | Electronics |       453.94 |        5 | Product 41   | 193.39 | Customer 93   | New York | TX    |\n",
    "|    2 | 2023-01-03 00:00:00 |          15 |         29 | Home        |       994.51 |        5 | Product 29   |  80.07 | Customer 15   | New York | CA    |\n",
    "|    3 | 2023-01-04 00:00:00 |          72 |         15 | Electronics |       184.17 |        7 | Product 15   | 153.67 | Customer 72   | Houston  | IL    |\n",
    "|    4 | 2023-01-05 00:00:00 |          61 |         45 | Food        |        27.89 |        9 | Product 45   | 493.14 | Customer 61   | Phoenix  | IL    |\n",
    "\n",
    "</div>\n",
    "\n",
    "### PySpark\n",
    "\n",
    "This process is similar to the previous step, but now we will extend the `sales_with_product` DataFrame to join it with the `customer` DataFrame on the `customer_id` column. This will give us a complete view of the sales data, including product and customer details."
   ]
  },
  {
   "cell_type": "code",
   "execution_count": null,
   "id": "47a460d7",
   "metadata": {
    "incorrectly_encoded_metadata": "{.pyspark linenums=\"1\" title=\"Join with customer information to get a complete view\"}"
   },
   "outputs": [
    {
     "name": "stdout",
     "output_type": "stream",
     "text": [
      "Complete Sales Data with Customer Information: 100\n",
      "+-----------+----------+-------------------+-----------+------------+--------+------------+------+-------------+-----------+-----+\n",
      "|customer_id|product_id|               date|   category|sales_amount|quantity|product_name| price|customer_name|       city|state|\n",
      "+-----------+----------+-------------------+-----------+------------+--------+------------+------+-------------+-----------+-----+\n",
      "|         39|         5|2023-02-18 00:00:00|      Books|       79.71|       8|   Product 5|200.71|  Customer 39|Los Angeles|   NY|\n",
      "|         88|         1|2023-01-11 00:00:00|Electronics|      314.98|       9|   Product 1|257.57|  Customer 88|Los Angeles|   TX|\n",
      "|         85|         1|2023-04-04 00:00:00|       Food|      146.97|       7|   Product 1|257.57|  Customer 85|    Phoenix|   CA|\n",
      "|         55|         1|2023-02-11 00:00:00|       Food|       199.0|       5|   Product 1|257.57|  Customer 55|Los Angeles|   NY|\n",
      "|         21|         1|2023-01-06 00:00:00|   Clothing|      498.95|       5|   Product 1|257.57|  Customer 21|Los Angeles|   IL|\n",
      "+-----------+----------+-------------------+-----------+------------+--------+------------+------+-------------+-----------+-----+\n",
      "only showing top 5 rows\n",
      "\n"
     ]
    },
    {
     "name": "stderr",
     "output_type": "stream",
     "text": [
      "[Stage 121:======>         (5 + 7) / 12][Stage 122:>               (0 + 5) / 12]\r"
     ]
    },
    {
     "name": "stdout",
     "output_type": "stream",
     "text": [
      "|    |   customer_id |   product_id | date                | category    |   sales_amount |   quantity | product_name   |   price | customer_name   | city        | state   |\n",
      "|---:|--------------:|-------------:|:--------------------|:------------|---------------:|-----------:|:---------------|--------:|:----------------|:------------|:--------|\n",
      "|  0 |            34 |            6 | 2023-03-23 00:00:00 | Electronics |          48.45 |          8 | Product 6      |   15.31 | Customer 34     | Los Angeles | NY      |\n",
      "|  1 |            39 |            5 | 2023-02-18 00:00:00 | Books       |          79.71 |          8 | Product 5      |  200.71 | Customer 39     | Los Angeles | NY      |\n",
      "|  2 |            88 |            1 | 2023-01-11 00:00:00 | Electronics |         314.98 |          9 | Product 1      |  257.57 | Customer 88     | Los Angeles | TX      |\n",
      "|  3 |            55 |            1 | 2023-02-11 00:00:00 | Food        |         199    |          5 | Product 1      |  257.57 | Customer 55     | Los Angeles | NY      |\n",
      "|  4 |            64 |            5 | 2023-01-21 00:00:00 | Electronics |         356.58 |          5 | Product 5      |  200.71 | Customer 64     | Los Angeles | NY      |\n"
     ]
    },
    {
     "name": "stderr",
     "output_type": "stream",
     "text": [
      "                                                                                \r"
     ]
    }
   ],
   "source": [
    "complete_sales_ps: psDataFrame = sales_with_product_ps.alias(\"s\").join(\n",
    "    other=df_customer_ps.select(\"customer_id\", \"customer_name\", \"city\", \"state\").alias(\"c\"),\n",
    "    on=\"customer_id\",\n",
    "    how=\"left\",\n",
    ")\n",
    "print(f\"Complete Sales Data with Customer Information: {complete_sales_ps.count()}\")\n",
    "complete_sales_ps.show(5)\n",
    "print(complete_sales_ps.limit(5).toPandas().to_markdown())"
   ]
  },
  {
   "cell_type": "markdown",
   "id": "db2050d5",
   "metadata": {},
   "source": [
    "<div class=\"result\" markdown>\n",
    "\n",
    "```txt\n",
    "Complete Sales Data with Customer Information: 100\n",
    "```\n",
    "\n",
    "```txt\n",
    "+-----------+----------+-------------------+-----------+------------+--------+------------+------+-------------+-----------+-----+\n",
    "|customer_id|product_id|               date|   category|sales_amount|quantity|product_name| price|customer_name|       city|state|\n",
    "+-----------+----------+-------------------+-----------+------------+--------+------------+------+-------------+-----------+-----+\n",
    "|         39|         5|2023-02-18 00:00:00|      Books|       79.71|       8|   Product 5|200.71|  Customer 39|Los Angeles|   NY|\n",
    "|         88|         1|2023-01-11 00:00:00|Electronics|      314.98|       9|   Product 1|257.57|  Customer 88|Los Angeles|   TX|\n",
    "|         85|         1|2023-04-04 00:00:00|       Food|      146.97|       7|   Product 1|257.57|  Customer 85|    Phoenix|   CA|\n",
    "|         55|         1|2023-02-11 00:00:00|       Food|       199.0|       5|   Product 1|257.57|  Customer 55|Los Angeles|   NY|\n",
    "|         21|         1|2023-01-06 00:00:00|   Clothing|      498.95|       5|   Product 1|257.57|  Customer 21|Los Angeles|   IL|\n",
    "+-----------+----------+-------------------+-----------+------------+--------+------------+------+-------------+-----------+-----+\n",
    "only showing top 5 rows\n",
    "```\n",
    "\n",
    "|      | customer_id | product_id | date                | category    | sales_amount | quantity | product_name |  price | customer_name | city        | state |\n",
    "| ---: | ----------: | ---------: | :------------------ | :---------- | -----------: | -------: | :----------- | -----: | :------------ | :---------- | :---- |\n",
    "|    0 |          88 |          1 | 2023-01-11 00:00:00 | Electronics |       314.98 |        9 | Product 1    | 257.57 | Customer 88   | Los Angeles | TX    |\n",
    "|    1 |          55 |          1 | 2023-02-11 00:00:00 | Food        |          199 |        5 | Product 1    | 257.57 | Customer 55   | Los Angeles | NY    |\n",
    "|    2 |          64 |          5 | 2023-01-21 00:00:00 | Electronics |       356.58 |        5 | Product 5    | 200.71 | Customer 64   | Los Angeles | NY    |\n",
    "|    3 |          39 |          5 | 2023-02-18 00:00:00 | Books       |        79.71 |        8 | Product 5    | 200.71 | Customer 39   | Los Angeles | NY    |\n",
    "|    4 |          34 |          6 | 2023-03-23 00:00:00 | Electronics |        48.45 |        8 | Product 6    |  15.31 | Customer 34   | Los Angeles | NY    |\n",
    "\n",
    "</div>\n",
    "\n",
    "### Polars\n",
    "\n",
    "This process is similar to the previous step, but now we will extend the `sales_with_product` DataFrame to join it with the `customer` DataFrame on the `customer_id` column. This will give us a complete view of the sales data, including product and customer details."
   ]
  },
  {
   "cell_type": "code",
   "execution_count": null,
   "id": "1118f19c",
   "metadata": {
    "incorrectly_encoded_metadata": "{.polars linenums=\"1\" title=\"Join with customer information to get a complete view\"}"
   },
   "outputs": [
    {
     "name": "stdout",
     "output_type": "stream",
     "text": [
      "Complete Sales Data with Customer Information: 100\n",
      "shape: (5, 11)\n",
      "┌─────────┬────────┬────────┬────────┬────────┬────────┬────────┬────────┬────────┬────────┬───────┐\n",
      "│ date    ┆ custom ┆ produc ┆ catego ┆ sales_ ┆ quanti ┆ produc ┆ price  ┆ custom ┆ city   ┆ state │\n",
      "│ ---     ┆ er_id  ┆ t_id   ┆ ry     ┆ amount ┆ ty     ┆ t_name ┆ ---    ┆ er_nam ┆ ---    ┆ ---   │\n",
      "│ datetim ┆ ---    ┆ ---    ┆ ---    ┆ ---    ┆ ---    ┆ ---    ┆ f64    ┆ e      ┆ str    ┆ str   │\n",
      "│ e[ns]   ┆ i64    ┆ i64    ┆ str    ┆ f64    ┆ i64    ┆ str    ┆        ┆ ---    ┆        ┆       │\n",
      "│         ┆        ┆        ┆        ┆        ┆        ┆        ┆        ┆ str    ┆        ┆       │\n",
      "╞═════════╪════════╪════════╪════════╪════════╪════════╪════════╪════════╪════════╪════════╪═══════╡\n",
      "│ 2023-01 ┆ 52     ┆ 45     ┆ Food   ┆ 490.76 ┆ 7      ┆ Produc ┆ 493.14 ┆ Custom ┆ Phoeni ┆ TX    │\n",
      "│ -01 00: ┆        ┆        ┆        ┆        ┆        ┆ t 45   ┆        ┆ er 52  ┆ x      ┆       │\n",
      "│ 00:00   ┆        ┆        ┆        ┆        ┆        ┆        ┆        ┆        ┆        ┆       │\n",
      "│ 2023-01 ┆ 93     ┆ 41     ┆ Electr ┆ 453.94 ┆ 5      ┆ Produc ┆ 193.39 ┆ Custom ┆ New    ┆ TX    │\n",
      "│ -02 00: ┆        ┆        ┆ onics  ┆        ┆        ┆ t 41   ┆        ┆ er 93  ┆ York   ┆       │\n",
      "│ 00:00   ┆        ┆        ┆        ┆        ┆        ┆        ┆        ┆        ┆        ┆       │\n",
      "│ 2023-01 ┆ 15     ┆ 29     ┆ Home   ┆ 994.51 ┆ 5      ┆ Produc ┆ 80.07  ┆ Custom ┆ New    ┆ CA    │\n",
      "│ -03 00: ┆        ┆        ┆        ┆        ┆        ┆ t 29   ┆        ┆ er 15  ┆ York   ┆       │\n",
      "│ 00:00   ┆        ┆        ┆        ┆        ┆        ┆        ┆        ┆        ┆        ┆       │\n",
      "│ 2023-01 ┆ 72     ┆ 15     ┆ Electr ┆ 184.17 ┆ 7      ┆ Produc ┆ 153.67 ┆ Custom ┆ Housto ┆ IL    │\n",
      "│ -04 00: ┆        ┆        ┆ onics  ┆        ┆        ┆ t 15   ┆        ┆ er 72  ┆ n      ┆       │\n",
      "│ 00:00   ┆        ┆        ┆        ┆        ┆        ┆        ┆        ┆        ┆        ┆       │\n",
      "│ 2023-01 ┆ 61     ┆ 45     ┆ Food   ┆ 27.89  ┆ 9      ┆ Produc ┆ 493.14 ┆ Custom ┆ Phoeni ┆ IL    │\n",
      "│ -05 00: ┆        ┆        ┆        ┆        ┆        ┆ t 45   ┆        ┆ er 61  ┆ x      ┆       │\n",
      "│ 00:00   ┆        ┆        ┆        ┆        ┆        ┆        ┆        ┆        ┆        ┆       │\n",
      "└─────────┴────────┴────────┴────────┴────────┴────────┴────────┴────────┴────────┴────────┴───────┘\n",
      "|    | date                |   customer_id |   product_id | category    |   sales_amount |   quantity | product_name   |   price | customer_name   | city     | state   |\n",
      "|---:|:--------------------|--------------:|-------------:|:------------|---------------:|-----------:|:---------------|--------:|:----------------|:---------|:--------|\n",
      "|  0 | 2023-01-01 00:00:00 |            52 |           45 | Food        |         490.76 |          7 | Product 45     |  493.14 | Customer 52     | Phoenix  | TX      |\n",
      "|  1 | 2023-01-02 00:00:00 |            93 |           41 | Electronics |         453.94 |          5 | Product 41     |  193.39 | Customer 93     | New York | TX      |\n",
      "|  2 | 2023-01-03 00:00:00 |            15 |           29 | Home        |         994.51 |          5 | Product 29     |   80.07 | Customer 15     | New York | CA      |\n",
      "|  3 | 2023-01-04 00:00:00 |            72 |           15 | Electronics |         184.17 |          7 | Product 15     |  153.67 | Customer 72     | Houston  | IL      |\n",
      "|  4 | 2023-01-05 00:00:00 |            61 |           45 | Food        |          27.89 |          9 | Product 45     |  493.14 | Customer 61     | Phoenix  | IL      |\n"
     ]
    }
   ],
   "source": [
    "complete_sales_pl: pl.DataFrame = sales_with_product_pl.join(\n",
    "    df_customer_pl.select([\"customer_id\", \"customer_name\", \"city\", \"state\"]),\n",
    "    on=\"customer_id\",\n",
    "    how=\"left\",\n",
    ")\n",
    "print(f\"Complete Sales Data with Customer Information: {len(complete_sales_pl)}\")\n",
    "print(complete_sales_pl.head(5))\n",
    "print(complete_sales_pl.head(5).to_pandas().to_markdown())"
   ]
  },
  {
   "cell_type": "markdown",
   "id": "ee6ef290",
   "metadata": {},
   "source": [
    "<div class=\"result\" markdown>\n",
    "\n",
    "```txt\n",
    "Complete Sales Data with Customer Information: 100\n",
    "```\n",
    "\n",
    "```txt\n",
    "shape: (5, 11)\n",
    "┌─────────────────────┬─────────────┬────────────┬─────────────┬──────────────┬──────────┬──────────────┬────────┬───────────────┬──────────┬───────┐\n",
    "│ date                ┆ customer_id ┆ product_id ┆ category    ┆ sales_amount ┆ quantity ┆ product_name ┆ price  ┆ customer_name ┆ city     ┆ state │\n",
    "│ ---                 ┆ ---         ┆ ---        ┆ ---         ┆ ---          ┆ ---      ┆ ---          ┆ ---    ┆ ---           ┆ ---      ┆ ---   │\n",
    "│ datetime[ns]        ┆ i64         ┆ i64        ┆ str         ┆ f64          ┆ i64      ┆ str          ┆ f64    ┆ str           ┆ str      ┆ str   │\n",
    "╞═════════════════════╪═════════════╪════════════╪═════════════╪══════════════╪══════════╪══════════════╪════════╪═══════════════╪══════════╪═══════╡\n",
    "│ 2023-01-01 00:00:00 ┆ 52          ┆ 45         ┆ Food        ┆ 490.76       ┆ 7        ┆ Product 45   ┆ 493.14 ┆ Customer 52   ┆ Phoenis  ┆ TX    │\n",
    "│ 2023-01-02 00:00:00 ┆ 93          ┆ 41         ┆ Electronics ┆ 453.94       ┆ 5        ┆ Product 41   ┆ 193.39 ┆ Customer 93   ┆ New York ┆ TX    │\n",
    "│ 2023-01-03 00:00:00 ┆ 15          ┆ 29         ┆ Home        ┆ 994.51       ┆ 5        ┆ Product 29   ┆ 80.07  ┆ Customer 15   ┆ New York ┆ CA    │\n",
    "│ 2023-01-04 00:00:00 ┆ 72          ┆ 15         ┆ Electronics ┆ 184.17       ┆ 7        ┆ Product 15   ┆ 153.67 ┆ Customer 72   ┆ Houston  ┆ IL    │\n",
    "│ 2023-01-05 00:00:00 ┆ 61          ┆ 45         ┆ Food        ┆ 27.89        ┆ 9        ┆ Product 45   ┆ 493.14 ┆ Customer 61   ┆ Phoenix  ┆ IL    │\n",
    "└─────────────────────┴─────────────┴────────────┴─────────────┴──────────────┴──────────┴──────────────┴────────┴───────────────┴──────────┴───────┘\n",
    "```\n",
    "\n",
    "|      | date                | customer_id | product_id | category    | sales_amount | quantity | product_name |  price | customer_name | city     | state |\n",
    "| ---: | :------------------ | ----------: | ---------: | :---------- | -----------: | -------: | :----------- | -----: | :------------ | :------- | :---- |\n",
    "|    0 | 2023-01-01 00:00:00 |          52 |         45 | Food        |       490.76 |        7 | Product 45   | 493.14 | Customer 52   | Phoenix  | TX    |\n",
    "|    1 | 2023-01-02 00:00:00 |          93 |         41 | Electronics |       453.94 |        5 | Product 41   | 193.39 | Customer 93   | New York | TX    |\n",
    "|    2 | 2023-01-03 00:00:00 |          15 |         29 | Home        |       994.51 |        5 | Product 29   |  80.07 | Customer 15   | New York | CA    |\n",
    "|    3 | 2023-01-04 00:00:00 |          72 |         15 | Electronics |       184.17 |        7 | Product 15   | 153.67 | Customer 72   | Houston  | IL    |\n",
    "|    4 | 2023-01-05 00:00:00 |          61 |         45 | Food        |        27.89 |        9 | Product 45   | 493.14 | Customer 61   | Phoenix  | IL    |\n",
    "\n",
    "</div>\n",
    "\n",
    "Once we have the complete sales data, we can calculate the revenue for each sale by multiplying the price and quantity (columns from different tables). We can also compare this calculated revenue with the sales amount to identify any discrepancies.\n",
    "\n",
    "### Pandas\n",
    "\n",
    "In Pandas, we can calculate the revenue for each sale by multiplying the `price` and `quantity` columns. We can then compare this calculated revenue with the `sales_amount` column to identify any discrepancies.\n",
    "\n",
    "Notice here that the syntax for Pandas uses the `DataFrame` object directly, and we can access the columns using the 'slice' (`[]`) operator."
   ]
  },
  {
   "cell_type": "code",
   "execution_count": null,
   "id": "ff1708b2",
   "metadata": {
    "incorrectly_encoded_metadata": "{.pandas linenums=\"1\" title=\"Calculate revenue and compare with sales amount\"}"
   },
   "outputs": [
    {
     "name": "stdout",
     "output_type": "stream",
     "text": [
      "Complete Sales Data with Calculated Revenue and Price Difference: 100\n",
      "   sales_amount   price  quantity  calculated_revenue  price_difference\n",
      "0        490.76  493.14         7             3451.98          -2961.22\n",
      "1        453.94  193.39         5              966.95           -513.01\n",
      "2        994.51   80.07         5              400.35            594.16\n",
      "3        184.17  153.67         7             1075.69           -891.52\n",
      "4         27.89  493.14         9             4438.26          -4410.37\n",
      "|    |   sales_amount |   price |   quantity |   calculated_revenue |   price_difference |\n",
      "|---:|---------------:|--------:|-----------:|---------------------:|-------------------:|\n",
      "|  0 |         490.76 |  493.14 |          7 |              3451.98 |           -2961.22 |\n",
      "|  1 |         453.94 |  193.39 |          5 |               966.95 |            -513.01 |\n",
      "|  2 |         994.51 |   80.07 |          5 |               400.35 |             594.16 |\n",
      "|  3 |         184.17 |  153.67 |          7 |              1075.69 |            -891.52 |\n",
      "|  4 |          27.89 |  493.14 |          9 |              4438.26 |           -4410.37 |\n"
     ]
    }
   ],
   "source": [
    "complete_sales_pd[\"calculated_revenue\"] = complete_sales_pd[\"price\"] * complete_sales_pd[\"quantity\"]\n",
    "complete_sales_pd[\"price_difference\"] = complete_sales_pd[\"sales_amount\"] - complete_sales_pd[\"calculated_revenue\"]\n",
    "print(f\"Complete Sales Data with Calculated Revenue and Price Difference: {len(complete_sales_pd)}\")\n",
    "print(complete_sales_pd[[\"sales_amount\", \"price\", \"quantity\", \"calculated_revenue\", \"price_difference\"]].head(5))\n",
    "print(\n",
    "    complete_sales_pd[[\"sales_amount\", \"price\", \"quantity\", \"calculated_revenue\", \"price_difference\"]]\n",
    "    .head(5)\n",
    "    .to_markdown()\n",
    ")"
   ]
  },
  {
   "cell_type": "markdown",
   "id": "32042a80",
   "metadata": {},
   "source": [
    "<div class=\"result\" markdown>\n",
    "\n",
    "```txt\n",
    "Complete Sales Data with Calculated Revenue and Price Difference: 100\n",
    "```\n",
    "\n",
    "```txt\n",
    "   sales_amount   price  quantity  calculated_revenue  price_difference\n",
    "0        490.76  493.14         7             3451.98          -2961.22\n",
    "1        453.94  193.39         5              966.95           -513.01\n",
    "2        994.51   80.07         5              400.35            594.16\n",
    "3        184.17  153.67         7             1075.69           -891.52\n",
    "4         27.89  493.14         9             4438.26          -4410.37\n",
    "```\n",
    "\n",
    "|      | sales_amount |  price | quantity | calculated_revenue | price_difference |\n",
    "| ---: | -----------: | -----: | -------: | -----------------: | ---------------: |\n",
    "|    0 |       490.76 | 493.14 |        7 |            3451.98 |         -2961.22 |\n",
    "|    1 |       453.94 | 193.39 |        5 |             966.95 |          -513.01 |\n",
    "|    2 |       994.51 |  80.07 |        5 |             400.35 |           594.16 |\n",
    "|    3 |       184.17 | 153.67 |        7 |            1075.69 |          -891.52 |\n",
    "|    4 |        27.89 | 493.14 |        9 |            4438.26 |         -4410.37 |\n",
    "\n",
    "</div>\n",
    "\n",
    "### SQL\n",
    "\n",
    "In SQL, we can calculate the revenue for each sale by multiplying the `price` and `quantity` columns. We can then compare this calculated revenue with the `sales_amount` column to identify any discrepancies."
   ]
  },
  {
   "cell_type": "code",
   "execution_count": null,
   "id": "8168c156",
   "metadata": {
    "incorrectly_encoded_metadata": "{.sql linenums=\"1\" title=\"Calculate revenue and compare with sales amount\"}"
   },
   "outputs": [
    {
     "name": "stdout",
     "output_type": "stream",
     "text": [
      "Complete Sales Data with Calculated Revenue and Price Difference: 100\n",
      "   sales_amount   price  quantity  calculated_revenue  price_difference\n",
      "0        490.76  493.14         7             3451.98          -2961.22\n",
      "1        453.94  193.39         5              966.95           -513.01\n",
      "2        994.51   80.07         5              400.35            594.16\n",
      "3        184.17  153.67         7             1075.69           -891.52\n",
      "4         27.89  493.14         9             4438.26          -4410.37\n",
      "|    |   sales_amount |   price |   quantity |   calculated_revenue |   price_difference |\n",
      "|---:|---------------:|--------:|-----------:|---------------------:|-------------------:|\n",
      "|  0 |         490.76 |  493.14 |          7 |              3451.98 |           -2961.22 |\n",
      "|  1 |         453.94 |  193.39 |          5 |               966.95 |            -513.01 |\n",
      "|  2 |         994.51 |   80.07 |          5 |               400.35 |             594.16 |\n",
      "|  3 |         184.17 |  153.67 |          7 |              1075.69 |            -891.52 |\n",
      "|  4 |          27.89 |  493.14 |          9 |              4438.26 |           -4410.37 |\n"
     ]
    }
   ],
   "source": [
    "revenue_comparison_txt: str = \"\"\"\n",
    "    SELECT\n",
    "        s.sales_amount,\n",
    "        p.price,\n",
    "        s.quantity,\n",
    "        (p.price * s.quantity) AS calculated_revenue,\n",
    "        (s.sales_amount - (p.price * s.quantity)) AS price_difference\n",
    "    FROM sales s\n",
    "    LEFT JOIN product p ON s.product_id = p.product_id\n",
    "\"\"\"\n",
    "print(\n",
    "    f\"Complete Sales Data with Calculated Revenue and Price Difference: {len(pd.read_sql(revenue_comparison_txt, conn))}\"\n",
    ")\n",
    "print(pd.read_sql(revenue_comparison_txt + \"LIMIT 5\", conn))\n",
    "print(pd.read_sql(revenue_comparison_txt + \"LIMIT 5\", conn).to_markdown())"
   ]
  },
  {
   "cell_type": "markdown",
   "id": "f8d95c25",
   "metadata": {},
   "source": [
    "<div class=\"result\" markdown>\n",
    "\n",
    "```txt\n",
    "Complete Sales Data with Calculated Revenue and Price Difference: 100\n",
    "```\n",
    "\n",
    "```txt\n",
    "   sales_amount   price  quantity  calculated_revenue  price_difference\n",
    "0        490.76  493.14         7             3451.98          -2961.22\n",
    "1        453.94  193.39         5              966.95           -513.01\n",
    "2        994.51   80.07         5              400.35            594.16\n",
    "3        184.17  153.67         7             1075.69           -891.52\n",
    "4         27.89  493.14         9             4438.26          -4410.37\n",
    "```\n",
    "\n",
    "|      | sales_amount |  price | quantity | calculated_revenue | price_difference |\n",
    "| ---: | -----------: | -----: | -------: | -----------------: | ---------------: |\n",
    "|    0 |       490.76 | 493.14 |        7 |            3451.98 |         -2961.22 |\n",
    "|    1 |       453.94 | 193.39 |        5 |             966.95 |          -513.01 |\n",
    "|    2 |       994.51 |  80.07 |        5 |             400.35 |           594.16 |\n",
    "|    3 |       184.17 | 153.67 |        7 |            1075.69 |          -891.52 |\n",
    "|    4 |        27.89 | 493.14 |        9 |            4438.26 |         -4410.37 |\n",
    "\n",
    "</div>\n",
    "\n",
    "### PySpark\n",
    "\n",
    "In PySpark, we can calculate the revenue for each sale by multiplying the `price` and `quantity` columns. We can then compare this calculated revenue with the `sales_amount` column to identify any discrepancies.\n",
    "\n",
    "Notice here that the syntax for PySpark uses the [`.withColumns`][pyspark-withcolumns] method to add new multiple columns to the DataFrame simultaneously. This method takes a dictionary where the keys are the names of the new columns and the values are the expressions to compute those columns. The methematical computation we have shown here uses two different methods:\n",
    "\n",
    "1. With the PySpark API, we can use the [`F.col()`][pyspark-col] function to refer to the columns, and multiply them directly\n",
    "2. With the Spark SQL API, we can use the [`F.expr()`][pyspark-expr] function to write a SQL-like expression for the calculation."
   ]
  },
  {
   "cell_type": "code",
   "execution_count": null,
   "id": "2610f864",
   "metadata": {
    "incorrectly_encoded_metadata": "{.pyspark linenums=\"1\" title=\"Calculate revenue and compare with sales amount\"}"
   },
   "outputs": [
    {
     "name": "stdout",
     "output_type": "stream",
     "text": [
      "Complete Sales Data with Calculated Revenue and Price Difference: 100\n"
     ]
    },
    {
     "name": "stderr",
     "output_type": "stream",
     "text": [
      "                                                                                \r"
     ]
    },
    {
     "name": "stdout",
     "output_type": "stream",
     "text": [
      "+------------+------+--------+------------------+------------------+\n",
      "|sales_amount| price|quantity|calculated_revenue|  price_difference|\n",
      "+------------+------+--------+------------------+------------------+\n",
      "|       79.71|200.71|       8|           1605.68|          -1525.97|\n",
      "|      314.98|257.57|       9|           2318.13|          -2003.15|\n",
      "|      146.97|257.57|       7|           1802.99|          -1656.02|\n",
      "|       199.0|257.57|       5|           1287.85|          -1088.85|\n",
      "|      498.95|257.57|       5|           1287.85|-788.8999999999999|\n",
      "+------------+------+--------+------------------+------------------+\n",
      "only showing top 5 rows\n",
      "\n"
     ]
    },
    {
     "name": "stderr",
     "output_type": "stream",
     "text": [
      "                                                                                \r"
     ]
    },
    {
     "name": "stdout",
     "output_type": "stream",
     "text": [
      "|    |   sales_amount |   price |   quantity |   calculated_revenue |   price_difference |\n",
      "|---:|---------------:|--------:|-----------:|---------------------:|-------------------:|\n",
      "|  0 |          48.45 |   15.31 |          8 |               122.48 |             -74.03 |\n",
      "|  1 |          79.71 |  200.71 |          8 |              1605.68 |           -1525.97 |\n",
      "|  2 |         314.98 |  257.57 |          9 |              2318.13 |           -2003.15 |\n",
      "|  3 |         199    |  257.57 |          5 |              1287.85 |           -1088.85 |\n",
      "|  4 |         356.58 |  200.71 |          5 |              1003.55 |            -646.97 |\n"
     ]
    }
   ],
   "source": [
    "complete_sales_ps: psDataFrame = complete_sales_ps.withColumns(\n",
    "    {\n",
    "        \"calculated_revenue\": F.col(\"price\") * F.col(\"quantity\"),\n",
    "        \"price_difference\": F.expr(\"sales_amount - (price * quantity)\"),\n",
    "    },\n",
    ").select(\"sales_amount\", \"price\", \"quantity\", \"calculated_revenue\", \"price_difference\")\n",
    "print(f\"Complete Sales Data with Calculated Revenue and Price Difference: {complete_sales_ps.count()}\")\n",
    "complete_sales_ps.show(5)\n",
    "print(complete_sales_ps.limit(5).toPandas().to_markdown())"
   ]
  },
  {
   "cell_type": "markdown",
   "id": "1c4b1a83",
   "metadata": {},
   "source": [
    "<div class=\"result\" markdown>\n",
    "\n",
    "```txt\n",
    "Complete Sales Data with Calculated Revenue and Price Difference: 100\n",
    "```\n",
    "\n",
    "```txt\n",
    "+------------+------+--------+------------------+------------------+\n",
    "|sales_amount| price|quantity|calculated_revenue|  price_difference|\n",
    "+------------+------+--------+------------------+------------------+\n",
    "|       79.71|200.71|       8|           1605.68|          -1525.97|\n",
    "|      314.98|257.57|       9|           2318.13|          -2003.15|\n",
    "|      146.97|257.57|       7|           1802.99|          -1656.02|\n",
    "|       199.0|257.57|       5|           1287.85|          -1088.85|\n",
    "|      498.95|257.57|       5|           1287.85|-788.8999999999999|\n",
    "+------------+------+--------+------------------+------------------+\n",
    "only showing top 5 rows\n",
    "```\n",
    "\n",
    "|      | sales_amount |  price | quantity | calculated_revenue | price_difference |\n",
    "| ---: | -----------: | -----: | -------: | -----------------: | ---------------: |\n",
    "|    0 |        48.45 |  15.31 |        8 |             122.48 |           -74.03 |\n",
    "|    1 |        79.71 | 200.71 |        8 |            1605.68 |         -1525.97 |\n",
    "|    2 |       314.98 | 257.57 |        9 |            2318.13 |         -2003.15 |\n",
    "|    3 |          199 | 257.57 |        5 |            1287.85 |         -1088.85 |\n",
    "|    4 |       356.58 | 200.71 |        5 |            1003.55 |          -646.97 |\n",
    "\n",
    "</div>\n",
    "\n",
    "### Polars\n",
    "\n",
    "In Polars, we can calculate the revenue for each sale by multiplying the `price` and `quantity` columns. We can then compare this calculated revenue with the `sales_amount` column to identify any discrepancies.\n",
    "\n",
    "Notice here that the syntax for Polars uses the [`.with_columns`][polars-with-columns] method to add new multiple columns to the DataFrame simultaneously. This method takes a list of expressions, where each expression defines a new column."
   ]
  },
  {
   "cell_type": "code",
   "execution_count": null,
   "id": "bf518e72",
   "metadata": {
    "incorrectly_encoded_metadata": "{.polars linenums=\"1\" title=\"Calculate revenue and compare with sales amount\"}"
   },
   "outputs": [
    {
     "name": "stdout",
     "output_type": "stream",
     "text": [
      "Complete Sales Data with Calculated Revenue and Price Difference: 100\n",
      "shape: (5, 5)\n",
      "┌──────────────┬────────┬──────────┬────────────────────┬──────────────────┐\n",
      "│ sales_amount ┆ price  ┆ quantity ┆ calculated_revenue ┆ price_difference │\n",
      "│ ---          ┆ ---    ┆ ---      ┆ ---                ┆ ---              │\n",
      "│ f64          ┆ f64    ┆ i64      ┆ f64                ┆ f64              │\n",
      "╞══════════════╪════════╪══════════╪════════════════════╪══════════════════╡\n",
      "│ 490.76       ┆ 493.14 ┆ 7        ┆ 3451.98            ┆ -2961.22         │\n",
      "│ 453.94       ┆ 193.39 ┆ 5        ┆ 966.95             ┆ -513.01          │\n",
      "│ 994.51       ┆ 80.07  ┆ 5        ┆ 400.35             ┆ 594.16           │\n",
      "│ 184.17       ┆ 153.67 ┆ 7        ┆ 1075.69            ┆ -891.52          │\n",
      "│ 27.89        ┆ 493.14 ┆ 9        ┆ 4438.26            ┆ -4410.37         │\n",
      "└──────────────┴────────┴──────────┴────────────────────┴──────────────────┘\n",
      "|    |   sales_amount |   price |   quantity |   calculated_revenue |   price_difference |\n",
      "|---:|---------------:|--------:|-----------:|---------------------:|-------------------:|\n",
      "|  0 |         490.76 |  493.14 |          7 |              3451.98 |           -2961.22 |\n",
      "|  1 |         453.94 |  193.39 |          5 |               966.95 |            -513.01 |\n",
      "|  2 |         994.51 |   80.07 |          5 |               400.35 |             594.16 |\n",
      "|  3 |         184.17 |  153.67 |          7 |              1075.69 |            -891.52 |\n",
      "|  4 |          27.89 |  493.14 |          9 |              4438.26 |           -4410.37 |\n"
     ]
    }
   ],
   "source": [
    "complete_sales_pl: pl.DataFrame = complete_sales_pl.with_columns(\n",
    "    (pl.col(\"price\") * pl.col(\"quantity\")).alias(\"calculated_revenue\"),\n",
    "    (pl.col(\"sales_amount\") - (pl.col(\"price\") * pl.col(\"quantity\"))).alias(\"price_difference\"),\n",
    ")\n",
    "print(f\"Complete Sales Data with Calculated Revenue and Price Difference: {len(complete_sales_pl)}\")\n",
    "print(complete_sales_pl.select([\"sales_amount\", \"price\", \"quantity\", \"calculated_revenue\", \"price_difference\"]).head(5))\n",
    "print(\n",
    "    complete_sales_pl.select([\"sales_amount\", \"price\", \"quantity\", \"calculated_revenue\", \"price_difference\"])\n",
    "    .head(5)\n",
    "    .to_pandas()\n",
    "    .to_markdown()\n",
    ")"
   ]
  },
  {
   "cell_type": "markdown",
   "id": "0c1d3087",
   "metadata": {},
   "source": [
    "<div class=\"result\" markdown>\n",
    "\n",
    "```txt\n",
    "Complete Sales Data with Calculated Revenue and Price Difference: 100\n",
    "```\n",
    "\n",
    "```txt\n",
    "┌──────────────┬────────┬──────────┬────────────────────┬──────────────────┐\n",
    "│ sales_amount ┆ price  ┆ quantity ┆ calculated_revenue ┆ price_difference │\n",
    "│ ---          ┆ ---    ┆ ---      ┆ ---                ┆ ---              │\n",
    "│ f64          ┆ f64    ┆ i64      ┆ f64                ┆ f64              │\n",
    "╞══════════════╪════════╪══════════╪════════════════════╪══════════════════╡\n",
    "│ 490.76       ┆ 493.14 ┆ 7        ┆ 3451.98            ┆ -2961.22         │\n",
    "│ 453.94       ┆ 193.39 ┆ 5        ┆ 966.95             ┆ -513.01          │\n",
    "│ 994.51       ┆ 80.07  ┆ 5        ┆ 400.35             ┆ 594.16           │\n",
    "│ 184.17       ┆ 153.67 ┆ 7        ┆ 1075.69            ┆ -891.52          │\n",
    "│ 27.89        ┆ 493.14 ┆ 9        ┆ 4438.26            ┆ -4410.37         │\n",
    "└──────────────┴────────┴──────────┴────────────────────┴──────────────────┘\n",
    "```\n",
    "\n",
    "|      | sales_amount |  price | quantity | calculated_revenue | price_difference |\n",
    "| ---: | -----------: | -----: | -------: | -----------------: | ---------------: |\n",
    "|    0 |       490.76 | 493.14 |        7 |            3451.98 |         -2961.22 |\n",
    "|    1 |       453.94 | 193.39 |        5 |             966.95 |          -513.01 |\n",
    "|    2 |       994.51 |  80.07 |        5 |             400.35 |           594.16 |\n",
    "|    3 |       184.17 | 153.67 |        7 |            1075.69 |          -891.52 |\n",
    "|    4 |        27.89 | 493.14 |        9 |            4438.26 |         -4410.37 |\n",
    "\n",
    "</div>"
   ]
  },
  {
   "cell_type": "markdown",
   "id": "6e1cbd04",
   "metadata": {},
   "source": [
    "## 4. Window Functions\n",
    "\n",
    "Window functions are a powerful feature in Pandas that allow us to perform calculations across a set of rows related to the current row. This is particularly useful for time series data, where we may want to calculate rolling averages, cumulative sums, or other metrics based on previous or subsequent rows.\n",
    "\n",
    "To understand more about the nuances of the window functions, check out some of these guides:\n",
    "\n",
    "- [Analyzing data with window functions][analysing-window-functions]\n",
    "- [SQL Window Functions Visualized][visualising-window-functions]\n",
    "\n",
    "In this section, we will demonstrate how to use window functions to analyze sales data over time. We will start by converting the `date` column to a datetime type, which is necessary for time-based calculations. We will then group the data by date and calculate the total sales for each day.\n",
    "\n",
    "The first thing that we will do is to group the sales data by date and calculate the total sales for each day. This will give us a daily summary of sales, which we can then use to analyze trends over time.\n",
    "\n",
    "### Pandas\n",
    "\n",
    "In Pandas, we can use the [`.groupby()`][pandas-groupby] method to group the data by the `date` column, followed by the [`.agg()`][pandas-groupby-agg] method to calculate the total sales for each day. This will then set us up for further time-based calculations in the following steps"
   ]
  },
  {
   "cell_type": "code",
   "execution_count": null,
   "id": "fa3ceedc",
   "metadata": {
    "incorrectly_encoded_metadata": "{.pandas linenums=\"1\" title=\"Time-based window function\"}"
   },
   "outputs": [
    {
     "name": "stdout",
     "output_type": "stream",
     "text": [
      "Daily Sales Summary: 100\n",
      "         date  total_sales\n",
      "0  2023-01-01       490.76\n",
      "1  2023-01-02       453.94\n",
      "2  2023-01-03       994.51\n",
      "3  2023-01-04       184.17\n",
      "4  2023-01-05        27.89\n",
      "|    | date       |   total_sales |\n",
      "|---:|:-----------|--------------:|\n",
      "|  0 | 2023-01-01 |        490.76 |\n",
      "|  1 | 2023-01-02 |        453.94 |\n",
      "|  2 | 2023-01-03 |        994.51 |\n",
      "|  3 | 2023-01-04 |        184.17 |\n",
      "|  4 | 2023-01-05 |         27.89 |\n"
     ]
    }
   ],
   "source": [
    "df_sales_pd[\"date\"] = pd.to_datetime(df_sales_pd[\"date\"])  # Ensure correct date type\n",
    "daily_sales_pd: pd.DataFrame = (\n",
    "    df_sales_pd.groupby(df_sales_pd[\"date\"].dt.date)\n",
    "    .agg(total_sales=(\"sales_amount\", \"sum\"))\n",
    "    .reset_index()\n",
    "    .sort_values(\"date\")\n",
    ")\n",
    "print(f\"Daily Sales Summary: {len(daily_sales_pd)}\")\n",
    "print(daily_sales_pd.head(5))\n",
    "print(daily_sales_pd.head(5).to_markdown())"
   ]
  },
  {
   "cell_type": "markdown",
   "id": "1acdf2ad",
   "metadata": {},
   "source": [
    "<div class=\"result\" markdown>\n",
    "\n",
    "```txt\n",
    "Daily Sales Summary: 100\n",
    "```\n",
    "\n",
    "```txt\n",
    "         date  total_sales\n",
    "0  2023-01-01        490.76\n",
    "1  2023-01-02        453.94\n",
    "2  2023-01-03        994.51\n",
    "3  2023-01-04        184.17\n",
    "4  2023-01-05         27.89\n",
    "```\n",
    "\n",
    "|      | date       | total_sales |\n",
    "| ---: | :--------- | ----------: |\n",
    "|    0 | 2023-01-01 |      490.76 |\n",
    "|    1 | 2023-01-02 |      453.94 |\n",
    "|    2 | 2023-01-03 |      994.51 |\n",
    "|    3 | 2023-01-04 |      184.17 |\n",
    "|    4 | 2023-01-05 |       27.89 |\n",
    "\n",
    "</div>\n",
    "\n",
    "### SQL\n",
    "\n",
    "In SQL, we can use the `GROUP BY` clause to group the data by the `date` column and then use the `SUM()` function to calculate the total sales for each day. This will give us a daily summary of sales, which we can then use to analyze trends over time."
   ]
  },
  {
   "cell_type": "code",
   "execution_count": null,
   "id": "fbce4109",
   "metadata": {
    "incorrectly_encoded_metadata": "{.sql linenums=\"1\" title=\"Time-based window function\"}"
   },
   "outputs": [
    {
     "name": "stdout",
     "output_type": "stream",
     "text": [
      "Daily Sales Summary: 100\n",
      "                  date  total_sales\n",
      "0  2023-01-01 00:00:00       490.76\n",
      "1  2023-01-02 00:00:00       453.94\n",
      "2  2023-01-03 00:00:00       994.51\n",
      "3  2023-01-04 00:00:00       184.17\n",
      "4  2023-01-05 00:00:00        27.89\n",
      "|    | date                |   total_sales |\n",
      "|---:|:--------------------|--------------:|\n",
      "|  0 | 2023-01-01 00:00:00 |        490.76 |\n",
      "|  1 | 2023-01-02 00:00:00 |        453.94 |\n",
      "|  2 | 2023-01-03 00:00:00 |        994.51 |\n",
      "|  3 | 2023-01-04 00:00:00 |        184.17 |\n",
      "|  4 | 2023-01-05 00:00:00 |         27.89 |\n"
     ]
    }
   ],
   "source": [
    "daily_sales_txt: str = \"\"\"\n",
    "    SELECT\n",
    "        date,\n",
    "        SUM(sales_amount) AS total_sales\n",
    "    FROM sales\n",
    "    GROUP BY date\n",
    "    ORDER BY date\n",
    "\"\"\"\n",
    "print(f\"Daily Sales Summary: {len(pd.read_sql(daily_sales_txt, conn))}\")\n",
    "print(pd.read_sql(daily_sales_txt + \"LIMIT 5\", conn))\n",
    "print(pd.read_sql(daily_sales_txt + \"LIMIT 5\", conn).to_markdown())"
   ]
  },
  {
   "cell_type": "markdown",
   "id": "c79e8165",
   "metadata": {},
   "source": [
    "<div class=\"result\" markdown>\n",
    "\n",
    "```txt\n",
    "Daily Sales Summary: 100\n",
    "```\n",
    "\n",
    "```txt\n",
    "                  date  total_sales\n",
    "0  2023-01-01 00:00:00       490.76\n",
    "1  2023-01-02 00:00:00       453.94\n",
    "2  2023-01-03 00:00:00       994.51\n",
    "3  2023-01-04 00:00:00       184.17\n",
    "4  2023-01-05 00:00:00        27.89\n",
    "```\n",
    "\n",
    "|      | date                | total_sales |\n",
    "| ---: | :------------------ | ----------: |\n",
    "|    0 | 2023-01-01 00:00:00 |      490.76 |\n",
    "|    1 | 2023-01-02 00:00:00 |      453.94 |\n",
    "|    2 | 2023-01-03 00:00:00 |      994.51 |\n",
    "|    3 | 2023-01-04 00:00:00 |      184.17 |\n",
    "|    4 | 2023-01-05 00:00:00 |       27.89 |\n",
    "\n",
    "</div>\n",
    "\n",
    "### PySpark\n",
    "\n",
    "In PySpark, we can use the [`.groupBy()`][pyspark-groupby] method to group the data by the `date` column, followed by the [`.agg()`][pyspark-groupby-agg] method to calculate the total sales for each day. This will then set us up for further time-based calculations in the following steps."
   ]
  },
  {
   "cell_type": "code",
   "execution_count": null,
   "id": "02cc8c31",
   "metadata": {
    "incorrectly_encoded_metadata": "{.pyspark linenums=\"1\" title=\"Time-based window function\"}"
   },
   "outputs": [
    {
     "name": "stdout",
     "output_type": "stream",
     "text": [
      "Daily Sales Summary: 100\n",
      "+----------+-----------+\n",
      "|      date|total_sales|\n",
      "+----------+-----------+\n",
      "|2023-01-01|     490.76|\n",
      "|2023-01-02|     453.94|\n",
      "|2023-01-03|     994.51|\n",
      "|2023-01-04|     184.17|\n",
      "|2023-01-05|      27.89|\n",
      "+----------+-----------+\n",
      "only showing top 5 rows\n",
      "\n",
      "|    | date       |   total_sales |\n",
      "|---:|:-----------|--------------:|\n",
      "|  0 | 2023-01-01 |        490.76 |\n",
      "|  1 | 2023-01-02 |        453.94 |\n",
      "|  2 | 2023-01-03 |        994.51 |\n",
      "|  3 | 2023-01-04 |        184.17 |\n",
      "|  4 | 2023-01-05 |         27.89 |\n"
     ]
    }
   ],
   "source": [
    "df_sales_ps: psDataFrame = df_sales_ps.withColumn(\"date\", F.to_date(df_sales_ps[\"date\"]))\n",
    "daily_sales_ps: psDataFrame = (\n",
    "    df_sales_ps.groupBy(\"date\").agg(F.sum(\"sales_amount\").alias(\"total_sales\")).orderBy(\"date\")\n",
    ")\n",
    "print(f\"Daily Sales Summary: {daily_sales_ps.count()}\")\n",
    "daily_sales_ps.show(5)\n",
    "print(daily_sales_ps.limit(5).toPandas().to_markdown())"
   ]
  },
  {
   "cell_type": "markdown",
   "id": "7af8a375",
   "metadata": {},
   "source": [
    "<div class=\"result\" markdown>\n",
    "\n",
    "```txt\n",
    "Daily Sales Summary: 100\n",
    "```\n",
    "\n",
    "```txt\n",
    "+----------+-----------+\n",
    "|      date|total_sales|\n",
    "+----------+-----------+\n",
    "|2023-01-01|     490.76|\n",
    "|2023-01-02|     453.94|\n",
    "|2023-01-03|     994.51|\n",
    "|2023-01-04|     184.17|\n",
    "|2023-01-05|      27.89|\n",
    "+----------+-----------+\n",
    "only showing top 5 rows\n",
    "```\n",
    "\n",
    "|      | date       | total_sales |\n",
    "| ---: | :--------- | ----------: |\n",
    "|    0 | 2023-01-01 |      490.76 |\n",
    "|    1 | 2023-01-02 |      453.94 |\n",
    "|    2 | 2023-01-03 |      994.51 |\n",
    "|    3 | 2023-01-04 |      184.17 |\n",
    "|    4 | 2023-01-05 |       27.89 |\n",
    "\n",
    "</div>\n",
    "\n",
    "### Polars\n",
    "\n",
    "In Polars, we can use the [`.group_by()`][polars-groupby] method to group the data by the `date` column, followed by the [`.agg()`][polars-groupby-agg] method to calculate the total sales for each day. This will then set us up for further time-based calculations in the following steps."
   ]
  },
  {
   "cell_type": "code",
   "execution_count": null,
   "id": "a544ac78",
   "metadata": {
    "incorrectly_encoded_metadata": "{.polars linenums=\"1\" title=\"Time-based window function\"}"
   },
   "outputs": [
    {
     "name": "stdout",
     "output_type": "stream",
     "text": [
      "Daily Sales Summary: 100\n",
      "shape: (5, 2)\n",
      "┌────────────┬─────────────┐\n",
      "│ date       ┆ total_sales │\n",
      "│ ---        ┆ ---         │\n",
      "│ date       ┆ f64         │\n",
      "╞════════════╪═════════════╡\n",
      "│ 2023-01-01 ┆ 490.76      │\n",
      "│ 2023-01-02 ┆ 453.94      │\n",
      "│ 2023-01-03 ┆ 994.51      │\n",
      "│ 2023-01-04 ┆ 184.17      │\n",
      "│ 2023-01-05 ┆ 27.89       │\n",
      "└────────────┴─────────────┘\n",
      "|    | date                |   total_sales |\n",
      "|---:|:--------------------|--------------:|\n",
      "|  0 | 2023-01-01 00:00:00 |        490.76 |\n",
      "|  1 | 2023-01-02 00:00:00 |        453.94 |\n",
      "|  2 | 2023-01-03 00:00:00 |        994.51 |\n",
      "|  3 | 2023-01-04 00:00:00 |        184.17 |\n",
      "|  4 | 2023-01-05 00:00:00 |         27.89 |\n"
     ]
    }
   ],
   "source": [
    "df_sales_pl: pl.DataFrame = df_sales_pl.with_columns(pl.col(\"date\").cast(pl.Date))\n",
    "daily_sales_pl: pl.DataFrame = (\n",
    "    df_sales_pl.group_by(\"date\").agg(pl.col(\"sales_amount\").sum().alias(\"total_sales\")).sort(\"date\")\n",
    ")\n",
    "print(f\"Daily Sales Summary: {len(daily_sales_pl)}\")\n",
    "print(daily_sales_pl.head(5))\n",
    "print(daily_sales_pl.head(5).to_pandas().to_markdown())"
   ]
  },
  {
   "cell_type": "markdown",
   "id": "9bdf1f32",
   "metadata": {},
   "source": [
    "<div class=\"result\" markdown>\n",
    "\n",
    "```txt\n",
    "Daily Sales Summary: 100\n",
    "```\n",
    "\n",
    "```txt\n",
    "shape: (5, 2)\n",
    "┌────────────┬─────────────┐\n",
    "│ date       ┆ total_sales │\n",
    "│ ---        ┆ ---         │\n",
    "│ date       ┆ f64         │\n",
    "╞════════════╪═════════════╡\n",
    "│ 2023-01-01 ┆ 490.76      │\n",
    "│ 2023-01-02 ┆ 453.94      │\n",
    "│ 2023-01-03 ┆ 994.51      │\n",
    "│ 2023-01-04 ┆ 184.17      │\n",
    "│ 2023-01-05 ┆ 27.89       │\n",
    "└────────────┴─────────────┘\n",
    "```\n",
    "\n",
    "|      | date                | total_sales |\n",
    "| ---: | :------------------ | ----------: |\n",
    "|    0 | 2023-01-01 00:00:00 |      490.76 |\n",
    "|    1 | 2023-01-02 00:00:00 |      453.94 |\n",
    "|    2 | 2023-01-03 00:00:00 |      994.51 |\n",
    "|    3 | 2023-01-04 00:00:00 |      184.17 |\n",
    "|    4 | 2023-01-05 00:00:00 |       27.89 |\n",
    "\n",
    "</div>\n",
    "\n",
    "Next, we will calculate the lag and lead values for the sales amount. This allows us to compare the current day's sales with the previous and next days' sales.\n",
    "\n",
    "### Pandas\n",
    "\n",
    "In Pandas, we can calculate the lag and lead values for the sales amount by using the [`.shift()`][pandas-shift] method. This method shifts the values in a column by a specified number of periods, allowing us to create lag and lead columns.\n",
    "\n",
    "Note that the [`.shift()`][pandas-shift] method simply shifts the values in the column by a number of rows up or down, so we can use it to create lag and lead columns. This function itself does not need to be ordered because it assumes that the DataFrame is already ordered. However, if you want it to be ordered, you can use the [`.sort_values()`][pandas-sort_values] method before applying [`.shift()`][pandas-shift]."
   ]
  },
  {
   "cell_type": "code",
   "execution_count": null,
   "id": "becd3bf3",
   "metadata": {
    "incorrectly_encoded_metadata": "{.pandas linenums=\"1\" title=\"Calculate lag and lead\"}"
   },
   "outputs": [
    {
     "name": "stdout",
     "output_type": "stream",
     "text": [
      "Daily Sales with Lag and Lead: 100\n",
      "         date  total_sales  previous_day_sales  next_day_sales\n",
      "0  2023-01-01       490.76                 NaN          453.94\n",
      "1  2023-01-02       453.94              490.76          994.51\n",
      "2  2023-01-03       994.51              453.94          184.17\n",
      "3  2023-01-04       184.17              994.51           27.89\n",
      "4  2023-01-05        27.89              184.17          498.95\n",
      "|    | date       |   total_sales |   previous_day_sales |   next_day_sales |\n",
      "|---:|:-----------|--------------:|---------------------:|-----------------:|\n",
      "|  0 | 2023-01-01 |        490.76 |               nan    |           453.94 |\n",
      "|  1 | 2023-01-02 |        453.94 |               490.76 |           994.51 |\n",
      "|  2 | 2023-01-03 |        994.51 |               453.94 |           184.17 |\n",
      "|  3 | 2023-01-04 |        184.17 |               994.51 |            27.89 |\n",
      "|  4 | 2023-01-05 |         27.89 |               184.17 |           498.95 |\n"
     ]
    }
   ],
   "source": [
    "daily_sales_pd[\"previous_day_sales\"] = daily_sales_pd[\"total_sales\"].shift(1)\n",
    "daily_sales_pd[\"next_day_sales\"] = daily_sales_pd[\"total_sales\"].shift(-1)\n",
    "print(f\"Daily Sales with Lag and Lead: {len(daily_sales_pd)}\")\n",
    "print(daily_sales_pd.head(5))\n",
    "print(daily_sales_pd.head(5).to_markdown())"
   ]
  },
  {
   "cell_type": "markdown",
   "id": "fd4f8458",
   "metadata": {},
   "source": [
    "<div class=\"result\" markdown>\n",
    "\n",
    "```txt\n",
    "Daily Sales with Lag and Lead: 100\n",
    "```\n",
    "\n",
    "```txt\n",
    "         date  total_sales  previous_day_sales  next_day_sales\n",
    "0  2023-01-01       490.76                 NaN          453.94\n",
    "1  2023-01-02       453.94              490.76          994.51\n",
    "2  2023-01-03       994.51              453.94          184.17\n",
    "3  2023-01-04       184.17              994.51           27.89\n",
    "4  2023-01-05        27.89              184.17          498.95\n",
    "```\n",
    "\n",
    "|      | date       | total_sales | previous_day_sales | next_day_sales |\n",
    "| ---: | :--------- | ----------: | -----------------: | -------------: |\n",
    "|    0 | 2023-01-01 |      490.76 |                nan |         453.94 |\n",
    "|    1 | 2023-01-02 |      453.94 |             490.76 |         994.51 |\n",
    "|    2 | 2023-01-03 |      994.51 |             453.94 |         184.17 |\n",
    "|    3 | 2023-01-04 |      184.17 |             994.51 |          27.89 |\n",
    "|    4 | 2023-01-05 |       27.89 |             184.17 |         498.95 |\n",
    "\n",
    "</div>\n",
    "\n",
    "### SQL\n",
    "\n",
    "In SQL, we can use the `LAG()` and `LEAD()` window functions to calculate the lag and lead values for the sales amount. These functions allow us to access data from previous and next rows in the result set without needing to join the table to itself.\n",
    "\n",
    "The part that is important to note here is that the `LAG()` and `LEAD()` functions are used in conjunction with the `OVER` clause, which defines the window over which the function operates. In this case, we are ordering by the `date` column to ensure that the lag and lead values are calculated based on the chronological order of the sales data."
   ]
  },
  {
   "cell_type": "code",
   "execution_count": null,
   "id": "f54f9d5b",
   "metadata": {
    "incorrectly_encoded_metadata": "{.sql linenums=\"1\" title=\"Calculate lag and lead\"}"
   },
   "outputs": [
    {
     "name": "stdout",
     "output_type": "stream",
     "text": [
      "Daily Sales with Lag and Lead: 100\n",
      "             sale_date  total_sales  previous_day_sales  next_day_sales\n",
      "0  2023-01-01 00:00:00       490.76                 NaN          453.94\n",
      "1  2023-01-02 00:00:00       453.94              490.76          994.51\n",
      "2  2023-01-03 00:00:00       994.51              453.94          184.17\n",
      "3  2023-01-04 00:00:00       184.17              994.51           27.89\n",
      "4  2023-01-05 00:00:00        27.89              184.17          498.95\n",
      "|    | sale_date           |   total_sales |   previous_day_sales |   next_day_sales |\n",
      "|---:|:--------------------|--------------:|---------------------:|-----------------:|\n",
      "|  0 | 2023-01-01 00:00:00 |        490.76 |               nan    |           453.94 |\n",
      "|  1 | 2023-01-02 00:00:00 |        453.94 |               490.76 |           994.51 |\n",
      "|  2 | 2023-01-03 00:00:00 |        994.51 |               453.94 |           184.17 |\n",
      "|  3 | 2023-01-04 00:00:00 |        184.17 |               994.51 |            27.89 |\n",
      "|  4 | 2023-01-05 00:00:00 |         27.89 |               184.17 |           498.95 |\n"
     ]
    }
   ],
   "source": [
    "lag_lead_txt: str = \"\"\"\n",
    "    SELECT\n",
    "        date AS sale_date,\n",
    "        SUM(sales_amount) AS total_sales,\n",
    "        LAG(SUM(sales_amount)) OVER (ORDER BY date) AS previous_day_sales,\n",
    "        LEAD(SUM(sales_amount)) OVER (ORDER BY date) AS next_day_sales\n",
    "    FROM sales\n",
    "    GROUP BY date\n",
    "    ORDER BY date\n",
    "\"\"\"\n",
    "lag_lead_df_sql: pd.DataFrame = pd.read_sql(lag_lead_txt, conn)\n",
    "print(f\"Daily Sales with Lag and Lead: {len(lag_lead_df_sql)}\")\n",
    "print(pd.read_sql(lag_lead_txt + \" LIMIT 5\", conn))\n",
    "print(pd.read_sql(lag_lead_txt + \" LIMIT 5\", conn).to_markdown())"
   ]
  },
  {
   "cell_type": "markdown",
   "id": "2da13127",
   "metadata": {},
   "source": [
    "<div class=\"result\" markdown>\n",
    "\n",
    "```txt\n",
    "Daily Sales with Lag and Lead: 100\n",
    "```\n",
    "\n",
    "```txt\n",
    "             sale_date  total_sales  previous_day_sales  next_day_sales\n",
    "0  2023-01-01 00:00:00        490.76                 NaN          453.94\n",
    "1  2023-01-02 00:00:00        453.94              490.76          994.51\n",
    "2  2023-01-03 00:00:00        994.51              453.94          184.17\n",
    "3  2023-01-04 00:00:00        184.17              994.51           27.89\n",
    "4  2023-01-05 00:00:00         27.89              184.17          498.95\n",
    "```\n",
    "\n",
    "|      | sale_date           | total_sales | previous_day_sales | next_day_sales |\n",
    "| ---: | :------------------ | ----------: | -----------------: | -------------: |\n",
    "|    0 | 2023-01-01 00:00:00 |      490.76 |                nan |         453.94 |\n",
    "|    1 | 2023-01-02 00:00:00 |      453.94 |             490.76 |         994.51 |\n",
    "|    2 | 2023-01-03 00:00:00 |      994.51 |             453.94 |         184.17 |\n",
    "|    3 | 2023-01-04 00:00:00 |      184.17 |             994.51 |          27.89 |\n",
    "|    4 | 2023-01-05 00:00:00 |       27.89 |             184.17 |         498.95 |\n",
    "\n",
    "</div>\n",
    "\n",
    "### PySpark\n",
    "\n",
    "In PySpark, we can use the [`.lag()`][pyspark-lag] and [`.lead()`][pyspark-lead] functions to calculate the lag and lead values for the sales amount. These functions are used in conjunction with a window specification that defines the order of the rows.\n",
    "\n",
    "Note that in PySpark, we can define a Window function in one of two ways: using the PySpark API or using the Spark SQL API.\n",
    "\n",
    "1. **The PySpark API**: The PySpark API allows us to define a window specification using the [`Window()`][pyspark-window] class, which provides methods to specify the ordering of the rows. We can then use the `F.lag()` and `F.lead()` functions to calculate the lag and lead values _over_ a given window on the table.\n",
    "2. **The Spark SQL API**: The Spark SQL API is used through the [`F.expr()`][pyspark-expr] function, which allows us to write SQL-like expressions for the calculations. This is similar to how we would write SQL queries, but it is executed within the PySpark context.\n",
    "\n",
    "Here in the below example, we show how the previous day sales can be calculated using the [`.lag()`][pyspark-lag] function in the PySpark API, and the next day sales can be calculated using the [`LEAD()`][sparksql-lead] function in the Spark SQL API. Functionally, both of these two methods achieve the same result, but aesthetically they use slightly different syntax. It is primarily a matter of preference which one you choose to use."
   ]
  },
  {
   "cell_type": "code",
   "execution_count": null,
   "id": "2a90ed67",
   "metadata": {
    "incorrectly_encoded_metadata": "{.pyspark linenums=\"1\" title=\"Calculate lag and lead\"}"
   },
   "outputs": [
    {
     "name": "stdout",
     "output_type": "stream",
     "text": [
      "Daily Sales with Lag and Lead: 100\n"
     ]
    },
    {
     "name": "stderr",
     "output_type": "stream",
     "text": [
      "25/07/06 12:38:42 WARN WindowExec: No Partition Defined for Window operation! Moving all data to a single partition, this can cause serious performance degradation.\n",
      "25/07/06 12:38:42 WARN WindowExec: No Partition Defined for Window operation! Moving all data to a single partition, this can cause serious performance degradation.\n",
      "25/07/06 12:38:42 WARN WindowExec: No Partition Defined for Window operation! Moving all data to a single partition, this can cause serious performance degradation.\n",
      "25/07/06 12:38:42 WARN WindowExec: No Partition Defined for Window operation! Moving all data to a single partition, this can cause serious performance degradation.\n",
      "25/07/06 12:38:42 WARN WindowExec: No Partition Defined for Window operation! Moving all data to a single partition, this can cause serious performance degradation.\n",
      "25/07/06 12:38:42 WARN WindowExec: No Partition Defined for Window operation! Moving all data to a single partition, this can cause serious performance degradation.\n",
      "25/07/06 12:38:42 WARN WindowExec: No Partition Defined for Window operation! Moving all data to a single partition, this can cause serious performance degradation.\n",
      "25/07/06 12:38:42 WARN WindowExec: No Partition Defined for Window operation! Moving all data to a single partition, this can cause serious performance degradation.\n",
      "25/07/06 12:38:42 WARN WindowExec: No Partition Defined for Window operation! Moving all data to a single partition, this can cause serious performance degradation.\n"
     ]
    },
    {
     "name": "stdout",
     "output_type": "stream",
     "text": [
      "+----------+-----------+------------------+--------------+\n",
      "|      date|total_sales|previous_day_sales|next_day_sales|\n",
      "+----------+-----------+------------------+--------------+\n",
      "|2023-01-01|     490.76|              NULL|        453.94|\n",
      "|2023-01-02|     453.94|            490.76|        994.51|\n",
      "|2023-01-03|     994.51|            453.94|        184.17|\n",
      "|2023-01-04|     184.17|            994.51|         27.89|\n",
      "|2023-01-05|      27.89|            184.17|        498.95|\n",
      "+----------+-----------+------------------+--------------+\n",
      "only showing top 5 rows\n",
      "\n"
     ]
    },
    {
     "name": "stderr",
     "output_type": "stream",
     "text": [
      "25/07/06 12:38:43 WARN WindowExec: No Partition Defined for Window operation! Moving all data to a single partition, this can cause serious performance degradation.\n",
      "25/07/06 12:38:43 WARN WindowExec: No Partition Defined for Window operation! Moving all data to a single partition, this can cause serious performance degradation.\n",
      "25/07/06 12:38:43 WARN WindowExec: No Partition Defined for Window operation! Moving all data to a single partition, this can cause serious performance degradation.\n",
      "25/07/06 12:38:43 WARN WindowExec: No Partition Defined for Window operation! Moving all data to a single partition, this can cause serious performance degradation.\n",
      "25/07/06 12:38:43 WARN WindowExec: No Partition Defined for Window operation! Moving all data to a single partition, this can cause serious performance degradation.\n",
      "25/07/06 12:38:43 WARN WindowExec: No Partition Defined for Window operation! Moving all data to a single partition, this can cause serious performance degradation.\n"
     ]
    },
    {
     "name": "stdout",
     "output_type": "stream",
     "text": [
      "|    | date       |   total_sales |   previous_day_sales |   next_day_sales |\n",
      "|---:|:-----------|--------------:|---------------------:|-----------------:|\n",
      "|  0 | 2023-01-01 |        490.76 |               nan    |           453.94 |\n",
      "|  1 | 2023-01-02 |        453.94 |               490.76 |           994.51 |\n",
      "|  2 | 2023-01-03 |        994.51 |               453.94 |           184.17 |\n",
      "|  3 | 2023-01-04 |        184.17 |               994.51 |            27.89 |\n",
      "|  4 | 2023-01-05 |         27.89 |               184.17 |           498.95 |\n"
     ]
    },
    {
     "name": "stderr",
     "output_type": "stream",
     "text": [
      "25/07/06 12:38:43 WARN WindowExec: No Partition Defined for Window operation! Moving all data to a single partition, this can cause serious performance degradation.\n",
      "25/07/06 12:38:43 WARN WindowExec: No Partition Defined for Window operation! Moving all data to a single partition, this can cause serious performance degradation.\n",
      "25/07/06 12:38:43 WARN WindowExec: No Partition Defined for Window operation! Moving all data to a single partition, this can cause serious performance degradation.\n"
     ]
    }
   ],
   "source": [
    "window_spec_ps: Window = Window.orderBy(\"date\")\n",
    "daily_sales_ps: psDataFrame = daily_sales_ps.withColumns(\n",
    "    {\n",
    "        \"previous_day_sales\": F.lag(\"total_sales\").over(window_spec_ps),\n",
    "        \"next_day_sales\": F.expr(\"LEAD(total_sales) OVER (ORDER BY date)\"),\n",
    "    },\n",
    ")\n",
    "print(f\"Daily Sales with Lag and Lead: {daily_sales_ps.count()}\")\n",
    "daily_sales_ps.show(5)\n",
    "print(daily_sales_ps.limit(5).toPandas().to_markdown())"
   ]
  },
  {
   "cell_type": "markdown",
   "id": "9a3e9d83",
   "metadata": {},
   "source": [
    "<div class=\"result\" markdown>\n",
    "\n",
    "```txt\n",
    "Daily Sales with Lag and Lead: 100\n",
    "```\n",
    "\n",
    "```txt\n",
    "+----------+-----------+------------------+--------------+\n",
    "|      date|total_sales|previous_day_sales|next_day_sales|\n",
    "+----------+-----------+------------------+--------------+\n",
    "|2023-01-01|     490.76|              NULL|        453.94|\n",
    "|2023-01-02|     453.94|            490.76|        994.51|\n",
    "|2023-01-03|     994.51|            453.94|        184.17|\n",
    "|2023-01-04|     184.17|            994.51|         27.89|\n",
    "|2023-01-05|      27.89|            184.17|        498.95|\n",
    "+----------+-----------+------------------+--------------+\n",
    "only showing top 5 rows\n",
    "```\n",
    "\n",
    "|      | date       | total_sales | previous_day_sales | next_day_sales |\n",
    "| ---: | :--------- | ----------: | -----------------: | -------------: |\n",
    "|    0 | 2023-01-01 |      490.76 |                nan |         453.94 |\n",
    "|    1 | 2023-01-02 |      453.94 |             490.76 |         994.51 |\n",
    "|    2 | 2023-01-03 |      994.51 |             453.94 |         184.17 |\n",
    "|    3 | 2023-01-04 |      184.17 |             994.51 |          27.89 |\n",
    "|    4 | 2023-01-05 |       27.89 |             184.17 |         498.95 |\n",
    "\n",
    "</div>\n",
    "\n",
    "### Polars\n",
    "\n",
    "In Polars, we can use the [`.shift()`][polars-shift] method to calculate the lag and lead values for the sales amount. This method shifts the values in a column by a specified number of periods, allowing us to create lag and lead columns.\n",
    "\n",
    "Note that the [`.shift()`][polars-shift] method simply shifts the values in the column by a number of rows up or down, so we can use it to create lag and lead columns. This function itself does not need to be ordered because it assumes that the DataFrame is already ordered. However, if you want it to be ordered, you can use the [`.sort()`][polars-sort] method before applying [`.shift()`][polars-shift]."
   ]
  },
  {
   "cell_type": "code",
   "execution_count": null,
   "id": "0e87ff0a",
   "metadata": {
    "incorrectly_encoded_metadata": "{.polars linenums=\"1\" title=\"Calculate lag and lead\"}"
   },
   "outputs": [
    {
     "name": "stdout",
     "output_type": "stream",
     "text": [
      "Daily Sales with Lag and Lead: 100\n",
      "shape: (5, 4)\n",
      "┌────────────┬─────────────┬────────────────────┬────────────────┐\n",
      "│ date       ┆ total_sales ┆ previous_day_sales ┆ next_day_sales │\n",
      "│ ---        ┆ ---         ┆ ---                ┆ ---            │\n",
      "│ date       ┆ f64         ┆ f64                ┆ f64            │\n",
      "╞════════════╪═════════════╪════════════════════╪════════════════╡\n",
      "│ 2023-01-01 ┆ 490.76      ┆ null               ┆ 453.94         │\n",
      "│ 2023-01-02 ┆ 453.94      ┆ 490.76             ┆ 994.51         │\n",
      "│ 2023-01-03 ┆ 994.51      ┆ 453.94             ┆ 184.17         │\n",
      "│ 2023-01-04 ┆ 184.17      ┆ 994.51             ┆ 27.89          │\n",
      "│ 2023-01-05 ┆ 27.89       ┆ 184.17             ┆ 498.95         │\n",
      "└────────────┴─────────────┴────────────────────┴────────────────┘\n",
      "|    | date                |   total_sales |   previous_day_sales |   next_day_sales |\n",
      "|---:|:--------------------|--------------:|---------------------:|-----------------:|\n",
      "|  0 | 2023-01-01 00:00:00 |        490.76 |               nan    |           453.94 |\n",
      "|  1 | 2023-01-02 00:00:00 |        453.94 |               490.76 |           994.51 |\n",
      "|  2 | 2023-01-03 00:00:00 |        994.51 |               453.94 |           184.17 |\n",
      "|  3 | 2023-01-04 00:00:00 |        184.17 |               994.51 |            27.89 |\n",
      "|  4 | 2023-01-05 00:00:00 |         27.89 |               184.17 |           498.95 |\n"
     ]
    }
   ],
   "source": [
    "daily_sales_pl: pl.DataFrame = daily_sales_pl.with_columns(\n",
    "    pl.col(\"total_sales\").shift(1).alias(\"previous_day_sales\"),\n",
    "    pl.col(\"total_sales\").shift(-1).alias(\"next_day_sales\"),\n",
    ")\n",
    "print(f\"Daily Sales with Lag and Lead: {len(daily_sales_pl)}\")\n",
    "print(daily_sales_pl.head(5))\n",
    "print(daily_sales_pl.head(5).to_pandas().to_markdown())"
   ]
  },
  {
   "cell_type": "markdown",
   "id": "9da59b3c",
   "metadata": {},
   "source": [
    "<div class=\"result\" markdown>\n",
    "\n",
    "```txt\n",
    "Daily Sales with Lag and Lead: 100\n",
    "```\n",
    "\n",
    "```txt\n",
    "shape: (5, 4)\n",
    "┌────────────┬─────────────┬────────────────────┬────────────────┐\n",
    "│ date       ┆ total_sales ┆ previous_day_sales ┆ next_day_sales │\n",
    "│ ---        ┆ ---         ┆ ---                ┆ ---            │\n",
    "│ date       ┆ f64         ┆ f64                ┆ f64            │\n",
    "╞════════════╪═════════════╪════════════════════╪════════════════╡\n",
    "│ 2023-01-01 ┆ 490.76      ┆ null               ┆ 453.94         │\n",
    "│ 2023-01-02 ┆ 453.94      ┆ 490.76             ┆ 994.51         │\n",
    "│ 2023-01-03 ┆ 994.51      ┆ 453.94             ┆ 184.17         │\n",
    "│ 2023-01-04 ┆ 184.17      ┆ 994.51             ┆ 27.89          │\n",
    "│ 2023-01-05 ┆ 27.89       ┆ 184.17             ┆ 498.95         │\n",
    "└────────────┴─────────────┴────────────────────┴────────────────┘\n",
    "```\n",
    "\n",
    "|      | date                | total_sales | previous_day_sales | next_day_sales |\n",
    "| ---: | :------------------ | ----------: | -----------------: | -------------: |\n",
    "|    0 | 2023-01-01 00:00:00 |      490.76 |                nan |         453.94 |\n",
    "|    1 | 2023-01-02 00:00:00 |      453.94 |             490.76 |         994.51 |\n",
    "|    2 | 2023-01-03 00:00:00 |      994.51 |             453.94 |         184.17 |\n",
    "|    3 | 2023-01-04 00:00:00 |      184.17 |             994.51 |          27.89 |\n",
    "|    4 | 2023-01-05 00:00:00 |       27.89 |             184.17 |         498.95 |\n",
    "\n",
    "</div>\n",
    "\n",
    "Now, we can calculate the day-over-day change in sales. This is done by subtracting the previous day's sales from the current day's sales. Then secondly, we can calculate the percentage change in sales using the formula:\n",
    "\n",
    "```txt\n",
    "((current_day_sales - previous_day_sales) / previous_day_sales) * 100\n",
    "```\n",
    "\n",
    "### Pandas\n",
    "\n",
    "In Pandas, we can calculate the day-over-day change in sales by subtracting the `previous_day_sales` column from the `total_sales` column. This is a fairly straight-forward calculation.\n",
    "\n",
    "We can also calculate the percentage change in sales using the [`.pct_change()`][pandas-pct_change] method, which calculates the percentage change between the current and previous values. Under the hood, this method calculates the fractional change using the formula:\n",
    "\n",
    "```txt\n",
    "((value_current_row - value_previous_row) / value_previous_row)\n",
    "```\n",
    "\n",
    "So therefore we need to multiple the result by `100`."
   ]
  },
  {
   "cell_type": "code",
   "execution_count": null,
   "id": "617450d5",
   "metadata": {
    "incorrectly_encoded_metadata": "{.pandas linenums=\"1\" title=\"Calculate day-over-day change\"}"
   },
   "outputs": [
    {
     "name": "stdout",
     "output_type": "stream",
     "text": [
      "Daily Sales with Day-over-Day Change: 100\n",
      "         date  total_sales  previous_day_sales  next_day_sales  \\\n",
      "0  2023-01-01       490.76                 NaN          453.94   \n",
      "1  2023-01-02       453.94              490.76          994.51   \n",
      "2  2023-01-03       994.51              453.94          184.17   \n",
      "3  2023-01-04       184.17              994.51           27.89   \n",
      "4  2023-01-05        27.89              184.17          498.95   \n",
      "\n",
      "   day_over_day_change  pct_change  \n",
      "0                  NaN         NaN  \n",
      "1               -36.82   -7.502649  \n",
      "2               540.57  119.084020  \n",
      "3              -810.34  -81.481333  \n",
      "4              -156.28  -84.856383  \n",
      "|    | date       |   total_sales |   previous_day_sales |   next_day_sales |   day_over_day_change |   pct_change |\n",
      "|---:|:-----------|--------------:|---------------------:|-----------------:|----------------------:|-------------:|\n",
      "|  0 | 2023-01-01 |        490.76 |               nan    |           453.94 |                nan    |    nan       |\n",
      "|  1 | 2023-01-02 |        453.94 |               490.76 |           994.51 |                -36.82 |     -7.50265 |\n",
      "|  2 | 2023-01-03 |        994.51 |               453.94 |           184.17 |                540.57 |    119.084   |\n",
      "|  3 | 2023-01-04 |        184.17 |               994.51 |            27.89 |               -810.34 |    -81.4813  |\n",
      "|  4 | 2023-01-05 |         27.89 |               184.17 |           498.95 |               -156.28 |    -84.8564  |\n"
     ]
    }
   ],
   "source": [
    "daily_sales_pd[\"day_over_day_change\"] = daily_sales_pd[\"total_sales\"] - daily_sales_pd[\"previous_day_sales\"]\n",
    "daily_sales_pd[\"pct_change\"] = daily_sales_pd[\"total_sales\"].pct_change() * 100\n",
    "print(f\"Daily Sales with Day-over-Day Change: {len(daily_sales_pd)}\")\n",
    "print(daily_sales_pd.head(5))\n",
    "print(daily_sales_pd.head(5).to_markdown())"
   ]
  },
  {
   "cell_type": "markdown",
   "id": "d7e4002f",
   "metadata": {},
   "source": [
    "<div class=\"result\" markdown>\n",
    "\n",
    "```txt\n",
    "Daily Sales with Day-over-Day Change: 100\n",
    "```\n",
    "\n",
    "```txt\n",
    "         date  total_sales  previous_day_sales  next_day_sales  day_over_day_change  day_over_day_change  7d_moving_avg\n",
    "0  2023-01-01       490.76                 NaN          453.94                  NaN                  NaN     490.760000\n",
    "1  2023-01-02       453.94              490.76          994.51               -36.82               -36.82     472.350000\n",
    "2  2023-01-03       994.51              453.94          184.17               540.57               540.57     646.403333\n",
    "3  2023-01-04       184.17              994.51           27.89              -810.34              -810.34     530.845000\n",
    "4  2023-01-05        27.89              184.17          498.95              -156.28              -156.28     430.254000\n",
    "```\n",
    "\n",
    "|      | date       | total_sales | previous_day_sales | next_day_sales | pct_change | day_over_day_change | 7d_moving_avg |\n",
    "| ---: | :--------- | ----------: | -----------------: | -------------: | ---------: | ------------------: | ------------: |\n",
    "|    0 | 2023-01-01 |      490.76 |                nan |         453.94 |        nan |                 nan |        490.76 |\n",
    "|    1 | 2023-01-02 |      453.94 |             490.76 |         994.51 |   -7.50265 |              -36.82 |        472.35 |\n",
    "|    2 | 2023-01-03 |      994.51 |             453.94 |         184.17 |    119.084 |              540.57 |       646.403 |\n",
    "|    3 | 2023-01-04 |      184.17 |             994.51 |          27.89 |   -81.4813 |             -810.34 |       530.845 |\n",
    "|    4 | 2023-01-05 |       27.89 |             184.17 |         498.95 |   -84.8564 |             -156.28 |       430.254 |\n",
    "\n",
    "</div>\n",
    "\n",
    "### SQL\n",
    "\n",
    "In SQL, we can calculate the day-over-day change in sales by subtracting the `previous_day_sales` column from the `total_sales` column. We can also calculate the percentage change in sales using the formula:\n",
    "\n",
    "```txt\n",
    "((current_day_sales - previous_day_sales) / previous_day_sales) * 100\n",
    "```"
   ]
  },
  {
   "cell_type": "code",
   "execution_count": null,
   "id": "c9a24260",
   "metadata": {
    "incorrectly_encoded_metadata": "{.sql linenums=\"1\" title=\"Day-over-day change already calculated\"}"
   },
   "outputs": [
    {
     "name": "stdout",
     "output_type": "stream",
     "text": [
      "Daily Sales with Day-over-Day Change: 100\n",
      "             sale_date  total_sales  previous_day_sales  next_day_sales  \\\n",
      "0  2023-01-01 00:00:00       490.76                 NaN          453.94   \n",
      "1  2023-01-02 00:00:00       453.94              490.76          994.51   \n",
      "2  2023-01-03 00:00:00       994.51              453.94          184.17   \n",
      "3  2023-01-04 00:00:00       184.17              994.51           27.89   \n",
      "4  2023-01-05 00:00:00        27.89              184.17          498.95   \n",
      "\n",
      "   day_over_day_change  pct_change  \n",
      "0                  NaN         NaN  \n",
      "1               -36.82   -7.502649  \n",
      "2               540.57  119.084020  \n",
      "3              -810.34  -81.481333  \n",
      "4              -156.28  -84.856383  \n",
      "|    | sale_date           |   total_sales |   previous_day_sales |   next_day_sales |   day_over_day_change |   pct_change |\n",
      "|---:|:--------------------|--------------:|---------------------:|-----------------:|----------------------:|-------------:|\n",
      "|  0 | 2023-01-01 00:00:00 |        490.76 |               nan    |           453.94 |                nan    |    nan       |\n",
      "|  1 | 2023-01-02 00:00:00 |        453.94 |               490.76 |           994.51 |                -36.82 |     -7.50265 |\n",
      "|  2 | 2023-01-03 00:00:00 |        994.51 |               453.94 |           184.17 |                540.57 |    119.084   |\n",
      "|  3 | 2023-01-04 00:00:00 |        184.17 |               994.51 |            27.89 |               -810.34 |    -81.4813  |\n",
      "|  4 | 2023-01-05 00:00:00 |         27.89 |               184.17 |           498.95 |               -156.28 |    -84.8564  |\n"
     ]
    }
   ],
   "source": [
    "dod_change_txt: str = \"\"\"\n",
    "    SELECT\n",
    "        sale_date,\n",
    "        total_sales,\n",
    "        previous_day_sales,\n",
    "        next_day_sales,\n",
    "        total_sales - previous_day_sales AS day_over_day_change,\n",
    "        ((total_sales - previous_day_sales) / previous_day_sales) * 100 AS pct_change\n",
    "    FROM (\n",
    "        SELECT\n",
    "            date AS sale_date,\n",
    "            SUM(sales_amount) AS total_sales,\n",
    "            LAG(SUM(sales_amount)) OVER (ORDER BY date) AS previous_day_sales,\n",
    "            LEAD(SUM(sales_amount)) OVER (ORDER BY date) AS next_day_sales\n",
    "        FROM sales\n",
    "        GROUP BY date\n",
    "    )\n",
    "    ORDER BY sale_date\n",
    "\"\"\"\n",
    "dod_change_df_sql: pd.DataFrame = pd.read_sql(dod_change_txt, conn)\n",
    "print(f\"Daily Sales with Day-over-Day Change: {len(dod_change_df_sql)}\")\n",
    "print(dod_change_df_sql.head(5))\n",
    "print(dod_change_df_sql.head(5).to_markdown())"
   ]
  },
  {
   "cell_type": "markdown",
   "id": "827b7dd6",
   "metadata": {},
   "source": [
    "<div class=\"result\" markdown>\n",
    "\n",
    "```txt\n",
    "Daily Sales with Day-over-Day Change: 100\n",
    "```\n",
    "\n",
    "```txt\n",
    "             sale_date  total_sales  previous_day_sales  next_day_sales  day_over_day_change  pct_change\n",
    "0  2023-01-01 00:00:00       490.76                 NaN          453.94                  NaN         NaN\n",
    "1  2023-01-02 00:00:00       453.94              490.76          994.51               -36.82   -7.502649\n",
    "2  2023-01-03 00:00:00       994.51              453.94          184.17               540.57  119.084020\n",
    "3  2023-01-04 00:00:00       184.17              994.51           27.89              -810.34  -81.481333\n",
    "4  2023-01-05 00:00:00        27.89              184.17          498.95              -156.28  -84.856383\n",
    "```\n",
    "\n",
    "|      | sale_date           | total_sales | previous_day_sales | next_day_sales | day_over_day_change | pct_change |\n",
    "| ---: | :------------------ | ----------: | -----------------: | -------------: | ------------------: | ---------: |\n",
    "|    0 | 2023-01-01 00:00:00 |      490.76 |                nan |         453.94 |                 nan |        nan |\n",
    "|    1 | 2023-01-02 00:00:00 |      453.94 |             490.76 |         994.51 |              -36.82 |   -7.50265 |\n",
    "|    2 | 2023-01-03 00:00:00 |      994.51 |             453.94 |         184.17 |              540.57 |    119.084 |\n",
    "|    3 | 2023-01-04 00:00:00 |      184.17 |             994.51 |          27.89 |             -810.34 |   -81.4813 |\n",
    "|    4 | 2023-01-05 00:00:00 |       27.89 |             184.17 |         498.95 |             -156.28 |   -84.8564 |\n",
    "\n",
    "</div>\n",
    "\n",
    "### PySpark\n",
    "\n",
    "In PySpark, we can calculate the day-over-day change in sales by subtracting the `previous_day_sales` column from the `total_sales` column. We can also calculate the percentage change in sales using the formula:\n",
    "\n",
    "```txt\n",
    "((current_day_sales - previous_day_sales) / previous_day_sales) * 100\n",
    "```\n",
    "\n",
    "Here, we have again shown these calculations using two different methods: using the PySpark API and using the Spark SQL API. Realistically, the results for  both of them can be achieved using either method."
   ]
  },
  {
   "cell_type": "code",
   "execution_count": null,
   "id": "14f742cc",
   "metadata": {
    "incorrectly_encoded_metadata": "{.pyspark linenums=\"1\" title=\"Calculate day-over-day change\"}"
   },
   "outputs": [
    {
     "name": "stdout",
     "output_type": "stream",
     "text": [
      "Daily Sales with Day-over-Day Change: 100\n"
     ]
    },
    {
     "name": "stderr",
     "output_type": "stream",
     "text": [
      "25/07/06 12:38:44 WARN WindowExec: No Partition Defined for Window operation! Moving all data to a single partition, this can cause serious performance degradation.\n",
      "25/07/06 12:38:44 WARN WindowExec: No Partition Defined for Window operation! Moving all data to a single partition, this can cause serious performance degradation.\n",
      "25/07/06 12:38:44 WARN WindowExec: No Partition Defined for Window operation! Moving all data to a single partition, this can cause serious performance degradation.\n",
      "25/07/06 12:38:44 WARN WindowExec: No Partition Defined for Window operation! Moving all data to a single partition, this can cause serious performance degradation.\n",
      "25/07/06 12:38:44 WARN WindowExec: No Partition Defined for Window operation! Moving all data to a single partition, this can cause serious performance degradation.\n",
      "25/07/06 12:38:44 WARN WindowExec: No Partition Defined for Window operation! Moving all data to a single partition, this can cause serious performance degradation.\n",
      "25/07/06 12:38:44 WARN WindowExec: No Partition Defined for Window operation! Moving all data to a single partition, this can cause serious performance degradation.\n",
      "25/07/06 12:38:44 WARN WindowExec: No Partition Defined for Window operation! Moving all data to a single partition, this can cause serious performance degradation.\n",
      "25/07/06 12:38:44 WARN WindowExec: No Partition Defined for Window operation! Moving all data to a single partition, this can cause serious performance degradation.\n"
     ]
    },
    {
     "name": "stdout",
     "output_type": "stream",
     "text": [
      "+----------+-----------+------------------+--------------+-------------------+-------------------+\n",
      "|      date|total_sales|previous_day_sales|next_day_sales|day_over_day_change|         pct_change|\n",
      "+----------+-----------+------------------+--------------+-------------------+-------------------+\n",
      "|2023-01-01|     490.76|              NULL|        453.94|               NULL|               NULL|\n",
      "|2023-01-02|     453.94|            490.76|        994.51| -36.81999999999999|-7.5026489526448765|\n",
      "|2023-01-03|     994.51|            453.94|        184.17|  540.5699999999999| 119.08401991452612|\n",
      "|2023-01-04|     184.17|            994.51|         27.89|            -810.34| -81.48133251551015|\n",
      "|2023-01-05|      27.89|            184.17|        498.95|-156.27999999999997| -84.85638268990606|\n",
      "+----------+-----------+------------------+--------------+-------------------+-------------------+\n",
      "only showing top 5 rows\n",
      "\n"
     ]
    },
    {
     "name": "stderr",
     "output_type": "stream",
     "text": [
      "25/07/06 12:38:45 WARN WindowExec: No Partition Defined for Window operation! Moving all data to a single partition, this can cause serious performance degradation.\n",
      "25/07/06 12:38:45 WARN WindowExec: No Partition Defined for Window operation! Moving all data to a single partition, this can cause serious performance degradation.\n",
      "25/07/06 12:38:45 WARN WindowExec: No Partition Defined for Window operation! Moving all data to a single partition, this can cause serious performance degradation.\n",
      "25/07/06 12:38:45 WARN WindowExec: No Partition Defined for Window operation! Moving all data to a single partition, this can cause serious performance degradation.\n",
      "25/07/06 12:38:45 WARN WindowExec: No Partition Defined for Window operation! Moving all data to a single partition, this can cause serious performance degradation.\n",
      "25/07/06 12:38:45 WARN WindowExec: No Partition Defined for Window operation! Moving all data to a single partition, this can cause serious performance degradation.\n",
      "25/07/06 12:38:45 WARN WindowExec: No Partition Defined for Window operation! Moving all data to a single partition, this can cause serious performance degradation.\n"
     ]
    },
    {
     "name": "stdout",
     "output_type": "stream",
     "text": [
      "|    | date       |   total_sales |   previous_day_sales |   next_day_sales |   day_over_day_change |   pct_change |\n",
      "|---:|:-----------|--------------:|---------------------:|-----------------:|----------------------:|-------------:|\n",
      "|  0 | 2023-01-01 |        490.76 |               nan    |           453.94 |                nan    |    nan       |\n",
      "|  1 | 2023-01-02 |        453.94 |               490.76 |           994.51 |                -36.82 |     -7.50265 |\n",
      "|  2 | 2023-01-03 |        994.51 |               453.94 |           184.17 |                540.57 |    119.084   |\n",
      "|  3 | 2023-01-04 |        184.17 |               994.51 |            27.89 |               -810.34 |    -81.4813  |\n",
      "|  4 | 2023-01-05 |         27.89 |               184.17 |           498.95 |               -156.28 |    -84.8564  |\n"
     ]
    },
    {
     "name": "stderr",
     "output_type": "stream",
     "text": [
      "25/07/06 12:38:45 WARN WindowExec: No Partition Defined for Window operation! Moving all data to a single partition, this can cause serious performance degradation.\n",
      "25/07/06 12:38:45 WARN WindowExec: No Partition Defined for Window operation! Moving all data to a single partition, this can cause serious performance degradation.\n"
     ]
    }
   ],
   "source": [
    "daily_sales_ps: psDataFrame = daily_sales_ps.withColumns(\n",
    "    {\n",
    "        \"day_over_day_change\": F.col(\"total_sales\") - F.col(\"previous_day_sales\"),\n",
    "        \"pct_change\": F.expr(\"((total_sales - previous_day_sales) / previous_day_sales) * 100\").alias(\"pct_change\"),\n",
    "    }\n",
    ")\n",
    "print(f\"Daily Sales with Day-over-Day Change: {daily_sales_ps.count()}\")\n",
    "daily_sales_ps.show(5)\n",
    "print(daily_sales_ps.limit(5).toPandas().to_markdown())"
   ]
  },
  {
   "cell_type": "markdown",
   "id": "21da4cb3",
   "metadata": {},
   "source": [
    "<div class=\"result\" markdown>\n",
    "\n",
    "```txt\n",
    "Daily Sales with Day-over-Day Change: 100\n",
    "```\n",
    "\n",
    "```txt\n",
    "+----------+-----------+------------------+--------------+-------------------+------------------+\n",
    "|      date|total_sales|previous_day_sales|next_day_sales|day_over_day_change|        pct_change|\n",
    "+----------+-----------+------------------+--------------+-------------------+------------------+\n",
    "|2023-01-01|     490.76|              NULL|        453.94|               NULL|              NULL|\n",
    "|2023-01-02|     453.94|            490.76|        994.51| -36.81999999999999|-7.502648952644875|\n",
    "|2023-01-03|     994.51|            453.94|        184.17|  540.5699999999999|119.08401991452612|\n",
    "|2023-01-04|     184.17|            994.51|         27.89|            -810.34|-81.48133251551015|\n",
    "|2023-01-05|      27.89|            184.17|        498.95|-156.27999999999997|-84.85638268990606|\n",
    "+----------+-----------+------------------+--------------+-------------------+------------------+\n",
    "only showing top 5 rows\n",
    "```\n",
    "\n",
    "|      | date       | total_sales | previous_day_sales | next_day_sales | day_over_day_change | pct_change |\n",
    "| ---: | :--------- | ----------: | -----------------: | -------------: | ------------------: | ---------: |\n",
    "|    0 | 2023-01-01 |      490.76 |                nan |         453.94 |                 nan |        nan |\n",
    "|    1 | 2023-01-02 |      453.94 |             490.76 |         994.51 |              -36.82 |   -7.50265 |\n",
    "|    2 | 2023-01-03 |      994.51 |             453.94 |         184.17 |              540.57 |    119.084 |\n",
    "|    3 | 2023-01-04 |      184.17 |             994.51 |          27.89 |             -810.34 |   -81.4813 |\n",
    "|    4 | 2023-01-05 |       27.89 |             184.17 |         498.95 |             -156.28 |   -84.8564 |\n",
    "\n",
    "</div>\n",
    "\n",
    "### Polars\n",
    "\n",
    "In Polars, we can calculate the day-over-day change in sales by subtracting the `previous_day_sales` column from the `total_sales` column. We can also calculate the percentage change in sales using the formula:\n",
    "\n",
    "```txt\n",
    "((current_day_sales - previous_day_sales) / previous_day_sales) * 100\n",
    "```"
   ]
  },
  {
   "cell_type": "code",
   "execution_count": null,
   "id": "46e29c9f",
   "metadata": {
    "incorrectly_encoded_metadata": "{.polars linenums=\"1\" title=\"Calculate day-over-day change\"}"
   },
   "outputs": [
    {
     "name": "stdout",
     "output_type": "stream",
     "text": [
      "Daily Sales with Day-over-Day Change: 100\n",
      "shape: (5, 6)\n",
      "┌────────────┬─────────────┬────────────────────┬────────────────┬────────────────────┬────────────┐\n",
      "│ date       ┆ total_sales ┆ previous_day_sales ┆ next_day_sales ┆ day_over_day_chang ┆ pct_change │\n",
      "│ ---        ┆ ---         ┆ ---                ┆ ---            ┆ e                  ┆ ---        │\n",
      "│ date       ┆ f64         ┆ f64                ┆ f64            ┆ ---                ┆ f64        │\n",
      "│            ┆             ┆                    ┆                ┆ f64                ┆            │\n",
      "╞════════════╪═════════════╪════════════════════╪════════════════╪════════════════════╪════════════╡\n",
      "│ 2023-01-01 ┆ 490.76      ┆ null               ┆ 453.94         ┆ null               ┆ null       │\n",
      "│ 2023-01-02 ┆ 453.94      ┆ 490.76             ┆ 994.51         ┆ -36.82             ┆ -7.502649  │\n",
      "│ 2023-01-03 ┆ 994.51      ┆ 453.94             ┆ 184.17         ┆ 540.57             ┆ 119.08402  │\n",
      "│ 2023-01-04 ┆ 184.17      ┆ 994.51             ┆ 27.89          ┆ -810.34            ┆ -81.481333 │\n",
      "│ 2023-01-05 ┆ 27.89       ┆ 184.17             ┆ 498.95         ┆ -156.28            ┆ -84.856383 │\n",
      "└────────────┴─────────────┴────────────────────┴────────────────┴────────────────────┴────────────┘\n",
      "|    | date                |   total_sales |   previous_day_sales |   next_day_sales |   day_over_day_change |   pct_change |\n",
      "|---:|:--------------------|--------------:|---------------------:|-----------------:|----------------------:|-------------:|\n",
      "|  0 | 2023-01-01 00:00:00 |        490.76 |               nan    |           453.94 |                nan    |    nan       |\n",
      "|  1 | 2023-01-02 00:00:00 |        453.94 |               490.76 |           994.51 |                -36.82 |     -7.50265 |\n",
      "|  2 | 2023-01-03 00:00:00 |        994.51 |               453.94 |           184.17 |                540.57 |    119.084   |\n",
      "|  3 | 2023-01-04 00:00:00 |        184.17 |               994.51 |            27.89 |               -810.34 |    -81.4813  |\n",
      "|  4 | 2023-01-05 00:00:00 |         27.89 |               184.17 |           498.95 |               -156.28 |    -84.8564  |\n"
     ]
    }
   ],
   "source": [
    "daily_sales_pl: pl.DataFrame = daily_sales_pl.with_columns(\n",
    "    (pl.col(\"total_sales\") - pl.col(\"previous_day_sales\")).alias(\"day_over_day_change\"),\n",
    "    (pl.col(\"total_sales\") / pl.col(\"previous_day_sales\") - 1).alias(\"pct_change\") * 100,\n",
    ")\n",
    "print(f\"Daily Sales with Day-over-Day Change: {len(daily_sales_pl)}\")\n",
    "print(daily_sales_pl.head(5))\n",
    "print(daily_sales_pl.head(5).to_pandas().to_markdown())"
   ]
  },
  {
   "cell_type": "markdown",
   "id": "d67539d3",
   "metadata": {},
   "source": [
    "<div class=\"result\" markdown>\n",
    "\n",
    "```txt\n",
    "Daily Sales with Day-over-Day Change: 100\n",
    "```\n",
    "\n",
    "```txt\n",
    "shape: (5, 6)\n",
    "┌────────────┬─────────────┬────────────────────┬────────────────┬─────────────────────┬────────────┐\n",
    "│ date       ┆ total_sales ┆ previous_day_sales ┆ next_day_sales ┆ day_over_day_change ┆ pct_change │\n",
    "│ ---        ┆ ---         ┆ ---                ┆ ---            ┆ ---                 ┆ ---        │\n",
    "│ date       ┆ f64         ┆ f64                ┆ f64            ┆ f64                 ┆ f64        │\n",
    "╞════════════╪═════════════╪════════════════════╪════════════════╪═════════════════════╪════════════╡\n",
    "│ 2023-01-01 ┆ 490.76      ┆ null               ┆ 453.94         ┆ null                ┆ null       │\n",
    "│ 2023-01-02 ┆ 453.94      ┆ 490.76             ┆ 994.51         ┆ -36.82              ┆ -7.502649  │\n",
    "│ 2023-01-03 ┆ 994.51      ┆ 453.94             ┆ 184.17         ┆ 540.57              ┆ 119.08402  │\n",
    "│ 2023-01-04 ┆ 184.17      ┆ 994.51             ┆ 27.89          ┆ -810.34             ┆ -81.481333 │\n",
    "│ 2023-01-05 ┆ 27.89       ┆ 184.17             ┆ 498.95         ┆ -156.28             ┆ -84.856383 │\n",
    "└────────────┴─────────────┴────────────────────┴────────────────┴─────────────────────┴────────────┘\n",
    "```\n",
    "\n",
    "|      | date                | total_sales | previous_day_sales | next_day_sales | day_over_day_change | pct_change |\n",
    "| ---: | :------------------ | ----------: | -----------------: | -------------: | ------------------: | ---------: |\n",
    "|    0 | 2023-01-01 00:00:00 |      490.76 |                nan |         453.94 |                 nan |        nan |\n",
    "|    1 | 2023-01-02 00:00:00 |      453.94 |             490.76 |         994.51 |              -36.82 |   -7.50265 |\n",
    "|    2 | 2023-01-03 00:00:00 |      994.51 |             453.94 |         184.17 |              540.57 |    119.084 |\n",
    "|    3 | 2023-01-04 00:00:00 |      184.17 |             994.51 |          27.89 |             -810.34 |   -81.4813 |\n",
    "|    4 | 2023-01-05 00:00:00 |       27.89 |             184.17 |         498.95 |             -156.28 |   -84.8564 |\n",
    "\n",
    "</div>\n",
    "\n",
    "Next, we will calculate the rolling average of sales over a 7-day window. Rolling averages (aka moving averages) are useful for smoothing out short-term fluctuations and highlighting longer-term trends in the data. This is particularly useful in time series analysis, where we want to understand the underlying trend in the data without being overly influenced by short-term variations. It is also a very common technique used in financial analysis to analyze stock prices, sales data, and other time series data.\n",
    "\n",
    "### Pandas\n",
    "\n",
    "In Pandas, we can calculate the 7-day moving average of sales using the [`.rolling()`][pandas-rolling] method. This method allows us to specify a window size (in this case, `window=7` which is 7 days) and calculate the mean over that window. The `min_periods` parameter ensures that we get a value even if there are fewer than 7 days of data available at the start of the series. Finally, the [`.mean()`][pandas-rolling-mean] method calculates the average over the specified window."
   ]
  },
  {
   "cell_type": "code",
   "execution_count": null,
   "id": "c5795314",
   "metadata": {
    "incorrectly_encoded_metadata": "{.pandas linenums=\"1\" title=\"Calculate 7-day moving average\"}"
   },
   "outputs": [
    {
     "name": "stdout",
     "output_type": "stream",
     "text": [
      "Daily Sales with 7-Day Moving Average: 100\n",
      "         date  total_sales  previous_day_sales  next_day_sales  \\\n",
      "0  2023-01-01       490.76                 NaN          453.94   \n",
      "1  2023-01-02       453.94              490.76          994.51   \n",
      "2  2023-01-03       994.51              453.94          184.17   \n",
      "3  2023-01-04       184.17              994.51           27.89   \n",
      "4  2023-01-05        27.89              184.17          498.95   \n",
      "\n",
      "   day_over_day_change  pct_change  7d_moving_avg  \n",
      "0                  NaN         NaN     490.760000  \n",
      "1               -36.82   -7.502649     472.350000  \n",
      "2               540.57  119.084020     646.403333  \n",
      "3              -810.34  -81.481333     530.845000  \n",
      "4              -156.28  -84.856383     430.254000  \n",
      "|    | date       |   total_sales |   previous_day_sales |   next_day_sales |   day_over_day_change |   pct_change |   7d_moving_avg |\n",
      "|---:|:-----------|--------------:|---------------------:|-----------------:|----------------------:|-------------:|----------------:|\n",
      "|  0 | 2023-01-01 |        490.76 |               nan    |           453.94 |                nan    |    nan       |         490.76  |\n",
      "|  1 | 2023-01-02 |        453.94 |               490.76 |           994.51 |                -36.82 |     -7.50265 |         472.35  |\n",
      "|  2 | 2023-01-03 |        994.51 |               453.94 |           184.17 |                540.57 |    119.084   |         646.403 |\n",
      "|  3 | 2023-01-04 |        184.17 |               994.51 |            27.89 |               -810.34 |    -81.4813  |         530.845 |\n",
      "|  4 | 2023-01-05 |         27.89 |               184.17 |           498.95 |               -156.28 |    -84.8564  |         430.254 |\n"
     ]
    }
   ],
   "source": [
    "daily_sales_pd[\"7d_moving_avg\"] = daily_sales_pd[\"total_sales\"].rolling(window=7, min_periods=1).mean()\n",
    "print(f\"Daily Sales with 7-Day Moving Average: {len(daily_sales_pd)}\")\n",
    "print(daily_sales_pd.head(5))\n",
    "print(daily_sales_pd.head(5).to_markdown())"
   ]
  },
  {
   "cell_type": "markdown",
   "id": "2eb1814c",
   "metadata": {},
   "source": [
    "<div class=\"result\" markdown>\n",
    "\n",
    "```txt\n",
    "Daily Sales with 7-Day Moving Average: 100\n",
    "```\n",
    "\n",
    "```txt\n",
    "         date  total_sales  previous_day_sales  next_day_sales  day_over_day_change  pct_change  7d_moving_avg\n",
    "0  2023-01-01       490.76                 NaN          453.94                  NaN         NaN     490.760000\n",
    "1  2023-01-02       453.94              490.76          994.51               -36.82   -7.502649     472.350000\n",
    "2  2023-01-03       994.51              453.94          184.17               540.57  119.084020     646.403333\n",
    "3  2023-01-04       184.17              994.51           27.89              -810.34  -81.481333     530.845000\n",
    "4  2023-01-05        27.89              184.17          498.95              -156.28  -84.856383     430.254000\n",
    "```\n",
    "\n",
    "|      | date       | total_sales | previous_day_sales | next_day_sales | day_over_day_change | pct_change | 7d_moving_avg |\n",
    "| ---: | :--------- | ----------: | -----------------: | -------------: | ------------------: | ---------: | ------------: |\n",
    "|    0 | 2023-01-01 |      490.76 |                nan |         453.94 |                 nan |        nan |        490.76 |\n",
    "|    1 | 2023-01-02 |      453.94 |             490.76 |         994.51 |              -36.82 |   -7.50265 |        472.35 |\n",
    "|    2 | 2023-01-03 |      994.51 |             453.94 |         184.17 |              540.57 |    119.084 |       646.403 |\n",
    "|    3 | 2023-01-04 |      184.17 |             994.51 |          27.89 |             -810.34 |   -81.4813 |       530.845 |\n",
    "|    4 | 2023-01-05 |       27.89 |             184.17 |         498.95 |             -156.28 |   -84.8564 |       430.254 |\n",
    "\n",
    "</div>\n",
    "\n",
    "### SQL\n",
    "\n",
    "In SQL, we can calculate the 7-day moving average of sales using the `AVG()` window function with the `OVER` clause. It is important to include this `OVER` clause, because it is what the SQL engine uses to determine that it should be a Window function, rather than a regular aggregate function (which is specified using the `GROUP BY` clause).\n",
    "\n",
    "Here in our example, there are three different parts to the Window function:\n",
    "\n",
    "1. **The `ORDER BY` clause**: This specifies the order of the rows in the window. In this case, we are ordering by the `sale_date` column.\n",
    "2. **The `ROWS BETWEEN` clause**: This specifies the range of rows to include in the window. In this case, we are including the number of rows from 6 preceding rows to the current row. This means that for each row, the window will include the current row and the 6 rows before it, giving us a total of 7 rows in the window. It is important that you specify the `ORDER BY` clause before the `ROWS BETWEEN` clause to ensure that the correct rows are included in the window.\n",
    "3. **The `AVG()` function**: This calculates the average of the `total_sales` column over the specified window.\n",
    "\n",
    "Another perculiarity to note here is around the use of the sub-query. The sub-query is used to first calculate the daily sales, including the previous and next day sales, and the day-over-day change. This is because we need to calculate the moving average over the daily sales, rather than the individual sales transactions. The sub-query allows us to aggregate the sales data by date before calculating the moving average. The only change that we are including in the outer-query is the addition of the moving average calculation."
   ]
  },
  {
   "cell_type": "code",
   "execution_count": null,
   "id": "39e54cbf",
   "metadata": {
    "incorrectly_encoded_metadata": "{.sql linenums=\"1\" title=\"Calculate 7-day moving average\"}"
   },
   "outputs": [
    {
     "name": "stdout",
     "output_type": "stream",
     "text": [
      "Daily Sales with 7-Day Moving Average: 100\n",
      "             sale_date  total_sales  previous_day_sales  next_day_sales  \\\n",
      "0  2023-01-01 00:00:00       490.76                 NaN          453.94   \n",
      "1  2023-01-02 00:00:00       453.94              490.76          994.51   \n",
      "2  2023-01-03 00:00:00       994.51              453.94          184.17   \n",
      "3  2023-01-04 00:00:00       184.17              994.51           27.89   \n",
      "4  2023-01-05 00:00:00        27.89              184.17          498.95   \n",
      "\n",
      "   day_over_day_change  pct_change  7d_moving_avg  \n",
      "0                  NaN         NaN     490.760000  \n",
      "1               -36.82   -7.502649     472.350000  \n",
      "2               540.57  119.084020     646.403333  \n",
      "3              -810.34  -81.481333     530.845000  \n",
      "4              -156.28  -84.856383     430.254000  \n",
      "|    | sale_date           |   total_sales |   previous_day_sales |   next_day_sales |   day_over_day_change |   pct_change |   7d_moving_avg |\n",
      "|---:|:--------------------|--------------:|---------------------:|-----------------:|----------------------:|-------------:|----------------:|\n",
      "|  0 | 2023-01-01 00:00:00 |        490.76 |               nan    |           453.94 |                nan    |    nan       |         490.76  |\n",
      "|  1 | 2023-01-02 00:00:00 |        453.94 |               490.76 |           994.51 |                -36.82 |     -7.50265 |         472.35  |\n",
      "|  2 | 2023-01-03 00:00:00 |        994.51 |               453.94 |           184.17 |                540.57 |    119.084   |         646.403 |\n",
      "|  3 | 2023-01-04 00:00:00 |        184.17 |               994.51 |            27.89 |               -810.34 |    -81.4813  |         530.845 |\n",
      "|  4 | 2023-01-05 00:00:00 |         27.89 |               184.17 |           498.95 |               -156.28 |    -84.8564  |         430.254 |\n"
     ]
    }
   ],
   "source": [
    "rolling_avg_txt: str = \"\"\"\n",
    "    SELECT\n",
    "        sale_date,\n",
    "        total_sales,\n",
    "        previous_day_sales,\n",
    "        next_day_sales,\n",
    "        day_over_day_change,\n",
    "        pct_change,\n",
    "        AVG(total_sales) OVER (ORDER BY sale_date ROWS BETWEEN 6 PRECEDING AND CURRENT ROW) AS \"7d_moving_avg\"\n",
    "    FROM (\n",
    "        SELECT\n",
    "            date AS sale_date,\n",
    "            SUM(sales_amount) AS total_sales,\n",
    "            LAG(SUM(sales_amount)) OVER (ORDER BY date) AS previous_day_sales,\n",
    "            LEAD(SUM(sales_amount)) OVER (ORDER BY date) AS next_day_sales,\n",
    "            SUM(sales_amount) - LAG(SUM(sales_amount)) OVER (ORDER BY date) AS day_over_day_change,\n",
    "            (SUM(sales_amount) / NULLIF(LAG(SUM(sales_amount)) OVER (ORDER BY date), 0) - 1) * 100 AS pct_change\n",
    "        FROM sales\n",
    "        GROUP BY date\n",
    "    ) AS daily_sales\n",
    "    ORDER BY sale_date\n",
    "\"\"\"\n",
    "window_df_sql: pd.DataFrame = pd.read_sql(rolling_avg_txt, conn)\n",
    "print(f\"Daily Sales with 7-Day Moving Average: {len(window_df_sql)}\")\n",
    "print(pd.read_sql(rolling_avg_txt + \" LIMIT 5\", conn))\n",
    "print(pd.read_sql(rolling_avg_txt + \" LIMIT 5\", conn).to_markdown())"
   ]
  },
  {
   "cell_type": "markdown",
   "id": "0131ae17",
   "metadata": {},
   "source": [
    "<div class=\"result\" markdown>\n",
    "\n",
    "```txt\n",
    "Daily Sales with 7-Day Moving Average: 100\n",
    "```\n",
    "\n",
    "```txt\n",
    "             sale_date  total_sales  previous_day_sales  next_day_sales  day_over_day_change  pct_change  7d_moving_avg\n",
    "0  2023-01-01 00:00:00       490.76                 NaN          453.94                  NaN         NaN     490.760000\n",
    "1  2023-01-02 00:00:00       453.94              490.76          994.51               -36.82   -7.502649     472.350000\n",
    "2  2023-01-03 00:00:00       994.51              453.94          184.17               540.57  119.084020     646.403333\n",
    "3  2023-01-04 00:00:00       184.17              994.51           27.89              -810.34  -81.481333     530.845000\n",
    "4  2023-01-05 00:00:00        27.89              184.17          498.95              -156.28  -84.856383     430.254000\n",
    "```\n",
    "\n",
    "|      | sale_date           | total_sales | previous_day_sales | next_day_sales | day_over_day_change | pct_change | 7d_moving_avg |\n",
    "| ---: | :------------------ | ----------: | -----------------: | -------------: | ------------------: | ---------: | ------------: |\n",
    "|    0 | 2023-01-01 00:00:00 |      490.76 |                nan |         453.94 |                 nan |        nan |        490.76 |\n",
    "|    1 | 2023-01-02 00:00:00 |      453.94 |             490.76 |         994.51 |              -36.82 |   -7.50265 |        472.35 |\n",
    "|    2 | 2023-01-03 00:00:00 |      994.51 |             453.94 |         184.17 |              540.57 |    119.084 |       646.403 |\n",
    "|    3 | 2023-01-04 00:00:00 |      184.17 |             994.51 |          27.89 |             -810.34 |   -81.4813 |       530.845 |\n",
    "|    4 | 2023-01-05 00:00:00 |       27.89 |             184.17 |         498.95 |             -156.28 |   -84.8564 |       430.254 |\n",
    "\n",
    "</div>\n",
    "\n",
    "### PySpark\n",
    "\n",
    "In PySpark, we can calculate the 7-day moving average of sales using the [`F.avg()`][pyspark-avg] function in combination with the [`Window()`][pyspark-window] class. The [`Window()`][pyspark-window] class allows us to define a window specification for the calculation. We can use the [`.orderBy()`][pyspark-window-orderby] method to specify the order of the rows in the window, and the [`.rowsBetween()`][pyspark-window-rowsbetween] method to specify the range of rows to include in the window. The [`F.avg()`][pyspark-avg] function is then able to calculate the average of the `total_sales` column over the specified window.\n",
    "\n",
    "As with many aspects of PySpark, there are multiple ways to achieve the same result. In this case, we can use either the [`F.avg()`][pyspark-avg] function with the [`Window()`][pyspark-window] class, or we can use the SQL expression syntax with the [`F.expr()`][pyspark-expr] function. Both methods will yield the same result."
   ]
  },
  {
   "cell_type": "code",
   "execution_count": null,
   "id": "a144a7b9",
   "metadata": {
    "incorrectly_encoded_metadata": "{.pyspark linenums=\"1\" title=\"Calculate 7-day moving average\"}"
   },
   "outputs": [
    {
     "name": "stdout",
     "output_type": "stream",
     "text": [
      "Daily Sales with 7-Day Moving Average: 100\n"
     ]
    },
    {
     "name": "stderr",
     "output_type": "stream",
     "text": [
      "25/07/06 12:38:46 WARN WindowExec: No Partition Defined for Window operation! Moving all data to a single partition, this can cause serious performance degradation.\n",
      "25/07/06 12:38:46 WARN WindowExec: No Partition Defined for Window operation! Moving all data to a single partition, this can cause serious performance degradation.\n",
      "25/07/06 12:38:46 WARN WindowExec: No Partition Defined for Window operation! Moving all data to a single partition, this can cause serious performance degradation.\n",
      "25/07/06 12:38:46 WARN WindowExec: No Partition Defined for Window operation! Moving all data to a single partition, this can cause serious performance degradation.\n",
      "25/07/06 12:38:46 WARN WindowExec: No Partition Defined for Window operation! Moving all data to a single partition, this can cause serious performance degradation.\n",
      "25/07/06 12:38:47 WARN WindowExec: No Partition Defined for Window operation! Moving all data to a single partition, this can cause serious performance degradation.\n",
      "25/07/06 12:38:47 WARN WindowExec: No Partition Defined for Window operation! Moving all data to a single partition, this can cause serious performance degradation.\n",
      "25/07/06 12:38:47 WARN WindowExec: No Partition Defined for Window operation! Moving all data to a single partition, this can cause serious performance degradation.\n",
      "25/07/06 12:38:47 WARN WindowExec: No Partition Defined for Window operation! Moving all data to a single partition, this can cause serious performance degradation.\n"
     ]
    },
    {
     "name": "stdout",
     "output_type": "stream",
     "text": [
      "+----------+-----------+------------------+--------------+-------------------+-------------------+-----------------+-----------------+\n",
      "|      date|total_sales|previous_day_sales|next_day_sales|day_over_day_change|         pct_change|    7d_moving_avg|   7d_rolling_avg|\n",
      "+----------+-----------+------------------+--------------+-------------------+-------------------+-----------------+-----------------+\n",
      "|2023-01-01|     490.76|              NULL|        453.94|               NULL|               NULL|           490.76|           490.76|\n",
      "|2023-01-02|     453.94|            490.76|        994.51| -36.81999999999999|-7.5026489526448765|           472.35|           472.35|\n",
      "|2023-01-03|     994.51|            453.94|        184.17|  540.5699999999999| 119.08401991452612|646.4033333333333|646.4033333333333|\n",
      "|2023-01-04|     184.17|            994.51|         27.89|            -810.34| -81.48133251551015|          530.845|          530.845|\n",
      "|2023-01-05|      27.89|            184.17|        498.95|-156.27999999999997| -84.85638268990606|          430.254|          430.254|\n",
      "+----------+-----------+------------------+--------------+-------------------+-------------------+-----------------+-----------------+\n",
      "only showing top 5 rows\n",
      "\n"
     ]
    },
    {
     "name": "stderr",
     "output_type": "stream",
     "text": [
      "25/07/06 12:38:47 WARN WindowExec: No Partition Defined for Window operation! Moving all data to a single partition, this can cause serious performance degradation.\n",
      "25/07/06 12:38:47 WARN WindowExec: No Partition Defined for Window operation! Moving all data to a single partition, this can cause serious performance degradation.\n",
      "25/07/06 12:38:47 WARN WindowExec: No Partition Defined for Window operation! Moving all data to a single partition, this can cause serious performance degradation.\n",
      "25/07/06 12:38:47 WARN WindowExec: No Partition Defined for Window operation! Moving all data to a single partition, this can cause serious performance degradation.\n",
      "25/07/06 12:38:47 WARN WindowExec: No Partition Defined for Window operation! Moving all data to a single partition, this can cause serious performance degradation.\n",
      "25/07/06 12:38:48 WARN WindowExec: No Partition Defined for Window operation! Moving all data to a single partition, this can cause serious performance degradation.\n",
      "25/07/06 12:38:48 WARN WindowExec: No Partition Defined for Window operation! Moving all data to a single partition, this can cause serious performance degradation.\n",
      "25/07/06 12:38:48 WARN WindowExec: No Partition Defined for Window operation! Moving all data to a single partition, this can cause serious performance degradation.\n",
      "25/07/06 12:38:48 WARN WindowExec: No Partition Defined for Window operation! Moving all data to a single partition, this can cause serious performance degradation.\n"
     ]
    },
    {
     "name": "stdout",
     "output_type": "stream",
     "text": [
      "|    | date       |   total_sales |   previous_day_sales |   next_day_sales |   day_over_day_change |   pct_change |   7d_moving_avg |   7d_rolling_avg |\n",
      "|---:|:-----------|--------------:|---------------------:|-----------------:|----------------------:|-------------:|----------------:|-----------------:|\n",
      "|  0 | 2023-01-01 |        490.76 |               nan    |           453.94 |                nan    |    nan       |         490.76  |          490.76  |\n",
      "|  1 | 2023-01-02 |        453.94 |               490.76 |           994.51 |                -36.82 |     -7.50265 |         472.35  |          472.35  |\n",
      "|  2 | 2023-01-03 |        994.51 |               453.94 |           184.17 |                540.57 |    119.084   |         646.403 |          646.403 |\n",
      "|  3 | 2023-01-04 |        184.17 |               994.51 |            27.89 |               -810.34 |    -81.4813  |         530.845 |          530.845 |\n",
      "|  4 | 2023-01-05 |         27.89 |               184.17 |           498.95 |               -156.28 |    -84.8564  |         430.254 |          430.254 |\n"
     ]
    }
   ],
   "source": [
    "daily_sales_ps: psDataFrame = daily_sales_ps.withColumns(\n",
    "    {\n",
    "        \"7d_moving_avg\": F.avg(\"total_sales\").over(Window.orderBy(\"date\").rowsBetween(-6, 0)),\n",
    "        \"7d_rolling_avg\": F.expr(\"AVG(total_sales) OVER (ORDER BY date ROWS BETWEEN 6 PRECEDING AND CURRENT ROW)\"),\n",
    "    }\n",
    ")\n",
    "print(f\"Daily Sales with 7-Day Moving Average: {daily_sales_ps.count()}\")\n",
    "daily_sales_ps.show(5)\n",
    "print(daily_sales_ps.limit(5).toPandas().to_markdown())"
   ]
  },
  {
   "cell_type": "markdown",
   "id": "1693f2a6",
   "metadata": {},
   "source": [
    "<div class=\"result\" markdown>\n",
    "\n",
    "```txt\n",
    "Daily Sales with 7-Day Moving Average: 100\n",
    "```\n",
    "\n",
    "```txt\n",
    "+----------+-----------+------------------+--------------+-------------------+------------------+-----------------+-----------------+\n",
    "|      date|total_sales|previous_day_sales|next_day_sales|day_over_day_change|        pct_change|    7d_moving_avg|   7d_rolling_avg|\n",
    "+----------+-----------+------------------+--------------+-------------------+------------------+-----------------+-----------------+\n",
    "|2023-01-01|     490.76|              NULL|        453.94|               NULL|              NULL|           490.76|           490.76|\n",
    "|2023-01-02|     453.94|            490.76|        994.51| -36.81999999999999|-7.502648952644875|           472.35|           472.35|\n",
    "|2023-01-03|     994.51|            453.94|        184.17|  540.5699999999999|119.08401991452612|646.4033333333333|646.4033333333333|\n",
    "|2023-01-04|     184.17|            994.51|         27.89|            -810.34|-81.48133251551015|          530.845|          530.845|\n",
    "|2023-01-05|      27.89|            184.17|        498.95|-156.27999999999997|-84.85638268990606|          430.254|          430.254|\n",
    "+----------+-----------+------------------+--------------+-------------------+------------------+-----------------+-----------------+\n",
    "only showing top 5 rows\n",
    "```\n",
    "\n",
    "|      | date       | total_sales | previous_day_sales | next_day_sales | day_over_day_change | pct_change | 7d_moving_avg | 7d_rolling_avg |\n",
    "| ---: | :--------- | ----------: | -----------------: | -------------: | ------------------: | ---------: | ------------: | -------------: |\n",
    "|    0 | 2023-01-01 |      490.76 |                nan |         453.94 |                 nan |        nan |        490.76 |         490.76 |\n",
    "|    1 | 2023-01-02 |      453.94 |             490.76 |         994.51 |              -36.82 |   -7.50265 |        472.35 |         472.35 |\n",
    "|    2 | 2023-01-03 |      994.51 |             453.94 |         184.17 |              540.57 |    119.084 |       646.403 |        646.403 |\n",
    "|    3 | 2023-01-04 |      184.17 |             994.51 |          27.89 |             -810.34 |   -81.4813 |       530.845 |        530.845 |\n",
    "|    4 | 2023-01-05 |       27.89 |             184.17 |         498.95 |             -156.28 |   -84.8564 |       430.254 |        430.254 |\n",
    "\n",
    "</div>\n",
    "\n",
    "### Polars\n",
    "\n",
    "In Polars, we can calculate the 7-day moving average of sales using the [`.rolling_mean()`][polars-rolling-mean] method. This method allows us to specify a window size (in this case, `window_size=7` which is 7 days) and calculate the mean over that window. The `min_samples=1` parameter ensures that we get a value even if there are fewer than 7 days of data available at the start of the series."
   ]
  },
  {
   "cell_type": "code",
   "execution_count": null,
   "id": "c2f7de93",
   "metadata": {
    "incorrectly_encoded_metadata": "{.polars linenums=\"1\" title=\"Calculate 7-day moving average\"}"
   },
   "outputs": [
    {
     "name": "stdout",
     "output_type": "stream",
     "text": [
      "Daily Sales with 7-Day Moving Average: 100\n",
      "shape: (5, 7)\n",
      "┌────────────┬─────────────┬──────────────┬──────────────┬──────────────┬────────────┬─────────────┐\n",
      "│ date       ┆ total_sales ┆ previous_day ┆ next_day_sal ┆ day_over_day ┆ pct_change ┆ 7d_moving_a │\n",
      "│ ---        ┆ ---         ┆ _sales       ┆ es           ┆ _change      ┆ ---        ┆ vg          │\n",
      "│ date       ┆ f64         ┆ ---          ┆ ---          ┆ ---          ┆ f64        ┆ ---         │\n",
      "│            ┆             ┆ f64          ┆ f64          ┆ f64          ┆            ┆ f64         │\n",
      "╞════════════╪═════════════╪══════════════╪══════════════╪══════════════╪════════════╪═════════════╡\n",
      "│ 2023-01-01 ┆ 490.76      ┆ null         ┆ 453.94       ┆ null         ┆ null       ┆ 490.76      │\n",
      "│ 2023-01-02 ┆ 453.94      ┆ 490.76       ┆ 994.51       ┆ -36.82       ┆ -7.502649  ┆ 472.35      │\n",
      "│ 2023-01-03 ┆ 994.51      ┆ 453.94       ┆ 184.17       ┆ 540.57       ┆ 119.08402  ┆ 646.403333  │\n",
      "│ 2023-01-04 ┆ 184.17      ┆ 994.51       ┆ 27.89        ┆ -810.34      ┆ -81.481333 ┆ 530.845     │\n",
      "│ 2023-01-05 ┆ 27.89       ┆ 184.17       ┆ 498.95       ┆ -156.28      ┆ -84.856383 ┆ 430.254     │\n",
      "└────────────┴─────────────┴──────────────┴──────────────┴──────────────┴────────────┴─────────────┘\n",
      "|    | date                |   total_sales |   previous_day_sales |   next_day_sales |   day_over_day_change |   pct_change |   7d_moving_avg |\n",
      "|---:|:--------------------|--------------:|---------------------:|-----------------:|----------------------:|-------------:|----------------:|\n",
      "|  0 | 2023-01-01 00:00:00 |        490.76 |               nan    |           453.94 |                nan    |    nan       |         490.76  |\n",
      "|  1 | 2023-01-02 00:00:00 |        453.94 |               490.76 |           994.51 |                -36.82 |     -7.50265 |         472.35  |\n",
      "|  2 | 2023-01-03 00:00:00 |        994.51 |               453.94 |           184.17 |                540.57 |    119.084   |         646.403 |\n",
      "|  3 | 2023-01-04 00:00:00 |        184.17 |               994.51 |            27.89 |               -810.34 |    -81.4813  |         530.845 |\n",
      "|  4 | 2023-01-05 00:00:00 |         27.89 |               184.17 |           498.95 |               -156.28 |    -84.8564  |         430.254 |\n"
     ]
    }
   ],
   "source": [
    "daily_sales_pl: pl.DataFrame = daily_sales_pl.with_columns(\n",
    "    pl.col(\"total_sales\").rolling_mean(window_size=7, min_samples=1).alias(\"7d_moving_avg\"),\n",
    ")\n",
    "print(f\"Daily Sales with 7-Day Moving Average: {len(daily_sales_pl)}\")\n",
    "print(daily_sales_pl.head(5))\n",
    "print(daily_sales_pl.head(5).to_pandas().to_markdown())"
   ]
  },
  {
   "cell_type": "markdown",
   "id": "994d9876",
   "metadata": {},
   "source": [
    "<div class=\"result\" markdown>\n",
    "\n",
    "```txt\n",
    "Daily Sales with 7-Day Moving Average: 100\n",
    "```\n",
    "\n",
    "```txt\n",
    "shape: (5, 7)\n",
    "┌────────────┬─────────────┬────────────────────┬────────────────┬─────────────────────┬────────────┬───────────────┐\n",
    "│ date       ┆ total_sales ┆ previous_day_sales ┆ next_day_sales ┆ day_over_day_change ┆ pct_change ┆ 7d_moving_avg │\n",
    "│ ---        ┆ ---         ┆ ---                ┆ ---            ┆ ---                 ┆ ---        ┆ ---           │\n",
    "│ date       ┆ f64         ┆ f64                ┆ f64            ┆ f64                 ┆ f64        ┆ f64           │\n",
    "╞════════════╪═════════════╪════════════════════╪════════════════╪═════════════════════╪════════════╪═══════════════╡\n",
    "│ 2023-01-01 ┆ 490.76      ┆ null               ┆ 453.94         ┆ null                ┆ null       ┆ 490.76        │\n",
    "│ 2023-01-02 ┆ 453.94      ┆ 490.76             ┆ 994.51         ┆ -36.82              ┆ -7.502649  ┆ 472.35        │\n",
    "│ 2023-01-03 ┆ 994.51      ┆ 453.94             ┆ 184.17         ┆ 540.57              ┆ 119.08402  ┆ 646.403333    │\n",
    "│ 2023-01-04 ┆ 184.17      ┆ 994.51             ┆ 27.89          ┆ -810.34             ┆ -81.481333 ┆ 530.845       │\n",
    "│ 2023-01-05 ┆ 27.89       ┆ 184.17             ┆ 498.95         ┆ -156.28             ┆ -84.856383 ┆ 430.254       │\n",
    "└────────────┴─────────────┴────────────────────┴────────────────┴─────────────────────┴────────────┴───────────────┘\n",
    "```\n",
    "\n",
    "|      | date                | total_sales | previous_day_sales | next_day_sales | day_over_day_change | pct_change | 7d_moving_avg |\n",
    "| ---: | :------------------ | ----------: | -----------------: | -------------: | ------------------: | ---------: | ------------: |\n",
    "|    0 | 2023-01-01 00:00:00 |      490.76 |                nan |         453.94 |                 nan |        nan |        490.76 |\n",
    "|    1 | 2023-01-02 00:00:00 |      453.94 |             490.76 |         994.51 |              -36.82 |   -7.50265 |        472.35 |\n",
    "|    2 | 2023-01-03 00:00:00 |      994.51 |             453.94 |         184.17 |              540.57 |    119.084 |       646.403 |\n",
    "|    3 | 2023-01-04 00:00:00 |      184.17 |             994.51 |          27.89 |             -810.34 |   -81.4813 |       530.845 |\n",
    "|    4 | 2023-01-05 00:00:00 |       27.89 |             184.17 |         498.95 |             -156.28 |   -84.8564 |       430.254 |\n",
    "\n",
    "</div>\n",
    "\n",
    "Finally, we can visualize the daily sales data along with the 7-day moving average using Plotly. This allows us to see the trends in sales over time and how the moving average smooths out the fluctuations in daily sales.\n",
    "\n",
    "For this, we will again utilise [Plotly][plotly] to create an interactive line chart that displays both the daily sales and the 7-day moving average. The chart will have the date on the x-axis and the sales amount on the y-axis, with two lines representing the daily sales and the moving average.\n",
    "\n",
    "The graph will be [instantiated][python-class-instantiation] using the [`go.Figure()`][plotly-figure] class, and using the [`.add_trace()`][plotly-add-traces] method we will add two traces to the figure: one for the daily sales and one for the 7-day moving average. The [`go.Scatter()`][plotly-scatter] class is used to create the line traces, by defining `mode=\"lines\"` to display the data as a line chart.\n",
    "\n",
    "Finally, we will use the [`.update_layout()`][plotly-update_layout] method to set the titles for the chart, and the position of the legend.\n",
    "\n",
    "### Pandas\n",
    "\n",
    "Plotly is easily able to handle Pandas DataFrames, so we can directly parse the columns from the DataFrame to create the traces for the daily sales and the 7-day moving average."
   ]
  },
  {
   "cell_type": "code",
   "execution_count": null,
   "id": "528e6987",
   "metadata": {
    "incorrectly_encoded_metadata": "{.pandas linenums=\"1\" title=\"Plot results\"}"
   },
   "outputs": [
    {
     "data": {
      "application/vnd.plotly.v1+json": {
       "config": {
        "plotlyServerURL": "https://plot.ly"
       },
       "data": [
        {
         "mode": "lines",
         "name": "Daily Sales",
         "type": "scatter",
         "x": [
          "2023-01-01",
          "2023-01-02",
          "2023-01-03",
          "2023-01-04",
          "2023-01-05",
          "2023-01-06",
          "2023-01-07",
          "2023-01-08",
          "2023-01-09",
          "2023-01-10",
          "2023-01-11",
          "2023-01-12",
          "2023-01-13",
          "2023-01-14",
          "2023-01-15",
          "2023-01-16",
          "2023-01-17",
          "2023-01-18",
          "2023-01-19",
          "2023-01-20",
          "2023-01-21",
          "2023-01-22",
          "2023-01-23",
          "2023-01-24",
          "2023-01-25",
          "2023-01-26",
          "2023-01-27",
          "2023-01-28",
          "2023-01-29",
          "2023-01-30",
          "2023-01-31",
          "2023-02-01",
          "2023-02-02",
          "2023-02-03",
          "2023-02-04",
          "2023-02-05",
          "2023-02-06",
          "2023-02-07",
          "2023-02-08",
          "2023-02-09",
          "2023-02-10",
          "2023-02-11",
          "2023-02-12",
          "2023-02-13",
          "2023-02-14",
          "2023-02-15",
          "2023-02-16",
          "2023-02-17",
          "2023-02-18",
          "2023-02-19",
          "2023-02-20",
          "2023-02-21",
          "2023-02-22",
          "2023-02-23",
          "2023-02-24",
          "2023-02-25",
          "2023-02-26",
          "2023-02-27",
          "2023-02-28",
          "2023-03-01",
          "2023-03-02",
          "2023-03-03",
          "2023-03-04",
          "2023-03-05",
          "2023-03-06",
          "2023-03-07",
          "2023-03-08",
          "2023-03-09",
          "2023-03-10",
          "2023-03-11",
          "2023-03-12",
          "2023-03-13",
          "2023-03-14",
          "2023-03-15",
          "2023-03-16",
          "2023-03-17",
          "2023-03-18",
          "2023-03-19",
          "2023-03-20",
          "2023-03-21",
          "2023-03-22",
          "2023-03-23",
          "2023-03-24",
          "2023-03-25",
          "2023-03-26",
          "2023-03-27",
          "2023-03-28",
          "2023-03-29",
          "2023-03-30",
          "2023-03-31",
          "2023-04-01",
          "2023-04-02",
          "2023-04-03",
          "2023-04-04",
          "2023-04-05",
          "2023-04-06",
          "2023-04-07",
          "2023-04-08",
          "2023-04-09",
          "2023-04-10"
         ],
         "y": {
          "bdata": "XI/C9SisfkDXo3A9Cl98QK5H4XoUFI9APQrXo3AFZ0CkcD0K1+M7QDMzMzMzL39AKVyPwvVgZ0DNzMzMzEx3QKRwPQrXVYdApHA9CtedhkBI4XoUrq9zQHsUrkfhGIFApHA9CtcNgED2KFyPwv+DQI/C9ShcH3BA9ihcj8KPgkDNzMzMzJiOQFK4HoXrvX5AuB6F61FYjEDNzMzMzIB7QOF6FK5HSXZAMzMzMzNFhECkcD0K1wGFQArXo3A9DItAXI/C9Si8bUAzMzMzM4N/QArXo3A9AoJAKVyPwvUWiED2KFyPwpVKQHsUrkfhFI9AAAAAAAC0fUBcj8L1KOxxQOF6FK5HpYtAUrgehetxh0C4HoXrUcyNQNejcD0KF3VAUrgehetpgUDD9ShcjwSCQArXo3A9pI5A9ihcj8IlVUAK16NwPYpzQAAAAAAA4GhAcT0K16M8cUB7FK5H4aZ+QI/C9Shcr3dApHA9CtcLeUBcj8L1KG6KQPYoXI/CFY1APQrXo3DtU0DD9ShcjxprQD0K16NwE4VAKVyPwvXQdkBSuB6F61lwQD0K16Nw5XJA4XoUrkeVdEA9CtejcJGKQLgehetRKGJAw/UoXI8+hkC4HoXrUWqBQM3MzMzM+HJA4XoUrkeZekAK16NwPXpwQDMzMzMzO4NAUrgeheuxVkDD9Shcj0IuQClcj8L1vINAw/UoXI9KaUAfhetRuA5UQIXrUbgeLXlA4XoUrkchTkAAAAAAAL6LQOxRuB6Fq0JAcT0K16M4gkA9CtejcMF7QBSuR+F6GoVAUrgehevtdEBI4XoUrm9kQFyPwvUosI5AuB6F61FEikBmZmZmZu6KQAAAAAAAHHBAmpmZmZk5SEBI4XoUrmNzQEjhehSu7YBArkfhehTWdEAfhetRuOyJQOF6FK5HbXFAzczMzMwsjkDXo3A9Cut8QM3MzMzMXIpArkfhehROaUCkcD0K1xN6QFyPwvUo9IVA16NwPQpfYkA9CtejcK1hQB+F61G4To5AmpmZmZlrhkAUrkfhelRJQOF6FK5HTXlA16NwPQpze0A=",
          "dtype": "f8"
         }
        },
        {
         "line": {
          "width": 3
         },
         "mode": "lines",
         "name": "7-Day Moving Average",
         "type": "scatter",
         "x": [
          "2023-01-01",
          "2023-01-02",
          "2023-01-03",
          "2023-01-04",
          "2023-01-05",
          "2023-01-06",
          "2023-01-07",
          "2023-01-08",
          "2023-01-09",
          "2023-01-10",
          "2023-01-11",
          "2023-01-12",
          "2023-01-13",
          "2023-01-14",
          "2023-01-15",
          "2023-01-16",
          "2023-01-17",
          "2023-01-18",
          "2023-01-19",
          "2023-01-20",
          "2023-01-21",
          "2023-01-22",
          "2023-01-23",
          "2023-01-24",
          "2023-01-25",
          "2023-01-26",
          "2023-01-27",
          "2023-01-28",
          "2023-01-29",
          "2023-01-30",
          "2023-01-31",
          "2023-02-01",
          "2023-02-02",
          "2023-02-03",
          "2023-02-04",
          "2023-02-05",
          "2023-02-06",
          "2023-02-07",
          "2023-02-08",
          "2023-02-09",
          "2023-02-10",
          "2023-02-11",
          "2023-02-12",
          "2023-02-13",
          "2023-02-14",
          "2023-02-15",
          "2023-02-16",
          "2023-02-17",
          "2023-02-18",
          "2023-02-19",
          "2023-02-20",
          "2023-02-21",
          "2023-02-22",
          "2023-02-23",
          "2023-02-24",
          "2023-02-25",
          "2023-02-26",
          "2023-02-27",
          "2023-02-28",
          "2023-03-01",
          "2023-03-02",
          "2023-03-03",
          "2023-03-04",
          "2023-03-05",
          "2023-03-06",
          "2023-03-07",
          "2023-03-08",
          "2023-03-09",
          "2023-03-10",
          "2023-03-11",
          "2023-03-12",
          "2023-03-13",
          "2023-03-14",
          "2023-03-15",
          "2023-03-16",
          "2023-03-17",
          "2023-03-18",
          "2023-03-19",
          "2023-03-20",
          "2023-03-21",
          "2023-03-22",
          "2023-03-23",
          "2023-03-24",
          "2023-03-25",
          "2023-03-26",
          "2023-03-27",
          "2023-03-28",
          "2023-03-29",
          "2023-03-30",
          "2023-03-31",
          "2023-04-01",
          "2023-04-02",
          "2023-04-03",
          "2023-04-04",
          "2023-04-05",
          "2023-04-06",
          "2023-04-07",
          "2023-04-08",
          "2023-04-09",
          "2023-04-10"
         ],
         "y": {
          "bdata": "XI/C9SisfkCamZmZmYV9QG2g0wY6M4RA9ihcj8KWgEDy0k1iEOR6QKgNdNpAm3tAkiRJkiRVeUDrUbgehUd4QLNa3hjB5HpAHtRBHdR5eEDaBcSm0qR5QCA2lYacR35AJZjo72RpfkDGV3zFVzqBQHiyWt4Yt4BAqIM6qIMIgEDTkHOfXSyBQC8gNpWG9oFAOEYw0d+Rg0DBRH8nqz2DQIr+TlbL+YFAq+WNEUy4g0Do72S1vBGEQF/xFV/xj4NAwUR/J6ttgkDhehSuR6GAQK/4iq/4PIFAgNhUGnIWg0BFfyer5W2AQD+7gNhU3oFAq+WNEUwggEBcj8L1KFiAQK/4iq/4CoJAAmJTacjRgkA7WS1vjKKDQLdt27Zt54RAjWCiv5PzgkAWX/EVX2eDQJFzn11AgIZAvuIrvuLtgkB9xVd8xfmAQHsUrkfhNntAbSoNOfepekDVQR3UQRF6QI1gor+TTXhAxld8xVcgc0BpyLnPLux5QBsjmOjvcH9AnqyWN0ZgfkBmtbwxgtl9QK5H4XoUfn9AMYKJ/k5ef0C4HoXrUSB+QPBktbwxRnlAE/2drJbnc0B+dgGxqch6QGt5YwQTJXpAtbwxgol6ekBRuB6F6zF8QPYoXI/CkXxAxabSkHOrfUDuswuITRV9QH52AbGp/HpAT1bLGyOAekBVGnLus0d0QJmZmZmZ8XRACtejcD0KdED0d7Ja3vRwQL0xgon+MnJAdwGxqTR8akBvjGCiv1t0QKiDOqiDjnRABsSm0pAfdEBdj8L1KEh2QMZXfMVXmHtAUAd1UAf9ekA3lYac++h7QAh1UAd1wHxA4yu+4iv2gUCY6O9ktTSDQG+MYKK/X4JABRP9nawmf0BN9HeyWu5+QLdt27ZtJ4FAkHOfXUCEfEBAbCoNOWt8QB+F61G4NndAfnYBsamIfUBvjGCiv52AQHVQB3VQ/4JAjGCiv5N7gUAx0d/JatuBQPBktbwxSoFA3hjBRH+zgEAZwUR/Jwt6QE30d7Jakn5Ah5z77AJyfUDyFV/xFRd8QB+F61G4+ntA2gXEptKgeUA=",
          "dtype": "f8"
         }
        }
       ],
       "layout": {
        "legend": {
         "orientation": "h",
         "y": 1,
         "yanchor": "bottom"
        },
        "template": {
         "data": {
          "bar": [
           {
            "error_x": {
             "color": "rgb(36,36,36)"
            },
            "error_y": {
             "color": "rgb(36,36,36)"
            },
            "marker": {
             "line": {
              "color": "white",
              "width": 0.5
             },
             "pattern": {
              "fillmode": "overlay",
              "size": 10,
              "solidity": 0.2
             }
            },
            "type": "bar"
           }
          ],
          "barpolar": [
           {
            "marker": {
             "line": {
              "color": "white",
              "width": 0.5
             },
             "pattern": {
              "fillmode": "overlay",
              "size": 10,
              "solidity": 0.2
             }
            },
            "type": "barpolar"
           }
          ],
          "carpet": [
           {
            "aaxis": {
             "endlinecolor": "rgb(36,36,36)",
             "gridcolor": "white",
             "linecolor": "white",
             "minorgridcolor": "white",
             "startlinecolor": "rgb(36,36,36)"
            },
            "baxis": {
             "endlinecolor": "rgb(36,36,36)",
             "gridcolor": "white",
             "linecolor": "white",
             "minorgridcolor": "white",
             "startlinecolor": "rgb(36,36,36)"
            },
            "type": "carpet"
           }
          ],
          "choropleth": [
           {
            "colorbar": {
             "outlinewidth": 1,
             "tickcolor": "rgb(36,36,36)",
             "ticks": "outside"
            },
            "type": "choropleth"
           }
          ],
          "contour": [
           {
            "colorbar": {
             "outlinewidth": 1,
             "tickcolor": "rgb(36,36,36)",
             "ticks": "outside"
            },
            "colorscale": [
             [
              0,
              "#440154"
             ],
             [
              0.1111111111111111,
              "#482878"
             ],
             [
              0.2222222222222222,
              "#3e4989"
             ],
             [
              0.3333333333333333,
              "#31688e"
             ],
             [
              0.4444444444444444,
              "#26828e"
             ],
             [
              0.5555555555555556,
              "#1f9e89"
             ],
             [
              0.6666666666666666,
              "#35b779"
             ],
             [
              0.7777777777777778,
              "#6ece58"
             ],
             [
              0.8888888888888888,
              "#b5de2b"
             ],
             [
              1,
              "#fde725"
             ]
            ],
            "type": "contour"
           }
          ],
          "contourcarpet": [
           {
            "colorbar": {
             "outlinewidth": 1,
             "tickcolor": "rgb(36,36,36)",
             "ticks": "outside"
            },
            "type": "contourcarpet"
           }
          ],
          "heatmap": [
           {
            "colorbar": {
             "outlinewidth": 1,
             "tickcolor": "rgb(36,36,36)",
             "ticks": "outside"
            },
            "colorscale": [
             [
              0,
              "#440154"
             ],
             [
              0.1111111111111111,
              "#482878"
             ],
             [
              0.2222222222222222,
              "#3e4989"
             ],
             [
              0.3333333333333333,
              "#31688e"
             ],
             [
              0.4444444444444444,
              "#26828e"
             ],
             [
              0.5555555555555556,
              "#1f9e89"
             ],
             [
              0.6666666666666666,
              "#35b779"
             ],
             [
              0.7777777777777778,
              "#6ece58"
             ],
             [
              0.8888888888888888,
              "#b5de2b"
             ],
             [
              1,
              "#fde725"
             ]
            ],
            "type": "heatmap"
           }
          ],
          "histogram": [
           {
            "marker": {
             "line": {
              "color": "white",
              "width": 0.6
             }
            },
            "type": "histogram"
           }
          ],
          "histogram2d": [
           {
            "colorbar": {
             "outlinewidth": 1,
             "tickcolor": "rgb(36,36,36)",
             "ticks": "outside"
            },
            "colorscale": [
             [
              0,
              "#440154"
             ],
             [
              0.1111111111111111,
              "#482878"
             ],
             [
              0.2222222222222222,
              "#3e4989"
             ],
             [
              0.3333333333333333,
              "#31688e"
             ],
             [
              0.4444444444444444,
              "#26828e"
             ],
             [
              0.5555555555555556,
              "#1f9e89"
             ],
             [
              0.6666666666666666,
              "#35b779"
             ],
             [
              0.7777777777777778,
              "#6ece58"
             ],
             [
              0.8888888888888888,
              "#b5de2b"
             ],
             [
              1,
              "#fde725"
             ]
            ],
            "type": "histogram2d"
           }
          ],
          "histogram2dcontour": [
           {
            "colorbar": {
             "outlinewidth": 1,
             "tickcolor": "rgb(36,36,36)",
             "ticks": "outside"
            },
            "colorscale": [
             [
              0,
              "#440154"
             ],
             [
              0.1111111111111111,
              "#482878"
             ],
             [
              0.2222222222222222,
              "#3e4989"
             ],
             [
              0.3333333333333333,
              "#31688e"
             ],
             [
              0.4444444444444444,
              "#26828e"
             ],
             [
              0.5555555555555556,
              "#1f9e89"
             ],
             [
              0.6666666666666666,
              "#35b779"
             ],
             [
              0.7777777777777778,
              "#6ece58"
             ],
             [
              0.8888888888888888,
              "#b5de2b"
             ],
             [
              1,
              "#fde725"
             ]
            ],
            "type": "histogram2dcontour"
           }
          ],
          "mesh3d": [
           {
            "colorbar": {
             "outlinewidth": 1,
             "tickcolor": "rgb(36,36,36)",
             "ticks": "outside"
            },
            "type": "mesh3d"
           }
          ],
          "parcoords": [
           {
            "line": {
             "colorbar": {
              "outlinewidth": 1,
              "tickcolor": "rgb(36,36,36)",
              "ticks": "outside"
             }
            },
            "type": "parcoords"
           }
          ],
          "pie": [
           {
            "automargin": true,
            "type": "pie"
           }
          ],
          "scatter": [
           {
            "fillpattern": {
             "fillmode": "overlay",
             "size": 10,
             "solidity": 0.2
            },
            "type": "scatter"
           }
          ],
          "scatter3d": [
           {
            "line": {
             "colorbar": {
              "outlinewidth": 1,
              "tickcolor": "rgb(36,36,36)",
              "ticks": "outside"
             }
            },
            "marker": {
             "colorbar": {
              "outlinewidth": 1,
              "tickcolor": "rgb(36,36,36)",
              "ticks": "outside"
             }
            },
            "type": "scatter3d"
           }
          ],
          "scattercarpet": [
           {
            "marker": {
             "colorbar": {
              "outlinewidth": 1,
              "tickcolor": "rgb(36,36,36)",
              "ticks": "outside"
             }
            },
            "type": "scattercarpet"
           }
          ],
          "scattergeo": [
           {
            "marker": {
             "colorbar": {
              "outlinewidth": 1,
              "tickcolor": "rgb(36,36,36)",
              "ticks": "outside"
             }
            },
            "type": "scattergeo"
           }
          ],
          "scattergl": [
           {
            "marker": {
             "colorbar": {
              "outlinewidth": 1,
              "tickcolor": "rgb(36,36,36)",
              "ticks": "outside"
             }
            },
            "type": "scattergl"
           }
          ],
          "scattermap": [
           {
            "marker": {
             "colorbar": {
              "outlinewidth": 1,
              "tickcolor": "rgb(36,36,36)",
              "ticks": "outside"
             }
            },
            "type": "scattermap"
           }
          ],
          "scattermapbox": [
           {
            "marker": {
             "colorbar": {
              "outlinewidth": 1,
              "tickcolor": "rgb(36,36,36)",
              "ticks": "outside"
             }
            },
            "type": "scattermapbox"
           }
          ],
          "scatterpolar": [
           {
            "marker": {
             "colorbar": {
              "outlinewidth": 1,
              "tickcolor": "rgb(36,36,36)",
              "ticks": "outside"
             }
            },
            "type": "scatterpolar"
           }
          ],
          "scatterpolargl": [
           {
            "marker": {
             "colorbar": {
              "outlinewidth": 1,
              "tickcolor": "rgb(36,36,36)",
              "ticks": "outside"
             }
            },
            "type": "scatterpolargl"
           }
          ],
          "scatterternary": [
           {
            "marker": {
             "colorbar": {
              "outlinewidth": 1,
              "tickcolor": "rgb(36,36,36)",
              "ticks": "outside"
             }
            },
            "type": "scatterternary"
           }
          ],
          "surface": [
           {
            "colorbar": {
             "outlinewidth": 1,
             "tickcolor": "rgb(36,36,36)",
             "ticks": "outside"
            },
            "colorscale": [
             [
              0,
              "#440154"
             ],
             [
              0.1111111111111111,
              "#482878"
             ],
             [
              0.2222222222222222,
              "#3e4989"
             ],
             [
              0.3333333333333333,
              "#31688e"
             ],
             [
              0.4444444444444444,
              "#26828e"
             ],
             [
              0.5555555555555556,
              "#1f9e89"
             ],
             [
              0.6666666666666666,
              "#35b779"
             ],
             [
              0.7777777777777778,
              "#6ece58"
             ],
             [
              0.8888888888888888,
              "#b5de2b"
             ],
             [
              1,
              "#fde725"
             ]
            ],
            "type": "surface"
           }
          ],
          "table": [
           {
            "cells": {
             "fill": {
              "color": "rgb(237,237,237)"
             },
             "line": {
              "color": "white"
             }
            },
            "header": {
             "fill": {
              "color": "rgb(217,217,217)"
             },
             "line": {
              "color": "white"
             }
            },
            "type": "table"
           }
          ]
         },
         "layout": {
          "annotationdefaults": {
           "arrowhead": 0,
           "arrowwidth": 1
          },
          "autotypenumbers": "strict",
          "coloraxis": {
           "colorbar": {
            "outlinewidth": 1,
            "tickcolor": "rgb(36,36,36)",
            "ticks": "outside"
           }
          },
          "colorscale": {
           "diverging": [
            [
             0,
             "rgb(103,0,31)"
            ],
            [
             0.1,
             "rgb(178,24,43)"
            ],
            [
             0.2,
             "rgb(214,96,77)"
            ],
            [
             0.3,
             "rgb(244,165,130)"
            ],
            [
             0.4,
             "rgb(253,219,199)"
            ],
            [
             0.5,
             "rgb(247,247,247)"
            ],
            [
             0.6,
             "rgb(209,229,240)"
            ],
            [
             0.7,
             "rgb(146,197,222)"
            ],
            [
             0.8,
             "rgb(67,147,195)"
            ],
            [
             0.9,
             "rgb(33,102,172)"
            ],
            [
             1,
             "rgb(5,48,97)"
            ]
           ],
           "sequential": [
            [
             0,
             "#440154"
            ],
            [
             0.1111111111111111,
             "#482878"
            ],
            [
             0.2222222222222222,
             "#3e4989"
            ],
            [
             0.3333333333333333,
             "#31688e"
            ],
            [
             0.4444444444444444,
             "#26828e"
            ],
            [
             0.5555555555555556,
             "#1f9e89"
            ],
            [
             0.6666666666666666,
             "#35b779"
            ],
            [
             0.7777777777777778,
             "#6ece58"
            ],
            [
             0.8888888888888888,
             "#b5de2b"
            ],
            [
             1,
             "#fde725"
            ]
           ],
           "sequentialminus": [
            [
             0,
             "#440154"
            ],
            [
             0.1111111111111111,
             "#482878"
            ],
            [
             0.2222222222222222,
             "#3e4989"
            ],
            [
             0.3333333333333333,
             "#31688e"
            ],
            [
             0.4444444444444444,
             "#26828e"
            ],
            [
             0.5555555555555556,
             "#1f9e89"
            ],
            [
             0.6666666666666666,
             "#35b779"
            ],
            [
             0.7777777777777778,
             "#6ece58"
            ],
            [
             0.8888888888888888,
             "#b5de2b"
            ],
            [
             1,
             "#fde725"
            ]
           ]
          },
          "colorway": [
           "#1F77B4",
           "#FF7F0E",
           "#2CA02C",
           "#D62728",
           "#9467BD",
           "#8C564B",
           "#E377C2",
           "#7F7F7F",
           "#BCBD22",
           "#17BECF"
          ],
          "font": {
           "color": "rgb(36,36,36)"
          },
          "geo": {
           "bgcolor": "white",
           "lakecolor": "white",
           "landcolor": "white",
           "showlakes": true,
           "showland": true,
           "subunitcolor": "white"
          },
          "hoverlabel": {
           "align": "left"
          },
          "hovermode": "closest",
          "mapbox": {
           "style": "light"
          },
          "paper_bgcolor": "white",
          "plot_bgcolor": "white",
          "polar": {
           "angularaxis": {
            "gridcolor": "rgb(232,232,232)",
            "linecolor": "rgb(36,36,36)",
            "showgrid": false,
            "showline": true,
            "ticks": "outside"
           },
           "bgcolor": "white",
           "radialaxis": {
            "gridcolor": "rgb(232,232,232)",
            "linecolor": "rgb(36,36,36)",
            "showgrid": false,
            "showline": true,
            "ticks": "outside"
           }
          },
          "scene": {
           "xaxis": {
            "backgroundcolor": "white",
            "gridcolor": "rgb(232,232,232)",
            "gridwidth": 2,
            "linecolor": "rgb(36,36,36)",
            "showbackground": true,
            "showgrid": false,
            "showline": true,
            "ticks": "outside",
            "zeroline": false,
            "zerolinecolor": "rgb(36,36,36)"
           },
           "yaxis": {
            "backgroundcolor": "white",
            "gridcolor": "rgb(232,232,232)",
            "gridwidth": 2,
            "linecolor": "rgb(36,36,36)",
            "showbackground": true,
            "showgrid": false,
            "showline": true,
            "ticks": "outside",
            "zeroline": false,
            "zerolinecolor": "rgb(36,36,36)"
           },
           "zaxis": {
            "backgroundcolor": "white",
            "gridcolor": "rgb(232,232,232)",
            "gridwidth": 2,
            "linecolor": "rgb(36,36,36)",
            "showbackground": true,
            "showgrid": false,
            "showline": true,
            "ticks": "outside",
            "zeroline": false,
            "zerolinecolor": "rgb(36,36,36)"
           }
          },
          "shapedefaults": {
           "fillcolor": "black",
           "line": {
            "width": 0
           },
           "opacity": 0.3
          },
          "ternary": {
           "aaxis": {
            "gridcolor": "rgb(232,232,232)",
            "linecolor": "rgb(36,36,36)",
            "showgrid": false,
            "showline": true,
            "ticks": "outside"
           },
           "baxis": {
            "gridcolor": "rgb(232,232,232)",
            "linecolor": "rgb(36,36,36)",
            "showgrid": false,
            "showline": true,
            "ticks": "outside"
           },
           "bgcolor": "white",
           "caxis": {
            "gridcolor": "rgb(232,232,232)",
            "linecolor": "rgb(36,36,36)",
            "showgrid": false,
            "showline": true,
            "ticks": "outside"
           }
          },
          "title": {
           "x": 0.05
          },
          "xaxis": {
           "automargin": true,
           "gridcolor": "rgb(232,232,232)",
           "linecolor": "rgb(36,36,36)",
           "showgrid": true,
           "showline": true,
           "ticks": "outside",
           "title": {
            "standoff": 15
           },
           "zeroline": false,
           "zerolinecolor": "rgb(36,36,36)"
          },
          "yaxis": {
           "automargin": true,
           "gridcolor": "rgb(232,232,232)",
           "linecolor": "rgb(36,36,36)",
           "showgrid": true,
           "showline": true,
           "ticks": "outside",
           "title": {
            "standoff": 15
           },
           "zeroline": false,
           "zerolinecolor": "rgb(36,36,36)"
          }
         }
        },
        "title": {
         "text": "Daily Sales with 7-Day Moving Average"
        },
        "xaxis": {
         "title": {
          "text": "Date"
         }
        },
        "yaxis": {
         "title": {
          "text": "Sales Amount ($)"
         }
        }
       }
      }
     },
     "metadata": {},
     "output_type": "display_data"
    }
   ],
   "source": [
    "fig: go.Figure = (\n",
    "    go.Figure()\n",
    "    .add_trace(\n",
    "        go.Scatter(\n",
    "            x=daily_sales_pd[\"date\"],\n",
    "            y=daily_sales_pd[\"total_sales\"],\n",
    "            mode=\"lines\",\n",
    "            name=\"Daily Sales\",\n",
    "        )\n",
    "    )\n",
    "    .add_trace(\n",
    "        go.Scatter(\n",
    "            x=daily_sales_pd[\"date\"],\n",
    "            y=daily_sales_pd[\"7d_moving_avg\"],\n",
    "            mode=\"lines\",\n",
    "            name=\"7-Day Moving Average\",\n",
    "            line_width=3,\n",
    "        ),\n",
    "    )\n",
    "    .update_layout(\n",
    "        title=\"Daily Sales with 7-Day Moving Average\",\n",
    "        xaxis_title=\"Date\",\n",
    "        yaxis_title=\"Sales Amount ($)\",\n",
    "        legend_orientation=\"h\",\n",
    "        legend_yanchor=\"bottom\",\n",
    "        legend_y=1,\n",
    "    )\n",
    ")\n",
    "fig.write_html(\"images/pt4_daily_sales_with_7d_avg_pd.html\", include_plotlyjs=\"cdn\", full_html=True)\n",
    "fig.show()"
   ]
  },
  {
   "cell_type": "markdown",
   "id": "e56a9f58",
   "metadata": {},
   "source": [
    "<div class=\"result\" markdown>"
   ]
  },
  {
   "cell_type": "markdown",
   "id": "681e4f0e",
   "metadata": {},
   "source": [
    "</div>\n",
    "\n",
    "### SQL\n",
    "\n",
    "Plotly is easily able to handle Pandas DataFrames, so we can directly parse the columns from the DataFrame to create the traces for the daily sales and the 7-day moving average."
   ]
  },
  {
   "cell_type": "code",
   "execution_count": null,
   "id": "1cfc8e23",
   "metadata": {
    "incorrectly_encoded_metadata": "{.sql linenums=\"1\" title=\"Plot results\"}"
   },
   "outputs": [
    {
     "data": {
      "application/vnd.plotly.v1+json": {
       "config": {
        "plotlyServerURL": "https://plot.ly"
       },
       "data": [
        {
         "mode": "lines",
         "name": "Daily Sales",
         "type": "scatter",
         "x": [
          "2023-01-01 00:00:00",
          "2023-01-02 00:00:00",
          "2023-01-03 00:00:00",
          "2023-01-04 00:00:00",
          "2023-01-05 00:00:00",
          "2023-01-06 00:00:00",
          "2023-01-07 00:00:00",
          "2023-01-08 00:00:00",
          "2023-01-09 00:00:00",
          "2023-01-10 00:00:00",
          "2023-01-11 00:00:00",
          "2023-01-12 00:00:00",
          "2023-01-13 00:00:00",
          "2023-01-14 00:00:00",
          "2023-01-15 00:00:00",
          "2023-01-16 00:00:00",
          "2023-01-17 00:00:00",
          "2023-01-18 00:00:00",
          "2023-01-19 00:00:00",
          "2023-01-20 00:00:00",
          "2023-01-21 00:00:00",
          "2023-01-22 00:00:00",
          "2023-01-23 00:00:00",
          "2023-01-24 00:00:00",
          "2023-01-25 00:00:00",
          "2023-01-26 00:00:00",
          "2023-01-27 00:00:00",
          "2023-01-28 00:00:00",
          "2023-01-29 00:00:00",
          "2023-01-30 00:00:00",
          "2023-01-31 00:00:00",
          "2023-02-01 00:00:00",
          "2023-02-02 00:00:00",
          "2023-02-03 00:00:00",
          "2023-02-04 00:00:00",
          "2023-02-05 00:00:00",
          "2023-02-06 00:00:00",
          "2023-02-07 00:00:00",
          "2023-02-08 00:00:00",
          "2023-02-09 00:00:00",
          "2023-02-10 00:00:00",
          "2023-02-11 00:00:00",
          "2023-02-12 00:00:00",
          "2023-02-13 00:00:00",
          "2023-02-14 00:00:00",
          "2023-02-15 00:00:00",
          "2023-02-16 00:00:00",
          "2023-02-17 00:00:00",
          "2023-02-18 00:00:00",
          "2023-02-19 00:00:00",
          "2023-02-20 00:00:00",
          "2023-02-21 00:00:00",
          "2023-02-22 00:00:00",
          "2023-02-23 00:00:00",
          "2023-02-24 00:00:00",
          "2023-02-25 00:00:00",
          "2023-02-26 00:00:00",
          "2023-02-27 00:00:00",
          "2023-02-28 00:00:00",
          "2023-03-01 00:00:00",
          "2023-03-02 00:00:00",
          "2023-03-03 00:00:00",
          "2023-03-04 00:00:00",
          "2023-03-05 00:00:00",
          "2023-03-06 00:00:00",
          "2023-03-07 00:00:00",
          "2023-03-08 00:00:00",
          "2023-03-09 00:00:00",
          "2023-03-10 00:00:00",
          "2023-03-11 00:00:00",
          "2023-03-12 00:00:00",
          "2023-03-13 00:00:00",
          "2023-03-14 00:00:00",
          "2023-03-15 00:00:00",
          "2023-03-16 00:00:00",
          "2023-03-17 00:00:00",
          "2023-03-18 00:00:00",
          "2023-03-19 00:00:00",
          "2023-03-20 00:00:00",
          "2023-03-21 00:00:00",
          "2023-03-22 00:00:00",
          "2023-03-23 00:00:00",
          "2023-03-24 00:00:00",
          "2023-03-25 00:00:00",
          "2023-03-26 00:00:00",
          "2023-03-27 00:00:00",
          "2023-03-28 00:00:00",
          "2023-03-29 00:00:00",
          "2023-03-30 00:00:00",
          "2023-03-31 00:00:00",
          "2023-04-01 00:00:00",
          "2023-04-02 00:00:00",
          "2023-04-03 00:00:00",
          "2023-04-04 00:00:00",
          "2023-04-05 00:00:00",
          "2023-04-06 00:00:00",
          "2023-04-07 00:00:00",
          "2023-04-08 00:00:00",
          "2023-04-09 00:00:00",
          "2023-04-10 00:00:00"
         ],
         "y": {
          "bdata": "XI/C9SisfkDXo3A9Cl98QK5H4XoUFI9APQrXo3AFZ0CkcD0K1+M7QDMzMzMzL39AKVyPwvVgZ0DNzMzMzEx3QKRwPQrXVYdApHA9CtedhkBI4XoUrq9zQHsUrkfhGIFApHA9CtcNgED2KFyPwv+DQI/C9ShcH3BA9ihcj8KPgkDNzMzMzJiOQFK4HoXrvX5AuB6F61FYjEDNzMzMzIB7QOF6FK5HSXZAMzMzMzNFhECkcD0K1wGFQArXo3A9DItAXI/C9Si8bUAzMzMzM4N/QArXo3A9AoJAKVyPwvUWiED2KFyPwpVKQHsUrkfhFI9AAAAAAAC0fUBcj8L1KOxxQOF6FK5HpYtAUrgehetxh0C4HoXrUcyNQNejcD0KF3VAUrgehetpgUDD9ShcjwSCQArXo3A9pI5A9ihcj8IlVUAK16NwPYpzQAAAAAAA4GhAcT0K16M8cUB7FK5H4aZ+QI/C9Shcr3dApHA9CtcLeUBcj8L1KG6KQPYoXI/CFY1APQrXo3DtU0DD9ShcjxprQD0K16NwE4VAKVyPwvXQdkBSuB6F61lwQD0K16Nw5XJA4XoUrkeVdEA9CtejcJGKQLgehetRKGJAw/UoXI8+hkC4HoXrUWqBQM3MzMzM+HJA4XoUrkeZekAK16NwPXpwQDMzMzMzO4NAUrgeheuxVkDD9Shcj0IuQClcj8L1vINAw/UoXI9KaUAfhetRuA5UQIXrUbgeLXlA4XoUrkchTkAAAAAAAL6LQOxRuB6Fq0JAcT0K16M4gkA9CtejcMF7QBSuR+F6GoVAUrgehevtdEBI4XoUrm9kQFyPwvUosI5AuB6F61FEikBmZmZmZu6KQAAAAAAAHHBAmpmZmZk5SEBI4XoUrmNzQEjhehSu7YBArkfhehTWdEAfhetRuOyJQOF6FK5HbXFAzczMzMwsjkDXo3A9Cut8QM3MzMzMXIpArkfhehROaUCkcD0K1xN6QFyPwvUo9IVA16NwPQpfYkA9CtejcK1hQB+F61G4To5AmpmZmZlrhkAUrkfhelRJQOF6FK5HTXlA16NwPQpze0A=",
          "dtype": "f8"
         }
        },
        {
         "line": {
          "width": 3
         },
         "mode": "lines",
         "name": "7-Day Moving Average",
         "type": "scatter",
         "x": [
          "2023-01-01 00:00:00",
          "2023-01-02 00:00:00",
          "2023-01-03 00:00:00",
          "2023-01-04 00:00:00",
          "2023-01-05 00:00:00",
          "2023-01-06 00:00:00",
          "2023-01-07 00:00:00",
          "2023-01-08 00:00:00",
          "2023-01-09 00:00:00",
          "2023-01-10 00:00:00",
          "2023-01-11 00:00:00",
          "2023-01-12 00:00:00",
          "2023-01-13 00:00:00",
          "2023-01-14 00:00:00",
          "2023-01-15 00:00:00",
          "2023-01-16 00:00:00",
          "2023-01-17 00:00:00",
          "2023-01-18 00:00:00",
          "2023-01-19 00:00:00",
          "2023-01-20 00:00:00",
          "2023-01-21 00:00:00",
          "2023-01-22 00:00:00",
          "2023-01-23 00:00:00",
          "2023-01-24 00:00:00",
          "2023-01-25 00:00:00",
          "2023-01-26 00:00:00",
          "2023-01-27 00:00:00",
          "2023-01-28 00:00:00",
          "2023-01-29 00:00:00",
          "2023-01-30 00:00:00",
          "2023-01-31 00:00:00",
          "2023-02-01 00:00:00",
          "2023-02-02 00:00:00",
          "2023-02-03 00:00:00",
          "2023-02-04 00:00:00",
          "2023-02-05 00:00:00",
          "2023-02-06 00:00:00",
          "2023-02-07 00:00:00",
          "2023-02-08 00:00:00",
          "2023-02-09 00:00:00",
          "2023-02-10 00:00:00",
          "2023-02-11 00:00:00",
          "2023-02-12 00:00:00",
          "2023-02-13 00:00:00",
          "2023-02-14 00:00:00",
          "2023-02-15 00:00:00",
          "2023-02-16 00:00:00",
          "2023-02-17 00:00:00",
          "2023-02-18 00:00:00",
          "2023-02-19 00:00:00",
          "2023-02-20 00:00:00",
          "2023-02-21 00:00:00",
          "2023-02-22 00:00:00",
          "2023-02-23 00:00:00",
          "2023-02-24 00:00:00",
          "2023-02-25 00:00:00",
          "2023-02-26 00:00:00",
          "2023-02-27 00:00:00",
          "2023-02-28 00:00:00",
          "2023-03-01 00:00:00",
          "2023-03-02 00:00:00",
          "2023-03-03 00:00:00",
          "2023-03-04 00:00:00",
          "2023-03-05 00:00:00",
          "2023-03-06 00:00:00",
          "2023-03-07 00:00:00",
          "2023-03-08 00:00:00",
          "2023-03-09 00:00:00",
          "2023-03-10 00:00:00",
          "2023-03-11 00:00:00",
          "2023-03-12 00:00:00",
          "2023-03-13 00:00:00",
          "2023-03-14 00:00:00",
          "2023-03-15 00:00:00",
          "2023-03-16 00:00:00",
          "2023-03-17 00:00:00",
          "2023-03-18 00:00:00",
          "2023-03-19 00:00:00",
          "2023-03-20 00:00:00",
          "2023-03-21 00:00:00",
          "2023-03-22 00:00:00",
          "2023-03-23 00:00:00",
          "2023-03-24 00:00:00",
          "2023-03-25 00:00:00",
          "2023-03-26 00:00:00",
          "2023-03-27 00:00:00",
          "2023-03-28 00:00:00",
          "2023-03-29 00:00:00",
          "2023-03-30 00:00:00",
          "2023-03-31 00:00:00",
          "2023-04-01 00:00:00",
          "2023-04-02 00:00:00",
          "2023-04-03 00:00:00",
          "2023-04-04 00:00:00",
          "2023-04-05 00:00:00",
          "2023-04-06 00:00:00",
          "2023-04-07 00:00:00",
          "2023-04-08 00:00:00",
          "2023-04-09 00:00:00",
          "2023-04-10 00:00:00"
         ],
         "y": {
          "bdata": "XI/C9SisfkCamZmZmYV9QG2g0wY6M4RA9ihcj8KWgEDy0k1iEOR6QKcNdNpAm3tAkiRJkiRVeUDrUbgehUd4QLJa3hjB5HpAHtRBHdR5eEDaBcSm0qR5QCA2lYacR35AI5jo72RpfkDGV3zFVzqBQHiyWt4Yt4BAqYM6qIMIgEDTkHOfXSyBQC8gNpWG9oFAOEYw0d+Rg0DBRH8nqz2DQIr+TlbL+YFAq+WNEUy4g0Dp72S1vBGEQF/xFV/xj4NAwUR/J6ttgkDhehSuR6GAQK/4iq/4PIFAgdhUGnIWg0BFfyer5W2AQD+7gNhU3oFAq+WNEUwggEBcj8L1KFiAQK/4iq/4CoJAA2JTacjRgkA7WS1vjKKDQLdt27Zt54RAjWCiv5PzgkAWX/EVX2eDQJFzn11AgIZAvuIrvuLtgkB9xVd8xfmAQHsUrkfhNntAbSoNOfepekDVQR3UQRF6QI1gor+TTXhAxld8xVcgc0BpyLnPLux5QBsjmOjvcH9AnqyWN0ZgfkBltbwxgtl9QK5H4XoUfn9AMYKJ/k5ef0C4HoXrUSB+QPBktbwxRnlAEv2drJbnc0B+dgGxqch6QGp5YwQTJXpAtrwxgol6ekBSuB6F6zF8QPYoXI/CkXxAw6bSkHOrfUDuswuITRV9QH52AbGp/HpAT1bLGyOAekBVGnLus0d0QJmZmZmZ8XRACtejcD0KdED0d7Ja3vRwQL0xgon+MnJAdwGxqTR8akBvjGCiv1t0QKiDOqiDjnRABsSm0pAfdEBdj8L1KEh2QMZXfMVXmHtAUAd1UAf9ekA2lYac++h7QAd1UAd1wHxA4yu+4iv2gUCY6O9ktTSDQG+MYKK/X4JABRP9nawmf0BL9HeyWu5+QLdt27ZtJ4FAkXOfXUCEfEBAbCoNOWt8QB+F61G4NndAfnYBsamIfUBvjGCiv52AQHVQB3VQ/4JAjWCiv5N7gUAx0d/JatuBQPBktbwxSoFA3hjBRH+zgEAZwUR/Jwt6QE30d7Jakn5Ah5z77AJyfUDxFV/xFRd8QB+F61G4+ntA2gXEptKgeUA=",
          "dtype": "f8"
         }
        }
       ],
       "layout": {
        "legend": {
         "orientation": "h",
         "y": 1,
         "yanchor": "bottom"
        },
        "template": {
         "data": {
          "bar": [
           {
            "error_x": {
             "color": "rgb(36,36,36)"
            },
            "error_y": {
             "color": "rgb(36,36,36)"
            },
            "marker": {
             "line": {
              "color": "white",
              "width": 0.5
             },
             "pattern": {
              "fillmode": "overlay",
              "size": 10,
              "solidity": 0.2
             }
            },
            "type": "bar"
           }
          ],
          "barpolar": [
           {
            "marker": {
             "line": {
              "color": "white",
              "width": 0.5
             },
             "pattern": {
              "fillmode": "overlay",
              "size": 10,
              "solidity": 0.2
             }
            },
            "type": "barpolar"
           }
          ],
          "carpet": [
           {
            "aaxis": {
             "endlinecolor": "rgb(36,36,36)",
             "gridcolor": "white",
             "linecolor": "white",
             "minorgridcolor": "white",
             "startlinecolor": "rgb(36,36,36)"
            },
            "baxis": {
             "endlinecolor": "rgb(36,36,36)",
             "gridcolor": "white",
             "linecolor": "white",
             "minorgridcolor": "white",
             "startlinecolor": "rgb(36,36,36)"
            },
            "type": "carpet"
           }
          ],
          "choropleth": [
           {
            "colorbar": {
             "outlinewidth": 1,
             "tickcolor": "rgb(36,36,36)",
             "ticks": "outside"
            },
            "type": "choropleth"
           }
          ],
          "contour": [
           {
            "colorbar": {
             "outlinewidth": 1,
             "tickcolor": "rgb(36,36,36)",
             "ticks": "outside"
            },
            "colorscale": [
             [
              0,
              "#440154"
             ],
             [
              0.1111111111111111,
              "#482878"
             ],
             [
              0.2222222222222222,
              "#3e4989"
             ],
             [
              0.3333333333333333,
              "#31688e"
             ],
             [
              0.4444444444444444,
              "#26828e"
             ],
             [
              0.5555555555555556,
              "#1f9e89"
             ],
             [
              0.6666666666666666,
              "#35b779"
             ],
             [
              0.7777777777777778,
              "#6ece58"
             ],
             [
              0.8888888888888888,
              "#b5de2b"
             ],
             [
              1,
              "#fde725"
             ]
            ],
            "type": "contour"
           }
          ],
          "contourcarpet": [
           {
            "colorbar": {
             "outlinewidth": 1,
             "tickcolor": "rgb(36,36,36)",
             "ticks": "outside"
            },
            "type": "contourcarpet"
           }
          ],
          "heatmap": [
           {
            "colorbar": {
             "outlinewidth": 1,
             "tickcolor": "rgb(36,36,36)",
             "ticks": "outside"
            },
            "colorscale": [
             [
              0,
              "#440154"
             ],
             [
              0.1111111111111111,
              "#482878"
             ],
             [
              0.2222222222222222,
              "#3e4989"
             ],
             [
              0.3333333333333333,
              "#31688e"
             ],
             [
              0.4444444444444444,
              "#26828e"
             ],
             [
              0.5555555555555556,
              "#1f9e89"
             ],
             [
              0.6666666666666666,
              "#35b779"
             ],
             [
              0.7777777777777778,
              "#6ece58"
             ],
             [
              0.8888888888888888,
              "#b5de2b"
             ],
             [
              1,
              "#fde725"
             ]
            ],
            "type": "heatmap"
           }
          ],
          "histogram": [
           {
            "marker": {
             "line": {
              "color": "white",
              "width": 0.6
             }
            },
            "type": "histogram"
           }
          ],
          "histogram2d": [
           {
            "colorbar": {
             "outlinewidth": 1,
             "tickcolor": "rgb(36,36,36)",
             "ticks": "outside"
            },
            "colorscale": [
             [
              0,
              "#440154"
             ],
             [
              0.1111111111111111,
              "#482878"
             ],
             [
              0.2222222222222222,
              "#3e4989"
             ],
             [
              0.3333333333333333,
              "#31688e"
             ],
             [
              0.4444444444444444,
              "#26828e"
             ],
             [
              0.5555555555555556,
              "#1f9e89"
             ],
             [
              0.6666666666666666,
              "#35b779"
             ],
             [
              0.7777777777777778,
              "#6ece58"
             ],
             [
              0.8888888888888888,
              "#b5de2b"
             ],
             [
              1,
              "#fde725"
             ]
            ],
            "type": "histogram2d"
           }
          ],
          "histogram2dcontour": [
           {
            "colorbar": {
             "outlinewidth": 1,
             "tickcolor": "rgb(36,36,36)",
             "ticks": "outside"
            },
            "colorscale": [
             [
              0,
              "#440154"
             ],
             [
              0.1111111111111111,
              "#482878"
             ],
             [
              0.2222222222222222,
              "#3e4989"
             ],
             [
              0.3333333333333333,
              "#31688e"
             ],
             [
              0.4444444444444444,
              "#26828e"
             ],
             [
              0.5555555555555556,
              "#1f9e89"
             ],
             [
              0.6666666666666666,
              "#35b779"
             ],
             [
              0.7777777777777778,
              "#6ece58"
             ],
             [
              0.8888888888888888,
              "#b5de2b"
             ],
             [
              1,
              "#fde725"
             ]
            ],
            "type": "histogram2dcontour"
           }
          ],
          "mesh3d": [
           {
            "colorbar": {
             "outlinewidth": 1,
             "tickcolor": "rgb(36,36,36)",
             "ticks": "outside"
            },
            "type": "mesh3d"
           }
          ],
          "parcoords": [
           {
            "line": {
             "colorbar": {
              "outlinewidth": 1,
              "tickcolor": "rgb(36,36,36)",
              "ticks": "outside"
             }
            },
            "type": "parcoords"
           }
          ],
          "pie": [
           {
            "automargin": true,
            "type": "pie"
           }
          ],
          "scatter": [
           {
            "fillpattern": {
             "fillmode": "overlay",
             "size": 10,
             "solidity": 0.2
            },
            "type": "scatter"
           }
          ],
          "scatter3d": [
           {
            "line": {
             "colorbar": {
              "outlinewidth": 1,
              "tickcolor": "rgb(36,36,36)",
              "ticks": "outside"
             }
            },
            "marker": {
             "colorbar": {
              "outlinewidth": 1,
              "tickcolor": "rgb(36,36,36)",
              "ticks": "outside"
             }
            },
            "type": "scatter3d"
           }
          ],
          "scattercarpet": [
           {
            "marker": {
             "colorbar": {
              "outlinewidth": 1,
              "tickcolor": "rgb(36,36,36)",
              "ticks": "outside"
             }
            },
            "type": "scattercarpet"
           }
          ],
          "scattergeo": [
           {
            "marker": {
             "colorbar": {
              "outlinewidth": 1,
              "tickcolor": "rgb(36,36,36)",
              "ticks": "outside"
             }
            },
            "type": "scattergeo"
           }
          ],
          "scattergl": [
           {
            "marker": {
             "colorbar": {
              "outlinewidth": 1,
              "tickcolor": "rgb(36,36,36)",
              "ticks": "outside"
             }
            },
            "type": "scattergl"
           }
          ],
          "scattermap": [
           {
            "marker": {
             "colorbar": {
              "outlinewidth": 1,
              "tickcolor": "rgb(36,36,36)",
              "ticks": "outside"
             }
            },
            "type": "scattermap"
           }
          ],
          "scattermapbox": [
           {
            "marker": {
             "colorbar": {
              "outlinewidth": 1,
              "tickcolor": "rgb(36,36,36)",
              "ticks": "outside"
             }
            },
            "type": "scattermapbox"
           }
          ],
          "scatterpolar": [
           {
            "marker": {
             "colorbar": {
              "outlinewidth": 1,
              "tickcolor": "rgb(36,36,36)",
              "ticks": "outside"
             }
            },
            "type": "scatterpolar"
           }
          ],
          "scatterpolargl": [
           {
            "marker": {
             "colorbar": {
              "outlinewidth": 1,
              "tickcolor": "rgb(36,36,36)",
              "ticks": "outside"
             }
            },
            "type": "scatterpolargl"
           }
          ],
          "scatterternary": [
           {
            "marker": {
             "colorbar": {
              "outlinewidth": 1,
              "tickcolor": "rgb(36,36,36)",
              "ticks": "outside"
             }
            },
            "type": "scatterternary"
           }
          ],
          "surface": [
           {
            "colorbar": {
             "outlinewidth": 1,
             "tickcolor": "rgb(36,36,36)",
             "ticks": "outside"
            },
            "colorscale": [
             [
              0,
              "#440154"
             ],
             [
              0.1111111111111111,
              "#482878"
             ],
             [
              0.2222222222222222,
              "#3e4989"
             ],
             [
              0.3333333333333333,
              "#31688e"
             ],
             [
              0.4444444444444444,
              "#26828e"
             ],
             [
              0.5555555555555556,
              "#1f9e89"
             ],
             [
              0.6666666666666666,
              "#35b779"
             ],
             [
              0.7777777777777778,
              "#6ece58"
             ],
             [
              0.8888888888888888,
              "#b5de2b"
             ],
             [
              1,
              "#fde725"
             ]
            ],
            "type": "surface"
           }
          ],
          "table": [
           {
            "cells": {
             "fill": {
              "color": "rgb(237,237,237)"
             },
             "line": {
              "color": "white"
             }
            },
            "header": {
             "fill": {
              "color": "rgb(217,217,217)"
             },
             "line": {
              "color": "white"
             }
            },
            "type": "table"
           }
          ]
         },
         "layout": {
          "annotationdefaults": {
           "arrowhead": 0,
           "arrowwidth": 1
          },
          "autotypenumbers": "strict",
          "coloraxis": {
           "colorbar": {
            "outlinewidth": 1,
            "tickcolor": "rgb(36,36,36)",
            "ticks": "outside"
           }
          },
          "colorscale": {
           "diverging": [
            [
             0,
             "rgb(103,0,31)"
            ],
            [
             0.1,
             "rgb(178,24,43)"
            ],
            [
             0.2,
             "rgb(214,96,77)"
            ],
            [
             0.3,
             "rgb(244,165,130)"
            ],
            [
             0.4,
             "rgb(253,219,199)"
            ],
            [
             0.5,
             "rgb(247,247,247)"
            ],
            [
             0.6,
             "rgb(209,229,240)"
            ],
            [
             0.7,
             "rgb(146,197,222)"
            ],
            [
             0.8,
             "rgb(67,147,195)"
            ],
            [
             0.9,
             "rgb(33,102,172)"
            ],
            [
             1,
             "rgb(5,48,97)"
            ]
           ],
           "sequential": [
            [
             0,
             "#440154"
            ],
            [
             0.1111111111111111,
             "#482878"
            ],
            [
             0.2222222222222222,
             "#3e4989"
            ],
            [
             0.3333333333333333,
             "#31688e"
            ],
            [
             0.4444444444444444,
             "#26828e"
            ],
            [
             0.5555555555555556,
             "#1f9e89"
            ],
            [
             0.6666666666666666,
             "#35b779"
            ],
            [
             0.7777777777777778,
             "#6ece58"
            ],
            [
             0.8888888888888888,
             "#b5de2b"
            ],
            [
             1,
             "#fde725"
            ]
           ],
           "sequentialminus": [
            [
             0,
             "#440154"
            ],
            [
             0.1111111111111111,
             "#482878"
            ],
            [
             0.2222222222222222,
             "#3e4989"
            ],
            [
             0.3333333333333333,
             "#31688e"
            ],
            [
             0.4444444444444444,
             "#26828e"
            ],
            [
             0.5555555555555556,
             "#1f9e89"
            ],
            [
             0.6666666666666666,
             "#35b779"
            ],
            [
             0.7777777777777778,
             "#6ece58"
            ],
            [
             0.8888888888888888,
             "#b5de2b"
            ],
            [
             1,
             "#fde725"
            ]
           ]
          },
          "colorway": [
           "#1F77B4",
           "#FF7F0E",
           "#2CA02C",
           "#D62728",
           "#9467BD",
           "#8C564B",
           "#E377C2",
           "#7F7F7F",
           "#BCBD22",
           "#17BECF"
          ],
          "font": {
           "color": "rgb(36,36,36)"
          },
          "geo": {
           "bgcolor": "white",
           "lakecolor": "white",
           "landcolor": "white",
           "showlakes": true,
           "showland": true,
           "subunitcolor": "white"
          },
          "hoverlabel": {
           "align": "left"
          },
          "hovermode": "closest",
          "mapbox": {
           "style": "light"
          },
          "paper_bgcolor": "white",
          "plot_bgcolor": "white",
          "polar": {
           "angularaxis": {
            "gridcolor": "rgb(232,232,232)",
            "linecolor": "rgb(36,36,36)",
            "showgrid": false,
            "showline": true,
            "ticks": "outside"
           },
           "bgcolor": "white",
           "radialaxis": {
            "gridcolor": "rgb(232,232,232)",
            "linecolor": "rgb(36,36,36)",
            "showgrid": false,
            "showline": true,
            "ticks": "outside"
           }
          },
          "scene": {
           "xaxis": {
            "backgroundcolor": "white",
            "gridcolor": "rgb(232,232,232)",
            "gridwidth": 2,
            "linecolor": "rgb(36,36,36)",
            "showbackground": true,
            "showgrid": false,
            "showline": true,
            "ticks": "outside",
            "zeroline": false,
            "zerolinecolor": "rgb(36,36,36)"
           },
           "yaxis": {
            "backgroundcolor": "white",
            "gridcolor": "rgb(232,232,232)",
            "gridwidth": 2,
            "linecolor": "rgb(36,36,36)",
            "showbackground": true,
            "showgrid": false,
            "showline": true,
            "ticks": "outside",
            "zeroline": false,
            "zerolinecolor": "rgb(36,36,36)"
           },
           "zaxis": {
            "backgroundcolor": "white",
            "gridcolor": "rgb(232,232,232)",
            "gridwidth": 2,
            "linecolor": "rgb(36,36,36)",
            "showbackground": true,
            "showgrid": false,
            "showline": true,
            "ticks": "outside",
            "zeroline": false,
            "zerolinecolor": "rgb(36,36,36)"
           }
          },
          "shapedefaults": {
           "fillcolor": "black",
           "line": {
            "width": 0
           },
           "opacity": 0.3
          },
          "ternary": {
           "aaxis": {
            "gridcolor": "rgb(232,232,232)",
            "linecolor": "rgb(36,36,36)",
            "showgrid": false,
            "showline": true,
            "ticks": "outside"
           },
           "baxis": {
            "gridcolor": "rgb(232,232,232)",
            "linecolor": "rgb(36,36,36)",
            "showgrid": false,
            "showline": true,
            "ticks": "outside"
           },
           "bgcolor": "white",
           "caxis": {
            "gridcolor": "rgb(232,232,232)",
            "linecolor": "rgb(36,36,36)",
            "showgrid": false,
            "showline": true,
            "ticks": "outside"
           }
          },
          "title": {
           "x": 0.05
          },
          "xaxis": {
           "automargin": true,
           "gridcolor": "rgb(232,232,232)",
           "linecolor": "rgb(36,36,36)",
           "showgrid": true,
           "showline": true,
           "ticks": "outside",
           "title": {
            "standoff": 15
           },
           "zeroline": false,
           "zerolinecolor": "rgb(36,36,36)"
          },
          "yaxis": {
           "automargin": true,
           "gridcolor": "rgb(232,232,232)",
           "linecolor": "rgb(36,36,36)",
           "showgrid": true,
           "showline": true,
           "ticks": "outside",
           "title": {
            "standoff": 15
           },
           "zeroline": false,
           "zerolinecolor": "rgb(36,36,36)"
          }
         }
        },
        "title": {
         "text": "Daily Sales with 7-Day Moving Average"
        },
        "xaxis": {
         "title": {
          "text": "Date"
         }
        },
        "yaxis": {
         "title": {
          "text": "Sales Amount ($)"
         }
        }
       }
      }
     },
     "metadata": {},
     "output_type": "display_data"
    }
   ],
   "source": [
    "fig: go.Figure = (\n",
    "    go.Figure()\n",
    "    .add_trace(\n",
    "        go.Scatter(\n",
    "            x=window_df_sql[\"sale_date\"],\n",
    "            y=window_df_sql[\"total_sales\"],\n",
    "            mode=\"lines\",\n",
    "            name=\"Daily Sales\",\n",
    "        )\n",
    "    )\n",
    "    .add_trace(\n",
    "        go.Scatter(\n",
    "            x=window_df_sql[\"sale_date\"],\n",
    "            y=window_df_sql[\"7d_moving_avg\"],\n",
    "            mode=\"lines\",\n",
    "            name=\"7-Day Moving Average\",\n",
    "            line_width=3,\n",
    "        )\n",
    "    )\n",
    "    .update_layout(\n",
    "        title=\"Daily Sales with 7-Day Moving Average\",\n",
    "        xaxis_title=\"Date\",\n",
    "        yaxis_title=\"Sales Amount ($)\",\n",
    "        legend_orientation=\"h\",\n",
    "        legend_yanchor=\"bottom\",\n",
    "        legend_y=1,\n",
    "    )\n",
    ")\n",
    "fig.write_html(\"images/pt4_daily_sales_with_7d_avg_sql.html\", include_plotlyjs=\"cdn\", full_html=True)\n",
    "fig.show()"
   ]
  },
  {
   "cell_type": "markdown",
   "id": "a6c958d1",
   "metadata": {},
   "source": [
    "<div class=\"result\" markdown>"
   ]
  },
  {
   "cell_type": "markdown",
   "id": "321203e9",
   "metadata": {},
   "source": [
    "</div>\n",
    "\n",
    "### PySpark\n",
    "\n",
    "Plotly is not able to interpret PySpark DataFrames directly, so we need to convert the PySpark DataFrame to a Pandas DataFrame before plotting. This can be done using the [`.toPandas()`][pyspark-topandas] method. We can then parse the columns from the Pandas DataFrame to create the traces for the daily sales and the 7-day moving average."
   ]
  },
  {
   "cell_type": "code",
   "execution_count": null,
   "id": "f762a9ef",
   "metadata": {
    "incorrectly_encoded_metadata": "{.pyspark linenums=\"1\" title=\"Plot results\"}"
   },
   "outputs": [
    {
     "name": "stderr",
     "output_type": "stream",
     "text": [
      "25/07/06 12:38:48 WARN WindowExec: No Partition Defined for Window operation! Moving all data to a single partition, this can cause serious performance degradation.\n",
      "25/07/06 12:38:48 WARN WindowExec: No Partition Defined for Window operation! Moving all data to a single partition, this can cause serious performance degradation.\n",
      "25/07/06 12:38:48 WARN WindowExec: No Partition Defined for Window operation! Moving all data to a single partition, this can cause serious performance degradation.\n",
      "25/07/06 12:38:49 WARN WindowExec: No Partition Defined for Window operation! Moving all data to a single partition, this can cause serious performance degradation.\n",
      "25/07/06 12:38:49 WARN WindowExec: No Partition Defined for Window operation! Moving all data to a single partition, this can cause serious performance degradation.\n",
      "25/07/06 12:38:49 WARN WindowExec: No Partition Defined for Window operation! Moving all data to a single partition, this can cause serious performance degradation.\n",
      "25/07/06 12:38:49 WARN WindowExec: No Partition Defined for Window operation! Moving all data to a single partition, this can cause serious performance degradation.\n",
      "25/07/06 12:38:49 WARN WindowExec: No Partition Defined for Window operation! Moving all data to a single partition, this can cause serious performance degradation.\n",
      "25/07/06 12:38:49 WARN WindowExec: No Partition Defined for Window operation! Moving all data to a single partition, this can cause serious performance degradation.\n"
     ]
    },
    {
     "data": {
      "application/vnd.plotly.v1+json": {
       "config": {
        "plotlyServerURL": "https://plot.ly"
       },
       "data": [
        {
         "mode": "lines",
         "name": "Daily Sales",
         "type": "scatter",
         "x": [
          "2023-01-01",
          "2023-01-02",
          "2023-01-03",
          "2023-01-04",
          "2023-01-05",
          "2023-01-06",
          "2023-01-07",
          "2023-01-08",
          "2023-01-09",
          "2023-01-10",
          "2023-01-11",
          "2023-01-12",
          "2023-01-13",
          "2023-01-14",
          "2023-01-15",
          "2023-01-16",
          "2023-01-17",
          "2023-01-18",
          "2023-01-19",
          "2023-01-20",
          "2023-01-21",
          "2023-01-22",
          "2023-01-23",
          "2023-01-24",
          "2023-01-25",
          "2023-01-26",
          "2023-01-27",
          "2023-01-28",
          "2023-01-29",
          "2023-01-30",
          "2023-01-31",
          "2023-02-01",
          "2023-02-02",
          "2023-02-03",
          "2023-02-04",
          "2023-02-05",
          "2023-02-06",
          "2023-02-07",
          "2023-02-08",
          "2023-02-09",
          "2023-02-10",
          "2023-02-11",
          "2023-02-12",
          "2023-02-13",
          "2023-02-14",
          "2023-02-15",
          "2023-02-16",
          "2023-02-17",
          "2023-02-18",
          "2023-02-19",
          "2023-02-20",
          "2023-02-21",
          "2023-02-22",
          "2023-02-23",
          "2023-02-24",
          "2023-02-25",
          "2023-02-26",
          "2023-02-27",
          "2023-02-28",
          "2023-03-01",
          "2023-03-02",
          "2023-03-03",
          "2023-03-04",
          "2023-03-05",
          "2023-03-06",
          "2023-03-07",
          "2023-03-08",
          "2023-03-09",
          "2023-03-10",
          "2023-03-11",
          "2023-03-12",
          "2023-03-13",
          "2023-03-14",
          "2023-03-15",
          "2023-03-16",
          "2023-03-17",
          "2023-03-18",
          "2023-03-19",
          "2023-03-20",
          "2023-03-21",
          "2023-03-22",
          "2023-03-23",
          "2023-03-24",
          "2023-03-25",
          "2023-03-26",
          "2023-03-27",
          "2023-03-28",
          "2023-03-29",
          "2023-03-30",
          "2023-03-31",
          "2023-04-01",
          "2023-04-02",
          "2023-04-03",
          "2023-04-04",
          "2023-04-05",
          "2023-04-06",
          "2023-04-07",
          "2023-04-08",
          "2023-04-09",
          "2023-04-10"
         ],
         "y": {
          "bdata": "XI/C9SisfkDXo3A9Cl98QK5H4XoUFI9APQrXo3AFZ0CkcD0K1+M7QDMzMzMzL39AKVyPwvVgZ0DNzMzMzEx3QKRwPQrXVYdApHA9CtedhkBI4XoUrq9zQHsUrkfhGIFApHA9CtcNgED2KFyPwv+DQI/C9ShcH3BA9ihcj8KPgkDNzMzMzJiOQFK4HoXrvX5AuB6F61FYjEDNzMzMzIB7QOF6FK5HSXZAMzMzMzNFhECkcD0K1wGFQArXo3A9DItAXI/C9Si8bUAzMzMzM4N/QArXo3A9AoJAKVyPwvUWiED2KFyPwpVKQHsUrkfhFI9AAAAAAAC0fUBcj8L1KOxxQOF6FK5HpYtAUrgehetxh0C4HoXrUcyNQNejcD0KF3VAUrgehetpgUDD9ShcjwSCQArXo3A9pI5A9ihcj8IlVUAK16NwPYpzQAAAAAAA4GhAcT0K16M8cUB7FK5H4aZ+QI/C9Shcr3dApHA9CtcLeUBcj8L1KG6KQPYoXI/CFY1APQrXo3DtU0DD9ShcjxprQD0K16NwE4VAKVyPwvXQdkBSuB6F61lwQD0K16Nw5XJA4XoUrkeVdEA9CtejcJGKQLgehetRKGJAw/UoXI8+hkC4HoXrUWqBQM3MzMzM+HJA4XoUrkeZekAK16NwPXpwQDMzMzMzO4NAUrgeheuxVkDD9Shcj0IuQClcj8L1vINAw/UoXI9KaUAfhetRuA5UQIXrUbgeLXlA4XoUrkchTkAAAAAAAL6LQOxRuB6Fq0JAcT0K16M4gkA9CtejcMF7QBSuR+F6GoVAUrgehevtdEBI4XoUrm9kQFyPwvUosI5AuB6F61FEikBmZmZmZu6KQAAAAAAAHHBAmpmZmZk5SEBI4XoUrmNzQEjhehSu7YBArkfhehTWdEAfhetRuOyJQOF6FK5HbXFAzczMzMwsjkDXo3A9Cut8QM3MzMzMXIpArkfhehROaUCkcD0K1xN6QFyPwvUo9IVA16NwPQpfYkA9CtejcK1hQB+F61G4To5AmpmZmZlrhkAUrkfhelRJQOF6FK5HTXlA16NwPQpze0A=",
          "dtype": "f8"
         }
        },
        {
         "line": {
          "width": 3
         },
         "mode": "lines",
         "name": "7-Day Moving Average",
         "type": "scatter",
         "x": [
          "2023-01-01",
          "2023-01-02",
          "2023-01-03",
          "2023-01-04",
          "2023-01-05",
          "2023-01-06",
          "2023-01-07",
          "2023-01-08",
          "2023-01-09",
          "2023-01-10",
          "2023-01-11",
          "2023-01-12",
          "2023-01-13",
          "2023-01-14",
          "2023-01-15",
          "2023-01-16",
          "2023-01-17",
          "2023-01-18",
          "2023-01-19",
          "2023-01-20",
          "2023-01-21",
          "2023-01-22",
          "2023-01-23",
          "2023-01-24",
          "2023-01-25",
          "2023-01-26",
          "2023-01-27",
          "2023-01-28",
          "2023-01-29",
          "2023-01-30",
          "2023-01-31",
          "2023-02-01",
          "2023-02-02",
          "2023-02-03",
          "2023-02-04",
          "2023-02-05",
          "2023-02-06",
          "2023-02-07",
          "2023-02-08",
          "2023-02-09",
          "2023-02-10",
          "2023-02-11",
          "2023-02-12",
          "2023-02-13",
          "2023-02-14",
          "2023-02-15",
          "2023-02-16",
          "2023-02-17",
          "2023-02-18",
          "2023-02-19",
          "2023-02-20",
          "2023-02-21",
          "2023-02-22",
          "2023-02-23",
          "2023-02-24",
          "2023-02-25",
          "2023-02-26",
          "2023-02-27",
          "2023-02-28",
          "2023-03-01",
          "2023-03-02",
          "2023-03-03",
          "2023-03-04",
          "2023-03-05",
          "2023-03-06",
          "2023-03-07",
          "2023-03-08",
          "2023-03-09",
          "2023-03-10",
          "2023-03-11",
          "2023-03-12",
          "2023-03-13",
          "2023-03-14",
          "2023-03-15",
          "2023-03-16",
          "2023-03-17",
          "2023-03-18",
          "2023-03-19",
          "2023-03-20",
          "2023-03-21",
          "2023-03-22",
          "2023-03-23",
          "2023-03-24",
          "2023-03-25",
          "2023-03-26",
          "2023-03-27",
          "2023-03-28",
          "2023-03-29",
          "2023-03-30",
          "2023-03-31",
          "2023-04-01",
          "2023-04-02",
          "2023-04-03",
          "2023-04-04",
          "2023-04-05",
          "2023-04-06",
          "2023-04-07",
          "2023-04-08",
          "2023-04-09",
          "2023-04-10"
         ],
         "y": {
          "bdata": "XI/C9SisfkCamZmZmYV9QG2g0wY6M4RA9ihcj8KWgEDy0k1iEOR6QKcNdNpAm3tAkiRJkiRVeUDtUbgehUd4QLNa3hjB5HpAHtRBHdR5eEDaBcSm0qR5QCA2lYacR35AI5jo72RpfkDGV3zFVzqBQHiyWt4Yt4BAqYM6qIMIgEDTkHOfXSyBQC8gNpWG9oFAN0Yw0d+Rg0DBRH8nqz2DQIr+TlbL+YFAq+WNEUy4g0Dp72S1vBGEQF/xFV/xj4NAwUR/J6ttgkDhehSuR6GAQK/4iq/4PIFAgNhUGnIWg0BFfyer5W2AQD+7gNhU3oFAq+WNEUwggEBdj8L1KFiAQLD4iq/4CoJAAmJTacjRgkA7WS1vjKKDQLdt27Zt54RAjWCiv5PzgkAWX/EVX2eDQJFzn11AgIZAv+IrvuLtgkB8xVd8xfmAQHoUrkfhNntAbSoNOfepekDTQR3UQRF6QItgor+TTXhAxld8xVcgc0BqyLnPLux5QBsjmOjvcH9AnqyWN0ZgfkBltbwxgtl9QK5H4XoUfn9AMYKJ/k5ef0C4HoXrUSB+QPBktbwxRnlAE/2drJbnc0B+dgGxqch6QGt5YwQTJXpAtrwxgol6ekBRuB6F6zF8QPYoXI/CkXxAxabSkHOrfUDvswuITRV9QH52AbGp/HpAUFbLGyOAekBWGnLus0d0QJqZmZmZ8XRACtejcD0KdED0d7Ja3vRwQLwxgon+MnJAdwGxqTR8akBwjGCiv1t0QKmDOqiDjnRABsSm0pAfdEBdj8L1KEh2QMZXfMVXmHtAUAd1UAf9ekA1lYac++h7QAh1UAd1wHxA4yu+4iv2gUCY6O9ktTSDQG+MYKK/X4JABRP9nawmf0BL9HeyWu5+QLZt27ZtJ4FAkXOfXUCEfEBBbCoNOWt8QB+F61G4NndAfnYBsamIfUBvjGCiv52AQHZQB3VQ/4JAjWCiv5N7gUAw0d/JatuBQPFktbwxSoFA3hjBRH+zgEAYwUR/Jwt6QE30d7Jakn5Ah5z77AJyfUDyFV/xFRd8QB6F61G4+ntA2gXEptKgeUA=",
          "dtype": "f8"
         }
        }
       ],
       "layout": {
        "legend": {
         "orientation": "h",
         "y": 1,
         "yanchor": "bottom"
        },
        "template": {
         "data": {
          "bar": [
           {
            "error_x": {
             "color": "rgb(36,36,36)"
            },
            "error_y": {
             "color": "rgb(36,36,36)"
            },
            "marker": {
             "line": {
              "color": "white",
              "width": 0.5
             },
             "pattern": {
              "fillmode": "overlay",
              "size": 10,
              "solidity": 0.2
             }
            },
            "type": "bar"
           }
          ],
          "barpolar": [
           {
            "marker": {
             "line": {
              "color": "white",
              "width": 0.5
             },
             "pattern": {
              "fillmode": "overlay",
              "size": 10,
              "solidity": 0.2
             }
            },
            "type": "barpolar"
           }
          ],
          "carpet": [
           {
            "aaxis": {
             "endlinecolor": "rgb(36,36,36)",
             "gridcolor": "white",
             "linecolor": "white",
             "minorgridcolor": "white",
             "startlinecolor": "rgb(36,36,36)"
            },
            "baxis": {
             "endlinecolor": "rgb(36,36,36)",
             "gridcolor": "white",
             "linecolor": "white",
             "minorgridcolor": "white",
             "startlinecolor": "rgb(36,36,36)"
            },
            "type": "carpet"
           }
          ],
          "choropleth": [
           {
            "colorbar": {
             "outlinewidth": 1,
             "tickcolor": "rgb(36,36,36)",
             "ticks": "outside"
            },
            "type": "choropleth"
           }
          ],
          "contour": [
           {
            "colorbar": {
             "outlinewidth": 1,
             "tickcolor": "rgb(36,36,36)",
             "ticks": "outside"
            },
            "colorscale": [
             [
              0,
              "#440154"
             ],
             [
              0.1111111111111111,
              "#482878"
             ],
             [
              0.2222222222222222,
              "#3e4989"
             ],
             [
              0.3333333333333333,
              "#31688e"
             ],
             [
              0.4444444444444444,
              "#26828e"
             ],
             [
              0.5555555555555556,
              "#1f9e89"
             ],
             [
              0.6666666666666666,
              "#35b779"
             ],
             [
              0.7777777777777778,
              "#6ece58"
             ],
             [
              0.8888888888888888,
              "#b5de2b"
             ],
             [
              1,
              "#fde725"
             ]
            ],
            "type": "contour"
           }
          ],
          "contourcarpet": [
           {
            "colorbar": {
             "outlinewidth": 1,
             "tickcolor": "rgb(36,36,36)",
             "ticks": "outside"
            },
            "type": "contourcarpet"
           }
          ],
          "heatmap": [
           {
            "colorbar": {
             "outlinewidth": 1,
             "tickcolor": "rgb(36,36,36)",
             "ticks": "outside"
            },
            "colorscale": [
             [
              0,
              "#440154"
             ],
             [
              0.1111111111111111,
              "#482878"
             ],
             [
              0.2222222222222222,
              "#3e4989"
             ],
             [
              0.3333333333333333,
              "#31688e"
             ],
             [
              0.4444444444444444,
              "#26828e"
             ],
             [
              0.5555555555555556,
              "#1f9e89"
             ],
             [
              0.6666666666666666,
              "#35b779"
             ],
             [
              0.7777777777777778,
              "#6ece58"
             ],
             [
              0.8888888888888888,
              "#b5de2b"
             ],
             [
              1,
              "#fde725"
             ]
            ],
            "type": "heatmap"
           }
          ],
          "histogram": [
           {
            "marker": {
             "line": {
              "color": "white",
              "width": 0.6
             }
            },
            "type": "histogram"
           }
          ],
          "histogram2d": [
           {
            "colorbar": {
             "outlinewidth": 1,
             "tickcolor": "rgb(36,36,36)",
             "ticks": "outside"
            },
            "colorscale": [
             [
              0,
              "#440154"
             ],
             [
              0.1111111111111111,
              "#482878"
             ],
             [
              0.2222222222222222,
              "#3e4989"
             ],
             [
              0.3333333333333333,
              "#31688e"
             ],
             [
              0.4444444444444444,
              "#26828e"
             ],
             [
              0.5555555555555556,
              "#1f9e89"
             ],
             [
              0.6666666666666666,
              "#35b779"
             ],
             [
              0.7777777777777778,
              "#6ece58"
             ],
             [
              0.8888888888888888,
              "#b5de2b"
             ],
             [
              1,
              "#fde725"
             ]
            ],
            "type": "histogram2d"
           }
          ],
          "histogram2dcontour": [
           {
            "colorbar": {
             "outlinewidth": 1,
             "tickcolor": "rgb(36,36,36)",
             "ticks": "outside"
            },
            "colorscale": [
             [
              0,
              "#440154"
             ],
             [
              0.1111111111111111,
              "#482878"
             ],
             [
              0.2222222222222222,
              "#3e4989"
             ],
             [
              0.3333333333333333,
              "#31688e"
             ],
             [
              0.4444444444444444,
              "#26828e"
             ],
             [
              0.5555555555555556,
              "#1f9e89"
             ],
             [
              0.6666666666666666,
              "#35b779"
             ],
             [
              0.7777777777777778,
              "#6ece58"
             ],
             [
              0.8888888888888888,
              "#b5de2b"
             ],
             [
              1,
              "#fde725"
             ]
            ],
            "type": "histogram2dcontour"
           }
          ],
          "mesh3d": [
           {
            "colorbar": {
             "outlinewidth": 1,
             "tickcolor": "rgb(36,36,36)",
             "ticks": "outside"
            },
            "type": "mesh3d"
           }
          ],
          "parcoords": [
           {
            "line": {
             "colorbar": {
              "outlinewidth": 1,
              "tickcolor": "rgb(36,36,36)",
              "ticks": "outside"
             }
            },
            "type": "parcoords"
           }
          ],
          "pie": [
           {
            "automargin": true,
            "type": "pie"
           }
          ],
          "scatter": [
           {
            "fillpattern": {
             "fillmode": "overlay",
             "size": 10,
             "solidity": 0.2
            },
            "type": "scatter"
           }
          ],
          "scatter3d": [
           {
            "line": {
             "colorbar": {
              "outlinewidth": 1,
              "tickcolor": "rgb(36,36,36)",
              "ticks": "outside"
             }
            },
            "marker": {
             "colorbar": {
              "outlinewidth": 1,
              "tickcolor": "rgb(36,36,36)",
              "ticks": "outside"
             }
            },
            "type": "scatter3d"
           }
          ],
          "scattercarpet": [
           {
            "marker": {
             "colorbar": {
              "outlinewidth": 1,
              "tickcolor": "rgb(36,36,36)",
              "ticks": "outside"
             }
            },
            "type": "scattercarpet"
           }
          ],
          "scattergeo": [
           {
            "marker": {
             "colorbar": {
              "outlinewidth": 1,
              "tickcolor": "rgb(36,36,36)",
              "ticks": "outside"
             }
            },
            "type": "scattergeo"
           }
          ],
          "scattergl": [
           {
            "marker": {
             "colorbar": {
              "outlinewidth": 1,
              "tickcolor": "rgb(36,36,36)",
              "ticks": "outside"
             }
            },
            "type": "scattergl"
           }
          ],
          "scattermap": [
           {
            "marker": {
             "colorbar": {
              "outlinewidth": 1,
              "tickcolor": "rgb(36,36,36)",
              "ticks": "outside"
             }
            },
            "type": "scattermap"
           }
          ],
          "scattermapbox": [
           {
            "marker": {
             "colorbar": {
              "outlinewidth": 1,
              "tickcolor": "rgb(36,36,36)",
              "ticks": "outside"
             }
            },
            "type": "scattermapbox"
           }
          ],
          "scatterpolar": [
           {
            "marker": {
             "colorbar": {
              "outlinewidth": 1,
              "tickcolor": "rgb(36,36,36)",
              "ticks": "outside"
             }
            },
            "type": "scatterpolar"
           }
          ],
          "scatterpolargl": [
           {
            "marker": {
             "colorbar": {
              "outlinewidth": 1,
              "tickcolor": "rgb(36,36,36)",
              "ticks": "outside"
             }
            },
            "type": "scatterpolargl"
           }
          ],
          "scatterternary": [
           {
            "marker": {
             "colorbar": {
              "outlinewidth": 1,
              "tickcolor": "rgb(36,36,36)",
              "ticks": "outside"
             }
            },
            "type": "scatterternary"
           }
          ],
          "surface": [
           {
            "colorbar": {
             "outlinewidth": 1,
             "tickcolor": "rgb(36,36,36)",
             "ticks": "outside"
            },
            "colorscale": [
             [
              0,
              "#440154"
             ],
             [
              0.1111111111111111,
              "#482878"
             ],
             [
              0.2222222222222222,
              "#3e4989"
             ],
             [
              0.3333333333333333,
              "#31688e"
             ],
             [
              0.4444444444444444,
              "#26828e"
             ],
             [
              0.5555555555555556,
              "#1f9e89"
             ],
             [
              0.6666666666666666,
              "#35b779"
             ],
             [
              0.7777777777777778,
              "#6ece58"
             ],
             [
              0.8888888888888888,
              "#b5de2b"
             ],
             [
              1,
              "#fde725"
             ]
            ],
            "type": "surface"
           }
          ],
          "table": [
           {
            "cells": {
             "fill": {
              "color": "rgb(237,237,237)"
             },
             "line": {
              "color": "white"
             }
            },
            "header": {
             "fill": {
              "color": "rgb(217,217,217)"
             },
             "line": {
              "color": "white"
             }
            },
            "type": "table"
           }
          ]
         },
         "layout": {
          "annotationdefaults": {
           "arrowhead": 0,
           "arrowwidth": 1
          },
          "autotypenumbers": "strict",
          "coloraxis": {
           "colorbar": {
            "outlinewidth": 1,
            "tickcolor": "rgb(36,36,36)",
            "ticks": "outside"
           }
          },
          "colorscale": {
           "diverging": [
            [
             0,
             "rgb(103,0,31)"
            ],
            [
             0.1,
             "rgb(178,24,43)"
            ],
            [
             0.2,
             "rgb(214,96,77)"
            ],
            [
             0.3,
             "rgb(244,165,130)"
            ],
            [
             0.4,
             "rgb(253,219,199)"
            ],
            [
             0.5,
             "rgb(247,247,247)"
            ],
            [
             0.6,
             "rgb(209,229,240)"
            ],
            [
             0.7,
             "rgb(146,197,222)"
            ],
            [
             0.8,
             "rgb(67,147,195)"
            ],
            [
             0.9,
             "rgb(33,102,172)"
            ],
            [
             1,
             "rgb(5,48,97)"
            ]
           ],
           "sequential": [
            [
             0,
             "#440154"
            ],
            [
             0.1111111111111111,
             "#482878"
            ],
            [
             0.2222222222222222,
             "#3e4989"
            ],
            [
             0.3333333333333333,
             "#31688e"
            ],
            [
             0.4444444444444444,
             "#26828e"
            ],
            [
             0.5555555555555556,
             "#1f9e89"
            ],
            [
             0.6666666666666666,
             "#35b779"
            ],
            [
             0.7777777777777778,
             "#6ece58"
            ],
            [
             0.8888888888888888,
             "#b5de2b"
            ],
            [
             1,
             "#fde725"
            ]
           ],
           "sequentialminus": [
            [
             0,
             "#440154"
            ],
            [
             0.1111111111111111,
             "#482878"
            ],
            [
             0.2222222222222222,
             "#3e4989"
            ],
            [
             0.3333333333333333,
             "#31688e"
            ],
            [
             0.4444444444444444,
             "#26828e"
            ],
            [
             0.5555555555555556,
             "#1f9e89"
            ],
            [
             0.6666666666666666,
             "#35b779"
            ],
            [
             0.7777777777777778,
             "#6ece58"
            ],
            [
             0.8888888888888888,
             "#b5de2b"
            ],
            [
             1,
             "#fde725"
            ]
           ]
          },
          "colorway": [
           "#1F77B4",
           "#FF7F0E",
           "#2CA02C",
           "#D62728",
           "#9467BD",
           "#8C564B",
           "#E377C2",
           "#7F7F7F",
           "#BCBD22",
           "#17BECF"
          ],
          "font": {
           "color": "rgb(36,36,36)"
          },
          "geo": {
           "bgcolor": "white",
           "lakecolor": "white",
           "landcolor": "white",
           "showlakes": true,
           "showland": true,
           "subunitcolor": "white"
          },
          "hoverlabel": {
           "align": "left"
          },
          "hovermode": "closest",
          "mapbox": {
           "style": "light"
          },
          "paper_bgcolor": "white",
          "plot_bgcolor": "white",
          "polar": {
           "angularaxis": {
            "gridcolor": "rgb(232,232,232)",
            "linecolor": "rgb(36,36,36)",
            "showgrid": false,
            "showline": true,
            "ticks": "outside"
           },
           "bgcolor": "white",
           "radialaxis": {
            "gridcolor": "rgb(232,232,232)",
            "linecolor": "rgb(36,36,36)",
            "showgrid": false,
            "showline": true,
            "ticks": "outside"
           }
          },
          "scene": {
           "xaxis": {
            "backgroundcolor": "white",
            "gridcolor": "rgb(232,232,232)",
            "gridwidth": 2,
            "linecolor": "rgb(36,36,36)",
            "showbackground": true,
            "showgrid": false,
            "showline": true,
            "ticks": "outside",
            "zeroline": false,
            "zerolinecolor": "rgb(36,36,36)"
           },
           "yaxis": {
            "backgroundcolor": "white",
            "gridcolor": "rgb(232,232,232)",
            "gridwidth": 2,
            "linecolor": "rgb(36,36,36)",
            "showbackground": true,
            "showgrid": false,
            "showline": true,
            "ticks": "outside",
            "zeroline": false,
            "zerolinecolor": "rgb(36,36,36)"
           },
           "zaxis": {
            "backgroundcolor": "white",
            "gridcolor": "rgb(232,232,232)",
            "gridwidth": 2,
            "linecolor": "rgb(36,36,36)",
            "showbackground": true,
            "showgrid": false,
            "showline": true,
            "ticks": "outside",
            "zeroline": false,
            "zerolinecolor": "rgb(36,36,36)"
           }
          },
          "shapedefaults": {
           "fillcolor": "black",
           "line": {
            "width": 0
           },
           "opacity": 0.3
          },
          "ternary": {
           "aaxis": {
            "gridcolor": "rgb(232,232,232)",
            "linecolor": "rgb(36,36,36)",
            "showgrid": false,
            "showline": true,
            "ticks": "outside"
           },
           "baxis": {
            "gridcolor": "rgb(232,232,232)",
            "linecolor": "rgb(36,36,36)",
            "showgrid": false,
            "showline": true,
            "ticks": "outside"
           },
           "bgcolor": "white",
           "caxis": {
            "gridcolor": "rgb(232,232,232)",
            "linecolor": "rgb(36,36,36)",
            "showgrid": false,
            "showline": true,
            "ticks": "outside"
           }
          },
          "title": {
           "x": 0.05
          },
          "xaxis": {
           "automargin": true,
           "gridcolor": "rgb(232,232,232)",
           "linecolor": "rgb(36,36,36)",
           "showgrid": true,
           "showline": true,
           "ticks": "outside",
           "title": {
            "standoff": 15
           },
           "zeroline": false,
           "zerolinecolor": "rgb(36,36,36)"
          },
          "yaxis": {
           "automargin": true,
           "gridcolor": "rgb(232,232,232)",
           "linecolor": "rgb(36,36,36)",
           "showgrid": true,
           "showline": true,
           "ticks": "outside",
           "title": {
            "standoff": 15
           },
           "zeroline": false,
           "zerolinecolor": "rgb(36,36,36)"
          }
         }
        },
        "title": {
         "text": "Daily Sales with 7-Day Moving Average"
        },
        "xaxis": {
         "title": {
          "text": "Date"
         }
        },
        "yaxis": {
         "title": {
          "text": "Sales Amount ($)"
         }
        }
       }
      }
     },
     "metadata": {},
     "output_type": "display_data"
    }
   ],
   "source": [
    "fig: go.Figure = (\n",
    "    go.Figure()\n",
    "    .add_trace(\n",
    "        go.Scatter(\n",
    "            x=daily_sales_ps.toPandas()[\"date\"],\n",
    "            y=daily_sales_ps.toPandas()[\"total_sales\"],\n",
    "            mode=\"lines\",\n",
    "            name=\"Daily Sales\",\n",
    "        )\n",
    "    )\n",
    "    .add_trace(\n",
    "        go.Scatter(\n",
    "            x=daily_sales_ps.toPandas()[\"date\"],\n",
    "            y=daily_sales_ps.toPandas()[\"7d_moving_avg\"],\n",
    "            mode=\"lines\",\n",
    "            name=\"7-Day Moving Average\",\n",
    "            line_width=3,\n",
    "        ),\n",
    "    )\n",
    "    .update_layout(\n",
    "        title=\"Daily Sales with 7-Day Moving Average\",\n",
    "        xaxis_title=\"Date\",\n",
    "        yaxis_title=\"Sales Amount ($)\",\n",
    "        legend_orientation=\"h\",\n",
    "        legend_yanchor=\"bottom\",\n",
    "        legend_y=1,\n",
    "    )\n",
    ")\n",
    "fig.write_html(\"images/pt4_daily_sales_with_7d_avg_ps.html\", include_plotlyjs=\"cdn\", full_html=True)\n",
    "fig.show()"
   ]
  },
  {
   "cell_type": "markdown",
   "id": "f0a72671",
   "metadata": {},
   "source": [
    "<div class=\"result\" markdown>"
   ]
  },
  {
   "cell_type": "markdown",
   "id": "af2fd78c",
   "metadata": {},
   "source": [
    "</div>\n",
    "\n",
    "### Polars\n",
    "\n",
    "Plotly is easily able to handle Polars DataFrames, so we can directly parse the columns from the DataFrame to create the traces for the daily sales and the 7-day moving average."
   ]
  },
  {
   "cell_type": "code",
   "execution_count": null,
   "id": "1de356d3",
   "metadata": {
    "incorrectly_encoded_metadata": "{.polars linenums=\"1\" title=\"Plot results\"}"
   },
   "outputs": [
    {
     "data": {
      "application/vnd.plotly.v1+json": {
       "config": {
        "plotlyServerURL": "https://plot.ly"
       },
       "data": [
        {
         "mode": "lines",
         "name": "Daily Sales",
         "type": "scatter",
         "x": [
          "2023-01-01",
          "2023-01-02",
          "2023-01-03",
          "2023-01-04",
          "2023-01-05",
          "2023-01-06",
          "2023-01-07",
          "2023-01-08",
          "2023-01-09",
          "2023-01-10",
          "2023-01-11",
          "2023-01-12",
          "2023-01-13",
          "2023-01-14",
          "2023-01-15",
          "2023-01-16",
          "2023-01-17",
          "2023-01-18",
          "2023-01-19",
          "2023-01-20",
          "2023-01-21",
          "2023-01-22",
          "2023-01-23",
          "2023-01-24",
          "2023-01-25",
          "2023-01-26",
          "2023-01-27",
          "2023-01-28",
          "2023-01-29",
          "2023-01-30",
          "2023-01-31",
          "2023-02-01",
          "2023-02-02",
          "2023-02-03",
          "2023-02-04",
          "2023-02-05",
          "2023-02-06",
          "2023-02-07",
          "2023-02-08",
          "2023-02-09",
          "2023-02-10",
          "2023-02-11",
          "2023-02-12",
          "2023-02-13",
          "2023-02-14",
          "2023-02-15",
          "2023-02-16",
          "2023-02-17",
          "2023-02-18",
          "2023-02-19",
          "2023-02-20",
          "2023-02-21",
          "2023-02-22",
          "2023-02-23",
          "2023-02-24",
          "2023-02-25",
          "2023-02-26",
          "2023-02-27",
          "2023-02-28",
          "2023-03-01",
          "2023-03-02",
          "2023-03-03",
          "2023-03-04",
          "2023-03-05",
          "2023-03-06",
          "2023-03-07",
          "2023-03-08",
          "2023-03-09",
          "2023-03-10",
          "2023-03-11",
          "2023-03-12",
          "2023-03-13",
          "2023-03-14",
          "2023-03-15",
          "2023-03-16",
          "2023-03-17",
          "2023-03-18",
          "2023-03-19",
          "2023-03-20",
          "2023-03-21",
          "2023-03-22",
          "2023-03-23",
          "2023-03-24",
          "2023-03-25",
          "2023-03-26",
          "2023-03-27",
          "2023-03-28",
          "2023-03-29",
          "2023-03-30",
          "2023-03-31",
          "2023-04-01",
          "2023-04-02",
          "2023-04-03",
          "2023-04-04",
          "2023-04-05",
          "2023-04-06",
          "2023-04-07",
          "2023-04-08",
          "2023-04-09",
          "2023-04-10"
         ],
         "y": {
          "bdata": "XI/C9SisfkDXo3A9Cl98QK5H4XoUFI9APQrXo3AFZ0CkcD0K1+M7QDMzMzMzL39AKVyPwvVgZ0DNzMzMzEx3QKRwPQrXVYdApHA9CtedhkBI4XoUrq9zQHsUrkfhGIFApHA9CtcNgED2KFyPwv+DQI/C9ShcH3BA9ihcj8KPgkDNzMzMzJiOQFK4HoXrvX5AuB6F61FYjEDNzMzMzIB7QOF6FK5HSXZAMzMzMzNFhECkcD0K1wGFQArXo3A9DItAXI/C9Si8bUAzMzMzM4N/QArXo3A9AoJAKVyPwvUWiED2KFyPwpVKQHsUrkfhFI9AAAAAAAC0fUBcj8L1KOxxQOF6FK5HpYtAUrgehetxh0C4HoXrUcyNQNejcD0KF3VAUrgehetpgUDD9ShcjwSCQArXo3A9pI5A9ihcj8IlVUAK16NwPYpzQAAAAAAA4GhAcT0K16M8cUB7FK5H4aZ+QI/C9Shcr3dApHA9CtcLeUBcj8L1KG6KQPYoXI/CFY1APQrXo3DtU0DD9ShcjxprQD0K16NwE4VAKVyPwvXQdkBSuB6F61lwQD0K16Nw5XJA4XoUrkeVdEA9CtejcJGKQLgehetRKGJAw/UoXI8+hkC4HoXrUWqBQM3MzMzM+HJA4XoUrkeZekAK16NwPXpwQDMzMzMzO4NAUrgeheuxVkDD9Shcj0IuQClcj8L1vINAw/UoXI9KaUAfhetRuA5UQIXrUbgeLXlA4XoUrkchTkAAAAAAAL6LQOxRuB6Fq0JAcT0K16M4gkA9CtejcMF7QBSuR+F6GoVAUrgehevtdEBI4XoUrm9kQFyPwvUosI5AuB6F61FEikBmZmZmZu6KQAAAAAAAHHBAmpmZmZk5SEBI4XoUrmNzQEjhehSu7YBArkfhehTWdEAfhetRuOyJQOF6FK5HbXFAzczMzMwsjkDXo3A9Cut8QM3MzMzMXIpArkfhehROaUCkcD0K1xN6QFyPwvUo9IVA16NwPQpfYkA9CtejcK1hQB+F61G4To5AmpmZmZlrhkAUrkfhelRJQOF6FK5HTXlA16NwPQpze0A=",
          "dtype": "f8"
         }
        },
        {
         "line": {
          "width": 3
         },
         "mode": "lines",
         "name": "7-Day Moving Average",
         "type": "scatter",
         "x": [
          "2023-01-01",
          "2023-01-02",
          "2023-01-03",
          "2023-01-04",
          "2023-01-05",
          "2023-01-06",
          "2023-01-07",
          "2023-01-08",
          "2023-01-09",
          "2023-01-10",
          "2023-01-11",
          "2023-01-12",
          "2023-01-13",
          "2023-01-14",
          "2023-01-15",
          "2023-01-16",
          "2023-01-17",
          "2023-01-18",
          "2023-01-19",
          "2023-01-20",
          "2023-01-21",
          "2023-01-22",
          "2023-01-23",
          "2023-01-24",
          "2023-01-25",
          "2023-01-26",
          "2023-01-27",
          "2023-01-28",
          "2023-01-29",
          "2023-01-30",
          "2023-01-31",
          "2023-02-01",
          "2023-02-02",
          "2023-02-03",
          "2023-02-04",
          "2023-02-05",
          "2023-02-06",
          "2023-02-07",
          "2023-02-08",
          "2023-02-09",
          "2023-02-10",
          "2023-02-11",
          "2023-02-12",
          "2023-02-13",
          "2023-02-14",
          "2023-02-15",
          "2023-02-16",
          "2023-02-17",
          "2023-02-18",
          "2023-02-19",
          "2023-02-20",
          "2023-02-21",
          "2023-02-22",
          "2023-02-23",
          "2023-02-24",
          "2023-02-25",
          "2023-02-26",
          "2023-02-27",
          "2023-02-28",
          "2023-03-01",
          "2023-03-02",
          "2023-03-03",
          "2023-03-04",
          "2023-03-05",
          "2023-03-06",
          "2023-03-07",
          "2023-03-08",
          "2023-03-09",
          "2023-03-10",
          "2023-03-11",
          "2023-03-12",
          "2023-03-13",
          "2023-03-14",
          "2023-03-15",
          "2023-03-16",
          "2023-03-17",
          "2023-03-18",
          "2023-03-19",
          "2023-03-20",
          "2023-03-21",
          "2023-03-22",
          "2023-03-23",
          "2023-03-24",
          "2023-03-25",
          "2023-03-26",
          "2023-03-27",
          "2023-03-28",
          "2023-03-29",
          "2023-03-30",
          "2023-03-31",
          "2023-04-01",
          "2023-04-02",
          "2023-04-03",
          "2023-04-04",
          "2023-04-05",
          "2023-04-06",
          "2023-04-07",
          "2023-04-08",
          "2023-04-09",
          "2023-04-10"
         ],
         "y": {
          "bdata": "XI/C9SisfkCamZmZmYV9QG2g0wY6M4RA9ihcj8KWgEDy0k1iEOR6QKgNdNpAm3tAkiRJkiRVeUDrUbgehUd4QLJa3hjB5HpAHtRBHdR5eEDaBcSm0qR5QCA2lYacR35AI5jo72RpfkDGV3zFVzqBQHiyWt4Yt4BAqYM6qIMIgEDTkHOfXSyBQC8gNpWG9oFAOEYw0d+Rg0DBRH8nqz2DQIr+TlbL+YFAq+WNEUy4g0Dp72S1vBGEQF/xFV/xj4NAwUR/J6ttgkDhehSuR6GAQK/4iq/4PIFAgNhUGnIWg0BFfyer5W2AQD+7gNhU3oFAq+WNEUwggEBcj8L1KFiAQK/4iq/4CoJAAmJTacjRgkA7WS1vjKKDQLdt27Zt54RAjWCiv5PzgkAWX/EVX2eDQJFzn11AgIZAvuIrvuLtgkB9xVd8xfmAQHsUrkfhNntAbSoNOfepekDVQR3UQRF6QI1gor+TTXhAxld8xVcgc0BpyLnPLux5QBsjmOjvcH9AnqyWN0ZgfkBltbwxgtl9QK5H4XoUfn9AMoKJ/k5ef0C4HoXrUSB+QPBktbwxRnlAE/2drJbnc0B+dgGxqch6QGp5YwQTJXpAtrwxgol6ekBSuB6F6zF8QPYoXI/CkXxAw6bSkHOrfUDuswuITRV9QH52AbGp/HpAT1bLGyOAekBVGnLus0d0QJmZmZmZ8XRACtejcD0KdED0d7Ja3vRwQL0xgon+MnJAdwGxqTR8akBwjGCiv1t0QKiDOqiDjnRAB8Sm0pAfdEBdj8L1KEh2QMZXfMVXmHtAUQd1UAf9ekA3lYac++h7QAd1UAd1wHxA4yu+4iv2gUCY6O9ktTSDQG+MYKK/X4JABRP9nawmf0BN9HeyWu5+QLdt27ZtJ4FAkXOfXUCEfEBAbCoNOWt8QB+F61G4NndAfnYBsamIfUBvjGCiv52AQHZQB3VQ/4JAjWCiv5N7gUAx0d/JatuBQPBktbwxSoFA3hjBRH+zgEAZwUR/Jwt6QE30d7Jakn5Ah5z77AJyfUDxFV/xFRd8QB+F61G4+ntA2gXEptKgeUA=",
          "dtype": "f8"
         }
        }
       ],
       "layout": {
        "legend": {
         "orientation": "h",
         "y": 1,
         "yanchor": "bottom"
        },
        "template": {
         "data": {
          "bar": [
           {
            "error_x": {
             "color": "rgb(36,36,36)"
            },
            "error_y": {
             "color": "rgb(36,36,36)"
            },
            "marker": {
             "line": {
              "color": "white",
              "width": 0.5
             },
             "pattern": {
              "fillmode": "overlay",
              "size": 10,
              "solidity": 0.2
             }
            },
            "type": "bar"
           }
          ],
          "barpolar": [
           {
            "marker": {
             "line": {
              "color": "white",
              "width": 0.5
             },
             "pattern": {
              "fillmode": "overlay",
              "size": 10,
              "solidity": 0.2
             }
            },
            "type": "barpolar"
           }
          ],
          "carpet": [
           {
            "aaxis": {
             "endlinecolor": "rgb(36,36,36)",
             "gridcolor": "white",
             "linecolor": "white",
             "minorgridcolor": "white",
             "startlinecolor": "rgb(36,36,36)"
            },
            "baxis": {
             "endlinecolor": "rgb(36,36,36)",
             "gridcolor": "white",
             "linecolor": "white",
             "minorgridcolor": "white",
             "startlinecolor": "rgb(36,36,36)"
            },
            "type": "carpet"
           }
          ],
          "choropleth": [
           {
            "colorbar": {
             "outlinewidth": 1,
             "tickcolor": "rgb(36,36,36)",
             "ticks": "outside"
            },
            "type": "choropleth"
           }
          ],
          "contour": [
           {
            "colorbar": {
             "outlinewidth": 1,
             "tickcolor": "rgb(36,36,36)",
             "ticks": "outside"
            },
            "colorscale": [
             [
              0,
              "#440154"
             ],
             [
              0.1111111111111111,
              "#482878"
             ],
             [
              0.2222222222222222,
              "#3e4989"
             ],
             [
              0.3333333333333333,
              "#31688e"
             ],
             [
              0.4444444444444444,
              "#26828e"
             ],
             [
              0.5555555555555556,
              "#1f9e89"
             ],
             [
              0.6666666666666666,
              "#35b779"
             ],
             [
              0.7777777777777778,
              "#6ece58"
             ],
             [
              0.8888888888888888,
              "#b5de2b"
             ],
             [
              1,
              "#fde725"
             ]
            ],
            "type": "contour"
           }
          ],
          "contourcarpet": [
           {
            "colorbar": {
             "outlinewidth": 1,
             "tickcolor": "rgb(36,36,36)",
             "ticks": "outside"
            },
            "type": "contourcarpet"
           }
          ],
          "heatmap": [
           {
            "colorbar": {
             "outlinewidth": 1,
             "tickcolor": "rgb(36,36,36)",
             "ticks": "outside"
            },
            "colorscale": [
             [
              0,
              "#440154"
             ],
             [
              0.1111111111111111,
              "#482878"
             ],
             [
              0.2222222222222222,
              "#3e4989"
             ],
             [
              0.3333333333333333,
              "#31688e"
             ],
             [
              0.4444444444444444,
              "#26828e"
             ],
             [
              0.5555555555555556,
              "#1f9e89"
             ],
             [
              0.6666666666666666,
              "#35b779"
             ],
             [
              0.7777777777777778,
              "#6ece58"
             ],
             [
              0.8888888888888888,
              "#b5de2b"
             ],
             [
              1,
              "#fde725"
             ]
            ],
            "type": "heatmap"
           }
          ],
          "histogram": [
           {
            "marker": {
             "line": {
              "color": "white",
              "width": 0.6
             }
            },
            "type": "histogram"
           }
          ],
          "histogram2d": [
           {
            "colorbar": {
             "outlinewidth": 1,
             "tickcolor": "rgb(36,36,36)",
             "ticks": "outside"
            },
            "colorscale": [
             [
              0,
              "#440154"
             ],
             [
              0.1111111111111111,
              "#482878"
             ],
             [
              0.2222222222222222,
              "#3e4989"
             ],
             [
              0.3333333333333333,
              "#31688e"
             ],
             [
              0.4444444444444444,
              "#26828e"
             ],
             [
              0.5555555555555556,
              "#1f9e89"
             ],
             [
              0.6666666666666666,
              "#35b779"
             ],
             [
              0.7777777777777778,
              "#6ece58"
             ],
             [
              0.8888888888888888,
              "#b5de2b"
             ],
             [
              1,
              "#fde725"
             ]
            ],
            "type": "histogram2d"
           }
          ],
          "histogram2dcontour": [
           {
            "colorbar": {
             "outlinewidth": 1,
             "tickcolor": "rgb(36,36,36)",
             "ticks": "outside"
            },
            "colorscale": [
             [
              0,
              "#440154"
             ],
             [
              0.1111111111111111,
              "#482878"
             ],
             [
              0.2222222222222222,
              "#3e4989"
             ],
             [
              0.3333333333333333,
              "#31688e"
             ],
             [
              0.4444444444444444,
              "#26828e"
             ],
             [
              0.5555555555555556,
              "#1f9e89"
             ],
             [
              0.6666666666666666,
              "#35b779"
             ],
             [
              0.7777777777777778,
              "#6ece58"
             ],
             [
              0.8888888888888888,
              "#b5de2b"
             ],
             [
              1,
              "#fde725"
             ]
            ],
            "type": "histogram2dcontour"
           }
          ],
          "mesh3d": [
           {
            "colorbar": {
             "outlinewidth": 1,
             "tickcolor": "rgb(36,36,36)",
             "ticks": "outside"
            },
            "type": "mesh3d"
           }
          ],
          "parcoords": [
           {
            "line": {
             "colorbar": {
              "outlinewidth": 1,
              "tickcolor": "rgb(36,36,36)",
              "ticks": "outside"
             }
            },
            "type": "parcoords"
           }
          ],
          "pie": [
           {
            "automargin": true,
            "type": "pie"
           }
          ],
          "scatter": [
           {
            "fillpattern": {
             "fillmode": "overlay",
             "size": 10,
             "solidity": 0.2
            },
            "type": "scatter"
           }
          ],
          "scatter3d": [
           {
            "line": {
             "colorbar": {
              "outlinewidth": 1,
              "tickcolor": "rgb(36,36,36)",
              "ticks": "outside"
             }
            },
            "marker": {
             "colorbar": {
              "outlinewidth": 1,
              "tickcolor": "rgb(36,36,36)",
              "ticks": "outside"
             }
            },
            "type": "scatter3d"
           }
          ],
          "scattercarpet": [
           {
            "marker": {
             "colorbar": {
              "outlinewidth": 1,
              "tickcolor": "rgb(36,36,36)",
              "ticks": "outside"
             }
            },
            "type": "scattercarpet"
           }
          ],
          "scattergeo": [
           {
            "marker": {
             "colorbar": {
              "outlinewidth": 1,
              "tickcolor": "rgb(36,36,36)",
              "ticks": "outside"
             }
            },
            "type": "scattergeo"
           }
          ],
          "scattergl": [
           {
            "marker": {
             "colorbar": {
              "outlinewidth": 1,
              "tickcolor": "rgb(36,36,36)",
              "ticks": "outside"
             }
            },
            "type": "scattergl"
           }
          ],
          "scattermap": [
           {
            "marker": {
             "colorbar": {
              "outlinewidth": 1,
              "tickcolor": "rgb(36,36,36)",
              "ticks": "outside"
             }
            },
            "type": "scattermap"
           }
          ],
          "scattermapbox": [
           {
            "marker": {
             "colorbar": {
              "outlinewidth": 1,
              "tickcolor": "rgb(36,36,36)",
              "ticks": "outside"
             }
            },
            "type": "scattermapbox"
           }
          ],
          "scatterpolar": [
           {
            "marker": {
             "colorbar": {
              "outlinewidth": 1,
              "tickcolor": "rgb(36,36,36)",
              "ticks": "outside"
             }
            },
            "type": "scatterpolar"
           }
          ],
          "scatterpolargl": [
           {
            "marker": {
             "colorbar": {
              "outlinewidth": 1,
              "tickcolor": "rgb(36,36,36)",
              "ticks": "outside"
             }
            },
            "type": "scatterpolargl"
           }
          ],
          "scatterternary": [
           {
            "marker": {
             "colorbar": {
              "outlinewidth": 1,
              "tickcolor": "rgb(36,36,36)",
              "ticks": "outside"
             }
            },
            "type": "scatterternary"
           }
          ],
          "surface": [
           {
            "colorbar": {
             "outlinewidth": 1,
             "tickcolor": "rgb(36,36,36)",
             "ticks": "outside"
            },
            "colorscale": [
             [
              0,
              "#440154"
             ],
             [
              0.1111111111111111,
              "#482878"
             ],
             [
              0.2222222222222222,
              "#3e4989"
             ],
             [
              0.3333333333333333,
              "#31688e"
             ],
             [
              0.4444444444444444,
              "#26828e"
             ],
             [
              0.5555555555555556,
              "#1f9e89"
             ],
             [
              0.6666666666666666,
              "#35b779"
             ],
             [
              0.7777777777777778,
              "#6ece58"
             ],
             [
              0.8888888888888888,
              "#b5de2b"
             ],
             [
              1,
              "#fde725"
             ]
            ],
            "type": "surface"
           }
          ],
          "table": [
           {
            "cells": {
             "fill": {
              "color": "rgb(237,237,237)"
             },
             "line": {
              "color": "white"
             }
            },
            "header": {
             "fill": {
              "color": "rgb(217,217,217)"
             },
             "line": {
              "color": "white"
             }
            },
            "type": "table"
           }
          ]
         },
         "layout": {
          "annotationdefaults": {
           "arrowhead": 0,
           "arrowwidth": 1
          },
          "autotypenumbers": "strict",
          "coloraxis": {
           "colorbar": {
            "outlinewidth": 1,
            "tickcolor": "rgb(36,36,36)",
            "ticks": "outside"
           }
          },
          "colorscale": {
           "diverging": [
            [
             0,
             "rgb(103,0,31)"
            ],
            [
             0.1,
             "rgb(178,24,43)"
            ],
            [
             0.2,
             "rgb(214,96,77)"
            ],
            [
             0.3,
             "rgb(244,165,130)"
            ],
            [
             0.4,
             "rgb(253,219,199)"
            ],
            [
             0.5,
             "rgb(247,247,247)"
            ],
            [
             0.6,
             "rgb(209,229,240)"
            ],
            [
             0.7,
             "rgb(146,197,222)"
            ],
            [
             0.8,
             "rgb(67,147,195)"
            ],
            [
             0.9,
             "rgb(33,102,172)"
            ],
            [
             1,
             "rgb(5,48,97)"
            ]
           ],
           "sequential": [
            [
             0,
             "#440154"
            ],
            [
             0.1111111111111111,
             "#482878"
            ],
            [
             0.2222222222222222,
             "#3e4989"
            ],
            [
             0.3333333333333333,
             "#31688e"
            ],
            [
             0.4444444444444444,
             "#26828e"
            ],
            [
             0.5555555555555556,
             "#1f9e89"
            ],
            [
             0.6666666666666666,
             "#35b779"
            ],
            [
             0.7777777777777778,
             "#6ece58"
            ],
            [
             0.8888888888888888,
             "#b5de2b"
            ],
            [
             1,
             "#fde725"
            ]
           ],
           "sequentialminus": [
            [
             0,
             "#440154"
            ],
            [
             0.1111111111111111,
             "#482878"
            ],
            [
             0.2222222222222222,
             "#3e4989"
            ],
            [
             0.3333333333333333,
             "#31688e"
            ],
            [
             0.4444444444444444,
             "#26828e"
            ],
            [
             0.5555555555555556,
             "#1f9e89"
            ],
            [
             0.6666666666666666,
             "#35b779"
            ],
            [
             0.7777777777777778,
             "#6ece58"
            ],
            [
             0.8888888888888888,
             "#b5de2b"
            ],
            [
             1,
             "#fde725"
            ]
           ]
          },
          "colorway": [
           "#1F77B4",
           "#FF7F0E",
           "#2CA02C",
           "#D62728",
           "#9467BD",
           "#8C564B",
           "#E377C2",
           "#7F7F7F",
           "#BCBD22",
           "#17BECF"
          ],
          "font": {
           "color": "rgb(36,36,36)"
          },
          "geo": {
           "bgcolor": "white",
           "lakecolor": "white",
           "landcolor": "white",
           "showlakes": true,
           "showland": true,
           "subunitcolor": "white"
          },
          "hoverlabel": {
           "align": "left"
          },
          "hovermode": "closest",
          "mapbox": {
           "style": "light"
          },
          "paper_bgcolor": "white",
          "plot_bgcolor": "white",
          "polar": {
           "angularaxis": {
            "gridcolor": "rgb(232,232,232)",
            "linecolor": "rgb(36,36,36)",
            "showgrid": false,
            "showline": true,
            "ticks": "outside"
           },
           "bgcolor": "white",
           "radialaxis": {
            "gridcolor": "rgb(232,232,232)",
            "linecolor": "rgb(36,36,36)",
            "showgrid": false,
            "showline": true,
            "ticks": "outside"
           }
          },
          "scene": {
           "xaxis": {
            "backgroundcolor": "white",
            "gridcolor": "rgb(232,232,232)",
            "gridwidth": 2,
            "linecolor": "rgb(36,36,36)",
            "showbackground": true,
            "showgrid": false,
            "showline": true,
            "ticks": "outside",
            "zeroline": false,
            "zerolinecolor": "rgb(36,36,36)"
           },
           "yaxis": {
            "backgroundcolor": "white",
            "gridcolor": "rgb(232,232,232)",
            "gridwidth": 2,
            "linecolor": "rgb(36,36,36)",
            "showbackground": true,
            "showgrid": false,
            "showline": true,
            "ticks": "outside",
            "zeroline": false,
            "zerolinecolor": "rgb(36,36,36)"
           },
           "zaxis": {
            "backgroundcolor": "white",
            "gridcolor": "rgb(232,232,232)",
            "gridwidth": 2,
            "linecolor": "rgb(36,36,36)",
            "showbackground": true,
            "showgrid": false,
            "showline": true,
            "ticks": "outside",
            "zeroline": false,
            "zerolinecolor": "rgb(36,36,36)"
           }
          },
          "shapedefaults": {
           "fillcolor": "black",
           "line": {
            "width": 0
           },
           "opacity": 0.3
          },
          "ternary": {
           "aaxis": {
            "gridcolor": "rgb(232,232,232)",
            "linecolor": "rgb(36,36,36)",
            "showgrid": false,
            "showline": true,
            "ticks": "outside"
           },
           "baxis": {
            "gridcolor": "rgb(232,232,232)",
            "linecolor": "rgb(36,36,36)",
            "showgrid": false,
            "showline": true,
            "ticks": "outside"
           },
           "bgcolor": "white",
           "caxis": {
            "gridcolor": "rgb(232,232,232)",
            "linecolor": "rgb(36,36,36)",
            "showgrid": false,
            "showline": true,
            "ticks": "outside"
           }
          },
          "title": {
           "x": 0.05
          },
          "xaxis": {
           "automargin": true,
           "gridcolor": "rgb(232,232,232)",
           "linecolor": "rgb(36,36,36)",
           "showgrid": true,
           "showline": true,
           "ticks": "outside",
           "title": {
            "standoff": 15
           },
           "zeroline": false,
           "zerolinecolor": "rgb(36,36,36)"
          },
          "yaxis": {
           "automargin": true,
           "gridcolor": "rgb(232,232,232)",
           "linecolor": "rgb(36,36,36)",
           "showgrid": true,
           "showline": true,
           "ticks": "outside",
           "title": {
            "standoff": 15
           },
           "zeroline": false,
           "zerolinecolor": "rgb(36,36,36)"
          }
         }
        },
        "title": {
         "text": "Daily Sales with 7-Day Moving Average"
        },
        "xaxis": {
         "title": {
          "text": "Date"
         }
        },
        "yaxis": {
         "title": {
          "text": "Sales Amount ($)"
         }
        }
       }
      }
     },
     "metadata": {},
     "output_type": "display_data"
    }
   ],
   "source": [
    "fig: go.Figure = (\n",
    "    go.Figure()\n",
    "    .add_trace(\n",
    "        go.Scatter(\n",
    "            x=daily_sales_pl[\"date\"],\n",
    "            y=daily_sales_pl[\"total_sales\"],\n",
    "            mode=\"lines\",\n",
    "            name=\"Daily Sales\",\n",
    "        )\n",
    "    )\n",
    "    .add_trace(\n",
    "        go.Scatter(\n",
    "            x=daily_sales_pl[\"date\"],\n",
    "            y=daily_sales_pl[\"7d_moving_avg\"],\n",
    "            mode=\"lines\",\n",
    "            name=\"7-Day Moving Average\",\n",
    "            line_width=3,\n",
    "        )\n",
    "    )\n",
    "    .update_layout(\n",
    "        title=\"Daily Sales with 7-Day Moving Average\",\n",
    "        xaxis_title=\"Date\",\n",
    "        yaxis_title=\"Sales Amount ($)\",\n",
    "        legend_orientation=\"h\",\n",
    "        legend_yanchor=\"bottom\",\n",
    "        legend_y=1,\n",
    "    )\n",
    ")\n",
    "fig.write_html(\"images/pt4_daily_sales_with_7d_avg_pl.html\", include_plotlyjs=\"cdn\", full_html=True)\n",
    "fig.show()"
   ]
  },
  {
   "cell_type": "markdown",
   "id": "ba031600",
   "metadata": {},
   "source": [
    "<div class=\"result\" markdown>"
   ]
  },
  {
   "cell_type": "markdown",
   "id": "e844c12d",
   "metadata": {},
   "source": [
    "</div>\n"
   ]
  },
  {
   "cell_type": "markdown",
   "id": "65b26ebf",
   "metadata": {},
   "source": [
    "## 5. Ranking and Partitioning\n",
    "\n",
    "The fifth section will demonstrate how to rank and partition data. This is useful for identifying top performers, such as the highest spending customers or the most popular products.\n",
    "\n",
    "### Pandas\n",
    "\n",
    "In Pandas, we can use the [`.rank()`][pandas-rank] method to rank values in a DataFrame. This method allows us to specify the ranking method (e.g., dense, average, min, max) and whether to rank in ascending or descending order."
   ]
  },
  {
   "cell_type": "code",
   "execution_count": null,
   "id": "3cc7f394",
   "metadata": {
    "incorrectly_encoded_metadata": "{.pandas linenums=\"1\" title=\"Rank customers by total spending\"}"
   },
   "outputs": [
    {
     "name": "stdout",
     "output_type": "stream",
     "text": [
      "Customer Spending Summary: 61\n",
      "   customer_id  total_spending  rank\n",
      "0           15         2297.55   1.0\n",
      "1            4         2237.49   2.0\n",
      "2           62         2177.35   3.0\n",
      "3           60         2086.09   4.0\n",
      "4           21         2016.95   5.0\n",
      "|    |   customer_id |   total_spending |   rank |\n",
      "|---:|--------------:|-----------------:|-------:|\n",
      "|  0 |            15 |          2297.55 |      1 |\n",
      "|  1 |             4 |          2237.49 |      2 |\n",
      "|  2 |            62 |          2177.35 |      3 |\n",
      "|  3 |            60 |          2086.09 |      4 |\n",
      "|  4 |            21 |          2016.95 |      5 |\n"
     ]
    }
   ],
   "source": [
    "customer_spending_pd: pd.DataFrame = df_sales_pd.groupby(\"customer_id\").agg(total_spending=(\"sales_amount\", \"sum\"))\n",
    "customer_spending_pd[\"rank\"] = customer_spending_pd[\"total_spending\"].rank(method=\"dense\", ascending=False)\n",
    "customer_spending_pd: pd.DataFrame = customer_spending_pd.sort_values(\"rank\").reset_index()\n",
    "print(f\"Customer Spending Summary: {len(customer_spending_pd)}\")\n",
    "print(customer_spending_pd.head(5))\n",
    "print(customer_spending_pd.head(5).to_markdown())"
   ]
  },
  {
   "cell_type": "markdown",
   "id": "462d1be3",
   "metadata": {},
   "source": [
    "<div class=\"result\" markdown>\n",
    "\n",
    "```txt\n",
    "Customer Spending Summary: 61\n",
    "```\n",
    "\n",
    "```txt\n",
    "   customer_id  total_spending  rank\n",
    "0           15         2297.55   1.0\n",
    "1            4         2237.49   2.0\n",
    "2           62         2177.35   3.0\n",
    "3           60         2086.09   4.0\n",
    "4           21         2016.95   5.0\n",
    "```\n",
    "\n",
    "|      | customer_id | total_spending | rank |\n",
    "| ---: | ----------: | -------------: | ---: |\n",
    "|    0 |          15 |        2297.55 |    1 |\n",
    "|    1 |           4 |        2237.49 |    2 |\n",
    "|    2 |          62 |        2177.35 |    3 |\n",
    "|    3 |          60 |        2086.09 |    4 |\n",
    "|    4 |          21 |        2016.95 |    5 |\n",
    "\n",
    "</div>\n",
    "\n",
    "### SQL\n",
    "\n",
    "In SQL, we can use the `DENSE_RANK()` window function to rank values in a query. This function assigns a rank to each row within a partition of a given result set, with no gaps in the ranking values. Note that this function can only be used in congunction with the `OVER` clause, which defines it as a Window function. The `ORDER BY` clause within the `OVER` clause specifies the order in which the rows are ranked."
   ]
  },
  {
   "cell_type": "code",
   "execution_count": null,
   "id": "a0749c78",
   "metadata": {
    "incorrectly_encoded_metadata": "{.sql linenums=\"1\" title=\"Rank customers by total spending\"}"
   },
   "outputs": [
    {
     "name": "stdout",
     "output_type": "stream",
     "text": [
      "Customer Spending Summary: 61\n",
      "   customer_id  total_spending  rank\n",
      "0           15         2297.55     1\n",
      "1            4         2237.49     2\n",
      "2           62         2177.35     3\n",
      "3           60         2086.09     4\n",
      "4           21         2016.95     5\n",
      "|    |   customer_id |   total_spending |   rank |\n",
      "|---:|--------------:|-----------------:|-------:|\n",
      "|  0 |            15 |          2297.55 |      1 |\n",
      "|  1 |             4 |          2237.49 |      2 |\n",
      "|  2 |            62 |          2177.35 |      3 |\n",
      "|  3 |            60 |          2086.09 |      4 |\n",
      "|  4 |            21 |          2016.95 |      5 |\n"
     ]
    }
   ],
   "source": [
    "customer_spending_txt: str = \"\"\"\n",
    "    SELECT\n",
    "        customer_id,\n",
    "        SUM(sales_amount) AS total_spending,\n",
    "        DENSE_RANK() OVER (ORDER BY SUM(sales_amount) DESC) AS rank\n",
    "    FROM sales\n",
    "    GROUP BY customer_id\n",
    "    ORDER BY rank\n",
    "\"\"\"\n",
    "customer_spending_sql: pd.DataFrame = pd.read_sql(customer_spending_txt, conn)\n",
    "print(f\"Customer Spending Summary: {len(customer_spending_sql)}\")\n",
    "print(customer_spending_sql.head(5))\n",
    "print(customer_spending_sql.head(5).to_markdown())"
   ]
  },
  {
   "cell_type": "markdown",
   "id": "6d4ac931",
   "metadata": {},
   "source": [
    "<div class=\"result\" markdown>\n",
    "\n",
    "```txt\n",
    "Customer Spending Summary: 61\n",
    "```\n",
    "\n",
    "```txt\n",
    "   customer_id  total_spending  rank\n",
    "0           15         2297.55     1\n",
    "1            4         2237.49     2\n",
    "2           62         2177.35     3\n",
    "3           60         2086.09     4\n",
    "4           21         2016.95     5\n",
    "```\n",
    "\n",
    "|      | customer_id | total_spending | rank |\n",
    "| ---: | ----------: | -------------: | ---: |\n",
    "|    0 |          15 |        2297.55 |    1 |\n",
    "|    1 |           4 |        2237.49 |    2 |\n",
    "|    2 |          62 |        2177.35 |    3 |\n",
    "|    3 |          60 |        2086.09 |    4 |\n",
    "|    4 |          21 |        2016.95 |    5 |\n",
    "\n",
    "</div>\n",
    "\n",
    "### PySpark\n",
    "\n",
    "In PySpark, we can use the [`F.dense_rank()`][pyspark-dense_rank] function in combination with the [`Window()`][pyspark-window] class to rank values in a DataFrame. The [`Window()`][pyspark-window] class allows us to define a window specification for the calculation, and the [`F.dense_rank()`][pyspark-dense_rank] function calculates the dense rank of each row within that window."
   ]
  },
  {
   "cell_type": "code",
   "execution_count": null,
   "id": "b40504ce",
   "metadata": {
    "incorrectly_encoded_metadata": "{.pyspark linenums=\"1\" title=\"Rank customers by total spending\"}"
   },
   "outputs": [
    {
     "name": "stdout",
     "output_type": "stream",
     "text": [
      "Customer Spending Summary: 61\n"
     ]
    },
    {
     "name": "stderr",
     "output_type": "stream",
     "text": [
      "25/07/06 12:38:50 WARN WindowExec: No Partition Defined for Window operation! Moving all data to a single partition, this can cause serious performance degradation.\n",
      "25/07/06 12:38:50 WARN WindowExec: No Partition Defined for Window operation! Moving all data to a single partition, this can cause serious performance degradation.\n",
      "25/07/06 12:38:50 WARN WindowExec: No Partition Defined for Window operation! Moving all data to a single partition, this can cause serious performance degradation.\n",
      "25/07/06 12:38:50 WARN WindowExec: No Partition Defined for Window operation! Moving all data to a single partition, this can cause serious performance degradation.\n",
      "25/07/06 12:38:50 WARN WindowExec: No Partition Defined for Window operation! Moving all data to a single partition, this can cause serious performance degradation.\n",
      "25/07/06 12:38:50 WARN WindowExec: No Partition Defined for Window operation! Moving all data to a single partition, this can cause serious performance degradation.\n",
      "25/07/06 12:38:50 WARN WindowExec: No Partition Defined for Window operation! Moving all data to a single partition, this can cause serious performance degradation.\n",
      "25/07/06 12:38:50 WARN WindowExec: No Partition Defined for Window operation! Moving all data to a single partition, this can cause serious performance degradation.\n",
      "25/07/06 12:38:50 WARN WindowExec: No Partition Defined for Window operation! Moving all data to a single partition, this can cause serious performance degradation.\n",
      "25/07/06 12:38:50 WARN WindowExec: No Partition Defined for Window operation! Moving all data to a single partition, this can cause serious performance degradation.\n"
     ]
    },
    {
     "name": "stdout",
     "output_type": "stream",
     "text": [
      "+-----------+------------------+----+\n",
      "|customer_id|    total_spending|rank|\n",
      "+-----------+------------------+----+\n",
      "|         15|           2297.55|   1|\n",
      "|          4|           2237.49|   2|\n",
      "|         62|           2177.35|   3|\n",
      "|         60|2086.0899999999997|   4|\n",
      "|         21|           2016.95|   5|\n",
      "+-----------+------------------+----+\n",
      "only showing top 5 rows\n",
      "\n",
      "|    |   customer_id |   total_spending |   rank |\n",
      "|---:|--------------:|-----------------:|-------:|\n",
      "|  0 |            15 |          2297.55 |      1 |\n",
      "|  1 |             4 |          2237.49 |      2 |\n",
      "|  2 |            62 |          2177.35 |      3 |\n",
      "|  3 |            60 |          2086.09 |      4 |\n",
      "|  4 |            21 |          2016.95 |      5 |\n"
     ]
    },
    {
     "name": "stderr",
     "output_type": "stream",
     "text": [
      "25/07/06 12:38:50 WARN WindowExec: No Partition Defined for Window operation! Moving all data to a single partition, this can cause serious performance degradation.\n",
      "25/07/06 12:38:50 WARN WindowExec: No Partition Defined for Window operation! Moving all data to a single partition, this can cause serious performance degradation.\n",
      "25/07/06 12:38:50 WARN WindowExec: No Partition Defined for Window operation! Moving all data to a single partition, this can cause serious performance degradation.\n",
      "25/07/06 12:38:50 WARN WindowExec: No Partition Defined for Window operation! Moving all data to a single partition, this can cause serious performance degradation.\n"
     ]
    }
   ],
   "source": [
    "customer_spending_ps: psDataFrame = (\n",
    "    df_sales_ps.groupBy(\"customer_id\")\n",
    "    .agg(F.sum(\"sales_amount\").alias(\"total_spending\"))\n",
    "    .withColumn(\"rank\", F.dense_rank().over(Window.orderBy(F.desc(\"total_spending\"))))\n",
    "    .orderBy(\"rank\")\n",
    ")\n",
    "print(f\"Customer Spending Summary: {customer_spending_ps.count()}\")\n",
    "customer_spending_ps.show(5)\n",
    "print(customer_spending_ps.limit(5).toPandas().to_markdown())"
   ]
  },
  {
   "cell_type": "markdown",
   "id": "c6d42fa2",
   "metadata": {},
   "source": [
    "<div class=\"result\" markdown>\n",
    "\n",
    "```txt\n",
    "Customer Spending Summary: 61\n",
    "```\n",
    "\n",
    "```txt\n",
    "+-----------+------------------+----+\n",
    "|customer_id|    total_spending|rank|\n",
    "+-----------+------------------+----+\n",
    "|         15|           2297.55|   1|\n",
    "|          4|           2237.49|   2|\n",
    "|         62|           2177.35|   3|\n",
    "|         60|2086.0899999999997|   4|\n",
    "|         21|           2016.95|   5|\n",
    "+-----------+------------------+----+\n",
    "```\n",
    "\n",
    "|      | customer_id | total_spending | rank |\n",
    "| ---: | ----------: | -------------: | ---: |\n",
    "|    0 |          15 |        2297.55 |    1 |\n",
    "|    1 |           4 |        2237.49 |    2 |\n",
    "|    2 |          62 |        2177.35 |    3 |\n",
    "|    3 |          60 |        2086.09 |    4 |\n",
    "|    4 |          21 |        2016.95 |    5 |\n",
    "\n",
    "</div>\n",
    "\n",
    "### Polars\n",
    "\n",
    "In Polars, we can use the [`.rank()`][polars-rank] method to rank values in a DataFrame. This method allows us to specify the ranking method (e.g., dense, average, min, max) and whether to rank in ascending or descending order."
   ]
  },
  {
   "cell_type": "code",
   "execution_count": null,
   "id": "9779eab9",
   "metadata": {
    "incorrectly_encoded_metadata": "{.polars linenums=\"1\" title=\"Rank customers by total spending\"}"
   },
   "outputs": [
    {
     "name": "stdout",
     "output_type": "stream",
     "text": [
      "Customer Spending Summary: 61\n",
      "shape: (5, 3)\n",
      "┌─────────────┬────────────────┬──────┐\n",
      "│ customer_id ┆ total_spending ┆ rank │\n",
      "│ ---         ┆ ---            ┆ ---  │\n",
      "│ i64         ┆ f64            ┆ u32  │\n",
      "╞═════════════╪════════════════╪══════╡\n",
      "│ 15          ┆ 2297.55        ┆ 1    │\n",
      "│ 4           ┆ 2237.49        ┆ 2    │\n",
      "│ 62          ┆ 2177.35        ┆ 3    │\n",
      "│ 60          ┆ 2086.09        ┆ 4    │\n",
      "│ 21          ┆ 2016.95        ┆ 5    │\n",
      "└─────────────┴────────────────┴──────┘\n",
      "|    |   customer_id |   total_spending |   rank |\n",
      "|---:|--------------:|-----------------:|-------:|\n",
      "|  0 |            15 |          2297.55 |      1 |\n",
      "|  1 |             4 |          2237.49 |      2 |\n",
      "|  2 |            62 |          2177.35 |      3 |\n",
      "|  3 |            60 |          2086.09 |      4 |\n",
      "|  4 |            21 |          2016.95 |      5 |\n"
     ]
    }
   ],
   "source": [
    "customer_spending_pl: pl.DataFrame = (\n",
    "    df_sales_pl.group_by(\"customer_id\")\n",
    "    .agg(pl.col(\"sales_amount\").sum().alias(\"total_spending\"))\n",
    "    .with_columns(\n",
    "        pl.col(\"total_spending\").rank(method=\"dense\", descending=True).alias(\"rank\"),\n",
    "    )\n",
    "    .sort(\"rank\")\n",
    ")\n",
    "print(f\"Customer Spending Summary: {len(customer_spending_pl)}\")\n",
    "print(customer_spending_pl.head(5))\n",
    "print(customer_spending_pl.head(5).to_pandas().to_markdown())"
   ]
  },
  {
   "cell_type": "markdown",
   "id": "4dfa54f1",
   "metadata": {},
   "source": [
    "<div class=\"result\" markdown>\n",
    "\n",
    "```txt\n",
    "Customer Spending Summary: 61\n",
    "```\n",
    "\n",
    "```txt\n",
    "shape: (5, 3)\n",
    "┌─────────────┬────────────────┬──────┐\n",
    "│ customer_id ┆ total_spending ┆ rank │\n",
    "│ ---         ┆ ---            ┆ ---  │\n",
    "│ i64         ┆ f64            ┆ u32  │\n",
    "╞═════════════╪════════════════╪══════╡\n",
    "│ 15          ┆ 2297.55        ┆ 1    │\n",
    "│ 4           ┆ 2237.49        ┆ 2    │\n",
    "│ 62          ┆ 2177.35        ┆ 3    │\n",
    "│ 60          ┆ 2086.09        ┆ 4    │\n",
    "│ 21          ┆ 2016.95        ┆ 5    │\n",
    "└─────────────┴────────────────┴──────┘\n",
    "```\n",
    "\n",
    "|      | customer_id | total_spending | rank |\n",
    "| ---: | ----------: | -------------: | ---: |\n",
    "|    0 |          15 |        2297.55 |    1 |\n",
    "|    1 |           4 |        2237.49 |    2 |\n",
    "|    2 |          62 |        2177.35 |    3 |\n",
    "|    3 |          60 |        2086.09 |    4 |\n",
    "|    4 |          21 |        2016.95 |    5 |\n",
    "\n",
    "</div>\n",
    "\n",
    "Next, we will rank products based on the quantity sold, partitioned by the product category. This will help us identify the most popular products within each category.\n",
    "\n",
    "### Pandas\n",
    "\n",
    "In Pandas it is first necessary to group the sales data by `category` and `product_id`, then aggregate the data for the [`.sum()`][pandas-groupby-sum] of the `quantity` to find the `total_quantity` sold for each product. After that, we can use the [`.rank()`][pandas-rank] method to rank the products within each category based on the total quantity sold.\n",
    "\n",
    "It is important to note here that we are implementing the [`.rank()`][pandas-rank] method from within an [`.assign()`][pandas-assign] method. This is a common pattern in Pandas to create new columns on a DataFrame based on other columns already existing on the DataFrame, while keeping the DataFrame immutable. Here, we are using the [`.groupby()`][pandas-groupby] method to group the DataFrame by `category`, and then applying the [`.rank()`][pandas-rank] method to the `total_quantity` column within each category. In this way, we are creating a partitioned DataFrame that ranks products by quantity sold within each category."
   ]
  },
  {
   "cell_type": "code",
   "execution_count": null,
   "id": "12a2ba10",
   "metadata": {
    "incorrectly_encoded_metadata": "{.pandas linenums=\"1\" title=\"Rank products by quantity sold, by category\"}"
   },
   "outputs": [
    {
     "name": "stdout",
     "output_type": "stream",
     "text": [
      "Product Popularity Summary: 78\n",
      "      category  product_id  total_quantity  rank\n",
      "0        Books          11              14   1.0\n",
      "1     Clothing           7               9   1.0\n",
      "2  Electronics          37              16   1.0\n",
      "3         Food          45              34   1.0\n",
      "4         Home           3              10   1.0\n",
      "5        Books          28               9   2.0\n",
      "6     Clothing          35               8   2.0\n",
      "7  Electronics          35              11   2.0\n",
      "8         Food           1              16   2.0\n",
      "9         Home           9               5   2.0\n",
      "|    | category    |   product_id |   total_quantity |   rank |\n",
      "|---:|:------------|-------------:|-----------------:|-------:|\n",
      "|  0 | Books       |           11 |               14 |      1 |\n",
      "|  1 | Clothing    |            7 |                9 |      1 |\n",
      "|  2 | Electronics |           37 |               16 |      1 |\n",
      "|  3 | Food        |           45 |               34 |      1 |\n",
      "|  4 | Home        |            3 |               10 |      1 |\n",
      "|  5 | Books       |           28 |                9 |      2 |\n",
      "|  6 | Clothing    |           35 |                8 |      2 |\n",
      "|  7 | Electronics |           35 |               11 |      2 |\n",
      "|  8 | Food        |            1 |               16 |      2 |\n",
      "|  9 | Home        |            9 |                5 |      2 |\n"
     ]
    }
   ],
   "source": [
    "product_popularity_pd: pd.DataFrame = (\n",
    "    df_sales_pd.groupby([\"category\", \"product_id\"])\n",
    "    .agg(\n",
    "        total_quantity=(\"quantity\", \"sum\"),\n",
    "    )\n",
    "    .reset_index()\n",
    "    .assign(\n",
    "        rank=lambda x: x.groupby(\"category\")[\"total_quantity\"].rank(method=\"dense\", ascending=False),\n",
    "    )\n",
    "    .sort_values([\"rank\", \"category\"])\n",
    "    .reset_index(drop=True)\n",
    ")\n",
    "print(f\"Product Popularity Summary: {len(product_popularity_pd)}\")\n",
    "print(product_popularity_pd.head(10))\n",
    "print(product_popularity_pd.head(10).to_markdown())"
   ]
  },
  {
   "cell_type": "markdown",
   "id": "1cca9dd9",
   "metadata": {},
   "source": [
    "<div class=\"result\" markdown>\n",
    "\n",
    "```txt\n",
    "Product Popularity Summary: 78\n",
    "```\n",
    "\n",
    "```txt\n",
    "      category  product_id  total_quantity  rank\n",
    "0        Books          11              14   1.0\n",
    "1     Clothing           7               9   1.0\n",
    "2  Electronics          37              16   1.0\n",
    "3         Food          45              34   1.0\n",
    "4         Home           3              10   1.0\n",
    "5        Books          28               9   2.0\n",
    "6     Clothing          35               8   2.0\n",
    "7  Electronics          35              11   2.0\n",
    "8         Food           1              16   2.0\n",
    "9         Home           9               5   2.0\n",
    "```\n",
    "\n",
    "|      | category    | product_id | total_quantity | rank |\n",
    "| ---: | :---------- | ---------: | -------------: | ---: |\n",
    "|    0 | Books       |         11 |             14 |    1 |\n",
    "|    1 | Clothing    |          7 |              9 |    1 |\n",
    "|    2 | Electronics |         37 |             16 |    1 |\n",
    "|    3 | Food        |         45 |             34 |    1 |\n",
    "|    4 | Home        |          3 |             10 |    1 |\n",
    "|    5 | Books       |         28 |              9 |    2 |\n",
    "|    6 | Clothing    |         35 |              8 |    2 |\n",
    "|    7 | Electronics |         35 |             11 |    2 |\n",
    "|    8 | Food        |          1 |             16 |    2 |\n",
    "|    9 | Home        |          9 |              5 |    2 |\n",
    "\n",
    "</div>\n",
    "\n",
    "### SQL\n",
    "\n",
    "In SQL, we can use the `RANK()` window function to rank products within each category based on the total quantity sold. The `PARTITION BY` clause allows us to partition the data by `category`, and the `ORDER BY` clause specifies the order in which the rows are ranked within each partition."
   ]
  },
  {
   "cell_type": "code",
   "execution_count": null,
   "id": "ccd93cee",
   "metadata": {
    "incorrectly_encoded_metadata": "{.sql linenums=\"1\" title=\"Rank products by quantity sold, by category\"}"
   },
   "outputs": [
    {
     "name": "stdout",
     "output_type": "stream",
     "text": [
      "Product Popularity: 78\n",
      "      category  product_id  total_quantity  rank\n",
      "0        Books          11              14     1\n",
      "1     Clothing           7               9     1\n",
      "2  Electronics          37              16     1\n",
      "3         Food          45              34     1\n",
      "4         Home           3              10     1\n",
      "5        Books          28               9     2\n",
      "6     Clothing          35               8     2\n",
      "7  Electronics          35              11     2\n",
      "8         Food           1              16     2\n",
      "9         Home          48               5     2\n",
      "|    | category    |   product_id |   total_quantity |   rank |\n",
      "|---:|:------------|-------------:|-----------------:|-------:|\n",
      "|  0 | Books       |           11 |               14 |      1 |\n",
      "|  1 | Clothing    |            7 |                9 |      1 |\n",
      "|  2 | Electronics |           37 |               16 |      1 |\n",
      "|  3 | Food        |           45 |               34 |      1 |\n",
      "|  4 | Home        |            3 |               10 |      1 |\n",
      "|  5 | Books       |           28 |                9 |      2 |\n",
      "|  6 | Clothing    |           35 |                8 |      2 |\n",
      "|  7 | Electronics |           35 |               11 |      2 |\n",
      "|  8 | Food        |            1 |               16 |      2 |\n",
      "|  9 | Home        |           48 |                5 |      2 |\n"
     ]
    }
   ],
   "source": [
    "product_popularity_txt: str = \"\"\"\n",
    "    SELECT\n",
    "        category,\n",
    "        product_id,\n",
    "        SUM(quantity) AS total_quantity,\n",
    "        RANK() OVER (PARTITION BY category ORDER BY SUM(quantity) DESC) AS rank\n",
    "    FROM sales\n",
    "    GROUP BY category, product_id\n",
    "    ORDER BY rank\n",
    "\"\"\"\n",
    "print(f\"Product Popularity: {len(pd.read_sql(product_popularity_txt, conn))}\")\n",
    "print(pd.read_sql(product_popularity_txt + \"LIMIT 10\", conn))\n",
    "print(pd.read_sql(product_popularity_txt + \"LIMIT 10\", conn).to_markdown())"
   ]
  },
  {
   "cell_type": "markdown",
   "id": "79156feb",
   "metadata": {},
   "source": [
    "<div class=\"result\" markdown>\n",
    "\n",
    "```txt\n",
    "Product Popularity: 78\n",
    "```\n",
    "\n",
    "```txt\n",
    "      category  product_id  total_quantity  rank\n",
    "0        Books          11              14     1\n",
    "1     Clothing           7               9     1\n",
    "2  Electronics          37              16     1\n",
    "3         Food          45              34     1\n",
    "4         Home           3              10     1\n",
    "5        Books          28               9     2\n",
    "6     Clothing          35               8     2\n",
    "7  Electronics          35              11     2\n",
    "8         Food           1              16     2\n",
    "9         Home          48               5     2\n",
    "```\n",
    "\n",
    "|      | category    | product_id | total_quantity | rank |\n",
    "| ---: | :---------- | ---------: | -------------: | ---: |\n",
    "|    0 | Books       |         11 |             14 |    1 |\n",
    "|    1 | Clothing    |          7 |              9 |    1 |\n",
    "|    2 | Electronics |         37 |             16 |    1 |\n",
    "|    3 | Food        |         45 |             34 |    1 |\n",
    "|    4 | Home        |          3 |             10 |    1 |\n",
    "|    5 | Books       |         28 |              9 |    2 |\n",
    "|    6 | Clothing    |         35 |              8 |    2 |\n",
    "|    7 | Electronics |         35 |             11 |    2 |\n",
    "|    8 | Food        |          1 |             16 |    2 |\n",
    "|    9 | Home        |         48 |              5 |    2 |\n",
    "\n",
    "</div>\n",
    "\n",
    "### PySpark\n",
    "\n",
    "In PySpark, we can use the [`F.dense_rank()`][pyspark-dense_rank] function in combination with the [`Window()`][pyspark-window] class to rank products within each category based on the total quantity sold. We can define the partitioning by using the [`.partitionBy()`][pyspark-window-partitionby] method and parse'ing in the `\"category\"` column. We can then define the ordering by using the [`.orderBy()`][pyspark-window-orderby] method and parse'ing in the `\"total_quantity\"` expression to order the products by total quantity sold in descending order with the [`F.desc()`][pyspark-desc] method.\n",
    "\n",
    "Here, we have also provided an alternative way to define the rank by using the Spark SQL method. The outcome is the same, it's simply written in a SQL-like expression."
   ]
  },
  {
   "cell_type": "code",
   "execution_count": null,
   "id": "aa27e637",
   "metadata": {
    "incorrectly_encoded_metadata": "{.pyspark linenums=\"1\" title=\"Rank products by quantity sold, by category\"}"
   },
   "outputs": [
    {
     "name": "stdout",
     "output_type": "stream",
     "text": [
      "Product Popularity Summary: 78\n",
      "+-----------+----------+--------------+------+------+\n",
      "|   category|product_id|total_quantity|rank_p|rank_s|\n",
      "+-----------+----------+--------------+------+------+\n",
      "|   Clothing|         7|             9|     1|     1|\n",
      "|      Books|        11|            14|     1|     1|\n",
      "|Electronics|        37|            16|     1|     1|\n",
      "|       Food|        45|            34|     1|     1|\n",
      "|       Home|         3|            10|     1|     1|\n",
      "|      Books|        28|             9|     2|     2|\n",
      "|Electronics|        35|            11|     2|     2|\n",
      "|       Home|        29|             5|     2|     2|\n",
      "|       Home|        48|             5|     2|     2|\n",
      "|       Home|         9|             5|     2|     2|\n",
      "+-----------+----------+--------------+------+------+\n",
      "only showing top 10 rows\n",
      "\n",
      "|    | category    |   product_id |   total_quantity |   rank_p |   rank_s |\n",
      "|---:|:------------|-------------:|-----------------:|---------:|---------:|\n",
      "|  0 | Clothing    |            7 |                9 |        1 |        1 |\n",
      "|  1 | Books       |           11 |               14 |        1 |        1 |\n",
      "|  2 | Electronics |           37 |               16 |        1 |        1 |\n",
      "|  3 | Food        |           45 |               34 |        1 |        1 |\n",
      "|  4 | Home        |            3 |               10 |        1 |        1 |\n",
      "|  5 | Books       |           28 |                9 |        2 |        2 |\n",
      "|  6 | Clothing    |           35 |                8 |        2 |        2 |\n",
      "|  7 | Electronics |           35 |               11 |        2 |        2 |\n",
      "|  8 | Food        |            1 |               16 |        2 |        2 |\n",
      "|  9 | Home        |           29 |                5 |        2 |        2 |\n"
     ]
    }
   ],
   "source": [
    "product_popularity_ps: psDataFrame = (\n",
    "    df_sales_ps.groupBy(\"category\", \"product_id\")\n",
    "    .agg(F.sum(\"quantity\").alias(\"total_quantity\"))\n",
    "    .withColumns(\n",
    "        {\n",
    "            \"rank_p\": F.dense_rank().over(Window.partitionBy(\"category\").orderBy(F.desc(\"total_quantity\"))),\n",
    "            \"rank_s\": F.expr(\"DENSE_RANK() OVER (PARTITION BY category ORDER BY total_quantity DESC)\"),\n",
    "        }\n",
    "    )\n",
    "    .orderBy(\"rank_p\")\n",
    ")\n",
    "print(f\"Product Popularity Summary: {product_popularity_ps.count()}\")\n",
    "product_popularity_ps.show(10)\n",
    "print(product_popularity_ps.limit(10).toPandas().to_markdown())"
   ]
  },
  {
   "cell_type": "markdown",
   "id": "580d8915",
   "metadata": {},
   "source": [
    "<div class=\"result\" markdown>\n",
    "\n",
    "```txt\n",
    "Product Popularity Summary: 78\n",
    "```\n",
    "\n",
    "```txt\n",
    "+-----------+----------+--------------+------+------+\n",
    "|   category|product_id|total_quantity|rank_p|rank_s|\n",
    "+-----------+----------+--------------+------+------+\n",
    "|   Clothing|         7|             9|     1|     1|\n",
    "|      Books|        11|            14|     1|     1|\n",
    "|Electronics|        37|            16|     1|     1|\n",
    "|       Food|        45|            34|     1|     1|\n",
    "|       Home|         3|            10|     1|     1|\n",
    "|      Books|        28|             9|     2|     2|\n",
    "|Electronics|        35|            11|     2|     2|\n",
    "|       Home|        29|             5|     2|     2|\n",
    "|       Home|        48|             5|     2|     2|\n",
    "|       Home|         9|             5|     2|     2|\n",
    "+-----------+----------+--------------+------+------+\n",
    "only showing top 10 rows\n",
    "```\n",
    "\n",
    "|      | category    | product_id | total_quantity | rank_p | rank_s |\n",
    "| ---: | :---------- | ---------: | -------------: | -----: | -----: |\n",
    "|    0 | Clothing    |          7 |              9 |      1 |      1 |\n",
    "|    1 | Books       |         11 |             14 |      1 |      1 |\n",
    "|    2 | Electronics |         37 |             16 |      1 |      1 |\n",
    "|    3 | Food        |         45 |             34 |      1 |      1 |\n",
    "|    4 | Home        |          3 |             10 |      1 |      1 |\n",
    "|    5 | Books       |         28 |              9 |      2 |      2 |\n",
    "|    6 | Clothing    |         35 |              8 |      2 |      2 |\n",
    "|    7 | Electronics |         35 |             11 |      2 |      2 |\n",
    "|    8 | Food        |          1 |             16 |      2 |      2 |\n",
    "|    9 | Home        |         29 |              5 |      2 |      2 |\n",
    "\n",
    "</div>\n",
    "\n",
    "### Polars\n",
    "\n",
    "In Polars, we can use the [`.rank()`][polars-rank] method to rank products within each category based on the total quantity sold. We first group the sales data by `category` and `product_id`, then aggregate the data for the [`.sum()`][polars-groupby-sum] of the `quantity` to find the `total_quantity` sold for each product. After that, we can use the [`.rank()`][polars-rank] method to rank the products within each category based on the total quantity sold. Finally, we can define the partitioning by using the [`.over()`][polars-over] method and parse'ing in `partition_by=\"category\"`."
   ]
  },
  {
   "cell_type": "code",
   "execution_count": 92,
   "id": "2f2fb319",
   "metadata": {
    "incorrectly_encoded_metadata": "{.polars linenums=\"1\" title=\"Rank products by quantity sold, by category\"}"
   },
   "outputs": [
    {
     "name": "stdout",
     "output_type": "stream",
     "text": [
      "Product Popularity Summary: 78\n",
      "shape: (10, 4)\n",
      "┌─────────────┬────────────┬────────────────┬──────┐\n",
      "│ category    ┆ product_id ┆ total_quantity ┆ rank │\n",
      "│ ---         ┆ ---        ┆ ---            ┆ ---  │\n",
      "│ str         ┆ i64        ┆ i64            ┆ u32  │\n",
      "╞═════════════╪════════════╪════════════════╪══════╡\n",
      "│ Books       ┆ 11         ┆ 14             ┆ 1    │\n",
      "│ Clothing    ┆ 7          ┆ 9              ┆ 1    │\n",
      "│ Electronics ┆ 37         ┆ 16             ┆ 1    │\n",
      "│ Food        ┆ 45         ┆ 34             ┆ 1    │\n",
      "│ Home        ┆ 3          ┆ 10             ┆ 1    │\n",
      "│ Books       ┆ 28         ┆ 9              ┆ 2    │\n",
      "│ Clothing    ┆ 35         ┆ 8              ┆ 2    │\n",
      "│ Electronics ┆ 35         ┆ 11             ┆ 2    │\n",
      "│ Food        ┆ 1          ┆ 16             ┆ 2    │\n",
      "│ Home        ┆ 29         ┆ 5              ┆ 2    │\n",
      "└─────────────┴────────────┴────────────────┴──────┘\n",
      "|    | category    |   product_id |   total_quantity |   rank |\n",
      "|---:|:------------|-------------:|-----------------:|-------:|\n",
      "|  0 | Books       |           11 |               14 |      1 |\n",
      "|  1 | Clothing    |            7 |                9 |      1 |\n",
      "|  2 | Electronics |           37 |               16 |      1 |\n",
      "|  3 | Food        |           45 |               34 |      1 |\n",
      "|  4 | Home        |            3 |               10 |      1 |\n",
      "|  5 | Books       |           28 |                9 |      2 |\n",
      "|  6 | Clothing    |           35 |                8 |      2 |\n",
      "|  7 | Electronics |           35 |               11 |      2 |\n",
      "|  8 | Food        |            1 |               16 |      2 |\n",
      "|  9 | Home        |           29 |                5 |      2 |\n"
     ]
    }
   ],
   "source": [
    "product_popularity_pl: pl.DataFrame = (\n",
    "    df_sales_pl.group_by(\"category\", \"product_id\")\n",
    "    .agg(pl.sum(\"quantity\").alias(\"total_quantity\"))\n",
    "    .with_columns(\n",
    "        pl.col(\"total_quantity\").rank(method=\"dense\", descending=True).over(partition_by=\"category\").alias(\"rank\")\n",
    "    )\n",
    "    .sort(\"rank\", \"category\")\n",
    ")\n",
    "print(f\"Product Popularity Summary: {len(product_popularity_pl)}\")\n",
    "print(product_popularity_pl.head(10))\n",
    "print(product_popularity_pl.head(10).to_pandas().to_markdown())"
   ]
  },
  {
   "cell_type": "markdown",
   "id": "9c784524",
   "metadata": {},
   "source": [
    "<div class=\"result\" markdown>\n",
    "\n",
    "```txt\n",
    "Product Popularity Summary: 78\n",
    "```\n",
    "\n",
    "```txt\n",
    "shape: (10, 4)\n",
    "┌─────────────┬────────────┬────────────────┬──────┐\n",
    "│ category    ┆ product_id ┆ total_quantity ┆ rank │\n",
    "│ ---         ┆ ---        ┆ ---            ┆ ---  │\n",
    "│ str         ┆ i64        ┆ i64            ┆ u32  │\n",
    "╞═════════════╪════════════╪════════════════╪══════╡\n",
    "│ Books       ┆ 11         ┆ 14             ┆ 1    │\n",
    "│ Clothing    ┆ 7          ┆ 9              ┆ 1    │\n",
    "│ Electronics ┆ 37         ┆ 16             ┆ 1    │\n",
    "│ Food        ┆ 45         ┆ 34             ┆ 1    │\n",
    "│ Home        ┆ 3          ┆ 10             ┆ 1    │\n",
    "│ Books       ┆ 28         ┆ 9              ┆ 2    │\n",
    "│ Clothing    ┆ 35         ┆ 8              ┆ 2    │\n",
    "│ Electronics ┆ 35         ┆ 11             ┆ 2    │\n",
    "│ Food        ┆ 1          ┆ 16             ┆ 2    │\n",
    "│ Home        ┆ 48         ┆ 5              ┆ 2    │\n",
    "└─────────────┴────────────┴────────────────┴──────┘\n",
    "```\n",
    "\n",
    "|      | category    | product_id | total_quantity | rank |\n",
    "| ---: | :---------- | ---------: | -------------: | ---: |\n",
    "|    0 | Books       |         11 |             14 |    1 |\n",
    "|    1 | Clothing    |          7 |              9 |    1 |\n",
    "|    2 | Electronics |         37 |             16 |    1 |\n",
    "|    3 | Food        |         45 |             34 |    1 |\n",
    "|    4 | Home        |          3 |             10 |    1 |\n",
    "|    5 | Books       |         28 |              9 |    2 |\n",
    "|    6 | Clothing    |         35 |              8 |    2 |\n",
    "|    7 | Electronics |         35 |             11 |    2 |\n",
    "|    8 | Food        |          1 |             16 |    2 |\n",
    "|    9 | Home        |         48 |              5 |    2 |\n",
    "\n",
    "</div>"
   ]
  },
  {
   "cell_type": "markdown",
   "id": "5318e95e",
   "metadata": {},
   "source": [
    "## Conclusion\n",
    "\n",
    "This comprehensive guide has demonstrated how to perform essential data querying and manipulation operations across four powerful tools: [Pandas], [SQL][sqlite], [PySpark], and [Polars]. Each tool brings unique advantages to the data processing landscape, and understanding their strengths helps you choose the right tool for your specific use case."
   ]
  },
  {
   "cell_type": "markdown",
   "id": "9dffefed",
   "metadata": {},
   "source": [
    "### Tool Comparison and Use Cases\n",
    "\n",
    "<div class=\"grid cards\" markdown>\n",
    "\n",
    "-   [**Pandas**][pandas] has an extensive ecosystem, making it ideal for:\n",
    "\n",
    "- Small to medium datasets (up to millions of rows)\n",
    "- Interactive data exploration and visualization\n",
    "- Data preprocessing for machine learning workflows\n",
    "- Quick statistical analysis and reporting\n",
    "\n",
    "---\n",
    "\n",
    "**Pandas** remains the go-to choice for exploratory data analysis and rapid prototyping.\n",
    "\n",
    "-   [**SQL**][sqlite] excels in:\n",
    "\n",
    "- Working with relational databases and data warehouses\n",
    "- Complex joins and subqueries\n",
    "- Declarative data transformations\n",
    "- Team environments where SQL knowledge is widespread\n",
    "\n",
    "---\n",
    "\n",
    "**SQL** provides the universal language of data with unmatched expressiveness for complex queries\n",
    "\n",
    "-   [**PySpark**][pyspark] is great for when you need:\n",
    "\n",
    "- Processing datasets that don't fit in memory (terabytes or larger)\n",
    "- Distributed computing across clusters\n",
    "- Integration with Hadoop ecosystem components\n",
    "- Scalable machine learning with MLlib\n",
    "\n",
    "---\n",
    "\n",
    "**PySpark** unlocks the power of distributed computing for big data scenarios.\n",
    "\n",
    "-   [**Polars**][polars] is particularly valuable for:\n",
    "\n",
    "- Large datasets that require fast processing (gigabytes to small terabytes)\n",
    "- Performance-critical applications\n",
    "- Memory-constrained environments\n",
    "- Lazy evaluation and query optimization\n",
    "\n",
    "---\n",
    "\n",
    "**Polars** emerges as the high-performance alternative with excellent memory efficiency.\n",
    "\n",
    "</div>"
   ]
  },
  {
   "cell_type": "markdown",
   "id": "abf44c37",
   "metadata": {},
   "source": [
    "### Key Techniques Covered\n",
    "\n",
    "Throughout this guide, we've explored fundamental data manipulation patterns that remain consistent across all tools:\n",
    "\n",
    "1. **Data Filtering and Selection** - Essential for subsetting data based on conditions\n",
    "2. **Grouping and Aggregation** - Critical for summarizing data by categories\n",
    "3. **Joining and Merging** - Necessary for combining data from multiple sources\n",
    "4. **Window Functions** - Powerful for time-series analysis and advanced calculations\n",
    "5. **Ranking and Partitioning** - Useful for identifying top performers and comparative analysis"
   ]
  },
  {
   "cell_type": "markdown",
   "id": "2f498114",
   "metadata": {},
   "source": [
    "### Best Practices and Recommendations\n",
    "\n",
    "When working with any of these tools, consider these best practices:\n",
    "\n",
    "- **Start with the right tool**: Match your tool choice to your data size, infrastructure, and team expertise\n",
    "- **Understand your data**: Always examine data types, null values, and distributions before processing\n",
    "- **Optimize for readability**: Write clear, well-documented code that your future self and teammates can understand\n",
    "- **Profile performance**: Measure execution time and memory usage, especially for large datasets\n",
    "- **Leverage built-in optimizations**: Use vectorized operations, avoid loops, and take advantage of lazy evaluation where available"
   ]
  },
  {
   "cell_type": "markdown",
   "id": "52ef3c85",
   "metadata": {},
   "source": [
    "### Moving Forward\n",
    "\n",
    "The data landscape continues to evolve rapidly, with new tools and techniques emerging regularly. The fundamental concepts demonstrated in this guide—filtering, grouping, joining, and analytical functions—remain constant across platforms. By mastering these core concepts, you'll be well-equipped to adapt to new tools and technologies as they arise.\n",
    "\n",
    "Whether you're analyzing customer behavior, processing sensor data, or building machine learning models, the techniques in this guide provide a solid foundation for effective data manipulation. Remember that the best tool is often the one that best fits your specific requirements for performance, scalability, and team capabilities.\n",
    "\n",
    "Continue practicing with real datasets, explore advanced features of each tool, and stay curious about emerging technologies in the data processing ecosystem. The skills you've learned here will serve as building blocks for increasingly sophisticated data analysis and engineering tasks."
   ]
  },
  {
   "cell_type": "markdown",
   "id": "79f58dac",
   "metadata": {},
   "source": [
    "<!--\n",
    "-- ------------------------ --\n",
    "--  Shortcuts & Hyperlinks  --\n",
    "-- ------------------------ --\n",
    "-->\n",
    "\n",
    "<!-- Python -->\n",
    "[python-print]: https://docs.python.org/3/library/functions.html#print\n",
    "[python-class-instantiation]: https://docs.python.org/3/tutorial/classes.html#:~:text=example%20class%22.-,Class%20instantiation,-uses%20function%20notation\n",
    "[numpy]: https://numpy.org/\n",
    "\n",
    "<!-- Storage -->\n",
    "[hdfs]: https://hadoop.apache.org/docs/r1.2.1/hdfs_design.html\n",
    "[s3]: https://aws.amazon.com/s3/\n",
    "[adls]: https://learn.microsoft.com/en-us/azure/storage/blobs/data-lake-storage-introduction\n",
    "[jdbc]: https://spark.apache.org/docs/latest/sql-data-sources-jdbc.html\n",
    "\n",
    "<!-- Guides -->\n",
    "[analysing-window-functions]: https://docs.snowflake.com/en/user-guide/functions-window-using\n",
    "[visualising-window-functions]: https://medium.com/learning-sql/sql-window-function-visualized-fff1927f00f2\n",
    "\n",
    "<!-- Pandas -->\n",
    "[pandas]: https://pandas.pydata.org/\n",
    "[pandas-head]: https://pandas.pydata.org/docs/reference/api/pandas.DataFrame.head.html\n",
    "[pandas-read_sql]: https://pandas.pydata.org/docs/reference/api/pandas.read_sql.html\n",
    "[pandas-subsetting]: https://pandas.pydata.org/docs/getting_started/intro_tutorials/03_subset_data.html\n",
    "[pandas-agg]: https://pandas.pydata.org/docs/reference/api/pandas.DataFrame.agg.html\n",
    "[pandas-groupby]: https://pandas.pydata.org/docs/reference/api/pandas.DataFrame.groupby.html\n",
    "[pandas-groupby-agg]: https://pandas.pydata.org/docs/reference/api/pandas.core.groupby.DataFrameGroupBy.agg.html\n",
    "[pandas-groupby-sum]: https://pandas.pydata.org/docs/reference/api/pandas.core.groupby.DataFrameGroupBy.sum.html\n",
    "[pandas-columns]: https://pandas.pydata.org/docs/reference/api/pandas.DataFrame.columns.html\n",
    "[pandas-rename]: https://pandas.pydata.org/docs/reference/api/pandas.DataFrame.rename.html\n",
    "[pandas-reset_index]: https://pandas.pydata.org/docs/reference/api/pandas.DataFrame.reset_index.html\n",
    "[pandas-merge]: https://pandas.pydata.org/docs/reference/api/pandas.merge.html\n",
    "[pandas-shift]: https://pandas.pydata.org/docs/reference/api/pandas.DataFrame.shift.html\n",
    "[pandas-sort_values]: https://pandas.pydata.org/docs/reference/api/pandas.DataFrame.sort_values.html\n",
    "[pandas-pct_change]: https://pandas.pydata.org/docs/reference/api/pandas.DataFrame.pct_change.html\n",
    "[pandas-rolling]: https://pandas.pydata.org/docs/reference/api/pandas.DataFrame.rolling.html\n",
    "[pandas-rolling-mean]: https://pandas.pydata.org/docs/reference/api/pandas.core.window.rolling.Rolling.mean.html\n",
    "[pandas-rank]: https://pandas.pydata.org/docs/reference/api/pandas.DataFrame.rank.html\n",
    "[pandas-assign]: https://pandas.pydata.org/docs/reference/api/pandas.DataFrame.assign.html\n",
    "\n",
    "<!-- SQL -->\n",
    "[postgresql]: https://www.postgresql.org/\n",
    "[mysql]: https://www.mysql.com/\n",
    "[t-sql]: https://learn.microsoft.com/en-us/sql/t-sql/\n",
    "[pl-sql]: https://www.oracle.com/au/database/technologies/appdev/plsql.html\n",
    "[sql-wiki]: https://en.wikipedia.org/wiki/SQL\n",
    "[sql-iso]: https://www.iso.org/standard/76583.html\n",
    "[sqlite]: https://sqlite.org/\n",
    "[sqlite3]: https://docs.python.org/3/library/sqlite3.html\n",
    "[sqlite3-connect]: https://docs.python.org/3/library/sqlite3.html#sqlite3.connect\n",
    "[sqlite-where]: https://sqlite.org/lang_select.html#whereclause\n",
    "[sqlite-select]: https://sqlite.org/lang_select.html\n",
    "[sqlite-tutorial-join]: https://www.sqlitetutorial.net/sqlite-join/\n",
    "\n",
    "<!-- SQL -->\n",
    "[spark-sql]: https://spark.apache.org/sql/\n",
    "[pyspark]: https://spark.apache.org/docs/latest/api/python/\n",
    "[pyspark-sparksession]: https://spark.apache.org/docs/latest/api/python/reference/pyspark.sql/api/pyspark.sql.SparkSession.html\n",
    "[pyspark-builder]: https://spark.apache.org/docs/latest/api/python/reference/pyspark.sql/api/pyspark.sql.SparkSession.html#pyspark.sql.SparkSession.builder\n",
    "[pyspark-getorcreate]: https://spark.apache.org/docs/latest/api/python/reference/pyspark.sql/api/pyspark.sql.SparkSession.builder.getOrCreate.html\n",
    "[pyspark-createdataframe]: https://spark.apache.org/docs/latest/api/python/reference/pyspark.sql/api/pyspark.sql.SparkSession.createDataFrame.html\n",
    "[pyspark-show]: https://spark.apache.org/docs/latest/api/python/reference/pyspark.sql/api/pyspark.sql.DataFrame.show.html\n",
    "[pyspark-create-dataframe-from-dict]: https://sparkbyexamples.com/pyspark/pyspark-create-dataframe-from-dictionary/\n",
    "[pyspark-filter]: https://spark.apache.org/docs/latest/api/python/reference/pyspark.sql/api/pyspark.sql.DataFrame.filter.html\n",
    "[pyspark-where]: https://spark.apache.org/docs/latest/api/python/reference/pyspark.sql/api/pyspark.sql.DataFrame.where.html\n",
    "[pyspark-filtering]: https://sparkbyexamples.com/pyspark/pyspark-where-filter/\n",
    "[pyspark-select]: https://spark.apache.org/docs/latest/api/python/reference/pyspark.sql/api/pyspark.sql.DataFrame.select.html\n",
    "[pyspark-agg]: https://spark.apache.org/docs/latest/api/python/reference/pyspark.sql/api/pyspark.sql.DataFrame.agg.html\n",
    "[pyspark-groupby]: https://spark.apache.org/docs/latest/api/python/reference/pyspark.sql/api/pyspark.sql.DataFrame.groupBy.html\n",
    "[pyspark-groupby-agg]: https://spark.apache.org/docs/latest/api/python/reference/pyspark.sql/api/pyspark.sql.GroupedData.agg.html\n",
    "[pyspark-withcolumnsrenamed]: https://spark.apache.org/docs/latest/api/python/reference/pyspark.sql/api/pyspark.sql.DataFrame.withColumnsRenamed.html\n",
    "[pyspark-topandas]: https://spark.apache.org/docs/latest/api/python/reference/pyspark.sql/api/pyspark.sql.DataFrame.toPandas.html\n",
    "[pyspark-join]: https://spark.apache.org/docs/latest/api/python/reference/pyspark.sql/api/pyspark.sql.DataFrame.join.html\n",
    "[pyspark-withcolumns]: https://spark.apache.org/docs/latest/api/python/reference/pyspark.sql/api/pyspark.sql.DataFrame.withColumns.html\n",
    "[pyspark-col]: https://spark.apache.org/docs/latest/api/python/reference/pyspark.sql/api/pyspark.sql.functions.col.html\n",
    "[pyspark-expr]: https://spark.apache.org/docs/latest/api/python/reference/pyspark.sql/api/pyspark.sql.functions.expr.html\n",
    "[pyspark-lead]: https://spark.apache.org/docs/latest/api/python/reference/pyspark.sql/api/pyspark.sql.functions.lead.html\n",
    "[pyspark-lag]: https://spark.apache.org/docs/latest/api/python/reference/pyspark.sql/api/pyspark.sql.functions.lag.html\n",
    "[sparksql-lead]: https://spark.apache.org/docs/latest/api/sql/index.html#lead\n",
    "[pyspark-window]: https://spark.apache.org/docs/latest/api/python/reference/pyspark.sql/api/pyspark.sql.Window.html\n",
    "[pyspark-avg]: https://spark.apache.org/docs/latest/api/python/reference/pyspark.sql/api/pyspark.sql.functions.avg.html\n",
    "[pyspark-window-orderby]: https://spark.apache.org/docs/latest/api/python/reference/pyspark.sql/api/pyspark.sql.Window.orderBy.html\n",
    "[pyspark-window-partitionby]: https://spark.apache.org/docs/latest/api/python/reference/pyspark.sql/api/pyspark.sql.Window.partitionBy.html\n",
    "[pyspark-window-rowsbetween]: https://spark.apache.org/docs/latest/api/python/reference/pyspark.sql/api/pyspark.sql.Window.rowsBetween.html\n",
    "[pyspark-dense_rank]: https://spark.apache.org/docs/latest/api/python/reference/pyspark.sql/api/pyspark.sql.functions.dense_rank.html\n",
    "[pyspark-desc]: https://spark.apache.org/docs/latest/api/python/reference/pyspark.sql/api/pyspark.sql.functions.desc.html\n",
    "\n",
    "<!-- Polars -->\n",
    "[polars]: https://www.pola.rs/\n",
    "[polars-head]: https://docs.pola.rs/api/python/stable/reference/dataframe/api/polars.DataFrame.head.html\n",
    "[polars-filter]: https://docs.pola.rs/api/python/stable/reference/dataframe/api/polars.DataFrame.filter.html\n",
    "[polars-filtering]: https://docs.pola.rs/user-guide/transformations/time-series/filter/\n",
    "[polars-col]: https://docs.pola.rs/api/python/stable/reference/expressions/col.html\n",
    "[polars-select]: https://docs.pola.rs/api/python/stable/reference/dataframe/api/polars.DataFrame.select.html\n",
    "[polars-groupby]: https://docs.pola.rs/api/python/stable/reference/dataframe/api/polars.DataFrame.group_by.html\n",
    "[polars-groupby-agg]: https://docs.pola.rs/api/python/stable/reference/dataframe/api/polars.dataframe.group_by.GroupBy.agg.html\n",
    "[polars-groupby-sum]: https://docs.pola.rs/api/python/stable/reference/dataframe/api/polars.dataframe.group_by.GroupBy.sum.html\n",
    "[polars-rename]: https://docs.pola.rs/api/python/stable/reference/dataframe/api/polars.DataFrame.rename.html\n",
    "[polars-join]: https://docs.pola.rs/api/python/stable/reference/dataframe/api/polars.DataFrame.join.html\n",
    "[polars-with-columns]: https://docs.pola.rs/api/python/stable/reference/dataframe/api/polars.DataFrame.with_columns.html\n",
    "[polars-shift]: https://docs.pola.rs/api/python/stable/reference/dataframe/api/polars.DataFrame.shift.html\n",
    "[polars-sort]: https://docs.pola.rs/api/python/stable/reference/dataframe/api/polars.DataFrame.sort.html\n",
    "[polars-rolling-mean]: https://docs.pola.rs/api/python/dev/reference/expressions/api/polars.Expr.rolling_mean.html\n",
    "[polars-rank]: https://docs.pola.rs/api/python/dev/reference/expressions/api/polars.Expr.rank.html\n",
    "[polars-over]: https://docs.pola.rs/api/python/dev/reference/expressions/api/polars.Expr.over.html\n",
    "\n",
    "<!-- Plotly -->\n",
    "[plotly]: https://plotly.com/python/\n",
    "[plotly-express]: https://plotly.com/python/plotly-express/\n",
    "[plotly-bar]: https://plotly.com/python/bar-charts/\n",
    "[plotly-figure]: https://plotly.com/python/creating-and-updating-figures/#figures-as-graph-objects\n",
    "[plotly-add-traces]: https://plotly.com/python/creating-and-updating-figures/#adding-traces\n",
    "[plotly-scatter]: https://plotly.com/python/line-and-scatter/\n",
    "[plotly-update_layout]: https://plotly.com/python/reference/layout/"
   ]
  }
 ],
 "metadata": {
  "jupytext": {
   "cell_metadata_filter": "incorrectly_encoded_metadata,-all",
   "cell_metadata_json": true,
   "main_language": "python",
   "notebook_metadata_filter": "-all"
  },
  "kernelspec": {
   "display_name": "data-science-extensions",
   "language": "python",
   "name": "python3"
  },
  "language_info": {
   "codemirror_mode": {
    "name": "ipython",
    "version": 3
   },
   "file_extension": ".py",
   "mimetype": "text/x-python",
   "name": "python",
   "nbconvert_exporter": "python",
   "pygments_lexer": "ipython3",
   "version": "3.13.2"
  }
 },
 "nbformat": 4,
 "nbformat_minor": 5
}
